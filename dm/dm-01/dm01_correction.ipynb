{
 "cells": [
  {
   "cell_type": "markdown",
   "metadata": {},
   "source": [
    "# DM n° 1"
   ]
  },
  {
   "cell_type": "markdown",
   "metadata": {},
   "source": [
    "---\n",
    "### Exercice 1"
   ]
  },
  {
   "cell_type": "code",
   "execution_count": 1,
   "metadata": {},
   "outputs": [],
   "source": [
    "def plus_grand(a, b, c):\n",
    "    \"\"\"Renvoie le plus grand des trois nombres a, b et c passés en paramètre.\"\"\"\n",
    "\n",
    "    if a >= b and a >= c:\n",
    "        return a\n",
    "    elif b >= a and b >= c:\n",
    "        return b\n",
    "    else:\n",
    "        return c"
   ]
  },
  {
   "cell_type": "markdown",
   "metadata": {},
   "source": [
    "La moindre des choses est de s'assurer que l'évalutation de la cellule contenant la réponse (ci-dessus) ne provoque aucune erreur.\n",
    "\n",
    "Mais ce n'est pas suffisant: il faut aussi tester le code afin de s'assurer de sa correction. La cellule ci-dessous est là pour cela, il fallait s'en servir"
   ]
  },
  {
   "cell_type": "code",
   "execution_count": 2,
   "metadata": {},
   "outputs": [
    {
     "name": "stdout",
     "output_type": "stream",
     "text": [
      "Tous les tests ont été passés avec succès !\n"
     ]
    }
   ],
   "source": [
    "try:\n",
    "    # On teste que les 6 permutations renvoient le bon résultat:\n",
    "    for a, b, c in [(1, 2, 3), (1, 3, 2), (2, 1, 3), (2, 3, 1), (3, 1, 2), (3, 2, 1)]:\n",
    "        assert plus_grand(a, b, c) == 3, \"plus_grand({},{},{}) donne {}\".format(a, b, c, plus_grand(a, b, c))\n",
    "\n",
    "    # Puis on effectue quelques tests aléatoires\n",
    "    from random import randint\n",
    "    for N in range(100):\n",
    "        a = randint(-100, 100)\n",
    "        b = randint(-100, 100)\n",
    "        c = randint(-100, 100)\n",
    "        assert plus_grand(a, b, c) == max(a, b, c), \"plus_grand({},{},{}) donne {}\".format(a, b, c, plus_grand(a, b, c))\n",
    "except:\n",
    "    raise\n",
    "else:\n",
    "    print(\"Tous les tests ont été passés avec succès !\")"
   ]
  },
  {
   "cell_type": "markdown",
   "metadata": {},
   "source": [
    "---\n",
    "### Exercice 2"
   ]
  },
  {
   "cell_type": "code",
   "execution_count": 3,
   "metadata": {},
   "outputs": [],
   "source": [
    "def trier(a, b, c):\n",
    "    \"\"\"Renvoie les trois nombres a, b, c triés par ordre croissant.\"\"\"\n",
    "\n",
    "    # Un algorithme des plus basique: il y a 6 ordres possibles avec 3 nombres, autant\n",
    "    # être explicite:\n",
    "    if a <= b <= c:\n",
    "        return a, b, c\n",
    "    elif a <= c <= b:\n",
    "        return a, c, b\n",
    "    elif b <= a <= c:\n",
    "        return b, a, c\n",
    "    elif b <= c <= a:\n",
    "        return b, c, a\n",
    "    elif c <= a <= b:\n",
    "        return c, a, b\n",
    "    else:\n",
    "        return c, b, a"
   ]
  },
  {
   "cell_type": "markdown",
   "metadata": {},
   "source": [
    "On teste notre réponse:"
   ]
  },
  {
   "cell_type": "code",
   "execution_count": 4,
   "metadata": {},
   "outputs": [
    {
     "name": "stdout",
     "output_type": "stream",
     "text": [
      "Tous les tests ont été passés avec succès !\n"
     ]
    }
   ],
   "source": [
    "try:\n",
    "    # On teste que les 6 permutations renvoient le bon résultat:\n",
    "    for a, b, c in [(1, 2, 3), (1, 3, 2), (2, 1, 3), (2, 3, 1), (3, 1, 2), (3, 2, 1)]:\n",
    "        assert trier(a, b, c) == (1, 2, 3), \"trier({},{},{}) donne {}\".format(a, b, c, trier(a, b, c))\n",
    "\n",
    "    # Puis on effectue quelques tests aléatoires\n",
    "    from random import randint\n",
    "    for N in range(100):\n",
    "        a = randint(-100, 100)\n",
    "        b = randint(-100, 100)\n",
    "        c = randint(-100, 100)\n",
    "        assert trier(a, b, c) == tuple(sorted([a, b, c])), \"trier({},{},{}) donne {}\".format(a, b, c, trier(a, b, c))\n",
    "except:\n",
    "    raise\n",
    "else:\n",
    "    print(\"Tous les tests ont été passés avec succès !\")"
   ]
  },
  {
   "cell_type": "markdown",
   "metadata": {},
   "source": [
    "---\n",
    "### Exercice 3"
   ]
  },
  {
   "cell_type": "code",
   "execution_count": 5,
   "metadata": {},
   "outputs": [],
   "source": [
    "def sépare_pairs_impairs(liste):\n",
    "    \"\"\"Renvoie la sous-liste des entiers pairs et la sous-liste des entiers impairs de liste.\"\"\"\n",
    "\n",
    "    pairs = []\n",
    "    impairs = []\n",
    "    \n",
    "    for nombre in liste:\n",
    "        if nombre % 2 == 0:\n",
    "            pairs.append(nombre)\n",
    "        else:\n",
    "            impairs.append(nombre)\n",
    "            \n",
    "    return pairs, impairs"
   ]
  },
  {
   "cell_type": "markdown",
   "metadata": {},
   "source": [
    "Et les tests:"
   ]
  },
  {
   "cell_type": "code",
   "execution_count": 6,
   "metadata": {},
   "outputs": [
    {
     "name": "stdout",
     "output_type": "stream",
     "text": [
      "Tous les tests ont été passés avec succès !\n"
     ]
    }
   ],
   "source": [
    "try:\n",
    "    # N'hésitez pas à rajouter d'autres tests sur le modèle ci-dessous\n",
    "    assert sépare_pairs_impairs([]) == ([], [])\n",
    "    assert sépare_pairs_impairs([1, 2, 3, 4, 5, 6]) == ([2, 4, 6], [1, 3, 5])\n",
    "    assert sépare_pairs_impairs([6, 5, 4, 3, 2, 1]) == ([6, 4, 2], [5, 3, 1])\n",
    "    assert sépare_pairs_impairs([2, 6, 4, 8, 10]) == ([2, 6, 4, 8, 10], [])\n",
    "    assert sépare_pairs_impairs([9, 5, 7, 3, 5, 1]) == ([], [9, 5, 7, 3, 5, 1])\n",
    "except:\n",
    "    raise\n",
    "else:\n",
    "    print(\"Tous les tests ont été passés avec succès !\")"
   ]
  },
  {
   "cell_type": "markdown",
   "metadata": {},
   "source": [
    "---\n",
    "### Exercice 4"
   ]
  },
  {
   "cell_type": "code",
   "execution_count": 7,
   "metadata": {},
   "outputs": [],
   "source": [
    "def est_carré_magique(carré):\n",
    "    \"\"\"Renvoie un booléen précisant si carré (de dimension 3x3) est magique ou non.\"\"\"\n",
    "\n",
    "    # On chosit ici d'écrire un algorithme qui fonctionne quel que soit la taille du tableau,\n",
    "    # par uniquement 3x3. Il était bien entendu possible de faire plus simple, tout en respectant\n",
    "    # les consignes de l'énoncé.\n",
    "    \n",
    "    taille = len(carré) # La taille du carré est égal au nombre de lignes\n",
    "    \n",
    "    # On commence par calculer la somme pour la première ligne: elle servira\n",
    "    # à contrôler le reste du carré.\n",
    "    contrôle = 0\n",
    "    for colonne in range(taille):\n",
    "        contrôle = contrôle + carré[0][colonne]\n",
    "        \n",
    "    # On teste alors toutes les lignes (sauf la première, qui a servi à calculer la somme):\n",
    "    for ligne in range(1, taille):\n",
    "        somme = 0\n",
    "        for colonne in range(taille):\n",
    "            somme = somme + carré[ligne][colonne]\n",
    "        if somme != contrôle:\n",
    "            return False\n",
    "        \n",
    "    # On teste les colonnes\n",
    "    for colonne in range(taille):\n",
    "        somme = 0\n",
    "        for ligne in range(taille):\n",
    "            somme = somme + carré[ligne][colonne]\n",
    "        if somme != contrôle:\n",
    "            return False\n",
    "        \n",
    "    # Puis les deux diagonales\n",
    "    d1 = 0\n",
    "    d2 = 0\n",
    "    for indice in range(taille):\n",
    "        d1 = d1 + carré[indice][indice]\n",
    "        d2 = d2 + carré[indice][taille - 1 - indice]\n",
    "        \n",
    "    if (d1 != somme) or (d2 != somme):\n",
    "        return False\n",
    "    \n",
    "    return True"
   ]
  },
  {
   "cell_type": "code",
   "execution_count": 8,
   "metadata": {},
   "outputs": [
    {
     "name": "stdout",
     "output_type": "stream",
     "text": [
      "Tous les tests ont été passés avec succès !\n"
     ]
    }
   ],
   "source": [
    "try:\n",
    "    carré1 = [\n",
    "        [2, 9, 4],\n",
    "        [7, 5, 3],\n",
    "        [6, 1, 8]\n",
    "    ]\n",
    "    \n",
    "    assert est_carré_magique(carré1) == True, \"carré1={} est un carré magique\".format(carré1)\n",
    "    \n",
    "    carré2 = [\n",
    "            [1, 19, 4],\n",
    "            [7, 19, 3],\n",
    "            [4, -1, 8],\n",
    "    ]\n",
    "    \n",
    "    assert est_carré_magique(carré2) == False, \"carré2={} n'est pas un carré magique\".format(carré2)\n",
    "    \n",
    "except:\n",
    "    raise\n",
    "else:\n",
    "    print(\"Tous les tests ont été passés avec succès !\")"
   ]
  },
  {
   "cell_type": "markdown",
   "metadata": {},
   "source": [
    "---\n",
    "### Exercice 5 (facultatif)"
   ]
  },
  {
   "cell_type": "markdown",
   "metadata": {},
   "source": [
    "Programmer un jeu (qui se joue dans la console, avec `print(...)` et `input(...)`) qui s'apparente au **blackjack** mais se joue avec deux dés à 6 faces. Le joueur est opposé à la banque (jouée par l'ordinateur) et le **but est d'atteindre le nombre le plus proche possible de 21 sans jamais dépasser ce total**.\n"
   ]
  },
  {
   "cell_type": "markdown",
   "metadata": {},
   "source": [
    "**Version simple du jeu:** À chaque tour de jeu, le joueur choisit de jouer 0, 1 ou 2 dés.\n",
    "* S'il choisit 0, le jeu s'arrête. Le joueur ayant le score le plus proche de 21 gagne la partie (soit le joueur, soit la banque).\n",
    "* S'il choisit 1 ou 2 dés, il effectue son tirage, et rajoute la somme des dés ainsi obtenus au total dont il disposait déjà (le total initial est bien entendu 0). Le banquier joue avec le même nombre de dés que le joueur et incrémente son propre total.\n",
    "  - Si l'un des deux joueurs dépasse 21, il a perdu et l'autre a gagné.\n",
    "  - Si les deux dépassent 21, la partie est déclarée nulle.\n"
   ]
  },
  {
   "cell_type": "markdown",
   "metadata": {},
   "source": [
    "**Variante intéressante (mais plus difficile à programmer)**:\n",
    "Le banquier ne choisit pas nécessairement le même nombre de dés que le joueur. Le jeu continue tant que l'un des deux joueurs décide de continuer et que personne n'a dépassé 21.\n",
    "\n",
    "Dans ce scénario, le banquier peut très bien tenter un ou plusieurs tirages alors que l'autre joueur a choisi 0 dés. Il n'est pas interdit de rejouer alors que l'on avait passé un ou plusieurs tours auparavant."
   ]
  },
  {
   "cell_type": "code",
   "execution_count": 11,
   "metadata": {},
   "outputs": [
    {
     "name": "stdout",
     "output_type": "stream",
     "text": [
      "--------------------------------------------------------------------------------\n",
      "Étape 1\n",
      "Joueur: 0  -  Banque: 0\n",
      "\n"
     ]
    },
    {
     "name": "stdin",
     "output_type": "stream",
     "text": [
      "Nombre de dés à jouer (1 ou 2 dés, 0 pour arrêter): 2\n"
     ]
    },
    {
     "name": "stdout",
     "output_type": "stream",
     "text": [
      "Le joueur lance 2 dé(s) et obtient 6 points\n",
      "La banque lance 2 dé(s) et obtient 10 points\n",
      "--------------------------------------------------------------------------------\n",
      "Étape 2\n",
      "Joueur: 6  -  Banque: 10\n",
      "\n"
     ]
    },
    {
     "name": "stdin",
     "output_type": "stream",
     "text": [
      "Nombre de dés à jouer (1 ou 2 dés, 0 pour arrêter): 2\n"
     ]
    },
    {
     "name": "stdout",
     "output_type": "stream",
     "text": [
      "Le joueur lance 2 dé(s) et obtient 9 points\n",
      "La banque lance 1 dé(s) et obtient 1 points\n",
      "--------------------------------------------------------------------------------\n",
      "Étape 3\n",
      "Joueur: 15  -  Banque: 11\n",
      "\n"
     ]
    },
    {
     "name": "stdin",
     "output_type": "stream",
     "text": [
      "Nombre de dés à jouer (1 ou 2 dés, 0 pour arrêter): 2\n"
     ]
    },
    {
     "name": "stdout",
     "output_type": "stream",
     "text": [
      "Le joueur lance 2 dé(s) et obtient 4 points\n",
      "La banque lance 1 dé(s) et obtient 4 points\n",
      "--------------------------------------------------------------------------------\n",
      "Étape 4\n",
      "Joueur: 19  -  Banque: 15\n",
      "\n"
     ]
    },
    {
     "name": "stdin",
     "output_type": "stream",
     "text": [
      "Nombre de dés à jouer (1 ou 2 dés, 0 pour arrêter): 0\n"
     ]
    },
    {
     "name": "stdout",
     "output_type": "stream",
     "text": [
      "Le joueur passe son tour\n",
      "La banque lance 1 dé(s) et obtient 3 points\n",
      "--------------------------------------------------------------------------------\n",
      "Étape 5\n",
      "Joueur: 19  -  Banque: 18\n",
      "\n"
     ]
    },
    {
     "name": "stdin",
     "output_type": "stream",
     "text": [
      "Nombre de dés à jouer (1 ou 2 dés, 0 pour arrêter): 0\n"
     ]
    },
    {
     "name": "stdout",
     "output_type": "stream",
     "text": [
      "Le joueur passe son tour\n",
      "La banque lance 1 dé(s) et obtient 1 points\n",
      "--------------------------------------------------------------------------------\n",
      "Étape 6\n",
      "Joueur: 19  -  Banque: 19\n",
      "\n"
     ]
    },
    {
     "name": "stdin",
     "output_type": "stream",
     "text": [
      "Nombre de dés à jouer (1 ou 2 dés, 0 pour arrêter): 0\n"
     ]
    },
    {
     "name": "stdout",
     "output_type": "stream",
     "text": [
      "Le joueur passe son tour\n",
      "La banque passe son tour\n",
      "--------------------------------------------------------------------------------\n",
      "Étape finale\n",
      "Joueur: 19  -  Banque: 19\n",
      "\n",
      "Nous sommes ex aequo\n"
     ]
    }
   ],
   "source": [
    "from random import randint\n",
    "\n",
    "def dé6():\n",
    "    return randint(1, 6)\n",
    "\n",
    "def affiche_état(étape, joueur, banque):\n",
    "    print('-'*80)\n",
    "    print(\"Étape\", étape)\n",
    "    print(\"Joueur:\", joueur, \" -  Banque:\", banque)\n",
    "    print()\n",
    "\n",
    "joueur = 0\n",
    "banque = 0\n",
    "\n",
    "étape = 0\n",
    "continuer = True # Le jeu doit-il continuer ?\n",
    "continuer_joueur = True # Le joueur peut-il encore jouer ? (il peut s'arrêter avant la banque)\n",
    "continuer_banque = True # La banque souhaite-t-elle encore jouer ?\n",
    "while continuer is True:\n",
    "    # Si le joueur avait décidé de s'arrêter à une étape précédente, on lui offre la\n",
    "    # possibilité de rejouer à présent. Après tout, la banque a pu le dépasser\n",
    "    # entre temps\n",
    "    continuer_joueur = True\n",
    "    \n",
    "    étape = étape + 1\n",
    "    affiche_état(étape, joueur, banque)\n",
    "    if continuer_joueur is True:\n",
    "        choix_joueur = -1\n",
    "        while choix_joueur not in [0, 1, 2]:\n",
    "            choix_joueur = int(input(\"Nombre de dés à jouer (1 ou 2 dés, 0 pour arrêter):\"))\n",
    "            \n",
    "        if choix_joueur == 0:\n",
    "            continuer_joueur = False\n",
    "            print(\"Le joueur passe son tour\")\n",
    "        else:\n",
    "            # On rajoute les valeurs du nombre de dés choisi:\n",
    "            jeu = 0\n",
    "            for i in range(choix_joueur):\n",
    "                jeu = jeu + dé6()\n",
    "            joueur = joueur + jeu\n",
    "            print(\"Le joueur lance\", choix_joueur, \"dé(s) et obtient\", jeu, \"points\")\n",
    "            if joueur > 21:\n",
    "                continuer_joueur = False\n",
    "                continuer = False\n",
    "            \n",
    "    if continuer_banque is True and continuer is True:\n",
    "        # Doit-on joueur ?\n",
    "        \n",
    "        # Si le joueur a perdu, autant s'arrêter tout de suite: on a gagné:\n",
    "        if joueur > 21:\n",
    "            continuer_banque = False\n",
    "            continuer = False\n",
    "        else:\n",
    "            # On élimine déjà les cas simples où on ne peut pas perdre quoi qu'il arrive:\n",
    "            if banque < 10:\n",
    "                choix_banque = 2\n",
    "            elif banque < 16:\n",
    "                choix_banque = 1\n",
    "            else:\n",
    "                # Là c'est plus délicat: on peut utiliser des probabilités pour savoir si ça vaut\n",
    "                # raisonnablement le coup de continuer\n",
    "                \n",
    "                # Calcul du risque de perdre si on joue un dé (chaque numéro est équiprobable,\n",
    "                # avec une probabilité de 1/6)\n",
    "                maxi = banque + 6\n",
    "                risque1 = (maxi - 21) * (1/6)\n",
    "                \n",
    "                # Calcul du risque de perdre si on joue deux dés. C'est plus compliqué, car les\n",
    "                # probabilités ne sont pas équiprobables dans ce cas. On peut montrer en \n",
    "                # mathématiques que la probabilité d'obtenir n (compris entre 2 et 12) avec deux dés\n",
    "                # est donnée par la formule (6 - abs(n - 7)) / 36, où abs désigne la valeur absolue\n",
    "                \n",
    "                # On ajoute les probabilités de tous les tirages qui font perdre\n",
    "                risque2 = 0\n",
    "                for double_dés in range(2, 12):\n",
    "                    if banque + double_dés > 21:\n",
    "                        risque2 = risque2 + (6 - abs(double_dés - 7)) / 36\n",
    "                        \n",
    "                # Si la banque mène, on double le risque, afin de l'inciter à ne pas surjouer:\n",
    "                if banque > joueur:\n",
    "                    risque1 = risque1 * 2\n",
    "                    risque2 = risque2 * 2\n",
    "                    \n",
    "                # On joue un ou deux dés, selon le risque le plus faible. On ne joue jamais si le risque\n",
    "                # est supérieur à 50% (nombre arbitraire)\n",
    "                if joueur > banque:\n",
    "                    # Le joueur mène: on joue quoi qu'il arrive, on n'a rien à perdre\n",
    "                    if risque2 > risque1:\n",
    "                        choix_banque = 1\n",
    "                    else:\n",
    "                        choix_banque = 2\n",
    "                elif risque1 > 0.5 and risque2 > 0.5:\n",
    "                    choix_banque = 0\n",
    "                elif risque1 > 0.5:\n",
    "                    choix_banque = 2\n",
    "                elif risque2 > 0.5:\n",
    "                    choix_banque = 1\n",
    "                else:\n",
    "                    if risque1 > risque2:\n",
    "                        choix_banque = 2\n",
    "                    else:\n",
    "                        choix_banque = 1\n",
    "                \n",
    "        if choix_banque == 0:\n",
    "            continuer_banque = False\n",
    "            print(\"La banque passe son tour\")\n",
    "        else:\n",
    "            jeu = 0\n",
    "            for i in range(choix_banque):\n",
    "                jeu = jeu + dé6()\n",
    "            banque = banque + jeu\n",
    "            print(\"La banque lance\", choix_banque, \"dé(s) et obtient\", jeu, \"points\")\n",
    "            if banque > 21:\n",
    "                continuer_banque = False\n",
    "                continuer = False\n",
    "    \n",
    "    if continuer_joueur is False and continuer_banque is False:\n",
    "        continuer = False\n",
    "\n",
    "affiche_état(\"finale\", joueur, banque)\n",
    "        \n",
    "if banque > 21 and joueur > 21:\n",
    "    print(\"Tout le monde a perdu\")\n",
    "elif banque > 21:\n",
    "    print(\"Vous avez gagné, la banque a dépassé 21\")\n",
    "elif joueur > 21:\n",
    "    print(\"J'ai gagné, vous avez dépassé 21\")\n",
    "elif joueur > banque:\n",
    "    print(\"Vous avez gagné\")\n",
    "elif joueur < banque:\n",
    "    print(\"J'ai gagné\")\n",
    "else:\n",
    "    print(\"Nous sommes ex aequo\")\n",
    "    "
   ]
  }
 ],
 "metadata": {
  "kernelspec": {
   "display_name": "Python 3",
   "language": "python",
   "name": "python3"
  },
  "language_info": {
   "codemirror_mode": {
    "name": "ipython",
    "version": 3
   },
   "file_extension": ".py",
   "mimetype": "text/x-python",
   "name": "python",
   "nbconvert_exporter": "python",
   "pygments_lexer": "ipython3",
   "version": "3.7.4"
  }
 },
 "nbformat": 4,
 "nbformat_minor": 4
}

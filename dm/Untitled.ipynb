{
 "cells": [
  {
   "cell_type": "markdown",
   "metadata": {},
   "source": [
    "# DM n° 1"
   ]
  },
  {
   "cell_type": "markdown",
   "metadata": {},
   "source": [
    "---\n",
    "### Exercice 1"
   ]
  },
  {
   "cell_type": "markdown",
   "metadata": {},
   "source": [
    "Écrire une fonction `plus_grand(a, b, c)` prenant pour paramètres trois nombres, et renvoyant le plus grand de ces trois nombres.\n",
    "\n",
    "Il est bien entendu interdit d'utiliser la fonction standard ```max``` du langage python: votre fonction doit être auto-suffisante et n'appeler aucune autre fonction, en dehors des structures standard du langage (conditionnelles, boucles, etc)."
   ]
  },
  {
   "cell_type": "code",
   "execution_count": 24,
   "metadata": {},
   "outputs": [],
   "source": [
    "def plus_grand(a, b, c):\n",
    "    \"\"\"Renvoie le plus grand des trois nombres a, b et c passés en paramètre.\"\"\"\n",
    "\n",
    "        # Supprimer cette ligne ainsi que la suivante pour inclure votre code\n",
    "    pass"
   ]
  },
  {
   "cell_type": "markdown",
   "metadata": {},
   "source": [
    "La cellule python ci-dessous contient des tests permettant de vérifier le bon fonctionnement de votre fonction: si rien n'est affiché, c'est que tout va bien. S'il y a un message d'erreur, c'est que votre fonction ne répond pas au cahier des charges proposé dans l'énoncé.\n",
    "\n",
    "**N'essayez pas de comprendre le code ci-dessous**: il utilise beaucoup de tournures python que nous n'avons pas encore apprises, voire certaines qui seront hors-programme y compris jusqu'en Terminale."
   ]
  },
  {
   "cell_type": "code",
   "execution_count": 25,
   "metadata": {},
   "outputs": [
    {
     "ename": "AssertionError",
     "evalue": "plus_grand(1,2,3) donne None",
     "output_type": "error",
     "traceback": [
      "\u001b[0;31m---------------------------------------------------------------------------\u001b[0m",
      "\u001b[0;31mAssertionError\u001b[0m                            Traceback (most recent call last)",
      "\u001b[0;32m<ipython-input-25-94732d64be57>\u001b[0m in \u001b[0;36m<module>\u001b[0;34m\u001b[0m\n\u001b[1;32m      2\u001b[0m     \u001b[0;31m# On teste que les 6 permutations renvoient le bon résultat:\u001b[0m\u001b[0;34m\u001b[0m\u001b[0;34m\u001b[0m\u001b[0;34m\u001b[0m\u001b[0m\n\u001b[1;32m      3\u001b[0m     \u001b[0;32mfor\u001b[0m \u001b[0ma\u001b[0m\u001b[0;34m,\u001b[0m \u001b[0mb\u001b[0m\u001b[0;34m,\u001b[0m \u001b[0mc\u001b[0m \u001b[0;32min\u001b[0m \u001b[0;34m[\u001b[0m\u001b[0;34m(\u001b[0m\u001b[0;36m1\u001b[0m\u001b[0;34m,\u001b[0m \u001b[0;36m2\u001b[0m\u001b[0;34m,\u001b[0m \u001b[0;36m3\u001b[0m\u001b[0;34m)\u001b[0m\u001b[0;34m,\u001b[0m \u001b[0;34m(\u001b[0m\u001b[0;36m1\u001b[0m\u001b[0;34m,\u001b[0m \u001b[0;36m3\u001b[0m\u001b[0;34m,\u001b[0m \u001b[0;36m2\u001b[0m\u001b[0;34m)\u001b[0m\u001b[0;34m,\u001b[0m \u001b[0;34m(\u001b[0m\u001b[0;36m2\u001b[0m\u001b[0;34m,\u001b[0m \u001b[0;36m1\u001b[0m\u001b[0;34m,\u001b[0m \u001b[0;36m3\u001b[0m\u001b[0;34m)\u001b[0m\u001b[0;34m,\u001b[0m \u001b[0;34m(\u001b[0m\u001b[0;36m2\u001b[0m\u001b[0;34m,\u001b[0m \u001b[0;36m3\u001b[0m\u001b[0;34m,\u001b[0m \u001b[0;36m1\u001b[0m\u001b[0;34m)\u001b[0m\u001b[0;34m,\u001b[0m \u001b[0;34m(\u001b[0m\u001b[0;36m3\u001b[0m\u001b[0;34m,\u001b[0m \u001b[0;36m1\u001b[0m\u001b[0;34m,\u001b[0m \u001b[0;36m2\u001b[0m\u001b[0;34m)\u001b[0m\u001b[0;34m,\u001b[0m \u001b[0;34m(\u001b[0m\u001b[0;36m3\u001b[0m\u001b[0;34m,\u001b[0m \u001b[0;36m2\u001b[0m\u001b[0;34m,\u001b[0m \u001b[0;36m1\u001b[0m\u001b[0;34m)\u001b[0m\u001b[0;34m]\u001b[0m\u001b[0;34m:\u001b[0m\u001b[0;34m\u001b[0m\u001b[0;34m\u001b[0m\u001b[0m\n\u001b[0;32m----> 4\u001b[0;31m         \u001b[0;32massert\u001b[0m \u001b[0mplus_grand\u001b[0m\u001b[0;34m(\u001b[0m\u001b[0ma\u001b[0m\u001b[0;34m,\u001b[0m \u001b[0mb\u001b[0m\u001b[0;34m,\u001b[0m \u001b[0mc\u001b[0m\u001b[0;34m)\u001b[0m \u001b[0;34m==\u001b[0m \u001b[0;36m3\u001b[0m\u001b[0;34m,\u001b[0m \u001b[0;34m\"plus_grand({},{},{}) donne {}\"\u001b[0m\u001b[0;34m.\u001b[0m\u001b[0mformat\u001b[0m\u001b[0;34m(\u001b[0m\u001b[0ma\u001b[0m\u001b[0;34m,\u001b[0m \u001b[0mb\u001b[0m\u001b[0;34m,\u001b[0m \u001b[0mc\u001b[0m\u001b[0;34m,\u001b[0m \u001b[0mplus_grand\u001b[0m\u001b[0;34m(\u001b[0m\u001b[0ma\u001b[0m\u001b[0;34m,\u001b[0m \u001b[0mb\u001b[0m\u001b[0;34m,\u001b[0m \u001b[0mc\u001b[0m\u001b[0;34m)\u001b[0m\u001b[0;34m)\u001b[0m\u001b[0;34m\u001b[0m\u001b[0;34m\u001b[0m\u001b[0m\n\u001b[0m\u001b[1;32m      5\u001b[0m \u001b[0;34m\u001b[0m\u001b[0m\n\u001b[1;32m      6\u001b[0m     \u001b[0;31m# Puis on effectue quelques tests aléatoires\u001b[0m\u001b[0;34m\u001b[0m\u001b[0;34m\u001b[0m\u001b[0;34m\u001b[0m\u001b[0m\n",
      "\u001b[0;31mAssertionError\u001b[0m: plus_grand(1,2,3) donne None"
     ]
    }
   ],
   "source": [
    "try:\n",
    "    # On teste que les 6 permutations renvoient le bon résultat:\n",
    "    for a, b, c in [(1, 2, 3), (1, 3, 2), (2, 1, 3), (2, 3, 1), (3, 1, 2), (3, 2, 1)]:\n",
    "        assert plus_grand(a, b, c) == 3, \"plus_grand({},{},{}) donne {}\".format(a, b, c, plus_grand(a, b, c))\n",
    "\n",
    "    # Puis on effectue quelques tests aléatoires\n",
    "    from random import randint\n",
    "    for N in range(100):\n",
    "        a = randint(-100, 100)\n",
    "        b = randint(-100, 100)\n",
    "        c = randint(-100, 100)\n",
    "        assert plus_grand(a, b, c) == max(a, b, c), \"plus_grand({},{},{}) donne {}\".format(a, b, c, plus_grand(a, b, c))\n",
    "except:\n",
    "    raise\n",
    "else:\n",
    "    print(\"Tous les tests ont été passés avec succès !\")"
   ]
  },
  {
   "cell_type": "code",
   "execution_count": null,
   "metadata": {},
   "outputs": [],
   "source": []
  },
  {
   "cell_type": "markdown",
   "metadata": {},
   "source": [
    "---\n",
    "### Exercice 2"
   ]
  },
  {
   "cell_type": "markdown",
   "metadata": {},
   "source": [
    "Écrire une fonction `trier(a, b, c)` prenant pour paramètres trois nombres, et renvoyant ces mêmes nombres triés dans l'ordre croissant.\n",
    "\n",
    "Il est bien entendu interdit d'utiliser la fonction standard du langage python servant à trier des listes (pour ceux qui auraient eu vent de son existence et auraient été tentés de l'utiliser). Votre fonction doit être autosuffisante et ne pas en appeler d'autre.\n",
    "\n",
    "Pour renvoyer plusieurs valeurs à la fin d'une fonction, il suffit d'utiliser la syntaxe ```return <variable1>, <variable2>, <variable3>```."
   ]
  },
  {
   "cell_type": "code",
   "execution_count": 17,
   "metadata": {},
   "outputs": [],
   "source": [
    "def trier(a, b, c):\n",
    "    \"\"\"Renvoie les trois nombres a, b, c triés par ordre croissant.\"\"\"\n",
    "\n",
    "    # Supprimer cette ligne ainsi que la suivante pour inclure votre code\n",
    "    pass"
   ]
  },
  {
   "cell_type": "markdown",
   "metadata": {},
   "source": [
    "La cellule python ci-dessous contient des tests permettant de vérifier le bon fonctionnement de votre fonction: si rien n'est affiché, c'est que tout va bien. S'il y a un message d'erreur, c'est que votre fonction ne répond pas au cahier des charges proposé dans l'énoncé.\n",
    "\n",
    "**N'essayez pas de comprendre le code ci-dessous**: il utilise beaucoup de tournures python que nous n'avons pas encore apprises, voire certaines qui seront hors-programme y compris jusqu'en Terminale."
   ]
  },
  {
   "cell_type": "code",
   "execution_count": 20,
   "metadata": {},
   "outputs": [
    {
     "ename": "AssertionError",
     "evalue": "trier(1,2,3) donne None",
     "output_type": "error",
     "traceback": [
      "\u001b[0;31m---------------------------------------------------------------------------\u001b[0m",
      "\u001b[0;31mAssertionError\u001b[0m                            Traceback (most recent call last)",
      "\u001b[0;32m<ipython-input-20-0490987bd98b>\u001b[0m in \u001b[0;36m<module>\u001b[0;34m\u001b[0m\n\u001b[1;32m      2\u001b[0m     \u001b[0;31m# On teste que les 6 permutations renvoient le bon résultat:\u001b[0m\u001b[0;34m\u001b[0m\u001b[0;34m\u001b[0m\u001b[0;34m\u001b[0m\u001b[0m\n\u001b[1;32m      3\u001b[0m     \u001b[0;32mfor\u001b[0m \u001b[0ma\u001b[0m\u001b[0;34m,\u001b[0m \u001b[0mb\u001b[0m\u001b[0;34m,\u001b[0m \u001b[0mc\u001b[0m \u001b[0;32min\u001b[0m \u001b[0;34m[\u001b[0m\u001b[0;34m(\u001b[0m\u001b[0;36m1\u001b[0m\u001b[0;34m,\u001b[0m \u001b[0;36m2\u001b[0m\u001b[0;34m,\u001b[0m \u001b[0;36m3\u001b[0m\u001b[0;34m)\u001b[0m\u001b[0;34m,\u001b[0m \u001b[0;34m(\u001b[0m\u001b[0;36m1\u001b[0m\u001b[0;34m,\u001b[0m \u001b[0;36m3\u001b[0m\u001b[0;34m,\u001b[0m \u001b[0;36m2\u001b[0m\u001b[0;34m)\u001b[0m\u001b[0;34m,\u001b[0m \u001b[0;34m(\u001b[0m\u001b[0;36m2\u001b[0m\u001b[0;34m,\u001b[0m \u001b[0;36m1\u001b[0m\u001b[0;34m,\u001b[0m \u001b[0;36m3\u001b[0m\u001b[0;34m)\u001b[0m\u001b[0;34m,\u001b[0m \u001b[0;34m(\u001b[0m\u001b[0;36m2\u001b[0m\u001b[0;34m,\u001b[0m \u001b[0;36m3\u001b[0m\u001b[0;34m,\u001b[0m \u001b[0;36m1\u001b[0m\u001b[0;34m)\u001b[0m\u001b[0;34m,\u001b[0m \u001b[0;34m(\u001b[0m\u001b[0;36m3\u001b[0m\u001b[0;34m,\u001b[0m \u001b[0;36m1\u001b[0m\u001b[0;34m,\u001b[0m \u001b[0;36m2\u001b[0m\u001b[0;34m)\u001b[0m\u001b[0;34m,\u001b[0m \u001b[0;34m(\u001b[0m\u001b[0;36m3\u001b[0m\u001b[0;34m,\u001b[0m \u001b[0;36m2\u001b[0m\u001b[0;34m,\u001b[0m \u001b[0;36m1\u001b[0m\u001b[0;34m)\u001b[0m\u001b[0;34m]\u001b[0m\u001b[0;34m:\u001b[0m\u001b[0;34m\u001b[0m\u001b[0;34m\u001b[0m\u001b[0m\n\u001b[0;32m----> 4\u001b[0;31m         \u001b[0;32massert\u001b[0m \u001b[0mtrier\u001b[0m\u001b[0;34m(\u001b[0m\u001b[0ma\u001b[0m\u001b[0;34m,\u001b[0m \u001b[0mb\u001b[0m\u001b[0;34m,\u001b[0m \u001b[0mc\u001b[0m\u001b[0;34m)\u001b[0m \u001b[0;34m==\u001b[0m \u001b[0;34m(\u001b[0m\u001b[0;36m1\u001b[0m\u001b[0;34m,\u001b[0m \u001b[0;36m2\u001b[0m\u001b[0;34m,\u001b[0m \u001b[0;36m3\u001b[0m\u001b[0;34m)\u001b[0m\u001b[0;34m,\u001b[0m \u001b[0;34m\"trier({},{},{}) donne {}\"\u001b[0m\u001b[0;34m.\u001b[0m\u001b[0mformat\u001b[0m\u001b[0;34m(\u001b[0m\u001b[0ma\u001b[0m\u001b[0;34m,\u001b[0m \u001b[0mb\u001b[0m\u001b[0;34m,\u001b[0m \u001b[0mc\u001b[0m\u001b[0;34m,\u001b[0m \u001b[0mtrier\u001b[0m\u001b[0;34m(\u001b[0m\u001b[0ma\u001b[0m\u001b[0;34m,\u001b[0m \u001b[0mb\u001b[0m\u001b[0;34m,\u001b[0m \u001b[0mc\u001b[0m\u001b[0;34m)\u001b[0m\u001b[0;34m)\u001b[0m\u001b[0;34m\u001b[0m\u001b[0;34m\u001b[0m\u001b[0m\n\u001b[0m\u001b[1;32m      5\u001b[0m \u001b[0;34m\u001b[0m\u001b[0m\n\u001b[1;32m      6\u001b[0m     \u001b[0;31m# Puis on effectue quelques tests aléatoires\u001b[0m\u001b[0;34m\u001b[0m\u001b[0;34m\u001b[0m\u001b[0;34m\u001b[0m\u001b[0m\n",
      "\u001b[0;31mAssertionError\u001b[0m: trier(1,2,3) donne None"
     ]
    }
   ],
   "source": [
    "try:\n",
    "    # On teste que les 6 permutations renvoient le bon résultat:\n",
    "    for a, b, c in [(1, 2, 3), (1, 3, 2), (2, 1, 3), (2, 3, 1), (3, 1, 2), (3, 2, 1)]:\n",
    "        assert trier(a, b, c) == (1, 2, 3), \"trier({},{},{}) donne {}\".format(a, b, c, trier(a, b, c))\n",
    "\n",
    "    # Puis on effectue quelques tests aléatoires\n",
    "    from random import randint\n",
    "    for N in range(100):\n",
    "        a = randint(-100, 100)\n",
    "        b = randint(-100, 100)\n",
    "        c = randint(-100, 100)\n",
    "        assert trier(a, b, c) == tuple(sorted([a, b, c])), \"trier({},{},{}) donne {}\".format(a, b, c, trier(a, b, c))\n",
    "except:\n",
    "    raise\n",
    "else:\n",
    "    print(\"Tous les tests ont été passés avec succès !\")"
   ]
  },
  {
   "cell_type": "code",
   "execution_count": null,
   "metadata": {},
   "outputs": [],
   "source": []
  },
  {
   "cell_type": "markdown",
   "metadata": {},
   "source": [
    "---\n",
    "### Exercice 3"
   ]
  },
  {
   "cell_type": "markdown",
   "metadata": {},
   "source": [
    "Écrire une fonction `sépare_pairs_impairs(liste)` prenant pour paramètre une liste d'entiers, et séparant cette liste en deux listes, l'une avec les entiers pairs (dans le même ordre que dans la liste initiale), l'autre avec les entiers impairs.\n",
    "\n",
    "Votre fonction doit être autosuffisante et ne pas en appeler d'autre.\n",
    "\n"
   ]
  },
  {
   "cell_type": "code",
   "execution_count": 33,
   "metadata": {},
   "outputs": [],
   "source": [
    "def sépare_pairs_impairs(liste):\n",
    "    \"\"\"Renvoie la sous-liste des entiers pairs et la sous-liste des entiers impairs de liste.\"\"\"\n",
    "\n",
    "    # Supprimer cette ligne ainsi que la suivante pour inclure votre code\n",
    "    pass"
   ]
  },
  {
   "cell_type": "markdown",
   "metadata": {},
   "source": [
    "La cellule python ci-dessous contient des tests permettant de vérifier le bon fonctionnement de votre fonction: si rien n'est affiché, c'est que tout va bien. S'il y a un message d'erreur, c'est que votre fonction ne répond pas au cahier des charges proposé dans l'énoncé.\n",
    "\n",
    "**N'essayez pas de comprendre le code ci-dessous**: il utilise beaucoup de tournures python que nous n'avons pas encore apprises, voire certaines qui seront hors-programme y compris jusqu'en Terminale."
   ]
  },
  {
   "cell_type": "code",
   "execution_count": 34,
   "metadata": {},
   "outputs": [
    {
     "ename": "AssertionError",
     "evalue": "",
     "output_type": "error",
     "traceback": [
      "\u001b[0;31m---------------------------------------------------------------------------\u001b[0m",
      "\u001b[0;31mAssertionError\u001b[0m                            Traceback (most recent call last)",
      "\u001b[0;32m<ipython-input-34-df859535265a>\u001b[0m in \u001b[0;36m<module>\u001b[0;34m\u001b[0m\n\u001b[1;32m      1\u001b[0m \u001b[0;32mtry\u001b[0m\u001b[0;34m:\u001b[0m\u001b[0;34m\u001b[0m\u001b[0;34m\u001b[0m\u001b[0m\n\u001b[1;32m      2\u001b[0m     \u001b[0;31m# N'hésitez pas à rajouter d'autres tests sur le modèle ci-dessous\u001b[0m\u001b[0;34m\u001b[0m\u001b[0;34m\u001b[0m\u001b[0;34m\u001b[0m\u001b[0m\n\u001b[0;32m----> 3\u001b[0;31m     \u001b[0;32massert\u001b[0m \u001b[0msépare_pairs_impairs\u001b[0m\u001b[0;34m(\u001b[0m\u001b[0;34m[\u001b[0m\u001b[0;34m]\u001b[0m\u001b[0;34m)\u001b[0m \u001b[0;34m==\u001b[0m \u001b[0;34m(\u001b[0m\u001b[0;34m[\u001b[0m\u001b[0;34m]\u001b[0m\u001b[0;34m,\u001b[0m \u001b[0;34m[\u001b[0m\u001b[0;34m]\u001b[0m\u001b[0;34m)\u001b[0m\u001b[0;34m\u001b[0m\u001b[0;34m\u001b[0m\u001b[0m\n\u001b[0m\u001b[1;32m      4\u001b[0m     \u001b[0;32massert\u001b[0m \u001b[0msépare_pairs_impairs\u001b[0m\u001b[0;34m(\u001b[0m\u001b[0;34m[\u001b[0m\u001b[0;36m1\u001b[0m\u001b[0;34m,\u001b[0m \u001b[0;36m2\u001b[0m\u001b[0;34m,\u001b[0m \u001b[0;36m3\u001b[0m\u001b[0;34m,\u001b[0m \u001b[0;36m4\u001b[0m\u001b[0;34m,\u001b[0m \u001b[0;36m5\u001b[0m\u001b[0;34m,\u001b[0m \u001b[0;36m6\u001b[0m\u001b[0;34m]\u001b[0m\u001b[0;34m)\u001b[0m \u001b[0;34m==\u001b[0m \u001b[0;34m(\u001b[0m\u001b[0;34m[\u001b[0m\u001b[0;36m2\u001b[0m\u001b[0;34m,\u001b[0m \u001b[0;36m4\u001b[0m\u001b[0;34m,\u001b[0m \u001b[0;36m6\u001b[0m\u001b[0;34m]\u001b[0m\u001b[0;34m,\u001b[0m \u001b[0;34m[\u001b[0m\u001b[0;36m1\u001b[0m\u001b[0;34m,\u001b[0m \u001b[0;36m3\u001b[0m\u001b[0;34m,\u001b[0m \u001b[0;36m5\u001b[0m\u001b[0;34m]\u001b[0m\u001b[0;34m)\u001b[0m\u001b[0;34m\u001b[0m\u001b[0;34m\u001b[0m\u001b[0m\n\u001b[1;32m      5\u001b[0m     \u001b[0;32massert\u001b[0m \u001b[0msépare_pairs_impairs\u001b[0m\u001b[0;34m(\u001b[0m\u001b[0;34m[\u001b[0m\u001b[0;36m6\u001b[0m\u001b[0;34m,\u001b[0m \u001b[0;36m5\u001b[0m\u001b[0;34m,\u001b[0m \u001b[0;36m4\u001b[0m\u001b[0;34m,\u001b[0m \u001b[0;36m3\u001b[0m\u001b[0;34m,\u001b[0m \u001b[0;36m2\u001b[0m\u001b[0;34m,\u001b[0m \u001b[0;36m1\u001b[0m\u001b[0;34m]\u001b[0m\u001b[0;34m)\u001b[0m \u001b[0;34m==\u001b[0m \u001b[0;34m(\u001b[0m\u001b[0;34m[\u001b[0m\u001b[0;36m6\u001b[0m\u001b[0;34m,\u001b[0m \u001b[0;36m4\u001b[0m\u001b[0;34m,\u001b[0m \u001b[0;36m2\u001b[0m\u001b[0;34m]\u001b[0m\u001b[0;34m,\u001b[0m \u001b[0;34m[\u001b[0m\u001b[0;36m5\u001b[0m\u001b[0;34m,\u001b[0m \u001b[0;36m3\u001b[0m\u001b[0;34m,\u001b[0m \u001b[0;36m1\u001b[0m\u001b[0;34m]\u001b[0m\u001b[0;34m)\u001b[0m\u001b[0;34m\u001b[0m\u001b[0;34m\u001b[0m\u001b[0m\n",
      "\u001b[0;31mAssertionError\u001b[0m: "
     ]
    }
   ],
   "source": [
    "try:\n",
    "    # N'hésitez pas à rajouter d'autres tests sur le modèle ci-dessous\n",
    "    assert sépare_pairs_impairs([]) == ([], [])\n",
    "    assert sépare_pairs_impairs([1, 2, 3, 4, 5, 6]) == ([2, 4, 6], [1, 3, 5])\n",
    "    assert sépare_pairs_impairs([6, 5, 4, 3, 2, 1]) == ([6, 4, 2], [5, 3, 1])\n",
    "    assert sépare_pairs_impairs([2, 6, 4, 8, 10]) == ([2, 6, 4, 8, 10], [])\n",
    "    assert sépare_pairs_impairs([9, 5, 7, 3, 5, 1]) == ([], [9, 5, 7, 3, 5, 1])\n",
    "except:\n",
    "    raise\n",
    "else:\n",
    "    print(\"Tous les tests ont été passés avec succès !\")"
   ]
  },
  {
   "cell_type": "code",
   "execution_count": null,
   "metadata": {},
   "outputs": [],
   "source": []
  },
  {
   "cell_type": "markdown",
   "metadata": {},
   "source": [
    "---\n",
    "### Exercice 4"
   ]
  },
  {
   "cell_type": "markdown",
   "metadata": {},
   "source": [
    "Écrire une fonction `est_carré_magique(carré)` prenant pour paramètre un tableau bidimensionnel de dimension 3x3, et renvoyant `True` si ce carré est magique, `False` sinon. On rappelle qu'un carré est magique si les sommes des nombres de ces 3 lignes, de ces 3 colonnes et de ces 2 diagonales sont égales.\n",
    "\n",
    "On rappelle aussi que pour accéder à l'élément situé à la ligne n°`L` et la colonne n°`C`, on utilise la syntaxe ```carré[L][C]```. Les colonnes et les lignes sont indexées à partir de zéro.\n",
    "\n",
    "Votre fonction doit être autosuffisante et ne pas en appeler d'autre.\n",
    "\n"
   ]
  },
  {
   "cell_type": "code",
   "execution_count": 39,
   "metadata": {},
   "outputs": [],
   "source": [
    "def est_carré_magique(carré):\n",
    "    \"\"\"Renvoie un booléen précisant si carré (de dimension 3x3) est magique ou non.\"\"\"\n",
    "\n",
    "    # Supprimer cette ligne ainsi que la suivante pour inclure votre code\n",
    "    pass"
   ]
  },
  {
   "cell_type": "markdown",
   "metadata": {},
   "source": [
    "La cellule python ci-dessous contient des tests permettant de vérifier le bon fonctionnement de votre fonction: si rien n'est affiché, c'est que tout va bien. S'il y a un message d'erreur, c'est que votre fonction ne répond pas au cahier des charges proposé dans l'énoncé.\n",
    "\n",
    "**N'essayez pas de comprendre le code ci-dessous**: il utilise beaucoup de tournures python que nous n'avons pas encore apprises, voire certaines qui seront hors-programme y compris jusqu'en Terminale."
   ]
  },
  {
   "cell_type": "code",
   "execution_count": 38,
   "metadata": {},
   "outputs": [
    {
     "ename": "AssertionError",
     "evalue": "carré1=[[2, 9, 4], [7, 5, 3], [6, 1, 8]] est un carré magique",
     "output_type": "error",
     "traceback": [
      "\u001b[0;31m---------------------------------------------------------------------------\u001b[0m",
      "\u001b[0;31mAssertionError\u001b[0m                            Traceback (most recent call last)",
      "\u001b[0;32m<ipython-input-38-8ecfd304f21b>\u001b[0m in \u001b[0;36m<module>\u001b[0;34m\u001b[0m\n\u001b[1;32m      6\u001b[0m     ]\n\u001b[1;32m      7\u001b[0m \u001b[0;34m\u001b[0m\u001b[0m\n\u001b[0;32m----> 8\u001b[0;31m     \u001b[0;32massert\u001b[0m \u001b[0mest_carré_magique\u001b[0m\u001b[0;34m(\u001b[0m\u001b[0mcarré1\u001b[0m\u001b[0;34m)\u001b[0m \u001b[0;34m==\u001b[0m \u001b[0;32mTrue\u001b[0m\u001b[0;34m,\u001b[0m \u001b[0;34m\"carré1={} est un carré magique\"\u001b[0m\u001b[0;34m.\u001b[0m\u001b[0mformat\u001b[0m\u001b[0;34m(\u001b[0m\u001b[0mcarré1\u001b[0m\u001b[0;34m)\u001b[0m\u001b[0;34m\u001b[0m\u001b[0;34m\u001b[0m\u001b[0m\n\u001b[0m\u001b[1;32m      9\u001b[0m \u001b[0;34m\u001b[0m\u001b[0m\n\u001b[1;32m     10\u001b[0m     carré2 = [\n",
      "\u001b[0;31mAssertionError\u001b[0m: carré1=[[2, 9, 4], [7, 5, 3], [6, 1, 8]] est un carré magique"
     ]
    }
   ],
   "source": [
    "try:\n",
    "    carré1 = [\n",
    "        [2, 9, 4],\n",
    "        [7, 5, 3],\n",
    "        [6, 1, 8]\n",
    "    ]\n",
    "    \n",
    "    assert est_carré_magique(carré1) == True, \"carré1={} est un carré magique\".format(carré1)\n",
    "    \n",
    "    carré2 = [\n",
    "            [1, 19, 4],\n",
    "            [7, 19, 3],\n",
    "            [4, -1, 8],\n",
    "    ]\n",
    "    \n",
    "    assert est_carré_magique(carré2) == False, \"carré2={} n'est pas un carré magique\".format(carré2)\n",
    "    \n",
    "except:\n",
    "    raise\n",
    "else:\n",
    "    print(\"Tous les tests ont été passés avec succès !\")"
   ]
  },
  {
   "cell_type": "code",
   "execution_count": null,
   "metadata": {},
   "outputs": [],
   "source": []
  },
  {
   "cell_type": "markdown",
   "metadata": {},
   "source": [
    "---\n",
    "### Exercice 5 (facultatif)"
   ]
  },
  {
   "cell_type": "markdown",
   "metadata": {},
   "source": [
    "Programmer un jeu (qui se joue dans la console, avec `print(...)` et `input(...)`) qui s'apparente au **blackjack** mais se joue avec deux dés à 6 faces. Le joueur est opposé à la banque (jouée par l'ordinateur) et le **but est d'atteindre le nombre le plus proche possible de 21 sans jamais dépasser ce total**.\n"
   ]
  },
  {
   "cell_type": "markdown",
   "metadata": {},
   "source": [
    "**Version simple du jeu:** À chaque tour de jeu, le joueur choisit de jouer 0, 1 ou 2 dés.\n",
    "* S'il choisit 0, le jeu s'arrête. Le joueur ayant le score le plus proche de 21 gagne la partie (soit le joueur, soit la banque).\n",
    "* S'il choisit 1 ou 2 dés, il effectue son tirage, et rajoute la somme des dés ainsi obtenus au total dont il disposait déjà (le total initial est bien entendu 0). Le banquier joue avec le même nombre de dés que le joueur et incrémente son propre total.\n",
    "  - Si l'un des deux joueurs dépasse 21, il a perdu et l'autre a gagné.\n",
    "  - Si les deux dépassent 21, la partie est déclarée nulle.\n"
   ]
  },
  {
   "cell_type": "markdown",
   "metadata": {},
   "source": [
    "**Variante intéressante (mais plus difficile à programmer)**:\n",
    "Le banquier ne choisit pas nécessairement le même nombre de dés que le joueur. Le jeu continue tant que l'un des deux joueurs décide de continuer et que personne n'a dépassé 21.\n",
    "\n",
    "Dans ce scénario, le banquier peut très bien tenter un ou plusieurs tirages alors que l'autre joueur a choisi 0 dés. Il n'est pas interdit de rejouer alors que l'on avait passé un ou plusieurs tours auparavant."
   ]
  },
  {
   "cell_type": "code",
   "execution_count": null,
   "metadata": {},
   "outputs": [],
   "source": []
  }
 ],
 "metadata": {
  "kernelspec": {
   "display_name": "Python 3",
   "language": "python",
   "name": "python3"
  },
  "language_info": {
   "codemirror_mode": {
    "name": "ipython",
    "version": 3
   },
   "file_extension": ".py",
   "mimetype": "text/x-python",
   "name": "python",
   "nbconvert_exporter": "python",
   "pygments_lexer": "ipython3",
   "version": "3.7.4"
  }
 },
 "nbformat": 4,
 "nbformat_minor": 4
}

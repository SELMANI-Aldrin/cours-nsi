{
 "cells": [
  {
   "cell_type": "markdown",
   "metadata": {},
   "source": [
    "# Représentation des entiers naturels - Partie I"
   ]
  },
  {
   "cell_type": "markdown",
   "metadata": {},
   "source": [
    "## Représentation interne des nombres dans un ordinateur"
   ]
  },
  {
   "cell_type": "markdown",
   "metadata": {},
   "source": [
    "### Notion de bit"
   ]
  },
  {
   "cell_type": "markdown",
   "metadata": {},
   "source": [
    "Un ordinateur est un appareil fonctionnant à l'aide de circuits électroniques, pour lesquels ils est plus simple de distinguer deux états (absence ou présence d'un courant électrique) que plusieurs. Ce système à deux étants - donc binaire - permet en outre de tolérer de légères approximations de mesures.\n",
    "\n",
    "Ces deux mesures correspondent à 0 (absence de courant) ou 1 (présence de courant). Ces deux chiffres sont les *chiffres binaires* que l'on abrège en **bit** (pour *binary digit*)."
   ]
  },
  {
   "cell_type": "markdown",
   "metadata": {},
   "source": [
    "### Regroupement des bits"
   ]
  },
  {
   "cell_type": "markdown",
   "metadata": {},
   "source": [
    "Si toute les données dans un ordinateur peuvent *in fine* se représenter par une suite de  0 ou de 1, on regroupe néanmoins ces chiffres binaires en paquets de bits pour des questions de commodité mais aussi d'efficacité.\n",
    "\n",
    "* Le plus petit regroupement utilisé dans les ordinateurs modernes et le paquet de 8 bits, surnomé **octet** en français (ou **byte** en anglais, à ne surtout pas confondre avec **bit** qui, d'ailleurs, ne se prononce pas du tout de la même façon).\n",
    "* Les octets sont ensuites regroupés en **mots** machines de taille variable, valant généralement 2 octets (16 bits), 4 octets (32 bits) ou bien 8 octets (64 bits). Lorsque l'on parle d'un ordinateur 32 bits ou 64 bits, cela signifie qu'ils sont capable de physiquement traiter des paquets de bits de la taille correspondante pour effectuer des opérations (additions, multiplications, etc)."
   ]
  },
  {
   "cell_type": "markdown",
   "metadata": {},
   "source": [
    "### Encodage d'un nombre"
   ]
  },
  {
   "cell_type": "markdown",
   "metadata": {},
   "source": [
    "Nous verrons un peu plus loin comment ces mots machines permettent de représenter des données plus complexes que 0 ou 1, notamment des entiers naturels (mais pas uniquement). Cela nécessite cependant de trouver un moyen de traduire tout entier naturel en une suite plus ou moins longue de **bits**: on appelle cela un *encodage*."
   ]
  },
  {
   "cell_type": "markdown",
   "metadata": {},
   "source": [
    "## Écriture en base 10"
   ]
  },
  {
   "cell_type": "markdown",
   "metadata": {},
   "source": [
    "Avant de nous intéresser à la représentation des entiers sous forme binaire, commençons par regarder d'un peu plus près comment sont représentés les nombres pour les êtres humains. \n",
    "\n",
    "Toutes les sociétés utilisent depuis quelques millénaires la base 10, encore appelée représentation décimale des entiers (historiquement, ce n'était pas toujours le cas: les mayas utilisaient par exemple le système *vicésimal* de base 20, les babyloniens le système *sexagésimal* de base 60).\n",
    "\n",
    "Les nombres entiers sont représentés en base 10 par une suite de chiffres décimaux (il y en a exactement 10, compris entre 0 et 9). Supposons qu'un entier naturel $N$ y ait \\\\(n + 1\\\\) chiffres \\\\(a_n, a_{n-1}, \\ldots, a_2, a_1, a_0\\\\) où \\\\(a_0\\\\) correspond au chiffre des unités, \\\\(a_1\\\\) au chiffre des dizaines, etc.\n",
    "\n",
    "Il est alors possible de reconstituer le nombre de départ, en constatant que\n",
    "\n",
    "$$N = a_n\\times 10^n + a_{n-1}\\times 10^{n-1} + \\cdots + a_2\\times 10^2 + a_1\\times 10^1 + a_0\\times 10^0$$"
   ]
  },
  {
   "cell_type": "markdown",
   "metadata": {},
   "source": [
    "On dit que le nombre \\\\(10^k\\\\) que l'on multiplie à \\\\(a_k\\\\) est le **poids** de \\\\(a_k\\\\). Le chiffre \\\\(a_n\\\\) est dit *de poids fort* car il est multiplié à la plus grande puissance de 10. À l'inverse, le chiffre des unités \\\\(a_0\\\\) est appelé *chiffre de poids faible*."
   ]
  },
  {
   "cell_type": "markdown",
   "metadata": {},
   "source": [
    "**Exemple:** Prenons \\\\(N = 30728\\\\)"
   ]
  },
  {
   "cell_type": "markdown",
   "metadata": {},
   "source": [
    "Il est possible de démontrer mathématiquement (c'est un *théorème*) qu'à tout nombre entier \\\\(N\\\\) est associé une unique séquence de chiffres donnant la représentation décimale. Inversement, étant donné une séquence de chiffres décimaux, on peut toujours calculer un unique nombre entier par la formule ci-dessus."
   ]
  },
  {
   "cell_type": "markdown",
   "metadata": {},
   "source": [
    "## Écriture en base 2"
   ]
  },
  {
   "cell_type": "markdown",
   "metadata": {},
   "source": [
    "### Représentation binaire"
   ]
  },
  {
   "cell_type": "markdown",
   "metadata": {},
   "source": [
    "On peut se demander à juste titre si le nombre 10 du paragraphe précédent joue un rôle particulier: en réalité, il n'en est rien. Les humains comptent très vraissemblablement en base 10 pour une raison physiologique évidente. Mais la base 20 est toute aussi naturelle."
   ]
  },
  {
   "cell_type": "markdown",
   "metadata": {},
   "source": [
    "Les ordinateurs étant très fortement liés au bits comme nous l'avons vu un peu plus haut (c'est un peu comme si un ordinateur n'avait qu'un seul doigt pour compter), on peut naturellement se demander si le théorème mathématique précédent reste valable en base 2. Et c'est effectivement le cas !\n",
    "\n",
    "La différence est que les chiffres seront bien évidemment des chiffres binaires, autrement dit des **bits**. L'autre différence est que l'on n'utilise plus des puissances de 10 mais plutôt des puissances de 2."
   ]
  },
  {
   "cell_type": "markdown",
   "metadata": {},
   "source": [
    "**Exemple:** Quel est le nombre dont la représentation en base 2 est 1101011 ?"
   ]
  },
  {
   "cell_type": "markdown",
   "metadata": {},
   "source": [
    "Il est possible de généraliser l'exemple précédent: à toute suite de \\\\(n + 1\\\\) bits \\\\(b_n, b_{n-1}, \\ldots, b_2, b_1, b_0\\\\) on peut associer un nombre entier de manière unique par la formule"
   ]
  },
  {
   "cell_type": "markdown",
   "metadata": {},
   "source": [
    "$$ N = b_n\\times 2^n + b_{n-1}\\times 2^{n-1} + \\cdots + b_2\\times 2^2 + b_1\\times 2^1 + b_0\\times 2^0$$"
   ]
  },
  {
   "cell_type": "markdown",
   "metadata": {},
   "source": [
    "### Regroupement en octets et en mots"
   ]
  },
  {
   "cell_type": "markdown",
   "metadata": {},
   "source": [
    "Un octet étant un regroupement de 8 bits, il permet de représenter tout entier comportant au plus 8 chiffres binaires. Le plus grand entier que l'on peut ainsi représenter par un octet est "
   ]
  },
  {
   "cell_type": "markdown",
   "metadata": {},
   "source": [
    "\\begin{align*}\n",
    "11111111_2 & = 2^7 + 2^6 + \\cdots + 2^1 + 2^0 \\\\\n",
    "& = 128 + 64 + 32 + 16 + 8 + 4 + 2 + 1 \\\\\n",
    "& = 255\n",
    "\\end{align*}"
   ]
  },
  {
   "cell_type": "markdown",
   "metadata": {},
   "source": [
    "La plus petite valeur étant 0, il est donc possible de représenter 256 valeurs (entre 0 et 255) à l'aide d'un octet."
   ]
  },
  {
   "cell_type": "markdown",
   "metadata": {},
   "source": [
    "**Remarque:** L'indice 2 dans \\\\(11111111_2\\\\) permet de ne pas confondre un nombre dont la représentation est en binaire d'un nombre décimal. On peut utiliser \\\\(135_{10}\\\\) lorsque l'on veut préciser que la représentation est décimale, mais on peut aussi admettre qu'en l'absence d'information, un nombre est décimal. L'égalité précédente n'a de sens que si l'on considère le membre de gauche comme une représentation binaire d'un nombre. Nous verrons un peu plus loin que `python` a une autre manière de distinguer entre les nombres binaires et les nombres décimaux."
   ]
  },
  {
   "cell_type": "markdown",
   "metadata": {},
   "source": [
    "---\n",
    "**Exercice 1:** Expliquer cette blague de programmeur: « Il y a 10 catégories de personnes: celles qui savent compter en binaire et celles qui ne savent pas...»"
   ]
  },
  {
   "cell_type": "markdown",
   "metadata": {},
   "source": [
    "---\n",
    "**Exercice 2:** Donner la représentation décimale des entiers dont les représentations binaires sont 11001100, 10101010 et 1010010011110010."
   ]
  },
  {
   "cell_type": "markdown",
   "metadata": {},
   "source": [
    "---\n",
    "**Exercice 3:** Quelle est le plus grand entier que l'on puisse représenter sur 16 bits ? Sur 32 bits ? Sur 64 bits ?"
   ]
  },
  {
   "cell_type": "markdown",
   "metadata": {},
   "source": [
    "\n",
    "Le théorème cité plus haut sur l'unicité de la représentation décimal d'un entier naturel est aussi valable pour la représentation binaire: un entier naturel \\\\(N\\\\) admet une *unique* représentation en base 2: il existe donc une seule séquence de bits permettant de représenter \\\\(N\\\\) dans cette base."
   ]
  },
  {
   "cell_type": "markdown",
   "metadata": {},
   "source": [
    "**Exemple:** Considérons l'entier naturel 94 (représentation décimale puisqu'il n'y a aucune indication du contraire). Quelle est sa représentation binaire ?"
   ]
  },
  {
   "cell_type": "markdown",
   "metadata": {},
   "source": [
    "---\n",
    "**Exercice 4:** Donner la représentation en base 2 sur 8 bits des entiers 13, 135, 62 et 248."
   ]
  },
  {
   "cell_type": "markdown",
   "metadata": {},
   "source": [
    "## Représentations des entiers en python"
   ]
  },
  {
   "cell_type": "markdown",
   "metadata": {},
   "source": [
    "Python étant un langage informatique, les nombres sont bien sûr représentés de manière interne en binaire par l'ordinateur. Cependant, il faut bien distinguer la représentation interne (qui n'est en général pas visible) de la manière d'afficher un nombre dans un terminal."
   ]
  },
  {
   "cell_type": "markdown",
   "metadata": {},
   "source": [
    "Par défaut, python affiche les nombres en base 10."
   ]
  },
  {
   "cell_type": "code",
   "execution_count": 2,
   "metadata": {},
   "outputs": [
    {
     "data": {
      "text/plain": [
       "123"
      ]
     },
     "execution_count": 2,
     "metadata": {},
     "output_type": "execute_result"
    }
   ],
   "source": [
    "123"
   ]
  },
  {
   "cell_type": "markdown",
   "metadata": {},
   "source": [
    "On peut saisir des nombres en base 2 en les préfixant par `0b`:"
   ]
  },
  {
   "cell_type": "code",
   "execution_count": 4,
   "metadata": {},
   "outputs": [
    {
     "data": {
      "text/plain": [
       "183"
      ]
     },
     "execution_count": 4,
     "metadata": {},
     "output_type": "execute_result"
    }
   ],
   "source": [
    "0b10110111"
   ]
  },
  {
   "cell_type": "markdown",
   "metadata": {},
   "source": [
    "Il est possible de déterminer la représentation binaire d'un entier par la fonction `bin(entier)` dont le résultat est une chaîne de caractère:"
   ]
  },
  {
   "cell_type": "code",
   "execution_count": 6,
   "metadata": {},
   "outputs": [
    {
     "data": {
      "text/plain": [
       "'0b1111011'"
      ]
     },
     "execution_count": 6,
     "metadata": {},
     "output_type": "execute_result"
    }
   ],
   "source": [
    "bin(123)"
   ]
  },
  {
   "cell_type": "markdown",
   "metadata": {},
   "source": [
    "**Attention:** Il ne faut surtout pas confondre la chaîne de caractères ```'0b1111011'``` avec le nombre en base 2 ```0b1111011``` que python stockera (puis affichera ensuite) comme l'entier `123`."
   ]
  },
  {
   "cell_type": "markdown",
   "metadata": {},
   "source": [
    "**Remarque:** Quelle que soit l'architecture de l'ordinateur utilisé (probablement 64 bits de nos jours, mais parfois encore 32 bits), les entiers sont représentés de manière spéciale par python (nous ne préciserons pas comment), et permettent de représenter des nombres de taille arbitraire (la seule limite est la taille de la mémoire). Notons que, quels que soient les détails de cette représentation interne, en dernier ressort l'ordinateur utilisera toujours des bits. Voici par exemple la représentation décimale et binaire de \\\\(3^{1000}\\\\):"
   ]
  },
  {
   "cell_type": "code",
   "execution_count": 13,
   "metadata": {},
   "outputs": [
    {
     "data": {
      "text/plain": [
       "1322070819480806636890455259752144365965422032752148167664920368226828597346704899540778313850608061963909777696872582355950954582100618911865342725257953674027620225198320803878014774228964841274390400117588618041128947815623094438061566173054086674490506178125480344405547054397038895817465368254916136220830268563778582290228416398307887896918556404084898937609373242171846359938695516765018940588109060426089671438864102814350385648747165832010614366132173102768902855220001"
      ]
     },
     "execution_count": 13,
     "metadata": {},
     "output_type": "execute_result"
    }
   ],
   "source": [
    ">>> n = 3**1000 # En python, l'opérateur de puissance est la double multiplication **\n",
    ">>> n"
   ]
  },
  {
   "cell_type": "code",
   "execution_count": 15,
   "metadata": {},
   "outputs": [
    {
     "data": {
      "text/plain": [
       "'0b1111100101101110100000001000100110101001101101001100010111000001001000000110000011101001110101000100101100110110010111001011110111101000110001001111001100010110111100001100010110111001101111010010111110010101000100000010011000011010001100101110000111111010011001111101101010001011100100100000011000100101100001011111101101011110010001100000111000001110000100011010100100010111111011101100000010100010011011101001110001110111010101100011001001011011100010100001110010100111001001010000011111101100100010000011010010100010000100110110110100001001000001010011111010011010010000011010110001111110011000011010100110011100010110111001000111010000001001011100110111010100011001111111000100000111011011111101011001000111001100110001001101011010001011000110101100010110010111011101000111100100101111001101000010110101100101100001101110011101101000101010011000010001011011110100011110011101010110001110101110100101111011011000010101011001101000000011000010110110000110101100000100100110100011011011000001010001000111100000100000000100001111010100011111011000111000101010000000110001110101101110111011110000000100100010010101011001111011111000000010111000111101110101010010010110000110100100110010000111101011011110010110011101101001000100011001000001110110011000010100001010110100110000001101110100111000001011110101000111001111010101101101100111000000110010110111101001010100000010010001111001100101001001110011101110001000010111011000000100000110100100000110001100011000100100101000000110001010110111101111000011001111101101111100101011000010110100100110111101111010011101110000101101100100001'"
      ]
     },
     "execution_count": 15,
     "metadata": {},
     "output_type": "execute_result"
    }
   ],
   "source": [
    "bin(n)"
   ]
  },
  {
   "cell_type": "markdown",
   "metadata": {},
   "source": [
    "Cette souplesse offerte par le langage python est relativement inédite et n'existe quasiment dans aucun autre langage de programmation. En général, les variables contiennent des entiers dont le nombre de bits est fixé à l'avance (8, 16, 32, 64 ou 128 pour la plupart des langages courants)."
   ]
  },
  {
   "cell_type": "markdown",
   "metadata": {},
   "source": [
    "## Représentation binaire et algorithmes"
   ]
  },
  {
   "cell_type": "markdown",
   "metadata": {},
   "source": [
    "Bien que python offre déjà toutes les facilités pour convertire vers et depuis le binaire, il est important de bien comprendre les algorithmes sous-jacents et aussi de savoir les implémenter en python.\n",
    "\n",
    "Le premier algorithme présenté permet de déterminer la représentation binaire d'un entier (donné initialement sous forme décimale) en utilisant la même méthode que celle utilisée «à la main» un peu plus haut dans l'exemple et l'exercice correspondant.\n",
    "\n",
    "Le second réalise la même tâche mais selon une méthode diamétralement différente. Il a l'avantage d'être finalement plus simple et plus court. Il est aussi plus efficace (bien que cela n'ait guère d'importance en pratique sur des nombres comportant peu de chiffres).\n",
    "\n",
    "Enfin, le dernier algorithme présenté réalise la tâche inverse, à savoir déterminer un nombre entier à partir de sa représentation en base 2."
   ]
  },
  {
   "cell_type": "markdown",
   "metadata": {},
   "source": [
    "### Algorithme 1: Représentation binaire d'un entier."
   ]
  },
  {
   "cell_type": "raw",
   "metadata": {},
   "source": [
    "Lorsque l'on a cherché une représentation en base 2 d'un entier donné, on a plus ou moins procédé comme suit:"
   ]
  },
  {
   "cell_type": "markdown",
   "metadata": {},
   "source": [
    "```\n",
    "Déterminer la plus grande puissance de 2 inférieure ou égale à N. Notons-la P.\n",
    "\n",
    "Tant que P est positif faire:\n",
    "    Si P est inférieur ou égal à N alors:\n",
    "        Afficher 1\n",
    "        Soustraire P à N\n",
    "    Sinon:\n",
    "        Afficher 0\n",
    "    Diviser P par deux (division euclidienne)\n",
    "````"
   ]
  },
  {
   "cell_type": "markdown",
   "metadata": {},
   "source": [
    "La première partie de l'algorithme peut (et doit) elle même être précisée, comme suit:"
   ]
  },
  {
   "cell_type": "markdown",
   "metadata": {},
   "source": [
    "```\n",
    "P prend la valeur 1\n",
    "Tant que 2P est inférieur ou égal à N faire:\n",
    "    P prend la valeur 2P\n",
    "\n",
    "Tant que P est positif faire:\n",
    "    Si P est inférieur ou égal à N alors:\n",
    "        Afficher 1\n",
    "        Soustraire P à N\n",
    "    Sinon:\n",
    "        Afficher 0\n",
    "    Diviser P par deux (division euclidienne)\n",
    "````"
   ]
  },
  {
   "cell_type": "markdown",
   "metadata": {},
   "source": [
    "À la sortie de la boucle, \\\\(P\\\\) sera la plus grande puissance de 2 inférieur ou égal à \\\\(N\\\\), excepté si \\\\(N = 0\\\\): l'algorithme ne fonctionne d'ailleurs pas dans ce cas là, puisqu'aucune des deux boucles n'est exécutée. Il faudra traiter le cas nul à part."
   ]
  },
  {
   "cell_type": "markdown",
   "metadata": {},
   "source": [
    "Remarquons aussi que cet algorithme réalise la même chose que la fonction `bin(nombre)` préexistance en python."
   ]
  },
  {
   "cell_type": "markdown",
   "metadata": {},
   "source": [
    "---\n",
    "**Exercice 5:** Implémenter l'algorithme précédent en python, sous la forme d'une fonction `bin1(nombre)` prenant pour paramètre un entier naturel et renvoyant en valeur de retour une chaîne de caractère contenant la représentation binaire correcte du nombre. Dit plus simplement: la fonction `bin1()` doit réaliser exactement la même chose que la fonction `bin()` de python."
   ]
  },
  {
   "cell_type": "markdown",
   "metadata": {},
   "source": [
    "**Attention:** La fonction `bin1(nombre)` a pour vocation de renvoyer une valeur, elle ne devra rien afficher dans la console."
   ]
  },
  {
   "cell_type": "markdown",
   "metadata": {},
   "source": [
    "Attention, en python il existe **deux** opérateurs de division: le simple slash '/' est une division «à virgule»: son résultat est toujours un nombre à virgule flottante, même si mathématiquement il s'agit d'un entier."
   ]
  },
  {
   "cell_type": "code",
   "execution_count": 1,
   "metadata": {},
   "outputs": [
    {
     "data": {
      "text/plain": [
       "0.8"
      ]
     },
     "execution_count": 1,
     "metadata": {},
     "output_type": "execute_result"
    }
   ],
   "source": [
    "4 / 5"
   ]
  },
  {
   "cell_type": "code",
   "execution_count": 2,
   "metadata": {},
   "outputs": [
    {
     "data": {
      "text/plain": [
       "2.0"
      ]
     },
     "execution_count": 2,
     "metadata": {},
     "output_type": "execute_result"
    }
   ],
   "source": [
    "4 / 2"
   ]
  },
  {
   "cell_type": "markdown",
   "metadata": {},
   "source": [
    "Nous aurons ici davantage besoin d'une division euclidienne (c'est-à-dire la division telle qu'aprise à l'école primaire, avec dividende et reste). L'opérateur '//' sert à cela, et son résultat est toujours un entier."
   ]
  },
  {
   "cell_type": "code",
   "execution_count": 6,
   "metadata": {},
   "outputs": [
    {
     "data": {
      "text/plain": [
       "1"
      ]
     },
     "execution_count": 6,
     "metadata": {},
     "output_type": "execute_result"
    }
   ],
   "source": [
    "4 // 3"
   ]
  },
  {
   "cell_type": "code",
   "execution_count": 8,
   "metadata": {},
   "outputs": [
    {
     "data": {
      "text/plain": [
       "2"
      ]
     },
     "execution_count": 8,
     "metadata": {},
     "output_type": "execute_result"
    }
   ],
   "source": [
    "4 // 2"
   ]
  },
  {
   "cell_type": "markdown",
   "metadata": {},
   "source": [
    "On peut calculer le reste d'une division euclidienne grâce à l'opérateur '%' (qui se prononce **modulo** en mathématiques):"
   ]
  },
  {
   "cell_type": "code",
   "execution_count": 9,
   "metadata": {},
   "outputs": [
    {
     "data": {
      "text/plain": [
       "1"
      ]
     },
     "execution_count": 9,
     "metadata": {},
     "output_type": "execute_result"
    }
   ],
   "source": [
    "4 % 3"
   ]
  },
  {
   "cell_type": "code",
   "execution_count": 10,
   "metadata": {},
   "outputs": [
    {
     "data": {
      "text/plain": [
       "0"
      ]
     },
     "execution_count": 10,
     "metadata": {},
     "output_type": "execute_result"
    }
   ],
   "source": [
    "4 % 2"
   ]
  },
  {
   "cell_type": "markdown",
   "metadata": {},
   "source": [
    "Quelques outils sur les chaînes de caractères qui n'ont pas encore été étudiées cette année:\n",
    "* Une chaîne de caractère est indifféremment entourée d'apostrophes \\' ou bien de guillemets anglais \\\" (à ne pas confondre avec des doubles apostrophes).\n",
    "* On peut rajouter des caractères avant ou après une chaîne de caractères à l'aide de l'opérateur `+` qui sert alors de *concaténation* et non pas d'addition:"
   ]
  },
  {
   "cell_type": "code",
   "execution_count": 19,
   "metadata": {},
   "outputs": [
    {
     "data": {
      "text/plain": [
       "'mot-suffixe'"
      ]
     },
     "execution_count": 19,
     "metadata": {},
     "output_type": "execute_result"
    }
   ],
   "source": [
    ">>> s = \"mot\"\n",
    ">>> s + \"-suffixe\""
   ]
  },
  {
   "cell_type": "code",
   "execution_count": 21,
   "metadata": {},
   "outputs": [
    {
     "data": {
      "text/plain": [
       "'préfixe-mot'"
      ]
     },
     "execution_count": 21,
     "metadata": {},
     "output_type": "execute_result"
    }
   ],
   "source": [
    ">>> 'préfixe-' + s"
   ]
  },
  {
   "cell_type": "code",
   "execution_count": 23,
   "metadata": {},
   "outputs": [],
   "source": [
    ">>> binaire = \"1011\""
   ]
  },
  {
   "cell_type": "code",
   "execution_count": 27,
   "metadata": {},
   "outputs": [
    {
     "data": {
      "text/plain": [
       "'0000001011010101'"
      ]
     },
     "execution_count": 27,
     "metadata": {},
     "output_type": "execute_result"
    }
   ],
   "source": [
    ">>> binaire = \"00\" + binaire + \"01\"\n",
    ">>> binaire"
   ]
  },
  {
   "cell_type": "code",
   "execution_count": 28,
   "metadata": {},
   "outputs": [
    {
     "data": {
      "text/plain": [
       "'0b0000001011010101'"
      ]
     },
     "execution_count": 28,
     "metadata": {},
     "output_type": "execute_result"
    }
   ],
   "source": [
    ">>> \"0b\" + binaire"
   ]
  },
  {
   "cell_type": "markdown",
   "metadata": {},
   "source": [
    "### Algorithme 2: Représentation binaire d'un entier."
   ]
  },
  {
   "cell_type": "markdown",
   "metadata": {},
   "source": [
    "L'algorithme précédent déterminait la représentation binaire d'un entier de la gauche vers la droite, c'est-à-dire du bit de poids fort vers le bit de poids faible.\n",
    "\n",
    "L'algorithme présenté ici procède exactement à l'inverse: il détermine d'abord le bit de poids faible, puis procède de la droite vers la gauche.\n",
    "\n",
    "Cet algorithme est basé sur quelques remarques très simples:\n",
    "* Le bit de poids faible d'un nombre représenté en binaire (c'est-à-dire celui situé le plus à droite ou encore le bit des unités) permet de savoir si un entier est pair ou impair: si ce bit est 0, alors l'entier est pair, sinon il est impair.\n",
    "* En inversant l'argument précédent, il est donc aisé de déterminer le bit de poids faible en testant si un nombre est divisible par deux ou non. On utilise pour cela l'opérateur `%` de python donnant le reste d'une division euclidienne.\n",
    "* Une fois que l'on a déterminé le bit de poids faible, il suffit de recommencer pour les bits situés plus à gauche, en décalant le tout vers la droite. Un décalage vers la droite en binaire correspond exactement à une division euclidienne par deux (c'est l'équivalent d'une division par 10 en décimal).\n",
    "\n",
    "On obtient alors l'algorithme suivant:"
   ]
  },
  {
   "cell_type": "markdown",
   "metadata": {},
   "source": [
    "```\n",
    "Tant que N est strictement positif faire:\n",
    "    Si N est pair alors:\n",
    "        Afficher 0\n",
    "    Sinon:\n",
    "        Afficher 1\n",
    "        N prend la valeur N moins 1\n",
    "    N prend la valeur N divisé par 2\n",
    "````"
   ]
  },
  {
   "cell_type": "markdown",
   "metadata": {},
   "source": [
    "Remarquons que cet algorithme affiche les bits à l'envers: pour éviter cet inconvénient, on créera plutôt une chaîne de caractère pour laquelle il sera facile d'ordonner les bits correctement (on peut toujours décider d'ajouter un caractère devant ou derrière une chaîne existante, selon ce que l'on cherche à faire).\n",
    "\n",
    "Il est possible de détailler davantage le test de la conditionnelle:"
   ]
  },
  {
   "cell_type": "markdown",
   "metadata": {},
   "source": [
    "```\n",
    "Tant que N est strictement positif faire:\n",
    "    Si N % 2 == 0 alors:\n",
    "        Afficher 0\n",
    "    Sinon:\n",
    "        Afficher 1\n",
    "        N prend la valeur N moins 1\n",
    "    N prend la valeur N divisé par 2\n",
    "````"
   ]
  },
  {
   "cell_type": "markdown",
   "metadata": {},
   "source": [
    "En effet, dire que \\\\(N\\\\) est pair équivaut à dire que le reste de la division euclidienne de \\\\(N\\\\) par 2 vaut 0, ce qui se traduit en python par `N % 2 == 0`."
   ]
  },
  {
   "cell_type": "markdown",
   "metadata": {},
   "source": [
    "---\n",
    "**Exercice 6:** Implémenter l'algorithme précédent en python, sous la forme d'une fonction `bin2(nombre)` prenant pour paramètre un entier naturel et renvoyant en valeur de retour une chaîne de caractère contenant la représentation binaire correcte du nombre. Dit plus simplement: la fonction `bin2()` doit réaliser exactement la même chose que la fonction `bin()` de python ou que la fonction `bin1()` précédente."
   ]
  },
  {
   "cell_type": "markdown",
   "metadata": {},
   "source": [
    "### Algorithme 3: conversion du binaire vers le décimal."
   ]
  },
  {
   "cell_type": "markdown",
   "metadata": {},
   "source": [
    "L'algorithme permettant de convertir un nombre donné en base 2 vers un nombre décimal est conceptuellement plus simple: il revient simplement à réaliser le calcul"
   ]
  },
  {
   "cell_type": "markdown",
   "metadata": {},
   "source": [
    "$$ N = b_n\\times 2^n + b_{n-1}\\times 2^{n-1} + \\cdots + b_2\\times 2^2 + b_1\\times 2^1 + b_0\\times 2^0$$"
   ]
  },
  {
   "cell_type": "markdown",
   "metadata": {},
   "source": [
    "à partir des bits \\\\(b_k\\\\)."
   ]
  },
  {
   "cell_type": "markdown",
   "metadata": {},
   "source": [
    "---\n",
    "**Exercice 7:** Implémenter cet algorithme précédent en python, sous la forme d'une fonction `decimal(chaîne)` prenant pour paramètre une chaîne de caractère ne contenant que des 0 et des 1 (aucun test ne sera effectué pour s'en assurer) et renvoyant en valeur de retour l'entier correspondant."
   ]
  }
 ],
 "metadata": {
  "kernelspec": {
   "display_name": "Python 3",
   "language": "python",
   "name": "python3"
  },
  "language_info": {
   "codemirror_mode": {
    "name": "ipython",
    "version": 3
   },
   "file_extension": ".py",
   "mimetype": "text/x-python",
   "name": "python",
   "nbconvert_exporter": "python",
   "pygments_lexer": "ipython3",
   "version": "3.7.4"
  },
  "toc-autonumbering": true
 },
 "nbformat": 4,
 "nbformat_minor": 4
}

{
 "cells": [
  {
   "cell_type": "markdown",
   "metadata": {},
   "source": [
    "# Les concepts fondamentaux du langage python"
   ]
  },
  {
   "cell_type": "markdown",
   "metadata": {},
   "source": [
    "***"
   ]
  },
  {
   "cell_type": "markdown",
   "metadata": {},
   "source": [
    "## Les variables\n",
    "\n",
    "En python, une variable a un **nom** et on lui associe une **valeur**. "
   ]
  },
  {
   "cell_type": "markdown",
   "metadata": {},
   "source": [
    "### Création d'une variable\n",
    "\n",
    "Créer une variable en python est extrêmement simple: il suffit de lui affecter une valeur grâce au symbole `=`:"
   ]
  },
  {
   "cell_type": "code",
   "execution_count": 1,
   "metadata": {},
   "outputs": [],
   "source": [
    "x = 13"
   ]
  },
  {
   "cell_type": "markdown",
   "metadata": {},
   "source": [
    "Pour lire le contenu d'une variable (en mode interactif), il suffit de taper son nom:"
   ]
  },
  {
   "cell_type": "code",
   "execution_count": 2,
   "metadata": {},
   "outputs": [
    {
     "data": {
      "text/plain": [
       "13"
      ]
     },
     "execution_count": 2,
     "metadata": {},
     "output_type": "execute_result"
    }
   ],
   "source": [
    "x"
   ]
  },
  {
   "cell_type": "markdown",
   "metadata": {},
   "source": [
    "### Évolution d'une variable\n",
    "\n",
    "Contrairement à la notion de variable en mathématique (où la valeur ne change en général pas), les variables en python portent bien leur nom: elles varient !\n",
    "\n",
    "Pour changer la valeur d'une variable, il suffit de lui en affecter une nouvelle. Le nom de la variable sera alors associé à la nouvelle valeur:"
   ]
  },
  {
   "cell_type": "code",
   "execution_count": 3,
   "metadata": {},
   "outputs": [
    {
     "name": "stdout",
     "output_type": "stream",
     "text": [
      "Valeur initiale: 1\n",
      "Nouvelle valeur: 35\n"
     ]
    }
   ],
   "source": [
    "x = 1\n",
    "print(\"Valeur initiale:\", x)\n",
    "x = 35\n",
    "print(\"Nouvelle valeur:\", x)"
   ]
  },
  {
   "cell_type": "markdown",
   "metadata": {},
   "source": [
    "Dans l'exemple précédent, on a aussi utilisé la fonction `print(valeur1, valeur2, ...)` pour afficher dans la console les valeurs successives de `x`, agrémentées de messages informatifs."
   ]
  },
  {
   "cell_type": "markdown",
   "metadata": {},
   "source": [
    "### Affection $\\neq$ Égalité\n",
    "\n",
    "Un point très important: le symbole `=` en python est un symbole d'**affectation** et non pas un symbole d'égalité. D'ailleurs, pour tester l'égalité entre deux valeurs en python (et dans de nombreux autres langages de programmation) on utilise le double symbole d'égalité `==` comme nous le verrons un peu plus tard.\n",
    "\n",
    "Voici un exemple illustrant cette nuance:"
   ]
  },
  {
   "cell_type": "code",
   "execution_count": 4,
   "metadata": {},
   "outputs": [
    {
     "name": "stdout",
     "output_type": "stream",
     "text": [
      "Valeur initiale: 1\n",
      "Nouvelle valeur:  2\n"
     ]
    }
   ],
   "source": [
    "x = 1\n",
    "print(\"Valeur initiale:\", x)\n",
    "x = x + 1\n",
    "print(\"Nouvelle valeur: \", x)"
   ]
  },
  {
   "cell_type": "markdown",
   "metadata": {},
   "source": [
    "On se rend bien compte que l'on ne peut pas comprendre la ligne `x = x + 1` comme une égalité mathématique. D'ailleurs, en mathématique, l'égalité $x = x + 1$ serait toujours fausse. Et si la considérait comme une équation, elle n'aurait aucune solution.\n",
    "\n",
    "Voici comment python gère cette instruction:\n",
    "1. Il commence par calculer la valeur du membre de droite. Comme `x` vaut initialement 1, le membre de droite vaudra 2.\n",
    "2. Ensuite, il **affecte** ce résultat à la variable se trouvant dans le membre de gauche, qui se trouve être encore une fois `x`: autrement dit, `x` change de valeur et vaudra à présent 2.\n",
    "\n",
    "L'instruction `x = x + 1` est très courante en informatique: elle sert à incrémenter une variable de 1.\n",
    "\n",
    "Attention, il n'est pas possible d'échanger les deux membres de l'affectation: le membre de gauche doit nécessairement être le nom d'une variable à laquelle sera affecté le résultat du calcul du membre de droite.\n",
    "\n",
    "Ainsi, l'instruction `x + 1 = x` déclenche une erreur:"
   ]
  },
  {
   "cell_type": "markdown",
   "metadata": {},
   "source": [
    "```python\n",
    ">>> x + 1 = x\n",
    "  File \"<stdin>\", line 1\n",
    "SyntaxError: can't assign to operator\n",
    "```"
   ]
  },
  {
   "cell_type": "markdown",
   "metadata": {},
   "source": [
    "### Faut-il déclarer une variable en python ?\n",
    "\n",
    "En mathématiques, on ne peut pas utiliser une variable (ou une indéterminée) sans l'avoir spéciée au préalable (avec une tournure classique: *Soit $x$ le réel tel que $\\dots$*).\n",
    "\n",
    "Dans de nombreux langages informatiques, il est de même nécessaire de déclarer une variable avant de pouvoir l'utiliser, en précisant par exemple que la variable `x` prendra toujours des valeurs entières.\n",
    "\n",
    "En python, non seulement cela n'est pas nécessaire comme nous l'avons vu plus haut, ce mécanisme est même inexistant. Cela comporte des avantages et des désavantages:\n",
    "* D'un côté, on gagne en souplesse, l'écriture des programmes est moins encombrées de tâches administratives;\n",
    "* Le revers de la médaille est que l'absence de déclaration rend la détection des bugs bien plus délicate, comme nous aurons hélas l'occasion de nous en rendre compte au fur et à mesure de l'année.\n",
    "\n",
    "Cependant, il demeure totalement interdit de vouloir accéder à une variable qui n'aura pas été initialisée au préalable:"
   ]
  },
  {
   "cell_type": "markdown",
   "metadata": {},
   "source": [
    "```python\n",
    ">>> print(toto)\n",
    "Traceback (most recent call last):\n",
    "  File \"<stdin>\", line 1, in <module>\n",
    "NameError: name 'toto' is not defined\n",
    "```"
   ]
  },
  {
   "cell_type": "markdown",
   "metadata": {},
   "source": [
    "Ici, la tentative d'accès à une variable `toto` est vouée à l'échec, puisqu'aucune variable portant ce nom n'a été définie au préalable."
   ]
  },
  {
   "cell_type": "markdown",
   "metadata": {},
   "source": [
    "On a vu un peu plus haut que d'autres langages de programmation imposent la déclaration préalable des variables avant leur utilisation, mais aussi imposent de déclarer le **type** de données qu'elles pourront contenir (nombre entier, nombre à virgule flottante, chaîne de caractères, etc$\\dots$)\n",
    "\n",
    "En python, non seulement c'est inutile, mais en outre python n'associe pas à une variable un quelconque type: ce sont les valeurs qui ont un type associé (python ne confondra jamais un entier avec une chaîne de caractère, par exemple), les variables sont simplement des noms auxquels sont associées des valeurs dont le type peut évoluer au cours du temps."
   ]
  },
  {
   "cell_type": "code",
   "execution_count": 5,
   "metadata": {},
   "outputs": [
    {
     "name": "stdout",
     "output_type": "stream",
     "text": [
      "42\n",
      "3.14\n",
      "Bonjour\n"
     ]
    }
   ],
   "source": [
    "x = 42\n",
    "print(x)\n",
    "x = 3.14\n",
    "print(x)\n",
    "x = \"Bonjour\"\n",
    "print(x)"
   ]
  },
  {
   "cell_type": "markdown",
   "metadata": {},
   "source": [
    ">**Règle d'or:**  À l'intérieur d'un programme (ou d'une fonction), on s'astreindra toujours à associer à une variable donnée un unique type de donnée, même si le langage autorise des débordements."
   ]
  },
  {
   "cell_type": "markdown",
   "metadata": {},
   "source": [
    "***"
   ]
  },
  {
   "cell_type": "markdown",
   "metadata": {},
   "source": [
    "## Les fonctions"
   ]
  },
  {
   "cell_type": "markdown",
   "metadata": {},
   "source": [
    "Lorsqu'un programme atteint une taille critique (de l'ordre de quelques dizaines de lignes maximum), il devient rapidement impératif d'organiser au mieux les lignes de code, tout comme on organise ses idées dans des parties séparées et des paragraphes pour une dissertation par exemple.\n",
    "\n",
    "En informatique, un des moyens pour atteindre cet objectif est d'utiliser la notion de **fonction**."
   ]
  },
  {
   "cell_type": "markdown",
   "metadata": {},
   "source": [
    "### Qu'est-ce qu'une fonction ?\n",
    "\n",
    "Une fonction en python peut rappeler par certains aspects la notion de fonction en mathématique: on peut voir une fonction comme une sorte de boîte noire prenant une ou plusieurs valeurs en entrée, et renvoyant une valeur en sortie.\n",
    "\n",
    "Le langage python est livré avec des milliers de fonctions déjà écrites, que l'on trouvera dans la **librairie standard**.\n",
    "\n",
    "Par exemple, il existe une librairie dédiée au mathématiques, comportant notamment la plupart des fonctions (au sens mathématique) utilisées au lycée:"
   ]
  },
  {
   "cell_type": "code",
   "execution_count": 6,
   "metadata": {},
   "outputs": [
    {
     "data": {
      "text/plain": [
       "3.0"
      ]
     },
     "execution_count": 6,
     "metadata": {},
     "output_type": "execute_result"
    }
   ],
   "source": [
    "from math import sqrt, cos, sin, pi\n",
    "\n",
    "sqrt(9)"
   ]
  },
  {
   "cell_type": "code",
   "execution_count": 7,
   "metadata": {},
   "outputs": [
    {
     "data": {
      "text/plain": [
       "0.0707372016677029"
      ]
     },
     "execution_count": 7,
     "metadata": {},
     "output_type": "execute_result"
    }
   ],
   "source": [
    "cos(1.5)"
   ]
  },
  {
   "cell_type": "code",
   "execution_count": 8,
   "metadata": {},
   "outputs": [
    {
     "data": {
      "text/plain": [
       "0.7071067811865476"
      ]
     },
     "execution_count": 8,
     "metadata": {},
     "output_type": "execute_result"
    }
   ],
   "source": [
    "sin(3*pi/4)"
   ]
  },
  {
   "cell_type": "markdown",
   "metadata": {},
   "source": [
    "Ici, ```sqrt```, ```cos``` et ```sin``` sont trois fonctions (au sens de python) qui se comportent exactement comme les fonctions équivalentes en mathématiques (sqrt vient de l'anglais *square root* qui se traduit littéralement en *racine carrée*).\n",
    "\n",
    "Mais le langage python dispose aussi de fonctions dont la vocation n'est pas de renvoyer une valeur, mais plutôt de produire un effet: affichage dans la console, émission d'un son, lancement d'une vidéo, accès au réseau, écriture sur un disque, etc$\\dots$.\n",
    "\n",
    "La fonction ```print``` en est un exemple : elle accepte un nombre indéterminé de paramètres, et les affiche dans la console en les séparant par des espaces:"
   ]
  },
  {
   "cell_type": "code",
   "execution_count": 9,
   "metadata": {},
   "outputs": [
    {
     "name": "stdout",
     "output_type": "stream",
     "text": [
      "La racine carrée de 42 est 6.48074069840786 .\n"
     ]
    }
   ],
   "source": [
    "print(\"La racine carrée de 42 est\", sqrt(42), \".\")"
   ]
  },
  {
   "cell_type": "markdown",
   "metadata": {},
   "source": [
    "Il n'y a pas d'équivalent en mathématique de la fonction ```print```: on constate qu'en python la notion de fonction est bien plus large que celle des mathématiques. On parle parfois de *sous programme* pour désigner une fonction dont le but n'est pas le calcul d'une valeur mais la production d'un effet."
   ]
  },
  {
   "cell_type": "markdown",
   "metadata": {},
   "source": [
    "### Comment définir une fonction en python ?\n",
    "\n",
    "Commençons par définir une fonction python qui s'appellera ```f```, et dont le comportement sera calculé sur la fonction mathématique $$f: x\\longmapsto (x+1)^2$$"
   ]
  },
  {
   "cell_type": "code",
   "execution_count": 10,
   "metadata": {},
   "outputs": [
    {
     "data": {
      "text/plain": [
       "16"
      ]
     },
     "execution_count": 10,
     "metadata": {},
     "output_type": "execute_result"
    }
   ],
   "source": [
    "def f(x):\n",
    "    return (x + 1)**2\n",
    "\n",
    "f(3)"
   ]
  },
  {
   "cell_type": "markdown",
   "metadata": {},
   "source": [
    "Le mot clé ```def``` annonce la définition d'une fonction. Il est toujours suivi du nom de cette fonction, puis de la liste des paramètres entre parenthèses.\n",
    "\n",
    "Le **corps** de la fonction est une suite plus ou moins longue d'instructions python, qui devra **toujours être indéntée** par rapport à la marge de gauche. C'est par ce mécanisme que le l'interpréteur du langage python saura quelles sont les lignes qui font partie de la fonction, et celles qui n'en font plus partie.\n",
    "\n",
    "L'instruction spéciale ```return``` signifie deux choses: elle interrompt d'une part l'exécution de la fonction (même s'il reste d'autres instructions derrière) et d'autre part quelle sera la **valeur de retour** de la fonction.\n",
    "\n",
    "La dernière ligne n'étant pas indentée, elle ne fait pas partie de la définition de la fonction. Bien au contraire, elle sert à **appeler la fonction** en associant au paramètre `x` la valeur 3. Comme on le constate, la valeur de retour est bien le nombre attendu, puisque $(3 + 1)^2 = 4^2 = 16$."
   ]
  },
  {
   "cell_type": "markdown",
   "metadata": {},
   "source": [
    "En python, on utilisera plutôt des noms de fonctions (mais aussi de paramètres, de variables) décrivant précisément leur usage, à l'inverse des mathématiques où on privilégie les variables et les fonctions à une lettre.\n",
    "\n",
    "Voici un exemple beaucoup plus *pythonesque*:"
   ]
  },
  {
   "cell_type": "code",
   "execution_count": 11,
   "metadata": {},
   "outputs": [
    {
     "data": {
      "text/plain": [
       "34"
      ]
     },
     "execution_count": 11,
     "metadata": {},
     "output_type": "execute_result"
    }
   ],
   "source": [
    "def périmètre_rectangle(longeur, largeur):\n",
    "    périmètre = (longeur + largeur) * 2\n",
    "    return périmètre\n",
    "\n",
    "périmètre_rectangle(5, 12)\n"
   ]
  },
  {
   "cell_type": "markdown",
   "metadata": {},
   "source": [
    "### Fonctions produisant un effet\n",
    "\n",
    "Voici un exemple d'une fonction qui ne renvoie aucune valeur: son but est simplement d'afficher un ou plusieurs messages dans la console: on dit que la fonction a un **effet de bord**:"
   ]
  },
  {
   "cell_type": "code",
   "execution_count": 12,
   "metadata": {},
   "outputs": [
    {
     "name": "stdout",
     "output_type": "stream",
     "text": [
      "Bonjour Pascal !\n",
      "Comment allez-vous ?\n"
     ]
    }
   ],
   "source": [
    "def salutation(prénom):\n",
    "    print(\"Bonjour\", prénom, \"!\")\n",
    "    print(\"Comment allez-vous ?\")\n",
    "    \n",
    "salutation(\"Pascal\")"
   ]
  },
  {
   "cell_type": "markdown",
   "metadata": {},
   "source": [
    "Une fonction peut très bien appeler une autre fonction: python ne perdra jamais le fil de l'exécution, et saura retrouver à chaque fois la ligne de code à partir de laquelle la fonction a été appelée.\n",
    "\n",
    "Un programme complet est en général constitué de dizaines (voire de milliers) de fonctions qui s'appellent mutuellement. Nous reparlerons plus tard des aspects pratiques de l'organisation du code d'un programme complet.\n",
    "\n",
    "Voici un exemple:"
   ]
  },
  {
   "cell_type": "code",
   "execution_count": 13,
   "metadata": {},
   "outputs": [
    {
     "name": "stdout",
     "output_type": "stream",
     "text": [
      "Lecteur MP3 - prix TTC:  53.82 €\n"
     ]
    }
   ],
   "source": [
    "def appliquer_tva(prix_hors_taxe, taux):\n",
    "    tva = prix_hors_taxe * taux / 100\n",
    "    return prix_hors_taxe + tva\n",
    "\n",
    "def imprime_étiquette(objet, prix_hors_taxe):\n",
    "    prix_ttc = appliquer_tva(prix_hors_taxe, 19.6)\n",
    "    print(objet, \"- prix TTC: \", prix_ttc, \"€\")\n",
    "    \n",
    "imprime_étiquette(\"Lecteur MP3\", 45)"
   ]
  },
  {
   "cell_type": "markdown",
   "metadata": {},
   "source": [
    "***"
   ]
  },
  {
   "cell_type": "markdown",
   "metadata": {},
   "source": [
    "## Les boucles"
   ]
  },
  {
   "cell_type": "markdown",
   "metadata": {},
   "source": [
    "Une des taches les plus courantes en informatique est la **répétition** d'une action: imprimer toutes les photos dans un répertoire, jouer séquentiellement toutes les musiques d'une playlist, gérer tous les joueurs dans un jeu vidéo.\n",
    "\n",
    "Imaginons que l'on souhaite faire une punition donnée par un professeur avec le langage python. Une solution naïve serait la suivante:"
   ]
  },
  {
   "cell_type": "code",
   "execution_count": 14,
   "metadata": {},
   "outputs": [
    {
     "name": "stdout",
     "output_type": "stream",
     "text": [
      "Je ne parle pas sans lever la main\n",
      "Je ne parle pas sans lever la main\n",
      "Je ne parle pas sans lever la main\n",
      "Je ne parle pas sans lever la main\n",
      "Je ne parle pas sans lever la main\n",
      "Je ne parle pas sans lever la main\n",
      "Je ne parle pas sans lever la main\n",
      "Je ne parle pas sans lever la main\n",
      "Je ne parle pas sans lever la main\n",
      "Je ne parle pas sans lever la main\n"
     ]
    }
   ],
   "source": [
    "print(\"Je ne parle pas sans lever la main\")\n",
    "print(\"Je ne parle pas sans lever la main\")\n",
    "print(\"Je ne parle pas sans lever la main\")\n",
    "print(\"Je ne parle pas sans lever la main\")\n",
    "print(\"Je ne parle pas sans lever la main\")\n",
    "print(\"Je ne parle pas sans lever la main\")\n",
    "print(\"Je ne parle pas sans lever la main\")\n",
    "print(\"Je ne parle pas sans lever la main\")\n",
    "print(\"Je ne parle pas sans lever la main\")\n",
    "print(\"Je ne parle pas sans lever la main\")\n"
   ]
  },
  {
   "cell_type": "markdown",
   "metadata": {},
   "source": [
    "Cette solution est à proscrire à tout prix: l'usage du *copier/coller* en informatique est en général le signe que l'on aurait dû faire appel à la notion de **boucle**. \n",
    "\n",
    "Une boucle est l'outil fondamental de la programmation permettant la répétition d'une ou plusieurs instructions.\n",
    "\n",
    "On distingue essentiellement deux types de boucles."
   ]
  },
  {
   "cell_type": "markdown",
   "metadata": {},
   "source": [
    "### Les boucles **pour**"
   ]
  },
  {
   "cell_type": "markdown",
   "metadata": {},
   "source": [
    "La boucle **pour** est symbolisée par l'algorithme suivant:\n",
    "\n",
    "```\n",
    "Pour i allant de 1 à 10 faire:\n",
    "    <instructions>\n",
    "```\n",
    "\n",
    "Elle est à utiliser lorsque l'on a besoin de répéter des instructions un nombre déterminé de fois.\n",
    "\n",
    "Ses avantages est que le langage gère automatiquement le changement de valeur du compteur `i`, qui variera automatiquement de 1 à 10 par pas de 1.\n",
    "\n",
    "Le désavantage est que l'on doit connaître à l'avance les bornes de la boucle: il n'est pas possible d'interrompre la boucle plus tôt si le besoin s'en fait sentir (ce n'est pas tout à fait vrai, mais dans un premier temps on s'en tiendra à cela).\n",
    "\n",
    "En python, la syntaxe de la boucle pour est un peu différente de celle proposée par l'algorithme ci-dessus. Elle correspond plutôt à l'algorithme:\n",
    "\n",
    "```\n",
    "Pour i prenant toutes les valeurs de la liste [x1, x2, ...] faire:\n",
    "    <instructions>\n",
    "```\n",
    "\n",
    "On peut néanmoins écrire notre punition d'une manière plus concise:"
   ]
  },
  {
   "cell_type": "code",
   "execution_count": 15,
   "metadata": {},
   "outputs": [
    {
     "name": "stdout",
     "output_type": "stream",
     "text": [
      "Je ne parle pas sans lever la main\n",
      "Je ne parle pas sans lever la main\n",
      "Je ne parle pas sans lever la main\n",
      "Je ne parle pas sans lever la main\n",
      "Je ne parle pas sans lever la main\n",
      "Je ne parle pas sans lever la main\n",
      "Je ne parle pas sans lever la main\n",
      "Je ne parle pas sans lever la main\n",
      "Je ne parle pas sans lever la main\n",
      "Je ne parle pas sans lever la main\n"
     ]
    }
   ],
   "source": [
    "for i in [1, 2, 3, 4, 5, 6, 7, 8, 9, 10]:\n",
    "    print(\"Je ne parle pas sans lever la main\")"
   ]
  },
  {
   "cell_type": "markdown",
   "metadata": {},
   "source": [
    "Bien sûr, il semblerait que l'on soit obligé d'énumérer les 10 valeurs de `i` dont on a besoin. Cela ne serait guère praticable pour une boucle devant aller de 1 à 1000 par exemple. Heureusement, il existe un moyen plus rapide: utiliser la fonction spéciale ```range(a, b)``` qui créera pour nous la liste des valeurs entières entre ```a``` inclu et ```b``` exclu."
   ]
  },
  {
   "cell_type": "code",
   "execution_count": 16,
   "metadata": {},
   "outputs": [
    {
     "name": "stdout",
     "output_type": "stream",
     "text": [
      "Je ne parle pas sans lever la main\n",
      "Je ne parle pas sans lever la main\n",
      "Je ne parle pas sans lever la main\n",
      "Je ne parle pas sans lever la main\n",
      "Je ne parle pas sans lever la main\n",
      "Je ne parle pas sans lever la main\n",
      "Je ne parle pas sans lever la main\n",
      "Je ne parle pas sans lever la main\n",
      "Je ne parle pas sans lever la main\n"
     ]
    }
   ],
   "source": [
    "for i in range(1, 10):\n",
    "    print(\"Je ne parle pas sans lever la main\")"
   ]
  },
  {
   "cell_type": "markdown",
   "metadata": {},
   "source": [
    "On a un soucis: il n'y a que 9 lignes. En effet, la valeur d'arrivée étant toujours exclue, la variable `i` parcourera les valeurs entières entre 1 et 9, soit 9 valeurs en tout. On peut d'ailleurs mettre cela en évidence en préfixant chaque ligne par son rang:"
   ]
  },
  {
   "cell_type": "code",
   "execution_count": 17,
   "metadata": {},
   "outputs": [
    {
     "name": "stdout",
     "output_type": "stream",
     "text": [
      "Ligne n° 1 : je ne parle pas sans lever la main\n",
      "Ligne n° 2 : je ne parle pas sans lever la main\n",
      "Ligne n° 3 : je ne parle pas sans lever la main\n",
      "Ligne n° 4 : je ne parle pas sans lever la main\n",
      "Ligne n° 5 : je ne parle pas sans lever la main\n",
      "Ligne n° 6 : je ne parle pas sans lever la main\n",
      "Ligne n° 7 : je ne parle pas sans lever la main\n",
      "Ligne n° 8 : je ne parle pas sans lever la main\n",
      "Ligne n° 9 : je ne parle pas sans lever la main\n"
     ]
    }
   ],
   "source": [
    "for i in range(1, 10):\n",
    "    print(\"Ligne n°\", i, \": je ne parle pas sans lever la main\")"
   ]
  },
  {
   "cell_type": "markdown",
   "metadata": {},
   "source": [
    "Comment rétablir le bon compte ? Une possibilité est d'aller une unité plus loin:"
   ]
  },
  {
   "cell_type": "code",
   "execution_count": 18,
   "metadata": {},
   "outputs": [
    {
     "name": "stdout",
     "output_type": "stream",
     "text": [
      "Ligne n° 1 : je ne parle pas sans lever la main\n",
      "Ligne n° 2 : je ne parle pas sans lever la main\n",
      "Ligne n° 3 : je ne parle pas sans lever la main\n",
      "Ligne n° 4 : je ne parle pas sans lever la main\n",
      "Ligne n° 5 : je ne parle pas sans lever la main\n",
      "Ligne n° 6 : je ne parle pas sans lever la main\n",
      "Ligne n° 7 : je ne parle pas sans lever la main\n",
      "Ligne n° 8 : je ne parle pas sans lever la main\n",
      "Ligne n° 9 : je ne parle pas sans lever la main\n",
      "Ligne n° 10 : je ne parle pas sans lever la main\n"
     ]
    }
   ],
   "source": [
    "for i in range(1, 11):\n",
    "    print(\"Ligne n°\", i, \": je ne parle pas sans lever la main\")"
   ]
  },
  {
   "cell_type": "markdown",
   "metadata": {},
   "source": [
    "Cela fonctionne, mais n'est pas très éléguant visuellement: on ne sait pas trop ce que vient faire le 11 ici, et calculer de tête le nombre de fois que la boucle s'exécutera n'est pas complètement aisé.\n",
    "\n",
    "On privilégiera plutôt la méthode alternative, très prisée des informaticiens (quel que soit leur langage de programmation) qui consiste à partir de zéro:"
   ]
  },
  {
   "cell_type": "code",
   "execution_count": 19,
   "metadata": {},
   "outputs": [
    {
     "name": "stdout",
     "output_type": "stream",
     "text": [
      "Ligne n° 0 : je ne parle pas sans lever la main\n",
      "Ligne n° 1 : je ne parle pas sans lever la main\n",
      "Ligne n° 2 : je ne parle pas sans lever la main\n",
      "Ligne n° 3 : je ne parle pas sans lever la main\n",
      "Ligne n° 4 : je ne parle pas sans lever la main\n",
      "Ligne n° 5 : je ne parle pas sans lever la main\n",
      "Ligne n° 6 : je ne parle pas sans lever la main\n",
      "Ligne n° 7 : je ne parle pas sans lever la main\n",
      "Ligne n° 8 : je ne parle pas sans lever la main\n",
      "Ligne n° 9 : je ne parle pas sans lever la main\n"
     ]
    }
   ],
   "source": [
    "for i in range(0, 10):\n",
    "    print(\"Ligne n°\", i, \": je ne parle pas sans lever la main\")"
   ]
  },
  {
   "cell_type": "markdown",
   "metadata": {},
   "source": [
    "Les informaticiens comptent quasiment tout le temps à partir de zéro, mais les simples mortels préfèrent en général compter à partir de un. C'est possible par une petite astuce:"
   ]
  },
  {
   "cell_type": "code",
   "execution_count": 20,
   "metadata": {},
   "outputs": [
    {
     "name": "stdout",
     "output_type": "stream",
     "text": [
      "Ligne n° 1 : je ne parle pas sans lever la main\n",
      "Ligne n° 2 : je ne parle pas sans lever la main\n",
      "Ligne n° 3 : je ne parle pas sans lever la main\n",
      "Ligne n° 4 : je ne parle pas sans lever la main\n",
      "Ligne n° 5 : je ne parle pas sans lever la main\n",
      "Ligne n° 6 : je ne parle pas sans lever la main\n",
      "Ligne n° 7 : je ne parle pas sans lever la main\n",
      "Ligne n° 8 : je ne parle pas sans lever la main\n",
      "Ligne n° 9 : je ne parle pas sans lever la main\n",
      "Ligne n° 10 : je ne parle pas sans lever la main\n"
     ]
    }
   ],
   "source": [
    "for i in range(0, 10):\n",
    "    print(\"Ligne n°\", i + 1, \": je ne parle pas sans lever la main\")"
   ]
  },
  {
   "cell_type": "markdown",
   "metadata": {},
   "source": [
    "Notons que, puisque ```range(0, arrivée)``` est utilisé extrêmement souvent, python autorise de ne pas mettre la première borne: dans ce cas, il considérera toujours que la boucle démarre à zéro:"
   ]
  },
  {
   "cell_type": "code",
   "execution_count": 21,
   "metadata": {},
   "outputs": [
    {
     "name": "stdout",
     "output_type": "stream",
     "text": [
      "Ligne n° 1 : je ne parle pas sans lever la main\n",
      "Ligne n° 2 : je ne parle pas sans lever la main\n",
      "Ligne n° 3 : je ne parle pas sans lever la main\n",
      "Ligne n° 4 : je ne parle pas sans lever la main\n",
      "Ligne n° 5 : je ne parle pas sans lever la main\n",
      "Ligne n° 6 : je ne parle pas sans lever la main\n",
      "Ligne n° 7 : je ne parle pas sans lever la main\n",
      "Ligne n° 8 : je ne parle pas sans lever la main\n",
      "Ligne n° 9 : je ne parle pas sans lever la main\n",
      "Ligne n° 10 : je ne parle pas sans lever la main\n"
     ]
    }
   ],
   "source": [
    "for i in range(10):\n",
    "    print(\"Ligne n°\", i + 1, \": je ne parle pas sans lever la main\")"
   ]
  },
  {
   "cell_type": "markdown",
   "metadata": {},
   "source": [
    "Mis à part le fait que la variable boucle à partir de zéro, ce qui requiert une certaine habitude, cette écriture a l'avantage énorme de montrer visuellement le nombre de fois que la boucle s'exécutera.\n",
    "\n",
    "On peut à présent utiliser le concept de boucle pour effectuer des tâches plus intéressantes qu'une punition, comme par exemple afficher la liste de 10 premiers carrés:"
   ]
  },
  {
   "cell_type": "code",
   "execution_count": 22,
   "metadata": {},
   "outputs": [
    {
     "name": "stdout",
     "output_type": "stream",
     "text": [
      "Le carré de 1 est 1\n",
      "Le carré de 2 est 4\n",
      "Le carré de 3 est 9\n",
      "Le carré de 4 est 16\n",
      "Le carré de 5 est 25\n",
      "Le carré de 6 est 36\n",
      "Le carré de 7 est 49\n",
      "Le carré de 8 est 64\n",
      "Le carré de 9 est 81\n",
      "Le carré de 10 est 100\n"
     ]
    }
   ],
   "source": [
    "for i in range(10):\n",
    "    print(\"Le carré de\", i + 1, \"est\", (i + 1)**2)"
   ]
  },
  {
   "cell_type": "markdown",
   "metadata": {},
   "source": [
    "Enfin, pour clôre ce paragraphe, notons que python offre la possibilité de boucler sur des listes quelconques, ce qui dans certains cas est bien pratique:"
   ]
  },
  {
   "cell_type": "code",
   "execution_count": 23,
   "metadata": {},
   "outputs": [
    {
     "name": "stdout",
     "output_type": "stream",
     "text": [
      "J'adore manger de la banane .\n",
      "J'adore manger de la pomme .\n",
      "J'adore manger de la fraise .\n",
      "J'adore manger de la tomate .\n"
     ]
    }
   ],
   "source": [
    "for fruit in [\"banane\", \"pomme\", \"fraise\", \"tomate\"]:\n",
    "    print(\"J'adore manger de la\", fruit, \".\")"
   ]
  },
  {
   "cell_type": "markdown",
   "metadata": {},
   "source": [
    "### La boucle **tant que**\n",
    "\n",
    "La boucle **tant que** fonctionne de manière fondamentalement différente de la boucle **pour**: algorithmiquement, elle correspond à\n",
    "\n",
    "\n",
    "```\n",
    "Tant que <condition est satisfaite> faire:\n",
    "    <instructions>\n",
    "```\n",
    "\n",
    "Elle est bien plus souple que la boucle **pour**: en effet, on ne connait pas nécessairement à l'avance le nombre de fois que la boucle s'exécutera.\n",
    "\n",
    "Cependant, il est tout à fait possible de simuler une boucle **pour** à l'aide d'une boucle **tant que**, comme le montre l'exemple suivant:"
   ]
  },
  {
   "cell_type": "code",
   "execution_count": 24,
   "metadata": {},
   "outputs": [
    {
     "name": "stdout",
     "output_type": "stream",
     "text": [
      "Le carré de 1 est 1\n",
      "Le carré de 2 est 4\n",
      "Le carré de 3 est 9\n",
      "Le carré de 4 est 16\n",
      "Le carré de 5 est 25\n",
      "Le carré de 6 est 36\n",
      "Le carré de 7 est 49\n",
      "Le carré de 8 est 64\n",
      "Le carré de 9 est 81\n",
      "Le carré de 10 est 100\n"
     ]
    }
   ],
   "source": [
    "i = 0\n",
    "while i < 10:\n",
    "    print(\"Le carré de\", i + 1, \"est\", (i + 1)**2)\n",
    "    i = i + 1"
   ]
  },
  {
   "cell_type": "markdown",
   "metadata": {},
   "source": [
    "Cette boucle produit exactement le même résultat que l'exemple précédent utilisant une boucle **pour**. Que constate-t-on ?\n",
    "\n",
    "* Il est nécessaire d'initialiser le compteur avant la boucle ;\n",
    "* La fin de la boucle est gérée par une condition: ici, on boucle tant que le compteur est inférieur à 10 pour simuler ce que fait ```range(10)``` ;\n",
    "* Il est indispensable d'incrémenter le compteur manuellement, généralement en fin de boucle (mais pas nécessairement).\n",
    "\n",
    "Cet exemple est à prendre comme un exemple type d'une boucle **pour** simulée par une boucle **tant que**. Il est toujours possible de remplacer une boucle **pour** par une boucle **tant que** (bien que, dans le cas présent, cela soit moins lisible et donc moins pratique), mais l'inverse est fausse.\n",
    "\n",
    "Voici un exemple où l'on souhaite chercher le plus petit entier dont le carré est inférieur ou égal à 350 (nombre choisi arbitrairement). La boucle **pour** ne permet pas de réaliser cela, car on ne peut pas savoir à l'avance quelle est la réponse ($\\dots$ justement). On utilise alors une boucle **tant que** ressemblant un peu à l'exemple précédent:"
   ]
  },
  {
   "cell_type": "code",
   "execution_count": 25,
   "metadata": {},
   "outputs": [
    {
     "name": "stdout",
     "output_type": "stream",
     "text": [
      "Le plus petit entier dont le carré est supérieur à 350 est 19\n",
      "En effet:\n",
      "18 * 18 = 324\n",
      "19 * 19 = 361\n"
     ]
    }
   ],
   "source": [
    "n = 1\n",
    "while n*n <= 350:\n",
    "    n = n + 1\n",
    "print(\"Le plus petit entier dont le carré est supérieur à 350 est\", n)\n",
    "print(\"En effet:\")\n",
    "print(n - 1, \"*\", n - 1, \"=\", (n-1)**2)\n",
    "print(n, \"*\", n, \"=\", n*n)"
   ]
  },
  {
   "cell_type": "markdown",
   "metadata": {},
   "source": [
    "Un autre exemple, toujours mathématique: on peut démontrer que la somme $$1 + \\frac12 + \\frac14 + \\frac18 + \\cdots + \\frac1{2^n}$$ s'approche de plus en plus de 2 au fur et à mesure que $n$ grandit. On dit d'ailleurs en mathématiques que $2$ est la *limite* de cette somme lorsque $n\\rightarrow +\\infty$. \n",
    "\n",
    "Cherchons à partir de quelle valeur de $n$ la somme sera supérieure à $1,999999$. Là encore, une boucle **pour** n'est guère envisageable, puisque l'on n'a aucune idée de la valeur de $n$ à atteindre. On utilise alors une boucle **tant que**:"
   ]
  },
  {
   "cell_type": "code",
   "execution_count": 26,
   "metadata": {},
   "outputs": [
    {
     "name": "stdout",
     "output_type": "stream",
     "text": [
      "Pour n =  21 la somme vaut 1.9999990463256836\n"
     ]
    }
   ],
   "source": [
    "somme = 0.0\n",
    "n = 0\n",
    "while somme < 1.999999:\n",
    "    somme = somme + 1 / (2**n)\n",
    "    n = n + 1\n",
    "\n",
    "print(\"Pour n = \", n, \"la somme vaut\", somme)"
   ]
  },
  {
   "cell_type": "markdown",
   "metadata": {},
   "source": [
    "## Les conditionnelles"
   ]
  },
  {
   "cell_type": "markdown",
   "metadata": {},
   "source": [
    "### Exécuter du code sous certaines conditions"
   ]
  },
  {
   "cell_type": "markdown",
   "metadata": {},
   "source": [
    "Certains algorithmes requièrent que des instructions ne soient exécutées que sous certaines conditions:\n",
    "\n",
    "```\n",
    "Si <condition> alors:\n",
    "    <instructions>\n",
    "```\n",
    "\n",
    "Voici un exemple en python: on aimerait écrire un programme simulant le lancer d'un dé à 6 faces (équilibré). Le joueur gagne lorsqu'il tire un 6.\n",
    "\n",
    "Pour cela, on utilise la fonction `randint(a, b)` de la librairie `random` qui renvoie un nombre aléatoire (équiréparti) $n$ tel que $a \\leqslant n \\leqslant b$:"
   ]
  },
  {
   "cell_type": "code",
   "execution_count": 32,
   "metadata": {},
   "outputs": [
    {
     "name": "stdout",
     "output_type": "stream",
     "text": [
      "Le nombre tiré est 6\n",
      "Vou avez gagné !\n"
     ]
    }
   ],
   "source": [
    "from random import randint\n",
    "\n",
    "n = randint(1, 6)\n",
    "print(\"Le nombre tiré est\", n)\n",
    "if n == 6:\n",
    "    print(\"Vou avez gagné !\")"
   ]
  },
  {
   "cell_type": "markdown",
   "metadata": {},
   "source": [
    "### Code avec une alternative"
   ]
  },
  {
   "cell_type": "markdown",
   "metadata": {},
   "source": [
    "Le code précédent fonctionne, mais il faut relancer plusieurs fois la cellule pour voir s'afficher le message de victoire (lorsqu'un 6 est tiré).\n",
    "\n",
    "On aimerait pouvoir afficher un message alternatif en cas de défaite uniquement. Algorithmiquement, cela correspond à:\n",
    "\n",
    "```\n",
    "Si <condition> alors:\n",
    "    <instructions>\n",
    "Sinon:\n",
    "    <instructions>\n",
    "```\n",
    "\n",
    "Python offre une structure correspondant exactement à cela, à la traduction en anglais près:"
   ]
  },
  {
   "cell_type": "code",
   "execution_count": 34,
   "metadata": {},
   "outputs": [
    {
     "name": "stdout",
     "output_type": "stream",
     "text": [
      "Le nombre tiré est 5\n",
      "La victoire est proche. Essayez encore !\n"
     ]
    }
   ],
   "source": [
    "from random import randint\n",
    "\n",
    "n = randint(1, 6)\n",
    "print(\"Le nombre tiré est\", n)\n",
    "if n == 6:\n",
    "    print(\"Vou avez gagné !\")\n",
    "else:\n",
    "    print(\"La victoire est proche. Essayez encore !\")"
   ]
  },
  {
   "cell_type": "markdown",
   "metadata": {},
   "source": [
    "### Code avec plusieurs alternatives"
   ]
  },
  {
   "cell_type": "markdown",
   "metadata": {},
   "source": [
    "Il n'est pas rare de vouloir code l'équivalent algorithmique de:\n",
    "\n",
    "```\n",
    "Si <condition1> alors:\n",
    "    <instructions>\n",
    "Sinon Si <condition2> alors:\n",
    "    <instructions>\n",
    "Sinon Si <condition3> alors:\n",
    "    <instructions>\n",
    "Sinon:\n",
    "    <instructions>\n",
    "```\n",
    "\n",
    "En raison des indentations obligatoires, cela donnerait en python:\n",
    "\n",
    "```python\n",
    "if condition1:\n",
    "    instruction1()\n",
    "else:\n",
    "    if condition2:\n",
    "        instruction2()\n",
    "    else:\n",
    "        if condition3:\n",
    "            instruction3()\n",
    "        else:\n",
    "            instruction4()\n",
    "```\n",
    "\n",
    "Le code obtenu est visuellement très laid. Pour parer à cet inconvénient, les concepteurs du langage on créé un mot valise correspondant à la concaténation de ```else``` et ```if```: ```elif```.\n",
    "\n",
    "Le programme précédent devient alors:\n",
    "\n",
    "```python\n",
    "if condition1:\n",
    "    instruction1()\n",
    "elif condition2():\n",
    "    instruction2()\n",
    "elif condition3():\n",
    "    instruction3()\n",
    "else:\n",
    "    instruction4()\n",
    "```"
   ]
  },
  {
   "cell_type": "markdown",
   "metadata": {},
   "source": [
    "L'avantage évident de cette nouvelle construction est que, quel que soit le nombre d'alternatives, le code restera toujours callé sur la marge de gauche."
   ]
  }
 ],
 "metadata": {
  "kernelspec": {
   "display_name": "Python 3",
   "language": "python",
   "name": "python3"
  },
  "language_info": {
   "codemirror_mode": {
    "name": "ipython",
    "version": 3
   },
   "file_extension": ".py",
   "mimetype": "text/x-python",
   "name": "python",
   "nbconvert_exporter": "python",
   "pygments_lexer": "ipython3",
   "version": "3.7.4"
  },
  "toc-autonumbering": true,
  "toc-showcode": false,
  "toc-showmarkdowntxt": false,
  "toc-showtags": false
 },
 "nbformat": 4,
 "nbformat_minor": 4
}

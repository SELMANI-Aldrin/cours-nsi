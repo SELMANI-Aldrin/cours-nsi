{
 "cells": [
  {
   "cell_type": "markdown",
   "metadata": {},
   "source": [
    "# TP - Les fondamentaux du langage python - Partie I"
   ]
  },
  {
   "cell_type": "markdown",
   "metadata": {},
   "source": [
    "## Plus petit - plus grand"
   ]
  },
  {
   "cell_type": "markdown",
   "metadata": {},
   "source": [
    "Votre première tâche consiste à programmer le jeu *plus petit / plus grand* dont le fonctionnement est très simple:\n",
    "\n",
    "*  Le programme choisit au hasard un nombre entier compris entre 1 et 100 ;\n",
    "*  Une fois ce choix effectué, le programme demande à l'utilisateur de choisir un nombre compris entre 1 et 100 ;\n",
    "* Si l'utilisateur a trouvé le nombre choisi au départ, il a gagné et le jeu s'arrête ;\n",
    "* Sinon, le programme affiche *Trop petit* ou *Trop grand* afin de guider l'utilisateur pour ses choix futures ;\n",
    "* Tant que le joueur n'a pas trouvé la bonne réponse, le programme lui redemande de faire un nouveau choix."
   ]
  },
  {
   "cell_type": "markdown",
   "metadata": {},
   "source": [
    "## Outils nécessaires pour réaliser ce programme\n",
    "\n",
    "  * Vous devrez accéder à la fonction ```randint(a, b)``` de la librairie standard ```random``` de python.\n",
    "  \n",
    "Voici un exemple où on choisit un nombre aléatoire entre 1 et 6 (inclus):"
   ]
  },
  {
   "cell_type": "code",
   "execution_count": 1,
   "metadata": {},
   "outputs": [
    {
     "data": {
      "text/plain": [
       "5"
      ]
     },
     "execution_count": 1,
     "metadata": {},
     "output_type": "execute_result"
    }
   ],
   "source": [
    ">>> from random import randint\n",
    ">>> randint(1, 6)"
   ]
  },
  {
   "cell_type": "markdown",
   "metadata": {},
   "source": [
    "  * Pour demander une valeur à l'utilisateur, utiliser la fonction standard ```input()```. Attention, celle-ci renvoie toujours une chaîne de caractère, qu'il faut ensuite convertir en un entier avec la fonction standard ```int()```:"
   ]
  },
  {
   "cell_type": "markdown",
   "metadata": {},
   "source": [
    "```python\n",
    "\n",
    "saisie = input(\"Entrer un nombre entre 1 et 100: \")\n",
    "nombre = int(saisie)\n",
    "print(nombre)\n",
    "```"
   ]
  },
  {
   "cell_type": "markdown",
   "metadata": {},
   "source": [
    "Remarquez que dans le code précédent, on ne vérifie pas si le nombre entier est effectivement compris entre 1 et 100... Peut-être devriez-vous le faire ?"
   ]
  },
  {
   "cell_type": "markdown",
   "metadata": {},
   "source": [
    "## Extensions possibles\n",
    "\n",
    "Voici quelques idées pour ceux qui souhaiteraient aller un peu plus loin:\n",
    "\n",
    "  * S'assurer que le nombre saisi est bien compris entre 1 et 100\n",
    "  * Compter le nombre d'essais avant la victoire, et l'afficher: *Vous avez gagné en \\\\(x\\\\) coups*\n",
    "  * Interrompre le jeu si le nombre n'a pas été deviné au bout de 10 essais (par exemple). On considère qu'il s'agit d'une défaite dans ce cas"
   ]
  }
 ],
 "metadata": {
  "kernelspec": {
   "display_name": "Python 3",
   "language": "python",
   "name": "python3"
  },
  "language_info": {
   "codemirror_mode": {
    "name": "ipython",
    "version": 3
   },
   "file_extension": ".py",
   "mimetype": "text/x-python",
   "name": "python",
   "nbconvert_exporter": "python",
   "pygments_lexer": "ipython3",
   "version": "3.7.4"
  }
 },
 "nbformat": 4,
 "nbformat_minor": 4
}

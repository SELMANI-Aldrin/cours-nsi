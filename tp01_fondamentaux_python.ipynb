{
 "cells": [
  {
   "cell_type": "markdown",
   "metadata": {},
   "source": [
    "# TP - Les fondamentaux du langage python "
   ]
  },
  {
   "cell_type": "markdown",
   "metadata": {},
   "source": [
    "## Plus petit - plus grand"
   ]
  },
  {
   "cell_type": "markdown",
   "metadata": {},
   "source": [
    "Votre première tache consiste à programmer le jeu *plus petit / plus grand* dont le fonctionnement est très simple:\n",
    "\n",
    "*  Le programme choisit au hasard un nombre entier compris entre 1 et 100 ;\n",
    "*  Une fois ce choix effectué, le programme demande à l'utilisateur de choisir un nombre compris entre 1 et 100 ;\n",
    "* Si l'utilisateur a trouvé le nombre choisi au départ, il a gagné et le jeu s'arrête ;\n",
    "* Sinon, le programme affiche *Trop petit* ou *Trop grand* afin de guider l'utilisateur pour ses choix futures ;\n",
    "* Tant que le joueur n'a pas trouvé la bonne réponse, le programme lui redemande de faire un nouveau choix."
   ]
  },
  {
   "cell_type": "markdown",
   "metadata": {},
   "source": [
    "### Outils nécessaires pour réaliser ce programme\n",
    "\n",
    "  * Vous devrez accéder à la fonction ```randint(a, b)``` de la librairie standard ```random``` de python.\n",
    "  \n",
    "Voici un exemple où on choisit un nombre aléatoire entre 1 et 6 (inclus):"
   ]
  },
  {
   "cell_type": "code",
   "execution_count": 1,
   "metadata": {},
   "outputs": [
    {
     "data": {
      "text/plain": [
       "5"
      ]
     },
     "execution_count": 1,
     "metadata": {},
     "output_type": "execute_result"
    }
   ],
   "source": [
    ">>> from random import randint\n",
    ">>> randint(1, 6)"
   ]
  },
  {
   "cell_type": "markdown",
   "metadata": {},
   "source": [
    "  * Pour demander une valeur à l'utilisateur, utiliser la fonction standard ```input()```. Attention, celle-ci renvoie toujours une chaîne de caractère, qu'il faut ensuite convertir en un entier avec la fonction standard ```int()```:"
   ]
  },
  {
   "cell_type": "markdown",
   "metadata": {},
   "source": [
    "```python\n",
    "\n",
    "saisie = input(\"Entrer un nombre entre 1 et 100: \")\n",
    "nombre = int(saisie)\n",
    "print(nombre)\n",
    "```"
   ]
  },
  {
   "cell_type": "markdown",
   "metadata": {},
   "source": [
    "Remarquez que dans le code précédent, on ne vérifie pas si le nombre entier est effectivement compris entre 1 et 100... Peut-être devriez-vous le faire ?"
   ]
  },
  {
   "cell_type": "markdown",
   "metadata": {},
   "source": [
    "### Extensions possibles\n",
    "\n",
    "Voici quelques idées pour ceux qui souhaiteraient aller un peu plus loin:\n",
    "\n",
    "  * S'assurer que le nombre saisi est bien compris entre 1 et 100\n",
    "  * Compter le nombre d'essais avant la victoire, et l'afficher: *Vous avez gagné en \\\\(x\\\\) coups*\n",
    "  * Interrompre le jeu si le nombre n'a pas été deviné au bout de 10 essais (par exemple). On considère qu'il s'agit d'une défaite dans ce cas"
   ]
  },
  {
   "cell_type": "markdown",
   "metadata": {},
   "source": [
    "## La suite de Syracuse\n"
   ]
  },
  {
   "cell_type": "markdown",
   "metadata": {},
   "source": [
    "La suite de Syracuse (du nom de l'université située dans l'état de New-York) a été exposée pour la première fois en 1952. Il s'agit d'une suite de nombre entiers définie comme suit:\n",
    "\n",
    "* On part d'un entier naturel quelconque ;\n",
    "* Si cet entier est pair, alors on le divise par deux; sinon, on le multiplie par 3 et on rajoute 1;\n",
    "* On recommence à l'étape précédente afin d'obtenir une suite de nombre entiers.\n",
    " \n",
    "Par exemple, en partant de 14, la suite des nombres sera\n",
    "$$ 14, 7, 22, 11, 34, 17, 52, 26, 13, 40, 20, 10, 5, 16, 8, 4, 2, 1, 4, 2, 1, 4, 2, 1, 4, \\ldots $$\n",
    "\n",
    "On constate que, si le nombre 1 apparaît dans la suite, alors le reste de la suite bouclera toujours sur les nombres \\\\(1, 4, 2, 1, 4, 2, 1, \\ldots\\\\)."
   ]
  },
  {
   "cell_type": "markdown",
   "metadata": {},
   "source": [
    "  \n",
    "Cette suite a donné lieu à une célèbre conjecture, appellée **conjecture de Syracuse**. Cette conjecture stipule que, quel que soit l'entier naturel de départ, la suite de Syracuse finira toujours par aboutir au nombre 1. \n",
    "\n",
    "À l'heure actuelle, personne n'a encore réussi à démontrer cette conjecture (on parlerait dans le cas contraire du **théorème de Syracuse**). À l'inverse, personne n'a non plus réussi à trouver un contre-exemple, même à l'aide des ordinateurs les plus puissants."
   ]
  },
  {
   "cell_type": "markdown",
   "metadata": {},
   "source": [
    "### Un premier programme\n",
    "\n",
    "Écrivez un programme qui, à partir d'un nombre donné, affiche tous les termes successifs de la suite de Syracuse. Le programme doit s'arrêter dès que le nombre 1 a été affiché."
   ]
  },
  {
   "cell_type": "markdown",
   "metadata": {},
   "source": [
    "Quelques indications techniques:\n",
    "\n",
    "* Pour savoir si un nombre est pair, utiliser l'opérateur `%` qui calcule le reste de la division euclidienne. En bref, `n % 2` vaudra 0 si `n` est pair, et vaudra 1 dans le cas contraire (en effet, lorsque l'on divise un nombre par deux suivant la procédure apprise à l'école primaire, le reste ne peut être égal qu'à zéro si la division est exacte, et 1 dans le cas contraire).\n",
    "* Lorsque l'on utilise l'opérateur de division `/` du langage python, le résultat sera toujours un nombre à virgule flottante (même si le nombre de départ est pair). Il faut alors utiliser l'opérateur de division euclidienne `//` qui, lui, donne toujours un résultat entier"
   ]
  },
  {
   "cell_type": "code",
   "execution_count": 2,
   "metadata": {},
   "outputs": [
    {
     "data": {
      "text/plain": [
       "2.0"
      ]
     },
     "execution_count": 2,
     "metadata": {},
     "output_type": "execute_result"
    }
   ],
   "source": [
    ">>> 4 / 2"
   ]
  },
  {
   "cell_type": "code",
   "execution_count": 3,
   "metadata": {},
   "outputs": [
    {
     "data": {
      "text/plain": [
       "2"
      ]
     },
     "execution_count": 3,
     "metadata": {},
     "output_type": "execute_result"
    }
   ],
   "source": [
    ">>> 4 // 2"
   ]
  },
  {
   "cell_type": "code",
   "execution_count": 4,
   "metadata": {},
   "outputs": [
    {
     "data": {
      "text/plain": [
       "1.5"
      ]
     },
     "execution_count": 4,
     "metadata": {},
     "output_type": "execute_result"
    }
   ],
   "source": [
    ">>> 3 / 2"
   ]
  },
  {
   "cell_type": "code",
   "execution_count": 5,
   "metadata": {},
   "outputs": [
    {
     "data": {
      "text/plain": [
       "1"
      ]
     },
     "execution_count": 5,
     "metadata": {},
     "output_type": "execute_result"
    }
   ],
   "source": [
    ">>> 3 // 2"
   ]
  },
  {
   "cell_type": "markdown",
   "metadata": {},
   "source": [
    "### Amélioration: le temps de vol\n",
    "\n",
    "On appelle **temps de vol** le nombre d'étapes nécessaires pour atteindre le nombre 1. Par exemple, en partant de 14, le temps de vol sera de 17."
   ]
  },
  {
   "cell_type": "markdown",
   "metadata": {},
   "source": [
    "Améliorez votre programme précédent afin qu'il calcule (correctement) le temps de vol et l'affiche une fois le programme terminé: *Pour le nombre 14 le temps de vol est de 17*."
   ]
  },
  {
   "cell_type": "markdown",
   "metadata": {},
   "source": [
    "### Amélioration 2: l'altitude maximale\n",
    "\n",
    "On appelle **altitude maximale** le plus grand entier atteint par la suite entre le nombre de départ et l'arrivée à 1.\n",
    "\n",
    "Modifiez votre programme afin qu'il affiche l'altitude maximale en plus du temps de vol."
   ]
  },
  {
   "cell_type": "markdown",
   "metadata": {},
   "source": [
    "### Organisation du code avec une fonction\n",
    "\n",
    "Modifiez votre programme afin que votre code soit placé dans une fonction ```syracuse(N)``` prenant pour paramètre l'entier de départ, et renvoyant à la fois le temps de vol et l'altitude maximale.\n",
    "\n",
    "Pour renvoyer plusieurs valeurs, il suffit d'utiliser la syntaxe suivante:\n",
    "\n",
    "```python\n",
    "\n",
    "def syracuse(N):\n",
    "    # votre code doit être placé ici\n",
    "    \n",
    "    return temps_de_vol, altitude_maximale\n",
    "```\n",
    "\n",
    "Pour appeler cette fonction, on écrira alors:\n",
    "\n",
    "```python\n",
    "temps_de_vol, altitude_maximale = syracuse(14)\n",
    "```"
   ]
  },
  {
   "cell_type": "markdown",
   "metadata": {},
   "source": [
    "### Le plus long temps de vol\n",
    "\n",
    "On aimerait à présent connaître le nombre entier inférieur à 100 (ou 1000. ou 10000) ayant le plus grand temps de vol.\n",
    "\n",
    "Votre programme devra à présent calculer (en utilisant la fonction précédente) puis afficher les temps de vol (et aussi l'altitude maximale) pour tous les entiers compris entre 1 et 100.\n",
    "\n",
    "À la fin, votre programme devra afficher l'entier ayant le plus grand temps de vol. Si plusieurs entiers ont le même temps de vol, on affichera le *plus petit* d'entre eux."
   ]
  }
 ],
 "metadata": {
  "kernelspec": {
   "display_name": "Python 3",
   "language": "python",
   "name": "python3"
  },
  "language_info": {
   "codemirror_mode": {
    "name": "ipython",
    "version": 3
   },
   "file_extension": ".py",
   "mimetype": "text/x-python",
   "name": "python",
   "nbconvert_exporter": "python",
   "pygments_lexer": "ipython3",
   "version": "3.7.4"
  }
 },
 "nbformat": 4,
 "nbformat_minor": 4
}

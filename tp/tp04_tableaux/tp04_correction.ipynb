{
 "cells": [
  {
   "cell_type": "markdown",
   "metadata": {},
   "source": [
    "# TP 4 - Les tableaux"
   ]
  },
  {
   "cell_type": "code",
   "execution_count": 1,
   "metadata": {},
   "outputs": [],
   "source": [
    "%load_ext autoreload\n",
    "%autoreload 2\n",
    "import sys\n",
    "import os\n",
    "sys.path.insert(0, os.path.join(os.getcwd(), \"dist\"))\n",
    "\n",
    "from tp04_tests import *"
   ]
  },
  {
   "cell_type": "markdown",
   "metadata": {},
   "source": [
    "---\n",
    "### Exercice 1"
   ]
  },
  {
   "cell_type": "markdown",
   "metadata": {},
   "source": [
    "Écrire une fonction `entiers_aléatoires(N, a, b)` qui prend pour argument un entier naturel `N` et renvoie un tableau contenant $N$ entiers aléatoires, tous compris entre $a$ et $b$ inclus. \n",
    "* Si $N$ est nul, la fonction renvoie un tableau vide.\n",
    "* On suppose que $a < b$ (aucune vérification ne sera effectuée).\n",
    "* On suppose que $N > 0$ (aucune vérification ne sera effectuée)."
   ]
  },
  {
   "cell_type": "markdown",
   "metadata": {},
   "source": [
    "**Ne valider qu'une seule des trois cellules ci-dessous avant de tester**"
   ]
  },
  {
   "cell_type": "code",
   "execution_count": 2,
   "metadata": {},
   "outputs": [],
   "source": [
    "# Solution 1 (tableau vide + append\n",
    "\n",
    "from random import randint\n",
    "\n",
    "def entiers_aléatoires(N, a, b):\n",
    "    \"\"\"Renvoie un tableau contenant N entiers aléatoires compris entre a et b.\"\"\"\n",
    "    \n",
    "    t = []\n",
    "    for i in range(N):\n",
    "        t.append(randint(a, b))\n",
    "        \n",
    "    return t"
   ]
  },
  {
   "cell_type": "code",
   "execution_count": 3,
   "metadata": {},
   "outputs": [],
   "source": [
    "# Solution 2:\n",
    "\n",
    "from random import randint\n",
    "\n",
    "def entiers_aléatoires(N, a, b):\n",
    "    \"\"\"Renvoie un tableau contenant N entiers aléatoires compris entre a et b.\"\"\"\n",
    "    \n",
    "    t = [0]*N\n",
    "    for i in range(N):\n",
    "        t[i] = randint(a, b)\n",
    "        \n",
    "    return t"
   ]
  },
  {
   "cell_type": "code",
   "execution_count": 4,
   "metadata": {},
   "outputs": [],
   "source": [
    "# Solution 3: Compréhension de liste\n",
    "\n",
    "def entier_aléatoire(N, a, b):\n",
    "    # Une variation sur la solution précédente, bien plus conscise. \n",
    "    # La valeur du compteur de boucle n'intervient pas, on utilise\n",
    "    # donc un underscore _ à la place d'un nom de variable.\n",
    "    return [randint(a, b) for _ in range(N)]"
   ]
  },
  {
   "cell_type": "code",
   "execution_count": 5,
   "metadata": {},
   "outputs": [
    {
     "name": "stdout",
     "output_type": "stream",
     "text": [
      "100 tests validés avec succès !\n"
     ]
    }
   ],
   "source": [
    "testeur = testeur_entiers_aléatoires(entiers_aléatoires)\n",
    "testeur.nombre_tests = 100\n",
    "testeur.max_erreurs = 10\n",
    "testeur.lance_tests()"
   ]
  },
  {
   "cell_type": "markdown",
   "metadata": {},
   "source": [
    "### Exercice 2\n",
    "\n",
    "Écrire des fonctions `mininimum(tableau)` et `maximum(tableau)` prenant en paramètre un tableau de nombres et renvoyant respectivement le minimum et le maximum des nombres rencontrés. Il est bien entendu interdit d'utiliser les fonctions `min()` et `max()` de python qui réalisent justement cela.\n",
    "\n",
    "En cas de tableau vide, ces deux fonctions doivent déclencher une erreur, car il n'y a pas de bonne réponse possible."
   ]
  },
  {
   "cell_type": "code",
   "execution_count": 6,
   "metadata": {},
   "outputs": [],
   "source": [
    "def minimum(tableau):\n",
    "    assert len(tableau) > 0, \"Erreur: le tableau ne doit pas être vide\"\n",
    "    \n",
    "    m = tableau[0]\n",
    "    for élément in tableau:\n",
    "        if élément < m:\n",
    "            m = élément\n",
    "            \n",
    "    return m"
   ]
  },
  {
   "cell_type": "code",
   "execution_count": 7,
   "metadata": {},
   "outputs": [],
   "source": [
    "def maximum(tableau):\n",
    "    assert len(tableau) > 0, \"Erreur: le tableau ne doit pas être vide\"\n",
    "    \n",
    "    m = tableau[0]\n",
    "    for élément in tableau:\n",
    "        # Un seul caractère change entre les deux fonctions: < devient > !\n",
    "        if élément > m:\n",
    "            m = élément\n",
    "            \n",
    "    return m"
   ]
  },
  {
   "cell_type": "code",
   "execution_count": 8,
   "metadata": {
    "tags": [
     "raises-exception"
    ]
   },
   "outputs": [
    {
     "name": "stdout",
     "output_type": "stream",
     "text": [
      "[932, 450, 690, 407, 827, 930, 932, 470, 439, 429]\n",
      "407\n",
      "932\n"
     ]
    }
   ],
   "source": [
    "# Vous pouvez tester votre code ici\n",
    "t= entiers_aléatoires(10, 1, 1000)\n",
    "print(t)\n",
    "print(minimum(t))\n",
    "print(maximum(t))"
   ]
  },
  {
   "cell_type": "code",
   "execution_count": 9,
   "metadata": {},
   "outputs": [
    {
     "name": "stdout",
     "output_type": "stream",
     "text": [
      "100 tests validés avec succès !\n"
     ]
    }
   ],
   "source": [
    "# Et la procédure de tests automatisée.\n",
    "\n",
    "# Pour le minimum:\n",
    "testeur = testeur_minimum(minimum)\n",
    "# On peut changer les deux paramètres ci-dessous si besoin:\n",
    "# testeur.nombre_tests = 100\n",
    "# testeur.erreurs_max = 10\n",
    "testeur.max_taille_tableau = 10\n",
    "testeur.lance_tests()"
   ]
  },
  {
   "cell_type": "code",
   "execution_count": 10,
   "metadata": {},
   "outputs": [
    {
     "name": "stdout",
     "output_type": "stream",
     "text": [
      "100 tests validés avec succès !\n"
     ]
    }
   ],
   "source": [
    "# Pour le maximum\n",
    "testeur = testeur_maximum(maximum)\n",
    "# On peut changer les deux paramètres ci-dessous si besoin:\n",
    "# testeur.nombre_tests = 100\n",
    "# testeur.erreurs_max = 10\n",
    "testeur.max_taille_tableau = 10\n",
    "testeur.lance_tests()"
   ]
  },
  {
   "cell_type": "markdown",
   "metadata": {},
   "source": [
    "---\n",
    "### Exercice 3\n",
    "\n",
    "Écrire une fonction `nombre_occurences(tableau, élément)` prenant pour paramètre un tableau et une valeur, et renvoyant le nombre de fois que cette valeur est contenue dans le tableau (ce nombre peut très bien être nul)."
   ]
  },
  {
   "cell_type": "code",
   "execution_count": 11,
   "metadata": {},
   "outputs": [],
   "source": [
    "def nombre_occurences(tableau, élément):\n",
    "    nombre = 0\n",
    "    for e in tableau:\n",
    "        if e == élément:\n",
    "            nombre = nombre + 1\n",
    "    return nombre"
   ]
  },
  {
   "cell_type": "code",
   "execution_count": 12,
   "metadata": {
    "tags": [
     "raises-exception"
    ]
   },
   "outputs": [
    {
     "data": {
      "text/plain": [
       "2"
      ]
     },
     "execution_count": 12,
     "metadata": {},
     "output_type": "execute_result"
    }
   ],
   "source": [
    "# Vous pouvez tester votre code ici\n",
    "t = entiers_aléatoires(20, 1, 10)\n",
    "nombre_occurences(t, 5)"
   ]
  },
  {
   "cell_type": "code",
   "execution_count": 13,
   "metadata": {},
   "outputs": [
    {
     "name": "stdout",
     "output_type": "stream",
     "text": [
      "100 tests validés avec succès !\n"
     ]
    }
   ],
   "source": [
    "testeur = testeur_nombre_occurences(nombre_occurences)\n",
    "testeur.max_taille_tableau = 20\n",
    "testeur.lance_tests()"
   ]
  },
  {
   "cell_type": "markdown",
   "metadata": {},
   "source": [
    "---\n",
    "\n",
    "### Exercice 4\n",
    "\n",
    "Écrire un programme tirant 1000 entiers compris entre 1 et 10, et affichant ensuite le nombre d'occurences de chaque entier entre 1 et 10 dans ce tableau. Vous pouvez bien entendu réutiliser des fonctions déjà existantes pour cela."
   ]
  },
  {
   "cell_type": "code",
   "execution_count": 14,
   "metadata": {},
   "outputs": [
    {
     "name": "stdout",
     "output_type": "stream",
     "text": [
      "Nombre de 1 : 105\n",
      "Nombre de 2 : 84\n",
      "Nombre de 3 : 98\n",
      "Nombre de 4 : 127\n",
      "Nombre de 5 : 79\n",
      "Nombre de 6 : 107\n",
      "Nombre de 7 : 90\n",
      "Nombre de 8 : 98\n",
      "Nombre de 9 : 101\n",
      "Nombre de 10 : 111\n",
      "Vérification: total = 1000\n"
     ]
    }
   ],
   "source": [
    "t = [randint(1, 10) for _ in range(1000)]\n",
    "\n",
    "total = 0\n",
    "for i in range(1, 11):\n",
    "    ni = nombre_occurences(t, i)\n",
    "    print(\"Nombre de\", i, \":\", ni)\n",
    "    total = total + ni\n",
    "print(\"Vérification: total =\", total)"
   ]
  },
  {
   "cell_type": "markdown",
   "metadata": {},
   "source": [
    "---\n",
    "\n",
    "### Exercice 5"
   ]
  },
  {
   "cell_type": "markdown",
   "metadata": {},
   "source": [
    "Écrire une fonction `somme(tableau)` calculant la somme des éléments (supposés être des nombres) de `tableau`.\n",
    "\n",
    "En déduire la fonction `moyenne(tableau)` calculant la moyenne des éléments de tableau."
   ]
  },
  {
   "cell_type": "code",
   "execution_count": 15,
   "metadata": {},
   "outputs": [],
   "source": [
    "def somme(tableau):\n",
    "    somme = 0\n",
    "    for valeur in tableau:\n",
    "        somme = somme + valeur\n",
    "        \n",
    "    return somme"
   ]
  },
  {
   "cell_type": "code",
   "execution_count": 16,
   "metadata": {},
   "outputs": [],
   "source": [
    "def moyenne(tableau):\n",
    "    assert len(tableau) > 0, \"Erreur: on ne peut pas calculer la moyenne d'un tableau vide\"\n",
    "    \n",
    "    return somme(tableau) / len(tableau)"
   ]
  },
  {
   "cell_type": "code",
   "execution_count": 17,
   "metadata": {
    "tags": [
     "raises-exception"
    ]
   },
   "outputs": [
    {
     "name": "stdout",
     "output_type": "stream",
     "text": [
      "123.0\n",
      "11.181818181818182\n"
     ]
    }
   ],
   "source": [
    "# Tester votre code ici\n",
    "notes = [12, 8.5, 10, 14, 13, 10, 10.5, 6, 11, 12, 16]\n",
    "print(somme(notes))\n",
    "print(moyenne(notes))"
   ]
  },
  {
   "cell_type": "markdown",
   "metadata": {},
   "source": [
    "---\n",
    "\n",
    "### Exercice 6"
   ]
  },
  {
   "cell_type": "markdown",
   "metadata": {},
   "source": [
    "Écrire une fonction `échange(tableau, i, j)` qui ne renvoie aucune valeur (il n'y aura donc pas d'instruction `return` dans cette fonction), mais échangera physiquement les éléments d'indices `i` et `j` dans le paramètre `tableau`. On suppose que la contrainte $0 \\leqslant i, j < \\text{len}(\\text{tableau})$ est vérifiée."
   ]
  },
  {
   "cell_type": "code",
   "execution_count": 18,
   "metadata": {},
   "outputs": [],
   "source": [
    "def échange(tableau, i, j):\n",
    "    # Méthode traditionnelle, en utilisant une variable temporaire\n",
    "    temp = tableau[i]\n",
    "    tableau[i] = tableau[j]\n",
    "    tableau[j] = temp"
   ]
  },
  {
   "cell_type": "code",
   "execution_count": 19,
   "metadata": {},
   "outputs": [],
   "source": [
    "def échange(tableau, i, j):\n",
    "    # Méthode pythonesque, en utilisant les affectations multiples\n",
    "    tableau[i], tableau[j] = tableau[j], tableau[i]"
   ]
  },
  {
   "cell_type": "code",
   "execution_count": 20,
   "metadata": {},
   "outputs": [
    {
     "data": {
      "text/plain": [
       "['Robin des bois', 'Dark Vador', 'Sauron', 'Oui-Oui']"
      ]
     },
     "execution_count": 20,
     "metadata": {},
     "output_type": "execute_result"
    }
   ],
   "source": [
    "# Tester votre code ici\n",
    "noms = [\"Robin des bois\", \"Dark Vador\", \"Oui-Oui\", \"Sauron\"]\n",
    "échange(noms, 2, 3)\n",
    "noms"
   ]
  },
  {
   "cell_type": "markdown",
   "metadata": {},
   "source": [
    "**Remarque importante:** Savoir échanger deux éléments d'un tableau (ou de la même façon, savoir échanger le contenu de deux variables) est un savoir faire important, il ne faut surtout pas l'oublier."
   ]
  },
  {
   "cell_type": "markdown",
   "metadata": {},
   "source": [
    "--- \n",
    "\n",
    "### Exercice 7\n",
    "\n",
    "Écrire une fonction `copie(tableau)` renvoyant une *copie* du tableau passé en paramètre. **Attention:** Il faudra s'assurer qu'il s'agit réellement d'une copie, c'est-à-dire d'un nouveau tableau contenant les mêmes éléments que le tableau initial.\n",
    "\n",
    "On peut tester que le tableau renvoyé est bien une copie en le modifiant: si le tableau initial est modifié à l'identique, alors il ne s'agissait pas d'une copie mais de deux variables pointant vers le même tableau en mémoire."
   ]
  },
  {
   "cell_type": "code",
   "execution_count": 21,
   "metadata": {},
   "outputs": [],
   "source": [
    "def copie(tableau):\n",
    "    duplicatat = [None] * len(tableau)\n",
    "    for i in range(len(tableau)):\n",
    "        duplicatat[i] = tableau[i]\n",
    "        \n",
    "    return duplicatat"
   ]
  },
  {
   "cell_type": "code",
   "execution_count": 22,
   "metadata": {
    "tags": [
     "raises-exception"
    ]
   },
   "outputs": [
    {
     "data": {
      "text/plain": [
       "[1, 2, 3, 4, 5, 6]"
      ]
     },
     "execution_count": 22,
     "metadata": {},
     "output_type": "execute_result"
    }
   ],
   "source": [
    "# Tester votre code ici\n",
    "nombres = [1, 2, 3, 4, 5, 6]\n",
    "duplicata = copie(nombres)\n",
    "duplicata"
   ]
  },
  {
   "cell_type": "code",
   "execution_count": 23,
   "metadata": {
    "tags": [
     "raises-exception"
    ]
   },
   "outputs": [
    {
     "data": {
      "text/plain": [
       "([1, 2, 3, 4, 5, 6], [1, 2, 3, 4, 5, 6, 7])"
      ]
     },
     "execution_count": 23,
     "metadata": {},
     "output_type": "execute_result"
    }
   ],
   "source": [
    "duplicata.append(7)\n",
    "nombres, duplicata"
   ]
  },
  {
   "cell_type": "markdown",
   "metadata": {},
   "source": [
    "---\n",
    "\n",
    "### Exercice 8\n",
    "\n",
    "Écrire une fonction `renverse(tableau)` renvoyant un nouveau tableau dans lequel les éléments sont placés dans l'ordre inverse."
   ]
  },
  {
   "cell_type": "code",
   "execution_count": 24,
   "metadata": {},
   "outputs": [],
   "source": [
    "def renverse(tableau):\n",
    "    N = len(tableau)\n",
    "    copie = [None] * N\n",
    "    \n",
    "    i = 0\n",
    "    j = N - 1\n",
    "    while i < j:\n",
    "        copie[i] = tableau[j]\n",
    "        copie[j] = tableau[i]\n",
    "        \n",
    "        i = i + 1\n",
    "        j = j - 1\n",
    "        \n",
    "    return copie"
   ]
  },
  {
   "cell_type": "code",
   "execution_count": 25,
   "metadata": {
    "tags": [
     "raises-exception"
    ]
   },
   "outputs": [
    {
     "data": {
      "text/plain": [
       "(['Sauron', 'Oui-Oui', 'Dark Vador', 'Robin des bois'],\n",
       " ['Robin des bois', 'Dark Vador', 'Oui-Oui', 'Sauron'])"
      ]
     },
     "execution_count": 25,
     "metadata": {},
     "output_type": "execute_result"
    }
   ],
   "source": [
    "# Tester votre code ici\n",
    "noms = [\"Robin des bois\", \"Dark Vador\", \"Oui-Oui\", \"Sauron\"]\n",
    "renverse(noms), noms"
   ]
  },
  {
   "cell_type": "markdown",
   "metadata": {},
   "source": [
    "---\n",
    "\n",
    "### Exercice 9\n",
    "\n",
    "Écrire une fonction `mélange(tableau)` prenant en paramètre un tableau, et permutant aléatoirement les éléments de celui-ci. La fonction ne renvoie aucune valeur, elle modifie physiquement le tableau passé en paramètre.\n",
    "\n",
    "On pourra utiliser l'algorithme suivant pour réaliser le mélange (appelé **algorithme de Knuth**): on parcourt le tableau de gauche à droite. Chaque élément d'incide `i` sera échangé avec un de ces prédécésseurs choisi au hasard: on choisit aléatoirement un entier `j` vérifiant la contrainte $0 \\leqslant j \\leqslant i$, et on procède à l'échange. \n",
    "\n",
    "Cet algorithme garantit que la permutation est réellement aléatoire (c'est-à-dire équirépartie): chaque permutation possible a autant de chance d'aboutir qu'une autre."
   ]
  },
  {
   "cell_type": "code",
   "execution_count": 26,
   "metadata": {},
   "outputs": [],
   "source": [
    "from random import randint\n",
    "\n",
    "def mélange(tableau):\n",
    "    for i in range(len(tableau)):\n",
    "        j = randint(0, i)\n",
    "        échange(tableau, i, j)"
   ]
  },
  {
   "cell_type": "code",
   "execution_count": 27,
   "metadata": {
    "tags": [
     "raises-exception"
    ]
   },
   "outputs": [
    {
     "name": "stdout",
     "output_type": "stream",
     "text": [
      "['Oui-Oui', 'Sauron', 'Dark Vador', 'Robin des bois']\n",
      "['Robin des bois', 'Oui-Oui', 'Sauron', 'Dark Vador']\n",
      "['Dark Vador', 'Oui-Oui', 'Robin des bois', 'Sauron']\n",
      "['Sauron', 'Robin des bois', 'Oui-Oui', 'Dark Vador']\n",
      "['Oui-Oui', 'Dark Vador', 'Robin des bois', 'Sauron']\n",
      "['Robin des bois', 'Oui-Oui', 'Dark Vador', 'Sauron']\n",
      "['Dark Vador', 'Oui-Oui', 'Robin des bois', 'Sauron']\n",
      "['Robin des bois', 'Sauron', 'Oui-Oui', 'Dark Vador']\n",
      "['Dark Vador', 'Oui-Oui', 'Sauron', 'Robin des bois']\n",
      "['Dark Vador', 'Robin des bois', 'Oui-Oui', 'Sauron']\n"
     ]
    }
   ],
   "source": [
    "# Vous pouvez tester votre code ici\n",
    "for i in range(10):\n",
    "    mélange(noms)\n",
    "    print(noms)"
   ]
  },
  {
   "cell_type": "markdown",
   "metadata": {},
   "source": [
    "---\n",
    "\n",
    "### Exercice 10\n",
    "\n",
    "Écrire une fonction`cartes_poker()` ne prenant aucun paramètre, et renvoyant une liste des 52 cartes contenues dans un jeu standard de poker. Une carte sera un couple de chaînes de caractères de la forme `(\"roi\", \"trèfle\")` par exemple.\n",
    "\n",
    "Attention, ne trichez pas: il est possible d'énumérer à la main les 52 cartes, mais ce n'est évidemment pas le but. Utilisez plutôt un algorithme.\n",
    "\n",
    "Les cartes devront être rangées par couleurs, dans l'ordre suivant: d'abord les trèfles, puis les piques, puis les carreaux, puis les coeurs. À l'intérieur d'une couleur, les cartes seront rangées par ordre croissant, c'est-à-dire du 2 à l'As."
   ]
  },
  {
   "cell_type": "code",
   "execution_count": 28,
   "metadata": {},
   "outputs": [],
   "source": [
    "def cartes_poker():\n",
    "    couleurs = [\"Trèfle\", \"Pique\", \"Carreau\", \"Coeur\"]\n",
    "    rangs = [\"Deux\", \"Trois\", \"Quatre\", \"Cinq\", \"Six\", \"Sept\", \n",
    "                     \"Huit\", \"Neuf\", \"Dix\", \"Valet\", \"Dame\", \"Roi\", \"As\"]\n",
    "    \n",
    "    cartes = []\n",
    "    for c in couleurs:\n",
    "        for r in rangs:\n",
    "            cartes.append((r, c))\n",
    "            \n",
    "    return cartes"
   ]
  },
  {
   "cell_type": "code",
   "execution_count": 29,
   "metadata": {
    "tags": [
     "raises-exception"
    ]
   },
   "outputs": [
    {
     "data": {
      "text/plain": [
       "[('Deux', 'Trèfle'),\n",
       " ('Trois', 'Trèfle'),\n",
       " ('Quatre', 'Trèfle'),\n",
       " ('Cinq', 'Trèfle'),\n",
       " ('Six', 'Trèfle'),\n",
       " ('Sept', 'Trèfle'),\n",
       " ('Huit', 'Trèfle'),\n",
       " ('Neuf', 'Trèfle'),\n",
       " ('Dix', 'Trèfle'),\n",
       " ('Valet', 'Trèfle'),\n",
       " ('Dame', 'Trèfle'),\n",
       " ('Roi', 'Trèfle'),\n",
       " ('As', 'Trèfle'),\n",
       " ('Deux', 'Pique'),\n",
       " ('Trois', 'Pique'),\n",
       " ('Quatre', 'Pique'),\n",
       " ('Cinq', 'Pique'),\n",
       " ('Six', 'Pique'),\n",
       " ('Sept', 'Pique'),\n",
       " ('Huit', 'Pique'),\n",
       " ('Neuf', 'Pique'),\n",
       " ('Dix', 'Pique'),\n",
       " ('Valet', 'Pique'),\n",
       " ('Dame', 'Pique'),\n",
       " ('Roi', 'Pique'),\n",
       " ('As', 'Pique'),\n",
       " ('Deux', 'Carreau'),\n",
       " ('Trois', 'Carreau'),\n",
       " ('Quatre', 'Carreau'),\n",
       " ('Cinq', 'Carreau'),\n",
       " ('Six', 'Carreau'),\n",
       " ('Sept', 'Carreau'),\n",
       " ('Huit', 'Carreau'),\n",
       " ('Neuf', 'Carreau'),\n",
       " ('Dix', 'Carreau'),\n",
       " ('Valet', 'Carreau'),\n",
       " ('Dame', 'Carreau'),\n",
       " ('Roi', 'Carreau'),\n",
       " ('As', 'Carreau'),\n",
       " ('Deux', 'Coeur'),\n",
       " ('Trois', 'Coeur'),\n",
       " ('Quatre', 'Coeur'),\n",
       " ('Cinq', 'Coeur'),\n",
       " ('Six', 'Coeur'),\n",
       " ('Sept', 'Coeur'),\n",
       " ('Huit', 'Coeur'),\n",
       " ('Neuf', 'Coeur'),\n",
       " ('Dix', 'Coeur'),\n",
       " ('Valet', 'Coeur'),\n",
       " ('Dame', 'Coeur'),\n",
       " ('Roi', 'Coeur'),\n",
       " ('As', 'Coeur')]"
      ]
     },
     "execution_count": 29,
     "metadata": {},
     "output_type": "execute_result"
    }
   ],
   "source": [
    "# Tester votre code ici\n",
    "cartes_poker()"
   ]
  },
  {
   "cell_type": "markdown",
   "metadata": {},
   "source": [
    "Écrire à présent une fonction `tirage_main()` ne prenant aucun paramètre, et renvoyant une **main** de cinq cartes, c'est-à-dire cinq cartes choisies aléatoirement parmi les 52 cartes renvoyées par la fonction précédente.\n",
    "\n",
    "Pour cela, vous écrirez une fonction auxilliaire `choix(tableau, nombre)` choisissant `nombre` valeurs aléatoirement parmi les élements du tableau `tableau`, sans répétitions. Attention, il ne faut en aucun cas modifier le tableau passé en paramètre.\n",
    "\n",
    "La fonction renverra un nouveau tableau contenant les éléments choisis."
   ]
  },
  {
   "cell_type": "code",
   "execution_count": 30,
   "metadata": {},
   "outputs": [],
   "source": [
    "def choix(tableau, nombre):\n",
    "    duplicatat = copie(tableau)\n",
    "    mélange(duplicatat)\n",
    "    choix = []\n",
    "    for i in range(nombre):\n",
    "        choix.append(duplicatat[i])\n",
    "    return choix"
   ]
  },
  {
   "cell_type": "code",
   "execution_count": 31,
   "metadata": {
    "tags": [
     "raises-exception"
    ]
   },
   "outputs": [
    {
     "name": "stdout",
     "output_type": "stream",
     "text": [
      "['D2', 'C2', 'C1']\n",
      "['B1', 'A2', 'B2']\n",
      "['C1', 'A1', 'A2']\n",
      "['C2', 'D2', 'A1']\n",
      "['B2', 'C1', 'D1']\n",
      "['A1', 'B1', 'A2']\n",
      "['D1', 'A1', 'C2']\n",
      "['A1', 'B2', 'A2']\n",
      "['C1', 'A2', 'B2']\n",
      "['A2', 'C2', 'D2']\n"
     ]
    },
    {
     "data": {
      "text/plain": [
       "['A1', 'A2', 'B1', 'B2', 'C1', 'C2', 'D1', 'D2']"
      ]
     },
     "execution_count": 31,
     "metadata": {},
     "output_type": "execute_result"
    }
   ],
   "source": [
    "# Tester votre code ici\n",
    "valeurs = [\"A1\", \"A2\", \"B1\", \"B2\", \"C1\", \"C2\", \"D1\", \"D2\"]\n",
    "for i in range(10):\n",
    "    print(choix(valeurs, 3))\n",
    "valeurs"
   ]
  },
  {
   "cell_type": "code",
   "execution_count": 32,
   "metadata": {},
   "outputs": [],
   "source": [
    "def tirage_main():\n",
    "    return choix(cartes_poker(), 5)"
   ]
  },
  {
   "cell_type": "code",
   "execution_count": 33,
   "metadata": {
    "tags": [
     "raises-exception"
    ]
   },
   "outputs": [
    {
     "name": "stdout",
     "output_type": "stream",
     "text": [
      "[('Dix', 'Carreau'), ('Cinq', 'Pique'), ('Valet', 'Trèfle'), ('Sept', 'Trèfle'), ('Quatre', 'Trèfle')]\n",
      "[('Dix', 'Trèfle'), ('Six', 'Pique'), ('Cinq', 'Coeur'), ('Trois', 'Trèfle'), ('As', 'Pique')]\n",
      "[('Six', 'Pique'), ('Roi', 'Carreau'), ('Dame', 'Pique'), ('Huit', 'Carreau'), ('Six', 'Carreau')]\n",
      "[('Cinq', 'Carreau'), ('Dame', 'Carreau'), ('Deux', 'Carreau'), ('As', 'Coeur'), ('Trois', 'Coeur')]\n",
      "[('Roi', 'Carreau'), ('Cinq', 'Carreau'), ('Valet', 'Coeur'), ('Neuf', 'Carreau'), ('Neuf', 'Trèfle')]\n",
      "[('Quatre', 'Coeur'), ('Six', 'Carreau'), ('Trois', 'Coeur'), ('Roi', 'Pique'), ('Cinq', 'Trèfle')]\n",
      "[('Cinq', 'Pique'), ('Neuf', 'Pique'), ('Dame', 'Pique'), ('Roi', 'Pique'), ('Dame', 'Trèfle')]\n",
      "[('Deux', 'Carreau'), ('Trois', 'Carreau'), ('Sept', 'Trèfle'), ('Six', 'Coeur'), ('Neuf', 'Pique')]\n",
      "[('Valet', 'Trèfle'), ('Trois', 'Carreau'), ('Quatre', 'Pique'), ('Huit', 'Coeur'), ('Cinq', 'Trèfle')]\n",
      "[('Sept', 'Trèfle'), ('Dame', 'Carreau'), ('Dame', 'Coeur'), ('Dame', 'Pique'), ('Roi', 'Pique')]\n"
     ]
    }
   ],
   "source": [
    "# Tester votre code ici\n",
    "for i in range(10):\n",
    "    print(tirage_main())"
   ]
  },
  {
   "cell_type": "markdown",
   "metadata": {},
   "source": [
    "À présent, écrire une fonction `est_paire(main)` testant si une main donnée contient une paire d'éléments (c'est-à-dire deux éléments ayant le même rang mais des couleurs distinctes). La fonction renverra un booléen `True` ou `False` selon le cas."
   ]
  },
  {
   "cell_type": "code",
   "execution_count": 34,
   "metadata": {},
   "outputs": [],
   "source": [
    "def est_paire(main):\n",
    "    # On commence par créer une liste auxilliaire dans laquelle\n",
    "    # on ne garde que les rangs\n",
    "    rangs = ['Deux', 'Trois', 'Quatre', 'Cinq',\n",
    "            'Six', 'Sept', 'Huit', 'Neuf', 'Dix',\n",
    "            'Valet', 'Dame', 'Roi', 'As']\n",
    "    \n",
    "    # On compte tous les rangs de la main\n",
    "    comptes = [0]*13\n",
    "    for r, _ in main:\n",
    "        # On cherche le n° du rang r dans la liste des rangs:\n",
    "        indice_rang = rangs.index(r)\n",
    "        comptes[indice_rang] = comptes[indice_rang] + 1\n",
    "        \n",
    "    # C'est une paire si un unique rang a un effectif de 2, et que\n",
    "    # 3 autres ont un effectif de 1.\n",
    "    \n",
    "    nombre_2 = 0\n",
    "    nombre_1 = 0\n",
    "    for i in range(13):\n",
    "        if comptes[i] == 2:\n",
    "            nombre_2 = nombre_2 + 1\n",
    "        elif comptes[i] == 1:\n",
    "            nombre_1 = nombre_1 + 1\n",
    "            \n",
    "    if nombre_2 == 1 and nombre_1 == 3:\n",
    "        return True\n",
    "    else:\n",
    "        return False\n"
   ]
  },
  {
   "cell_type": "code",
   "execution_count": 35,
   "metadata": {},
   "outputs": [
    {
     "name": "stdout",
     "output_type": "stream",
     "text": [
      "[('Deux', 'Pique'), ('Trois', 'Coeur'), ('Trois', 'Trèfle'), ('Dame', 'Coeur'), ('Roi', 'Coeur')] True\n",
      "[('Quatre', 'Pique'), ('Neuf', 'Carreau'), ('Six', 'Coeur'), ('Roi', 'Carreau'), ('Dame', 'Carreau')] False\n",
      "[('Huit', 'Pique'), ('Sept', 'Carreau'), ('Dix', 'Coeur'), ('Cinq', 'Trèfle'), ('Trois', 'Trèfle')] False\n",
      "[('Six', 'Pique'), ('Dame', 'Coeur'), ('Quatre', 'Pique'), ('As', 'Trèfle'), ('Deux', 'Pique')] False\n",
      "[('Dix', 'Trèfle'), ('Deux', 'Carreau'), ('Deux', 'Trèfle'), ('Quatre', 'Pique'), ('Trois', 'Trèfle')] True\n",
      "[('Deux', 'Coeur'), ('Roi', 'Pique'), ('Neuf', 'Pique'), ('Trois', 'Trèfle'), ('Six', 'Pique')] False\n",
      "[('Neuf', 'Trèfle'), ('Roi', 'Trèfle'), ('Sept', 'Pique'), ('Huit', 'Pique'), ('Sept', 'Carreau')] True\n",
      "[('Dame', 'Trèfle'), ('Quatre', 'Carreau'), ('Neuf', 'Trèfle'), ('Six', 'Carreau'), ('Sept', 'Trèfle')] False\n",
      "[('Cinq', 'Coeur'), ('Roi', 'Carreau'), ('As', 'Coeur'), ('Roi', 'Trèfle'), ('Valet', 'Coeur')] True\n",
      "[('Cinq', 'Carreau'), ('Six', 'Pique'), ('Neuf', 'Carreau'), ('Dix', 'Trèfle'), ('Huit', 'Trèfle')] False\n"
     ]
    }
   ],
   "source": [
    "for i in range(10):\n",
    "    m = tirage_main()\n",
    "    print(m, est_paire(m))"
   ]
  },
  {
   "cell_type": "markdown",
   "metadata": {},
   "source": [
    "### Pour aller plus loin (très difficile)\n",
    "\n",
    "Au poker, il existe différents types de main, dont les forces ne sont pas les mêmes. Écrire une fonction `classification_main(main)` prenant en paramètre une main, et renvoyant le type de main dont il s'agit. \n",
    "\n",
    "Attention, il n'y a qu'une (et forcément une) réponse possible. La fonction devra renvoyer la main la plus forte correspondant au paramètre.\n",
    "\n",
    "Pour connaître les différents types de mains au poker, consulter par exemple la page \n",
    "https://fr.wikipedia.org/wiki/Main_au_poker"
   ]
  },
  {
   "cell_type": "markdown",
   "metadata": {},
   "source": [
    "**On reviendra vers cet exercice un peu plus tard, lorsque l'on aura plus d'outils à notre disposition. Notamment les dictionnaires qui sont quasiment indispensables pour ce genre de problème.**"
   ]
  }
 ],
 "metadata": {
  "kernelspec": {
   "display_name": "Python 3",
   "language": "python",
   "name": "python3"
  },
  "language_info": {
   "codemirror_mode": {
    "name": "ipython",
    "version": 3
   },
   "file_extension": ".py",
   "mimetype": "text/x-python",
   "name": "python",
   "nbconvert_exporter": "python",
   "pygments_lexer": "ipython3",
   "version": "3.7.4"
  }
 },
 "nbformat": 4,
 "nbformat_minor": 4
}

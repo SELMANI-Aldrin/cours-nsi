{
 "cells": [
  {
   "cell_type": "markdown",
   "metadata": {},
   "source": [
    "# TP 4 - Les tableaux"
   ]
  },
  {
   "cell_type": "code",
   "execution_count": 1,
   "metadata": {},
   "outputs": [],
   "source": [
    "%load_ext autoreload\n",
    "%autoreload 2\n",
    "import sys\n",
    "import os\n",
    "sys.path.insert(0, os.path.join(os.getcwd(), \"dist\"))\n",
    "\n",
    "from tp04_tests import *"
   ]
  },
  {
   "cell_type": "markdown",
   "metadata": {},
   "source": [
    "---\n",
    "### Exercice 1"
   ]
  },
  {
   "cell_type": "markdown",
   "metadata": {},
   "source": [
    "Écrire une fonction `entiers_aléatoires(N, a, b)` qui prend pour argument un entier naturel `N` et renvoie un tableau contenant $N$ entiers aléatoires, tous compris entre $a$ et $b$ inclus. \n",
    "* Si $N$ est nul, la fonction renvoie un tableau vide.\n",
    "* On suppose que $a < b$ (aucune vérification ne sera effectuée).\n",
    "* On suppose que $N > 0$ (aucune vérification ne sera effectuée)."
   ]
  },
  {
   "cell_type": "markdown",
   "metadata": {},
   "source": [
    "**Ne valider qu'une seule des trois cellules ci-dessous avant de tester**"
   ]
  },
  {
   "cell_type": "code",
   "execution_count": 2,
   "metadata": {},
   "outputs": [],
   "source": [
    "# Solution 1 (tableau vide + append\n",
    "\n",
    "from random import randint\n",
    "\n",
    "def entiers_aléatoires(N, a, b):\n",
    "    \"\"\"Renvoie un tableau contenant N entiers aléatoires compris entre a et b.\"\"\"\n",
    "    \n",
    "    t = []\n",
    "    for i in range(N):\n",
    "        t.append(randint(a, b))\n",
    "        \n",
    "    return t"
   ]
  },
  {
   "cell_type": "code",
   "execution_count": 3,
   "metadata": {},
   "outputs": [],
   "source": [
    "# Solution 2:\n",
    "\n",
    "from random import randint\n",
    "\n",
    "def entiers_aléatoires(N, a, b):\n",
    "    \"\"\"Renvoie un tableau contenant N entiers aléatoires compris entre a et b.\"\"\"\n",
    "    \n",
    "    t = [0]*N\n",
    "    for i in range(N):\n",
    "        t[i] = randint(a, b)\n",
    "        \n",
    "    return t"
   ]
  },
  {
   "cell_type": "code",
   "execution_count": 4,
   "metadata": {},
   "outputs": [],
   "source": [
    "# Solution 3: Compréhension de liste\n",
    "\n",
    "def entier_aléatoire(N, a, b):\n",
    "    \"\"\"Renvoie un tableau contenant N entiers aléatoires compris entre a et b.\"\"\"\n",
    "    \n",
    "    # Une variation sur la solution précédente, bien plus conscise. \n",
    "    # La valeur du compteur de boucle n'intervient pas, on utilise\n",
    "    # donc un underscore _ à la place d'un nom de variable.\n",
    "    return [randint(a, b) for _ in range(N)]"
   ]
  },
  {
   "cell_type": "code",
   "execution_count": 5,
   "metadata": {},
   "outputs": [
    {
     "name": "stdout",
     "output_type": "stream",
     "text": [
      "100 tests validés avec succès !\n"
     ]
    }
   ],
   "source": [
    "testeur = testeur_entiers_aléatoires(entiers_aléatoires)\n",
    "testeur.nombre_tests = 100\n",
    "testeur.max_erreurs = 10\n",
    "testeur.lance_tests()"
   ]
  },
  {
   "cell_type": "markdown",
   "metadata": {},
   "source": [
    "### Exercice 2\n",
    "\n",
    "Écrire des fonctions `mininimum(tableau)` et `maximum(tableau)` prenant en paramètre un tableau de nombres et renvoyant respectivement le minimum et le maximum des nombres rencontrés. Il est bien entendu interdit d'utiliser les fonctions `min()` et `max()` de python qui réalisent justement cela.\n",
    "\n",
    "En cas de tableau vide, ces deux fonctions doivent déclencher une erreur, car il n'y a pas de bonne réponse possible."
   ]
  },
  {
   "cell_type": "code",
   "execution_count": 6,
   "metadata": {},
   "outputs": [],
   "source": [
    "def minimum(tableau):\n",
    "    \"\"\"Renvoie la valeur minimale du tableau de nombres passé en paramètres. \n",
    "    \n",
    "    Déclenche une erreur si le tableau est vide.\n",
    "    \"\"\"\n",
    "    \n",
    "    assert len(tableau) > 0, \"Erreur: le tableau ne doit pas être vide\"\n",
    "    \n",
    "    m = tableau[0]\n",
    "    for élément in tableau:\n",
    "        if élément < m:\n",
    "            m = élément\n",
    "            \n",
    "    return m"
   ]
  },
  {
   "cell_type": "code",
   "execution_count": 7,
   "metadata": {},
   "outputs": [],
   "source": [
    "def maximum(tableau):\n",
    "    \"\"\"Renvoie la valeur minimale du tableau de nombres passé en paramètres. \n",
    "    \n",
    "    Déclenche une erreur si le tableau est vide.\n",
    "    \"\"\"\n",
    "    \n",
    "    assert len(tableau) > 0, \"Erreur: le tableau ne doit pas être vide\"\n",
    "    \n",
    "    m = tableau[0]\n",
    "    for élément in tableau:\n",
    "        # Un seul caractère change entre les deux fonctions: < devient > !\n",
    "        if élément > m:\n",
    "            m = élément\n",
    "            \n",
    "    return m"
   ]
  },
  {
   "cell_type": "code",
   "execution_count": 8,
   "metadata": {
    "tags": [
     "raises-exception"
    ]
   },
   "outputs": [
    {
     "name": "stdout",
     "output_type": "stream",
     "text": [
      "[74, 150, 565, 825, 750, 718, 689, 125, 304, 147]\n",
      "74\n",
      "825\n"
     ]
    }
   ],
   "source": [
    "# Vous pouvez tester votre code ici\n",
    "t= entiers_aléatoires(10, 1, 1000)\n",
    "print(t)\n",
    "print(minimum(t))\n",
    "print(maximum(t))"
   ]
  },
  {
   "cell_type": "code",
   "execution_count": 9,
   "metadata": {},
   "outputs": [
    {
     "name": "stdout",
     "output_type": "stream",
     "text": [
      "100 tests validés avec succès !\n"
     ]
    }
   ],
   "source": [
    "# Et la procédure de tests automatisée.\n",
    "\n",
    "# Pour le minimum:\n",
    "testeur = testeur_minimum(minimum)\n",
    "# On peut changer les deux paramètres ci-dessous si besoin:\n",
    "# testeur.nombre_tests = 100\n",
    "# testeur.erreurs_max = 10\n",
    "testeur.max_taille_tableau = 10\n",
    "testeur.lance_tests()"
   ]
  },
  {
   "cell_type": "code",
   "execution_count": 10,
   "metadata": {},
   "outputs": [
    {
     "name": "stdout",
     "output_type": "stream",
     "text": [
      "100 tests validés avec succès !\n"
     ]
    }
   ],
   "source": [
    "# Pour le maximum\n",
    "testeur = testeur_maximum(maximum)\n",
    "# On peut changer les deux paramètres ci-dessous si besoin:\n",
    "# testeur.nombre_tests = 100\n",
    "# testeur.erreurs_max = 10\n",
    "testeur.max_taille_tableau = 10\n",
    "testeur.lance_tests()"
   ]
  },
  {
   "cell_type": "markdown",
   "metadata": {},
   "source": [
    "---\n",
    "### Exercice 3\n",
    "\n",
    "Écrire une fonction `nombre_occurences(tableau, élément)` prenant pour paramètre un tableau et une valeur, et renvoyant le nombre de fois que cette valeur est contenue dans le tableau (ce nombre peut très bien être nul)."
   ]
  },
  {
   "cell_type": "code",
   "execution_count": 11,
   "metadata": {},
   "outputs": [],
   "source": [
    "def nombre_occurences(tableau, élément):\n",
    "    \"\"\"Retourne le nombre de fois où l'élement passé en paramètre se trouve dans le tableau passé en paramètre.\n",
    "    \"\"\"\n",
    "    \n",
    "    nombre = 0\n",
    "    for e in tableau:\n",
    "        if e == élément:\n",
    "            nombre = nombre + 1\n",
    "    return nombre"
   ]
  },
  {
   "cell_type": "code",
   "execution_count": 12,
   "metadata": {
    "tags": [
     "raises-exception"
    ]
   },
   "outputs": [
    {
     "data": {
      "text/plain": [
       "2"
      ]
     },
     "execution_count": 12,
     "metadata": {},
     "output_type": "execute_result"
    }
   ],
   "source": [
    "# Vous pouvez tester votre code ici\n",
    "t = entiers_aléatoires(20, 1, 10)\n",
    "nombre_occurences(t, 5)"
   ]
  },
  {
   "cell_type": "code",
   "execution_count": 13,
   "metadata": {},
   "outputs": [
    {
     "name": "stdout",
     "output_type": "stream",
     "text": [
      "100 tests validés avec succès !\n"
     ]
    }
   ],
   "source": [
    "testeur = testeur_nombre_occurences(nombre_occurences)\n",
    "testeur.max_taille_tableau = 20\n",
    "testeur.lance_tests()"
   ]
  },
  {
   "cell_type": "markdown",
   "metadata": {},
   "source": [
    "---\n",
    "\n",
    "### Exercice 4\n",
    "\n",
    "Écrire un programme tirant 1000 entiers compris entre 1 et 10, et affichant ensuite le nombre d'occurences de chaque entier entre 1 et 10 dans ce tableau. Vous pouvez bien entendu réutiliser des fonctions déjà existantes pour cela."
   ]
  },
  {
   "cell_type": "code",
   "execution_count": 14,
   "metadata": {},
   "outputs": [
    {
     "name": "stdout",
     "output_type": "stream",
     "text": [
      "Nombre de 1 : 89\n",
      "Nombre de 2 : 89\n",
      "Nombre de 3 : 105\n",
      "Nombre de 4 : 104\n",
      "Nombre de 5 : 97\n",
      "Nombre de 6 : 110\n",
      "Nombre de 7 : 116\n",
      "Nombre de 8 : 84\n",
      "Nombre de 9 : 97\n",
      "Nombre de 10 : 109\n",
      "Vérification: total = 1000\n"
     ]
    }
   ],
   "source": [
    "t = [randint(1, 10) for _ in range(1000)]\n",
    "\n",
    "total = 0\n",
    "for i in range(1, 11):\n",
    "    ni = nombre_occurences(t, i)\n",
    "    print(\"Nombre de\", i, \":\", ni)\n",
    "    total = total + ni\n",
    "print(\"Vérification: total =\", total)"
   ]
  },
  {
   "cell_type": "markdown",
   "metadata": {},
   "source": [
    "---\n",
    "\n",
    "### Exercice 5"
   ]
  },
  {
   "cell_type": "markdown",
   "metadata": {},
   "source": [
    "Écrire une fonction `somme(tableau)` calculant la somme des éléments (supposés être des nombres) de `tableau`.\n",
    "\n",
    "En déduire la fonction `moyenne(tableau)` calculant la moyenne des éléments de tableau."
   ]
  },
  {
   "cell_type": "code",
   "execution_count": 15,
   "metadata": {},
   "outputs": [],
   "source": [
    "def somme(tableau):\n",
    "    \"\"\"Renvoie la somme des nombres du tableau passé en paramètre.\"\"\"\n",
    "    somme = 0\n",
    "    for valeur in tableau:\n",
    "        somme = somme + valeur\n",
    "        \n",
    "    return somme"
   ]
  },
  {
   "cell_type": "code",
   "execution_count": 16,
   "metadata": {},
   "outputs": [],
   "source": [
    "def moyenne(tableau):\n",
    "    \"\"\"Renvoie la moyenne des nombres du tableau passé en paramètre.\n",
    "    \n",
    "    Déclenche une erreur si le tableau est vide.\"\"\"\n",
    "    \n",
    "    assert len(tableau) > 0, \"Erreur: on ne peut pas calculer la moyenne d'un tableau vide\"\n",
    "    \n",
    "    return somme(tableau) / len(tableau)"
   ]
  },
  {
   "cell_type": "code",
   "execution_count": 17,
   "metadata": {
    "tags": [
     "raises-exception"
    ]
   },
   "outputs": [
    {
     "name": "stdout",
     "output_type": "stream",
     "text": [
      "123.0\n",
      "11.181818181818182\n"
     ]
    }
   ],
   "source": [
    "# Tester votre code ici\n",
    "notes = [12, 8.5, 10, 14, 13, 10, 10.5, 6, 11, 12, 16]\n",
    "print(somme(notes))\n",
    "print(moyenne(notes))"
   ]
  },
  {
   "cell_type": "markdown",
   "metadata": {},
   "source": [
    "---\n",
    "\n",
    "### Exercice 6"
   ]
  },
  {
   "cell_type": "markdown",
   "metadata": {},
   "source": [
    "Écrire une fonction `échange(tableau, i, j)` qui ne renvoie aucune valeur (il n'y aura donc pas d'instruction `return` dans cette fonction), mais échangera physiquement les éléments d'indices `i` et `j` dans le paramètre `tableau`. On suppose que la contrainte $0 \\leqslant i, j < \\text{len}(\\text{tableau})$ est vérifiée."
   ]
  },
  {
   "cell_type": "code",
   "execution_count": 18,
   "metadata": {},
   "outputs": [],
   "source": [
    "def échange(tableau, i, j):\n",
    "    \"\"\"Échange les éléments d'indices i et j du tableau. \n",
    "    \n",
    "    Aucune détection d'indices hors limite n'est effectuée.\n",
    "    \"\"\"\n",
    "    \n",
    "    # Méthode traditionnelle, en utilisant une variable temporaire\n",
    "    temp = tableau[i]\n",
    "    tableau[i] = tableau[j]\n",
    "    tableau[j] = temp"
   ]
  },
  {
   "cell_type": "code",
   "execution_count": 19,
   "metadata": {},
   "outputs": [],
   "source": [
    "def échange(tableau, i, j):\n",
    "    \"\"\"Échange les éléments d'indices i et j du tableau. \n",
    "    \n",
    "    Aucune détection d'indices hors limite n'est effectuée.\n",
    "    \"\"\"\n",
    "\n",
    "    # Méthode plus pythonesque, en utilisant les affectations multiples\n",
    "    tableau[i], tableau[j] = tableau[j], tableau[i]"
   ]
  },
  {
   "cell_type": "code",
   "execution_count": 20,
   "metadata": {},
   "outputs": [
    {
     "data": {
      "text/plain": [
       "['Robin des bois', 'Dark Vador', 'Sauron', 'Oui-Oui']"
      ]
     },
     "execution_count": 20,
     "metadata": {},
     "output_type": "execute_result"
    }
   ],
   "source": [
    "# Tester votre code ici\n",
    "noms = [\"Robin des bois\", \"Dark Vador\", \"Oui-Oui\", \"Sauron\"]\n",
    "échange(noms, 2, 3)\n",
    "noms"
   ]
  },
  {
   "cell_type": "markdown",
   "metadata": {},
   "source": [
    "**Remarque importante:** Savoir échanger deux éléments d'un tableau (ou de la même façon, savoir échanger le contenu de deux variables) est un savoir faire important, il ne faut surtout pas l'oublier."
   ]
  },
  {
   "cell_type": "markdown",
   "metadata": {},
   "source": [
    "--- \n",
    "\n",
    "### Exercice 7\n",
    "\n",
    "Écrire une fonction `copie(tableau)` renvoyant une *copie* du tableau passé en paramètre. **Attention:** Il faudra s'assurer qu'il s'agit réellement d'une copie, c'est-à-dire d'un nouveau tableau contenant les mêmes éléments que le tableau initial.\n",
    "\n",
    "On peut tester que le tableau renvoyé est bien une copie en le modifiant: si le tableau initial est modifié à l'identique, alors il ne s'agissait pas d'une copie mais de deux variables pointant vers le même tableau en mémoire."
   ]
  },
  {
   "cell_type": "code",
   "execution_count": 21,
   "metadata": {},
   "outputs": [],
   "source": [
    "def copie(tableau):\n",
    "    \"\"\"Renvoie une copie du tableau passé en paramètres.\n",
    "    \n",
    "    La copie se fait uniquement au premier niveau: si certains éléments du tableau sont eux-mêmes\n",
    "    des tableaux (ou autres objets composés), ceux-ci ne seront pas copiés.\n",
    "    \n",
    "    Il ne s'agit donc pas d'une fonction de 'copie profonde' (deep copy).\n",
    "    \"\"\"\n",
    "    \n",
    "    duplicatat = [None] * len(tableau)\n",
    "    for i in range(len(tableau)):\n",
    "        duplicatat[i] = tableau[i]\n",
    "        \n",
    "    return duplicatat"
   ]
  },
  {
   "cell_type": "code",
   "execution_count": 22,
   "metadata": {
    "tags": [
     "raises-exception"
    ]
   },
   "outputs": [
    {
     "data": {
      "text/plain": [
       "[1, 2, 3, 4, 5, 6]"
      ]
     },
     "execution_count": 22,
     "metadata": {},
     "output_type": "execute_result"
    }
   ],
   "source": [
    "# Tester votre code ici\n",
    "nombres = [1, 2, 3, 4, 5, 6]\n",
    "duplicata = copie(nombres)\n",
    "duplicata"
   ]
  },
  {
   "cell_type": "code",
   "execution_count": 23,
   "metadata": {
    "tags": [
     "raises-exception"
    ]
   },
   "outputs": [
    {
     "data": {
      "text/plain": [
       "([1, 2, 3, 4, 5, 6], [1, 2, 3, 4, 5, 6, 7])"
      ]
     },
     "execution_count": 23,
     "metadata": {},
     "output_type": "execute_result"
    }
   ],
   "source": [
    "duplicata.append(7)\n",
    "nombres, duplicata"
   ]
  },
  {
   "cell_type": "markdown",
   "metadata": {},
   "source": [
    "---\n",
    "\n",
    "### Exercice 8\n",
    "\n",
    "Écrire une fonction `renverse(tableau)` renvoyant un nouveau tableau dans lequel les éléments sont placés dans l'ordre inverse."
   ]
  },
  {
   "cell_type": "code",
   "execution_count": 24,
   "metadata": {},
   "outputs": [],
   "source": [
    "def renverse(tableau):\n",
    "    \"\"\"Renvoie une copie du tableau, inversée.\"\"\"\n",
    "    \n",
    "    N = len(tableau)\n",
    "    copie = [None] * N\n",
    "    \n",
    "    i = 0\n",
    "    j = N - 1\n",
    "    while i < j:\n",
    "        copie[i] = tableau[j]\n",
    "        copie[j] = tableau[i]\n",
    "        \n",
    "        i = i + 1\n",
    "        j = j - 1\n",
    "        \n",
    "    return copie"
   ]
  },
  {
   "cell_type": "code",
   "execution_count": 25,
   "metadata": {
    "tags": [
     "raises-exception"
    ]
   },
   "outputs": [
    {
     "data": {
      "text/plain": [
       "(['Sauron', 'Oui-Oui', 'Dark Vador', 'Robin des bois'],\n",
       " ['Robin des bois', 'Dark Vador', 'Oui-Oui', 'Sauron'])"
      ]
     },
     "execution_count": 25,
     "metadata": {},
     "output_type": "execute_result"
    }
   ],
   "source": [
    "# Tester votre code ici\n",
    "noms = [\"Robin des bois\", \"Dark Vador\", \"Oui-Oui\", \"Sauron\"]\n",
    "renverse(noms), noms"
   ]
  },
  {
   "cell_type": "markdown",
   "metadata": {},
   "source": [
    "---\n",
    "\n",
    "### Exercice 9\n",
    "\n",
    "Écrire une fonction `mélange(tableau)` prenant en paramètre un tableau, et permutant aléatoirement les éléments de celui-ci. La fonction ne renvoie aucune valeur, elle modifie physiquement le tableau passé en paramètre.\n",
    "\n",
    "On pourra utiliser l'algorithme suivant pour réaliser le mélange (appelé **algorithme de Knuth**): on parcourt le tableau de gauche à droite. Chaque élément d'incide `i` sera échangé avec un de ces prédécésseurs choisi au hasard: on choisit aléatoirement un entier `j` vérifiant la contrainte $0 \\leqslant j \\leqslant i$, et on procède à l'échange. \n",
    "\n",
    "Cet algorithme garantit que la permutation est réellement aléatoire (c'est-à-dire équirépartie): chaque permutation possible a autant de chance d'aboutir qu'une autre."
   ]
  },
  {
   "cell_type": "code",
   "execution_count": 26,
   "metadata": {},
   "outputs": [],
   "source": [
    "from random import randint\n",
    "\n",
    "def mélange(tableau):\n",
    "    \"\"\"Mélange aléatoirement le tableau 'en place', en utilisant l'algorithme de Knuth qui garantit\n",
    "    que chaque permutation possible est équiprobable.\n",
    "    \"\"\"\n",
    "    \n",
    "    for i in range(len(tableau)):\n",
    "        j = randint(0, i)\n",
    "        échange(tableau, i, j)"
   ]
  },
  {
   "cell_type": "code",
   "execution_count": 27,
   "metadata": {
    "tags": [
     "raises-exception"
    ]
   },
   "outputs": [
    {
     "name": "stdout",
     "output_type": "stream",
     "text": [
      "['Oui-Oui', 'Robin des bois', 'Sauron', 'Dark Vador']\n",
      "['Robin des bois', 'Oui-Oui', 'Dark Vador', 'Sauron']\n",
      "['Dark Vador', 'Robin des bois', 'Oui-Oui', 'Sauron']\n",
      "['Oui-Oui', 'Robin des bois', 'Sauron', 'Dark Vador']\n",
      "['Sauron', 'Robin des bois', 'Dark Vador', 'Oui-Oui']\n",
      "['Oui-Oui', 'Sauron', 'Dark Vador', 'Robin des bois']\n",
      "['Sauron', 'Robin des bois', 'Dark Vador', 'Oui-Oui']\n",
      "['Robin des bois', 'Dark Vador', 'Sauron', 'Oui-Oui']\n",
      "['Robin des bois', 'Sauron', 'Dark Vador', 'Oui-Oui']\n",
      "['Robin des bois', 'Sauron', 'Oui-Oui', 'Dark Vador']\n"
     ]
    }
   ],
   "source": [
    "# Vous pouvez tester votre code ici\n",
    "for i in range(10):\n",
    "    mélange(noms)\n",
    "    print(noms)"
   ]
  },
  {
   "cell_type": "markdown",
   "metadata": {},
   "source": [
    "---\n",
    "\n",
    "### Exercice 10\n",
    "\n",
    "Écrire une fonction`cartes_poker()` ne prenant aucun paramètre, et renvoyant une liste des 52 cartes contenues dans un jeu standard de poker. Une carte sera un couple de chaînes de caractères de la forme `(\"roi\", \"trèfle\")` par exemple.\n",
    "\n",
    "Attention, ne trichez pas: il est possible d'énumérer à la main les 52 cartes, mais ce n'est évidemment pas le but. Utilisez plutôt un algorithme.\n",
    "\n",
    "Les cartes devront être rangées par couleurs, dans l'ordre suivant: d'abord les trèfles, puis les piques, puis les carreaux, puis les coeurs. À l'intérieur d'une couleur, les cartes seront rangées par ordre croissant, c'est-à-dire du 2 à l'As."
   ]
  },
  {
   "cell_type": "code",
   "execution_count": 28,
   "metadata": {},
   "outputs": [],
   "source": [
    "def cartes_poker():\n",
    "    \"\"\"Renvoie un tableau de tuples de la forme (rang, couleur) contenant les 52 cartes d'un jeu de poker.\n",
    "    \"\"\"\n",
    "    \n",
    "    couleurs = [\"Trèfle\", \"Pique\", \"Carreau\", \"Coeur\"]\n",
    "    rangs = [\"Deux\", \"Trois\", \"Quatre\", \"Cinq\", \"Six\", \"Sept\", \n",
    "                     \"Huit\", \"Neuf\", \"Dix\", \"Valet\", \"Dame\", \"Roi\", \"As\"]\n",
    "    \n",
    "    cartes = []\n",
    "    for c in couleurs:\n",
    "        for r in rangs:\n",
    "            cartes.append((r, c))\n",
    "            \n",
    "    return cartes"
   ]
  },
  {
   "cell_type": "code",
   "execution_count": 29,
   "metadata": {
    "tags": [
     "raises-exception"
    ]
   },
   "outputs": [
    {
     "data": {
      "text/plain": [
       "[('Deux', 'Trèfle'),\n",
       " ('Trois', 'Trèfle'),\n",
       " ('Quatre', 'Trèfle'),\n",
       " ('Cinq', 'Trèfle'),\n",
       " ('Six', 'Trèfle'),\n",
       " ('Sept', 'Trèfle'),\n",
       " ('Huit', 'Trèfle'),\n",
       " ('Neuf', 'Trèfle'),\n",
       " ('Dix', 'Trèfle'),\n",
       " ('Valet', 'Trèfle'),\n",
       " ('Dame', 'Trèfle'),\n",
       " ('Roi', 'Trèfle'),\n",
       " ('As', 'Trèfle'),\n",
       " ('Deux', 'Pique'),\n",
       " ('Trois', 'Pique'),\n",
       " ('Quatre', 'Pique'),\n",
       " ('Cinq', 'Pique'),\n",
       " ('Six', 'Pique'),\n",
       " ('Sept', 'Pique'),\n",
       " ('Huit', 'Pique'),\n",
       " ('Neuf', 'Pique'),\n",
       " ('Dix', 'Pique'),\n",
       " ('Valet', 'Pique'),\n",
       " ('Dame', 'Pique'),\n",
       " ('Roi', 'Pique'),\n",
       " ('As', 'Pique'),\n",
       " ('Deux', 'Carreau'),\n",
       " ('Trois', 'Carreau'),\n",
       " ('Quatre', 'Carreau'),\n",
       " ('Cinq', 'Carreau'),\n",
       " ('Six', 'Carreau'),\n",
       " ('Sept', 'Carreau'),\n",
       " ('Huit', 'Carreau'),\n",
       " ('Neuf', 'Carreau'),\n",
       " ('Dix', 'Carreau'),\n",
       " ('Valet', 'Carreau'),\n",
       " ('Dame', 'Carreau'),\n",
       " ('Roi', 'Carreau'),\n",
       " ('As', 'Carreau'),\n",
       " ('Deux', 'Coeur'),\n",
       " ('Trois', 'Coeur'),\n",
       " ('Quatre', 'Coeur'),\n",
       " ('Cinq', 'Coeur'),\n",
       " ('Six', 'Coeur'),\n",
       " ('Sept', 'Coeur'),\n",
       " ('Huit', 'Coeur'),\n",
       " ('Neuf', 'Coeur'),\n",
       " ('Dix', 'Coeur'),\n",
       " ('Valet', 'Coeur'),\n",
       " ('Dame', 'Coeur'),\n",
       " ('Roi', 'Coeur'),\n",
       " ('As', 'Coeur')]"
      ]
     },
     "execution_count": 29,
     "metadata": {},
     "output_type": "execute_result"
    }
   ],
   "source": [
    "# Tester votre code ici\n",
    "cartes_poker()"
   ]
  },
  {
   "cell_type": "markdown",
   "metadata": {},
   "source": [
    "Écrire à présent une fonction `tirage_main()` ne prenant aucun paramètre, et renvoyant une **main** de cinq cartes, c'est-à-dire cinq cartes choisies aléatoirement parmi les 52 cartes renvoyées par la fonction précédente.\n",
    "\n",
    "Pour cela, vous écrirez une fonction auxilliaire `choix(tableau, nombre)` choisissant `nombre` valeurs aléatoirement parmi les élements du tableau `tableau`, sans répétitions. Attention, il ne faut en aucun cas modifier le tableau passé en paramètre.\n",
    "\n",
    "La fonction renverra un nouveau tableau contenant les éléments choisis."
   ]
  },
  {
   "cell_type": "code",
   "execution_count": 30,
   "metadata": {},
   "outputs": [],
   "source": [
    "def choix(tableau, nombre):\n",
    "    \"\"\"Choisit au hasard 'nombre' éléments du 'tableau' passé en paramètres.\n",
    "    \n",
    "    Le choix est équiprobable.\n",
    "    \"\"\"\n",
    "    \n",
    "    duplicatat = copie(tableau)\n",
    "    mélange(duplicatat)\n",
    "    choix = []\n",
    "    for i in range(nombre):\n",
    "        choix.append(duplicatat[i])\n",
    "    return choix"
   ]
  },
  {
   "cell_type": "code",
   "execution_count": 31,
   "metadata": {
    "tags": [
     "raises-exception"
    ]
   },
   "outputs": [
    {
     "name": "stdout",
     "output_type": "stream",
     "text": [
      "['A1', 'B1', 'A2']\n",
      "['C2', 'C1', 'D2']\n",
      "['A1', 'D2', 'C1']\n",
      "['B1', 'B2', 'A2']\n",
      "['B1', 'A2', 'C1']\n",
      "['A2', 'A1', 'D1']\n",
      "['C1', 'B2', 'D1']\n",
      "['A2', 'D2', 'C1']\n",
      "['B1', 'D1', 'A1']\n",
      "['B2', 'A1', 'B1']\n"
     ]
    },
    {
     "data": {
      "text/plain": [
       "['A1', 'A2', 'B1', 'B2', 'C1', 'C2', 'D1', 'D2']"
      ]
     },
     "execution_count": 31,
     "metadata": {},
     "output_type": "execute_result"
    }
   ],
   "source": [
    "# Tester votre code ici\n",
    "valeurs = [\"A1\", \"A2\", \"B1\", \"B2\", \"C1\", \"C2\", \"D1\", \"D2\"]\n",
    "for i in range(10):\n",
    "    print(choix(valeurs, 3))\n",
    "valeurs"
   ]
  },
  {
   "cell_type": "code",
   "execution_count": 32,
   "metadata": {},
   "outputs": [],
   "source": [
    "def tirage_main():\n",
    "    \"\"\"Retourne une main de poker aléatoirement, de manière équiprobable.\"\"\"\n",
    "    \n",
    "    return choix(cartes_poker(), 5)"
   ]
  },
  {
   "cell_type": "code",
   "execution_count": 33,
   "metadata": {
    "tags": [
     "raises-exception"
    ]
   },
   "outputs": [
    {
     "name": "stdout",
     "output_type": "stream",
     "text": [
      "[('Trois', 'Coeur'), ('Valet', 'Carreau'), ('Roi', 'Carreau'), ('Valet', 'Trèfle'), ('Deux', 'Coeur')]\n",
      "[('Six', 'Pique'), ('Dix', 'Carreau'), ('Valet', 'Coeur'), ('Sept', 'Trèfle'), ('Dame', 'Coeur')]\n",
      "[('Sept', 'Coeur'), ('Trois', 'Trèfle'), ('Six', 'Trèfle'), ('Dame', 'Trèfle'), ('Trois', 'Carreau')]\n",
      "[('Dix', 'Pique'), ('Valet', 'Pique'), ('Neuf', 'Carreau'), ('Cinq', 'Trèfle'), ('Neuf', 'Trèfle')]\n",
      "[('Six', 'Pique'), ('Sept', 'Trèfle'), ('Roi', 'Trèfle'), ('Sept', 'Coeur'), ('Trois', 'Trèfle')]\n",
      "[('Deux', 'Coeur'), ('Six', 'Pique'), ('Quatre', 'Coeur'), ('Cinq', 'Carreau'), ('Huit', 'Coeur')]\n",
      "[('Quatre', 'Trèfle'), ('Valet', 'Pique'), ('Six', 'Coeur'), ('Trois', 'Trèfle'), ('Six', 'Trèfle')]\n",
      "[('Huit', 'Pique'), ('As', 'Carreau'), ('Neuf', 'Trèfle'), ('Six', 'Pique'), ('Sept', 'Trèfle')]\n",
      "[('Dix', 'Carreau'), ('As', 'Pique'), ('Roi', 'Trèfle'), ('Valet', 'Carreau'), ('Valet', 'Pique')]\n",
      "[('Trois', 'Trèfle'), ('Six', 'Coeur'), ('As', 'Trèfle'), ('Roi', 'Trèfle'), ('Six', 'Carreau')]\n"
     ]
    }
   ],
   "source": [
    "# Tester votre code ici\n",
    "for i in range(10):\n",
    "    print(tirage_main())"
   ]
  },
  {
   "cell_type": "markdown",
   "metadata": {},
   "source": [
    "À présent, écrire une fonction `est_paire(main)` testant si une main donnée contient une paire d'éléments (c'est-à-dire deux éléments ayant le même rang mais des couleurs distinctes). La fonction renverra un booléen `True` ou `False` selon le cas."
   ]
  },
  {
   "cell_type": "code",
   "execution_count": 34,
   "metadata": {},
   "outputs": [],
   "source": [
    "def est_paire(main):\n",
    "    \"\"\"Renvoie True si et seulement si la main passée en paramètres est une paire.\n",
    "    \"\"\"\n",
    "    \n",
    "    # On commence par créer une liste auxilliaire dans laquelle\n",
    "    # on ne garde que les rangs\n",
    "    rangs = ['Deux', 'Trois', 'Quatre', 'Cinq',\n",
    "            'Six', 'Sept', 'Huit', 'Neuf', 'Dix',\n",
    "            'Valet', 'Dame', 'Roi', 'As']\n",
    "    \n",
    "    # On compte tous les rangs de la main\n",
    "    comptes = [0]*13\n",
    "    for r, _ in main:\n",
    "        # On cherche le n° du rang r dans la liste des rangs:\n",
    "        indice_rang = rangs.index(r)\n",
    "        comptes[indice_rang] = comptes[indice_rang] + 1\n",
    "        \n",
    "    # C'est une paire si un unique rang a un effectif de 2, et que\n",
    "    # 3 autres ont un effectif de 1.\n",
    "    \n",
    "    nombre_2 = 0\n",
    "    nombre_1 = 0\n",
    "    for i in range(13):\n",
    "        if comptes[i] == 2:\n",
    "            nombre_2 = nombre_2 + 1\n",
    "        elif comptes[i] == 1:\n",
    "            nombre_1 = nombre_1 + 1\n",
    "            \n",
    "    if nombre_2 == 1 and nombre_1 == 3:\n",
    "        return True\n",
    "    else:\n",
    "        return False\n"
   ]
  },
  {
   "cell_type": "code",
   "execution_count": 35,
   "metadata": {},
   "outputs": [
    {
     "name": "stdout",
     "output_type": "stream",
     "text": [
      "[('As', 'Trèfle'), ('Sept', 'Pique'), ('Trois', 'Carreau'), ('Quatre', 'Carreau'), ('Dame', 'Pique')] False\n",
      "[('Deux', 'Coeur'), ('Valet', 'Coeur'), ('Neuf', 'Carreau'), ('Deux', 'Trèfle'), ('Quatre', 'Coeur')] True\n",
      "[('As', 'Carreau'), ('Six', 'Carreau'), ('Six', 'Coeur'), ('Huit', 'Carreau'), ('Valet', 'Carreau')] True\n",
      "[('Huit', 'Pique'), ('Neuf', 'Pique'), ('Trois', 'Trèfle'), ('Sept', 'Trèfle'), ('Six', 'Coeur')] False\n",
      "[('Six', 'Pique'), ('Valet', 'Pique'), ('Neuf', 'Pique'), ('Trois', 'Carreau'), ('Huit', 'Trèfle')] False\n",
      "[('Six', 'Coeur'), ('Quatre', 'Trèfle'), ('Huit', 'Trèfle'), ('As', 'Trèfle'), ('Neuf', 'Coeur')] False\n",
      "[('Sept', 'Pique'), ('Sept', 'Carreau'), ('Dix', 'Trèfle'), ('As', 'Coeur'), ('Dame', 'Trèfle')] True\n",
      "[('Trois', 'Trèfle'), ('Huit', 'Carreau'), ('Deux', 'Coeur'), ('Six', 'Coeur'), ('Huit', 'Trèfle')] True\n",
      "[('Dame', 'Carreau'), ('Six', 'Coeur'), ('Six', 'Carreau'), ('Quatre', 'Coeur'), ('Roi', 'Coeur')] True\n",
      "[('Quatre', 'Carreau'), ('Dame', 'Trèfle'), ('Deux', 'Coeur'), ('Deux', 'Trèfle'), ('Six', 'Trèfle')] True\n"
     ]
    }
   ],
   "source": [
    "for i in range(10):\n",
    "    m = tirage_main()\n",
    "    print(m, est_paire(m))"
   ]
  },
  {
   "cell_type": "markdown",
   "metadata": {},
   "source": [
    "### Pour aller plus loin (très difficile)\n",
    "\n",
    "Au poker, il existe différents types de main, dont les forces ne sont pas les mêmes. Écrire une fonction `classification_main(main)` prenant en paramètre une main, et renvoyant le type de main dont il s'agit. \n",
    "\n",
    "Attention, il n'y a qu'une (et forcément une) réponse possible. La fonction devra renvoyer la main la plus forte correspondant au paramètre.\n",
    "\n",
    "Pour connaître les différents types de mains au poker, consulter par exemple la page \n",
    "https://fr.wikipedia.org/wiki/Main_au_poker"
   ]
  },
  {
   "cell_type": "markdown",
   "metadata": {},
   "source": [
    "Commençons par réécrire un peu plus proprement la fonction ```est_paire``` codée précédemment. On se rend compte que l'on va avoir besoin de compter régulièrement combien de cartes de chaque type est présent. Pour cela, on va écrire une fonction ```occurences(t)``` dont l'objectif est de compter les occurences des éléments d'un tableau. L'outil idéal pour cela est le **dictionnaire**, mais nous ne l'étudierons que dans quelques semaines. En attendant, faisons-le à l'aide de tableaux."
   ]
  },
  {
   "cell_type": "markdown",
   "metadata": {},
   "source": [
    "#### Tableaux d'associations"
   ]
  },
  {
   "cell_type": "markdown",
   "metadata": {},
   "source": [
    "Un tableau d'associations est un tableau de tuples de la forme ```(clé, valeur)``` où chaque clé doit se trouver de manière unique dans le tableau. Conceptuellement, on associe à chaque clé sa valeur.\n",
    "\n",
    "**Remarque:** C'est exactement ce que permettent de faire, en beaucoup mieux et en beaucoup plus efficaces, les dictionnaires que nous verrons dans quelques temps."
   ]
  },
  {
   "cell_type": "markdown",
   "metadata": {},
   "source": [
    " ##### Quelques fonctions utiles pour manipuler les tableaux d'associations:"
   ]
  },
  {
   "cell_type": "code",
   "execution_count": 36,
   "metadata": {},
   "outputs": [],
   "source": [
    "def clé_est_présente(assoc, clé):\n",
    "    \"\"\"Renvoie True si et seulement si la 'clé' est présente dans le tableau d'associations 'assoc'.\n",
    "    \"\"\"\n",
    "    \n",
    "    for c, _ in assoc:\n",
    "        if c == clé:\n",
    "            return True\n",
    "        \n",
    "    # La clé n'a pas été trouvée dans le tableau, sinon l'exécution de la fonction aurait été\n",
    "    # interrompue prématurément.\n",
    "    return False"
   ]
  },
  {
   "cell_type": "code",
   "execution_count": 37,
   "metadata": {},
   "outputs": [],
   "source": [
    "def valeur_associée(assoc, clé, défaut=None):\n",
    "    \"\"\"Renvoie la valeur associée à la 'clé' dans le tableau d'associations 'assoc'.\n",
    "    \n",
    "    Déclenche un message d'erreur en cas de clé absente, sauf si le paramètre optionnel 'défaut'\n",
    "    a une valeur différente de None: dans ce cas, c'est la valeur qui sera retournée par la fonction.\n",
    "    \"\"\"\n",
    "    \n",
    "    for c, v in assoc:\n",
    "        if c == clé:\n",
    "            return v\n",
    "        \n",
    "    # On n'aurait pas dû arriver ici, la clé est donc absente. On déclenche un message d'erreur.\n",
    "    if défaut is None:\n",
    "        raise Exception(\"Erreur: clé \" + str(clé) + \" absente, et aucune valeur par défaut fournie.\")\n",
    "    else:\n",
    "        return défaut"
   ]
  },
  {
   "cell_type": "code",
   "execution_count": 38,
   "metadata": {},
   "outputs": [],
   "source": [
    "def modifie_valeur(assoc, clé, valeur):\n",
    "    \"\"\"Modifie la valeur associée à la 'clé' dans le tableau d'associations 'assoc'.\n",
    "    \n",
    "    Si la clé est absente, aucun message d'erreur n'est déclenché: une nouvelle entrée\n",
    "    est ajoutée au tableau.\"\"\"\n",
    "    \n",
    "    for i in range(len(assoc)):\n",
    "        if assoc[i][0] == clé:\n",
    "            # Comme on ne peut pas modifier un tuple (qui est immuable), on va\n",
    "            # créer un nouveau, avec la même clé.\n",
    "            assoc[i] = (clé, valeur)\n",
    "            return\n",
    "    \n",
    "    # Si on arrive ici, c'est que la clé n'a pas été trouvée. On crée alors une\n",
    "    # nouvelle association.\n",
    "    assoc.append((clé, valeur))"
   ]
  },
  {
   "cell_type": "code",
   "execution_count": 39,
   "metadata": {},
   "outputs": [],
   "source": [
    "def liste_clés(assoc):\n",
    "    clés = []\n",
    "    for clé, _ in assoc:\n",
    "        clés.append(clé)\n",
    "        \n",
    "    return clés"
   ]
  },
  {
   "cell_type": "code",
   "execution_count": 40,
   "metadata": {},
   "outputs": [],
   "source": [
    "def liste_valeurs(assoc):\n",
    "    valeurs = []\n",
    "    for _, valeur in assoc:\n",
    "        valeurs.append(valeur)\n",
    "    \n",
    "    return valeurs"
   ]
  },
  {
   "cell_type": "markdown",
   "metadata": {},
   "source": [
    "##### Le décompte d'occurences dans un tableau:"
   ]
  },
  {
   "cell_type": "code",
   "execution_count": 41,
   "metadata": {},
   "outputs": [],
   "source": [
    "def occurences(t, transforme_valeur=None):\n",
    "    \"\"\"Prend pour paramètre un tableau t et renvoie une liste d'associations de tuples de la forme\n",
    "    (valeur, occurences) associant à chaque valeur présente dans le tableau son nombre d'occurences.\n",
    "    \n",
    "    Le paramètre optionnel transforme_valeur est une fonction qui sera utilisée (si elle est présente)\n",
    "    avant de compter les occurences. Cela permet notamment de ne compter les occurences en ne tenant \n",
    "    compte que d'une partie d'une valeur, par exemple le nom pour un tuple de la forme (nom, prénom)), ou \n",
    "    bien le rang d'une carte de la forme (rang, couleur).\n",
    "    \"\"\"\n",
    "    \n",
    "    assoc = []\n",
    "    for élément in t:\n",
    "        # On recherche l'ancien effectif associé à la clé. Si la clé est absente, on renvoie un effectif nul.\n",
    "        # Cette astuce permet d'éviter de tester la présence de la clé, ce qui réduit de moitié le nombre\n",
    "        # de parcours de la liste d'association.\n",
    "        \n",
    "        if transforme_valeur is not None:\n",
    "            élément = transforme_valeur(élément)\n",
    "        \n",
    "        ancien_effectif = valeur_associée(assoc, élément, défaut=0)\n",
    "        modifie_valeur(assoc, élément, ancien_effectif + 1)\n",
    "        \n",
    "    return assoc"
   ]
  },
  {
   "cell_type": "markdown",
   "metadata": {},
   "source": [
    "Testons ces fonctions:"
   ]
  },
  {
   "cell_type": "code",
   "execution_count": 42,
   "metadata": {},
   "outputs": [
    {
     "data": {
      "text/plain": [
       "[('p', 2),\n",
       " ('a', 2),\n",
       " ('s', 2),\n",
       " ('c', 2),\n",
       " ('l', 3),\n",
       " (' ', 3),\n",
       " ('e', 1),\n",
       " ('t', 3),\n",
       " ('u', 1),\n",
       " ('ô', 1),\n",
       " ('o', 2)]"
      ]
     },
     "execution_count": 42,
     "metadata": {},
     "output_type": "execute_result"
    }
   ],
   "source": [
    "occurences(\"pascal est plutôt cool\")"
   ]
  },
  {
   "cell_type": "markdown",
   "metadata": {},
   "source": [
    "##### Une nouvelle version de ```est_paire(main)```"
   ]
  },
  {
   "cell_type": "code",
   "execution_count": 43,
   "metadata": {},
   "outputs": [],
   "source": [
    "def rang_carte(carte):\n",
    "    return carte[0]\n",
    "\n",
    "def couleur_carte(carte):\n",
    "    return carte[1]"
   ]
  },
  {
   "cell_type": "code",
   "execution_count": 44,
   "metadata": {},
   "outputs": [],
   "source": [
    "def est_paire(main):\n",
    "    occurences_rangs = occurences(main, transforme_valeur=rang_carte)\n",
    "    \n",
    "    # Pour qu'une main soit une paire, il faut exactement un rang avec un effectif double,\n",
    "    # et trois rangs avec un effectif simple.\n",
    "    #\n",
    "    # Remarquons que cela équivaut à dire qu'il y a simplement 4 éléments distincts dans la main:\n",
    "    # En effet, dans ce cas, il y a obligatoirement un effectif double et trois simples, puisqu'un effectif nul\n",
    "    # n'est pas possible.\n",
    "    \n",
    "    if len(occurences_rangs) == 4:\n",
    "        # On a une paire !\n",
    "        return True\n",
    "    else:\n",
    "        return False"
   ]
  },
  {
   "cell_type": "code",
   "execution_count": 45,
   "metadata": {},
   "outputs": [
    {
     "data": {
      "text/plain": [
       "[('Sept', 'Carreau'),\n",
       " ('Huit', 'Trèfle'),\n",
       " ('Six', 'Coeur'),\n",
       " ('Sept', 'Pique'),\n",
       " ('Valet', 'Coeur')]"
      ]
     },
     "metadata": {},
     "output_type": "display_data"
    },
    {
     "data": {
      "text/plain": [
       "[('Huit', 'Coeur'),\n",
       " ('Huit', 'Carreau'),\n",
       " ('Deux', 'Pique'),\n",
       " ('As', 'Trèfle'),\n",
       " ('Dame', 'Trèfle')]"
      ]
     },
     "metadata": {},
     "output_type": "display_data"
    },
    {
     "data": {
      "text/plain": [
       "[('Neuf', 'Trèfle'),\n",
       " ('Trois', 'Carreau'),\n",
       " ('Sept', 'Carreau'),\n",
       " ('Sept', 'Trèfle'),\n",
       " ('Six', 'Carreau')]"
      ]
     },
     "metadata": {},
     "output_type": "display_data"
    },
    {
     "data": {
      "text/plain": [
       "[('Trois', 'Trèfle'),\n",
       " ('Six', 'Carreau'),\n",
       " ('Quatre', 'Coeur'),\n",
       " ('Quatre', 'Carreau'),\n",
       " ('Dame', 'Trèfle')]"
      ]
     },
     "metadata": {},
     "output_type": "display_data"
    },
    {
     "data": {
      "text/plain": [
       "[('As', 'Coeur'),\n",
       " ('Dame', 'Carreau'),\n",
       " ('Quatre', 'Trèfle'),\n",
       " ('Trois', 'Pique'),\n",
       " ('Trois', 'Trèfle')]"
      ]
     },
     "metadata": {},
     "output_type": "display_data"
    },
    {
     "data": {
      "text/plain": [
       "[('Dix', 'Pique'),\n",
       " ('Sept', 'Trèfle'),\n",
       " ('Quatre', 'Pique'),\n",
       " ('Neuf', 'Carreau'),\n",
       " ('Sept', 'Carreau')]"
      ]
     },
     "metadata": {},
     "output_type": "display_data"
    },
    {
     "data": {
      "text/plain": [
       "[('Dame', 'Pique'),\n",
       " ('Roi', 'Coeur'),\n",
       " ('Dix', 'Coeur'),\n",
       " ('Dix', 'Pique'),\n",
       " ('Deux', 'Trèfle')]"
      ]
     },
     "metadata": {},
     "output_type": "display_data"
    },
    {
     "data": {
      "text/plain": [
       "[('Sept', 'Coeur'),\n",
       " ('Dame', 'Carreau'),\n",
       " ('Valet', 'Pique'),\n",
       " ('Valet', 'Carreau'),\n",
       " ('Huit', 'Trèfle')]"
      ]
     },
     "metadata": {},
     "output_type": "display_data"
    },
    {
     "data": {
      "text/plain": [
       "[('Valet', 'Carreau'),\n",
       " ('Roi', 'Trèfle'),\n",
       " ('Dix', 'Coeur'),\n",
       " ('Cinq', 'Coeur'),\n",
       " ('Valet', 'Coeur')]"
      ]
     },
     "metadata": {},
     "output_type": "display_data"
    },
    {
     "data": {
      "text/plain": [
       "[('Sept', 'Pique'),\n",
       " ('Neuf', 'Pique'),\n",
       " ('Cinq', 'Carreau'),\n",
       " ('Roi', 'Coeur'),\n",
       " ('Roi', 'Pique')]"
      ]
     },
     "metadata": {},
     "output_type": "display_data"
    }
   ],
   "source": [
    "n = 0\n",
    "while n < 10:\n",
    "    m = tirage_main()\n",
    "    if est_paire(m):\n",
    "        # display est une fonction spécifique à jupyterlab pour afficher joliment les valeurs (par rapport à un\n",
    "        # print qui ne formatte pas ses sorties).\n",
    "        display(m)\n",
    "        n = n + 1"
   ]
  },
  {
   "cell_type": "markdown",
   "metadata": {},
   "source": [
    "##### Un affichage des cartes/mains plus lisible:"
   ]
  },
  {
   "cell_type": "code",
   "execution_count": 46,
   "metadata": {},
   "outputs": [],
   "source": [
    "def chaîne_carte(carte):\n",
    "    \"\"\"Transforme un tuple (rang, couleur) en une chaîne de caractère, plus lisible.\n",
    "    \"\"\"\n",
    "    \n",
    "    assoc_rangs = [\n",
    "        ('As', ' 1'),\n",
    "        ('Deux', ' 2'),\n",
    "        ('Trois', ' 3'),\n",
    "        ('Quatre', ' 4'),\n",
    "        ('Cinq', ' 5'),\n",
    "        ('Six', ' 6'),\n",
    "        ('Sept', ' 7'),\n",
    "        ('Huit', ' 8'),\n",
    "        ('Neuf', ' 9'),\n",
    "        ('Dix', '10'),\n",
    "        ('Valet', ' V'),\n",
    "        ('Dame', ' D'),\n",
    "        ('Roi', ' R')\n",
    "    ]\n",
    "    \n",
    "    assoc_couleurs = [\n",
    "        ('Trèfle', '♣'),\n",
    "        ('Pique', '♠'),\n",
    "        ('Coeur', '♦'),\n",
    "        ('Carreau', '♥')\n",
    "    ]\n",
    "    \n",
    "    return valeur_associée(assoc_rangs, carte[0]) + valeur_associée(assoc_couleurs, carte[1])"
   ]
  },
  {
   "cell_type": "code",
   "execution_count": 47,
   "metadata": {},
   "outputs": [],
   "source": [
    "def chaîne_main(main):\n",
    "    return \" - \".join([chaîne_carte(c) for c in main])"
   ]
  },
  {
   "cell_type": "code",
   "execution_count": 48,
   "metadata": {},
   "outputs": [
    {
     "data": {
      "text/plain": [
       "' 4♣ -  4♥ -  3♠ -  9♥ -  1♦'"
      ]
     },
     "metadata": {},
     "output_type": "display_data"
    },
    {
     "data": {
      "text/plain": [
       "' 4♠ -  9♦ -  1♣ -  4♥ -  3♦'"
      ]
     },
     "metadata": {},
     "output_type": "display_data"
    },
    {
     "data": {
      "text/plain": [
       "' 6♦ -  2♥ -  4♣ -  1♠ -  4♠'"
      ]
     },
     "metadata": {},
     "output_type": "display_data"
    },
    {
     "data": {
      "text/plain": [
       "' 7♠ -  1♦ -  V♠ -  7♦ -  5♦'"
      ]
     },
     "metadata": {},
     "output_type": "display_data"
    },
    {
     "data": {
      "text/plain": [
       "' 7♣ -  2♠ -  4♥ -  2♣ - 10♣'"
      ]
     },
     "metadata": {},
     "output_type": "display_data"
    },
    {
     "data": {
      "text/plain": [
       "' 3♣ -  V♠ -  5♥ -  5♦ -  7♥'"
      ]
     },
     "metadata": {},
     "output_type": "display_data"
    },
    {
     "data": {
      "text/plain": [
       "' 2♥ -  6♣ -  5♣ -  6♦ - 10♠'"
      ]
     },
     "metadata": {},
     "output_type": "display_data"
    },
    {
     "data": {
      "text/plain": [
       "' 1♥ -  5♣ -  3♥ -  5♦ -  8♦'"
      ]
     },
     "metadata": {},
     "output_type": "display_data"
    },
    {
     "data": {
      "text/plain": [
       "' V♦ -  8♦ -  1♦ -  7♦ -  1♠'"
      ]
     },
     "metadata": {},
     "output_type": "display_data"
    },
    {
     "data": {
      "text/plain": [
       "' R♠ -  7♣ -  D♦ -  8♣ -  R♣'"
      ]
     },
     "metadata": {},
     "output_type": "display_data"
    },
    {
     "data": {
      "text/plain": [
       "'16 mains engendrées.'"
      ]
     },
     "metadata": {},
     "output_type": "display_data"
    }
   ],
   "source": [
    "n = 0\n",
    "i = 0\n",
    "while n < 10:\n",
    "    m = tirage_main()\n",
    "    i = i + 1\n",
    "    if est_paire(m):\n",
    "        display(chaîne_main(m))\n",
    "        n = n + 1\n",
    "display(str(i) + \" mains engendrées.\")        "
   ]
  },
  {
   "cell_type": "markdown",
   "metadata": {},
   "source": [
    "##### D'autres mains au poker"
   ]
  },
  {
   "cell_type": "code",
   "execution_count": 49,
   "metadata": {},
   "outputs": [],
   "source": [
    "def effectif(assoc):\n",
    "    \"\"\"Renvoie l'effectif d'un tuple (valeur, effectif)\"\"\"\n",
    "    \n",
    "    return assoc[1]"
   ]
  },
  {
   "cell_type": "code",
   "execution_count": 50,
   "metadata": {},
   "outputs": [],
   "source": [
    "def est_double_paire(main):\n",
    "    \"\"\"Renvoie True si et seulement si la 'main' est une double paire.\"\"\"\n",
    "    \n",
    "    occurences_rangs = occurences(main, transforme_valeur=rang_carte)\n",
    "    if len(occurences_rangs) == 3:\n",
    "        # Il s'agit peut-être d'une double paire, si les effectifs sont 2-2-1 (dans un ordre quelconque)\n",
    "        \n",
    "        # On crée un nouveau tableau d'associations à partir du premier, pour compter cette fois\n",
    "        # combien de fois les différents effectifs apparaîssent.\n",
    "        \n",
    "        occurences_effectifs = occurences(occurences_rangs, transforme_valeur=effectif)\n",
    "        \n",
    "        # Le nombre de un et le nombre de deux dans les effectifs:\n",
    "        un = valeur_associée(occurences_effectifs, 1, défaut=0)\n",
    "        deux = valeur_associée(occurences_effectifs, 2, défaut=0)\n",
    "        \n",
    "        if un == 1 and deux == 2:\n",
    "            # On a un seul 1 et deux fois le 2, c'est bien une double paire\n",
    "            return True\n",
    "        else:\n",
    "            return False\n",
    "    else:\n",
    "        # Ce n'est certainement pas une double paire.\n",
    "        return False"
   ]
  },
  {
   "cell_type": "code",
   "execution_count": 51,
   "metadata": {},
   "outputs": [
    {
     "data": {
      "text/plain": [
       "' D♥ -  1♥ -  1♣ -  V♣ -  D♣'"
      ]
     },
     "metadata": {},
     "output_type": "display_data"
    },
    {
     "data": {
      "text/plain": [
       "' D♥ -  9♣ -  3♠ -  9♥ -  D♦'"
      ]
     },
     "metadata": {},
     "output_type": "display_data"
    },
    {
     "data": {
      "text/plain": [
       "'10♦ - 10♣ -  V♠ -  4♥ -  4♦'"
      ]
     },
     "metadata": {},
     "output_type": "display_data"
    },
    {
     "data": {
      "text/plain": [
       "' V♥ -  9♠ -  V♦ -  1♠ -  9♣'"
      ]
     },
     "metadata": {},
     "output_type": "display_data"
    },
    {
     "data": {
      "text/plain": [
       "' 2♦ -  9♥ -  2♠ -  9♠ -  V♦'"
      ]
     },
     "metadata": {},
     "output_type": "display_data"
    },
    {
     "data": {
      "text/plain": [
       "' 3♠ -  9♠ -  9♣ -  8♦ -  8♣'"
      ]
     },
     "metadata": {},
     "output_type": "display_data"
    },
    {
     "data": {
      "text/plain": [
       "' 2♠ -  3♣ -  2♦ -  9♣ -  3♠'"
      ]
     },
     "metadata": {},
     "output_type": "display_data"
    },
    {
     "data": {
      "text/plain": [
       "' 6♥ -  4♦ -  V♥ -  4♥ -  6♣'"
      ]
     },
     "metadata": {},
     "output_type": "display_data"
    },
    {
     "data": {
      "text/plain": [
       "' 8♥ -  8♣ -  V♥ -  3♥ -  3♦'"
      ]
     },
     "metadata": {},
     "output_type": "display_data"
    },
    {
     "data": {
      "text/plain": [
       "' 1♣ -  3♣ -  8♥ -  1♦ -  3♦'"
      ]
     },
     "metadata": {},
     "output_type": "display_data"
    },
    {
     "data": {
      "text/plain": [
       "'183 mains engendrées.'"
      ]
     },
     "metadata": {},
     "output_type": "display_data"
    }
   ],
   "source": [
    "n = 0\n",
    "i = 0\n",
    "while n < 10:\n",
    "    m = tirage_main()\n",
    "    i = i + 1\n",
    "    if est_double_paire(m):\n",
    "        display(chaîne_main(m))\n",
    "        n = n + 1\n",
    "display(str(i) + \" mains engendrées.\")        "
   ]
  },
  {
   "cell_type": "code",
   "execution_count": 52,
   "metadata": {},
   "outputs": [],
   "source": [
    "def est_brelan(main):\n",
    "    \"\"\"Renvoie True si et seulement si la 'main' est un brelan.\"\"\"\n",
    "    \n",
    "    occurences_rangs = occurences(main, transforme_valeur=rang_carte)\n",
    "    if len(occurences_rangs) == 3:\n",
    "        # Il s'agit peut-être d'un brelan, si les effectifs sont 3-1-1 (dans un ordre quelconque)\n",
    "        \n",
    "        # On crée un nouveau tableau d'associations à partir du premier, pour compter cette fois\n",
    "        # combien de fois les différents effectifs apparaîssent.\n",
    "        \n",
    "        occurences_effectifs = occurences(occurences_rangs, transforme_valeur=effectif)\n",
    "        \n",
    "        # Le nombre de un et le nombre de deux dans les effectifs:\n",
    "        un = valeur_associée(occurences_effectifs, 1, défaut=0)\n",
    "        trois = valeur_associée(occurences_effectifs, 3, défaut=0)\n",
    "        \n",
    "        if un == 2 and trois == 1:\n",
    "            # On a deux fois le un et une seule fois le 3: c'est bien un brelan !\n",
    "            return True\n",
    "        else:\n",
    "            return False\n",
    "    else:\n",
    "        # Ce n'est certainement pas un brelan.\n",
    "        return False"
   ]
  },
  {
   "cell_type": "code",
   "execution_count": 53,
   "metadata": {},
   "outputs": [
    {
     "data": {
      "text/plain": [
       "' R♥ -  8♦ -  R♠ -  6♦ -  R♣'"
      ]
     },
     "metadata": {},
     "output_type": "display_data"
    },
    {
     "data": {
      "text/plain": [
       "' 3♠ -  3♥ -  3♦ -  5♦ -  8♣'"
      ]
     },
     "metadata": {},
     "output_type": "display_data"
    },
    {
     "data": {
      "text/plain": [
       "' 7♣ -  3♣ -  R♥ -  3♠ -  3♥'"
      ]
     },
     "metadata": {},
     "output_type": "display_data"
    },
    {
     "data": {
      "text/plain": [
       "' 9♠ -  5♦ -  R♠ -  9♥ -  9♦'"
      ]
     },
     "metadata": {},
     "output_type": "display_data"
    },
    {
     "data": {
      "text/plain": [
       "' 7♣ -  7♦ -  3♦ -  7♠ -  1♠'"
      ]
     },
     "metadata": {},
     "output_type": "display_data"
    },
    {
     "data": {
      "text/plain": [
       "' V♦ -  2♦ -  V♣ - 10♦ -  V♠'"
      ]
     },
     "metadata": {},
     "output_type": "display_data"
    },
    {
     "data": {
      "text/plain": [
       "' 6♦ -  2♥ -  V♣ -  V♦ -  V♥'"
      ]
     },
     "metadata": {},
     "output_type": "display_data"
    },
    {
     "data": {
      "text/plain": [
       "' 1♠ -  D♣ -  1♥ -  5♥ -  1♦'"
      ]
     },
     "metadata": {},
     "output_type": "display_data"
    },
    {
     "data": {
      "text/plain": [
       "' D♣ -  D♠ -  V♥ -  R♠ -  D♦'"
      ]
     },
     "metadata": {},
     "output_type": "display_data"
    },
    {
     "data": {
      "text/plain": [
       "' 5♥ -  5♠ - 10♦ -  5♦ -  V♣'"
      ]
     },
     "metadata": {},
     "output_type": "display_data"
    },
    {
     "data": {
      "text/plain": [
       "'401 mains engendrées.'"
      ]
     },
     "metadata": {},
     "output_type": "display_data"
    }
   ],
   "source": [
    "n = 0\n",
    "i = 0\n",
    "while n < 10:\n",
    "    m = tirage_main()\n",
    "    i = i + 1\n",
    "    if est_brelan(m):\n",
    "        display(chaîne_main(m))\n",
    "        n = n + 1\n",
    "display(str(i) + \" mains engendrées.\")        "
   ]
  },
  {
   "cell_type": "code",
   "execution_count": 54,
   "metadata": {},
   "outputs": [],
   "source": [
    "def est_full(main):\n",
    "    \"\"\"Renvoie True si et seulement si la 'main' est un full, c'est à dire un brelan et une paire combinés.\"\"\"\n",
    "    \n",
    "    occurences_rangs = occurences(main, transforme_valeur=rang_carte)\n",
    "    if len(occurences_rangs) == 2:\n",
    "        # Il n'y a que deux rangs différents: on a alors un brelan si et seulement si l'un des \n",
    "        # effectifs est deux ou trois (l'autre est alors forcément trois ou deux). Il faut en effet\n",
    "        # éviter la possibilité d'un carré d'effectifs 1-4 ou 4-1.\n",
    "        if occurences_rangs[0][1] in [2, 3]:\n",
    "            return True\n",
    "        else:\n",
    "            return False"
   ]
  },
  {
   "cell_type": "code",
   "execution_count": 55,
   "metadata": {},
   "outputs": [
    {
     "data": {
      "text/plain": [
       "' 8♠ -  7♥ -  8♦ -  8♥ -  7♠'"
      ]
     },
     "metadata": {},
     "output_type": "display_data"
    },
    {
     "data": {
      "text/plain": [
       "' 5♦ -  5♥ -  V♠ -  V♣ -  V♦'"
      ]
     },
     "metadata": {},
     "output_type": "display_data"
    },
    {
     "data": {
      "text/plain": [
       "' V♥ -  3♥ -  V♦ -  V♣ -  3♠'"
      ]
     },
     "metadata": {},
     "output_type": "display_data"
    },
    {
     "data": {
      "text/plain": [
       "'10♠ -  D♥ -  D♣ - 10♥ - 10♣'"
      ]
     },
     "metadata": {},
     "output_type": "display_data"
    },
    {
     "data": {
      "text/plain": [
       "' 1♣ -  1♥ -  7♦ -  7♥ -  1♦'"
      ]
     },
     "metadata": {},
     "output_type": "display_data"
    },
    {
     "data": {
      "text/plain": [
       "' 3♥ -  5♦ -  3♠ -  3♣ -  5♣'"
      ]
     },
     "metadata": {},
     "output_type": "display_data"
    },
    {
     "data": {
      "text/plain": [
       "' 3♥ -  3♦ -  6♣ -  6♥ -  3♠'"
      ]
     },
     "metadata": {},
     "output_type": "display_data"
    },
    {
     "data": {
      "text/plain": [
       "' D♠ -  R♣ -  D♦ -  R♦ -  R♠'"
      ]
     },
     "metadata": {},
     "output_type": "display_data"
    },
    {
     "data": {
      "text/plain": [
       "' 3♠ -  R♦ -  3♥ -  3♦ -  R♣'"
      ]
     },
     "metadata": {},
     "output_type": "display_data"
    },
    {
     "data": {
      "text/plain": [
       "' 9♠ -  9♦ -  D♦ -  D♣ -  9♥'"
      ]
     },
     "metadata": {},
     "output_type": "display_data"
    },
    {
     "data": {
      "text/plain": [
       "'3385 mains engendrées.'"
      ]
     },
     "metadata": {},
     "output_type": "display_data"
    }
   ],
   "source": [
    "n = 0\n",
    "i = 0\n",
    "while n < 10:\n",
    "    m = tirage_main()\n",
    "    i = i + 1\n",
    "    if est_full(m):\n",
    "        display(chaîne_main(m))\n",
    "        n = n + 1\n",
    "display(str(i) + \" mains engendrées.\")        "
   ]
  },
  {
   "cell_type": "code",
   "execution_count": 56,
   "metadata": {},
   "outputs": [],
   "source": [
    "def est_carré(main):\n",
    "    \"\"\"Renvoie True si et seulement si la 'main' est un carré.\"\"\"\n",
    "    \n",
    "    occurences_rangs = occurences(main, transforme_valeur=rang_carte)\n",
    "    if len(occurences_rangs) == 2:\n",
    "        # Il n'y a que deux rangs différents: on a alors un carré si et seulement si\n",
    "        # l'un des effectifs est 1 ou 4 (l'autre possibilité est 2 ou 3, pour un brelan).\n",
    "        if occurences_rangs[0][1] in [1, 4]:\n",
    "            return True\n",
    "        else:\n",
    "            return False"
   ]
  },
  {
   "cell_type": "code",
   "execution_count": 57,
   "metadata": {},
   "outputs": [
    {
     "data": {
      "text/plain": [
       "' 6♠ -  6♥ -  6♦ -  5♣ -  6♣'"
      ]
     },
     "metadata": {},
     "output_type": "display_data"
    },
    {
     "data": {
      "text/plain": [
       "' 4♥ -  4♣ - 10♣ -  4♠ -  4♦'"
      ]
     },
     "metadata": {},
     "output_type": "display_data"
    },
    {
     "data": {
      "text/plain": [
       "'10♦ -  R♣ - 10♥ - 10♣ - 10♠'"
      ]
     },
     "metadata": {},
     "output_type": "display_data"
    },
    {
     "data": {
      "text/plain": [
       "' 2♠ -  2♦ -  2♥ -  2♣ -  3♠'"
      ]
     },
     "metadata": {},
     "output_type": "display_data"
    },
    {
     "data": {
      "text/plain": [
       "' 6♦ -  6♥ -  6♠ -  6♣ -  V♣'"
      ]
     },
     "metadata": {},
     "output_type": "display_data"
    },
    {
     "data": {
      "text/plain": [
       "' 3♣ -  3♥ -  6♠ -  3♦ -  3♠'"
      ]
     },
     "metadata": {},
     "output_type": "display_data"
    },
    {
     "data": {
      "text/plain": [
       "' 7♦ -  7♠ -  7♥ -  D♠ -  7♣'"
      ]
     },
     "metadata": {},
     "output_type": "display_data"
    },
    {
     "data": {
      "text/plain": [
       "' 6♣ -  6♠ -  6♥ -  V♥ -  6♦'"
      ]
     },
     "metadata": {},
     "output_type": "display_data"
    },
    {
     "data": {
      "text/plain": [
       "' 7♥ -  7♣ -  7♠ -  7♦ - 10♥'"
      ]
     },
     "metadata": {},
     "output_type": "display_data"
    },
    {
     "data": {
      "text/plain": [
       "' 7♣ -  7♥ -  7♦ -  6♥ -  7♠'"
      ]
     },
     "metadata": {},
     "output_type": "display_data"
    },
    {
     "data": {
      "text/plain": [
       "'39383 mains engendrées.'"
      ]
     },
     "metadata": {},
     "output_type": "display_data"
    }
   ],
   "source": [
    "n = 0\n",
    "i = 0\n",
    "while n < 10:\n",
    "    m = tirage_main()\n",
    "    i = i + 1\n",
    "    if est_carré(m):\n",
    "        display(chaîne_main(m))\n",
    "        n = n + 1\n",
    "display(str(i) + \" mains engendrées.\")"
   ]
  },
  {
   "cell_type": "markdown",
   "metadata": {},
   "source": [
    "**Remarque:** On remarque que les tirages deviennent de plus en plus lents: c'est normal, on peut démontrer (post-bac) que les probabilités d'obtenir les différentes mains se rapprochent de plus en plus de zéro au fur et à mesure que l'on tombe sur les mains les plus fortes (mais aussi les plus rares). Et ce n'est pas fini."
   ]
  },
  {
   "cell_type": "code",
   "execution_count": 58,
   "metadata": {},
   "outputs": [],
   "source": [
    "def numéro_rang(r):\n",
    "    \"\"\"Renvoie un rang sous forme numérique, l'As étant le 1 et\n",
    "    le Roi étant le 13.\n",
    "    \"\"\"\n",
    "    \n",
    "    rangs = ['As', 'Deux', 'Trois', 'Quatre', 'Cinq',\n",
    "            'Six', 'Sept', 'Huit', 'Neuf', 'Dix',\n",
    "            'Valet', 'Dame', 'Roi']\n",
    "    \n",
    "    return rangs.index(r) + 1"
   ]
  },
  {
   "cell_type": "code",
   "execution_count": 59,
   "metadata": {},
   "outputs": [],
   "source": [
    "def est_quinte(main):\n",
    "    \"\"\"Retourne True si et seulement si la main est une quinte.\"\"\"\n",
    "    \n",
    "    occurences_rangs = occurences(main, transforme_valeur=rang_carte)\n",
    "    if len(occurences_rangs) == 5:\n",
    "        # Il faut à présent qu'il y ait au moins deux couleurs distinctes\n",
    "        occurences_couleurs = occurences(main, transforme_valeur=couleur_carte)\n",
    "        if len(occurences_couleurs) > 1:\n",
    "            # Il ne reste plus qu'à tester que les rangs sont bien consécutifs.\n",
    "            #Pour cela, on va trier les rangs par ordre croissant.\n",
    "            \n",
    "            # Attention, il y a une complication supplémentaire: l'As peut tout aussi\n",
    "            # bien être au début (valeur 1) qu'à la fin (valeur 14) de la liste.\n",
    "            \n",
    "            rangs = sorted([numéro_rang(r) for r in liste_clés(occurences_rangs)])\n",
    "            r = rangs[0]\n",
    "            for i in range(1, 5):\n",
    "                rprime = rangs[i]\n",
    "                if (r != 1 and rprime != r + 1) or (r == 1 and rprime not in [2, 10]):\n",
    "                    # Un As doit être suivi soit par un 2 (As-2-3-4-5), soit par un 10 (10-V-D-R-As)\n",
    "                    return False\n",
    "                r = rprime\n",
    "            return True\n",
    "        else:\n",
    "            # Main monochrome: ça ne peut pas être une quinte simple (mais peut-être une quinte flush)\n",
    "            return False\n",
    "    else:\n",
    "        # Il y a au moins deux rangs égaux: ça ne peut pas être une suite.\n",
    "        return False"
   ]
  },
  {
   "cell_type": "code",
   "execution_count": 60,
   "metadata": {},
   "outputs": [
    {
     "data": {
      "text/plain": [
       "' 3♠ -  4♠ -  5♠ -  6♥ -  7♣'"
      ]
     },
     "metadata": {},
     "output_type": "display_data"
    },
    {
     "data": {
      "text/plain": [
       "' 7♣ -  5♠ -  3♦ -  6♥ -  4♥'"
      ]
     },
     "metadata": {},
     "output_type": "display_data"
    },
    {
     "data": {
      "text/plain": [
       "' 9♦ - 10♣ -  8♠ -  V♦ -  D♣'"
      ]
     },
     "metadata": {},
     "output_type": "display_data"
    },
    {
     "data": {
      "text/plain": [
       "' 2♥ -  5♦ -  3♣ -  4♥ -  1♥'"
      ]
     },
     "metadata": {},
     "output_type": "display_data"
    },
    {
     "data": {
      "text/plain": [
       "' 9♦ -  6♦ - 10♦ -  7♣ -  8♥'"
      ]
     },
     "metadata": {},
     "output_type": "display_data"
    },
    {
     "data": {
      "text/plain": [
       "' 8♠ - 10♣ -  9♣ -  V♠ -  D♣'"
      ]
     },
     "metadata": {},
     "output_type": "display_data"
    },
    {
     "data": {
      "text/plain": [
       "' 9♣ - 10♥ -  V♣ -  8♠ -  7♣'"
      ]
     },
     "metadata": {},
     "output_type": "display_data"
    },
    {
     "data": {
      "text/plain": [
       "' 6♠ -  9♠ -  7♣ -  8♦ -  5♣'"
      ]
     },
     "metadata": {},
     "output_type": "display_data"
    },
    {
     "data": {
      "text/plain": [
       "' 5♥ -  3♣ -  7♣ -  6♣ -  4♦'"
      ]
     },
     "metadata": {},
     "output_type": "display_data"
    },
    {
     "data": {
      "text/plain": [
       "' D♠ -  R♠ - 10♣ -  9♣ -  V♠'"
      ]
     },
     "metadata": {},
     "output_type": "display_data"
    },
    {
     "data": {
      "text/plain": [
       "'2742 mains engendrées.'"
      ]
     },
     "metadata": {},
     "output_type": "display_data"
    }
   ],
   "source": [
    "n = 0\n",
    "i = 0\n",
    "while n < 10:\n",
    "    m = tirage_main()\n",
    "    i = i + 1\n",
    "    if est_quinte(m):\n",
    "        display(chaîne_main(m))\n",
    "        n = n + 1\n",
    "display(str(i) + \" mains engendrées.\")"
   ]
  },
  {
   "cell_type": "code",
   "execution_count": 61,
   "metadata": {},
   "outputs": [],
   "source": [
    "def est_quinte_flush(main):\n",
    "    \"\"\"Retourne True si et seulement si la main est une quinte flush (monochrome).\"\"\"\n",
    "    \n",
    "    occurences_rangs = occurences(main, transforme_valeur=rang_carte)\n",
    "    if len(occurences_rangs) == 5:\n",
    "        # Il faut à présent qu'il y ait au moins deux couleurs distinctes\n",
    "        occurences_couleurs = occurences(main, transforme_valeur=couleur_carte)\n",
    "        if len(occurences_couleurs) == 1:\n",
    "            # Il ne reste plus qu'à tester que les rangs sont bien consécutifs.\n",
    "            #Pour cela, on va trier les rangs par ordre croissant.\n",
    "            \n",
    "            # Attention, il y a une complication supplémentaire: l'As peut tout aussi\n",
    "            # bien être au début (valeur 1) qu'à la fin (valeur 14) de la liste.\n",
    "            \n",
    "            rangs = sorted([numéro_rang(r) for r in liste_clés(occurences_rangs)])\n",
    "            r = rangs[0]\n",
    "            for i in range(1, 5):\n",
    "                rprime = rangs[i]\n",
    "                if (r != 1 and rprime != r + 1) or (r == 1 and rprime not in [2, 10]):\n",
    "                    # Un As doit être suivi soit par un 2 (As-2-3-4-5), soit par un 10 (10-V-D-R-As)\n",
    "                    return False\n",
    "                r = rprime\n",
    "            return True\n",
    "        else:\n",
    "            # Main polychrome: ça ne peut pas être une quinte flush.\n",
    "            return False\n",
    "    else:\n",
    "        # Il y a au moins deux rangs égaux: ça ne peut pas être une suite.\n",
    "        return False"
   ]
  },
  {
   "cell_type": "markdown",
   "metadata": {},
   "source": [
    "**Attention:** la quinte flush est très rare, l'exécution de la cellule suivante est donc plutôt longue."
   ]
  },
  {
   "cell_type": "code",
   "execution_count": 62,
   "metadata": {},
   "outputs": [
    {
     "data": {
      "text/plain": [
       "' 3♣ -  7♣ -  5♣ -  4♣ -  6♣'"
      ]
     },
     "metadata": {},
     "output_type": "display_data"
    },
    {
     "data": {
      "text/plain": [
       "' 9♠ - 10♠ -  7♠ -  6♠ -  8♠'"
      ]
     },
     "metadata": {},
     "output_type": "display_data"
    },
    {
     "data": {
      "text/plain": [
       "' 9♠ -  7♠ -  8♠ -  6♠ -  5♠'"
      ]
     },
     "metadata": {},
     "output_type": "display_data"
    },
    {
     "data": {
      "text/plain": [
       "' 5♣ -  4♣ -  8♣ -  6♣ -  7♣'"
      ]
     },
     "metadata": {},
     "output_type": "display_data"
    },
    {
     "data": {
      "text/plain": [
       "' 7♠ -  4♠ -  5♠ -  3♠ -  6♠'"
      ]
     },
     "metadata": {},
     "output_type": "display_data"
    },
    {
     "data": {
      "text/plain": [
       "' 5♥ -  4♥ -  6♥ -  7♥ -  3♥'"
      ]
     },
     "metadata": {},
     "output_type": "display_data"
    },
    {
     "data": {
      "text/plain": [
       "' 2♥ -  4♥ -  3♥ -  5♥ -  6♥'"
      ]
     },
     "metadata": {},
     "output_type": "display_data"
    },
    {
     "data": {
      "text/plain": [
       "' 8♥ -  5♥ -  4♥ -  7♥ -  6♥'"
      ]
     },
     "metadata": {},
     "output_type": "display_data"
    },
    {
     "data": {
      "text/plain": [
       "' 5♠ -  2♠ -  4♠ -  3♠ -  1♠'"
      ]
     },
     "metadata": {},
     "output_type": "display_data"
    },
    {
     "data": {
      "text/plain": [
       "' 9♦ -  7♦ -  V♦ -  8♦ - 10♦'"
      ]
     },
     "metadata": {},
     "output_type": "display_data"
    },
    {
     "data": {
      "text/plain": [
       "'778479 mains engendrées.'"
      ]
     },
     "metadata": {},
     "output_type": "display_data"
    }
   ],
   "source": [
    "n = 0\n",
    "i = 0\n",
    "while n < 10:\n",
    "    m = tirage_main()\n",
    "    i = i + 1\n",
    "    if est_quinte_flush(m):\n",
    "        display(chaîne_main(m))\n",
    "        n = n + 1\n",
    "display(str(i) + \" mains engendrées.\")"
   ]
  },
  {
   "cell_type": "code",
   "execution_count": 63,
   "metadata": {},
   "outputs": [],
   "source": [
    "def classe_main(main):\n",
    "    \"\"\"Renvoie le niveau de la main. Dans l'ordre croissant (de la main la plus faible à la main la plus forte):\n",
    "    1: Carte haute\n",
    "    2: Paire\n",
    "    3: Double Paire\n",
    "    4: Brelan\n",
    "    5: Quinte\n",
    "    6: Flush (jeu monochrome)\n",
    "    7: Full\n",
    "    8: Carré\n",
    "    9: Quinte Flush\n",
    "    10: Flush Royal (quinte flush terminant sur l'As)\n",
    "    \n",
    "    La valeur de retour est un couple (n, description), où n est le niveau de la main, et description son nom\n",
    "    en français.\n",
    "    \"\"\"\n",
    "    \n",
    "    occurences_rangs = occurences(main, transforme_valeur=rang_carte)\n",
    "    occurences_effectifs = occurences(occurences_rangs, transforme_valeur=effectif)\n",
    "    occurences_couleurs = occurences(main, transforme_valeur=couleur_carte)\n",
    "    \n",
    "    # On commence par tester la présence d'une suite:\n",
    "    if len(occurences_rangs) < 5:\n",
    "        est_suite = False\n",
    "    else:\n",
    "        est_suite = True\n",
    "        rangs = sorted([numéro_rang(r) for r in liste_clés(occurences_rangs)])\n",
    "        r = rangs[0]\n",
    "        i = 1\n",
    "        while i < 5 and est_suite is True:\n",
    "            rprime = rangs[i]\n",
    "            if (r != 1 and rprime != r + 1) or (r == 1 and rprime not in [2, 10]):\n",
    "                # Un As doit être suivi soit par un 2 (As-2-3-4-5), soit par un 10 (10-V-D-R-As)\n",
    "               est_suite = False\n",
    "            else:\n",
    "                r = rprime\n",
    "                i = i + 1\n",
    "\n",
    "    if est_suite is True and len(occurences_couleurs) == 1:\n",
    "        if rangs[0] == 1 and rangs[1] == 10:\n",
    "            # Flush royal\n",
    "            return 10, \"Flush Royal\"\n",
    "        else:\n",
    "            # Quinte flush\n",
    "            return 9, \"Quinte Flush\"\n",
    "    elif len(occurences_rangs) == 2:\n",
    "        if occurences_rangs[0][1] in [1, 4]:\n",
    "            # Carré\n",
    "            return 8, \"Carré\"\n",
    "        else:\n",
    "            # Full\n",
    "            return 7, \"Full\"\n",
    "    elif len(occurences_couleurs) == 1:\n",
    "        # Flush\n",
    "        return 6, \"Flush\"\n",
    "    elif est_suite is True:\n",
    "        # Quinte\n",
    "        return 5, \"Quinte\"\n",
    "    elif len(occurences_rangs) == 3:\n",
    "        un = valeur_associée(occurences_effectifs, 1, défaut=0)\n",
    "        deux = valeur_associée(occurences_effectifs, 2, défaut=0)\n",
    "        trois = valeur_associée(occurences_effectifs, 3, défaut=0)\n",
    "        if un == 2 and trois == 1:\n",
    "            # Brelan\n",
    "            return 4, \"Brelan\"\n",
    "        elif un == 1 and deux == 2:\n",
    "            # Double Paire\n",
    "            return 3, \"Double Paire\"\n",
    "    elif len(occurences_rangs) == 4:\n",
    "        # Paire\n",
    "        return 2, \"Paire\"\n",
    "    else:\n",
    "        # Carte Haute\n",
    "        return 1, \"Carte Haute\""
   ]
  },
  {
   "cell_type": "code",
   "execution_count": 64,
   "metadata": {},
   "outputs": [
    {
     "data": {
      "text/plain": [
       "'Paire :  6♠ -  R♥ -  2♠ -  6♣ -  3♣'"
      ]
     },
     "metadata": {},
     "output_type": "display_data"
    },
    {
     "data": {
      "text/plain": [
       "'Paire :  5♦ -  7♠ -  2♠ -  6♣ -  7♣'"
      ]
     },
     "metadata": {},
     "output_type": "display_data"
    },
    {
     "data": {
      "text/plain": [
       "'Carte Haute :  2♠ -  8♣ -  7♥ - 10♦ -  1♠'"
      ]
     },
     "metadata": {},
     "output_type": "display_data"
    },
    {
     "data": {
      "text/plain": [
       "'Paire :  5♣ -  1♦ -  D♦ -  5♦ -  8♠'"
      ]
     },
     "metadata": {},
     "output_type": "display_data"
    },
    {
     "data": {
      "text/plain": [
       "'Paire :  D♥ -  3♥ -  2♠ -  9♥ -  2♦'"
      ]
     },
     "metadata": {},
     "output_type": "display_data"
    },
    {
     "data": {
      "text/plain": [
       "'Carte Haute :  V♦ -  4♠ -  8♦ -  1♥ -  R♦'"
      ]
     },
     "metadata": {},
     "output_type": "display_data"
    },
    {
     "data": {
      "text/plain": [
       "'Paire :  5♣ -  1♣ - 10♣ -  7♥ -  5♥'"
      ]
     },
     "metadata": {},
     "output_type": "display_data"
    },
    {
     "data": {
      "text/plain": [
       "'Carte Haute :  3♦ -  R♣ -  6♣ -  5♦ -  V♣'"
      ]
     },
     "metadata": {},
     "output_type": "display_data"
    },
    {
     "data": {
      "text/plain": [
       "'Paire : 10♠ -  4♥ -  3♣ -  1♥ - 10♥'"
      ]
     },
     "metadata": {},
     "output_type": "display_data"
    },
    {
     "data": {
      "text/plain": [
       "'Carte Haute :  9♥ - 10♣ -  V♦ -  7♦ -  2♣'"
      ]
     },
     "metadata": {},
     "output_type": "display_data"
    }
   ],
   "source": [
    "for i in range(10):\n",
    "    m = tirage_main()\n",
    "    _, niveau = classe_main(m)\n",
    "    display(niveau + \" : \" + chaîne_main(m))"
   ]
  },
  {
   "cell_type": "markdown",
   "metadata": {},
   "source": [
    "Effectuons un test plus conséquent. Le fichier **mains_poker.txt** contient 2000 mains de poker, avec leur niveau (suivant la même convention que pour la fonction de classification ci-dessus). On va comparer les résultats."
   ]
  },
  {
   "cell_type": "code",
   "execution_count": 65,
   "metadata": {},
   "outputs": [
    {
     "data": {
      "text/plain": [
       "'Tous les tests ont été passés avec succès !'"
      ]
     },
     "metadata": {},
     "output_type": "display_data"
    }
   ],
   "source": [
    "try:\n",
    "    with open(\"mains_poker.txt\", \"r\") as fichier:\n",
    "        for ligne in fichier:\n",
    "            main, niveau = ligne.strip().split(\" \")\n",
    "            niveau = int(niveau)\n",
    "            # Chaque main est une suite de 5 cartes (au format anglais)\n",
    "            def traduit_carte(carte_anglais):\n",
    "                assoc_rangs = [\n",
    "                    ('A', 'As'),\n",
    "                    ('2', 'Deux'),\n",
    "                    ('3', 'Trois'),\n",
    "                    ('4', 'Quatre'),\n",
    "                    ('5', 'Cinq'),\n",
    "                    ('6', 'Six'),\n",
    "                    ('7', 'Sept'),\n",
    "                    ('8', 'Huit'),\n",
    "                    ('9', 'Neuf'),\n",
    "                    ('T', 'Dix'), # Ten\n",
    "                    ('J', 'Valet'), # Joker\n",
    "                    ('Q', 'Dame'), # Queen\n",
    "                    ('K', 'Roi') # King\n",
    "                ]\n",
    "\n",
    "                assoc_couleurs = [\n",
    "                    ('C', 'Trèfle'), # Club\n",
    "                    ('S', 'Pique'), # Spade\n",
    "                    ('H', 'Coeur'), # Heart\n",
    "                    ('D', 'Carreau') # Diamond\n",
    "                ]\n",
    "                return (valeur_associée(assoc_rangs, carte_anglais[0]), valeur_associée(assoc_couleurs, carte_anglais[1]))\n",
    "\n",
    "            main = [traduit_carte(c) for c in main.split(\"-\")]\n",
    "            classification, _ = classe_main(main)\n",
    "            assert classification == niveau, \"Erreur, la main \" + chaîne_main(main) + \" est classée au niveau \" + str(classification) + \" alors que le niveau est \" + str(niveau)\n",
    "except e:\n",
    "    raise e\n",
    "else:\n",
    "    display(\"Tous les tests ont été passés avec succès !\")"
   ]
  }
 ],
 "metadata": {
  "kernelspec": {
   "display_name": "Python 3",
   "language": "python",
   "name": "python3"
  },
  "language_info": {
   "codemirror_mode": {
    "name": "ipython",
    "version": 3
   },
   "file_extension": ".py",
   "mimetype": "text/x-python",
   "name": "python",
   "nbconvert_exporter": "python",
   "pygments_lexer": "ipython3",
   "version": "3.7.4"
  }
 },
 "nbformat": 4,
 "nbformat_minor": 4
}

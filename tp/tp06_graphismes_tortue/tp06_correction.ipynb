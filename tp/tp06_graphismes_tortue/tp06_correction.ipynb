{
 "cells": [
  {
   "cell_type": "markdown",
   "metadata": {},
   "source": [
    "# TP n° 6\n",
    "\n",
    "## Graphismes avec une tortue"
   ]
  },
  {
   "cell_type": "markdown",
   "metadata": {},
   "source": [
    "Le langage python offre une vaste librairie standard. Parmi les nombreux outils proposé, on trouve la librairie ```turtle``` qui permet de créer des graphiques intéressants dans un but éducatif (elle n'est pas utilisable pour la programmation d'un jeu vidéo par contre: à chaque outil son domaine de prédilection)."
   ]
  },
  {
   "cell_type": "markdown",
   "metadata": {},
   "source": [
    "### Présentation de la librairie ```turtle```"
   ]
  },
  {
   "cell_type": "markdown",
   "metadata": {},
   "source": [
    "Avant toute chose, il faut importer la librairie. Voici un premier exemple:"
   ]
  },
  {
   "cell_type": "code",
   "execution_count": 1,
   "metadata": {},
   "outputs": [],
   "source": [
    "import turtle as t\n",
    "\n",
    "t.forward(100)\n",
    "t.left(120)\n",
    "t.forward(100)\n",
    "t.left(120)\n",
    "t.forward(100)\n",
    "t.left(120)\n"
   ]
  },
  {
   "cell_type": "markdown",
   "metadata": {},
   "source": [
    "On constate qu'une fenêtre auxiliaire s'ouvre. La tortue est symbolisée par une flèche, et elle obéit à un certain nombre de commandes relativement simples à comprendre."
   ]
  },
  {
   "cell_type": "markdown",
   "metadata": {},
   "source": [
    "#### Commandes de bases:\n",
    "\n",
    "* ```t.forward(d)``` avance la tortue sur une distance équivalente à $d$ pixels, sans changer la direction.\n",
    "* ```t.backward(d)``` fait de même, mais à reculon (toujours sans changer la direction).\n",
    "* ```t.left(a)``` tourne la tortue d'un angle de $a$ degrés dans le sens trigonométrique, c'est-à-dire le sens inverse des aiguilles d'une montre. Autrement dit, vers la *gauche* !\n",
    "* ```t.right(a)``` tourne la tortue d'un angle de $a$ degrés dans le sens trigonométrique inverse, c'est-à-dire le sens des aiguilles d'une montre. Autrement dit, vers la *droite* !\n",
    "* ```t.dot(r)``` trace à l'emplacement de la tortue un point de rayon $r$ pixels.\n",
    "* ```t.circle(r, a)``` trace à partir de l'emplacement et la direction actuels un arc de cercle de rayon $r$ et d'angle $a$ degrés. Par défaut, l'arc de cercle tourne toujours vers la gauche. Si on veut aller vers la droite, il suffit de mettre un rayon négatif. On peut aussi mettre un angle $a < 0$ pour que la tortue trace le cercle à reculon. **Remarque**: Le paramètre $a$ est optionnel: en son absence, un cercle **complet** est tracé.\n"
   ]
  },
  {
   "cell_type": "markdown",
   "metadata": {},
   "source": [
    "Voici un nouvel exemple qui dessine un triangle équilatéral à bouts arrondis, en utilisant des arcs de cercles:"
   ]
  },
  {
   "cell_type": "code",
   "execution_count": 3,
   "metadata": {},
   "outputs": [],
   "source": [
    "t.reset()\n",
    "t.forward(100)\n",
    "t.circle(20, 120)\n",
    "t.forward(100)\n",
    "t.circle(20, 120)\n",
    "t.forward(100)\n",
    "t.circle(20, 120)\n"
   ]
  },
  {
   "cell_type": "markdown",
   "metadata": {},
   "source": [
    "#### Commandes cosmétiques:\n",
    "\n",
    "* ```t.reset()``` réinitialise la fenêtre graphique.\n",
    "* ```t.shape(forme)``` change la forme de la souris. Les formes valides sont ```\"arrow\"```, ```\"turtle\"```, ```\"circle\"```, ```\"square\"```, ```\"triangle\"```, ```\"classic\"```.\n",
    "* ```t.pencolor(c)``` change la couleur du tracer (trait), ainsi que le contours de la souris. La couleur doit être un nom de couleur valide, en anglais, comme ```blue``` par exemple. Une liste des noms de couleurs est disponible ici: http://www.science.smith.edu/dftwiki/index.php/Color_Charts_for_TKinter\n",
    "* ```t.pencolor(rouge, vert, bleu)``` permet de spécifier les composantes rouge-vert-bleu de la couleur. Chaque composante est un nombre à virgule flottante compris entre 0.0 (pas de couleur) et 1.0 (couleur maximale). ```t.pencolor(1.0, 0.0, 0.0)``` donnera par exemple du rouge vif.\n",
    "* ```t.fillcolor(c)``` et ```t.fillcolor(rouge, vert, bleu)``` fonctionne comme ```pencolor```, mais pour la couleur de remplissage.\n",
    "* ```t.up()``` relève le crayon: la tortue se déplace sans laisser de trace.\n",
    "* ```t.down()``` baisse le crayon: la tortue se déplace en laissant une trace.\n",
    "* ```t.width(e)``` change l'épaisseur du trait: celle-ci sera de $e$ pixels. Attention, $e$ doit être strictement positif sous peine de de déclenchement d'une erreur lors du tracer suivant.\n",
    "* ```t.begin_fill()```: À partir de cet instant, la tortue remplira l'espace laissé par sa trace.\n",
    "* ```t.end_fill()```: achève le remplissage démarré avec ```begin_fill()```.\n",
    "* ```t.speed(n)```: change la vitesse de l'affichage. $n$ est un entier pouvant varier entre 1 (vitesse la plus lente) et 10 (vitesse la plus rapide). La valeur spéciale $n = 0$ provoque un affichage instantanné.\n",
    "* ```t.title(titre)``` change le titre de la fenêtre de dessin.\n",
    "* ```t.ht()``` et ```t.st()``` cache la tortue (**h**ide **t**urtle) ou affiche la tortue (to **s**how **t**urtle). Le fait que la tortue soit cachée n'empêche pas de lui donner des ordres: elle est simplement invisible, mais elle peut laisser une trace à l'écran."
   ]
  },
  {
   "cell_type": "markdown",
   "metadata": {},
   "source": [
    "Le même exemple que le précédent, mais un peu plus esthétique:"
   ]
  },
  {
   "cell_type": "code",
   "execution_count": 9,
   "metadata": {},
   "outputs": [],
   "source": [
    "t.reset()\n",
    "t.speed(0)\n",
    "t.shape(\"turtle\")\n",
    "t.pencolor(\"saddle brown\")\n",
    "t.fillcolor(\"gold\")\n",
    "t.begin_fill()\n",
    "t.width(1)\n",
    "\n",
    "for _ in range(3):\n",
    "    t.forward(100)\n",
    "    t.circle(20, 240)\n",
    "    \n",
    "t.end_fill()\n",
    "t.ht()\n",
    "t.title(\"Joli triangle\")"
   ]
  },
  {
   "cell_type": "markdown",
   "metadata": {},
   "source": [
    "## Exercices:\n",
    "\n",
    "À vous de jouer à présent !"
   ]
  },
  {
   "cell_type": "markdown",
   "metadata": {},
   "source": [
    "---\n",
    "### Exercice: un carré\n",
    "\n",
    "Écrire une fonction ```carré(c)``` traçant un carré de côté $c$ à partir de la position et de l'orientation actuelle de la tortue. La fonction ne doit pas changer quoi que ce soit aux réglages graphiques: ceux-ci seront éventuellement effectués avant l'appel de la fonction."
   ]
  },
  {
   "cell_type": "code",
   "execution_count": 10,
   "metadata": {},
   "outputs": [],
   "source": [
    "def carré(c):\n",
    "    \"\"\"Trace un carré de côté c à partir de la position et de l'orientation actuelle de la tortue.\n",
    "    \n",
    "    La tortue retrouve sa position et son orientation initiale.\n",
    "    \"\"\"\n",
    "    \n",
    "    for _ in range(4):\n",
    "        t.forward(c)\n",
    "        t.left(90)"
   ]
  },
  {
   "cell_type": "code",
   "execution_count": 11,
   "metadata": {},
   "outputs": [],
   "source": [
    "# On teste la fonction ici\n",
    "\n",
    "t.reset()\n",
    "t.speed(10)\n",
    "\n",
    "# Possibilité de régler les paramètres graphiques ici\n",
    "\n",
    "for i in range(10):\n",
    "    carré(10*i)"
   ]
  },
  {
   "cell_type": "markdown",
   "metadata": {},
   "source": [
    "---\n",
    "### Exercice: une spirale carrée\n",
    "\n",
    "Réaliser la figure ci-dessous:\n",
    "\n",
    "![](spirale_carrée.png)\n"
   ]
  },
  {
   "cell_type": "code",
   "execution_count": 17,
   "metadata": {},
   "outputs": [],
   "source": [
    "t.reset()\n",
    "t.ht()\n",
    "t.speed(0)\n",
    "t.width(2)\n",
    "\n",
    "côté = 200\n",
    "\n",
    "while côté > 0:\n",
    "    t.forward(côté)\n",
    "    t.right(90)\n",
    "    côté = côté - 2\n"
   ]
  },
  {
   "cell_type": "markdown",
   "metadata": {},
   "source": [
    "---\n",
    "### Exercice : Polygones réguliers\n",
    "\n",
    "Écrire une fonction ```polygone(n, c)``` qui fait tracer à la tortue un polygone régulier à $n$ côtés, dont la longueur de chaque côté vaut $c$ pixels. La fonction ne changera aucun paramètres cosmétiques: ceux-ci seront pré-reglés *avant* l'appel de la fonction si nécessaire."
   ]
  },
  {
   "cell_type": "code",
   "execution_count": 18,
   "metadata": {},
   "outputs": [],
   "source": [
    "def polygone(n, c):\n",
    "    \"\"\"Trace un polygone régulier à n côtés de longueur c.\n",
    "    \"\"\"\n",
    "    \n",
    "    angle = 360.0 / n\n",
    "    \n",
    "    for _ in range(n):\n",
    "        t.forward(c)\n",
    "        t.left(angle)"
   ]
  },
  {
   "cell_type": "code",
   "execution_count": 21,
   "metadata": {},
   "outputs": [],
   "source": [
    "# Testons la fonction précédente:\n",
    "\n",
    "t.reset()\n",
    "\n",
    "# régler éventuellement les paramètres d'affichage ici.\n",
    "\n",
    "polygone(3, 100)"
   ]
  },
  {
   "cell_type": "markdown",
   "metadata": {},
   "source": [
    "---\n",
    "\n",
    "### Exercice: Cercles concentriques\n",
    "\n",
    "Réaliser une figure similaire à la figure suivante:\n",
    "\n",
    "![](cercles_concentriques.png)"
   ]
  },
  {
   "cell_type": "code",
   "execution_count": 28,
   "metadata": {},
   "outputs": [],
   "source": [
    "t.reset()\n",
    "t.ht()\n",
    "t.speed(0)\n",
    "\n",
    "r = 200\n",
    "\n",
    "t.up()\n",
    "t.backward(r / 2)\n",
    "t.right(90)\n",
    "t.down()\n",
    "\n",
    "while r > 0:\n",
    "    t.circle(r)\n",
    "    r -= 10"
   ]
  },
  {
   "cell_type": "markdown",
   "metadata": {},
   "source": [
    "---\n",
    "\n",
    "### Exercice: Cercles concentriques en dégradé\n",
    "\n",
    "Voici une variante un peu plus compliquée !\n",
    "\n",
    "![](cercles_concentriques_dégradé.png)"
   ]
  },
  {
   "cell_type": "markdown",
   "metadata": {},
   "source": [
    "La couleur varie entre un bleu relativement foncé dont les composantes RVB sont (0.3, 0.3, 1.0) et un bleu beaucoup plus clair (0.9, 0.9, 1.0).\n",
    "\n",
    "Il est bien entendu hors de question de spécifier toutes les couleurs (il y en a 20 sur l'exemple ci-dessus) à la main: il faut les calculer mathématiquement.\n",
    "\n",
    "Si on veut faire varier un nombre entre $a$ et $b$ en 20 étapes, on peut utiliser la formule $${(19-k)\\times a + k\\times b}\\over{19}$$ où on fait varier $k$ entre 0 et 19 (ce qui fait bien 20 étapes).\n",
    "\n",
    "On vérifie facilement que pour $k = 0$, la formule vaut $a$, alors qu'elle vaut $b$ lorsque $k = 19$. Pour les valeurs intermédiares de $k$, on obtient des valeurs intermédiaires entre $a$ et $b$."
   ]
  },
  {
   "cell_type": "code",
   "execution_count": 30,
   "metadata": {},
   "outputs": [],
   "source": [
    "t.reset()\n",
    "t.ht()\n",
    "t.speed(0)\n",
    "\n",
    "r = 200\n",
    "\n",
    "t.up()\n",
    "t.backward(r / 2)\n",
    "t.right(90)\n",
    "t.down()\n",
    "t.ht()\n",
    "\n",
    "r1 = 0.3\n",
    "v1 = 0.3\n",
    "b1 = 1.0\n",
    "\n",
    "r2 = 0.9\n",
    "v2 = 0.9\n",
    "b2 = 1.0\n",
    "\n",
    "for k in range(20):\n",
    "    rk = ((19-k)*r1 + k*r2) / 19\n",
    "    vk = ((19-k)*v1 + k*v2) / 19\n",
    "    bk = ((19-k)*b1 + k*b2) / 19\n",
    "    t.pencolor(rk, vk, bk)\n",
    "    t.fillcolor(rk, vk, bk)\n",
    "    t.begin_fill()\n",
    "    t.circle(r)\n",
    "    t.end_fill()\n",
    "    r -= 10\n",
    "\n"
   ]
  },
  {
   "cell_type": "markdown",
   "metadata": {},
   "source": [
    "---\n",
    "\n",
    "### Exercice: une spirale avec des carrés\n",
    "\n",
    "Réaliser une figure similaire à la figure suivante:\n",
    "\n",
    "![](spirale_carrés.png)\n"
   ]
  },
  {
   "cell_type": "code",
   "execution_count": 32,
   "metadata": {},
   "outputs": [],
   "source": [
    "# Écrire votre script ici.\n",
    "t.reset()\n",
    "t.ht()\n",
    "t.speed(0)\n",
    "t.width(2)\n",
    "\n",
    "for _ in range(36):\n",
    "    carré(100)\n",
    "    t.left(10)\n"
   ]
  },
  {
   "cell_type": "markdown",
   "metadata": {},
   "source": [
    "---\n",
    "\n",
    "### Exercice: une variante de la spirale précédente.\n",
    "\n",
    "Réaliser une figure similaire à la figure suivante:\n",
    "\n",
    "![](spirale_concentrique.png)\n",
    "\n",
    "Les couleurs sont choisies au hasard: on utilise pour cela la fonction random() du module ```random``` qui choisit un nombre aléatoirement entre 0.0 et 1.0."
   ]
  },
  {
   "cell_type": "markdown",
   "metadata": {},
   "source": [
    "Il serait bon de commencer par tenter de réaliser la figure plus simple ci-dessous:\n",
    "\n",
    "![](carrés_concentriques.png)\n",
    "\n",
    "**Aide:** La tortue  est initialement placée au centre de la figure, orientée vers la droite, et y revient entre l'affichage de chaque carré, avec la même orientation.\n",
    "\n",
    "Pour réaliser la figure complexe avec des couleurs, il ne reste ensuite plus qu'à rapprocher les carrés, augmenter leur nombre, et les faire tourner légèrement à chaque étape."
   ]
  },
  {
   "cell_type": "code",
   "execution_count": 33,
   "metadata": {},
   "outputs": [],
   "source": [
    "t.reset()\n",
    "t.ht()\n",
    "t.speed(0)\n",
    "\n",
    "r = 0\n",
    "while r < 100:\n",
    "    # On déplace la tortue du centre vers le\n",
    "    # coin en bas à gauche\n",
    "    t.up()\n",
    "    t.backward(r / 2)\n",
    "    t.right(90)\n",
    "    t.forward(r / 2)\n",
    "    t.left(90)\n",
    "    t.down()\n",
    "    \n",
    "    # On trace le carré\n",
    "    carré(r)\n",
    "    \n",
    "    # Puis on retourne au centre\n",
    "    t.up()\n",
    "    t.left(90)\n",
    "    t.forward(r / 2)\n",
    "    t.right(90)\n",
    "    t.forward(r / 2)\n",
    "    t.down()\n",
    "\n",
    "    \n",
    "    # Le prochain carré sera plus gros\n",
    "    r = r + 10\n",
    "\n"
   ]
  },
  {
   "cell_type": "code",
   "execution_count": 34,
   "metadata": {},
   "outputs": [],
   "source": [
    "# Écrire votre script pour la version complexe ici:\n",
    "t.reset()\n",
    "t.ht()\n",
    "t.speed(0)\n",
    "t.width(2)\n",
    "\n",
    "from random import random\n",
    "\n",
    "r = 0\n",
    "while r < 600:\n",
    "    # On déplace la tortue du centre vers le\n",
    "    # coin en bas à gauche\n",
    "    t.up()\n",
    "    t.backward(r / 2)\n",
    "    t.right(90)\n",
    "    t.forward(r / 2)\n",
    "    t.left(90)\n",
    "    t.down()\n",
    "    \n",
    "    # On trace le carré\n",
    "    t.pencolor(random(), random(), random())\n",
    "    carré(r)\n",
    "    \n",
    "    # Puis on retourne au centre\n",
    "    t.up()\n",
    "    t.left(90)\n",
    "    t.forward(r / 2)\n",
    "    t.right(90)\n",
    "    t.forward(r / 2)\n",
    "    t.down()\n",
    "\n",
    "    \n",
    "    # Le prochain carré sera plus gros\n",
    "    r = r + 10\n",
    "    # ... et légèrement tourné\n",
    "    t.left(5)\n",
    "\n",
    "\n"
   ]
  },
  {
   "cell_type": "markdown",
   "metadata": {},
   "source": [
    "---\n",
    "### Exercice: une étoile\n",
    "\n",
    "Réaliser la figure suivante:\n",
    "\n",
    "![](étoile.png)\n",
    "\n",
    "Elle est beaucoup plus simple à réaliser qu'il n'y paraît !"
   ]
  },
  {
   "cell_type": "markdown",
   "metadata": {},
   "source": [
    "Commencez par réaliser la figure ci-dessous, sans aucune couleur ni remplissage (essayez de comprendre la construction: il s'agit d'une unique ligne brisée ininterrompue):\n",
    "\n",
    "![](étoile_brute.png)\n",
    "\n",
    "Il suffit ensuite d'englober la construction par ```t.begin_fill()``` et ```t.end_fill()``` et de choisir les couleurs."
   ]
  },
  {
   "cell_type": "code",
   "execution_count": 50,
   "metadata": {},
   "outputs": [],
   "source": [
    "t.reset()\n",
    "t.ht()\n",
    "t.speed(0)\n",
    "\n",
    "t.pencolor(\"gold\")\n",
    "t.fillcolor(\"yellow2\")\n",
    "t.width(2)\n",
    "\n",
    "t.begin_fill()\n",
    "for _ in range(18):\n",
    "    t.forward(200)\n",
    "    t.left(140)\n",
    "t.end_fill()\n"
   ]
  },
  {
   "cell_type": "markdown",
   "metadata": {},
   "source": [
    "---\n",
    "### Exercice: spirale ascendante\n",
    "\n",
    "Réaliser la figure ci-dessous, construite à partir de demi-cercles dont le rayon (et l'épaisseur) augmente régulièrement:\n",
    "\n",
    "![](spirale_demi_cercles.png)"
   ]
  },
  {
   "cell_type": "code",
   "execution_count": 79,
   "metadata": {},
   "outputs": [],
   "source": [
    "# Écrire votre script ici\n",
    "t.reset()\n",
    "t.ht()\n",
    "t.speed(0)\n",
    "\n",
    "e = 1\n",
    "r = 0\n",
    "\n",
    "for i in range(21):\n",
    "    t.width(e)\n",
    "    c = 0.05*i\n",
    "    t.pencolor(c, c, c)\n",
    "    t.circle(r, 180)\n",
    "    \n",
    "    e = e + 1\n",
    "    r = r + 10\n"
   ]
  },
  {
   "cell_type": "markdown",
   "metadata": {},
   "source": [
    "---\n",
    "### Exercice: Une histoire de drapeaux !\n",
    "\n",
    "Réaliser un drapeau français !"
   ]
  },
  {
   "cell_type": "code",
   "execution_count": 64,
   "metadata": {},
   "outputs": [],
   "source": [
    "l = 80\n",
    "h = 140\n",
    "\n",
    "def rectangle():\n",
    "    for _ in range(2):\n",
    "        t.forward(l)\n",
    "        t.left(90)\n",
    "        t.forward(h)\n",
    "        t.left(90)\n",
    "\n",
    "t.reset()\n",
    "t.ht()\n",
    "t.speed(0)\n",
    "\n",
    "t.width(2)\n",
    "\n",
    "for c in [\"blue\", \"white\", \"red\"]:\n",
    "    t.fillcolor(c)\n",
    "    t.begin_fill()\n",
    "    rectangle()\n",
    "    t.end_fill()\n",
    "    t.forward(l)\n"
   ]
  },
  {
   "cell_type": "markdown",
   "metadata": {},
   "source": [
    "**Variante pour les plus courageaux:** réaliser un drapeau britanique. Si possible avant le fatidique brexit !\n",
    "\n",
    "![](drapeau_royaume_uni.png)\n",
    "\n",
    "On peut se faciliter la vie en recouvrant certaines parties par d'autres.\n",
    "\n",
    "Il pourra être utile d'utiliser une instruction de positionnement absolu de la tortue:\n",
    "\n",
    "```t.setposition(x, y)``` place la tortue aux coordonnées $(x, y)$, l'axe des ordonnées étant orienté de haut en bas contrairement à la convention mathématique."
   ]
  },
  {
   "cell_type": "code",
   "execution_count": 17,
   "metadata": {},
   "outputs": [],
   "source": [
    "# Écrire votre script ici\n",
    "\n"
   ]
  },
  {
   "cell_type": "markdown",
   "metadata": {},
   "source": [
    "---\n",
    "### Exercice: Anneaux olympiques"
   ]
  },
  {
   "cell_type": "markdown",
   "metadata": {},
   "source": [
    "Réaliser les pseudo anneaux olympiques ci-dessous:\n",
    "\n",
    "![](olympics-logo.jpg)"
   ]
  },
  {
   "cell_type": "code",
   "execution_count": 3,
   "metadata": {},
   "outputs": [],
   "source": [
    "t.reset()\n",
    "t.ht()\n",
    "t.speed(0)\n",
    "\n",
    "t.width(20)\n",
    "\n",
    "t.up()\n",
    "t.backward(200)\n",
    "t.down()\n",
    "\n",
    "t.pencolor(\"blue\")\n",
    "t.circle(80)\n",
    "t.up()\n",
    "t.forward(200)\n",
    "t.down()\n",
    "\n",
    "t.pencolor(\"black\")\n",
    "t.circle(80)\n",
    "t.up()\n",
    "t.forward(200)\n",
    "t.down()\n",
    "\n",
    "t.pencolor(\"red\")\n",
    "t.circle(80)\n",
    "t.up()\n",
    "t.backward(300)\n",
    "t.right(90)\n",
    "t.forward(70)\n",
    "t.left(90)\n",
    "t.down()\n",
    "\n",
    "t.pencolor(\"yellow\")\n",
    "t.circle(80)\n",
    "t.up()\n",
    "t.forward(200)\n",
    "t.down()\n",
    "\n",
    "t.pencolor(\"green\")\n",
    "t.circle(80)\n",
    "\n"
   ]
  },
  {
   "cell_type": "markdown",
   "metadata": {},
   "source": [
    "**Bonus:** Les véritables anneaux olympiques vous donneront beaucoup plus de fil à retordre !\n",
    "\n",
    "![](true_olympic_logo.png)"
   ]
  },
  {
   "cell_type": "code",
   "execution_count": 19,
   "metadata": {},
   "outputs": [],
   "source": [
    "import turtle as t\n",
    "\n",
    "# On prépare les données des 5 cercles:\n",
    "# (x, y, r, c) où\n",
    "# (x, y) -> coordonnées du centre\n",
    "# r -> rayon\n",
    "# c -> couleur\n",
    "\n",
    "cercles = [\n",
    "    (-200, 100, 80, \"blue\"),\n",
    "    (0, 100, 80, \"black\"),\n",
    "    (200, 100, 80, \"red\"),\n",
    "    (-100, 30, 80, \"yellow\"),\n",
    "    (100, 30, 80, \"green\")\n",
    "]\n",
    "\n",
    "def arc_cercle(cx, cy, r, a1, a2):\n",
    "    \"\"\"Trace un arc de cercle dont le centre\n",
    "    et le rayon sont donnés, entre les angles\n",
    "    a1 et a2.\n",
    "    \n",
    "    A la fin du tracé, la position de la \n",
    "    tortue est non spécifiée (c'est-à-dire\n",
    "    qu'elle dépend du tracé lui-même, on ne\n",
    "    peut donc pas en tenir compte).\n",
    "    \"\"\"\n",
    "    \n",
    "    # On place la tortue au centre du cercle\n",
    "    t.up()\n",
    "    t.setposition(cx, cy)\n",
    "    \n",
    "    # On déplace la tortue au bord du cercle\n",
    "    # dans la direction de a1\n",
    "    t.setheading(a1)\n",
    "    t.forward(r)\n",
    "    \n",
    "    # On tourne la tortue d'un quart de tour \n",
    "    # vers la gauche\n",
    "    t.left(90)\n",
    "    t.down()\n",
    "    \n",
    "    # ...puis on trace l'arc de cercle\n",
    "    t.circle(r, a2 - a1)\n",
    "    \n",
    "def trace_cercle(n, a1, a2):\n",
    "    \"\"\"Trace le n-ième cercle (entre 0 et 4)\n",
    "    avec la bonne couleur, entre les angles\n",
    "    a1 et a2.\n",
    "    \"\"\"\n",
    "    \n",
    "    # On récupère les données du cercle\n",
    "    # numéro n\n",
    "    x, y, r, c = cercles[n]\n",
    "    \n",
    "    # On change la couleur\n",
    "    t.pencolor(c)\n",
    "    \n",
    "    # On trace l'arc de cercle demandé\n",
    "    arc_cercle(x, y, r, a1, a2)\n",
    "\n",
    "t.reset()\n",
    "t.speed(0)\n",
    "t.width(20)\n",
    "t.ht()\n",
    "\n",
    "# On commence par tracer les 5 cercles\n",
    "# sans se poser de question de recouvrement.\n",
    "for n in range(5):\n",
    "    trace_cercle(n, 0, 360)\n",
    "    \n",
    "# Puis on rajoute les 4 parties mal\n",
    "# recouvertes \"à la main\".\n",
    "trace_cercle(0, -60, 60)\n",
    "trace_cercle(1, -120, -90)\n",
    "trace_cercle(1, -30, 30)\n",
    "trace_cercle(2, -120, -90)\n"
   ]
  },
  {
   "cell_type": "markdown",
   "metadata": {},
   "source": [
    "---\n",
    "### Exercice: un échiquier !\n",
    "\n",
    "Faites ce que dit le titre de l'exercice:\n",
    "\n",
    "![](échiquier.png)"
   ]
  },
  {
   "cell_type": "code",
   "execution_count": 78,
   "metadata": {},
   "outputs": [],
   "source": [
    "t.reset()\n",
    "t.ht()\n",
    "t.speed(0)\n",
    "\n",
    "t.width(2)\n",
    "c = 30\n",
    "\n",
    "for i in range(8):\n",
    "    for j in range(8):\n",
    "        if i % 2 != j % 2:\n",
    "            t.fillcolor(\"bisque\")\n",
    "        else:\n",
    "            t.fillcolor(\"darkgray\")\n",
    "        t.begin_fill()\n",
    "        carré(c)\n",
    "        t.end_fill()\n",
    "        t.forward(c)\n",
    "    t.up()\n",
    "    t.backward(8*c)\n",
    "    t.right(90)\n",
    "    t.forward(c)\n",
    "    t.left(90)\n",
    "    t.down()\n",
    "    \n",
    "# On revient à la position de départ\n",
    "t.up()\n",
    "t.setposition(0, 0)\n",
    "t.down()\n",
    "\n"
   ]
  },
  {
   "cell_type": "code",
   "execution_count": null,
   "metadata": {},
   "outputs": [],
   "source": []
  }
 ],
 "metadata": {
  "kernelspec": {
   "display_name": "Python 3",
   "language": "python",
   "name": "python3"
  },
  "language_info": {
   "codemirror_mode": {
    "name": "ipython",
    "version": 3
   },
   "file_extension": ".py",
   "mimetype": "text/x-python",
   "name": "python",
   "nbconvert_exporter": "python",
   "pygments_lexer": "ipython3",
   "version": "3.5.2"
  }
 },
 "nbformat": 4,
 "nbformat_minor": 4
}

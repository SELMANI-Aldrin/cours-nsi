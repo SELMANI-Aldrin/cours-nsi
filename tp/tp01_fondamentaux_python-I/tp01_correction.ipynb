{
 "cells": [
  {
   "cell_type": "markdown",
   "metadata": {},
   "source": [
    "# TP - Les fondamentaux du langage python - Partie I"
   ]
  },
  {
   "cell_type": "markdown",
   "metadata": {},
   "source": [
    "## Plus petit - plus grand"
   ]
  },
  {
   "cell_type": "markdown",
   "metadata": {},
   "source": [
    "Votre première tâche consiste à programmer le jeu *plus petit / plus grand* dont le fonctionnement est très simple:\n",
    "\n",
    "*  Le programme choisit au hasard un nombre entier compris entre 1 et 100 ;\n",
    "*  Une fois ce choix effectué, le programme demande à l'utilisateur de choisir un nombre compris entre 1 et 100 ;\n",
    "* Si l'utilisateur a trouvé le nombre choisi au départ, il a gagné et le jeu s'arrête ;\n",
    "* Sinon, le programme affiche *Trop petit* ou *Trop grand* afin de guider l'utilisateur pour ses choix futures ;\n",
    "* Tant que le joueur n'a pas trouvé la bonne réponse, le programme lui redemande de faire un nouveau choix."
   ]
  },
  {
   "cell_type": "code",
   "execution_count": null,
   "metadata": {},
   "outputs": [],
   "source": [
    "from random import randint\n",
    "\n",
    "# Nombre choisi par l'ordinateur\n",
    "but = randint(1, 100)\n",
    "\n",
    "# On initialise le choix du joueur à -1, comme ça on est certain qu'à la première étape\n",
    "# le choix sera différent du but, et on entrera donc au moins une fois dans la boucle while.\n",
    "choix = -1\n",
    "\n",
    "while choix != but:\n",
    "    choix = int(input(\"Choisissez un nombre entre 1 et 100:\"))\n",
    "    if choix < but:\n",
    "        print(choix, \"est trop petit.\")\n",
    "    elif choix > but:\n",
    "        print(choix, \"est trop grand.\")\n",
    "    else:\n",
    "        # On est sûr que choix == but à ce stade\n",
    "        print(choix, \"est effectivement le nombre que j'avais choisi. Bravo, vous avez gagné !\")\n",
    "        "
   ]
  },
  {
   "cell_type": "markdown",
   "metadata": {},
   "source": [
    "## Extensions possibles\n",
    "\n",
    "Voici quelques idées pour ceux qui souhaiteraient aller un peu plus loin:\n",
    "\n",
    "  * S'assurer que le nombre saisi est bien compris entre 1 et 100\n",
    "  * Compter le nombre d'essais avant la victoire, et l'afficher: *Vous avez gagné en \\\\(x\\\\) coups*\n",
    "  * Interrompre le jeu si le nombre n'a pas été deviné au bout de 10 essais (par exemple). On considère qu'il s'agit d'une défaite dans ce cas"
   ]
  },
  {
   "cell_type": "code",
   "execution_count": null,
   "metadata": {},
   "outputs": [],
   "source": [
    " from random import randint\n",
    "\n",
    "# Nombre choisi par l'ordinateur\n",
    "but = randint(1, 100)\n",
    "\n",
    "# On initialise le choix du joueur à -1, comme ça on est certain qu'à la première étape\n",
    "# le choix sera différent du but, et on entrera donc au moins une fois dans la boucle while.\n",
    "choix = -1\n",
    "\n",
    "nombre_essais = 0\n",
    "nombre_essais_max = 10\n",
    "\n",
    "print(\"Nombre maximal d'essais autorisé:\", nombre_essais_max)\n",
    "print()\n",
    "\n",
    "while choix != but and nombre_essais < nombre_essais_max:\n",
    "    nombre_essais = nombre_essais + 1\n",
    "    \n",
    "    # On demande un nombre à l'utilisateur tant qu'il n'est pas valide et compris entre 1 et 100.\n",
    "    choix_effectué = False\n",
    "    while choix_effectué is False:\n",
    "        # On utilise un mécanisme avancé de python (complètement hors programme)\n",
    "        # permettant de récupérer une erreur de conversion de type (ValueError), d'afficher\n",
    "        # un message adapté, sans planter tout le programme.\n",
    "        try:\n",
    "            choix = int(input(\"Essai n°\" + str(nombre_essais) + \" - Choisissez un nombre entre 1 et 100:\"))\n",
    "        except ValueError:\n",
    "            print(\"Ceci n'est pas un nombre entier\")\n",
    "        else:    \n",
    "            if choix < 1 or choix > 100:\n",
    "                print(\"Le nombre doit être compris entre 1 et 100\")\n",
    "            else:\n",
    "                choix_effectué = True\n",
    "            \n",
    "    if choix < but:\n",
    "        print(choix, \"est trop petit.\")\n",
    "    elif choix > but:\n",
    "        print(choix, \"est trop grand.\")\n",
    "    else:\n",
    "        # On est sûr que choix == but à ce stade\n",
    "        print(choix, \"est effectivement le nombre que j'avais choisi. Bravo, vous avez gagné !\")\n",
    "        print(\"Nombre d'essais pour parvenir à la victoire:\", nombre_essais)\n",
    "        \n",
    "if nombre_essais >= nombre_essais_max and choix != but:\n",
    "    print(\"Désolé, mais vous avez dépassé le nombre d'essais maximal autorisé\")\n",
    "        "
   ]
  }
 ],
 "metadata": {
  "kernelspec": {
   "display_name": "Python 3",
   "language": "python",
   "name": "python3"
  },
  "language_info": {
   "codemirror_mode": {
    "name": "ipython",
    "version": 3
   },
   "file_extension": ".py",
   "mimetype": "text/x-python",
   "name": "python",
   "nbconvert_exporter": "python",
   "pygments_lexer": "ipython3",
   "version": "3.7.4"
  }
 },
 "nbformat": 4,
 "nbformat_minor": 4
}

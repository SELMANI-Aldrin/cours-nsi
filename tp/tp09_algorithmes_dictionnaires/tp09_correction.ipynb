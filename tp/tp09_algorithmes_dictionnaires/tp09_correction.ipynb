{
 "cells": [
  {
   "cell_type": "markdown",
   "metadata": {},
   "source": [
    "# TP n° 9\n",
    "\n",
    "## Retour aux bases"
   ]
  },
  {
   "cell_type": "markdown",
   "metadata": {},
   "source": [
    "On redonne les fonctions de tris (étudiées précédemment) qui pourront servir en cas de besoin:"
   ]
  },
  {
   "cell_type": "code",
   "execution_count": 1,
   "metadata": {},
   "outputs": [],
   "source": [
    "def tri_sélection(t, croissant=True, clé_de_tri=None):\n",
    "    \"\"\"Trie le tableau t.\n",
    "    \n",
    "    Le paramètre optionnel croissant est un booléen indiquant s'il faut trier dans l'ordre\n",
    "    croissant ou non. Par défaut (si le paramètre n'est pas inclus), le tri se fera dans\n",
    "    l'ordre croissant.\n",
    "    \n",
    "    Le paramètre optionnel clé_de_tri doit être None (s'il n'y en a pas) ou bien une fonction\n",
    "    renvoyant une valeur qui servira à la comparaison des données. En cas d'absence \n",
    "    (c'est-à-dire si clé_de_tri == None), l'ordre lexicographique standard sera utilisé\n",
    "    \"\"\"\n",
    "    \n",
    "    for i in range(len(t)):\n",
    "        if clé_de_tri is None:\n",
    "            m = t[i]\n",
    "        else:\n",
    "            m = clé_de_tri(t[i])\n",
    "        indice_m = i\n",
    "        for j in range(i + 1, len(t)):\n",
    "            # Selon la valeur de croissant, il faut tester une inégalité ou l'autre: selon le cas,\n",
    "            # on recherchera donc le minimum (si croissant est True) ou le maximum sur\n",
    "            # la partie non triée\n",
    "            if clé_de_tri is None:\n",
    "                valeur = t[j]\n",
    "            else:\n",
    "                valeur = clé_de_tri(t[j])\n",
    "            if (croissant is True and valeur < m) or (croissant is False and valeur > m):\n",
    "                m = valeur\n",
    "                indice_m = j\n",
    "        t[i], t[indice_m] = t[indice_m], t[i]"
   ]
  },
  {
   "cell_type": "code",
   "execution_count": 2,
   "metadata": {},
   "outputs": [],
   "source": [
    "def copie_triée(t, croissant=True, clé_de_tri=None):\n",
    "    \"\"\"Copie le tableau t, puis le trie par ordre croissant ou décroissant, selon\n",
    "    la valeur du booléen 'croissant' passé en paramètre. Une fonction clé_de_tri \n",
    "    optionnelle permettant de calculer les valeurs à comparer peut être incluse.\n",
    "    \"\"\"\n",
    "    \n",
    "    # On commence par créer une copie du tableau:\n",
    "    n = len(t)\n",
    "    copie = [0] * n\n",
    "    \n",
    "    for i in range(n):\n",
    "        copie[i] = t[i]\n",
    "        \n",
    "    # puis on la trie (le tableau 'copie' sera modifié en place)\n",
    "    tri_sélection(copie, croissant, clé_de_tri)\n",
    "    \n",
    "    # Enfin, on renvoie la copie\n",
    "    return copie"
   ]
  },
  {
   "cell_type": "markdown",
   "metadata": {},
   "source": [
    "---\n",
    "### Exercice  - Statistiques I"
   ]
  },
  {
   "cell_type": "markdown",
   "metadata": {},
   "source": [
    "Écrire une fonction ```regroupe_valeurs(t)``` prenant en entrée un tableau ```t``` de nombres (avec potentiellement des répétitions), et renvoyant en sortie deux tableaux:\n",
    "* un tableau contenant exactement un seul exemplaire de chaque valeur présente dans le tableau ```t```, dans un ordre quelconque.\n",
    "* un tableau des effectifs (c'est-à-dire du nombre d'occurences) de ces valeurs dans le tableau ```t```. Il va sans dire que l'effectif pour un indice donné doit correspondre à la valeur du premier tableau au même indice."
   ]
  },
  {
   "cell_type": "code",
   "execution_count": 3,
   "metadata": {},
   "outputs": [],
   "source": [
    "def regroupe_valeurs(t):\n",
    "    \"\"\"Regroupe la série de nombres dans le tableau t en deux tableaux:\n",
    "    - un tableau de valeurs, où chaque valeur est représentée une unique fois;\n",
    "    - un tableau des effectifs correspondants.\n",
    "    \"\"\"\n",
    "    \n",
    "    # On utilise un dictionnaire pour compter les occurences\n",
    "    occurences = {}\n",
    "    for nombre in t:\n",
    "        if nombre in occurences:\n",
    "            occurences[nombre] = occurences[nombre] + 1\n",
    "        else:\n",
    "            occurences[nombre] = 1\n",
    "            \n",
    "    # Puis on crée les deux tableaux demandés:\n",
    "    valeurs = []\n",
    "    effectifs = []\n",
    "    for v in occurences:\n",
    "        valeurs.append(v)\n",
    "        effectifs.append(occurences[v])\n",
    "        \n",
    "    return valeurs, effectifs"
   ]
  },
  {
   "cell_type": "markdown",
   "metadata": {},
   "source": [
    "Testez votre fonction:"
   ]
  },
  {
   "cell_type": "code",
   "execution_count": 4,
   "metadata": {},
   "outputs": [
    {
     "name": "stdout",
     "output_type": "stream",
     "text": [
      "Test 1 passé avec succès sur un tableau de longueur 32\n",
      "Test 2 passé avec succès sur un tableau de longueur 44\n",
      "Test 3 passé avec succès sur un tableau de longueur 71\n",
      "Test 4 passé avec succès sur un tableau de longueur 87\n",
      "Test 5 passé avec succès sur un tableau de longueur 86\n",
      "Test 6 passé avec succès sur un tableau de longueur 10\n",
      "Test 7 passé avec succès sur un tableau de longueur 41\n",
      "Test 8 passé avec succès sur un tableau de longueur 52\n",
      "Test 9 passé avec succès sur un tableau de longueur 53\n",
      "Test 10 passé avec succès sur un tableau de longueur 49\n",
      "Test 11 passé avec succès sur un tableau de longueur 13\n",
      "Test 12 passé avec succès sur un tableau de longueur 15\n",
      "Test 13 passé avec succès sur un tableau de longueur 72\n",
      "Test 14 passé avec succès sur un tableau de longueur 53\n",
      "Test 15 passé avec succès sur un tableau de longueur 52\n",
      "Test 16 passé avec succès sur un tableau de longueur 3\n",
      "Test 17 passé avec succès sur un tableau de longueur 10\n",
      "Test 18 passé avec succès sur un tableau de longueur 25\n",
      "Test 19 passé avec succès sur un tableau de longueur 23\n",
      "Test 20 passé avec succès sur un tableau de longueur 99\n",
      "Tous les tests ont été passés avec succès\n"
     ]
    }
   ],
   "source": [
    "from random import randint\n",
    "\n",
    "try:\n",
    "    for N in range(20):\n",
    "        longueur = randint(0, 100)\n",
    "        t = [randint(-longueur // 10, longueur // 10) for _ in range(longueur)]\n",
    "        valeurs, effectifs = regroupe_valeurs(t)\n",
    "        assert len(valeurs) == len(effectifs)\n",
    "        for i in range(len(valeurs)):\n",
    "            assert effectifs[i] == t.count(valeurs[i])\n",
    "        print(\"Test\", N+1, \"passé avec succès sur un tableau de longueur\", longueur)\n",
    "except AssertionError as e:\n",
    "    raise e\n",
    "else:\n",
    "    print(\"Tous les tests ont été passés avec succès\")"
   ]
  },
  {
   "cell_type": "markdown",
   "metadata": {},
   "source": [
    "---\n",
    "### Exercice - Statistiques II"
   ]
  },
  {
   "cell_type": "markdown",
   "metadata": {},
   "source": [
    "Reprendre l'exercice précédent, mais trier les valeurs à la sortie de la fonction par ordre croissant.\n",
    "\n",
    "**Attention:** les effectifs devront impérativement être triés dans le même ordre puisqu'ils doivent toujours correspondre aux mêmes indices."
   ]
  },
  {
   "cell_type": "code",
   "execution_count": 5,
   "metadata": {},
   "outputs": [],
   "source": [
    "def regroupe_valeurs_triées(t):\n",
    "    \"\"\"Regroupe la série de nombres dans le tableau t en deux tableaux:\n",
    "    - un tableau de valeurs, où chaque valeur est représentée une unique fois, triées\n",
    "    dans l'ordre croissant;\n",
    "    - un tableau des effectifs correspondants.\n",
    "    \"\"\"\n",
    "    \n",
    "    # On utilise un dictionnaire pour compter les occurences\n",
    "    occurences = {}\n",
    "    for nombre in t:\n",
    "        if nombre in occurences:\n",
    "            occurences[nombre] = occurences[nombre] + 1\n",
    "        else:\n",
    "            occurences[nombre] = 1\n",
    "            \n",
    "    # Puis on crée les deux tableaux demandés.\n",
    "    # Plutôt que de créer d'abord les tableaux et de les trier ensuite (ce qui \n",
    "    # est compliqué car le second tableau doit se trier exactement dans le\n",
    "    # même ordre que le premier), on crée d'abord le premier, on le trie, puis\n",
    "    # on crée le tableau des effectifs dans le même ordre.\n",
    "    valeurs = []\n",
    "    for v in occurences:\n",
    "        valeurs.append(v)\n",
    "        \n",
    "    tri_sélection(valeurs)\n",
    "    \n",
    "    effectifs = []\n",
    "    for v in valeurs:\n",
    "        effectifs.append(occurences[v])\n",
    "        \n",
    "    return valeurs, effectifs"
   ]
  },
  {
   "cell_type": "markdown",
   "metadata": {},
   "source": [
    "La procédure de test est quasiment identique à la précédente:"
   ]
  },
  {
   "cell_type": "code",
   "execution_count": 6,
   "metadata": {},
   "outputs": [
    {
     "name": "stdout",
     "output_type": "stream",
     "text": [
      "Test 1 passé avec succès sur un tableau de longueur 86\n",
      "Test 2 passé avec succès sur un tableau de longueur 47\n",
      "Test 3 passé avec succès sur un tableau de longueur 72\n",
      "Test 4 passé avec succès sur un tableau de longueur 88\n",
      "Test 5 passé avec succès sur un tableau de longueur 57\n",
      "Test 6 passé avec succès sur un tableau de longueur 53\n",
      "Test 7 passé avec succès sur un tableau de longueur 26\n",
      "Test 8 passé avec succès sur un tableau de longueur 90\n",
      "Test 9 passé avec succès sur un tableau de longueur 100\n",
      "Test 10 passé avec succès sur un tableau de longueur 96\n",
      "Test 11 passé avec succès sur un tableau de longueur 28\n",
      "Test 12 passé avec succès sur un tableau de longueur 24\n",
      "Test 13 passé avec succès sur un tableau de longueur 22\n",
      "Test 14 passé avec succès sur un tableau de longueur 7\n",
      "Test 15 passé avec succès sur un tableau de longueur 35\n",
      "Test 16 passé avec succès sur un tableau de longueur 60\n",
      "Test 17 passé avec succès sur un tableau de longueur 35\n",
      "Test 18 passé avec succès sur un tableau de longueur 91\n",
      "Test 19 passé avec succès sur un tableau de longueur 0\n",
      "Test 20 passé avec succès sur un tableau de longueur 3\n",
      "Tous les tests ont été passés avec succès\n"
     ]
    }
   ],
   "source": [
    "from random import randint\n",
    "\n",
    "try:\n",
    "    for N in range(20):\n",
    "        longueur = randint(0, 100)\n",
    "        t = [randint(-longueur // 10, longueur // 10) for _ in range(longueur)]\n",
    "        valeurs, effectifs = regroupe_valeurs_triées(t)\n",
    "        assert len(valeurs) == len(effectifs)\n",
    "        if len(valeurs) > 0:\n",
    "            v = valeurs[0]\n",
    "            for i in range(1, len(valeurs)):\n",
    "                assert valeurs[i] > v\n",
    "        for i in range(len(valeurs)):\n",
    "            assert effectifs[i] == t.count(valeurs[i])\n",
    "        print(\"Test\", N+1, \"passé avec succès sur un tableau de longueur\", longueur)\n",
    "except AssertionError as e:\n",
    "    raise e\n",
    "else:\n",
    "    print(\"Tous les tests ont été passés avec succès\")"
   ]
  },
  {
   "cell_type": "markdown",
   "metadata": {},
   "source": [
    "---\n",
    "### Exercice - Statistiques III"
   ]
  },
  {
   "cell_type": "markdown",
   "metadata": {},
   "source": [
    "Écrire une fonction ```médiane(t)``` prenant en entrée un tableau de nombres, et renvoyant en sortie la médiane de cette série de nombres."
   ]
  },
  {
   "cell_type": "code",
   "execution_count": 7,
   "metadata": {},
   "outputs": [],
   "source": [
    "def médiane(t):\n",
    "    \"\"\"Calcule la médiane de la série de données stockée dans le tableau t.\n",
    "    \n",
    "    Le tableau t n'est pas modifié par l'opération.\n",
    "    \"\"\"\n",
    "    \n",
    "    rangé = copie_triée(t)\n",
    "    N = len(t)\n",
    "    \n",
    "    if N % 2 == 1: \n",
    "        # effectif impair, la médiane est la valeur du milieu\n",
    "        milieu = (N // 2) + 1\n",
    "        return rangé[milieu]\n",
    "    else:\n",
    "        # effectif impair, la médiane est la moyenne des deux valeurs centrales\n",
    "        milieu = N // 2\n",
    "        return (rangé[milieu] + rangé[milieu + 1]) / 2"
   ]
  },
  {
   "cell_type": "markdown",
   "metadata": {},
   "source": [
    "---\n",
    "### Exercice - Statistiques IV"
   ]
  },
  {
   "cell_type": "markdown",
   "metadata": {},
   "source": [
    "Reprendre et améliorer la fonction précédente afin qu'elle renvoie trois nombres: $\\text{Q}_1, \\text{Me}$ et $\\text{Q}_3$, c'est-à-dire le premier quartile, la médiane, et le troisième quartile."
   ]
  },
  {
   "cell_type": "code",
   "execution_count": 8,
   "metadata": {},
   "outputs": [],
   "source": [
    "def quartiles(t):\n",
    "    \"\"\"Calcule et renvoie (dans cet ordre) le premier quartile, la médiane et\n",
    "    le troisième quartile de la série de nombres passés en paramètres\"\"\"\n",
    "    \n",
    "    rangé = copie_triée(t)\n",
    "    N = len(t)\n",
    "    \n",
    "    Q1 = rangé[N // 4]\n",
    "    \n",
    "    if N % 2 == 1: \n",
    "        # effectif impair, la médiane est la valeur du milieu\n",
    "        milieu = (N // 2) + 1\n",
    "        Me = rangé[milieu]\n",
    "    else:\n",
    "        # effectif impair, la médiane est la moyenne des deux valeurs centrales\n",
    "        milieu = N // 2\n",
    "        Me =  (rangé[milieu] + rangé[milieu + 1]) / 2\n",
    "    \n",
    "    Q3 = rangé[3*(N // 4)]\n",
    "    \n",
    "    return Q1, Me, Q3 "
   ]
  },
  {
   "cell_type": "markdown",
   "metadata": {},
   "source": [
    "---\n",
    "### Exercice - Dictionnaire français"
   ]
  },
  {
   "cell_type": "markdown",
   "metadata": {},
   "source": [
    "La cellule suivante charge un fichier contenant une liste de mots de la langue française:"
   ]
  },
  {
   "cell_type": "code",
   "execution_count": 9,
   "metadata": {},
   "outputs": [],
   "source": [
    "with open(\"mots.txt\", \"r\") as fichier:\n",
    "    mots = []\n",
    "    for ligne in fichier:\n",
    "        mots.append(ligne.strip()) # La fonction strip retire les espaces autour de la ligne"
   ]
  },
  {
   "cell_type": "code",
   "execution_count": 10,
   "metadata": {},
   "outputs": [
    {
     "data": {
      "text/plain": [
       "175693"
      ]
     },
     "execution_count": 10,
     "metadata": {},
     "output_type": "execute_result"
    }
   ],
   "source": [
    "len(mots)"
   ]
  },
  {
   "cell_type": "markdown",
   "metadata": {},
   "source": [
    "Apparemment ce fichier contient de nombreux mots: en effet, toutes les conjugaisons possibles des verbes sont incluses, ce qui augmente énormément la taille du fichier."
   ]
  },
  {
   "cell_type": "markdown",
   "metadata": {},
   "source": [
    "#### Question 1 - Longueurs minimales et maximales\n",
    "\n",
    "Écrire une fonction ```minmax(t)``` prenant en entrée un tableau de mots, et renvoyant en sortie la longueur minimale ainsi que la longueur maximale de chaînes dans le tableau."
   ]
  },
  {
   "cell_type": "code",
   "execution_count": 11,
   "metadata": {},
   "outputs": [],
   "source": [
    "def minmax(liste_mots):\n",
    "    \"\"\"Calcule les longueurs minimales et maximales des mots présents dans la liste\n",
    "    passée en paramètres.\"\"\"\n",
    "    \n",
    "    mot = liste_mots[0]\n",
    "    mini = len(mot)\n",
    "    maxi = len(mot)\n",
    "    \n",
    "    for m in liste_mots:\n",
    "        if len(m) < mini:\n",
    "            mini = len(m)\n",
    "        if len(m) > maxi:\n",
    "            maxi = len(m)\n",
    "            \n",
    "    return mini, maxi"
   ]
  },
  {
   "cell_type": "markdown",
   "metadata": {},
   "source": [
    "Pensez à tester sur la longue liste de mots chargée précédemment !"
   ]
  },
  {
   "cell_type": "code",
   "execution_count": 12,
   "metadata": {},
   "outputs": [
    {
     "data": {
      "text/plain": [
       "(2, 25)"
      ]
     },
     "execution_count": 12,
     "metadata": {},
     "output_type": "execute_result"
    }
   ],
   "source": [
    "minmax(mots)"
   ]
  },
  {
   "cell_type": "markdown",
   "metadata": {},
   "source": [
    "#### Question 2 - Regroupements par tailles de mots"
   ]
  },
  {
   "cell_type": "markdown",
   "metadata": {},
   "source": [
    "Écrire une fonction ```regroupe_tailles(t)``` prenant en entrée un tableau de mots, et renvoyant en sortie un dictionnaire associant à un nombre entier la liste des mots de la longueur correspondante. Par exemple, on associera à 6 la liste de tous les mots de 6 caractères. "
   ]
  },
  {
   "cell_type": "code",
   "execution_count": 13,
   "metadata": {},
   "outputs": [],
   "source": [
    "def regroupe_tailles(liste_mots):\n",
    "    \"\"\"Prend en paramètre une liste de mots, et renvoie un dictionnaire assoçiant \n",
    "    à un nombre entier la liste des mots de la longueur correspondante. Seuls les mots\n",
    "    effectivements présents dans la liste sont associés à des longueurs.\n",
    "    \"\"\"\n",
    "    \n",
    "    dico = {}\n",
    "    for mot in liste_mots:\n",
    "        longueur = len(mot)\n",
    "        if longueur in dico:\n",
    "            dico[longueur].append(mot)\n",
    "        else:\n",
    "            dico[longueur] = [mot]\n",
    "            \n",
    "    return dico"
   ]
  },
  {
   "cell_type": "markdown",
   "metadata": {},
   "source": [
    "Pensez à tester sur la liste de mots:"
   ]
  },
  {
   "cell_type": "code",
   "execution_count": 14,
   "metadata": {},
   "outputs": [],
   "source": [
    "dico = regroupe_tailles(mots)"
   ]
  },
  {
   "cell_type": "code",
   "execution_count": 15,
   "metadata": {},
   "outputs": [
    {
     "data": {
      "text/plain": [
       "[(2, 84),\n",
       " (3, 335),\n",
       " (4, 1330),\n",
       " (5, 3942),\n",
       " (6, 8985),\n",
       " (7, 15575),\n",
       " (8, 22562),\n",
       " (9, 26833),\n",
       " (10, 27464),\n",
       " (11, 24051),\n",
       " (12, 18462),\n",
       " (13, 12125),\n",
       " (14, 7105),\n",
       " (15, 3727),\n",
       " (16, 1765),\n",
       " (17, 792),\n",
       " (18, 336),\n",
       " (19, 137),\n",
       " (20, 55),\n",
       " (21, 19),\n",
       " (22, 6),\n",
       " (23, 2)]"
      ]
     },
     "execution_count": 15,
     "metadata": {},
     "output_type": "execute_result"
    }
   ],
   "source": [
    "# On affiche le nombre de mots pour chaque longueur\n",
    "a, b = minmax(mots)\n",
    "[(i, len(dico[i])) for i in range(a, b) if i in dico]"
   ]
  },
  {
   "cell_type": "markdown",
   "metadata": {},
   "source": [
    "#### Question 3 - Anagrammes"
   ]
  },
  {
   "cell_type": "markdown",
   "metadata": {},
   "source": [
    "Écrire une fonction ```anagrammes(m1, m2)``` renvoyant ```True``` si les deux mots ```m1``` et ```m2``` sont des anagrammes l'un de l'autre, ```False``` sinon."
   ]
  },
  {
   "cell_type": "code",
   "execution_count": 16,
   "metadata": {},
   "outputs": [],
   "source": [
    "def anagramme(m1, m2):\n",
    "    \"\"\"Teste si m1 et m2 sont des anagrammes l'un de l'autre\"\"\"\n",
    "    \n",
    "    # Deux mots sont des anagrammes s'ils contiennent les mêmes lettres, mais\n",
    "    # pas forcément dans le même ordre. \n",
    "    \n",
    "    # Une astuce consiste à comparer les mots triés:\n",
    "    \n",
    "    if len(m1) != len(m2):\n",
    "        return False\n",
    "    else:\n",
    "        mt1 = copie_triée(m1)\n",
    "        mt2 = copie_triée(m2)\n",
    "        if mt1 == mt2:\n",
    "            return True\n",
    "        else:\n",
    "            return False"
   ]
  },
  {
   "cell_type": "code",
   "execution_count": 17,
   "metadata": {},
   "outputs": [
    {
     "data": {
      "text/plain": [
       "True"
      ]
     },
     "execution_count": 17,
     "metadata": {},
     "output_type": "execute_result"
    }
   ],
   "source": [
    "anagramme(\"parisien\", \"aspirine\")"
   ]
  },
  {
   "cell_type": "code",
   "execution_count": 18,
   "metadata": {},
   "outputs": [
    {
     "data": {
      "text/plain": [
       "False"
      ]
     },
     "execution_count": 18,
     "metadata": {},
     "output_type": "execute_result"
    }
   ],
   "source": [
    "anagramme(\"parisien\", \"aspirant\")"
   ]
  },
  {
   "cell_type": "markdown",
   "metadata": {},
   "source": [
    "#### Question 4 - Une recherche par anagrames"
   ]
  },
  {
   "cell_type": "markdown",
   "metadata": {},
   "source": [
    "Écrire une fonction ```recherche(lettres, liste_mots)``` prenant en paramètre une liste de lettres (par exemple les lettres que l'on doit placer au Scrabble) et recherchant tous les mots de la liste de mots passée en paramètres qui sont des anagrammes de ces lettres."
   ]
  },
  {
   "cell_type": "code",
   "execution_count": 19,
   "metadata": {},
   "outputs": [],
   "source": [
    "def recherche(lettres, liste_mots):\n",
    "    \"\"\"Recherche tous les mots de la liste fournie qui sont des anagrammes du mot\n",
    "    donné par le paramètre lettres\"\"\"\n",
    "    \n",
    "    anagrammes = []\n",
    "    \n",
    "    longueur = len(lettres)\n",
    "    for m in liste_mots:\n",
    "        if len(m) == longueur and anagramme(lettres, m):\n",
    "            anagrammes.append(m)\n",
    "            \n",
    "    return anagrammes          "
   ]
  },
  {
   "cell_type": "code",
   "execution_count": 20,
   "metadata": {},
   "outputs": [
    {
     "data": {
      "text/plain": [
       "['frais', 'frisa']"
      ]
     },
     "execution_count": 20,
     "metadata": {},
     "output_type": "execute_result"
    }
   ],
   "source": [
    "recherche(\"frais\", mots)"
   ]
  },
  {
   "cell_type": "markdown",
   "metadata": {},
   "source": [
    "#### Question 5 - Une recherche plus souple"
   ]
  },
  {
   "cell_type": "markdown",
   "metadata": {},
   "source": [
    "Reprendre la fonction précédente et l'améliorer de la façon suivante: on rajoute un paramètre optionnel ```dépassement``` indiquant le nombre de lettre supplémentaires que l'on autorise dans le mot trouvé. Ces lettres supplémentaires peuvent être absolument quelconques."
   ]
  },
  {
   "cell_type": "code",
   "execution_count": 21,
   "metadata": {},
   "outputs": [],
   "source": [
    "def distance_mots(m1, m2):\n",
    "    \"\"\"Calcule une distance entre 2 mots, de la manière suivante: toute différence\n",
    "    d'une lettre (sans tenir compte de l'ordre) augmente la distance de 1.\"\"\"\n",
    "    \n",
    "    # On calcule des dictionnaires des occurences des lettres pour les deux mots\n",
    "    # On initialise une entrée pour chaque lettre de l'alphabet, avec un effectif nul.\n",
    "    \n",
    "    d1 = {}\n",
    "    d2 = {}\n",
    "    \n",
    "    for lettre in \"abcdefghijklmnopqrstuvwxyz\":\n",
    "        d1[lettre] = 0\n",
    "        d2[lettre] = 0\n",
    "        \n",
    "    for lettre in m1:\n",
    "        # Inutile de tester la présence de lettre dans d1, elle y est forcément à cause\n",
    "        # de l'initialisation précédente.\n",
    "        d1[lettre] = d1[lettre] + 1\n",
    "        \n",
    "    for lettre in m2:\n",
    "        d2[lettre] = d2[lettre] + 1\n",
    "        \n",
    "    # À présent, on parcourt toutes les lettres de l'alphabet et on compte les différences\n",
    "    # entre les deux mots, que l'on accumule pour calculer la distance demandée:\n",
    "    distance = 0\n",
    "    for lettre in \"abcdefghijklmnopqrstuvwxyz\":\n",
    "        distance = distance + abs(d1[lettre] - d2[lettre])\n",
    "        \n",
    "    return distance"
   ]
  },
  {
   "cell_type": "code",
   "execution_count": 22,
   "metadata": {},
   "outputs": [],
   "source": [
    "def recherche_améliorée(lettres, liste_mots, dépassement=0):\n",
    "    \"\"\"Écrire la documentation de la fonction ici\"\"\"\n",
    "    \n",
    "    résultat = []\n",
    "    for m in liste_mots:\n",
    "        if distance_mots(lettres, m) <= dépassement:\n",
    "            résultat.append(m)\n",
    "            \n",
    "    return résultat"
   ]
  },
  {
   "cell_type": "code",
   "execution_count": 23,
   "metadata": {},
   "outputs": [
    {
     "data": {
      "text/plain": [
       "['aspirine', 'parisien']"
      ]
     },
     "execution_count": 23,
     "metadata": {},
     "output_type": "execute_result"
    }
   ],
   "source": [
    "recherche_améliorée(\"parisien\", mots)"
   ]
  },
  {
   "cell_type": "code",
   "execution_count": 24,
   "metadata": {},
   "outputs": [
    {
     "data": {
      "text/plain": [
       "['aspirine',\n",
       " 'aspirines',\n",
       " 'epinais',\n",
       " 'epinerais',\n",
       " 'inserai',\n",
       " 'inspira',\n",
       " 'inspire',\n",
       " 'inspirera',\n",
       " 'nierais',\n",
       " 'opinerais',\n",
       " 'paierions',\n",
       " 'pairies',\n",
       " 'paniers',\n",
       " 'parisien',\n",
       " 'parisiens',\n",
       " 'peinais',\n",
       " 'peindrais',\n",
       " 'peinerais',\n",
       " 'pharisien',\n",
       " 'pincerais',\n",
       " 'prenais',\n",
       " 'prisaient',\n",
       " 'rapines',\n",
       " 'reniais',\n",
       " 'repincais',\n",
       " 'sapiniere']"
      ]
     },
     "execution_count": 24,
     "metadata": {},
     "output_type": "execute_result"
    }
   ],
   "source": [
    "recherche_améliorée(\"parisien\", mots, dépassement=1)"
   ]
  },
  {
   "cell_type": "code",
   "execution_count": 25,
   "metadata": {},
   "outputs": [
    {
     "data": {
      "text/plain": [
       "['chahut', 'chalut', 'chut', 'luth']"
      ]
     },
     "execution_count": 25,
     "metadata": {},
     "output_type": "execute_result"
    }
   ],
   "source": [
    "recherche_améliorée(\"cthulhu\", mots, dépassement=3)"
   ]
  },
  {
   "cell_type": "markdown",
   "metadata": {},
   "source": [
    "Remarquons que cela ne répond pas exactement au cahier des charges: on autorise en effet des mots plus courts (mais pas trop), alors que l'énoncé ne demandait que des mots potentiellement plus long. Il faudrait pour cela corriger la fonction de distance afin qu'un mot plus courts soit automatiquement refusé."
   ]
  },
  {
   "cell_type": "code",
   "execution_count": 26,
   "metadata": {},
   "outputs": [],
   "source": [
    "def distance_mots(m1, m2):\n",
    "    \"\"\"Calcule une distance entre 2 mots, de la manière suivante: toute différence\n",
    "    d'une lettre (sans tenir compte de l'ordre) augmente la distance de 1.\n",
    "    \n",
    "    Si une lettre de m1 n'est pas dans m2 (ou avec un effectif moindre), alors\n",
    "    on renvoie une distance négative égale à -1.\"\"\"\n",
    "    \n",
    "    # On calcule des dictionnaires des occurences des lettres pour les deux mots\n",
    "    # On initialise une entrée pour chaque lettre de l'alphabet, avec un effectif nul.\n",
    "    \n",
    "    d1 = {}\n",
    "    d2 = {}\n",
    "    \n",
    "    for lettre in \"abcdefghijklmnopqrstuvwxyz\":\n",
    "        d1[lettre] = 0\n",
    "        d2[lettre] = 0\n",
    "        \n",
    "    for lettre in m1:\n",
    "        # Inutile de tester la présence de lettre dans d1, elle y est forcément à cause\n",
    "        # de l'initialisation précédente.\n",
    "        d1[lettre] = d1[lettre] + 1\n",
    "        \n",
    "    for lettre in m2:\n",
    "        d2[lettre] = d2[lettre] + 1\n",
    "        \n",
    "    # À présent, on parcourt toutes les lettres de l'alphabet et on compte les différences\n",
    "    # entre les deux mots, que l'on accumule pour calculer la distance demandée:\n",
    "    distance = 0\n",
    "    for lettre in \"abcdefghijklmnopqrstuvwxyz\":\n",
    "        if d2[lettre] > d1[lettre]:\n",
    "            distance = distance + d2[lettre] - d1[lettre]\n",
    "        elif d2[lettre] < d1[lettre]:\n",
    "            return -1\n",
    "        \n",
    "    return distance"
   ]
  },
  {
   "cell_type": "code",
   "execution_count": 27,
   "metadata": {},
   "outputs": [],
   "source": [
    "def recherche_améliorée(lettres, liste_mots, dépassement=0):\n",
    "    \"\"\"Écrire la documentation de la fonction ici\"\"\"\n",
    "    \n",
    "    résultat = []\n",
    "    for m in liste_mots:\n",
    "        distance = distance_mots(lettres, m)\n",
    "        if 0 <= distance <= dépassement:\n",
    "            résultat.append(m)\n",
    "            \n",
    "    return résultat"
   ]
  },
  {
   "cell_type": "code",
   "execution_count": 28,
   "metadata": {},
   "outputs": [
    {
     "data": {
      "text/plain": [
       "['aspirine', 'parisien']"
      ]
     },
     "execution_count": 28,
     "metadata": {},
     "output_type": "execute_result"
    }
   ],
   "source": [
    "recherche_améliorée(\"parisien\", mots)"
   ]
  },
  {
   "cell_type": "code",
   "execution_count": 29,
   "metadata": {},
   "outputs": [
    {
     "data": {
      "text/plain": [
       "['aspirine',\n",
       " 'aspirines',\n",
       " 'epinerais',\n",
       " 'inspirera',\n",
       " 'opinerais',\n",
       " 'paierions',\n",
       " 'parisien',\n",
       " 'parisiens',\n",
       " 'peindrais',\n",
       " 'peinerais',\n",
       " 'pharisien',\n",
       " 'pincerais',\n",
       " 'prisaient',\n",
       " 'repincais',\n",
       " 'sapiniere']"
      ]
     },
     "execution_count": 29,
     "metadata": {},
     "output_type": "execute_result"
    }
   ],
   "source": [
    "recherche_améliorée(\"parisien\", mots, dépassement=1)"
   ]
  },
  {
   "cell_type": "code",
   "execution_count": 30,
   "metadata": {},
   "outputs": [
    {
     "data": {
      "text/plain": [
       "[]"
      ]
     },
     "execution_count": 30,
     "metadata": {},
     "output_type": "execute_result"
    }
   ],
   "source": [
    "recherche_améliorée(\"cthulhu\", mots, dépassement=3)"
   ]
  },
  {
   "cell_type": "code",
   "execution_count": 31,
   "metadata": {},
   "outputs": [
    {
     "data": {
      "text/plain": [
       "['folksong',\n",
       " 'folksongs',\n",
       " 'kangourou',\n",
       " 'kangourous',\n",
       " 'kilogramme',\n",
       " 'kilogrammes',\n",
       " 'kilometrage',\n",
       " 'kilometrages',\n",
       " 'smoking',\n",
       " 'smokings',\n",
       " 'stockage']"
      ]
     },
     "execution_count": 31,
     "metadata": {},
     "output_type": "execute_result"
    }
   ],
   "source": [
    "recherche_améliorée(\"kog\", mots, dépassement=10)"
   ]
  }
 ],
 "metadata": {
  "kernelspec": {
   "display_name": "Python 3",
   "language": "python",
   "name": "python3"
  },
  "language_info": {
   "codemirror_mode": {
    "name": "ipython",
    "version": 3
   },
   "file_extension": ".py",
   "mimetype": "text/x-python",
   "name": "python",
   "nbconvert_exporter": "python",
   "pygments_lexer": "ipython3",
   "version": "3.7.4"
  }
 },
 "nbformat": 4,
 "nbformat_minor": 4
}

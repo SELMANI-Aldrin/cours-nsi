{
 "cells": [
  {
   "cell_type": "markdown",
   "metadata": {},
   "source": [
    "# TP n° 9\n",
    "\n",
    "## Retour aux bases"
   ]
  },
  {
   "cell_type": "markdown",
   "metadata": {},
   "source": [
    "On redonne les fonctions de tris (étudiées précédemment) qui pourront servir en cas de besoin:"
   ]
  },
  {
   "cell_type": "code",
   "execution_count": null,
   "metadata": {},
   "outputs": [],
   "source": [
    "def tri_sélection(t, croissant=True, clé_de_tri=None):\n",
    "    \"\"\"Trie le tableau t.\n",
    "    \n",
    "    Le paramètre optionnel croissant est un booléen indiquant s'il faut trier dans l'ordre\n",
    "    croissant ou non. Par défaut (si le paramètre n'est pas inclus), le tri se fera dans\n",
    "    l'ordre croissant.\n",
    "    \n",
    "    Le paramètre optionnel clé_de_tri doit être None (s'il n'y en a pas) ou bien une fonction\n",
    "    renvoyant une valeur qui servira à la comparaison des données. En cas d'absence \n",
    "    (c'est-à-dire si clé_de_tri == None), l'ordre lexicographique standard sera utilisé\n",
    "    \"\"\"\n",
    "    \n",
    "    for i in range(len(t)):\n",
    "        if clé_de_tri is None:\n",
    "            m = t[i]\n",
    "        else:\n",
    "            m = clé_de_tri(t[i])\n",
    "        indice_m = i\n",
    "        for j in range(i + 1, len(t)):\n",
    "            # Selon la valeur de croissant, il faut tester une inégalité ou l'autre: selon le cas,\n",
    "            # on recherchera donc le minimum (si croissant est True) ou le maximum sur\n",
    "            # la partie non triée\n",
    "            if clé_de_tri is None:\n",
    "                valeur = t[j]\n",
    "            else:\n",
    "                valeur = clé_de_tri(t[j])\n",
    "            if (croissant is True and valeur < m) or (croissant is False and valeur > m):\n",
    "                m = valeur\n",
    "                indice_m = j\n",
    "        t[i], t[indice_m] = t[indice_m], t[i]"
   ]
  },
  {
   "cell_type": "code",
   "execution_count": null,
   "metadata": {},
   "outputs": [],
   "source": [
    "def copie_triée(t, croissant=True, clé_de_tri=None):\n",
    "    \"\"\"Copie le tableau t, puis le trie par ordre croissant ou décroissant, selon\n",
    "    la valeur du booléen 'croissant' passé en paramètre. Une fonction clé_de_tri \n",
    "    optionnelle permettant de calculer les valeurs à comparer peut être incluse.\n",
    "    \"\"\"\n",
    "    \n",
    "    # On commence par créer une copie du tableau:\n",
    "    n = len(t)\n",
    "    copie = [0] * n\n",
    "    \n",
    "    for i in range(n):\n",
    "        copie[i] = t[i]\n",
    "        \n",
    "    # puis on la trie (le tableau 'copie' sera modifié en place)\n",
    "    tri_sélection(copie, croissant, clé_de_tri)\n",
    "    \n",
    "    # Enfin, on renvoie la copie\n",
    "    return copie"
   ]
  },
  {
   "cell_type": "markdown",
   "metadata": {},
   "source": [
    "---\n",
    "### Exercice  - Statistiques I"
   ]
  },
  {
   "cell_type": "markdown",
   "metadata": {},
   "source": [
    "Écrire une fonction ```regroupe_valeurs(t)``` prenant en entrée un tableau ```t``` de nombres (avec potentiellement des répétitions), et renvoyant en sortie deux tableaux:\n",
    "* un tableau contenant exactement un seul exemplaire de chaque valeur présente dans le tableau ```t```, dans un ordre quelconque.\n",
    "* un tableau des effectifs (c'est-à-dire du nombre d'occurences) de ces valeurs dans le tableau ```t```. Il va sans dire que l'effectif pour un indice donné doit correspondre à la valeur du premier tableau au même indice."
   ]
  },
  {
   "cell_type": "code",
   "execution_count": null,
   "metadata": {},
   "outputs": [],
   "source": [
    "def regroupe_valeurs(t):\n",
    "    \"\"\"Écrire la documentation de la fonction ici\"\"\"\n",
    "    \n",
    "    pass"
   ]
  },
  {
   "cell_type": "markdown",
   "metadata": {},
   "source": [
    "Testez votre fonction:"
   ]
  },
  {
   "cell_type": "code",
   "execution_count": null,
   "metadata": {},
   "outputs": [],
   "source": [
    "from random import randint\n",
    "\n",
    "try:\n",
    "    for N in range(20):\n",
    "        longueur = randint(0, 100)\n",
    "        t = [randint(-longueur // 10, longueur // 10) for _ in range(longueur)]\n",
    "        valeurs, effectifs = regroupe_valeurs(t)\n",
    "        assert len(valeurs) == len(effectifs)\n",
    "        for i in range(len(valeurs)):\n",
    "            assert effectifs[i] == t.count(valeurs[i])\n",
    "        print(\"Test\", N+1, \"passé avec succès sur un tableau de longueur\", longueur)\n",
    "except AssertionError as e:\n",
    "    raise e\n",
    "else:\n",
    "    print(\"Tous les tests ont été passés avec succès\")"
   ]
  },
  {
   "cell_type": "markdown",
   "metadata": {},
   "source": [
    "---\n",
    "### Exercice - Statistiques II"
   ]
  },
  {
   "cell_type": "markdown",
   "metadata": {},
   "source": [
    "Reprendre l'exercice précédent, mais trier les valeurs à la sortie de la fonction par ordre croissant.\n",
    "\n",
    "**Attention:** les effectifs devront impérativement être triés dans le même ordre puisqu'ils doivent toujours correspondre aux mêmes indices."
   ]
  },
  {
   "cell_type": "code",
   "execution_count": null,
   "metadata": {},
   "outputs": [],
   "source": [
    "def regroupe_valeurs_triées(t):\n",
    "    \"\"\"Écrire la documentation de la fonction ici\"\"\"\n",
    "    \n",
    "    pass"
   ]
  },
  {
   "cell_type": "markdown",
   "metadata": {},
   "source": [
    "La procédure de test est quasiment identique à la précédente:"
   ]
  },
  {
   "cell_type": "code",
   "execution_count": null,
   "metadata": {},
   "outputs": [],
   "source": [
    "from random import randint\n",
    "\n",
    "try:\n",
    "    for N in range(20):\n",
    "        longueur = randint(0, 100)\n",
    "        t = [randint(-longueur // 10, longueur // 10) for _ in range(longueur)]\n",
    "        valeurs, effectifs = regroupe_valeurs_triées(t)\n",
    "        assert len(valeurs) == len(effectifs)\n",
    "        if len(valeurs) > 0:\n",
    "            v = valeurs[0]\n",
    "            for i in range(1, len(valeurs)):\n",
    "                assert valeurs[i] > v\n",
    "        for i in range(len(valeurs)):\n",
    "            assert effectifs[i] == t.count(valeurs[i])\n",
    "        print(\"Test\", N+1, \"passé avec succès sur un tableau de longueur\", longueur)\n",
    "except AssertionError as e:\n",
    "    raise e\n",
    "else:\n",
    "    print(\"Tous les tests ont été passés avec succès\")"
   ]
  },
  {
   "cell_type": "markdown",
   "metadata": {},
   "source": [
    "---\n",
    "### Exercice - Statistiques III"
   ]
  },
  {
   "cell_type": "markdown",
   "metadata": {},
   "source": [
    "Écrire une fonction ```médiane(t)``` prenant en entrée un tableau de nombres, et renvoyant en sortie la médiane de cette série de nombres."
   ]
  },
  {
   "cell_type": "code",
   "execution_count": null,
   "metadata": {},
   "outputs": [],
   "source": [
    "def médiane(t):\n",
    "    \"\"\"Écrire la documentation de la fonction ici\"\"\"\n",
    "    \n",
    "    pass"
   ]
  },
  {
   "cell_type": "markdown",
   "metadata": {},
   "source": [
    "---\n",
    "### Exercice - Statistiques IV"
   ]
  },
  {
   "cell_type": "markdown",
   "metadata": {},
   "source": [
    "Reprendre et améliorer la fonction précédente afin qu'elle renvoie trois nombres: $\\text{Q}_1, \\text{Me}$ et $\\text{Q}_3$, c'est-à-dire le premier quartile, la médiane, et le troisième quartile."
   ]
  },
  {
   "cell_type": "code",
   "execution_count": null,
   "metadata": {},
   "outputs": [],
   "source": [
    "def quartiles(t):\n",
    "    \"\"\"Écrire la documentation de la fonction ici\"\"\"\n",
    "    \n",
    "    pass"
   ]
  },
  {
   "cell_type": "markdown",
   "metadata": {},
   "source": [
    "---\n",
    "### Exercice - Dictionnaire français"
   ]
  },
  {
   "cell_type": "markdown",
   "metadata": {},
   "source": [
    "La cellule suivante charge un fichier contenant une liste de mots de la langue française:"
   ]
  },
  {
   "cell_type": "code",
   "execution_count": null,
   "metadata": {},
   "outputs": [],
   "source": [
    "with open(\"mots.txt\", \"r\") as fichier:\n",
    "    mots = []\n",
    "    for ligne in fichier:\n",
    "        mots.append(ligne.strip()) # La fonction strip retire les espaces autour de la ligne"
   ]
  },
  {
   "cell_type": "code",
   "execution_count": null,
   "metadata": {},
   "outputs": [],
   "source": [
    "len(mots)"
   ]
  },
  {
   "cell_type": "markdown",
   "metadata": {},
   "source": [
    "Apparemment ce fichier contient de nombreux mots: en effet, toutes les conjugaisons possibles des verbes sont incluses, ce qui augmente énormément la taille du fichier."
   ]
  },
  {
   "cell_type": "markdown",
   "metadata": {},
   "source": [
    "#### Question 1 - Longueurs minimales et maximales\n",
    "\n",
    "Écrire une fonction ```minmax(t)``` prenant en entrée un tableau de mots, et renvoyant en sortie la longueur minimale ainsi que la longueur maximale de chaînes dans le tableau."
   ]
  },
  {
   "cell_type": "code",
   "execution_count": null,
   "metadata": {},
   "outputs": [],
   "source": [
    "def minmax(liste_mots):\n",
    "    \"\"\"Écrire la documentation de la fonction ici\"\"\"\n",
    "    \n",
    "    pass"
   ]
  },
  {
   "cell_type": "markdown",
   "metadata": {},
   "source": [
    "Pensez à tester sur la longue liste de mots chargée précédemment !"
   ]
  },
  {
   "cell_type": "code",
   "execution_count": null,
   "metadata": {},
   "outputs": [],
   "source": [
    "minmax(mots)"
   ]
  },
  {
   "cell_type": "markdown",
   "metadata": {},
   "source": [
    "#### Question 2 - Regroupements par tailles de mots"
   ]
  },
  {
   "cell_type": "markdown",
   "metadata": {},
   "source": [
    "Écrire une fonction ```regroupe_tailles(t)``` prenant en entrée un tableau de mots, et renvoyant en sortie un dictionnaire associant à un nombre entier la liste des mots de la longueur correspondante. Par exemple, on associera à 6 la liste de tous les mots de 6 caractères. "
   ]
  },
  {
   "cell_type": "code",
   "execution_count": null,
   "metadata": {},
   "outputs": [],
   "source": [
    "def regroupe_tailles(liste_mots):\n",
    "    \"\"\"Écrire la documentation de la fonction ici\"\"\"\n",
    "    \n",
    "    pass"
   ]
  },
  {
   "cell_type": "markdown",
   "metadata": {},
   "source": [
    "Pensez à tester sur la liste de mots:"
   ]
  },
  {
   "cell_type": "code",
   "execution_count": null,
   "metadata": {},
   "outputs": [],
   "source": [
    "dico = regroupe_tailles(mots)"
   ]
  },
  {
   "cell_type": "markdown",
   "metadata": {},
   "source": [
    "#### Question 3 - Anagrammes"
   ]
  },
  {
   "cell_type": "markdown",
   "metadata": {},
   "source": [
    "Écrire une fonction ```anagrammes(m1, m2)``` renvoyant ```True``` si les deux mots ```m1``` et ```m2``` sont des anagrammes l'un de l'autre, ```False``` sinon."
   ]
  },
  {
   "cell_type": "code",
   "execution_count": null,
   "metadata": {},
   "outputs": [],
   "source": [
    "def anagramme(m1, m2):\n",
    "    \"\"\"Écrire la documentation de la fonction ici\"\"\"\n",
    "    \n",
    "    pass"
   ]
  },
  {
   "cell_type": "markdown",
   "metadata": {},
   "source": [
    "#### Question 4 - Une recherche par anagrames"
   ]
  },
  {
   "cell_type": "markdown",
   "metadata": {},
   "source": [
    "Écrire une fonction ```recherche(lettres, liste_mots)``` prenant en paramètre une liste de lettres (par exemple les lettres que l'on doit placer au Scrabble) et recherchant tous les mots de la liste de mots passée en paramètres qui sont des anagrammes de ces lettres."
   ]
  },
  {
   "cell_type": "code",
   "execution_count": null,
   "metadata": {},
   "outputs": [],
   "source": [
    "def recherche(lettres, liste_mots):\n",
    "    \"\"\"Écrire la documentation de la fonction ici\"\"\"\n",
    "    \n",
    "    pass"
   ]
  },
  {
   "cell_type": "markdown",
   "metadata": {},
   "source": [
    "#### Question 5 (beaucoup plus difficile) - Une recherche plus souple"
   ]
  },
  {
   "cell_type": "markdown",
   "metadata": {},
   "source": [
    "Reprendre la fonction précédente et l'améliorer de la façon suivante: on rajoute un paramètre optionnel ```dépassement``` indiquant le nombre de lettre supplémentaires que l'on autorise dans le mot trouvé. Ces lettres supplémentaires peuvent être absolument quelconques."
   ]
  },
  {
   "cell_type": "code",
   "execution_count": null,
   "metadata": {},
   "outputs": [],
   "source": [
    "def recherche_améliorée(lettres, liste_mots, dépassement=0):\n",
    "    \"\"\"Écrire la documentation de la fonction ici\"\"\"\n",
    "    \n",
    "    pass"
   ]
  }
 ],
 "metadata": {
  "kernelspec": {
   "display_name": "Python 3",
   "language": "python",
   "name": "python3"
  },
  "language_info": {
   "codemirror_mode": {
    "name": "ipython",
    "version": 3
   },
   "file_extension": ".py",
   "mimetype": "text/x-python",
   "name": "python",
   "nbconvert_exporter": "python",
   "pygments_lexer": "ipython3",
   "version": "3.7.4"
  }
 },
 "nbformat": 4,
 "nbformat_minor": 4
}

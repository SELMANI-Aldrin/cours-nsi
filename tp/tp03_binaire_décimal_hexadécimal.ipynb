{
 "cells": [
  {
   "cell_type": "markdown",
   "metadata": {
    "deletable": false,
    "editable": false
   },
   "source": [
    "# Représentations binaires, décimales et hexadécimales"
   ]
  },
  {
   "cell_type": "code",
   "execution_count": null,
   "metadata": {
    "deletable": false,
    "editable": false
   },
   "outputs": [],
   "source": [
    "%load_ext autoreload\n",
    "%autoreload 2\n",
    "from tp03_tests import *"
   ]
  },
  {
   "cell_type": "markdown",
   "metadata": {
    "deletable": false,
    "editable": false
   },
   "source": [
    "## Représentations binaires"
   ]
  },
  {
   "cell_type": "markdown",
   "metadata": {
    "deletable": false,
    "editable": false
   },
   "source": [
    "Nous avons vu en cours deux algorithmes permettant de "
   ]
  },
  {
   "cell_type": "markdown",
   "metadata": {
    "deletable": false,
    "editable": false
   },
   "source": [
    "### Algorithme 1: Détermination d'une puissance de deux\n",
    "\n",
    "On commence par un premier algorithme dont l'objet est de déterminer la plus grande puissance de 2 inférieure ou égale à $n$:"
   ]
  },
  {
   "cell_type": "code",
   "execution_count": null,
   "metadata": {
    "deletable": false,
    "editable": false
   },
   "outputs": [],
   "source": [
    "def puissance_de_deux_inférieure_ou_égale(n):\n",
    "    p = 1\n",
    "    while p < n:\n",
    "        p = 2*p\n",
    "    return p"
   ]
  },
  {
   "cell_type": "markdown",
   "metadata": {
    "deletable": false,
    "editable": false
   },
   "source": [
    "Testons rapidement si cette fonction fonctionne:"
   ]
  },
  {
   "cell_type": "code",
   "execution_count": null,
   "metadata": {
    "deletable": false,
    "editable": false
   },
   "outputs": [],
   "source": [
    "puissance_de_deux_inférieure_ou_égale(94)"
   ]
  },
  {
   "cell_type": "markdown",
   "metadata": {
    "deletable": false,
    "editable": false
   },
   "source": [
    "Visiblement, le résultat n'est pas le bon."
   ]
  },
  {
   "cell_type": "markdown",
   "metadata": {
    "deletable": false,
    "editable": false
   },
   "source": [
    "---"
   ]
  },
  {
   "cell_type": "markdown",
   "metadata": {
    "deletable": false,
    "editable": false
   },
   "source": [
    "**Exercice 1:** Écrire une nouvelle version de cette fonction dans la cellule ci-dessous. Afin de vous aider à tester le bon fonctionnement de votre algorithme, on a ajouté un peu plus loin une fonction permettant d'effectuer toute une batterie de tests avec la fonction que *vous* aurez écrit. "
   ]
  },
  {
   "cell_type": "code",
   "execution_count": null,
   "metadata": {
    "deletable": false
   },
   "outputs": [],
   "source": [
    "def puissance_de_deux_inférieure_ou_égale(n):\n",
    "    \"\"\"Cette fonction calcule la plus grande puissance de 2 inférieure ou égale à n\n",
    "    Le paramètre n est un entier naturel non nul.\"\"\"\n",
    "\n",
    "    # On s'assure que la condition n > 0 est bien vérifiée:\n",
    "    assert(n > 0)\n",
    "    \n",
    "    # Corrigez le code ci-dessous jusqu'à ce que les tests fonctionnent\n",
    "    p = 1\n",
    "    while p < n:\n",
    "        p = 2*p\n",
    "            \n",
    "    return p"
   ]
  },
  {
   "cell_type": "markdown",
   "metadata": {
    "deletable": false,
    "editable": false
   },
   "source": [
    "Exécuter la cellule ci-dessous pour tester votre code:"
   ]
  },
  {
   "cell_type": "code",
   "execution_count": null,
   "metadata": {
    "deletable": false
   },
   "outputs": [],
   "source": [
    "test_puissance(puissance_de_deux_inférieure_ou_égale, début=1, fin=2**16, max_erreurs=10)"
   ]
  },
  {
   "cell_type": "markdown",
   "metadata": {
    "deletable": false,
    "editable": false
   },
   "source": [
    "### Algorithme 2: Conversion décimal → binaire\n",
    "\n",
    "**Exercice 2:** Une fois qu'elle sera fonctionnelle, utilisez la fonction précédente pour implémenter l'algorithme suivant (déjà étudié en classe):\n",
    "\n",
    "```\n",
    "n est un entier naturel\n",
    "\n",
    "p est la plus grande puissance de deux inférieure ou égale à n\n",
    "\n",
    "Tant que n > 0:\n",
    "    n ← n - p\n",
    "    Afficher \"1\"\n",
    "    p ← p // 2\n",
    "    Tant que p > n:\n",
    "        p ← p // 2\n",
    "        Afficher \"0\"\n",
    "```\n",
    "\n",
    "On préfèrerait avoir une fonction prenant en paramètre $n$ (attention, $n$ peut être égal à 0 !) et renvoyant une chaîne de caractères contenant la représentation binaire de $n$.\n",
    "\n",
    "Pour créer cette chaîne de bits, on va commencer par créer une chaîne contenant le bon préfixe:"
   ]
  },
  {
   "cell_type": "code",
   "execution_count": null,
   "metadata": {
    "deletable": false,
    "editable": false
   },
   "outputs": [],
   "source": [
    "binaire = \"0b\""
   ]
  },
  {
   "cell_type": "markdown",
   "metadata": {
    "deletable": false,
    "editable": false
   },
   "source": [
    "Puis on rajoute les bits au fur et à mesure de l'algorithme:"
   ]
  },
  {
   "cell_type": "code",
   "execution_count": null,
   "metadata": {
    "deletable": false,
    "editable": false
   },
   "outputs": [],
   "source": [
    "binaire = binaire + \"1\"\n",
    "binaire"
   ]
  },
  {
   "cell_type": "code",
   "execution_count": null,
   "metadata": {
    "deletable": false,
    "editable": false
   },
   "outputs": [],
   "source": [
    "binaire = binaire + \"0\"\n",
    "binaire"
   ]
  },
  {
   "cell_type": "markdown",
   "metadata": {
    "deletable": false,
    "editable": false
   },
   "source": [
    "... et ainsi de suite.\n",
    "\n",
    "Voici la structure de la fonction à écrire:"
   ]
  },
  {
   "cell_type": "code",
   "execution_count": null,
   "metadata": {
    "deletable": false
   },
   "outputs": [],
   "source": [
    "def représentation_binaire_1(n):\n",
    "    \"\"\"Retourne la représentation binaire de n sous la forme d'une chaîne\n",
    "    de caractères contenant des zéro ou des 1. \n",
    "    \n",
    "    Le résultat doit être préfixé de '0b'.\n",
    "    \n",
    "    Attention, le cas n == 0 doit être traité à part\"\"\"\n",
    "    \n",
    "    chaîne = \"0b\"\n",
    "    if n == 0:\n",
    "        pass # Placer votre code ici\n",
    "    else:\n",
    "        pass # Placer votre code ici\n",
    "        \n",
    "    return chaîne"
   ]
  },
  {
   "cell_type": "markdown",
   "metadata": {
    "deletable": false,
    "editable": false
   },
   "source": [
    "Et voici le script de test. On compare simplement le résultat de *votre* fonction avec le résutlat de la fonction `bin` de python."
   ]
  },
  {
   "cell_type": "code",
   "execution_count": null,
   "metadata": {
    "deletable": false
   },
   "outputs": [],
   "source": [
    "test_dec_vers_bin(représentation_binaire_1, début=0, fin=65536, max_erreurs=10)"
   ]
  },
  {
   "cell_type": "markdown",
   "metadata": {
    "deletable": false,
    "editable": false
   },
   "source": [
    "### Algorithme 3: Conversion en partant du bit de poids faible"
   ]
  },
  {
   "cell_type": "markdown",
   "metadata": {
    "deletable": false,
    "editable": false
   },
   "source": [
    "Procéder de la même façon qu'à la question précédente, mais cette fois en utilisant l'algorithme étudié en classe donnant les bits en partant du bit de poids faible.\n",
    "\n",
    "```\n",
    "n est un entier naturel\n",
    "Tant que n  > 0 faire:\n",
    "    si n % 2 == 0:\n",
    "        Afficher \"0\"\n",
    "    sinon:\n",
    "        Afficher \"1\"\n",
    "        n ← n - 1\n",
    "    n ← n // 2\n",
    "```\n",
    "\n",
    "Cet algorithme ayant l'inconvénient d'afficher les bits «à l'envers» (en partant du bit de poids faible), on le remplacera avantageusement par une fonction dont la valeur de retour sera la représentation binaire de $n$. Il est aisé d'ajouter des caractères en début de chaîne:"
   ]
  },
  {
   "cell_type": "code",
   "execution_count": null,
   "metadata": {
    "deletable": false,
    "editable": false
   },
   "outputs": [],
   "source": [
    "binaire = \"111\"\n",
    "binaire = \"0\" + binaire\n",
    "binaire"
   ]
  },
  {
   "cell_type": "code",
   "execution_count": null,
   "metadata": {
    "deletable": false,
    "editable": false
   },
   "outputs": [],
   "source": [
    "binaire = \"1\" + binaire\n",
    "binaire"
   ]
  },
  {
   "cell_type": "code",
   "execution_count": null,
   "metadata": {
    "deletable": false,
    "editable": false
   },
   "outputs": [],
   "source": [
    "binaire = \"0b\" + binaire\n",
    "binaire"
   ]
  },
  {
   "cell_type": "code",
   "execution_count": null,
   "metadata": {
    "deletable": false
   },
   "outputs": [],
   "source": [
    "def représentation_binaire_2(n):\n",
    "    \"\"\"Retourne la représentation binaire de n sous la forme d'une chaîne\n",
    "    de caractères contenant des zéro ou des 1. \n",
    "    \n",
    "    Le résultat doit être préfixé de '0b'.\n",
    "    \n",
    "    Attention, le cas n == 0 doit être traité à part\"\"\"\n",
    "    \n",
    "    chaîne = \"\"\n",
    "    if n == 0:\n",
    "        pass # Placer votre code ici\n",
    "    else:\n",
    "        pass # Placer votre code ici\n",
    "\n",
    "    chaîne = \"0b\" + chaîne\n",
    "        \n",
    "    return chaîne"
   ]
  },
  {
   "cell_type": "markdown",
   "metadata": {
    "deletable": false,
    "editable": false
   },
   "source": [
    "Et encore une fois, un script de test:"
   ]
  },
  {
   "cell_type": "code",
   "execution_count": null,
   "metadata": {
    "deletable": false
   },
   "outputs": [],
   "source": [
    "test_dec_vers_bin(représentation_binaire_2, début=0, fin=2**16, max_erreurs=10)"
   ]
  },
  {
   "cell_type": "markdown",
   "metadata": {
    "deletable": false,
    "editable": false
   },
   "source": [
    "### Algorithme 4: Conversion binaire → décimal\n",
    "\n",
    "Compléter la fonction suivante. Le paramètre binaire est une chaîne de caractère ne contenant que des 0 et des 1. La valeur de retour doit être l'entier $n$ dont la représentation binaire a été fournie en paramètre. On suppose que la chaîne ne sera pas préfixée par \"0b\" pour cet exemple."
   ]
  },
  {
   "cell_type": "markdown",
   "metadata": {
    "deletable": false,
    "editable": false
   },
   "source": [
    "L'algorithme à utiliser a été vu en classe:\n",
    "\n",
    "```\n",
    "n ← 0\n",
    "Pour bit parcourant tous les caractères de la chaîne binaire:\n",
    "    Si bit est à 1:\n",
    "        n ← 2*n + 1\n",
    "    Sinon:\n",
    "        n ← 2*n\n",
    "```"
   ]
  },
  {
   "cell_type": "code",
   "execution_count": null,
   "metadata": {
    "deletable": false
   },
   "outputs": [],
   "source": [
    "def lecture_binaire(binaire):\n",
    "    \"\"\"Renvoie le nombre entier dont la chaîne de caractère 'binaire' est la représentation\n",
    "    en base 2. Cette chaîne n'est pas préfixée par '0b'\n",
    "    \"\"\"\n",
    "    \n",
    "    n = 0\n",
    "    for bit in binaire:\n",
    "        pass # Placer votre code ici\n",
    "    return n"
   ]
  },
  {
   "cell_type": "markdown",
   "metadata": {
    "deletable": false,
    "editable": false
   },
   "source": [
    "Et un script testant cette fonction:"
   ]
  },
  {
   "cell_type": "code",
   "execution_count": null,
   "metadata": {
    "deletable": false
   },
   "outputs": [],
   "source": [
    "test_bin_vers_dec(lecture_binaire, début=0, fin=2**16, max_erreurs=10)"
   ]
  },
  {
   "cell_type": "markdown",
   "metadata": {
    "deletable": false,
    "editable": false
   },
   "source": [
    "## Représentations hexadécimales\n",
    "\n",
    "Vous allez à présent écrire des fonctions permettant de lire des nombres hexadécimaux, ou à l'inverse de convertir un entier en sa représentation hexadécimale.\n",
    "\n",
    "Afin de vous aider, on donne deux fonctions:"
   ]
  },
  {
   "cell_type": "code",
   "execution_count": null,
   "metadata": {
    "deletable": false,
    "editable": false
   },
   "outputs": [],
   "source": [
    "def chiffre_hexa(valeur):\n",
    "    \"\"\"Renvoie le chiffre hexadécimal correspondant au paramètre 'valeur'.\n",
    "    Une erreur est déclenchée si ce paramètre n'est pas compris entre 0 et 15.\n",
    "    \"\"\"\n",
    "    \n",
    "    chiffres = \"0123456789ABCDEF\"\n",
    "    assert 0 <= valeur <= 15\n",
    "    return chiffres[valeur]"
   ]
  },
  {
   "cell_type": "markdown",
   "metadata": {
    "deletable": false,
    "editable": false
   },
   "source": [
    "Cette première fonction convertit un entier entre 0 et 15 en le chiffre hexadécimal correspondant:"
   ]
  },
  {
   "cell_type": "code",
   "execution_count": null,
   "metadata": {
    "deletable": false,
    "editable": false
   },
   "outputs": [],
   "source": [
    "for n in range(16):\n",
    "    print(n, \"donne en hexadécimal:\", chiffre_hexa(n))"
   ]
  },
  {
   "cell_type": "code",
   "execution_count": null,
   "metadata": {
    "deletable": false,
    "editable": false
   },
   "outputs": [],
   "source": [
    "def valeur_hexa(hexa):\n",
    "    \"\"\"Donne la valeur du chiffre hexadécimal passé en paramètre.\n",
    "    \n",
    "    Celui-ci doit obligatoirement être une chaîne de longueur 1 contenant \n",
    "    un chiffre hexadécimal (majuscules et minuscules acceptées).\n",
    "    \"\"\"\n",
    "    \n",
    "    assert len(hexa) == 1\n",
    "    chiffres = \"0123456789ABCDEF\"\n",
    "    hexa = hexa.upper()\n",
    "    assert hexa in chiffres\n",
    "    \n",
    "    return chiffres.index(hexa)   "
   ]
  },
  {
   "cell_type": "markdown",
   "metadata": {
    "deletable": false,
    "editable": false
   },
   "source": [
    "Cette seconde fonction réalise l'opération inverse:"
   ]
  },
  {
   "cell_type": "code",
   "execution_count": null,
   "metadata": {
    "deletable": false,
    "editable": false
   },
   "outputs": [],
   "source": [
    "for n in range(16):\n",
    "    hexa = chiffre_hexa(n)\n",
    "    print(hexa, \"a pour valeur décimale:\", valeur_hexa(hexa))"
   ]
  },
  {
   "cell_type": "markdown",
   "metadata": {
    "deletable": false,
    "editable": false
   },
   "source": [
    "À l'aide de ces deux fonctions, vous pourrez aisément compléter les deux fonctions de conversion ci-dessous, en vérifiant évidemment que tous les tests soient validés."
   ]
  },
  {
   "cell_type": "markdown",
   "metadata": {
    "deletable": false,
    "editable": false
   },
   "source": [
    "### Algorithme 5: Conversion décimal → hexadécimal"
   ]
  },
  {
   "cell_type": "markdown",
   "metadata": {
    "deletable": false,
    "editable": false
   },
   "source": [
    "Compléter la fonction suivante, et passez tous les tests !"
   ]
  },
  {
   "cell_type": "markdown",
   "metadata": {
    "deletable": false,
    "editable": false
   },
   "source": [
    "L'algorithme à utiliser (du moins pour $n > 0$) a été étudié en classe:\n",
    "\n",
    "```\n",
    "chaîne ← \"\"\n",
    "Tant que n > 0:\n",
    "    chiffre ← chiffre hexadécimal de valeur (n % 16)\n",
    "    Ajouter chiffre à chaîne par la gauche\n",
    "    n ← n // 16\n",
    " ```\n"
   ]
  },
  {
   "cell_type": "code",
   "execution_count": null,
   "metadata": {
    "deletable": false
   },
   "outputs": [],
   "source": [
    "def représentation_hexadécimale(n):\n",
    "    \"\"\"Retourne la représentation hexadécimale de l'entier naturel n, préfixée de '0x'.\n",
    "    \"\"\"\n",
    "    \n",
    "    chaîne = \"\"\n",
    "    if n == 0:\n",
    "        pass # Placer votre code ici\n",
    "    else:\n",
    "        pass # Placer votre code ici\n",
    "        \n",
    "    chaîne = \"0x\" + chaîne\n",
    "    return chaîne"
   ]
  },
  {
   "cell_type": "markdown",
   "metadata": {
    "deletable": false,
    "editable": false
   },
   "source": [
    "Et le test de validation:"
   ]
  },
  {
   "cell_type": "code",
   "execution_count": null,
   "metadata": {
    "deletable": false
   },
   "outputs": [],
   "source": [
    "test_dec_vers_hex(représentation_hexadécimale, début=0, fin=2**16, max_erreurs=10)"
   ]
  },
  {
   "cell_type": "markdown",
   "metadata": {
    "deletable": false,
    "editable": false
   },
   "source": [
    "### Algorithme 6: Conversion hexadécimal → décimal"
   ]
  },
  {
   "cell_type": "markdown",
   "metadata": {
    "deletable": false,
    "editable": false
   },
   "source": [
    "Compléter la fonction suivante, et validez tous les tests !"
   ]
  },
  {
   "cell_type": "markdown",
   "metadata": {
    "deletable": false,
    "editable": false
   },
   "source": [
    "L'algorithme à utiliser a déjà été étudié en classe. Il prend en entrée une chaîne `chaîne_hexa` ne contenant que des chiffres hexadécimaux (sans préfixe), et renvoie l'entier $n$ correspondant.\n",
    "\n",
    "```\n",
    "n ← 0\n",
    "Pour h parcourant tous les caractères de chaîne_hexa:\n",
    "    val ← valeur hexadécimale de h\n",
    "    n = 16*n + val\n",
    "```"
   ]
  },
  {
   "cell_type": "code",
   "execution_count": null,
   "metadata": {
    "deletable": false
   },
   "outputs": [],
   "source": [
    "def lecture_hexadécimal(chaîne_hexa):\n",
    "    \"\"\"Renvoie l'entier dont la représentation hexadécimale est dans 'chaîne_hexa'.\n",
    "    \n",
    "    Cette chaîne n'est pas préfixée par '0x'.\n",
    "    \"\"\"\n",
    "    \n",
    "    for chiffre in chaîne_hexa:\n",
    "        pass # Placer votre code ici\n",
    "    return n"
   ]
  },
  {
   "cell_type": "markdown",
   "metadata": {
    "deletable": false,
    "editable": false
   },
   "source": [
    "Et le test de validation:"
   ]
  },
  {
   "cell_type": "code",
   "execution_count": null,
   "metadata": {
    "deletable": false
   },
   "outputs": [],
   "source": [
    "test_hex_vers_dec(lecture_hexadécimal, début=0, fin=2**16, max_erreurs=10)"
   ]
  },
  {
   "cell_type": "code",
   "execution_count": null,
   "metadata": {},
   "outputs": [],
   "source": []
  }
 ],
 "metadata": {
  "kernelspec": {
   "display_name": "Python 3",
   "language": "python",
   "name": "python3"
  },
  "language_info": {
   "codemirror_mode": {
    "name": "ipython",
    "version": 3
   },
   "file_extension": ".py",
   "mimetype": "text/x-python",
   "name": "python",
   "nbconvert_exporter": "python",
   "pygments_lexer": "ipython3",
   "version": "3.7.4"
  }
 },
 "nbformat": 4,
 "nbformat_minor": 4
}

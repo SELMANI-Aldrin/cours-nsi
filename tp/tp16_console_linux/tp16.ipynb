{
 "cells": [
  {
   "cell_type": "markdown",
   "metadata": {},
   "source": [
    "# La console\n",
    "\n",
    "## À la découverte de la console"
   ]
  },
  {
   "cell_type": "markdown",
   "metadata": {},
   "source": [
    "Historiquement, les ordinateurs étaient occupaient la taille d'un batiment et étaient accessibles depuis un *terminal* qui leur était relié. Un terminal était composé d'un écran et d'un clavier (on ne parle même pas de l'époque où les terminaux n'existaient pas encore et la communication avec les ordinateurs se faisaient par des bandes de papier perforées, voire en recablant directement et physiquement la machine en chassant les insectes qui venaient perturber tout le système, attirés par la chaleur dégagée, les fameux *bugs* qui ont donné leur nom à tous les dysfonctionnements futurs en informatique)."
   ]
  },
  {
   "cell_type": "markdown",
   "metadata": {},
   "source": [
    "À l'heure de l'informatique moderne, on appelle *terminal* une fenêtre dans laquelle on peut entrer une série de commandes pour interagir avec le système d'exploitation. On parle aussi de *console* ou bien d'*interface en ligne de commande*.\n",
    "\n",
    "Pourquoi utilise-t-on encore des terminaux de nos jours ?\n"
   ]
  },
  {
   "cell_type": "markdown",
   "metadata": {},
   "source": [
    "* Avec de l'expérience, le travail avec une console est bien plus rapide et efficace qu'avec une interface graphique: une unique commande bien paramétrée remplacera avantageusement de nombreux clics et changements de fenêtres.\n",
    "* Même si la commande initiale peut être longue à mettre au point, elle est facile à répéter une deuxième fois, ou plusieurs centaines de fois par la suite.\n",
    "* Il est possible d'exécuter plusieurs commandes en les plaçant dans un *script* appelé *script shell*: c'est un peu comme un langage de programmation, sauf que les instructions s'exécutent directement au niveau du système d'exploitation. Ces scripts permettent d'*automatiser* complètement une partie de la gestion d'un système."
   ]
  },
  {
   "cell_type": "markdown",
   "metadata": {},
   "source": [
    "## Faut-il installer un système linux ?"
   ]
  },
  {
   "cell_type": "markdown",
   "metadata": {},
   "source": [
    "Tout d'abord, tous les systèmes d'exploitations disposent d'un mode console. Si le mode console est un outil privilégié d'une puissance extrême sur les systèmes d'exploitations comme linux ou mac OS (même si elle est un peu cachée pour ce dernier, elle existe bel et bien dans le système de base), le système windows dispose du *power shell* qui est une console très puissante elle aussi.\n",
    "\n",
    "Pour ce TP, nous allons travailler sur un système linux (les ordinateurs du labo d'informatique au lycée sont eux-aussi des systèmes linux).\n",
    "\n",
    "Si disposer d'un véritable système linux serait idéal, cela dépasse le cadre de ce simple TP. On propose plutôt de travailler avec un émulateur, comme par exemple **JSLinux** disponible à l'URL suivante:\n",
    "\n",
    "https://bellard.org/jslinux/vm.html?url=buildroot-x86.cfg\n",
    "\n",
    "Il s'agit d'un émulateur d'un système linux, écrit en javascript, et exécutable directement dans le navigateur. L'interface est une console."
   ]
  },
  {
   "cell_type": "markdown",
   "metadata": {},
   "source": [
    "## Architecture de l'ordinateur"
   ]
  },
  {
   "cell_type": "markdown",
   "metadata": {},
   "source": [
    "### Microprocesseur"
   ]
  },
  {
   "cell_type": "markdown",
   "metadata": {},
   "source": [
    "À l'aide de la commande ```lscpu``` on peut connaître le détail des informations concernant le ou les processeurs de la machine (même dans le cas de l'émulateur proposé ici). Le préfixe ```ls``` est souvent utilisé, et est l'abbréviation de *list*.\n",
    "\n",
    "Utilisez cette commande et répondez aux questions suivantes:\n",
    "* De combien de coeurs dispose l'émulateur ?\n",
    "* Quelle est la marque du processeur ?\n",
    "* Quelle est sa vitesse en GHz ?"
   ]
  },
  {
   "cell_type": "markdown",
   "metadata": {},
   "source": [
    "### Mémoire vive"
   ]
  },
  {
   "cell_type": "markdown",
   "metadata": {},
   "source": [
    "La commande ```free`` permet d'afficher la quantité de mémoire disponible. Utilisez cette commande et répondez aux questions suivantes:\n",
    "* Quelle est la quantité de mémoire vive totale ? Quelle est la quantité de mémoire actuellement utilisée ?\n",
    "* Dans quelle unité ces chiffres sont-ils donnés (utiliser les options ```-b``` ```-k``` ```-m``` ```-g``` de la commande ```free``` pour le savoir) ?"
   ]
  },
  {
   "cell_type": "markdown",
   "metadata": {},
   "source": [
    "### Espace sur les périphériques"
   ]
  },
  {
   "cell_type": "markdown",
   "metadata": {},
   "source": [
    "La commande ```df -h``` (pour **d**isplay **f**ree) permet d'afficher l'espace disponible sur les différents périphériques (réels ou virtuels) associés au système.\n",
    "* De combien d'espace disque disposez-vous dans l'émulateur ?"
   ]
  },
  {
   "cell_type": "markdown",
   "metadata": {},
   "source": [
    "### Arborescence de fichiers"
   ]
  },
  {
   "cell_type": "markdown",
   "metadata": {},
   "source": [
    "L'organisation des fichiers dans un ordinateur ne dépend pas du type d'interface utilisé (interface graphique avec des fenêtres, ou bien console): le système est composé de *fichiers*, rangés dans des *répertoires* (parfois appelés *dossiers*). Un répertoire peut contenir à la fois des fichiers et d'autres répertoires appelés des *sous-répertoires*."
   ]
  },
  {
   "cell_type": "markdown",
   "metadata": {},
   "source": [
    "La commande ```ls <nom-de-répertoire>``` permet d'afficher la liste des fichiers et sous-répertoires contenus dans un répertoire. Deux répertoires spéciaux sont à connaître absolument: \n",
    "* Le répertoire courant (celui dans lequel on se trouve en ce moment) est désigné par un simple point ```.```. La commande ```ls .``` affiche le contenu du répertoire courant, mais on peut l'abréger en ```ls```.\n",
    "* Le répertoire parent, c'est-à-dire le répertoire qui contient le répertoire courant est toujours désigné par ```..```.\n",
    "\n",
    "La commande ```pwd``` (pour **p**rint **w**orking **d**irectory) permet d'afficher où se trouve le répertoire courant dans la hiérarchie des répertoires du système."
   ]
  },
  {
   "cell_type": "markdown",
   "metadata": {},
   "source": [
    "* Quel est le répertoire courant ?\n",
    "* Quels sont les fichiers/dossiers dans ce répertoire. Comment fait-on la distinction entre les deux ? (on pourra utiliser l'option ```ls -F``` pour afficher plus d'informations)\n",
    "* Quels sont les fichiers/dossiers dans le répertoire parent ?\n",
    "* Quels sont les fichiers contenus dans le sous-répertoire ```dos``` ? Et dans le sous-répertoire ```asm-1.9``` de ce sous-répertoire ?"
   ]
  },
  {
   "cell_type": "markdown",
   "metadata": {},
   "source": [
    "Avec ```ls -l```, le système affiche beaucoup plus d'informations pour chaque fichier. On obtient un affichage de ce type:\n",
    "```\n",
    "-rw-r--r--  1 root root  19K 26 févr. 10:07  hello.js\n",
    "```\n"
   ]
  },
  {
   "cell_type": "markdown",
   "metadata": {},
   "source": [
    "Le format de cet affichage est le suivant:\n",
    "```\n",
    "<droits d'utilisation>  1 <utilisateur> <groupe> <taille> <date et heure>  hello.js\n",
    "```\n"
   ]
  },
  {
   "cell_type": "markdown",
   "metadata": {},
   "source": [
    "Nous parlerons des droits d'utilisation un peu plus tard.\n",
    "* Qui est le propriétaire du fichier ```hello.js``` dans le répertoire courant de l'émulateur ?\n",
    "* Quelle est la taille de ce fichier ?\n",
    "* Quelle est la date et l'heure de la dernière modification ?"
   ]
  },
  {
   "cell_type": "markdown",
   "metadata": {},
   "source": [
    "La commande ```tree <répertoire>``` est comme ```ls <répertoire>```, sauf qu'elle affiche aussi les fichiers dans **tous** les sous-répertoire du répertoire spécifié. Utilisez la commande ```tree -d <répertoire>``` pour n'afficher que les répertoires, sans les fichiers."
   ]
  },
  {
   "cell_type": "markdown",
   "metadata": {},
   "source": [
    "* Quelle est la structure de l'arborescence du répertoire ```var``` situé dans la racine du système de fichiers ? Utilsez la commande ```tree -d /var``` pour le savoir."
   ]
  },
  {
   "cell_type": "markdown",
   "metadata": {},
   "source": [
    "### Organisation des fichiers"
   ]
  },
  {
   "cell_type": "markdown",
   "metadata": {},
   "source": [
    "L'organisation de l'arborescence des ficheirs dans un système linux (ou mac OS) est un peu déroutante pour qui est habitué aux système windows.\n",
    "* Il n'y a pas la notion de disque ```C:```, ```D:```, etc. Tous les disques sont *montés* (c'est-à-dire associés) à un sous-répertoire quelque part dans la hiérarchie des fichiers.\n",
    "* Tous répertoire est un sous-répertoire du répertoire racine noté ```/```. Celui-ci à ```Mon ordinateur``` sous windows. Les disques physiques (autres disques durs, clés usb, etc) ou des disques virtuels sont associés à certains sous-répertoires. On peut connaître la liste des disques *montés* avec la commande ```mount```."
   ]
  },
  {
   "cell_type": "markdown",
   "metadata": {},
   "source": [
    "Nous observerons comment cela est organisé dans un système réel dès que nous pourrons retourner au laboratoire d'informatique au lycée, la commande ```mount``` n'affichant rien de bien exploitable dans l'émulateur jslinux."
   ]
  },
  {
   "cell_type": "markdown",
   "metadata": {},
   "source": [
    "### Changer de répertoire"
   ]
  },
  {
   "cell_type": "markdown",
   "metadata": {},
   "source": [
    "Une commande absolument essentielle, la commande ```cd <nouveau-répertoire>``` (pour **c**hange **d**irectory) permet de changer le répertoire courant.\n",
    "\n",
    "Comme pour les liens en html, on peut utiliser des chemins *absolus* ou bien des chemins *relatifs* pour désigner une position dans l'arborescence des fichiers.\n",
    "\n",
    "* Un chemin absolu sera de la forme ```/racine/répertoire1/répertoire2/.../répertoire-n``` Le répertoire le plus haut dans la hiérarchie (c'est-à-dire celui qui contient tous les autres, appelé la *racine* du système de fichiers) est toujours désigné par un unique slash ```/```.\n",
    "* Un chemin relatif part du répertoire courant. On peut par exemple aller dans le répertoire ```asm-1.9``` du répertoire ```dos``` contenu dans le répertoire courant grâce à ```cd dos/asm-1.9``` (notez l'absence du slash initial qui caractérise un chemin relatif). On peut aller dans le répertoire parent grâce à ``..``. Pour aller dans le répertoire ```etc``` qui est un sous-répertoire du répertoire parent, on peut utiliser ```cd ../etc```.\n",
    "* Pour revenir au répertoire initial, utilisez la commade ```cd /root```, que vous pouvez abréger en ```cd```."
   ]
  },
  {
   "cell_type": "markdown",
   "metadata": {},
   "source": [
    "* Quelle commande permet d'aller dans le répertoire ```etc``` précédent à l'aide d'un chemin absolu ?\n",
    "* Rendez-vous dans le répertoire ```/root/dos/asm-1.9```. Où vous envoie la commande ```cd ../../..``` ?\n",
    "* Revenez dans le répertoire courant. Que fait la commande ```cd ../root/dos/..``` ?"
   ]
  },
  {
   "cell_type": "markdown",
   "metadata": {},
   "source": [
    "### Créer des répertoires\n",
    "\n",
    "La commande ```mkdir``` (pour **m**a**k**e **dir**ectory) permet de créer un nouveau répertoire dans le répertoire courant."
   ]
  },
  {
   "cell_type": "markdown",
   "metadata": {},
   "source": [
    "Dans le répertoire initial ```/root```, créer des répertoires et sous-répertoires de façon à ce que la commande ```tree -d /root``` affiche la structure suivante:\n",
    "```\n",
    ".\n",
    "├── cours\n",
    "│   ├── console\n",
    "│   └── html-css\n",
    "└── travaux-pratiques\n",
    "    ├── tp1\n",
    "    └── tp2\n",
    "\n",
    "```"
   ]
  },
  {
   "cell_type": "markdown",
   "metadata": {},
   "source": [
    "On peut effacer un répertoire (à condition qu'il soit vide) à l'aide de la commande ```rmdir <répertoire>```.\n",
    "* Effacer le répertoire ```cours```. Pourquoi cela ne fonctionne-t-il pas ? Comment procéder ?"
   ]
  },
  {
   "cell_type": "markdown",
   "metadata": {},
   "source": [
    "### Créer des fichiers"
   ]
  },
  {
   "cell_type": "markdown",
   "metadata": {},
   "source": [
    "La commande ```touch <nom-de-fichier>``` permet de créer un fichier (initialement vide), ou bien de modifier la date et l'heure de la dernière modification d'un fichier existant (ce qui peut être pratique dans certaines situations).\n",
    "* Créer un fichier ```tp1.txt``` dans le sous-répertoire ```tp1```."
   ]
  },
  {
   "cell_type": "markdown",
   "metadata": {},
   "source": [
    "Pour éditer un fichier, il existe des éditeurs en mode console. Leur utilisation est certes beaucoup moins aisée qu'un éditeur en mode graphique, mais ils ont l'énorme avantage d'être utilsables lorsque l'on se connecte à distance en mode console. Les plus connus sont ```vi``` (utilisation très déconseillée aux non spécialistes) et ```nano```.\n",
    "* Utilisez la commande ```nano tp1.txt``` Pour modifier le contenu du fichier ```tp1.txt``` dans le sous-répertoire ```tp1``` en:\n",
    "\n",
    "```\n",
    "# Le mode console\n",
    "\n",
    "Le mode console permet de rentrer une série de commandes permettant d'interagir avec le système d'exploitation.\n",
    "```"
   ]
  },
  {
   "cell_type": "markdown",
   "metadata": {},
   "source": [
    "### Effacer des fichiers\n",
    "\n",
    "La commande ```rm <fichier>``` permet d'effacer un fichier. Attention, elle ne permet pas d'effacer des répertoires, à moins d'utiliser l'option ```rm -R <répertoire>```, mais **attention**, cette commande est très dangereuse, elle efface sans demander de confirmation le répertoire spécifié, ainsi que tous les ficheirs et sous-répetoires qu'il contient. La commande ```rm -Rf``` (le ```f``` pour **f**orce) est le plus sûr moyen de détruire quasi instantannément un système linux (heureusement, seul l'administrateur du système, c'est-à-dire l'utilisateur ```root``` dispose de ce pouvoir de destruction totale)."
   ]
  },
  {
   "cell_type": "markdown",
   "metadata": {},
   "source": [
    "### Motifs de fichiers\n",
    "\n",
    "Certains répertoires peuvent contenir des centaines voire des milliers de fichiers, comme par exemple le répertoire ```/dev``` qui contient un lien vers tous les périphériques du système (y compris des périphériques virtuels ou non installés).\n",
    "\n",
    "Si on ne souhaite afficher que les fichiers commençant par ```tty```, on peut utiliser la commande ```ls /dev/tty*``` L'étoile ```*``` sera remplacée automatiquement par un ou plusieurs caractères, et seuls les fichiers correspondant à ce motif seront affichés.\n",
    "\n",
    "En plus de l'étoile, on dispose aussi du motif ```?``` qui ne permet le remplacement que d'**un** caractère. La commande ```ls /dev/tty?1``` affichera seulement les fichiers suivant ce motif particulier.\n",
    "\n",
    "Ce mécanisme de motifs n'est pas propre à la commande ```ls```, mais existe pour toutes les commandes."
   ]
  },
  {
   "cell_type": "markdown",
   "metadata": {},
   "source": [
    "### Copier / Déplacer / Renommer des fichiers\n",
    "\n",
    "* Pour copier un fichier, on utilise la commande ```cp <motif de fichiers> <destination>``` (**cp** pour **c**o**p**y). Par exemple, la commande ```cp *.txt ../Textes``` déplace tous les fichiers se terminant par l'extension ```.txt``` dans le répertoire ```Texte``` situé dans le répertoire parent.\n",
    "* Pour déplacer un fichier, on utilise la commande ```mv <motif de fichiers> <destination>``` (**mv** pour **m**o**v**e), qui fonctionne comme ```cp``` sauf qu'elle déplace le fichier plutôt que d'en faire une copie.\n",
    "* Il n'y a pas de commande spécifique pour renommer un fichier, mais on peut s'en passer grâce à la commande ```mv <ancien nom> <nouveau nom>``` qui donne exactement le résultat recherché."
   ]
  },
  {
   "cell_type": "markdown",
   "metadata": {},
   "source": [
    "## Gestion des droits pour les fichiers/répertoires"
   ]
  },
  {
   "cell_type": "markdown",
   "metadata": {},
   "source": [
    "La commande ```ls -l``` vue plus haut donne de nombreuses informations sur un fichier, et notamment les droits qui lui sont associés.\n",
    "\n",
    "Sous un système du type Linux, un fichier a un propriétaire, mais appartient aussi à un groupe.\n",
    "\n",
    "Les droits d'écriture/lecture associés à un fichier sont séparés en trois catégories: les droits pour le propriétaire, les droits pour le groupe, et finalement les droits pour tous les autres.\n",
    "\n",
    "Voyons quelques exemples, sur une machine linux quelconque:\n",
    "\n",
    "#### ```ls -l /var/games```\n",
    "\n",
    "```\n",
    "drwxrwxr-x  2 root games 4,0K 30 sept.  2018 games/\n",
    "```\n",
    "\n",
    "* Le premier caractère ```d``` (comme **d**irectory) indique qu'il s'agit d'un répertoire.\n",
    "* Les 3 caractères suivants ```rwx``` signifient que l'utilisateur (root) peut lire (**r**ead), écrire (**w**rite) et e**x**écuter le répertoire (pour un répertoire, le fait d'être exécutable signifie que l'utilisateur peut aller consulter le contenu de ce répertoire en se rendant à l'intérieur). \n",
    "* Les 3 caractères suivants, encore ```rwx```, indiquent que les membres du groupe ```games``` ont les même droits de lecture, écriture, et exécution.\n",
    "* Les 3 derniers caractères, ```r-x``` sont réservés à tous les autres utilisateurs. Il peuvent donc lire le répertoire, se rendre à l'intérieur, mais pas le modifier (c'est-à-dire qu'ils ne peuvent pas rajouter ou supprimer de fichiers à l'intérieur).\n",
    "\n",
    "#### ```ls -l /home/pascal/tp16.ipynb```\n",
    "\n",
    "```\n",
    "-rw-r-----  2 pascal users 16,0K 30 mars  2020 tp16.ipynb\n",
    "```\n",
    "\n",
    "* Le premier caractère désigne un fichier standard.\n",
    "* L'utilisateur (pascal) peut lire et écrire le fichier. Il ne s'agit pas d'un fichier exécutable, donc le drapeau ```x``` n'est pas mis.\n",
    "* Les membres du groupe ```users``` peuvent uniquement lire le fichier.\n",
    "* Les autres utilisateurs n'ont absolument aucun droit sur le fichier, ils ne peuvent ni le lire, ni le modifier, ni l'exécuter."
   ]
  },
  {
   "cell_type": "markdown",
   "metadata": {},
   "source": [
    "### Comment changer les droits d'un fichier ou d'un répertoire ?\n",
    "\n",
    "La commande ```chmod``` permet de modifier les droits associés à un fichier. Seul le propriétaire d'un fichier peut en modifier les droits (et bien sûr l'administrateur ```root``` du système).\n",
    "\n",
    "Cette commande est relativement complexe, on donne quelques exemples:\n",
    "* ```chmod u+x fichier.txt``` rend le fichier exécutable, mais uniquement pour l'**u**tilisateur.\n",
    "* ```chmod g+x fichier.txt``` fait la même chose, pour les membres du **g**roupe auquel appartient le fichier.\n",
    "* ```chmod o+x fichier.txt``` rend le fichier exécutable pour les autres (**o**ther) utilisateurs du système.\n",
    "* On peut vouloir agir en même temps pour les 3 catégories d'utilisateurs. C'est possible avec ```chmod a+x fichier.txt``` (**a**ll).\n",
    "* On peut remplacer le ```+``` par un ```-``` pour retirer des droits. Par exemple, ```chmod go-w fichier.txt``` retire le droit en écriture pour les membres du groupe et pour les autres utilisateurs.\n",
    "\n",
    "Enfin, il est possible de spécifier directement tous les drapeaux qui seront mis (ou pas) pour un fichier, de la manière suivante:\n",
    "* On considère les 3 paquets de droits ```rwx r-x r--``` comme 3 paquets de bits, que l'on met à 1 si le drapeau est mis, 0 sinon. Pour l'exemple précédent, on aura donc ```111 101 100```. \n",
    "* On convertit alors ces 3 paquets de bits en décimal (on aura forcément des chiffres entre 0 et 7). On trouve ici 754. \n",
    "* On peut alors utiliser la commande ```chmod 754 fichier.txt``` pour placer directement les droits du fichier à ```-rwxrw-r--```."
   ]
  },
  {
   "cell_type": "markdown",
   "metadata": {},
   "source": [
    "## Comment changer le propriétaire et/ou le groupe d'un fichier ?"
   ]
  },
  {
   "cell_type": "markdown",
   "metadata": {},
   "source": [
    "On utilise pour cela la commande ```chown``` (**ch**ange **ow**ner). En général, seul l'administrateur peut modifier à loisir les propriétaires d'un fichier, car il faut disposer des droits sur le nom.groupe d'arrivée pour pouvoir s'en servir.\n",
    "\n",
    "Un exemple: ```chown basile.eleves fichier.txt``` permet à l'administrateur d'attribuer le fichier à Basile, ainsi qu'au groupe ```eleves```."
   ]
  },
  {
   "cell_type": "code",
   "execution_count": null,
   "metadata": {},
   "outputs": [],
   "source": []
  }
 ],
 "metadata": {
  "kernelspec": {
   "display_name": "Python 3",
   "language": "python",
   "name": "python3"
  },
  "language_info": {
   "codemirror_mode": {
    "name": "ipython",
    "version": 3
   },
   "file_extension": ".py",
   "mimetype": "text/x-python",
   "name": "python",
   "nbconvert_exporter": "python",
   "pygments_lexer": "ipython3",
   "version": "3.8.2"
  }
 },
 "nbformat": 4,
 "nbformat_minor": 4
}

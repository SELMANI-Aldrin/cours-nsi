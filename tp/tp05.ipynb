{
 "cells": [
  {
   "cell_type": "markdown",
   "metadata": {},
   "source": [
    "# TP 5 - Exercices en vrac"
   ]
  },
  {
   "cell_type": "markdown",
   "metadata": {},
   "source": [
    "----\n",
    "### Exercice 1"
   ]
  },
  {
   "cell_type": "markdown",
   "metadata": {},
   "source": [
    "Écrire un programme qui demande trois longueurs à l'utilisateur, indique si ces trois longueurs peuvent être les longueurs des trois côtés d'un triangle et, le cas échéant, s'il s'agit d'un triangle équilatéral, isocèle ou scalène (c'est-à-dire de longueurs différentes)."
   ]
  },
  {
   "cell_type": "code",
   "execution_count": null,
   "metadata": {},
   "outputs": [],
   "source": [
    "# Écrire votre programme dans cette cellule\n",
    "\n",
    "\n"
   ]
  },
  {
   "cell_type": "markdown",
   "metadata": {},
   "source": [
    "---\n",
    "### Exercice 1 bis"
   ]
  },
  {
   "cell_type": "markdown",
   "metadata": {},
   "source": [
    "Recopier puis compléter le programme précédant afin qu'il indique aussi si le triangle est rectangle (attention, il ne faut pas oublier les triangles rectangles isocèles !)."
   ]
  },
  {
   "cell_type": "code",
   "execution_count": null,
   "metadata": {},
   "outputs": [],
   "source": [
    "# Écrire votre programme dans cette cellule\n",
    "\n",
    "\n"
   ]
  },
  {
   "cell_type": "markdown",
   "metadata": {},
   "source": [
    "---\n",
    "### Exercice 2"
   ]
  },
  {
   "cell_type": "markdown",
   "metadata": {},
   "source": [
    "Écrire un programme qui demande une année à l'utilisateur et indique s'il s'agit d'une année [bissextile](https://fr.wikipedia.org/wiki/Ann%C3%A9e_bissextile)."
   ]
  },
  {
   "cell_type": "code",
   "execution_count": null,
   "metadata": {},
   "outputs": [],
   "source": [
    "# Écrire votre programme dans cette cellule\n",
    "\n",
    "\n"
   ]
  },
  {
   "cell_type": "markdown",
   "metadata": {},
   "source": [
    "---\n",
    "### Exercice 3 - Le fizzbuzz"
   ]
  },
  {
   "cell_type": "markdown",
   "metadata": {},
   "source": [
    "Écrire un programme qui parcourt les entiers de 1 à 100 et affiche **fizz** lorsque l'entier est un multiple de 3, **buzz** lorsque c'est un multiple de 5 (et donc en particulier **fizzbuzz** lorsque c'est un multiple de 15), et affiche l'entier sinon.\n",
    "\n",
    "Cet exercice peut paraître ridicule (voire à la limite de la stupidité), mais c'est un grand classique des tests d'embauche dans les entreprises recrutant des informaticiens. Il est absolument édifiant de constater qu'[une majorité de candidats ne passent pas ce test quasiment trivial](https://blog.codinghorror.com/why-cant-programmers-program/)...\n"
   ]
  },
  {
   "cell_type": "code",
   "execution_count": null,
   "metadata": {},
   "outputs": [],
   "source": [
    "# Écrire votre programme dans cette cellule\n",
    "\n",
    "\n"
   ]
  },
  {
   "cell_type": "markdown",
   "metadata": {},
   "source": [
    "---\n",
    "### Exercice 4 - Pour les élèves suivant la spécialité mathématique"
   ]
  },
  {
   "cell_type": "markdown",
   "metadata": {},
   "source": [
    "Écrire un programme permettant de résoudre les équations du second degré $$ax^2 + bx + c = 0.$$ On pourra demander à l'utilisateur les valeurs des coefficients, et bien penser à vérifier que $a\\neq 0$."
   ]
  },
  {
   "cell_type": "code",
   "execution_count": null,
   "metadata": {},
   "outputs": [],
   "source": [
    "# Écrire votre programme dans cette cellule\n",
    "\n",
    "\n"
   ]
  },
  {
   "cell_type": "markdown",
   "metadata": {},
   "source": [
    "---\n",
    "### Exercice 5"
   ]
  },
  {
   "cell_type": "markdown",
   "metadata": {},
   "source": [
    "Écrire une fonction ```bissextile(a)``` qui renvoie un booléen (```True``` ou ```False```) indiquant si l'année `a` est bissextile."
   ]
  },
  {
   "cell_type": "code",
   "execution_count": null,
   "metadata": {},
   "outputs": [],
   "source": [
    "def bissextile(a):\n",
    "    # Supprimer cette ligne et la suivante et les remplacer par votre code\n",
    "    raise NotImplementedError"
   ]
  },
  {
   "cell_type": "markdown",
   "metadata": {},
   "source": [
    "Écrire une fonction `nombre_jours_année(a)` qui renvoie le nombre de jours de l'année `a`, en utilisant la fonction `bissextile`."
   ]
  },
  {
   "cell_type": "code",
   "execution_count": null,
   "metadata": {},
   "outputs": [],
   "source": [
    "def nombre_jours_année(a):\n",
    "    # Supprimer cette ligne et la suivante et les remplacer par votre code\n",
    "    raise NotImplementedError    "
   ]
  },
  {
   "cell_type": "markdown",
   "metadata": {},
   "source": [
    "Écrire une fonction `nombre_jours_mois(a, m)` donnant le nombre de jours du mois `m` de l'année `a`. On pourra réutiliser les fonctions précédentes. On suppose que les mois sont numérotés de 1 à 12."
   ]
  },
  {
   "cell_type": "code",
   "execution_count": null,
   "metadata": {},
   "outputs": [],
   "source": [
    "def nombre_jours_mois(a, m):\n",
    "    # Supprimer cette ligne et la suivante et les remplacer par votre code\n",
    "    raise NotImplementedError        "
   ]
  },
  {
   "cell_type": "markdown",
   "metadata": {},
   "source": [
    "Écrire une fonction `nombre_jours(j1, m1, a1, j2, m1, a2)` donnant le nombre de jours entre les deux dates données en paramètres (les jours sont numérotés de 1 à 31). On suppose que la première date est toujours antérieure à la seconde. On réutilisera judicieusement les fonctions précédentes."
   ]
  },
  {
   "cell_type": "code",
   "execution_count": null,
   "metadata": {},
   "outputs": [],
   "source": [
    "# Tester vos fonctions ici\n",
    "\n",
    "\n"
   ]
  },
  {
   "cell_type": "markdown",
   "metadata": {},
   "source": [
    "---\n",
    "### Exercice 6"
   ]
  },
  {
   "cell_type": "markdown",
   "metadata": {},
   "source": [
    "Écrire une fonction `doublon(t)` qui prend en paramètre un tableau, et renvoie un booléen indiquant si le tableau contient ou non des doublons."
   ]
  },
  {
   "cell_type": "code",
   "execution_count": null,
   "metadata": {},
   "outputs": [],
   "source": [
    "def doublon(t):\n",
    "    # Supprimer cette ligne et la suivante et les remplacer par votre code\n",
    "    raise NotImplementedError"
   ]
  },
  {
   "cell_type": "code",
   "execution_count": null,
   "metadata": {},
   "outputs": [],
   "source": [
    "# Tester votre fonction ici\n",
    "\n",
    "\n"
   ]
  },
  {
   "cell_type": "code",
   "execution_count": null,
   "metadata": {},
   "outputs": [],
   "source": []
  },
  {
   "cell_type": "markdown",
   "metadata": {},
   "source": [
    "---\n",
    "### Exercice 7"
   ]
  },
  {
   "cell_type": "markdown",
   "metadata": {},
   "source": [
    "Écrire une fonction `élément_commun(t1, t2)` renvoyant un booléen indiquant s'il y a un élément commun entre les tableaux `t1` et `t2`."
   ]
  },
  {
   "cell_type": "code",
   "execution_count": null,
   "metadata": {},
   "outputs": [],
   "source": [
    "def élément_commun(t1, t2):\n",
    "    # Supprimer cette ligne et la suivante et les remplacer par votre code\n",
    "    raise NotImplementedError    "
   ]
  },
  {
   "cell_type": "code",
   "execution_count": null,
   "metadata": {},
   "outputs": [],
   "source": [
    "# Tester votre fonction ici\n",
    "\n",
    "\n"
   ]
  },
  {
   "cell_type": "markdown",
   "metadata": {},
   "source": [
    "---\n",
    "### Exercice 8"
   ]
  },
  {
   "cell_type": "markdown",
   "metadata": {},
   "source": [
    "Écrire une fonction `inclusion(t1, t2)` renvoyant un booléen indiquand si le tableau `t1` est inclus dans le tableau `t2`."
   ]
  },
  {
   "cell_type": "code",
   "execution_count": null,
   "metadata": {},
   "outputs": [],
   "source": [
    "def inclusion(t1, t2):\n",
    "    # Supprimer cette ligne et la suivante et les remplacer par votre code\n",
    "    raise NotImplementedError    "
   ]
  },
  {
   "cell_type": "code",
   "execution_count": null,
   "metadata": {},
   "outputs": [],
   "source": [
    "# Tester votre fonction ici\n",
    "\n",
    "\n"
   ]
  },
  {
   "cell_type": "markdown",
   "metadata": {},
   "source": [
    "---\n",
    "### Exercice 9"
   ]
  },
  {
   "cell_type": "markdown",
   "metadata": {},
   "source": [
    "Écrire une fonction `intersection(t1, t2)` renvoyant un tableau contenant tous les éléments communs aux tableaux passés en paramètres."
   ]
  },
  {
   "cell_type": "code",
   "execution_count": null,
   "metadata": {},
   "outputs": [],
   "source": [
    "def intersection(t1, t2):\n",
    "    # Supprimer cette ligne et la suivante et les remplacer par votre code\n",
    "    raise NotImplementedError    "
   ]
  },
  {
   "cell_type": "code",
   "execution_count": null,
   "metadata": {},
   "outputs": [],
   "source": [
    "# Tester votre fonction ici\n",
    "\n",
    "\n"
   ]
  },
  {
   "cell_type": "markdown",
   "metadata": {},
   "source": [
    "---\n",
    "### Exercice 10"
   ]
  },
  {
   "cell_type": "markdown",
   "metadata": {},
   "source": [
    "Écrire un programme utilisant trois boucles imbriquées pour afficher tous les triplets d'entiers $1 \\leqslant a \\leqslant b \\leqslant c\\leqslant 100$ tels que $a^2 + b^2 = c^2$ (ces triplets sont appelés *triplets pythagoriciens* en mathématiques). Compter le nombre de tels triplets (il y en a normalement 52)."
   ]
  },
  {
   "cell_type": "code",
   "execution_count": null,
   "metadata": {},
   "outputs": [],
   "source": [
    "# Écrire votre programme ici.\n",
    "\n",
    "\n"
   ]
  }
 ],
 "metadata": {
  "kernelspec": {
   "display_name": "Python 3",
   "language": "python",
   "name": "python3"
  },
  "language_info": {
   "codemirror_mode": {
    "name": "ipython",
    "version": 3
   },
   "file_extension": ".py",
   "mimetype": "text/x-python",
   "name": "python",
   "nbconvert_exporter": "python",
   "pygments_lexer": "ipython3",
   "version": "3.7.4"
  }
 },
 "nbformat": 4,
 "nbformat_minor": 4
}

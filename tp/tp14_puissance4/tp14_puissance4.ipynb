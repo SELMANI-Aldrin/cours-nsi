{
 "cells": [
  {
   "cell_type": "markdown",
   "metadata": {},
   "source": [
    "# Exercices autour du jeu Puissance 4"
   ]
  },
  {
   "cell_type": "markdown",
   "metadata": {},
   "source": [
    "## Représentation des données"
   ]
  },
  {
   "cell_type": "markdown",
   "metadata": {},
   "source": [
    "On représentera une grille de puissance 4 (6 lignes, 7 colonnes) par un tableau de colonnes, chacune contenant 6 cases. Il s'agit donc d'un tableau (de taille 7) de tableaux (chacun de taille 6)."
   ]
  },
  {
   "cell_type": "markdown",
   "metadata": {},
   "source": [
    "On prendra pour convention que la coordonnée (0, 0) représente la case en bas à gauche. La première coordonnée (colonne) est donc en abscisse, orientée de gauche à droite. La deuxième coordonnée (ligne) est l'ordonnée, orientée de bas en haut. Il s'agit donc de la convention mathématique habituelle."
   ]
  },
  {
   "cell_type": "markdown",
   "metadata": {},
   "source": [
    "## Affichage d'une grille"
   ]
  },
  {
   "cell_type": "markdown",
   "metadata": {},
   "source": [
    "La fonction ci-dessous est fournie en l'état, et permet d'afficher une grille de P4. Utilisez-la sans modération pour vérifier votre code.\n",
    "\n",
    "Cette fonction d'affichage déclenche une erreur si votre grille n'a pas la bonne structure.\n",
    "\n",
    "Une valeur erronée est affichée en rouge vif dans la grille."
   ]
  },
  {
   "cell_type": "code",
   "execution_count": 1,
   "metadata": {},
   "outputs": [],
   "source": [
    "from IPython.core.display import HTML\n",
    "\n",
    "def affiche_grille(grille):\n",
    "    assert(len(grille) == 7) # Il faut 7 colonnes\n",
    "    for colonne in grille:\n",
    "        assert(len(colonne) == 6) # Chaque colonne contient 6 cases.\n",
    "        \n",
    "    html = []\n",
    "    \n",
    "    tdstyle = \"\"\"width: 20px; height: 18px; background-color: lemonChiffon;\n",
    "        font-weight: bold; font-size: 18px; text-align: center; border: 2px solid gold;\n",
    "    \"\"\"\n",
    "    \n",
    "    html.append(\"<table>\")\n",
    "    for ligne in range(6):\n",
    "        html.append(\"<tr>\")\n",
    "        for colonne in range(7):\n",
    "            if grille[colonne][5 - ligne] == 0:\n",
    "                html.append('<td style=\"' + tdstyle + '\"></td>')\n",
    "            elif grille[colonne][5 - ligne] == 1:\n",
    "                html.append('<td style=\"' + tdstyle + ' color: blue;\">X</td>')\n",
    "            elif grille[colonne][5 - ligne] == 2:\n",
    "                html.append('<td style=\"' + tdstyle + ' color: red;\">O</td>')\n",
    "            else:\n",
    "                html.append('<td style=\"' + tdstyle + 'border: 3px solid red; font-weight: normal; background-color: #ff6666;\">&#9760;</td>')\n",
    "        html.append(\"</tr>\")\n",
    "    html.append(\"</table>\")\n",
    "    \n",
    "    display(HTML(\"\\n\".join(html)))\n",
    "            "
   ]
  },
  {
   "cell_type": "code",
   "execution_count": 2,
   "metadata": {},
   "outputs": [],
   "source": [
    "g = [\n",
    "    [1, 2, 2, 0, 0, 0],\n",
    "    [2, 1, 0, 0, 0, 0],\n",
    "    [1, 0, 0, 0, 0, 0],\n",
    "    [0, 0, 0, 0, 0, 0],\n",
    "    [3, 3, 3, 0, 0, 0], # On place sciemment des valeurs erronées ici\n",
    "    [0, 0, 0, 0, 0, 0],\n",
    "    [0, 0, 0, 0, 0, 0],\n",
    "]"
   ]
  },
  {
   "cell_type": "code",
   "execution_count": 3,
   "metadata": {},
   "outputs": [
    {
     "data": {
      "text/html": [
       "<table>\n",
       "<tr>\n",
       "<td style=\"width: 20px; height: 18px; background-color: lemonChiffon;\n",
       "        font-weight: bold; font-size: 18px; text-align: center; border: 2px solid gold;\n",
       "    \"></td>\n",
       "<td style=\"width: 20px; height: 18px; background-color: lemonChiffon;\n",
       "        font-weight: bold; font-size: 18px; text-align: center; border: 2px solid gold;\n",
       "    \"></td>\n",
       "<td style=\"width: 20px; height: 18px; background-color: lemonChiffon;\n",
       "        font-weight: bold; font-size: 18px; text-align: center; border: 2px solid gold;\n",
       "    \"></td>\n",
       "<td style=\"width: 20px; height: 18px; background-color: lemonChiffon;\n",
       "        font-weight: bold; font-size: 18px; text-align: center; border: 2px solid gold;\n",
       "    \"></td>\n",
       "<td style=\"width: 20px; height: 18px; background-color: lemonChiffon;\n",
       "        font-weight: bold; font-size: 18px; text-align: center; border: 2px solid gold;\n",
       "    \"></td>\n",
       "<td style=\"width: 20px; height: 18px; background-color: lemonChiffon;\n",
       "        font-weight: bold; font-size: 18px; text-align: center; border: 2px solid gold;\n",
       "    \"></td>\n",
       "<td style=\"width: 20px; height: 18px; background-color: lemonChiffon;\n",
       "        font-weight: bold; font-size: 18px; text-align: center; border: 2px solid gold;\n",
       "    \"></td>\n",
       "</tr>\n",
       "<tr>\n",
       "<td style=\"width: 20px; height: 18px; background-color: lemonChiffon;\n",
       "        font-weight: bold; font-size: 18px; text-align: center; border: 2px solid gold;\n",
       "    \"></td>\n",
       "<td style=\"width: 20px; height: 18px; background-color: lemonChiffon;\n",
       "        font-weight: bold; font-size: 18px; text-align: center; border: 2px solid gold;\n",
       "    \"></td>\n",
       "<td style=\"width: 20px; height: 18px; background-color: lemonChiffon;\n",
       "        font-weight: bold; font-size: 18px; text-align: center; border: 2px solid gold;\n",
       "    \"></td>\n",
       "<td style=\"width: 20px; height: 18px; background-color: lemonChiffon;\n",
       "        font-weight: bold; font-size: 18px; text-align: center; border: 2px solid gold;\n",
       "    \"></td>\n",
       "<td style=\"width: 20px; height: 18px; background-color: lemonChiffon;\n",
       "        font-weight: bold; font-size: 18px; text-align: center; border: 2px solid gold;\n",
       "    \"></td>\n",
       "<td style=\"width: 20px; height: 18px; background-color: lemonChiffon;\n",
       "        font-weight: bold; font-size: 18px; text-align: center; border: 2px solid gold;\n",
       "    \"></td>\n",
       "<td style=\"width: 20px; height: 18px; background-color: lemonChiffon;\n",
       "        font-weight: bold; font-size: 18px; text-align: center; border: 2px solid gold;\n",
       "    \"></td>\n",
       "</tr>\n",
       "<tr>\n",
       "<td style=\"width: 20px; height: 18px; background-color: lemonChiffon;\n",
       "        font-weight: bold; font-size: 18px; text-align: center; border: 2px solid gold;\n",
       "    \"></td>\n",
       "<td style=\"width: 20px; height: 18px; background-color: lemonChiffon;\n",
       "        font-weight: bold; font-size: 18px; text-align: center; border: 2px solid gold;\n",
       "    \"></td>\n",
       "<td style=\"width: 20px; height: 18px; background-color: lemonChiffon;\n",
       "        font-weight: bold; font-size: 18px; text-align: center; border: 2px solid gold;\n",
       "    \"></td>\n",
       "<td style=\"width: 20px; height: 18px; background-color: lemonChiffon;\n",
       "        font-weight: bold; font-size: 18px; text-align: center; border: 2px solid gold;\n",
       "    \"></td>\n",
       "<td style=\"width: 20px; height: 18px; background-color: lemonChiffon;\n",
       "        font-weight: bold; font-size: 18px; text-align: center; border: 2px solid gold;\n",
       "    \"></td>\n",
       "<td style=\"width: 20px; height: 18px; background-color: lemonChiffon;\n",
       "        font-weight: bold; font-size: 18px; text-align: center; border: 2px solid gold;\n",
       "    \"></td>\n",
       "<td style=\"width: 20px; height: 18px; background-color: lemonChiffon;\n",
       "        font-weight: bold; font-size: 18px; text-align: center; border: 2px solid gold;\n",
       "    \"></td>\n",
       "</tr>\n",
       "<tr>\n",
       "<td style=\"width: 20px; height: 18px; background-color: lemonChiffon;\n",
       "        font-weight: bold; font-size: 18px; text-align: center; border: 2px solid gold;\n",
       "     color: red;\">O</td>\n",
       "<td style=\"width: 20px; height: 18px; background-color: lemonChiffon;\n",
       "        font-weight: bold; font-size: 18px; text-align: center; border: 2px solid gold;\n",
       "    \"></td>\n",
       "<td style=\"width: 20px; height: 18px; background-color: lemonChiffon;\n",
       "        font-weight: bold; font-size: 18px; text-align: center; border: 2px solid gold;\n",
       "    \"></td>\n",
       "<td style=\"width: 20px; height: 18px; background-color: lemonChiffon;\n",
       "        font-weight: bold; font-size: 18px; text-align: center; border: 2px solid gold;\n",
       "    \"></td>\n",
       "<td style=\"width: 20px; height: 18px; background-color: lemonChiffon;\n",
       "        font-weight: bold; font-size: 18px; text-align: center; border: 2px solid gold;\n",
       "    border: 3px solid red; font-weight: normal; background-color: #ff6666;\">&#9760;</td>\n",
       "<td style=\"width: 20px; height: 18px; background-color: lemonChiffon;\n",
       "        font-weight: bold; font-size: 18px; text-align: center; border: 2px solid gold;\n",
       "    \"></td>\n",
       "<td style=\"width: 20px; height: 18px; background-color: lemonChiffon;\n",
       "        font-weight: bold; font-size: 18px; text-align: center; border: 2px solid gold;\n",
       "    \"></td>\n",
       "</tr>\n",
       "<tr>\n",
       "<td style=\"width: 20px; height: 18px; background-color: lemonChiffon;\n",
       "        font-weight: bold; font-size: 18px; text-align: center; border: 2px solid gold;\n",
       "     color: red;\">O</td>\n",
       "<td style=\"width: 20px; height: 18px; background-color: lemonChiffon;\n",
       "        font-weight: bold; font-size: 18px; text-align: center; border: 2px solid gold;\n",
       "     color: blue;\">X</td>\n",
       "<td style=\"width: 20px; height: 18px; background-color: lemonChiffon;\n",
       "        font-weight: bold; font-size: 18px; text-align: center; border: 2px solid gold;\n",
       "    \"></td>\n",
       "<td style=\"width: 20px; height: 18px; background-color: lemonChiffon;\n",
       "        font-weight: bold; font-size: 18px; text-align: center; border: 2px solid gold;\n",
       "    \"></td>\n",
       "<td style=\"width: 20px; height: 18px; background-color: lemonChiffon;\n",
       "        font-weight: bold; font-size: 18px; text-align: center; border: 2px solid gold;\n",
       "    border: 3px solid red; font-weight: normal; background-color: #ff6666;\">&#9760;</td>\n",
       "<td style=\"width: 20px; height: 18px; background-color: lemonChiffon;\n",
       "        font-weight: bold; font-size: 18px; text-align: center; border: 2px solid gold;\n",
       "    \"></td>\n",
       "<td style=\"width: 20px; height: 18px; background-color: lemonChiffon;\n",
       "        font-weight: bold; font-size: 18px; text-align: center; border: 2px solid gold;\n",
       "    \"></td>\n",
       "</tr>\n",
       "<tr>\n",
       "<td style=\"width: 20px; height: 18px; background-color: lemonChiffon;\n",
       "        font-weight: bold; font-size: 18px; text-align: center; border: 2px solid gold;\n",
       "     color: blue;\">X</td>\n",
       "<td style=\"width: 20px; height: 18px; background-color: lemonChiffon;\n",
       "        font-weight: bold; font-size: 18px; text-align: center; border: 2px solid gold;\n",
       "     color: red;\">O</td>\n",
       "<td style=\"width: 20px; height: 18px; background-color: lemonChiffon;\n",
       "        font-weight: bold; font-size: 18px; text-align: center; border: 2px solid gold;\n",
       "     color: blue;\">X</td>\n",
       "<td style=\"width: 20px; height: 18px; background-color: lemonChiffon;\n",
       "        font-weight: bold; font-size: 18px; text-align: center; border: 2px solid gold;\n",
       "    \"></td>\n",
       "<td style=\"width: 20px; height: 18px; background-color: lemonChiffon;\n",
       "        font-weight: bold; font-size: 18px; text-align: center; border: 2px solid gold;\n",
       "    border: 3px solid red; font-weight: normal; background-color: #ff6666;\">&#9760;</td>\n",
       "<td style=\"width: 20px; height: 18px; background-color: lemonChiffon;\n",
       "        font-weight: bold; font-size: 18px; text-align: center; border: 2px solid gold;\n",
       "    \"></td>\n",
       "<td style=\"width: 20px; height: 18px; background-color: lemonChiffon;\n",
       "        font-weight: bold; font-size: 18px; text-align: center; border: 2px solid gold;\n",
       "    \"></td>\n",
       "</tr>\n",
       "</table>"
      ],
      "text/plain": [
       "<IPython.core.display.HTML object>"
      ]
     },
     "metadata": {},
     "output_type": "display_data"
    }
   ],
   "source": [
    "affiche_grille(g)"
   ]
  },
  {
   "cell_type": "markdown",
   "metadata": {},
   "source": [
    "---\n",
    "\n"
   ]
  },
  {
   "cell_type": "markdown",
   "metadata": {},
   "source": [
    "Écrire une fonction ```nouvelle_grille()``` renvoyant une nouvelle grille de P4."
   ]
  },
  {
   "cell_type": "code",
   "execution_count": 4,
   "metadata": {},
   "outputs": [],
   "source": [
    "def nouvelle_grille():\n",
    "    \"\"\"Écrire la documentation de la fonction ici\"\"\"\n",
    "\n",
    "    pass # Écrire votre code ici"
   ]
  },
  {
   "cell_type": "code",
   "execution_count": 5,
   "metadata": {},
   "outputs": [],
   "source": [
    "# Testez votre fonction ici\n"
   ]
  },
  {
   "cell_type": "markdown",
   "metadata": {},
   "source": [
    "---\n",
    "#### Exercice 2"
   ]
  },
  {
   "cell_type": "markdown",
   "metadata": {},
   "source": [
    "Écrire une fonction ```hauteur_pion(grille, colonne)``` prenant en paramètres une grille de P4 valide et un numéro de colonne (compris entre 0 et 6), et renvoyant la hauteur à laquelle un nouveau pion sera rajouté s'il était joué dans cette colonne.\n",
    "\n",
    "La hauteur renvoyée sera comprise entre 0 (position la plus basse) et 5 (position la plus haute).\n",
    "\n",
    "Si la colonne est pleine, la fonction renvoie la valeur -1 qui signale une erreur."
   ]
  },
  {
   "cell_type": "code",
   "execution_count": 6,
   "metadata": {},
   "outputs": [],
   "source": [
    "def hauteur_pion(grille, colonne):\n",
    "    pass # Écrire votre code ici"
   ]
  },
  {
   "cell_type": "markdown",
   "metadata": {},
   "source": [
    "---\n",
    "#### Exercice 3\n",
    "\n",
    "Écrire une fonction ```coups_disponibles(grille)``` renvoyant la liste de indices des colonnes pour lesquelles un coup reste disponible (c'est-à-dire les colonnes qui ne sont pas pleines)."
   ]
  },
  {
   "cell_type": "code",
   "execution_count": 7,
   "metadata": {},
   "outputs": [],
   "source": [
    "def coups_disponibles(grille):\n",
    "    pass # Écrire votre code ici"
   ]
  },
  {
   "cell_type": "code",
   "execution_count": 8,
   "metadata": {},
   "outputs": [],
   "source": [
    "# Testez votre fonction ici\n"
   ]
  },
  {
   "cell_type": "markdown",
   "metadata": {},
   "source": [
    "---\n",
    "#### Exercice 4\n",
    "\n",
    "Écrire une fonction ```joue_coup(grille, colonne, joueur)``` prenant pour paramètres une grille valide, un numéro de colonne (entre 0 et 6) et un joueur (1 ou 2). \n",
    "\n",
    "Cette fonction place le pion correspondant au joueur dans la grille, à la bonne hauteur dans la colonne correspondante.\n",
    "\n",
    "La grille est modifiée en place; cette fonction ne renvoie aucune valeur.\n",
    "\n",
    "Déclenche une erreur si la colonne est déjà pleine (utilisez une assertion)."
   ]
  },
  {
   "cell_type": "code",
   "execution_count": 9,
   "metadata": {},
   "outputs": [],
   "source": [
    "def joue_coup(grille, colonne, joueur):\n",
    "    pass # Écrire votre code ici"
   ]
  },
  {
   "cell_type": "code",
   "execution_count": 10,
   "metadata": {},
   "outputs": [],
   "source": [
    "# Testez votre fonction ici\n"
   ]
  },
  {
   "cell_type": "markdown",
   "metadata": {},
   "source": [
    "---\n",
    "#### Exercice 5"
   ]
  },
  {
   "cell_type": "markdown",
   "metadata": {},
   "source": [
    "Écrire une fonction ```alignement_vertical(grille, joueur)``` prenant pour paramètres une grille valide de P4 et un numéro de joueur (1 ou 2), et renvoyant ```True``` si un alignement vertical de 4 pions pour ce joueur existe dans la grille."
   ]
  },
  {
   "cell_type": "code",
   "execution_count": 11,
   "metadata": {},
   "outputs": [],
   "source": [
    "def alignement_vertical(grille, joueur):\n",
    "    pass # Écrire votre code ici"
   ]
  },
  {
   "cell_type": "markdown",
   "metadata": {},
   "source": [
    "Faire de même pour les alignements horizontaux:"
   ]
  },
  {
   "cell_type": "code",
   "execution_count": 12,
   "metadata": {},
   "outputs": [],
   "source": [
    "def alignement_horizontal(grille, joueur):\n",
    "    pass # Écrire votre code ici"
   ]
  },
  {
   "cell_type": "markdown",
   "metadata": {},
   "source": [
    "... puis les alignements en diagonale (attention, il y a 2 directions diagonales différentes):"
   ]
  },
  {
   "cell_type": "code",
   "execution_count": 13,
   "metadata": {},
   "outputs": [],
   "source": [
    "def alignement_diagonal(grille, joueur):\n",
    "    pass # Écrire votre code ici"
   ]
  },
  {
   "cell_type": "markdown",
   "metadata": {},
   "source": [
    "---\n",
    "#### Exercice 6\n",
    "\n",
    "Écrire une fonction testant un alignement dans une direction quelconque (horizontale, verticale ou diagonale), pour l'un ou l'autre des joueurs:"
   ]
  },
  {
   "cell_type": "code",
   "execution_count": 14,
   "metadata": {},
   "outputs": [],
   "source": [
    "def alignement(grille):\n",
    "    pass # Écrire votre code ici"
   ]
  },
  {
   "cell_type": "markdown",
   "metadata": {},
   "source": [
    "---\n",
    "#### Exercice 7"
   ]
  },
  {
   "cell_type": "markdown",
   "metadata": {},
   "source": [
    "Écrire une fonction ```score(grille)``` prenant pour paramètre une grille valide de P4 et renvoyant un score pour cette grille. Le score est calculé positivement pour le joueur 1 et négativement pour le joueur 2, comme suit: l'algorithme examine tous les alignements potentiels de 4 pions (dans les 4 directions possibles) et ajoute (ou retire) des points au score de la manière suivante:\n",
    "* un alignement de 4 pions identiques rapporte +1000 points pour le joueur 1, -1000 points pour le joueur 2;\n",
    "* un alignement de 3 pions identiques et une case vide rapporte +100 points pour le joueur 1, -100 points pour le joueur 2;\n",
    "* un alignement de 2 pions identiques et deux cases vides rapporte +10 points pour le joueur 1, -10 points pour le joueur 2;\n",
    "* un unique pion et trois cases vides rapporte +1 points pour le joueur 1, -1 points pour le joueur 2;\n",
    "* les alignements contenant à la fois des cases des deux joueurs sont tout simplement ignorés."
   ]
  },
  {
   "cell_type": "code",
   "execution_count": 15,
   "metadata": {},
   "outputs": [],
   "source": [
    "def score(grille):\n",
    "    pass # Écrire votre code ici"
   ]
  },
  {
   "cell_type": "markdown",
   "metadata": {},
   "source": [
    "---\n",
    "#### Exercice 8\n",
    "\n",
    "Écrire une IA très basique en utilisant la fonction précédente: la fonction ```meilleur_coup(grille, joueur)``` renvoie le numéro de la colonne encore disponible offrant le meilleur score en faveur du joueur passé en paramètre."
   ]
  },
  {
   "cell_type": "code",
   "execution_count": 16,
   "metadata": {},
   "outputs": [],
   "source": [
    "def meilleur_coup(grille, joueur):\n",
    "    pass"
   ]
  },
  {
   "cell_type": "markdown",
   "metadata": {},
   "source": [
    "---\n",
    "#### Exercice 9"
   ]
  },
  {
   "cell_type": "markdown",
   "metadata": {},
   "source": [
    "**Exercice beaucoup plus avancé, pour les élèves qui veulent aller plus loin**\n",
    "\n",
    "On aimerait améliorer l'IA précédente afin qu'elle raisonne plusieurs coups à l'avance. Ce type d'algorithme a été très étudié notamment pour les échecs.\n",
    "\n",
    "Inspirez-vous de la page wikipedia https://fr.wikipedia.org/wiki/Algorithme_minimax"
   ]
  },
  {
   "cell_type": "markdown",
   "metadata": {},
   "source": [
    "L'algorithme minimax peut utiliser directement la fonction ```score``` écrite plus haut. Vous pouvez aussi implémenter la variante *negamax*.\n",
    "\n",
    "Une amélioration probablement intéressante (mais il faudrait tester dans le cadre du P4) est l'élagage *alpha/beta*: https://fr.wikipedia.org/wiki/%C3%89lagage_alpha-b%C3%AAta."
   ]
  }
 ],
 "metadata": {
  "kernelspec": {
   "display_name": "Python 3",
   "language": "python",
   "name": "python3"
  },
  "language_info": {
   "codemirror_mode": {
    "name": "ipython",
    "version": 3
   },
   "file_extension": ".py",
   "mimetype": "text/x-python",
   "name": "python",
   "nbconvert_exporter": "python",
   "pygments_lexer": "ipython3",
   "version": "3.8.1"
  }
 },
 "nbformat": 4,
 "nbformat_minor": 4
}

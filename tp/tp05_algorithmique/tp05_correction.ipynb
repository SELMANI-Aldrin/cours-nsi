{
 "cells": [
  {
   "cell_type": "markdown",
   "metadata": {},
   "source": [
    "# TP 5 - Exercices en vrac"
   ]
  },
  {
   "cell_type": "markdown",
   "metadata": {},
   "source": [
    "----\n",
    "### Exercice 1"
   ]
  },
  {
   "cell_type": "markdown",
   "metadata": {},
   "source": [
    "Écrire un programme qui demande trois longueurs à l'utilisateur, indique si ces trois longueurs peuvent être les longueurs des trois côtés d'un triangle et, le cas échéant, s'il s'agit d'un triangle équilatéral, isocèle ou scalène (c'est-à-dire de longueurs différentes)."
   ]
  },
  {
   "cell_type": "code",
   "execution_count": 1,
   "metadata": {},
   "outputs": [
    {
     "name": "stdout",
     "output_type": "stream",
     "text": [
      "Un triangle de longueurs 3-4-5 existe\n"
     ]
    }
   ],
   "source": [
    "#a = int(input(\"Première longueur:\"))\n",
    "#b = int(input(\"Première longueur:\"))\n",
    "#c = int(input(\"Première longueur:\"))\n",
    "a = 3\n",
    "b = 4\n",
    "c = 5\n",
    "\n",
    "# On s'assure que les 3 inégalités triangulaires sont satisfaites:\n",
    "if a < b + c and b < a + c and c < a + b:\n",
    "    print(\"Un triangle de longueurs {}-{}-{} existe\".format(a, b, c))\n",
    "else:\n",
    "    print(\"Un triangle de longueurs {}-{}-{} est impossible\".format(a, b, c))\n"
   ]
  },
  {
   "cell_type": "markdown",
   "metadata": {},
   "source": [
    "---\n",
    "### Exercice 1 bis"
   ]
  },
  {
   "cell_type": "markdown",
   "metadata": {},
   "source": [
    "Recopier puis compléter le programme précédant afin qu'il indique aussi si le triangle est rectangle (attention, il ne faut pas oublier les triangles rectangles isocèles !)."
   ]
  },
  {
   "cell_type": "code",
   "execution_count": 2,
   "metadata": {},
   "outputs": [
    {
     "name": "stdout",
     "output_type": "stream",
     "text": [
      "Le triangle de longueurs 3-4-5 est rectangle\n"
     ]
    }
   ],
   "source": [
    "#a = int(input(\"Première longueur:\"))\n",
    "#b = int(input(\"Première longueur:\"))\n",
    "#c = int(input(\"Première longueur:\"))\n",
    "a = 3\n",
    "b = 4\n",
    "c = 5\n",
    "\n",
    "# On s'assure que les 3 inégalités triangulaires sont satisfaites:\n",
    "if a < b + c and b < a + c and c < a + b:\n",
    "    if a*a == b*b + c*c or  b*b == a*a + c*c or c*c == a*a + b*b:\n",
    "        print(\"Le triangle de longueurs {}-{}-{} est rectangle\".format(a, b, c))\n",
    "    else:\n",
    "        print(\"Le triangle de longueurs {}-{}-{} n'est pas rectangle\".format(a, b, c))\n",
    "else:\n",
    "    print(\"Un triangle de longueurs {}-{}-{} est impossible\".format(a, b, c))\n",
    "\n",
    "\n"
   ]
  },
  {
   "cell_type": "markdown",
   "metadata": {},
   "source": [
    "---\n",
    "### Exercice 2"
   ]
  },
  {
   "cell_type": "markdown",
   "metadata": {},
   "source": [
    "Écrire un programme qui demande une année à l'utilisateur et indique s'il s'agit d'une année [bissextile](https://fr.wikipedia.org/wiki/Ann%C3%A9e_bissextile)."
   ]
  },
  {
   "cell_type": "code",
   "execution_count": 3,
   "metadata": {},
   "outputs": [
    {
     "name": "stdout",
     "output_type": "stream",
     "text": [
      "L'année 2019 n'est pas bissextile\n"
     ]
    }
   ],
   "source": [
    "# a = int(input(\"Année: \"))\n",
    "a = 2019\n",
    "if (a % 4 == 0 and a % 100 != 0) or (a % 400 == 0):\n",
    "    print(\"L'année\", a, \"est bissextile\")\n",
    "else:\n",
    "    print(\"L'année\", a, \"n'est pas bissextile\")"
   ]
  },
  {
   "cell_type": "markdown",
   "metadata": {},
   "source": [
    "---\n",
    "### Exercice 3 - Le fizzbuzz"
   ]
  },
  {
   "cell_type": "markdown",
   "metadata": {},
   "source": [
    "Écrire un programme qui parcourt les entiers de 1 à 100 et affiche **fizz** lorsque l'entier est un multiple de 3, **buzz** lorsque c'est un multiple de 5 (et donc en particulier **fizzbuzz** lorsque c'est un multiple de 15), et affiche l'entier sinon.\n",
    "\n",
    "Cet exercice peut paraître ridicule (voire à la limite de la stupidité), mais c'est un grand classique des tests d'embauche dans les entreprises recrutant des informaticiens. Il est absolument édifiant de constater qu'[une majorité de candidats ne passent pas ce test quasiment trivial](https://blog.codinghorror.com/why-cant-programmers-program/)...\n"
   ]
  },
  {
   "cell_type": "code",
   "execution_count": 4,
   "metadata": {},
   "outputs": [
    {
     "name": "stdout",
     "output_type": "stream",
     "text": [
      "1 2 fizz 4 buzz fizz 7 8 fizz buzz 11 fizz 13 14 fizzbuzz 16 17 fizz 19 buzz fizz 22 23 fizz buzz 26 fizz 28 29 fizzbuzz 31 32 fizz 34 buzz fizz 37 38 fizz buzz 41 fizz 43 44 fizzbuzz 46 47 fizz 49 buzz fizz 52 53 fizz buzz 56 fizz 58 59 fizzbuzz 61 62 fizz 64 buzz fizz 67 68 fizz buzz 71 fizz 73 74 fizzbuzz 76 77 fizz 79 buzz fizz 82 83 fizz buzz 86 fizz 88 89 fizzbuzz 91 92 fizz 94 buzz fizz 97 98 fizz buzz "
     ]
    }
   ],
   "source": [
    "for i in range(1, 101):\n",
    "    if i % 15 == 0:\n",
    "        print(\"fizzbuzz\", end=\" \")\n",
    "    elif i % 5 == 0:\n",
    "        print(\"buzz\", end=\" \")\n",
    "    elif i % 3 == 0:\n",
    "        print(\"fizz\", end=\" \")\n",
    "    else:\n",
    "        print(i, end=\" \")"
   ]
  },
  {
   "cell_type": "markdown",
   "metadata": {},
   "source": [
    "---\n",
    "### Exercice 4 - Pour les élèves suivant la spécialité mathématique"
   ]
  },
  {
   "cell_type": "markdown",
   "metadata": {},
   "source": [
    "Écrire un programme permettant de résoudre les équations du second degré $$ax^2 + bx + c = 0.$$ On pourra demander à l'utilisateur les valeurs des coefficients, et bien penser à vérifier que $a\\neq 0$."
   ]
  },
  {
   "cell_type": "code",
   "execution_count": 5,
   "metadata": {},
   "outputs": [
    {
     "name": "stdout",
     "output_type": "stream",
     "text": [
      "Il y a deux racines qui sont -3.0 et -2.0\n"
     ]
    }
   ],
   "source": [
    "from math import sqrt\n",
    "\n",
    "#print(\"Veuillez entrer les coefficients du polynôme ax^2 + bx + c:\")\n",
    "#a = int(input(\"Coefficient a: \"))\n",
    "#b = int(input(\"Coefficient b:\"))\n",
    "#c = int(input(\"Coefficient c:\"))\n",
    "a = 1\n",
    "b = 5\n",
    "c = 6\n",
    "\n",
    "if a == 0:\n",
    "    print(\"Ce n'est pas un polynôme de degré 2\")\n",
    "else:\n",
    "    Delta = b*b - 4*a*c\n",
    "    if Delta > 0:\n",
    "        x1 = (-b - sqrt(Delta)) / (2*a)\n",
    "        x2 = (-b + sqrt(Delta)) / (2*a)\n",
    "        print(\"Il y a deux racines qui sont\", x1, \"et\", x2)\n",
    "    elif Delta == 0:\n",
    "        x = -b / (2*a)\n",
    "        print(\"Il y a une racine double:\", x)\n",
    "    else:\n",
    "        print(\"Il n'y a aucune racine\")"
   ]
  },
  {
   "cell_type": "markdown",
   "metadata": {},
   "source": [
    "---\n",
    "### Exercice 5"
   ]
  },
  {
   "cell_type": "markdown",
   "metadata": {},
   "source": [
    "Écrire une fonction ```bissextile(a)``` qui renvoie un booléen (```True``` ou ```False```) indiquant si l'année `a` est bissextile."
   ]
  },
  {
   "cell_type": "code",
   "execution_count": 6,
   "metadata": {},
   "outputs": [],
   "source": [
    "def bissextile(a):\n",
    "    \"\"\"Retourne True si l'année est bissextile, False sinon.\"\"\"\n",
    "    \n",
    "    return (a % 4 == 0 and a % 100 != 0) or (a % 400 == 0)"
   ]
  },
  {
   "cell_type": "markdown",
   "metadata": {},
   "source": [
    "Écrire une fonction `nombre_jours_année(a)` qui renvoie le nombre de jours de l'année `a`, en utilisant la fonction `bissextile`."
   ]
  },
  {
   "cell_type": "code",
   "execution_count": 7,
   "metadata": {},
   "outputs": [],
   "source": [
    "def nombre_jours_année(a):\n",
    "    \"\"\"Renvoie le nombre de jours de l'année 'a', en tenant compte des années bissextiles.\"\"\"\n",
    "    \n",
    "    if bissextile(a) is True:\n",
    "        return 366\n",
    "    else:\n",
    "        return 365        "
   ]
  },
  {
   "cell_type": "markdown",
   "metadata": {},
   "source": [
    "Écrire une fonction `nombre_jours_mois(a, m)` donnant le nombre de jours du mois `m` de l'année `a`. On pourra réutiliser les fonctions précédentes. On suppose que les mois sont numérotés de 1 à 12."
   ]
  },
  {
   "cell_type": "code",
   "execution_count": 8,
   "metadata": {},
   "outputs": [],
   "source": [
    "def nombre_jours_mois(a, m):\n",
    "    \"\"\"Renvoie le nombre de jours du mois de rang 'm' (entre 1 et 12) de l'année 'a',\n",
    "    en tenant compte des années bissextiles.\n",
    "    \"\"\"\n",
    "    \n",
    "    jours = [31, 28, 31, 30, 31, 30, 31, 31, 30, 31, 30, 31]\n",
    "    if bissextile(a) and m == 2:\n",
    "        return 29\n",
    "    else:\n",
    "        return jours[m - 1]"
   ]
  },
  {
   "cell_type": "markdown",
   "metadata": {},
   "source": [
    "Écrire une fonction `nombre_jours(j1, m1, a1, j2, m1, a2)` donnant le nombre de jours entre les deux dates données en paramètres (les jours sont numérotés de 1 à 31). On suppose que la première date est toujours antérieure à la seconde (on peut éventuellement échanger les dates dans le cas contraire). On réutilisera judicieusement les fonctions précédentes."
   ]
  },
  {
   "cell_type": "code",
   "execution_count": 9,
   "metadata": {},
   "outputs": [],
   "source": [
    "def nombre_jours(j1, m1, a1, j2, m2, a2):\n",
    "    \"\"\"Renvoie le nombre de jours entre les deux dates passées en paramètre (incluses).\n",
    "    \n",
    "    Les dates peuvent être données dans un ordre quelconque.\n",
    "    \"\"\"\n",
    "    \n",
    "    # On s'assure que la première date soit antérieure à la seconde,\n",
    "    # quitte à les échanger.\n",
    "    if a1 > a2 or (a1 == a2 and m1 > m2) or (a1 == a2 and m1 == m2 and j1 > j2):\n",
    "        j1, m1, a1, j2, m2, a2 = j2, m2, a2, j1, m1, a1\n",
    "\n",
    "    n1 = j1\n",
    "    for i in range(1, m1):\n",
    "        n1 = n1 + nombre_jours_mois(a1, i)\n",
    "        \n",
    "    n2 = j2\n",
    "    for i in range(1, m2):\n",
    "        n2 = n2 + nombre_jours_mois(a2, i)\n",
    "        \n",
    "    total = n2 - n1\n",
    "    for a in range(a1, a2):\n",
    "        total = total + nombre_jours_année(a)\n",
    "        \n",
    "    return total"
   ]
  },
  {
   "cell_type": "markdown",
   "metadata": {},
   "source": [
    "Et une procédure de test automatisée, en utilisant la librairie standard de python (supposée libre de toute erreur) afin de comparer les résultats:"
   ]
  },
  {
   "cell_type": "code",
   "execution_count": 10,
   "metadata": {},
   "outputs": [
    {
     "name": "stdout",
     "output_type": "stream",
     "text": [
      "Tous les tests ont été validés avec succès !\n"
     ]
    }
   ],
   "source": [
    "from random import randint\n",
    "from datetime import date\n",
    "try:\n",
    "    for _ in range(100):\n",
    "        a1 = randint(0, 3000)\n",
    "        a2 = randint(0, 3000)\n",
    "        m1 = randint(1, 12)\n",
    "        m2 = randint(1, 12)\n",
    "        j1 = randint(1, nombre_jours_mois(a1, m1))\n",
    "        j2 = randint(1, nombre_jours_mois(a2, m2))\n",
    "        d1 = date(a1, m1, j1)\n",
    "        d2 = date(a2, m2, j2)\n",
    "        assert abs((d2 - d1).days) == nombre_jours(j1, m1, a1, j2, m2, a2)\n",
    "except e:\n",
    "    raise e\n",
    "else:\n",
    "    print(\"Tous les tests ont été validés avec succès !\")"
   ]
  },
  {
   "cell_type": "markdown",
   "metadata": {},
   "source": [
    "---\n",
    "### Exercice 6"
   ]
  },
  {
   "cell_type": "markdown",
   "metadata": {},
   "source": [
    "Écrire une fonction `doublon(t)` qui prend en paramètre un tableau, et renvoie un booléen indiquant si le tableau contient ou non des doublons."
   ]
  },
  {
   "cell_type": "code",
   "execution_count": 11,
   "metadata": {},
   "outputs": [],
   "source": [
    "def doublons(t):\n",
    "    \"\"\"Renvoie True si et seulement si le tableau 't' contient des doublons.\"\"\"\n",
    "    \n",
    "    déjà_vu = []\n",
    "    for élément in t:\n",
    "        if élément in déjà_vu:\n",
    "            # On a trouvé un doublon\n",
    "            return True\n",
    "        else:\n",
    "            déjà_vu.append(élément)\n",
    "            \n",
    "    # Aucun doublon n'a été trouvé en parcourant le tableau\n",
    "    return False"
   ]
  },
  {
   "cell_type": "markdown",
   "metadata": {},
   "source": [
    "Quelques tests aléatoires:"
   ]
  },
  {
   "cell_type": "code",
   "execution_count": 12,
   "metadata": {},
   "outputs": [
    {
     "name": "stdout",
     "output_type": "stream",
     "text": [
      "Tous les tests ont été validés avec succès!\n"
     ]
    }
   ],
   "source": [
    "from random import randint\n",
    "from collections import Counter\n",
    "\n",
    "try:\n",
    "    for _ in range(100):\n",
    "        longueur = randint(0, 100)\n",
    "        t = [randint(1, longueur*25) for _ in range(longueur)]\n",
    "        cnt = Counter(t)\n",
    "        dbl = False\n",
    "        for effectif in cnt.values():\n",
    "            if effectif == 2:\n",
    "                dbl = True\n",
    "        assert dbl == doublons(t)\n",
    "except Exception as e:\n",
    "    raise e\n",
    "else:\n",
    "    print(\"Tous les tests ont été validés avec succès!\")"
   ]
  },
  {
   "cell_type": "markdown",
   "metadata": {},
   "source": [
    "---\n",
    "### Exercice 7"
   ]
  },
  {
   "cell_type": "markdown",
   "metadata": {},
   "source": [
    "Écrire une fonction `élément_commun(t1, t2)` renvoyant un booléen indiquant s'il y a un élément commun entre les tableaux `t1` et `t2`."
   ]
  },
  {
   "cell_type": "code",
   "execution_count": 13,
   "metadata": {},
   "outputs": [],
   "source": [
    "def élément_commun(t1, t2):\n",
    "    \"\"\"Renvoie True si les tableaux t1 et t2 ont au moins un élément en commun.\"\"\"\n",
    "    \n",
    "    for e1 in t1:\n",
    "        for e2 in t2:\n",
    "            if e1 == e2:\n",
    "                return True\n",
    "            \n",
    "    return False"
   ]
  },
  {
   "cell_type": "code",
   "execution_count": 14,
   "metadata": {},
   "outputs": [
    {
     "name": "stdout",
     "output_type": "stream",
     "text": [
      "Tous les tests ont été validés avec succès !\n"
     ]
    }
   ],
   "source": [
    "from random import randint\n",
    "\n",
    "try:\n",
    "    for _ in range(100):\n",
    "        l1 = randint(0, 100)\n",
    "        l2 = randint(0, 100)\n",
    "        t1 = [randint(0, 100) for _ in range(l1)]\n",
    "        t2 = [randint(0, 100) for _ in range(l2)]\n",
    "        s1 = set(t1)\n",
    "        s2 = set(t2)\n",
    "        assert (len(s1.intersection(s2)) > 0) == élément_commun(t1, t2)\n",
    "except Exception as e:\n",
    "    raise e\n",
    "else:\n",
    "    print(\"Tous les tests ont été validés avec succès !\")"
   ]
  },
  {
   "cell_type": "markdown",
   "metadata": {},
   "source": [
    "---\n",
    "### Exercice 8"
   ]
  },
  {
   "cell_type": "markdown",
   "metadata": {},
   "source": [
    "Écrire une fonction `inclusion(t1, t2)` renvoyant un booléen indiquand si le tableau `t1` est inclus dans le tableau `t2`. \n",
    "\n",
    "**Remarque:** Le cahier des charges de cet exercice est ambigü.\n",
    "\n",
    "On suppose donc que les éléments des tableaux sont uniques: ces tableaux n'ont aucun doublons, et sont donc assimilables à des ensembles.\n",
    "\n",
    "Si on admet les doublons, l'algorithme proposé ne fonctionnera pas du tout (et une solution utilisant des dictionnaires sera alors préférable)."
   ]
  },
  {
   "cell_type": "code",
   "execution_count": 15,
   "metadata": {},
   "outputs": [],
   "source": [
    "def inclusion(t1, t2):\n",
    "    for e1 in t1:\n",
    "        trouvé = False\n",
    "        for e2 in t2:\n",
    "            if e1 == e2:\n",
    "                # e1 est dans t2: on peut passer à l'élément suivant\n",
    "                trouvé = True\n",
    "                break # interrompt la boucle for e2 in t2\n",
    "                \n",
    "                # Ce break n'est pas indispensable, l'algorithme fonctionne sans. Cependant, il accélère\n",
    "                # l'exécution de la recherche: en effet, une fois que e1 a été trouvé dans t2, il est inutilé\n",
    "                # de continuer la recherche pour cet élément\n",
    "                \n",
    "        if not trouvé:\n",
    "            # e1 n'est pas dans t2\n",
    "            return False\n",
    "    \n",
    "    # Aucun return False n'a été exécuté puisque l'on arrive à ce point de la fonction:\n",
    "    # Cela signifie que tous les éléments e1 de t1 ont été trouvés dans t2\n",
    "    return True"
   ]
  },
  {
   "cell_type": "code",
   "execution_count": 16,
   "metadata": {},
   "outputs": [
    {
     "name": "stdout",
     "output_type": "stream",
     "text": [
      "Tous les tests ont été validés avec succès !\n"
     ]
    }
   ],
   "source": [
    "from random import randint, shuffle # pour mélanger un tableau\n",
    "\n",
    "try:\n",
    "    for _ in range(100):\n",
    "        l1 = randint(0, 100)\n",
    "        l2 = randint(0, 100)\n",
    "        s1 = set([randint(1, 100) for _ in range(l1)])\n",
    "        s2 = set([randint(1, 100) for _ in range(l2)])\n",
    "\n",
    "        t1 = list(s1)\n",
    "        i = list(s1.intersection(s2))\n",
    "        u = list(s1.union(s2))\n",
    "        d = list(s1.symmetric_difference(s2))\n",
    "\n",
    "        shuffle(t1)\n",
    "        shuffle(i)\n",
    "        shuffle(u)\n",
    "        shuffle(d)\n",
    "\n",
    "        assert inclusion(i, u) == True\n",
    "        assert inclusion(i, t1) == True\n",
    "        if not s1.issubset(set(d)):\n",
    "            assert inclusion(t1, d) == False\n",
    "except Exception as e:\n",
    "    raise e\n",
    "else:\n",
    "    print(\"Tous les tests ont été validés avec succès !\")"
   ]
  },
  {
   "cell_type": "markdown",
   "metadata": {},
   "source": [
    "---\n",
    "### Exercice 9"
   ]
  },
  {
   "cell_type": "markdown",
   "metadata": {},
   "source": [
    "Écrire une fonction `intersection(t1, t2)` renvoyant un tableau contenant tous les éléments communs aux tableaux passés en paramètres.\n"
   ]
  },
  {
   "cell_type": "code",
   "execution_count": 17,
   "metadata": {},
   "outputs": [],
   "source": [
    "def intersection(t1, t2):\n",
    "    \"\"\"Renvoie le tableau des éléments communs à t1 et t2. Ce tableau ne contiendra aucun doublon.\"\"\"\n",
    "    \n",
    "    inter = []\n",
    "    for e1 in t1:\n",
    "        for e2 in t2:\n",
    "            if e1 == e2:\n",
    "                déjà_vu = False\n",
    "                for ei in inter:\n",
    "                    if ei == e1:\n",
    "                        déjà_vu = True\n",
    "                if déjà_vu is False:\n",
    "                    inter.append(e1)\n",
    "                    \n",
    "    return inter\n",
    "                    "
   ]
  },
  {
   "cell_type": "code",
   "execution_count": 18,
   "metadata": {},
   "outputs": [
    {
     "name": "stdout",
     "output_type": "stream",
     "text": [
      "Tous les tests ont été validés avec succès !\n"
     ]
    }
   ],
   "source": [
    "from random import randint\n",
    "\n",
    "try:\n",
    "    for _ in range(100):\n",
    "        l1 = randint(0, 100)\n",
    "        l2 = randint(0, 100)\n",
    "        t1 = [randint(0, 100) for _ in range(l1)]\n",
    "        t2 = [randint(0, 100) for _ in range(l2)]\n",
    "        s1 = set(t1)\n",
    "        s2 = set(t2)\n",
    "        inter = s1.intersection(s2)\n",
    "        inter2 = intersection(t1, t2)\n",
    "        assert len(inter2) == len(set(inter2))\n",
    "        assert set(inter2) == inter\n",
    "except Exception as e:\n",
    "    raise e\n",
    "else:\n",
    "    print(\"Tous les tests ont été validés avec succès !\")"
   ]
  },
  {
   "cell_type": "markdown",
   "metadata": {},
   "source": [
    "---\n",
    "### Exercice 10"
   ]
  },
  {
   "cell_type": "markdown",
   "metadata": {},
   "source": [
    "Écrire un programme utilisant trois boucles imbriquées pour afficher tous les triplets d'entiers $1 \\leqslant a \\leqslant b \\leqslant c\\leqslant 100$ tels que $a^2 + b^2 = c^2$ (ces triplets sont appelés *triplets pythagoriciens* en mathématiques). Compter le nombre de tels triplets (il y en a normalement 52)."
   ]
  },
  {
   "cell_type": "code",
   "execution_count": 19,
   "metadata": {},
   "outputs": [
    {
     "name": "stdout",
     "output_type": "stream",
     "text": [
      "3 4 5\n",
      "5 12 13\n",
      "6 8 10\n",
      "7 24 25\n",
      "8 15 17\n",
      "9 12 15\n",
      "9 40 41\n",
      "10 24 26\n",
      "11 60 61\n",
      "12 16 20\n",
      "12 35 37\n",
      "13 84 85\n",
      "14 48 50\n",
      "15 20 25\n",
      "15 36 39\n",
      "16 30 34\n",
      "16 63 65\n",
      "18 24 30\n",
      "18 80 82\n",
      "20 21 29\n",
      "20 48 52\n",
      "21 28 35\n",
      "21 72 75\n",
      "24 32 40\n",
      "24 45 51\n",
      "24 70 74\n",
      "25 60 65\n",
      "27 36 45\n",
      "28 45 53\n",
      "28 96 100\n",
      "30 40 50\n",
      "30 72 78\n",
      "32 60 68\n",
      "33 44 55\n",
      "33 56 65\n",
      "35 84 91\n",
      "36 48 60\n",
      "36 77 85\n",
      "39 52 65\n",
      "39 80 89\n",
      "40 42 58\n",
      "40 75 85\n",
      "42 56 70\n",
      "45 60 75\n",
      "48 55 73\n",
      "48 64 80\n",
      "51 68 85\n",
      "54 72 90\n",
      "57 76 95\n",
      "60 63 87\n",
      "60 80 100\n",
      "65 72 97\n",
      "Nombre de triplets: 52\n"
     ]
    }
   ],
   "source": [
    "n = 0\n",
    "for a in range(1, 101):\n",
    "    for b in range(a, 101):\n",
    "        for c in range(b, 101):\n",
    "            if a*a + b*b == c*c:\n",
    "                print(a, b, c)\n",
    "                n = n + 1\n",
    "print(\"Nombre de triplets:\", n)"
   ]
  }
 ],
 "metadata": {
  "kernelspec": {
   "display_name": "Python 3",
   "language": "python",
   "name": "python3"
  },
  "language_info": {
   "codemirror_mode": {
    "name": "ipython",
    "version": 3
   },
   "file_extension": ".py",
   "mimetype": "text/x-python",
   "name": "python",
   "nbconvert_exporter": "python",
   "pygments_lexer": "ipython3",
   "version": "3.7.4"
  }
 },
 "nbformat": 4,
 "nbformat_minor": 4
}

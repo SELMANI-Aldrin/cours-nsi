{
 "cells": [
  {
   "cell_type": "markdown",
   "metadata": {},
   "source": [
    "# TP - Les fondamentaux du langage python - Partie II"
   ]
  },
  {
   "cell_type": "markdown",
   "metadata": {},
   "source": [
    "## La suite de Syracuse\n"
   ]
  },
  {
   "cell_type": "markdown",
   "metadata": {},
   "source": [
    "## Un premier programme\n",
    "\n",
    "Écrivez un programme qui, à partir d'un nombre donné, affiche tous les termes successifs de la suite de Syracuse. Le programme doit s'arrêter dès que le nombre 1 a été affiché."
   ]
  },
  {
   "cell_type": "code",
   "execution_count": 5,
   "metadata": {},
   "outputs": [
    {
     "name": "stdout",
     "output_type": "stream",
     "text": [
      "37 - 112 - 56 - 28 - 14 - 7 - 22 - 11 - 34 - 17 - 52 - 26 - 13 - 40 - 20 - 10 - 5 - 16 - 8 - 4 - 2 - 1\n"
     ]
    }
   ],
   "source": [
    "N = 37\n",
    "\n",
    "while N > 1:\n",
    "    print(N, end=\" - \")\n",
    "    if N % 2 == 0:\n",
    "        # Le nombre est pair\n",
    "        N = N // 2\n",
    "    else:\n",
    "        # Le nombre est impair\n",
    "        N = 3*N + 1\n",
    "        \n",
    "print(1)\n",
    "        "
   ]
  },
  {
   "cell_type": "markdown",
   "metadata": {},
   "source": [
    "## Amélioration: le temps de vol\n"
   ]
  },
  {
   "cell_type": "markdown",
   "metadata": {},
   "source": [
    "Améliorez votre programme précédent afin qu'il calcule (correctement) le temps de vol et l'affiche une fois le programme terminé: *Pour le nombre 14 le temps de vol est de 17*."
   ]
  },
  {
   "cell_type": "code",
   "execution_count": 4,
   "metadata": {},
   "outputs": [
    {
     "name": "stdout",
     "output_type": "stream",
     "text": [
      "14 - 7 - 22 - 11 - 34 - 17 - 52 - 26 - 13 - 40 - 20 - 10 - 5 - 16 - 8 - 4 - 2 - 1\n",
      "Temps de vol: 17\n"
     ]
    }
   ],
   "source": [
    "N = 14\n",
    "temps_de_vol = 0\n",
    "\n",
    "while N > 1:\n",
    "    print(N, end=\" - \")\n",
    "    if N % 2 == 0:\n",
    "        # Le nombre est pair\n",
    "        N = N // 2\n",
    "    else:\n",
    "        # Le nombre est impair\n",
    "        N = 3*N + 1\n",
    "        \n",
    "    temps_de_vol = temps_de_vol + 1\n",
    "        \n",
    "print(1)\n",
    "print(\"Temps de vol:\", temps_de_vol)\n",
    "        "
   ]
  },
  {
   "cell_type": "markdown",
   "metadata": {},
   "source": [
    "## Amélioration 2: l'altitude maximale\n",
    "\n",
    "On appelle **altitude maximale** le plus grand entier atteint par la suite entre le nombre de départ et l'arrivée à 1.\n",
    "\n",
    "Modifiez votre programme afin qu'il affiche l'altitude maximale en plus du temps de vol."
   ]
  },
  {
   "cell_type": "code",
   "execution_count": 6,
   "metadata": {},
   "outputs": [
    {
     "name": "stdout",
     "output_type": "stream",
     "text": [
      "14 - 7 - 22 - 11 - 34 - 17 - 52 - 26 - 13 - 40 - 20 - 10 - 5 - 16 - 8 - 4 - 2 - 1\n",
      "Temps de vol: 17\n",
      "Altitude maximale: 52\n"
     ]
    }
   ],
   "source": [
    "N = 14\n",
    "temps_de_vol = 0\n",
    "altitude_max = 0\n",
    "\n",
    "while N > 1:\n",
    "    if N > altitude_max:\n",
    "        altitude_max = N\n",
    "    print(N, end=\" - \")\n",
    "    if N % 2 == 0:\n",
    "        # Le nombre est pair\n",
    "        N = N // 2\n",
    "    else:\n",
    "        # Le nombre est impair\n",
    "        N = 3*N + 1\n",
    "        \n",
    "    temps_de_vol = temps_de_vol + 1\n",
    "        \n",
    "print(1)\n",
    "print(\"Temps de vol:\", temps_de_vol)\n",
    "print(\"Altitude maximale:\", altitude_max)\n",
    "        "
   ]
  },
  {
   "cell_type": "markdown",
   "metadata": {},
   "source": [
    "### Organisation du code avec une fonction\n",
    "\n",
    "Modifiez votre programme afin que votre code soit placé dans une fonction ```syracuse(N)``` prenant pour paramètre l'entier de départ, et renvoyant à la fois le temps de vol et l'altitude maximale."
   ]
  },
  {
   "cell_type": "code",
   "execution_count": 8,
   "metadata": {},
   "outputs": [],
   "source": [
    "def syracuse(N):\n",
    "    temps_de_vol = 0\n",
    "    altitude_max = 0\n",
    "\n",
    "    while N > 1:\n",
    "        if N > altitude_max:\n",
    "            altitude_max = N\n",
    "        if N % 2 == 0:\n",
    "            N = N // 2\n",
    "        else:\n",
    "            N = 3*N + 1\n",
    "\n",
    "        temps_de_vol = temps_de_vol + 1\n",
    "\n",
    "    return temps_de_vol, altitude_max"
   ]
  },
  {
   "cell_type": "code",
   "execution_count": 9,
   "metadata": {},
   "outputs": [
    {
     "data": {
      "text/plain": [
       "(17, 52)"
      ]
     },
     "execution_count": 9,
     "metadata": {},
     "output_type": "execute_result"
    }
   ],
   "source": [
    "syracuse(14)"
   ]
  },
  {
   "cell_type": "markdown",
   "metadata": {},
   "source": [
    "## Le plus long temps de vol\n",
    "\n",
    "On aimerait à présent connaître le nombre entier inférieur à 100 (ou 1000. ou 10000) ayant le plus grand temps de vol.\n",
    "\n",
    "Votre programme devra à présent calculer (en utilisant la fonction précédente) puis afficher les temps de vol (et aussi l'altitude maximale) pour tous les entiers compris entre 1 et 100.\n",
    "\n",
    "À la fin, votre programme devra afficher l'entier ayant le plus grand temps de vol. Si plusieurs entiers ont le même temps de vol, on affichera le *plus petit* d'entre eux."
   ]
  },
  {
   "cell_type": "code",
   "execution_count": 12,
   "metadata": {},
   "outputs": [
    {
     "name": "stdout",
     "output_type": "stream",
     "text": [
      "Entre 1 et 10000 , le temps de vol maximal est de 261 pour N= 6171\n"
     ]
    }
   ],
   "source": [
    "N_max = 10000\n",
    "\n",
    "temps_de_vol_max = 0\n",
    "n_max = 0\n",
    "for N in range(1, N_max):\n",
    "    # On met un underscore _ à la place de la variable altitude_max car on n'a pas besoin \n",
    "    # de cette variable ici. Python sait qu'il doit ignorer cette valeur, bien qu'elle soit effectivement\n",
    "    # renvoyée par la fonction syracuse\n",
    "    temps_de_vol, _ = syracuse(N)\n",
    "    if temps_de_vol > temps_de_vol_max:\n",
    "        temps_de_vol_max = temps_de_vol\n",
    "        n_max = N\n",
    "        \n",
    "print(\"Entre 1 et\", N_max, \", le temps de vol maximal est de\", temps_de_vol_max, \"pour N=\", n_max)"
   ]
  }
 ],
 "metadata": {
  "kernelspec": {
   "display_name": "Python 3",
   "language": "python",
   "name": "python3"
  },
  "language_info": {
   "codemirror_mode": {
    "name": "ipython",
    "version": 3
   },
   "file_extension": ".py",
   "mimetype": "text/x-python",
   "name": "python",
   "nbconvert_exporter": "python",
   "pygments_lexer": "ipython3",
   "version": "3.7.4"
  }
 },
 "nbformat": 4,
 "nbformat_minor": 4
}

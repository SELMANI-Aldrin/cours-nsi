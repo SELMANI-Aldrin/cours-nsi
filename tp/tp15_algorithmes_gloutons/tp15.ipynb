{
 "cells": [
  {
   "cell_type": "markdown",
   "metadata": {},
   "source": [
    "# Les algorithmes gloutons"
   ]
  },
  {
   "cell_type": "markdown",
   "metadata": {},
   "source": [
    "Les algorithmes gloutons sont une catégorie d'algorithmes utilisés pour résoudre des _problèmes d'optimisation_, c'est-à-dire des problèmes pour lesquels ont tente de trouver la meilleure réponse possible, ou du moins une réponse s'en approchant le plus possible.\n",
    "\n",
    "Il s'agit en général de problèmes pour lesquels le nombre de solutions possible est astronomiquement grand, rendant une recherche exhaustive impossible en un temps raisonnable, quelle que soit la puissance de la ou des ordinateurs utilisés.\n",
    "\n",
    "Un algorithme glouton est un algorithme où, pour trouver une solution, on procède par une successions de choix en prenant systématiquement l'option donnant la meilleure solution partielle pour passer d'une étape à la suivante.\n",
    "\n",
    "On verra sur les exemples suivants que, dans certains cas, les algorithmes gloutons donnent toujours la solution optimale, dans d'autres uniquement une solution plus ou moins proche de la meilleure, et dans certains cas pas de solution du tout."
   ]
  },
  {
   "cell_type": "markdown",
   "metadata": {},
   "source": [
    "## Problème du rendu de monnaie"
   ]
  },
  {
   "cell_type": "markdown",
   "metadata": {},
   "source": [
    "Le problème du rendu de monnaie s'énonce très simplement: un commerçant doit rendre de la monnaie à un de ses clients. Il souhaite le faire en utilisant le moins de pièces et de billets possibles. \n",
    "\n",
    "Selon les types de pièces/billets disponibles dans une monnaie donnée, l'algorithme glouton peut donner systématiquement la solution optimale ou non."
   ]
  },
  {
   "cell_type": "markdown",
   "metadata": {},
   "source": [
    "On peut démontrer (mathématiquement) que pour le système de pièces utilisé en Europe, l'algorithme glouton donne toujours la solution optimale."
   ]
  },
  {
   "cell_type": "markdown",
   "metadata": {},
   "source": [
    "### Rendu de monnaie en euros"
   ]
  },
  {
   "cell_type": "markdown",
   "metadata": {},
   "source": [
    "On travaille dans un premier temps avec les pièces/billets disponibles en euros:"
   ]
  },
  {
   "cell_type": "code",
   "execution_count": 4,
   "metadata": {},
   "outputs": [],
   "source": [
    "# On ne fait pas la distinction artificielle entre pièces et billets\n",
    "types_de_pièces_euro = [1, 2, 5, 10, 20, 50, 100, 200]"
   ]
  },
  {
   "cell_type": "markdown",
   "metadata": {},
   "source": [
    "#### Exercice 1 (programmation)"
   ]
  },
  {
   "cell_type": "markdown",
   "metadata": {},
   "source": [
    "Écrire la fonction ```rendre_monnaie(somme)``` prenant en paramètre une somme entière en euros (on ne tient pas compte des centimes), et affichant dans la console le nombre de pièces de chaque type permettant d'atteindre cette somme. Le nombre de pièces utilisé doit être minimal.\n",
    "\n",
    "On utilisera un algorithme glouton: à chaque étape, on choisira la plus grande pièce qu'il est encore possible de rendre, et on la donne au client.\n",
    "\n",
    "On procède ainsi jusqu'à ce que l'intégralité de la somme soit rendue, ou bien jusqu'à arriver à une situation impossible (la somme à rendre est non nulle mais inférieure à la valeur de la plus petite pièce)."
   ]
  },
  {
   "cell_type": "code",
   "execution_count": 5,
   "metadata": {},
   "outputs": [],
   "source": [
    "def rendre_monnaie(somme):\n",
    "    pass"
   ]
  },
  {
   "cell_type": "markdown",
   "metadata": {},
   "source": [
    "#### Exercice 2 (programmation)"
   ]
  },
  {
   "cell_type": "markdown",
   "metadata": {},
   "source": [
    "Modifier la fonction précédente de deux manières:\n",
    "* Sa signature sera ```rendre_monnaie(somme, types_pièces)```, ou le second paramètre est le tableau listant les types de pièces disponibles. On supposera que ce tableau est toujours donné dans l'ordre croissant.\n",
    "* Cette fonction n'affichera absolument rien dans la consolle, mais renverra deux valeurs (sous la forme d'un tuple):\n",
    "  * un dictionnaire donnant le nombre de pièces à rendre, pour chaque type.\n",
    "  * la somme restant à rendre à la fin de l'algorithme. Elle sera nulle si l'algorithme glouton a complètement abouti, mais pourra être stritement positive en cas d'échec (impossible avec le système Européen)."
   ]
  },
  {
   "cell_type": "markdown",
   "metadata": {},
   "source": [
    "Voici un exemple:\n",
    "```python\n",
    ">>> rendre_monnaie(83, types_pièces_euro)\n",
    "({ 1: 1, 2: 1, 5: 0, 10: 1, 20: 1, 50: 1, 100: 0, 200: 0}, 0)\n",
    "```\n",
    "\n",
    "Avec d'autres systèmes que la monnaie Européenne, il se pourrait que l'algorithme glouton ne donne pas la solution optimale:\n",
    "\n",
    "```python\n",
    ">>> rendre_monnaie(12, [1, 6, 10])\n",
    "({ 1: 2, 6: 0, 10: 1}, 0)\n",
    "```\n",
    "L'algorithme a donc donné $12 = 10 + 1 + 1$, alors que la solution optimale est $12 = 6 + 6$.\n",
    "\n",
    "On peut aussi ne pas avoir de solution du tout:\n",
    "```python\n",
    ">>> rendre_monnaie(4, [2, 3])\n",
    "({ 2: 0, 3: 1}, 1)\n",
    "```\n",
    "\n",
    "L'algorithme a donc choisi la pièce de 3 et il ne peut pas rendre la monnaie pour le reste de 1, alors que la solution $4 = 2 + 2$ existe et est optimale, mais pas découvrable par un algorithme glouton."
   ]
  },
  {
   "cell_type": "code",
   "execution_count": 1,
   "metadata": {},
   "outputs": [],
   "source": [
    "def rendre_monnaie(somme, type_pièces):\n",
    "    dico = {}\n",
    "    \n",
    "    # Écrire votre code ici\n",
    "    \n",
    "    return (dico, somme)"
   ]
  },
  {
   "cell_type": "markdown",
   "metadata": {},
   "source": [
    "#### Exercice 3 (programmation)"
   ]
  },
  {
   "cell_type": "markdown",
   "metadata": {},
   "source": [
    "Utiliser la somme précédente pour calculer le nombre maximum de pièces/billets à utiliser en Europe lorsque l'on souhaite rendre une somme entière strictement inférieure à 500€.\n",
    "\n",
    "Pour quelle somme ce nombre maximal est-il atteint ?"
   ]
  },
  {
   "cell_type": "code",
   "execution_count": 8,
   "metadata": {},
   "outputs": [],
   "source": [
    "# Écrire votre script ici\n"
   ]
  },
  {
   "cell_type": "markdown",
   "metadata": {},
   "source": [
    "## Problème du voyageur de commerce"
   ]
  },
  {
   "cell_type": "markdown",
   "metadata": {},
   "source": [
    "## Problème du sac à dos"
   ]
  },
  {
   "cell_type": "markdown",
   "metadata": {},
   "source": [
    "Arsène Lupin a devant lui un ensemble d'objets de valeurs et de poids variés. Il dispose d'un sac à dos dans lequel il pourra prendre une partie des objets (il y en a trop, il ne peut pas tout prendre dans son sac). Évidemment, il cherche à _maximiser_ la valeur totale des objets transportés.\n",
    "\n",
    "Son sac à dos ne permet pas de supporter un poids supérieur à 10kg."
   ]
  },
  {
   "cell_type": "markdown",
   "metadata": {},
   "source": [
    "Voici quelques situations:\n",
    "\n",
    "* **Situation 1**\n",
    "  * **Objet A**: 8kg / 4800€\n",
    "  * **Objet B**: 5kg / 4000€\n",
    "  * **Objet C**: 4kg / 3000€\n",
    "  * **Objet D**: 1kg / 500€\n",
    "* **Situation 2**\n",
    "  * **Objet A**: 6kg / 4800€\n",
    "  * **Objet B**: 5kg / 3500€\n",
    "  * **Objet C**: 4kg / 3000€\n",
    "  * **Objet D**: 1kg / 500€\n",
    "* **Situation 3**\n",
    "  * **Objet A**: 9kg / 8100€\n",
    "  * **Objet B**: 6kg / 7200€\n",
    "  * **Objet C**: 5kg / 5500€\n",
    "  * **Objet D**: 4kg / 4000€\n",
    "  * **Objet E**: 1kg / 800€\n",
    "* **Situation 4**\n",
    "  * **Objet A**: 7kg / 9100€\n",
    "  * **Objet B**: 6kg / 7200€\n",
    "  * **Objet C**: 4kg / 4800€\n",
    "  * **Objet D**: 3kg / 2700€\n",
    "  * **Objet E**: 2kg / 2600€\n",
    "  * **Objet F**: 1kg / 200€\n",
    "  \n"
   ]
  },
  {
   "cell_type": "markdown",
   "metadata": {},
   "source": [
    "#### Exercice 4 (à la main)\n",
    "\n",
    "1. Pour chacune de ses situations, déterminer les différentes combinaisons possibles pour rendre le sac, ainsi que la valeur correspondante.\n",
    "1. Arsène Lupin n'a que peu de temps pour choisir les objets à fourrer dans son sac. Il n'a pas matériellement le temps de tester toutes les combinaisons, et décide d'opter pour une stratégie gloutonne. Il envisage plusieurs possibilités:\n",
    "\n",
    "  1. Choisir les objets par ordre de valeur décroissante parmi ceux qui ne dépassent pas la capacité restante.\n",
    "  1. choisir les objets par ordre de poids croissant.\n",
    "  1. choisir les objets par ordre de rapport valeur/poids décroissant parmi ceux qui ne dépassent pas la capacité restante.\n",
    "\n",
    "  Appliquer chacune de ces 3 stratégies aux situations précédentes, comparer les résultats entre eux, et les comparer à la solution optimale trouvée par la recherche exhaustive précédente."
   ]
  },
  {
   "cell_type": "markdown",
   "metadata": {},
   "source": [
    "#### Exercice 5 (à la main)"
   ]
  },
  {
   "cell_type": "markdown",
   "metadata": {},
   "source": [
    "Écrire trois fonctions ```stratégieA```, ```stratégieB```, ```stratégieC```, prenant en paramètre une des situations précédente (ou une autre), et renvoyant la solution obtenie par la stratégie gloutonne adéquate.\n",
    "\n",
    "Il pourra être utile de reprendre une des fonctions de tri étudiée dans un TP précédent.\n",
    "\n",
    "Pour représenter une des situations, on pourra utiliser par exemple un tableau de tuples. Par exemple pour la situation 1:\n",
    "\n",
    "```python\n",
    "situation1 = [(8, 4800), (5, 4000), (4, 3000), (1, 500)]\n",
    "```"
   ]
  },
  {
   "cell_type": "markdown",
   "metadata": {},
   "source": [
    "## Problème de l'emploi du temps"
   ]
  },
  {
   "cell_type": "markdown",
   "metadata": {},
   "source": [
    "Supposons avoir une liste d'activités. Chacune de ces activités est associée à un créneau horaire défini par une heure de début et une heure de fin. \n",
    "\n",
    "Deux activités sont compatibles si leurs créneaux horaires ne se chevauchent pas.\n",
    "\n",
    "On souhaite sélectionner un nombre maximal d'activités dans une journée, toutes compatibles entre elles."
   ]
  },
  {
   "cell_type": "markdown",
   "metadata": {},
   "source": [
    "#### Exercice 6 (à la main)\n",
    "\n",
    "1. On se donne des activités dans les créneaux suivants: 8h-13h, 12h-17h, 9h-11h, 14h-16h, 11h-12h.\n",
    "\n",
    "  Combien de ces activités peuvent-elles être conciliées sur une seule journée ?\n",
    "  \n",
    "2. On propose d'utiliser une stratégie gloutone pour sélectionner des activités en commençant par le début de la journée: choisir l'activité dont l'heure de fin arrive le plus tôt (parmi celles dont l'heure de début est bien postérieure aux créneaux des activités déjà choisies).\n",
    "\n",
    "  Appliquer cette stratégie à la situation précédente."
   ]
  },
  {
   "cell_type": "markdown",
   "metadata": {},
   "source": [
    "#### Exercice 7 (programmation)"
   ]
  },
  {
   "cell_type": "markdown",
   "metadata": {},
   "source": [
    "On reprend le problème précédent, et on suppose que l'on a ```n``` activités numérotées de  ```0``` à ```n-1```. On a aussi deux tableaux ```début``` et ```fin``` de taille ```n```, tels que ```début[i]``` et ```fin[i]``` contiennent respectivement les heures de début et de fin de l'activité numéro ```i```.\n",
    "\n",
    "1. Écrire une fonction ```prochaine(début, fin, heure)``` qui sélectionne parmi les activités dont l'heure de début n'est pas antérieure à ```heure``` celle s'arrêtant le plut tôt.\n",
    "\n",
    "  La fonction renverra ```None``` s'il n'y a aucun créneau compatible."
   ]
  },
  {
   "cell_type": "code",
   "execution_count": 9,
   "metadata": {},
   "outputs": [],
   "source": [
    "def prochaine(début, fin, heure):\n",
    "    pass"
   ]
  },
  {
   "cell_type": "markdown",
   "metadata": {},
   "source": [
    "2. En déduire une fonction ```sélection(début, fin)``` qui, en supposant que toutes les heures sont positives, sélectionne autant d'activités que possible en suivant la stratégie gloutonne. On demandera à la fonction d'afficher les numéros des activités sélectionnées."
   ]
  },
  {
   "cell_type": "code",
   "execution_count": 10,
   "metadata": {},
   "outputs": [],
   "source": [
    "def sélection(début, fin):\n",
    "    pass"
   ]
  }
 ],
 "metadata": {
  "kernelspec": {
   "display_name": "Python 3",
   "language": "python",
   "name": "python3"
  },
  "language_info": {
   "codemirror_mode": {
    "name": "ipython",
    "version": 3
   },
   "file_extension": ".py",
   "mimetype": "text/x-python",
   "name": "python",
   "nbconvert_exporter": "python",
   "pygments_lexer": "ipython3",
   "version": "3.8.1"
  }
 },
 "nbformat": 4,
 "nbformat_minor": 4
}

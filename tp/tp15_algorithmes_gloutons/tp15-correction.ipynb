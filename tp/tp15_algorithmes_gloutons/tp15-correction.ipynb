{
 "cells": [
  {
   "cell_type": "markdown",
   "metadata": {},
   "source": [
    "# Les algorithmes gloutons"
   ]
  },
  {
   "cell_type": "markdown",
   "metadata": {},
   "source": [
    "## Problème du rendu de monnaie"
   ]
  },
  {
   "cell_type": "markdown",
   "metadata": {},
   "source": [
    "### Rendu de monnaie en euros"
   ]
  },
  {
   "cell_type": "markdown",
   "metadata": {},
   "source": [
    "On travaille dans un premier temps avec les pièces/billets disponibles en euros:"
   ]
  },
  {
   "cell_type": "code",
   "execution_count": 1,
   "metadata": {},
   "outputs": [],
   "source": [
    "# On ne fait pas la distinction artificielle entre pièces et billets\n",
    "types_de_pièces_euro = [1, 2, 5, 10, 20, 50, 100, 200]"
   ]
  },
  {
   "cell_type": "markdown",
   "metadata": {},
   "source": [
    "#### Exercice 1 (programmation)"
   ]
  },
  {
   "cell_type": "markdown",
   "metadata": {},
   "source": [
    "Pour ce premier exercice, on écrit un algorithme le plus simple possible: il ne fonctionne que pour les euros, par pour un système exotique. On examinera la version plus complète un peu plus tard.\n",
    "\n",
    "Notons qu'on utilise ici la fonction ```format``` afin de créer facilement des chaînes de caractères contenant des valeurs extraites de variables. Chaque double accolades ```{}``` sera remplacée par la valeur correspondante passée en paramètre à ```format```."
   ]
  },
  {
   "cell_type": "code",
   "execution_count": 2,
   "metadata": {},
   "outputs": [],
   "source": [
    "def rendre_monnaie(somme):\n",
    "    somme_initiale = somme\n",
    "    print(\"On veut rendre {}€.\".format(somme_initiale))     # Le {} sera remplacé par la valeur de somme\n",
    "    \n",
    "    pièces = []\n",
    "    while somme > 0:\n",
    "        if somme >= 200:\n",
    "            rendre = 200\n",
    "        elif somme >= 100:\n",
    "            rendre = 100\n",
    "        elif somme >= 50:\n",
    "            rendre = 50\n",
    "        elif somme >= 20:\n",
    "            rendre = 20\n",
    "        elif somme >= 10:\n",
    "            rendre = 10\n",
    "        elif somme >= 5:\n",
    "            rendre = 5\n",
    "        elif somme >= 2:\n",
    "            rendre = 2\n",
    "        else:\n",
    "            rendre = 1\n",
    "        \n",
    "        pièces.append(rendre)\n",
    "        print(\"On rend une pièce de {}€\".format(rendre))\n",
    "        somme = somme - rendre\n",
    "        \n",
    "    print(\"Vérification: {} = {}\".format(somme_initiale, \"+\".join([str(p) for p in pièces])))"
   ]
  },
  {
   "cell_type": "code",
   "execution_count": 3,
   "metadata": {},
   "outputs": [
    {
     "name": "stdout",
     "output_type": "stream",
     "text": [
      "On veut rendre 483€.\n",
      "On rend une pièce de 200€\n",
      "On rend une pièce de 200€\n",
      "On rend une pièce de 50€\n",
      "On rend une pièce de 20€\n",
      "On rend une pièce de 10€\n",
      "On rend une pièce de 2€\n",
      "On rend une pièce de 1€\n",
      "Vérification: 483 = 200+200+50+20+10+2+1\n"
     ]
    }
   ],
   "source": [
    "rendre_monnaie(483)"
   ]
  },
  {
   "cell_type": "markdown",
   "metadata": {},
   "source": [
    "#### Exercice 2 (programmation)"
   ]
  },
  {
   "cell_type": "markdown",
   "metadata": {},
   "source": [
    "Modifier la fonction précédente de deux manières:\n",
    "* Sa signature sera ```rendre_monnaie(somme, types_pièces)```, ou le second paramètre est le tableau listant les types de pièces disponibles. On supposera que ce tableau est toujours donné dans l'ordre croissant.\n",
    "* Cette fonction n'affichera absolument rien dans la consolle, mais renverra deux valeurs (sous la forme d'un tuple):\n",
    "  * un dictionnaire donnant le nombre de pièces à rendre, pour chaque type.\n",
    "  * la somme restant à rendre à la fin de l'algorithme. Elle sera nulle si l'algorithme glouton a complètement abouti, mais pourra être stritement positive en cas d'échec (impossible avec le système Européen)."
   ]
  },
  {
   "cell_type": "markdown",
   "metadata": {},
   "source": [
    "Voici un exemple:\n",
    "```python\n",
    ">>> rendre_monnaie(83, types_pièces_euro)\n",
    "({ 1: 1, 2: 1, 5: 0, 10: 1, 20: 1, 50: 1, 100: 0, 200: 0}, 0)\n",
    "```\n",
    "\n",
    "Avec d'autres systèmes que la monnaie Européenne, il se pourrait que l'algorithme glouton ne donne pas la solution optimale:\n",
    "\n",
    "```python\n",
    ">>> rendre_monnaie(12, [1, 6, 10])\n",
    "({ 1: 2, 6: 0, 10: 1}, 0)\n",
    "```\n",
    "L'algorithme a donc donné $12 = 10 + 1 + 1$, alors que la solution optimale est $12 = 6 + 6$.\n",
    "\n",
    "On peut aussi ne pas avoir de solution du tout:\n",
    "```python\n",
    ">>> rendre_monnaie(4, [2, 3])\n",
    "({ 2: 0, 3: 1}, 1)\n",
    "```\n",
    "\n",
    "L'algorithme a donc choisi la pièce de 3 et il ne peut pas rendre la monnaie pour le reste de 1, alors que la solution $4 = 2 + 2$ existe et est optimale, mais pas découvrable par un algorithme glouton."
   ]
  },
  {
   "cell_type": "code",
   "execution_count": 5,
   "metadata": {},
   "outputs": [],
   "source": [
    "def rendre_monnaie(somme, type_pièces):\n",
    "    dico = {}\n",
    "    \n",
    "    # L'indice de la plus grande pièce est égal à la longueur du tableau moins un:\n",
    "    indice_pièce = len(type_pièces) - 1\n",
    "    \n",
    "    # La condition d'arrêt est un peu plus compliquée: on s'arrête bien évidemment si la\n",
    "    # somme restant à rendre devient nulle. Mais on doit aussi s'arrêter si l'indice_pièce\n",
    "    # devient strictement négatif: cela signifie alors qu'il n'y a pas de pièces assez petites\n",
    "    # pour rendre la monnaie restante (par exemple il reste 1€ à rendre mais la plus petite\n",
    "    # pièce vaut 2€).\n",
    "    #\n",
    "    while somme > 0 and indice_pièce >= 0:\n",
    "        valeur_pièce = type_pièces[indice_pièce]\n",
    "        if somme >= valeur_pièce:\n",
    "            # On a trouvé une pièce assez grande, on la rend...\n",
    "            somme = somme - valeur_pièce\n",
    "            \n",
    "            # ... et on la rajoute au dictionnaire. On commence par regarder\n",
    "            # si on avait déjà rendu cette pièce auparavant:\n",
    "            if valeur_pièce in dico:\n",
    "                # On avait déjà rendu au moins une fois ce type de pièce:\n",
    "                # on en rend une de plus\n",
    "                dico[valeur_pièce] = dico[valeur_pièce] + 1\n",
    "            else:\n",
    "                # C'est la première fois que l'on rend ce type de pièce\n",
    "                dico[valeur_pièce] = 1\n",
    "        else:\n",
    "            # La pièce actuelle est trop grande: on examine la suivante (s'il en reste...)\n",
    "            indice_pièce = indice_pièce - 1\n",
    "\n",
    "    return (dico, somme)"
   ]
  },
  {
   "cell_type": "code",
   "execution_count": 7,
   "metadata": {},
   "outputs": [
    {
     "data": {
      "text/plain": [
       "({200: 2, 50: 1, 20: 1, 10: 1, 2: 1, 1: 1}, 0)"
      ]
     },
     "execution_count": 7,
     "metadata": {},
     "output_type": "execute_result"
    }
   ],
   "source": [
    "rendre_monnaie(483, types_de_pièces_euro)"
   ]
  },
  {
   "cell_type": "markdown",
   "metadata": {},
   "source": [
    "Testons les cas un peu plus exotiques indiqués dans l'énoncé:"
   ]
  },
  {
   "cell_type": "code",
   "execution_count": 9,
   "metadata": {},
   "outputs": [
    {
     "data": {
      "text/plain": [
       "({10: 1, 1: 2}, 0)"
      ]
     },
     "execution_count": 9,
     "metadata": {},
     "output_type": "execute_result"
    }
   ],
   "source": [
    "rendre_monnaie(12, [1, 6, 10])"
   ]
  },
  {
   "cell_type": "code",
   "execution_count": 11,
   "metadata": {},
   "outputs": [
    {
     "data": {
      "text/plain": [
       "({3: 1}, 1)"
      ]
     },
     "execution_count": 11,
     "metadata": {},
     "output_type": "execute_result"
    }
   ],
   "source": [
    "rendre_monnaie(4, [2, 3])"
   ]
  },
  {
   "cell_type": "markdown",
   "metadata": {},
   "source": [
    "On se rend compte que l'algorithme glouton ne fournit pas de solution complète dans ce dernier cas, bien qu'une solution existe."
   ]
  },
  {
   "cell_type": "markdown",
   "metadata": {},
   "source": [
    "#### Exercice 3 (programmation)"
   ]
  },
  {
   "cell_type": "markdown",
   "metadata": {},
   "source": [
    "Utiliser la somme précédente pour calculer le nombre maximum de pièces/billets à utiliser en Europe lorsque l'on souhaite rendre une somme entière strictement inférieure à 500€.\n",
    "\n",
    "Pour quelle somme ce nombre maximal est-il atteint ?"
   ]
  },
  {
   "cell_type": "markdown",
   "metadata": {},
   "source": [
    "On va procéder de manière très simple:\n",
    "  * On appelle la fonction précédente sur toutes les valeurs en euros jusqu'à 499€. \n",
    "  * Grâce au dictionnaire, on compte le nombre de pièces utilisées\n",
    "  * On cherche le nombre de pièces maximal grâce à l'algorithme maintenant bien connu de recherche de maximum. Comme il peut y avoir plusieurs valeurs requierant le même nombre de pièces, on les stocke toutes dans une liste."
   ]
  },
  {
   "cell_type": "code",
   "execution_count": 15,
   "metadata": {},
   "outputs": [
    {
     "name": "stdout",
     "output_type": "stream",
     "text": [
      "Il faut rendre au maximum 8 pièces, pour les valeurs 389, 398, 399, 488, 489, 498, 499.\n"
     ]
    }
   ],
   "source": [
    "# Le nombre maximal de pièce trouvé jusqu'à présent. On peut initialiser raisonnablement à 0\n",
    "nmax = 0\n",
    "\n",
    "# Un tableau stockant toutes les valeurs requierant un nombre maximal de pièces.\n",
    "valeurs_maximales = []\n",
    "\n",
    "for valeur in range(1, 500):\n",
    "    dico, restant = rendre_monnaie(valeur, types_de_pièces_euro)\n",
    "    # Les mathématiques nous disent que l'algorithme glouton \n",
    "    # DOIT fonctionner pour les euros.\n",
    "    assert restant == 0 \n",
    "    \n",
    "    nombre = 0\n",
    "    for pièce in dico:\n",
    "        # On rajoute le nombre de fois que la pièce de valeur 'pièce' a été utilisée:\n",
    "        nombre = nombre + dico[pièce]\n",
    "        \n",
    "    if nombre == nmax:\n",
    "        # On a une autre valeur ex-aequo:\n",
    "        valeurs_maximales.append(str(valeur))\n",
    "    elif nombre > nmax:\n",
    "        # On a un nouveau maximum: il faut réinitialiser le tableau des valeurs\n",
    "        # déjà trouvées:\n",
    "        nmax = nombre\n",
    "        valeurs_maximales = []\n",
    "        \n",
    "print(\"Il faut rendre au maximum {} pièces, pour les valeurs {}.\".format(nmax, \", \".join(valeurs_maximales)))\n"
   ]
  },
  {
   "cell_type": "markdown",
   "metadata": {},
   "source": [
    "## Problème du voyageur de commerce"
   ]
  },
  {
   "cell_type": "markdown",
   "metadata": {},
   "source": [
    "## Problème du sac à dos"
   ]
  },
  {
   "cell_type": "markdown",
   "metadata": {},
   "source": [
    "Voici quelques situations:\n",
    "\n",
    "* **Situation 1**\n",
    "  * **Objet A**: 8kg / 4800€\n",
    "  * **Objet B**: 5kg / 4000€\n",
    "  * **Objet C**: 4kg / 3000€\n",
    "  * **Objet D**: 1kg / 500€\n",
    "* **Situation 2**\n",
    "  * **Objet A**: 6kg / 4800€\n",
    "  * **Objet B**: 5kg / 3500€\n",
    "  * **Objet C**: 4kg / 3000€\n",
    "  * **Objet D**: 1kg / 500€\n",
    "* **Situation 3**\n",
    "  * **Objet A**: 9kg / 8100€\n",
    "  * **Objet B**: 6kg / 7200€\n",
    "  * **Objet C**: 5kg / 5500€\n",
    "  * **Objet D**: 4kg / 4000€\n",
    "  * **Objet E**: 1kg / 800€\n",
    "* **Situation 4**\n",
    "  * **Objet A**: 7kg / 9100€\n",
    "  * **Objet B**: 6kg / 7200€\n",
    "  * **Objet C**: 4kg / 4800€\n",
    "  * **Objet D**: 3kg / 2700€\n",
    "  * **Objet E**: 2kg / 2600€\n",
    "  * **Objet F**: 1kg / 200€\n",
    "  \n"
   ]
  },
  {
   "cell_type": "markdown",
   "metadata": {},
   "source": [
    "On commence par saisir les différentes valeurs dans des structures python:"
   ]
  },
  {
   "cell_type": "code",
   "execution_count": 16,
   "metadata": {},
   "outputs": [],
   "source": [
    "situation1 = { \"A\": (8, 4800), \"B\": (5, 4000), \"C\": (4, 3000), \"D\": (1, 500)}\n",
    "situation2 = { \"A\": (6, 4800), \"B\": (5, 3500), \"C\": (4, 3000), \"D\": (1, 500)}\n",
    "situation3 = { \"A\": (9, 8100), \"B\": (6, 7200), \"C\": (5, 5500), \"D\": (4, 4000), \"E\": (1, 800)}\n",
    "situation4 = { \"A\": (7, 9100), \"B\": (6, 7200), \"C\": (4, 4800), \"D\": (3, 2700), \"E\": (2, 2600), \"F\": (1, 200)}"
   ]
  },
  {
   "cell_type": "markdown",
   "metadata": {},
   "source": [
    "#### Exercice 4 (à la main)\n",
    "\n",
    "1. Pour chacune de ses situations, déterminer les différentes combinaisons possibles pour rendre le sac, ainsi que la valeur correspondante."
   ]
  },
  {
   "cell_type": "markdown",
   "metadata": {},
   "source": [
    "On propose ici deux fonctions qui recherchent **toutes** les combinaisons donnant exactement le poids demandé, et les affichant des plus chères aux moins chères.\n",
    "\n",
    "**Attention:** L'algorithme utilisé ici est *très* complexe, n'essayez surtout pas de comprendre ce code (mais je ne vais pas non plus vous l'interdire). C'est largement au-delà de ce qu'on peut raisonnablement attendre d'un élève en NSI, même si vous étiez en Terminale. Je reste cependant ouvert à toutes les questions, je ne veux bloquer personne dans sa soif de connaissances."
   ]
  },
  {
   "cell_type": "code",
   "execution_count": 76,
   "metadata": {},
   "outputs": [],
   "source": [
    "def combinaisons(situation, poids_max):\n",
    "    resultats = [[] for _ in range(poids_max + 1)]\n",
    "    \n",
    "    for objet in situation:\n",
    "        poids, valeur = situation[objet]\n",
    "        resultats[poids].append({objet: 1})\n",
    "    \n",
    "    for p in range(1, poids_max + 1):\n",
    "        for objet in situation:\n",
    "            poids, valeur = situation[objet]\n",
    "            if p - poids > 0:\n",
    "                for dico in resultats[p - poids]:\n",
    "                    \n",
    "                    copie = {}\n",
    "                    for q in dico:\n",
    "                        copie[q] = dico[q]\n",
    "                        \n",
    "                    if objet in copie:\n",
    "                        copie[objet] = copie[objet] + 1\n",
    "                    else:\n",
    "                        copie[objet] = 1\n",
    "                    resultats[p].append(copie)\n",
    "                    \n",
    "    return resultats[poids_max]"
   ]
  },
  {
   "cell_type": "code",
   "execution_count": 77,
   "metadata": {},
   "outputs": [],
   "source": [
    "def affiche_combinaisons(situation, poids_total):\n",
    "    resultats = []\n",
    "    for dico in combinaisons(situation, poids_total):\n",
    "        total = 0\n",
    "        poids = 0\n",
    "        chaîne = []\n",
    "        for objet in dico:\n",
    "            chaîne.append(\"{}x{}({}kg)\".format(dico[objet], objet, situation[objet][0]))\n",
    "            total = total + situation[objet][1]*dico[objet]\n",
    "            poids = poids + situation[objet][0]*dico[objet]\n",
    "        assert poids == poids_total\n",
    "        resultats.append((-total, \", \".join(chaîne) + \" -> {}€\".format(total)))\n",
    "    resultats.sort()\n",
    "    for _, chaîne in resultats:\n",
    "        print(chaîne)\n"
   ]
  },
  {
   "cell_type": "code",
   "execution_count": 78,
   "metadata": {},
   "outputs": [
    {
     "name": "stdout",
     "output_type": "stream",
     "text": [
      "2xB(5kg) -> 8000€\n",
      "1xB(5kg), 1xC(4kg), 1xD(1kg) -> 7500€\n",
      "1xB(5kg), 1xD(1kg), 1xC(4kg) -> 7500€\n",
      "1xC(4kg), 1xB(5kg), 1xD(1kg) -> 7500€\n",
      "1xC(4kg), 1xD(1kg), 1xB(5kg) -> 7500€\n",
      "1xD(1kg), 1xB(5kg), 1xC(4kg) -> 7500€\n",
      "1xD(1kg), 1xC(4kg), 1xB(5kg) -> 7500€\n",
      "2xC(4kg), 2xD(1kg) -> 7000€\n",
      "2xC(4kg), 2xD(1kg) -> 7000€\n",
      "2xC(4kg), 2xD(1kg) -> 7000€\n",
      "2xD(1kg), 2xC(4kg) -> 7000€\n",
      "2xD(1kg), 2xC(4kg) -> 7000€\n",
      "2xD(1kg), 2xC(4kg) -> 7000€\n",
      "1xB(5kg), 5xD(1kg) -> 6500€\n",
      "5xD(1kg), 1xB(5kg) -> 6500€\n",
      "5xD(1kg), 1xB(5kg) -> 6500€\n",
      "5xD(1kg), 1xB(5kg) -> 6500€\n",
      "5xD(1kg), 1xB(5kg) -> 6500€\n",
      "5xD(1kg), 1xB(5kg) -> 6500€\n",
      "1xC(4kg), 6xD(1kg) -> 6000€\n",
      "6xD(1kg), 1xC(4kg) -> 6000€\n",
      "6xD(1kg), 1xC(4kg) -> 6000€\n",
      "6xD(1kg), 1xC(4kg) -> 6000€\n",
      "6xD(1kg), 1xC(4kg) -> 6000€\n",
      "6xD(1kg), 1xC(4kg) -> 6000€\n",
      "6xD(1kg), 1xC(4kg) -> 6000€\n",
      "1xA(8kg), 2xD(1kg) -> 5800€\n",
      "2xD(1kg), 1xA(8kg) -> 5800€\n",
      "2xD(1kg), 1xA(8kg) -> 5800€\n",
      "10xD(1kg) -> 5000€\n"
     ]
    }
   ],
   "source": [
    "affiche_combinaisons(situation1, 10)"
   ]
  },
  {
   "cell_type": "code",
   "execution_count": 79,
   "metadata": {},
   "outputs": [
    {
     "name": "stdout",
     "output_type": "stream",
     "text": [
      "1xA(6kg), 1xC(4kg) -> 7800€\n",
      "1xC(4kg), 1xA(6kg) -> 7800€\n",
      "1xB(5kg), 1xC(4kg), 1xD(1kg) -> 7000€\n",
      "1xB(5kg), 1xD(1kg), 1xC(4kg) -> 7000€\n",
      "1xC(4kg), 1xB(5kg), 1xD(1kg) -> 7000€\n",
      "1xC(4kg), 1xD(1kg), 1xB(5kg) -> 7000€\n",
      "1xD(1kg), 1xB(5kg), 1xC(4kg) -> 7000€\n",
      "1xD(1kg), 1xC(4kg), 1xB(5kg) -> 7000€\n",
      "2xB(5kg) -> 7000€\n",
      "2xC(4kg), 2xD(1kg) -> 7000€\n",
      "2xC(4kg), 2xD(1kg) -> 7000€\n",
      "2xC(4kg), 2xD(1kg) -> 7000€\n",
      "2xD(1kg), 2xC(4kg) -> 7000€\n",
      "2xD(1kg), 2xC(4kg) -> 7000€\n",
      "2xD(1kg), 2xC(4kg) -> 7000€\n",
      "1xA(6kg), 4xD(1kg) -> 6800€\n",
      "4xD(1kg), 1xA(6kg) -> 6800€\n",
      "4xD(1kg), 1xA(6kg) -> 6800€\n",
      "4xD(1kg), 1xA(6kg) -> 6800€\n",
      "4xD(1kg), 1xA(6kg) -> 6800€\n",
      "1xB(5kg), 5xD(1kg) -> 6000€\n",
      "1xC(4kg), 6xD(1kg) -> 6000€\n",
      "5xD(1kg), 1xB(5kg) -> 6000€\n",
      "5xD(1kg), 1xB(5kg) -> 6000€\n",
      "5xD(1kg), 1xB(5kg) -> 6000€\n",
      "5xD(1kg), 1xB(5kg) -> 6000€\n",
      "5xD(1kg), 1xB(5kg) -> 6000€\n",
      "6xD(1kg), 1xC(4kg) -> 6000€\n",
      "6xD(1kg), 1xC(4kg) -> 6000€\n",
      "6xD(1kg), 1xC(4kg) -> 6000€\n",
      "6xD(1kg), 1xC(4kg) -> 6000€\n",
      "6xD(1kg), 1xC(4kg) -> 6000€\n",
      "6xD(1kg), 1xC(4kg) -> 6000€\n",
      "10xD(1kg) -> 5000€\n"
     ]
    }
   ],
   "source": [
    "affiche_combinaisons(situation2, 10)"
   ]
  },
  {
   "cell_type": "code",
   "execution_count": 80,
   "metadata": {},
   "outputs": [
    {
     "name": "stdout",
     "output_type": "stream",
     "text": [
      "1xB(6kg), 1xD(4kg) -> 11200€\n",
      "1xD(4kg), 1xB(6kg) -> 11200€\n",
      "2xC(5kg) -> 11000€\n",
      "1xB(6kg), 4xE(1kg) -> 10400€\n",
      "4xE(1kg), 1xB(6kg) -> 10400€\n",
      "4xE(1kg), 1xB(6kg) -> 10400€\n",
      "4xE(1kg), 1xB(6kg) -> 10400€\n",
      "4xE(1kg), 1xB(6kg) -> 10400€\n",
      "1xC(5kg), 1xD(4kg), 1xE(1kg) -> 10300€\n",
      "1xC(5kg), 1xE(1kg), 1xD(4kg) -> 10300€\n",
      "1xD(4kg), 1xC(5kg), 1xE(1kg) -> 10300€\n",
      "1xD(4kg), 1xE(1kg), 1xC(5kg) -> 10300€\n",
      "1xE(1kg), 1xC(5kg), 1xD(4kg) -> 10300€\n",
      "1xE(1kg), 1xD(4kg), 1xC(5kg) -> 10300€\n",
      "2xD(4kg), 2xE(1kg) -> 9600€\n",
      "2xD(4kg), 2xE(1kg) -> 9600€\n",
      "2xD(4kg), 2xE(1kg) -> 9600€\n",
      "2xE(1kg), 2xD(4kg) -> 9600€\n",
      "2xE(1kg), 2xD(4kg) -> 9600€\n",
      "2xE(1kg), 2xD(4kg) -> 9600€\n",
      "1xC(5kg), 5xE(1kg) -> 9500€\n",
      "5xE(1kg), 1xC(5kg) -> 9500€\n",
      "5xE(1kg), 1xC(5kg) -> 9500€\n",
      "5xE(1kg), 1xC(5kg) -> 9500€\n",
      "5xE(1kg), 1xC(5kg) -> 9500€\n",
      "5xE(1kg), 1xC(5kg) -> 9500€\n",
      "1xA(9kg), 1xE(1kg) -> 8900€\n",
      "1xE(1kg), 1xA(9kg) -> 8900€\n",
      "1xD(4kg), 6xE(1kg) -> 8800€\n",
      "6xE(1kg), 1xD(4kg) -> 8800€\n",
      "6xE(1kg), 1xD(4kg) -> 8800€\n",
      "6xE(1kg), 1xD(4kg) -> 8800€\n",
      "6xE(1kg), 1xD(4kg) -> 8800€\n",
      "6xE(1kg), 1xD(4kg) -> 8800€\n",
      "6xE(1kg), 1xD(4kg) -> 8800€\n",
      "10xE(1kg) -> 8000€\n"
     ]
    }
   ],
   "source": [
    "affiche_combinaisons(situation3, 10)"
   ]
  },
  {
   "cell_type": "code",
   "execution_count": 81,
   "metadata": {},
   "outputs": [
    {
     "name": "stdout",
     "output_type": "stream",
     "text": [
      "5xE(2kg) -> 13000€\n",
      "1xC(4kg), 3xE(2kg) -> 12600€\n",
      "3xE(2kg), 1xC(4kg) -> 12600€\n",
      "3xE(2kg), 1xC(4kg) -> 12600€\n",
      "3xE(2kg), 1xC(4kg) -> 12600€\n",
      "1xB(6kg), 2xE(2kg) -> 12400€\n",
      "2xE(2kg), 1xB(6kg) -> 12400€\n",
      "2xE(2kg), 1xB(6kg) -> 12400€\n",
      "1xE(2kg), 2xC(4kg) -> 12200€\n",
      "2xC(4kg), 1xE(2kg) -> 12200€\n",
      "2xC(4kg), 1xE(2kg) -> 12200€\n",
      "1xB(6kg), 1xC(4kg) -> 12000€\n",
      "1xC(4kg), 1xB(6kg) -> 12000€\n",
      "1xA(7kg), 1xE(2kg), 1xF(1kg) -> 11900€\n",
      "1xA(7kg), 1xF(1kg), 1xE(2kg) -> 11900€\n",
      "1xE(2kg), 1xA(7kg), 1xF(1kg) -> 11900€\n",
      "1xE(2kg), 1xF(1kg), 1xA(7kg) -> 11900€\n",
      "1xF(1kg), 1xA(7kg), 1xE(2kg) -> 11900€\n",
      "1xF(1kg), 1xE(2kg), 1xA(7kg) -> 11900€\n",
      "1xA(7kg), 1xD(3kg) -> 11800€\n",
      "1xD(3kg), 1xA(7kg) -> 11800€\n",
      "2xF(1kg), 4xE(2kg) -> 10800€\n",
      "2xF(1kg), 4xE(2kg) -> 10800€\n",
      "2xF(1kg), 4xE(2kg) -> 10800€\n",
      "2xF(1kg), 4xE(2kg) -> 10800€\n",
      "2xF(1kg), 4xE(2kg) -> 10800€\n",
      "4xE(2kg), 2xF(1kg) -> 10800€\n",
      "4xE(2kg), 2xF(1kg) -> 10800€\n",
      "4xE(2kg), 2xF(1kg) -> 10800€\n",
      "4xE(2kg), 2xF(1kg) -> 10800€\n",
      "4xE(2kg), 2xF(1kg) -> 10800€\n",
      "4xE(2kg), 2xF(1kg) -> 10800€\n",
      "4xE(2kg), 2xF(1kg) -> 10800€\n",
      "4xE(2kg), 2xF(1kg) -> 10800€\n",
      "4xE(2kg), 2xF(1kg) -> 10800€\n",
      "4xE(2kg), 2xF(1kg) -> 10800€\n",
      "1xD(3kg), 1xF(1kg), 3xE(2kg) -> 10700€\n",
      "1xD(3kg), 3xE(2kg), 1xF(1kg) -> 10700€\n",
      "1xD(3kg), 3xE(2kg), 1xF(1kg) -> 10700€\n",
      "1xD(3kg), 3xE(2kg), 1xF(1kg) -> 10700€\n",
      "1xF(1kg), 1xD(3kg), 3xE(2kg) -> 10700€\n",
      "1xF(1kg), 3xE(2kg), 1xD(3kg) -> 10700€\n",
      "1xF(1kg), 3xE(2kg), 1xD(3kg) -> 10700€\n",
      "1xF(1kg), 3xE(2kg), 1xD(3kg) -> 10700€\n",
      "3xE(2kg), 1xD(3kg), 1xF(1kg) -> 10700€\n",
      "3xE(2kg), 1xD(3kg), 1xF(1kg) -> 10700€\n",
      "3xE(2kg), 1xD(3kg), 1xF(1kg) -> 10700€\n",
      "3xE(2kg), 1xD(3kg), 1xF(1kg) -> 10700€\n",
      "3xE(2kg), 1xD(3kg), 1xF(1kg) -> 10700€\n",
      "3xE(2kg), 1xD(3kg), 1xF(1kg) -> 10700€\n",
      "3xE(2kg), 1xF(1kg), 1xD(3kg) -> 10700€\n",
      "3xE(2kg), 1xF(1kg), 1xD(3kg) -> 10700€\n",
      "3xE(2kg), 1xF(1kg), 1xD(3kg) -> 10700€\n",
      "3xE(2kg), 1xF(1kg), 1xD(3kg) -> 10700€\n",
      "3xE(2kg), 1xF(1kg), 1xD(3kg) -> 10700€\n",
      "3xE(2kg), 1xF(1kg), 1xD(3kg) -> 10700€\n",
      "2xD(3kg), 2xE(2kg) -> 10600€\n",
      "2xD(3kg), 2xE(2kg) -> 10600€\n",
      "2xD(3kg), 2xE(2kg) -> 10600€\n",
      "2xE(2kg), 2xD(3kg) -> 10600€\n",
      "2xE(2kg), 2xD(3kg) -> 10600€\n",
      "2xE(2kg), 2xD(3kg) -> 10600€\n",
      "1xC(4kg), 2xE(2kg), 2xF(1kg) -> 10400€\n",
      "1xC(4kg), 2xE(2kg), 2xF(1kg) -> 10400€\n",
      "1xC(4kg), 2xE(2kg), 2xF(1kg) -> 10400€\n",
      "1xC(4kg), 2xF(1kg), 2xE(2kg) -> 10400€\n",
      "1xC(4kg), 2xF(1kg), 2xE(2kg) -> 10400€\n",
      "1xC(4kg), 2xF(1kg), 2xE(2kg) -> 10400€\n",
      "2xE(2kg), 1xC(4kg), 2xF(1kg) -> 10400€\n",
      "2xE(2kg), 1xC(4kg), 2xF(1kg) -> 10400€\n",
      "2xE(2kg), 1xC(4kg), 2xF(1kg) -> 10400€\n",
      "2xE(2kg), 1xC(4kg), 2xF(1kg) -> 10400€\n",
      "2xE(2kg), 2xF(1kg), 1xC(4kg) -> 10400€\n",
      "2xE(2kg), 2xF(1kg), 1xC(4kg) -> 10400€\n",
      "2xE(2kg), 2xF(1kg), 1xC(4kg) -> 10400€\n",
      "2xE(2kg), 2xF(1kg), 1xC(4kg) -> 10400€\n",
      "2xE(2kg), 2xF(1kg), 1xC(4kg) -> 10400€\n",
      "2xE(2kg), 2xF(1kg), 1xC(4kg) -> 10400€\n",
      "2xE(2kg), 2xF(1kg), 1xC(4kg) -> 10400€\n",
      "2xE(2kg), 2xF(1kg), 1xC(4kg) -> 10400€\n",
      "2xF(1kg), 1xC(4kg), 2xE(2kg) -> 10400€\n",
      "2xF(1kg), 1xC(4kg), 2xE(2kg) -> 10400€\n",
      "2xF(1kg), 1xC(4kg), 2xE(2kg) -> 10400€\n",
      "2xF(1kg), 1xC(4kg), 2xE(2kg) -> 10400€\n",
      "2xF(1kg), 2xE(2kg), 1xC(4kg) -> 10400€\n",
      "2xF(1kg), 2xE(2kg), 1xC(4kg) -> 10400€\n",
      "2xF(1kg), 2xE(2kg), 1xC(4kg) -> 10400€\n",
      "2xF(1kg), 2xE(2kg), 1xC(4kg) -> 10400€\n",
      "2xF(1kg), 2xE(2kg), 1xC(4kg) -> 10400€\n",
      "2xF(1kg), 2xE(2kg), 1xC(4kg) -> 10400€\n",
      "2xF(1kg), 2xE(2kg), 1xC(4kg) -> 10400€\n",
      "2xF(1kg), 2xE(2kg), 1xC(4kg) -> 10400€\n",
      "1xC(4kg), 1xD(3kg), 1xE(2kg), 1xF(1kg) -> 10300€\n",
      "1xC(4kg), 1xD(3kg), 1xF(1kg), 1xE(2kg) -> 10300€\n",
      "1xC(4kg), 1xE(2kg), 1xD(3kg), 1xF(1kg) -> 10300€\n",
      "1xC(4kg), 1xE(2kg), 1xF(1kg), 1xD(3kg) -> 10300€\n",
      "1xC(4kg), 1xF(1kg), 1xD(3kg), 1xE(2kg) -> 10300€\n",
      "1xC(4kg), 1xF(1kg), 1xE(2kg), 1xD(3kg) -> 10300€\n",
      "1xD(3kg), 1xC(4kg), 1xE(2kg), 1xF(1kg) -> 10300€\n",
      "1xD(3kg), 1xC(4kg), 1xF(1kg), 1xE(2kg) -> 10300€\n",
      "1xD(3kg), 1xE(2kg), 1xC(4kg), 1xF(1kg) -> 10300€\n",
      "1xD(3kg), 1xE(2kg), 1xF(1kg), 1xC(4kg) -> 10300€\n",
      "1xD(3kg), 1xF(1kg), 1xC(4kg), 1xE(2kg) -> 10300€\n",
      "1xD(3kg), 1xF(1kg), 1xE(2kg), 1xC(4kg) -> 10300€\n",
      "1xE(2kg), 1xC(4kg), 1xD(3kg), 1xF(1kg) -> 10300€\n",
      "1xE(2kg), 1xC(4kg), 1xF(1kg), 1xD(3kg) -> 10300€\n",
      "1xE(2kg), 1xD(3kg), 1xC(4kg), 1xF(1kg) -> 10300€\n",
      "1xE(2kg), 1xD(3kg), 1xF(1kg), 1xC(4kg) -> 10300€\n",
      "1xE(2kg), 1xF(1kg), 1xC(4kg), 1xD(3kg) -> 10300€\n",
      "1xE(2kg), 1xF(1kg), 1xD(3kg), 1xC(4kg) -> 10300€\n",
      "1xF(1kg), 1xC(4kg), 1xD(3kg), 1xE(2kg) -> 10300€\n",
      "1xF(1kg), 1xC(4kg), 1xE(2kg), 1xD(3kg) -> 10300€\n",
      "1xF(1kg), 1xD(3kg), 1xC(4kg), 1xE(2kg) -> 10300€\n",
      "1xF(1kg), 1xD(3kg), 1xE(2kg), 1xC(4kg) -> 10300€\n",
      "1xF(1kg), 1xE(2kg), 1xC(4kg), 1xD(3kg) -> 10300€\n",
      "1xF(1kg), 1xE(2kg), 1xD(3kg), 1xC(4kg) -> 10300€\n",
      "1xB(6kg), 1xE(2kg), 2xF(1kg) -> 10200€\n",
      "1xB(6kg), 2xF(1kg), 1xE(2kg) -> 10200€\n",
      "1xB(6kg), 2xF(1kg), 1xE(2kg) -> 10200€\n",
      "1xC(4kg), 2xD(3kg) -> 10200€\n",
      "1xE(2kg), 1xB(6kg), 2xF(1kg) -> 10200€\n",
      "1xE(2kg), 2xF(1kg), 1xB(6kg) -> 10200€\n",
      "1xE(2kg), 2xF(1kg), 1xB(6kg) -> 10200€\n",
      "2xD(3kg), 1xC(4kg) -> 10200€\n",
      "2xD(3kg), 1xC(4kg) -> 10200€\n",
      "2xF(1kg), 1xB(6kg), 1xE(2kg) -> 10200€\n",
      "2xF(1kg), 1xB(6kg), 1xE(2kg) -> 10200€\n",
      "2xF(1kg), 1xB(6kg), 1xE(2kg) -> 10200€\n",
      "2xF(1kg), 1xE(2kg), 1xB(6kg) -> 10200€\n",
      "2xF(1kg), 1xE(2kg), 1xB(6kg) -> 10200€\n",
      "2xF(1kg), 1xE(2kg), 1xB(6kg) -> 10200€\n",
      "1xB(6kg), 1xD(3kg), 1xF(1kg) -> 10100€\n",
      "1xB(6kg), 1xF(1kg), 1xD(3kg) -> 10100€\n",
      "1xD(3kg), 1xB(6kg), 1xF(1kg) -> 10100€\n",
      "1xD(3kg), 1xF(1kg), 1xB(6kg) -> 10100€\n",
      "1xF(1kg), 1xB(6kg), 1xD(3kg) -> 10100€\n",
      "1xF(1kg), 1xD(3kg), 1xB(6kg) -> 10100€\n",
      "2xC(4kg), 2xF(1kg) -> 10000€\n",
      "2xC(4kg), 2xF(1kg) -> 10000€\n",
      "2xC(4kg), 2xF(1kg) -> 10000€\n",
      "2xF(1kg), 2xC(4kg) -> 10000€\n",
      "2xF(1kg), 2xC(4kg) -> 10000€\n",
      "2xF(1kg), 2xC(4kg) -> 10000€\n",
      "1xA(7kg), 3xF(1kg) -> 9700€\n",
      "3xF(1kg), 1xA(7kg) -> 9700€\n",
      "3xF(1kg), 1xA(7kg) -> 9700€\n",
      "3xF(1kg), 1xA(7kg) -> 9700€\n",
      "3xE(2kg), 4xF(1kg) -> 8600€\n",
      "3xE(2kg), 4xF(1kg) -> 8600€\n",
      "3xE(2kg), 4xF(1kg) -> 8600€\n",
      "3xE(2kg), 4xF(1kg) -> 8600€\n",
      "3xE(2kg), 4xF(1kg) -> 8600€\n",
      "3xE(2kg), 4xF(1kg) -> 8600€\n",
      "3xE(2kg), 4xF(1kg) -> 8600€\n",
      "3xE(2kg), 4xF(1kg) -> 8600€\n",
      "3xE(2kg), 4xF(1kg) -> 8600€\n",
      "3xE(2kg), 4xF(1kg) -> 8600€\n",
      "3xE(2kg), 4xF(1kg) -> 8600€\n",
      "3xE(2kg), 4xF(1kg) -> 8600€\n",
      "3xE(2kg), 4xF(1kg) -> 8600€\n",
      "3xE(2kg), 4xF(1kg) -> 8600€\n",
      "3xE(2kg), 4xF(1kg) -> 8600€\n",
      "4xF(1kg), 3xE(2kg) -> 8600€\n",
      "4xF(1kg), 3xE(2kg) -> 8600€\n",
      "4xF(1kg), 3xE(2kg) -> 8600€\n",
      "4xF(1kg), 3xE(2kg) -> 8600€\n",
      "4xF(1kg), 3xE(2kg) -> 8600€\n",
      "4xF(1kg), 3xE(2kg) -> 8600€\n",
      "4xF(1kg), 3xE(2kg) -> 8600€\n",
      "4xF(1kg), 3xE(2kg) -> 8600€\n",
      "4xF(1kg), 3xE(2kg) -> 8600€\n",
      "4xF(1kg), 3xE(2kg) -> 8600€\n",
      "4xF(1kg), 3xE(2kg) -> 8600€\n",
      "4xF(1kg), 3xE(2kg) -> 8600€\n",
      "4xF(1kg), 3xE(2kg) -> 8600€\n",
      "4xF(1kg), 3xE(2kg) -> 8600€\n",
      "4xF(1kg), 3xE(2kg) -> 8600€\n",
      "4xF(1kg), 3xE(2kg) -> 8600€\n",
      "4xF(1kg), 3xE(2kg) -> 8600€\n",
      "4xF(1kg), 3xE(2kg) -> 8600€\n",
      "4xF(1kg), 3xE(2kg) -> 8600€\n",
      "4xF(1kg), 3xE(2kg) -> 8600€\n",
      "1xD(3kg), 2xE(2kg), 3xF(1kg) -> 8500€\n",
      "1xD(3kg), 2xE(2kg), 3xF(1kg) -> 8500€\n",
      "1xD(3kg), 2xE(2kg), 3xF(1kg) -> 8500€\n",
      "1xD(3kg), 2xE(2kg), 3xF(1kg) -> 8500€\n",
      "1xD(3kg), 3xF(1kg), 2xE(2kg) -> 8500€\n",
      "1xD(3kg), 3xF(1kg), 2xE(2kg) -> 8500€\n",
      "1xD(3kg), 3xF(1kg), 2xE(2kg) -> 8500€\n",
      "1xD(3kg), 3xF(1kg), 2xE(2kg) -> 8500€\n",
      "1xD(3kg), 3xF(1kg), 2xE(2kg) -> 8500€\n",
      "1xD(3kg), 3xF(1kg), 2xE(2kg) -> 8500€\n",
      "2xE(2kg), 1xD(3kg), 3xF(1kg) -> 8500€\n",
      "2xE(2kg), 1xD(3kg), 3xF(1kg) -> 8500€\n",
      "2xE(2kg), 1xD(3kg), 3xF(1kg) -> 8500€\n",
      "2xE(2kg), 1xD(3kg), 3xF(1kg) -> 8500€\n",
      "2xE(2kg), 1xD(3kg), 3xF(1kg) -> 8500€\n",
      "2xE(2kg), 3xF(1kg), 1xD(3kg) -> 8500€\n",
      "2xE(2kg), 3xF(1kg), 1xD(3kg) -> 8500€\n",
      "2xE(2kg), 3xF(1kg), 1xD(3kg) -> 8500€\n",
      "2xE(2kg), 3xF(1kg), 1xD(3kg) -> 8500€\n",
      "2xE(2kg), 3xF(1kg), 1xD(3kg) -> 8500€\n",
      "2xE(2kg), 3xF(1kg), 1xD(3kg) -> 8500€\n",
      "2xE(2kg), 3xF(1kg), 1xD(3kg) -> 8500€\n",
      "2xE(2kg), 3xF(1kg), 1xD(3kg) -> 8500€\n",
      "2xE(2kg), 3xF(1kg), 1xD(3kg) -> 8500€\n",
      "2xE(2kg), 3xF(1kg), 1xD(3kg) -> 8500€\n",
      "2xE(2kg), 3xF(1kg), 1xD(3kg) -> 8500€\n",
      "2xE(2kg), 3xF(1kg), 1xD(3kg) -> 8500€\n",
      "2xE(2kg), 3xF(1kg), 1xD(3kg) -> 8500€\n",
      "2xE(2kg), 3xF(1kg), 1xD(3kg) -> 8500€\n",
      "2xE(2kg), 3xF(1kg), 1xD(3kg) -> 8500€\n",
      "3xF(1kg), 1xD(3kg), 2xE(2kg) -> 8500€\n",
      "3xF(1kg), 1xD(3kg), 2xE(2kg) -> 8500€\n",
      "3xF(1kg), 1xD(3kg), 2xE(2kg) -> 8500€\n",
      "3xF(1kg), 1xD(3kg), 2xE(2kg) -> 8500€\n",
      "3xF(1kg), 1xD(3kg), 2xE(2kg) -> 8500€\n",
      "3xF(1kg), 1xD(3kg), 2xE(2kg) -> 8500€\n",
      "3xF(1kg), 1xD(3kg), 2xE(2kg) -> 8500€\n",
      "3xF(1kg), 1xD(3kg), 2xE(2kg) -> 8500€\n",
      "3xF(1kg), 1xD(3kg), 2xE(2kg) -> 8500€\n",
      "3xF(1kg), 1xD(3kg), 2xE(2kg) -> 8500€\n",
      "3xF(1kg), 2xE(2kg), 1xD(3kg) -> 8500€\n",
      "3xF(1kg), 2xE(2kg), 1xD(3kg) -> 8500€\n",
      "3xF(1kg), 2xE(2kg), 1xD(3kg) -> 8500€\n",
      "3xF(1kg), 2xE(2kg), 1xD(3kg) -> 8500€\n",
      "3xF(1kg), 2xE(2kg), 1xD(3kg) -> 8500€\n",
      "3xF(1kg), 2xE(2kg), 1xD(3kg) -> 8500€\n",
      "3xF(1kg), 2xE(2kg), 1xD(3kg) -> 8500€\n",
      "3xF(1kg), 2xE(2kg), 1xD(3kg) -> 8500€\n",
      "3xF(1kg), 2xE(2kg), 1xD(3kg) -> 8500€\n",
      "3xF(1kg), 2xE(2kg), 1xD(3kg) -> 8500€\n",
      "3xF(1kg), 2xE(2kg), 1xD(3kg) -> 8500€\n",
      "3xF(1kg), 2xE(2kg), 1xD(3kg) -> 8500€\n",
      "3xF(1kg), 2xE(2kg), 1xD(3kg) -> 8500€\n",
      "3xF(1kg), 2xE(2kg), 1xD(3kg) -> 8500€\n",
      "3xF(1kg), 2xE(2kg), 1xD(3kg) -> 8500€\n",
      "3xF(1kg), 2xE(2kg), 1xD(3kg) -> 8500€\n",
      "3xF(1kg), 2xE(2kg), 1xD(3kg) -> 8500€\n",
      "3xF(1kg), 2xE(2kg), 1xD(3kg) -> 8500€\n",
      "3xF(1kg), 2xE(2kg), 1xD(3kg) -> 8500€\n",
      "3xF(1kg), 2xE(2kg), 1xD(3kg) -> 8500€\n",
      "1xE(2kg), 2xD(3kg), 2xF(1kg) -> 8400€\n",
      "1xE(2kg), 2xD(3kg), 2xF(1kg) -> 8400€\n",
      "1xE(2kg), 2xD(3kg), 2xF(1kg) -> 8400€\n",
      "1xE(2kg), 2xF(1kg), 2xD(3kg) -> 8400€\n",
      "1xE(2kg), 2xF(1kg), 2xD(3kg) -> 8400€\n",
      "1xE(2kg), 2xF(1kg), 2xD(3kg) -> 8400€\n",
      "2xD(3kg), 1xE(2kg), 2xF(1kg) -> 8400€\n",
      "2xD(3kg), 1xE(2kg), 2xF(1kg) -> 8400€\n",
      "2xD(3kg), 1xE(2kg), 2xF(1kg) -> 8400€\n",
      "2xD(3kg), 1xE(2kg), 2xF(1kg) -> 8400€\n",
      "2xD(3kg), 2xF(1kg), 1xE(2kg) -> 8400€\n",
      "2xD(3kg), 2xF(1kg), 1xE(2kg) -> 8400€\n",
      "2xD(3kg), 2xF(1kg), 1xE(2kg) -> 8400€\n",
      "2xD(3kg), 2xF(1kg), 1xE(2kg) -> 8400€\n",
      "2xD(3kg), 2xF(1kg), 1xE(2kg) -> 8400€\n",
      "2xD(3kg), 2xF(1kg), 1xE(2kg) -> 8400€\n",
      "2xD(3kg), 2xF(1kg), 1xE(2kg) -> 8400€\n",
      "2xD(3kg), 2xF(1kg), 1xE(2kg) -> 8400€\n",
      "2xF(1kg), 1xE(2kg), 2xD(3kg) -> 8400€\n",
      "2xF(1kg), 1xE(2kg), 2xD(3kg) -> 8400€\n",
      "2xF(1kg), 1xE(2kg), 2xD(3kg) -> 8400€\n",
      "2xF(1kg), 1xE(2kg), 2xD(3kg) -> 8400€\n",
      "2xF(1kg), 2xD(3kg), 1xE(2kg) -> 8400€\n",
      "2xF(1kg), 2xD(3kg), 1xE(2kg) -> 8400€\n",
      "2xF(1kg), 2xD(3kg), 1xE(2kg) -> 8400€\n",
      "2xF(1kg), 2xD(3kg), 1xE(2kg) -> 8400€\n",
      "2xF(1kg), 2xD(3kg), 1xE(2kg) -> 8400€\n",
      "2xF(1kg), 2xD(3kg), 1xE(2kg) -> 8400€\n",
      "2xF(1kg), 2xD(3kg), 1xE(2kg) -> 8400€\n",
      "2xF(1kg), 2xD(3kg), 1xE(2kg) -> 8400€\n",
      "1xF(1kg), 3xD(3kg) -> 8300€\n",
      "3xD(3kg), 1xF(1kg) -> 8300€\n",
      "3xD(3kg), 1xF(1kg) -> 8300€\n",
      "3xD(3kg), 1xF(1kg) -> 8300€\n",
      "1xC(4kg), 1xE(2kg), 4xF(1kg) -> 8200€\n",
      "1xC(4kg), 4xF(1kg), 1xE(2kg) -> 8200€\n",
      "1xC(4kg), 4xF(1kg), 1xE(2kg) -> 8200€\n",
      "1xC(4kg), 4xF(1kg), 1xE(2kg) -> 8200€\n",
      "1xC(4kg), 4xF(1kg), 1xE(2kg) -> 8200€\n",
      "1xE(2kg), 1xC(4kg), 4xF(1kg) -> 8200€\n",
      "1xE(2kg), 4xF(1kg), 1xC(4kg) -> 8200€\n",
      "1xE(2kg), 4xF(1kg), 1xC(4kg) -> 8200€\n",
      "1xE(2kg), 4xF(1kg), 1xC(4kg) -> 8200€\n",
      "1xE(2kg), 4xF(1kg), 1xC(4kg) -> 8200€\n",
      "4xF(1kg), 1xC(4kg), 1xE(2kg) -> 8200€\n",
      "4xF(1kg), 1xC(4kg), 1xE(2kg) -> 8200€\n",
      "4xF(1kg), 1xC(4kg), 1xE(2kg) -> 8200€\n",
      "4xF(1kg), 1xC(4kg), 1xE(2kg) -> 8200€\n",
      "4xF(1kg), 1xC(4kg), 1xE(2kg) -> 8200€\n",
      "4xF(1kg), 1xC(4kg), 1xE(2kg) -> 8200€\n",
      "4xF(1kg), 1xC(4kg), 1xE(2kg) -> 8200€\n",
      "4xF(1kg), 1xC(4kg), 1xE(2kg) -> 8200€\n",
      "4xF(1kg), 1xC(4kg), 1xE(2kg) -> 8200€\n",
      "4xF(1kg), 1xC(4kg), 1xE(2kg) -> 8200€\n",
      "4xF(1kg), 1xE(2kg), 1xC(4kg) -> 8200€\n",
      "4xF(1kg), 1xE(2kg), 1xC(4kg) -> 8200€\n",
      "4xF(1kg), 1xE(2kg), 1xC(4kg) -> 8200€\n",
      "4xF(1kg), 1xE(2kg), 1xC(4kg) -> 8200€\n",
      "4xF(1kg), 1xE(2kg), 1xC(4kg) -> 8200€\n",
      "4xF(1kg), 1xE(2kg), 1xC(4kg) -> 8200€\n",
      "4xF(1kg), 1xE(2kg), 1xC(4kg) -> 8200€\n",
      "4xF(1kg), 1xE(2kg), 1xC(4kg) -> 8200€\n",
      "4xF(1kg), 1xE(2kg), 1xC(4kg) -> 8200€\n",
      "4xF(1kg), 1xE(2kg), 1xC(4kg) -> 8200€\n",
      "1xC(4kg), 1xD(3kg), 3xF(1kg) -> 8100€\n",
      "1xC(4kg), 3xF(1kg), 1xD(3kg) -> 8100€\n",
      "1xC(4kg), 3xF(1kg), 1xD(3kg) -> 8100€\n",
      "1xC(4kg), 3xF(1kg), 1xD(3kg) -> 8100€\n",
      "1xD(3kg), 1xC(4kg), 3xF(1kg) -> 8100€\n",
      "1xD(3kg), 3xF(1kg), 1xC(4kg) -> 8100€\n",
      "1xD(3kg), 3xF(1kg), 1xC(4kg) -> 8100€\n",
      "1xD(3kg), 3xF(1kg), 1xC(4kg) -> 8100€\n",
      "3xF(1kg), 1xC(4kg), 1xD(3kg) -> 8100€\n",
      "3xF(1kg), 1xC(4kg), 1xD(3kg) -> 8100€\n",
      "3xF(1kg), 1xC(4kg), 1xD(3kg) -> 8100€\n",
      "3xF(1kg), 1xC(4kg), 1xD(3kg) -> 8100€\n",
      "3xF(1kg), 1xC(4kg), 1xD(3kg) -> 8100€\n",
      "3xF(1kg), 1xC(4kg), 1xD(3kg) -> 8100€\n",
      "3xF(1kg), 1xD(3kg), 1xC(4kg) -> 8100€\n",
      "3xF(1kg), 1xD(3kg), 1xC(4kg) -> 8100€\n",
      "3xF(1kg), 1xD(3kg), 1xC(4kg) -> 8100€\n",
      "3xF(1kg), 1xD(3kg), 1xC(4kg) -> 8100€\n",
      "3xF(1kg), 1xD(3kg), 1xC(4kg) -> 8100€\n",
      "3xF(1kg), 1xD(3kg), 1xC(4kg) -> 8100€\n",
      "1xB(6kg), 4xF(1kg) -> 8000€\n",
      "4xF(1kg), 1xB(6kg) -> 8000€\n",
      "4xF(1kg), 1xB(6kg) -> 8000€\n",
      "4xF(1kg), 1xB(6kg) -> 8000€\n",
      "4xF(1kg), 1xB(6kg) -> 8000€\n",
      "2xE(2kg), 6xF(1kg) -> 6400€\n",
      "2xE(2kg), 6xF(1kg) -> 6400€\n",
      "2xE(2kg), 6xF(1kg) -> 6400€\n",
      "2xE(2kg), 6xF(1kg) -> 6400€\n",
      "2xE(2kg), 6xF(1kg) -> 6400€\n",
      "2xE(2kg), 6xF(1kg) -> 6400€\n",
      "2xE(2kg), 6xF(1kg) -> 6400€\n",
      "6xF(1kg), 2xE(2kg) -> 6400€\n",
      "6xF(1kg), 2xE(2kg) -> 6400€\n",
      "6xF(1kg), 2xE(2kg) -> 6400€\n",
      "6xF(1kg), 2xE(2kg) -> 6400€\n",
      "6xF(1kg), 2xE(2kg) -> 6400€\n",
      "6xF(1kg), 2xE(2kg) -> 6400€\n",
      "6xF(1kg), 2xE(2kg) -> 6400€\n",
      "6xF(1kg), 2xE(2kg) -> 6400€\n",
      "6xF(1kg), 2xE(2kg) -> 6400€\n",
      "6xF(1kg), 2xE(2kg) -> 6400€\n",
      "6xF(1kg), 2xE(2kg) -> 6400€\n",
      "6xF(1kg), 2xE(2kg) -> 6400€\n",
      "6xF(1kg), 2xE(2kg) -> 6400€\n",
      "6xF(1kg), 2xE(2kg) -> 6400€\n",
      "6xF(1kg), 2xE(2kg) -> 6400€\n",
      "6xF(1kg), 2xE(2kg) -> 6400€\n",
      "6xF(1kg), 2xE(2kg) -> 6400€\n",
      "6xF(1kg), 2xE(2kg) -> 6400€\n",
      "6xF(1kg), 2xE(2kg) -> 6400€\n",
      "6xF(1kg), 2xE(2kg) -> 6400€\n",
      "6xF(1kg), 2xE(2kg) -> 6400€\n",
      "1xD(3kg), 1xE(2kg), 5xF(1kg) -> 6300€\n",
      "1xD(3kg), 5xF(1kg), 1xE(2kg) -> 6300€\n",
      "1xD(3kg), 5xF(1kg), 1xE(2kg) -> 6300€\n",
      "1xD(3kg), 5xF(1kg), 1xE(2kg) -> 6300€\n",
      "1xD(3kg), 5xF(1kg), 1xE(2kg) -> 6300€\n",
      "1xD(3kg), 5xF(1kg), 1xE(2kg) -> 6300€\n",
      "1xE(2kg), 1xD(3kg), 5xF(1kg) -> 6300€\n",
      "1xE(2kg), 5xF(1kg), 1xD(3kg) -> 6300€\n",
      "1xE(2kg), 5xF(1kg), 1xD(3kg) -> 6300€\n",
      "1xE(2kg), 5xF(1kg), 1xD(3kg) -> 6300€\n",
      "1xE(2kg), 5xF(1kg), 1xD(3kg) -> 6300€\n",
      "1xE(2kg), 5xF(1kg), 1xD(3kg) -> 6300€\n",
      "5xF(1kg), 1xD(3kg), 1xE(2kg) -> 6300€\n",
      "5xF(1kg), 1xD(3kg), 1xE(2kg) -> 6300€\n",
      "5xF(1kg), 1xD(3kg), 1xE(2kg) -> 6300€\n",
      "5xF(1kg), 1xD(3kg), 1xE(2kg) -> 6300€\n",
      "5xF(1kg), 1xD(3kg), 1xE(2kg) -> 6300€\n",
      "5xF(1kg), 1xD(3kg), 1xE(2kg) -> 6300€\n",
      "5xF(1kg), 1xD(3kg), 1xE(2kg) -> 6300€\n",
      "5xF(1kg), 1xD(3kg), 1xE(2kg) -> 6300€\n",
      "5xF(1kg), 1xD(3kg), 1xE(2kg) -> 6300€\n",
      "5xF(1kg), 1xD(3kg), 1xE(2kg) -> 6300€\n",
      "5xF(1kg), 1xD(3kg), 1xE(2kg) -> 6300€\n",
      "5xF(1kg), 1xD(3kg), 1xE(2kg) -> 6300€\n",
      "5xF(1kg), 1xD(3kg), 1xE(2kg) -> 6300€\n",
      "5xF(1kg), 1xD(3kg), 1xE(2kg) -> 6300€\n",
      "5xF(1kg), 1xD(3kg), 1xE(2kg) -> 6300€\n",
      "5xF(1kg), 1xE(2kg), 1xD(3kg) -> 6300€\n",
      "5xF(1kg), 1xE(2kg), 1xD(3kg) -> 6300€\n",
      "5xF(1kg), 1xE(2kg), 1xD(3kg) -> 6300€\n",
      "5xF(1kg), 1xE(2kg), 1xD(3kg) -> 6300€\n",
      "5xF(1kg), 1xE(2kg), 1xD(3kg) -> 6300€\n",
      "5xF(1kg), 1xE(2kg), 1xD(3kg) -> 6300€\n",
      "5xF(1kg), 1xE(2kg), 1xD(3kg) -> 6300€\n",
      "5xF(1kg), 1xE(2kg), 1xD(3kg) -> 6300€\n",
      "5xF(1kg), 1xE(2kg), 1xD(3kg) -> 6300€\n",
      "5xF(1kg), 1xE(2kg), 1xD(3kg) -> 6300€\n",
      "5xF(1kg), 1xE(2kg), 1xD(3kg) -> 6300€\n",
      "5xF(1kg), 1xE(2kg), 1xD(3kg) -> 6300€\n",
      "5xF(1kg), 1xE(2kg), 1xD(3kg) -> 6300€\n",
      "5xF(1kg), 1xE(2kg), 1xD(3kg) -> 6300€\n",
      "5xF(1kg), 1xE(2kg), 1xD(3kg) -> 6300€\n",
      "2xD(3kg), 4xF(1kg) -> 6200€\n",
      "2xD(3kg), 4xF(1kg) -> 6200€\n",
      "2xD(3kg), 4xF(1kg) -> 6200€\n",
      "2xD(3kg), 4xF(1kg) -> 6200€\n",
      "2xD(3kg), 4xF(1kg) -> 6200€\n",
      "4xF(1kg), 2xD(3kg) -> 6200€\n",
      "4xF(1kg), 2xD(3kg) -> 6200€\n",
      "4xF(1kg), 2xD(3kg) -> 6200€\n",
      "4xF(1kg), 2xD(3kg) -> 6200€\n",
      "4xF(1kg), 2xD(3kg) -> 6200€\n",
      "4xF(1kg), 2xD(3kg) -> 6200€\n",
      "4xF(1kg), 2xD(3kg) -> 6200€\n",
      "4xF(1kg), 2xD(3kg) -> 6200€\n",
      "4xF(1kg), 2xD(3kg) -> 6200€\n",
      "4xF(1kg), 2xD(3kg) -> 6200€\n",
      "1xC(4kg), 6xF(1kg) -> 6000€\n",
      "6xF(1kg), 1xC(4kg) -> 6000€\n",
      "6xF(1kg), 1xC(4kg) -> 6000€\n",
      "6xF(1kg), 1xC(4kg) -> 6000€\n",
      "6xF(1kg), 1xC(4kg) -> 6000€\n",
      "6xF(1kg), 1xC(4kg) -> 6000€\n",
      "6xF(1kg), 1xC(4kg) -> 6000€\n",
      "1xE(2kg), 8xF(1kg) -> 4200€\n",
      "8xF(1kg), 1xE(2kg) -> 4200€\n",
      "8xF(1kg), 1xE(2kg) -> 4200€\n",
      "8xF(1kg), 1xE(2kg) -> 4200€\n",
      "8xF(1kg), 1xE(2kg) -> 4200€\n",
      "8xF(1kg), 1xE(2kg) -> 4200€\n",
      "8xF(1kg), 1xE(2kg) -> 4200€\n",
      "8xF(1kg), 1xE(2kg) -> 4200€\n",
      "8xF(1kg), 1xE(2kg) -> 4200€\n",
      "1xD(3kg), 7xF(1kg) -> 4100€\n",
      "7xF(1kg), 1xD(3kg) -> 4100€\n",
      "7xF(1kg), 1xD(3kg) -> 4100€\n",
      "7xF(1kg), 1xD(3kg) -> 4100€\n",
      "7xF(1kg), 1xD(3kg) -> 4100€\n",
      "7xF(1kg), 1xD(3kg) -> 4100€\n",
      "7xF(1kg), 1xD(3kg) -> 4100€\n",
      "7xF(1kg), 1xD(3kg) -> 4100€\n",
      "10xF(1kg) -> 2000€\n"
     ]
    }
   ],
   "source": [
    "affiche_combinaisons(situation4, 10)"
   ]
  },
  {
   "cell_type": "markdown",
   "metadata": {},
   "source": [
    "On peut constater que, suivant les situations, les combinaisons les plus intéressantes n'utilisent pas nécessairement les objets les plus lourds. \n",
    "\n",
    "La recherche d'un algorithme glouton ne va donc pas être aisée: doit-on privilégier les objets les plus lourds ? les moins lourds ? les plus ou moins chers ? un peu des deux ?"
   ]
  },
  {
   "cell_type": "markdown",
   "metadata": {},
   "source": [
    "1. Arsène Lupin n'a que peu de temps pour choisir les objets à fourrer dans son sac. Il n'a pas matériellement le temps de tester toutes les combinaisons, et décide d'opter pour une stratégie gloutonne. Il envisage plusieurs possibilités:\n",
    "\n",
    "  1. Choisir les objets par ordre de valeur décroissante parmi ceux qui ne dépassent pas la capacité restante.\n",
    "  1. choisir les objets par ordre de poids croissant.\n",
    "  1. choisir les objets par ordre de rapport valeur/poids décroissant parmi ceux qui ne dépassent pas la capacité restante.\n",
    "\n",
    "  Appliquer chacune de ces 3 stratégies aux situations précédentes, comparer les résultats entre eux, et les comparer à la solution optimale trouvée par la recherche exhaustive précédente."
   ]
  },
  {
   "cell_type": "markdown",
   "metadata": {},
   "source": [
    "#### Exercice 5 (programmation)"
   ]
  },
  {
   "cell_type": "markdown",
   "metadata": {},
   "source": [
    "La clé pour utiliser un algorithme glouton dans une des 4 situations précédentes est de réussir à trier les objets du plus intéressant au moins intéressant, la définition d'*intéressant* dépendant des choix proposés:\n",
    "  * Dans le premier cas, on va trier les objets du plus lourd au moins lourd\n",
    "  * Dans le deuxième cas, on va trier les objets du moins lourds au plus lourd\n",
    "  * Dans le troisième cas, on va les trier par ordre descendant des rapports valeur/poids\n",
    "  \n",
    "On peut décomposer cet exercice de programmation en deux parties:\n",
    "  * Écrire trois fonctions prenant pour paramètre une des 4 situations, et retournant un tableau de tuples au format (\"Objet\", poids, valeur) trié dans le bon ordre (voir ci-dessus)\n",
    "  * Utiliser ces 3 fonctions pour implémenter un algorithme glouton. Remarquez qu'un seul algorithme glouton suffit pour les 3 stratégies, seul l'ordre du tri sera important."
   ]
  },
  {
   "cell_type": "markdown",
   "metadata": {},
   "source": [
    "En guise d'exemple, on donne la fonction de tri pour la première stratégie:"
   ]
  },
  {
   "cell_type": "code",
   "execution_count": 93,
   "metadata": {},
   "outputs": [],
   "source": [
    "def clé_de_tri_A(clé):\n",
    "    # On veut ici trier suivant l'ordre décroissant des poids\n",
    "    #\n",
    "    # On utilise l'astuce consistant à retourner des nombres négatifs afin d'inverser l'ordre\n",
    "    # naturel du tri.\n",
    "    #\n",
    "    # La fonction sort de python fonctionne exactement de la même fonction que les fonctions\n",
    "    # de tri que nous avons étudié il y a quelques temps.\n",
    "    objet, poids, valeur = clé\n",
    "    return -poids\n",
    "\n",
    "def trie_objets(situation, clé_de_tri):\n",
    "    # On commence par créer le tableau des tuples:\n",
    "    tableau = []\n",
    "    for objet in situation:\n",
    "        poids, valeur = situation[objet]\n",
    "        tableau.append((objet, poids, valeur))\n",
    "        \n",
    "    tableau.sort(key = clé_de_tri)\n",
    "    return tableau"
   ]
  },
  {
   "cell_type": "code",
   "execution_count": 95,
   "metadata": {},
   "outputs": [
    {
     "name": "stdout",
     "output_type": "stream",
     "text": [
      "[('A', 8, 4800), ('B', 5, 4000), ('C', 4, 3000), ('D', 1, 500)]\n",
      "[('A', 6, 4800), ('B', 5, 3500), ('C', 4, 3000), ('D', 1, 500)]\n",
      "[('A', 9, 8100), ('B', 6, 7200), ('C', 5, 5500), ('D', 4, 4000), ('E', 1, 800)]\n",
      "[('A', 7, 9100), ('B', 6, 7200), ('C', 4, 4800), ('D', 3, 2700), ('E', 2, 2600), ('F', 1, 200)]\n"
     ]
    }
   ],
   "source": [
    "for situation in [situation1, situation2, situation3, situation4]:\n",
    "    print(trie_objets(situation, clé_de_tri_A))"
   ]
  },
  {
   "cell_type": "markdown",
   "metadata": {},
   "source": [
    "On constate que les objets sont bien triés suivant l'ordre décroissant des poids.\n",
    "\n",
    "Il ne reste pour notre algorithme glouton plus qu'à considérer les objets dans l'ordre dans lequel ils sont rangés dans le tableau.\n",
    "\n",
    "Pour les autres stratégies, il vous suffit d'écrire les fonctions ```clé_de_tri_B``` et ```clé_de_tri_C```: les fonctions ```trie_objets``` et ```remplissage_glouton``` ne changent pas d'une stratégie à l'autre.\n",
    "\n",
    "À vous de jouer !\n",
    "\n",
    "N'oubliez pas de comparer les résultats des stratégies gloutones avec la recherche exhaustive affichée plus haut."
   ]
  },
  {
   "cell_type": "code",
   "execution_count": 96,
   "metadata": {},
   "outputs": [],
   "source": [
    "def remplissage_glouton(objets_triés, poids_max):\n",
    "    pass"
   ]
  },
  {
   "cell_type": "markdown",
   "metadata": {},
   "source": [
    "## Problème de l'emploi du temps"
   ]
  },
  {
   "cell_type": "markdown",
   "metadata": {},
   "source": [
    "Supposons avoir une liste d'activités. Chacune de ces activités est associée à un créneau horaire défini par une heure de début et une heure de fin. \n",
    "\n",
    "Deux activités sont compatibles si leurs créneaux horaires ne se chevauchent pas.\n",
    "\n",
    "On souhaite sélectionner un nombre maximal d'activités dans une journée, toutes compatibles entre elles."
   ]
  },
  {
   "cell_type": "markdown",
   "metadata": {},
   "source": [
    "#### Exercice 6 (à la main)\n",
    "\n",
    "1. On se donne des activités dans les créneaux suivants: 8h-13h, 12h-17h, 9h-11h, 14h-16h, 11h-12h.\n",
    "\n",
    "  Combien de ces activités peuvent-elles être conciliées sur une seule journée ?\n",
    "  \n",
    "2. On propose d'utiliser une stratégie gloutone pour sélectionner des activités en commençant par le début de la journée: choisir l'activité dont l'heure de fin arrive le plus tôt (parmi celles dont l'heure de début est bien postérieure aux créneaux des activités déjà choisies).\n",
    "\n",
    "  Appliquer cette stratégie à la situation précédente."
   ]
  },
  {
   "cell_type": "markdown",
   "metadata": {},
   "source": [
    "#### Exercice 7 (programmation)"
   ]
  },
  {
   "cell_type": "markdown",
   "metadata": {},
   "source": [
    "On reprend le problème précédent, et on suppose que l'on a ```n``` activités numérotées de  ```0``` à ```n-1```. On a aussi deux tableaux ```début``` et ```fin``` de taille ```n```, tels que ```début[i]``` et ```fin[i]``` contiennent respectivement les heures de début et de fin de l'activité numéro ```i```.\n",
    "\n",
    "1. Écrire une fonction ```prochaine(début, fin, heure)``` qui sélectionne parmi les activités dont l'heure de début n'est pas antérieure à ```heure``` celle s'arrêtant le plut tôt.\n",
    "\n",
    "  La fonction renverra ```None``` s'il n'y a aucun créneau compatible."
   ]
  },
  {
   "cell_type": "code",
   "execution_count": null,
   "metadata": {},
   "outputs": [],
   "source": [
    "def prochaine(début, fin, heure):\n",
    "    pass"
   ]
  },
  {
   "cell_type": "markdown",
   "metadata": {},
   "source": [
    "2. En déduire une fonction ```sélection(début, fin)``` qui, en supposant que toutes les heures sont positives, sélectionne autant d'activités que possible en suivant la stratégie gloutonne. On demandera à la fonction d'afficher les numéros des activités sélectionnées."
   ]
  },
  {
   "cell_type": "code",
   "execution_count": null,
   "metadata": {},
   "outputs": [],
   "source": [
    "def sélection(début, fin):\n",
    "    pass"
   ]
  }
 ],
 "metadata": {
  "kernelspec": {
   "display_name": "Python 3",
   "language": "python",
   "name": "python3"
  },
  "language_info": {
   "codemirror_mode": {
    "name": "ipython",
    "version": 3
   },
   "file_extension": ".py",
   "mimetype": "text/x-python",
   "name": "python",
   "nbconvert_exporter": "python",
   "pygments_lexer": "ipython3",
   "version": "3.8.1"
  }
 },
 "nbformat": 4,
 "nbformat_minor": 4
}

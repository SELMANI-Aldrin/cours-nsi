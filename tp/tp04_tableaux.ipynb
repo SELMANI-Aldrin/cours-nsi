{
 "cells": [
  {
   "cell_type": "markdown",
   "metadata": {},
   "source": [
    "# TP 4 - Les tableaux"
   ]
  },
  {
   "cell_type": "code",
   "execution_count": 1,
   "metadata": {},
   "outputs": [],
   "source": [
    "%load_ext autoreload\n",
    "%autoreload 2\n",
    "import sys\n",
    "import os\n",
    "sys.path.insert(0, os.path.join(os.getcwd(), \"dist\"))\n",
    "\n",
    "from tp04_tests import *"
   ]
  },
  {
   "cell_type": "markdown",
   "metadata": {},
   "source": [
    "La mémoire d'un ordinateur moderne est vaste: elle est de l'ordre de quelques **gigaoctets** (1 Go correspond à 1 milliard d'octets). \n",
    "\n",
    "Il paraît illusoire de remplir la mémoire d'un ordinateur en utilisant des variables contenant des nombres: même avec un nombre astronomique de variables, on ne pourrait utiliser qu'une infime partie de la mémoire disponible. Avec en outre le problème annexe de devoir trouver un nom à toutes ces variables.\n",
    "\n",
    "Un des outils informatique permettant de stocker de très grandes quantités d'informations (en pratique il n'y a aucune limite si ce n'est la taille de la mémoire mise à la disposition d'un programme) est le **tableau**."
   ]
  },
  {
   "cell_type": "markdown",
   "metadata": {},
   "source": [
    "## Qu'est-ce qu'un tableau"
   ]
  },
  {
   "cell_type": "markdown",
   "metadata": {},
   "source": [
    "Un **tableau** est un type de donnée permettant de stocker plusieurs valeurs de manière séquentielle et d'y accéder à l'aide d'une seule variable.\n",
    "\n",
    "Le moyen le plus simple de créer un tableau en python est d'énumérer l'ensemble de ses valeurs:"
   ]
  },
  {
   "cell_type": "code",
   "execution_count": 2,
   "metadata": {},
   "outputs": [
    {
     "data": {
      "text/plain": [
       "[1, 0, 5, -2, 4]"
      ]
     },
     "execution_count": 2,
     "metadata": {},
     "output_type": "execute_result"
    }
   ],
   "source": [
    "table = [1, 0, 5, -2, 4,]\n",
    "table"
   ]
  },
  {
   "cell_type": "markdown",
   "metadata": {},
   "source": [
    "On vient ici de créer une variable `table` qui est un tableau (toute énumération de valeurs entre crochets `[ ]` sera interprétée comme un tableau par python). "
   ]
  },
  {
   "cell_type": "markdown",
   "metadata": {},
   "source": [
    "Les valeurs d'un tableau sont _indexées_ à partir de 0: la première valeur aura pour indice 0, la seconde aura pour indice 1, etc.\n",
    "\n",
    "Pour accéder à la valeur d'indice `i`, on utilise la syntaxe `table[i]`:"
   ]
  },
  {
   "cell_type": "code",
   "execution_count": 3,
   "metadata": {},
   "outputs": [
    {
     "name": "stdout",
     "output_type": "stream",
     "text": [
      "1\n",
      "0\n",
      "5\n",
      "-2\n",
      "4\n"
     ]
    }
   ],
   "source": [
    "print(table[0])\n",
    "print(table[1])\n",
    "print(table[2])\n",
    "print(table[3])\n",
    "print(table[4])"
   ]
  },
  {
   "cell_type": "markdown",
   "metadata": {},
   "source": [
    "Notons que le dernier élément du tableau a pour indice 4 alors que le tableau contient 5 éléments. C'est tout à fait normal: de 0 à 4, il y a exactement 5 valeurs.\n",
    "\n",
    "On peut connaître le nombre d'éléments d'un tableau à l'aide de la fonction `len()`:"
   ]
  },
  {
   "cell_type": "code",
   "execution_count": 4,
   "metadata": {},
   "outputs": [
    {
     "data": {
      "text/plain": [
       "\u001b[0;31mSignature:\u001b[0m \u001b[0mlen\u001b[0m\u001b[0;34m(\u001b[0m\u001b[0mobj\u001b[0m\u001b[0;34m,\u001b[0m \u001b[0;34m/\u001b[0m\u001b[0;34m)\u001b[0m\u001b[0;34m\u001b[0m\u001b[0;34m\u001b[0m\u001b[0m\n",
       "\u001b[0;31mDocstring:\u001b[0m Return the number of items in a container.\n",
       "\u001b[0;31mType:\u001b[0m      builtin_function_or_method\n"
      ]
     },
     "metadata": {},
     "output_type": "display_data"
    }
   ],
   "source": [
    "len?"
   ]
  },
  {
   "cell_type": "code",
   "execution_count": 5,
   "metadata": {},
   "outputs": [
    {
     "data": {
      "text/plain": [
       "5"
      ]
     },
     "execution_count": 5,
     "metadata": {},
     "output_type": "execute_result"
    }
   ],
   "source": [
    "len(table)"
   ]
  },
  {
   "cell_type": "markdown",
   "metadata": {},
   "source": [
    "Attention, il n'est pas possible d'accéder à un élément dont l'indice serait supérieur au dernier indice, c'est-à-dire à la longeur moins 1. En particulier, `table[len(table)]` n'existe pas et provoque une erreur:"
   ]
  },
  {
   "cell_type": "code",
   "execution_count": 6,
   "metadata": {
    "tags": [
     "raises-exception"
    ]
   },
   "outputs": [
    {
     "ename": "IndexError",
     "evalue": "list index out of range",
     "output_type": "error",
     "traceback": [
      "\u001b[0;31m---------------------------------------------------------------------------\u001b[0m",
      "\u001b[0;31mIndexError\u001b[0m                                Traceback (most recent call last)",
      "\u001b[0;32m<ipython-input-6-213db0f4fa70>\u001b[0m in \u001b[0;36m<module>\u001b[0;34m\u001b[0m\n\u001b[0;32m----> 1\u001b[0;31m \u001b[0mtable\u001b[0m\u001b[0;34m[\u001b[0m\u001b[0mlen\u001b[0m\u001b[0;34m(\u001b[0m\u001b[0mtable\u001b[0m\u001b[0;34m)\u001b[0m\u001b[0;34m]\u001b[0m\u001b[0;34m\u001b[0m\u001b[0;34m\u001b[0m\u001b[0m\n\u001b[0m",
      "\u001b[0;31mIndexError\u001b[0m: list index out of range"
     ]
    }
   ],
   "source": [
    "table[len(table)]"
   ]
  },
  {
   "cell_type": "markdown",
   "metadata": {},
   "source": [
    "**Attention:** Le langage python autorise à stocker dans un tableau des données de type quelconque, sans aucune cohérence: on peut mettre des entiers, des nombres à virgule flottante, des chaînes de caractères... dans un même tableau."
   ]
  },
  {
   "cell_type": "code",
   "execution_count": 7,
   "metadata": {},
   "outputs": [
    {
     "data": {
      "text/plain": [
       "['pomme', 12, 3.14, 'pêche']"
      ]
     },
     "execution_count": 7,
     "metadata": {},
     "output_type": "execute_result"
    }
   ],
   "source": [
    "mélange = [\"pomme\", 12, 3.14, \"pêche\"]\n",
    "mélange"
   ]
  },
  {
   "cell_type": "markdown",
   "metadata": {},
   "source": [
    "Cependant, la plupart des autres langages n'autorisent pas ce genre de lattitude: un tableau ne peut contenir qu'un type unique de données.\n",
    "\n",
    "Afin d'éviter la prise de mauvaises habitudes, on s'astreindra à partir de maintenant à ne jamais utiliser de tableau contenant des données mixtes.\n",
    "\n",
    "Il existe un autre type de donnée permetant justement le stockage de données mixtes, nous l'étudierons plus tard."
   ]
  },
  {
   "cell_type": "markdown",
   "metadata": {},
   "source": [
    "## Parcours d'un tableau"
   ]
  },
  {
   "cell_type": "markdown",
   "metadata": {},
   "source": [
    "Il n'est pas envisageable d'énumérer à la main tous les éléments d'un tableau comme nous avons pu le faire dans un exemple précédent, d'autant plus que le nombre d'éléments du tableau peut fort bien varier au cours de la durée de vie d'un programme.\n",
    "\n",
    "On utilisera avantageusement une boucle (*pour* ou *tant que*) afin d'accéder à l'ensemble des éléments d'un tableau.\n",
    "\n",
    "Plusieurs cas de figure se présentent, selon que l'on souhaite connaître l'indice d'un élément donné ou non."
   ]
  },
  {
   "cell_type": "markdown",
   "metadata": {},
   "source": [
    "### Si on n'a pas besoin de connaître l'indice d'un élément"
   ]
  },
  {
   "cell_type": "markdown",
   "metadata": {},
   "source": [
    "Dans ce cas, la boucle *pour* est de loin la plus adaptée. La syntaxe de cette boucle est d'ailleurs exactement conçue pour accéder aux éléments d'un tableau:"
   ]
  },
  {
   "cell_type": "code",
   "execution_count": 8,
   "metadata": {},
   "outputs": [],
   "source": [
    "prénoms = [\"pascal\", \"pierre\", \"bérénice\", \"isabelle\", \"mathieu\", \"joachim\", \"anabelle\"]"
   ]
  },
  {
   "cell_type": "code",
   "execution_count": 9,
   "metadata": {},
   "outputs": [
    {
     "name": "stdout",
     "output_type": "stream",
     "text": [
      "pascal\n",
      "pierre\n",
      "bérénice\n",
      "isabelle\n",
      "mathieu\n",
      "joachim\n",
      "anabelle\n"
     ]
    }
   ],
   "source": [
    "for p in prénoms:\n",
    "    print(p)"
   ]
  },
  {
   "cell_type": "markdown",
   "metadata": {},
   "source": [
    "### Si on a besoin de connaître l'indice de chaque élément"
   ]
  },
  {
   "cell_type": "markdown",
   "metadata": {},
   "source": [
    "Dans ce cas il existe plusieurs méthodes. On peut réutiliser la boucle précédente et compter les indices à la main:"
   ]
  },
  {
   "cell_type": "code",
   "execution_count": 10,
   "metadata": {},
   "outputs": [
    {
     "name": "stdout",
     "output_type": "stream",
     "text": [
      "Le prénom d'incice 0 est pascal\n",
      "Le prénom d'incice 1 est pierre\n",
      "Le prénom d'incice 2 est bérénice\n",
      "Le prénom d'incice 3 est isabelle\n",
      "Le prénom d'incice 4 est mathieu\n",
      "Le prénom d'incice 5 est joachim\n",
      "Le prénom d'incice 6 est anabelle\n"
     ]
    }
   ],
   "source": [
    "i = 0\n",
    "for p in prénoms:\n",
    "    print(\"Le prénom d'incice\", i, \"est\", p)\n",
    "    i = i + 1"
   ]
  },
  {
   "cell_type": "markdown",
   "metadata": {},
   "source": [
    "Notons qu'il est indispensable d'incrémenter à la main le compteur.\n",
    "\n",
    "On peut aussi procéder autrement, en faisant boucler directement sur l'indice `i` plutôt que sur l'élément `p`. Il faudra dans ce cas utiliser la syntaxe suivante:"
   ]
  },
  {
   "cell_type": "code",
   "execution_count": 11,
   "metadata": {},
   "outputs": [
    {
     "name": "stdout",
     "output_type": "stream",
     "text": [
      "Le prénom d'indice 0 est pascal\n",
      "Le prénom d'indice 1 est pierre\n",
      "Le prénom d'indice 2 est bérénice\n",
      "Le prénom d'indice 3 est isabelle\n",
      "Le prénom d'indice 4 est mathieu\n",
      "Le prénom d'indice 5 est joachim\n",
      "Le prénom d'indice 6 est anabelle\n"
     ]
    }
   ],
   "source": [
    "for i in range(len(prénoms)):\n",
    "    print(\"Le prénom d'indice\", i, \"est\", prénoms[i])"
   ]
  },
  {
   "cell_type": "markdown",
   "metadata": {},
   "source": [
    "Le résultat est exactement le même, mais l'algorithme sous-jacent bien différent: on utiliser la fonction `range()` avec pour paramètre la longueur `len(prénoms)` du tableau: la variable `i` parcourera donc bien les entiers de `0` à `len(prénoms) - 1`. Pour accéder à l'élément du tableau correspondant, on utilise alors la syntaxe `prénoms[i]` vue dans la partie précédente.\n",
    "\n",
    "Notons qu'il n'est pas nécessaire ici d'incrémenter le compteur, c'est la boucle *pour* qui s'en charge.\n",
    "\n",
    "On pourrait aussi remplacer celle-ci par une boucle *tant que*:"
   ]
  },
  {
   "cell_type": "code",
   "execution_count": 12,
   "metadata": {},
   "outputs": [
    {
     "name": "stdout",
     "output_type": "stream",
     "text": [
      "Le prénom d'indice 0 est pascal\n",
      "Le prénom d'indice 1 est pierre\n",
      "Le prénom d'indice 2 est bérénice\n",
      "Le prénom d'indice 3 est isabelle\n",
      "Le prénom d'indice 4 est mathieu\n",
      "Le prénom d'indice 5 est joachim\n",
      "Le prénom d'indice 6 est anabelle\n"
     ]
    }
   ],
   "source": [
    "i = 0\n",
    "while i < len(prénoms):\n",
    "    print(\"Le prénom d'indice\", i, \"est\", prénoms[i])\n",
    "    i = i + 1"
   ]
  },
  {
   "cell_type": "markdown",
   "metadata": {},
   "source": [
    "Cela paraît plus compliqué parce qu'on est à nouveau obligé d'incrémenter le compteur, mais la boucle *tant que* offre d'autres avantages: on peut utiliser une condition plus compliquée, arrêter le parcours du tableau avant la fin (par exemple lorsque l'on aura trouvé un élément que l'on recherche). Nous verrons cela en exercice."
   ]
  },
  {
   "cell_type": "markdown",
   "metadata": {},
   "source": [
    "## Modifier le contenu d'un tableau"
   ]
  },
  {
   "cell_type": "markdown",
   "metadata": {},
   "source": [
    "En python, un tableau n'est pas une structure figée en mémoire. On peut notamment:\n",
    "* ajouter ou supprimer des éléments, à la fin, au début, voire même au milieu d'un tableau\n",
    "* modifier une des valeurs stockée dans le tableau (ce qui revient en général à la remplacer par une autre).\n",
    "\n",
    "Nous ne verrons pas toutes ces possibilités dans un premier temps, mais examinons les plus courantes."
   ]
  },
  {
   "cell_type": "markdown",
   "metadata": {},
   "source": [
    "### Modifier un élément d'un tableau\n",
    "\n",
    "Pour modifier un élément dans un tableau, on utilise la syntaxe suivante:"
   ]
  },
  {
   "cell_type": "code",
   "execution_count": 13,
   "metadata": {},
   "outputs": [
    {
     "data": {
      "text/plain": [
       "['pascal', 'pierre', 'bérénice', 'isabelle', 'mathieu', 'joachim', 'anabelle']"
      ]
     },
     "execution_count": 13,
     "metadata": {},
     "output_type": "execute_result"
    }
   ],
   "source": [
    "prénoms"
   ]
  },
  {
   "cell_type": "raw",
   "metadata": {},
   "source": [
    "prénoms[1] = 'archibald'"
   ]
  },
  {
   "cell_type": "code",
   "execution_count": 14,
   "metadata": {},
   "outputs": [
    {
     "data": {
      "text/plain": [
       "['pascal', 'pierre', 'bérénice', 'isabelle', 'mathieu', 'joachim', 'anabelle']"
      ]
     },
     "execution_count": 14,
     "metadata": {},
     "output_type": "execute_result"
    }
   ],
   "source": [
    "prénoms"
   ]
  },
  {
   "cell_type": "markdown",
   "metadata": {},
   "source": [
    "On constate que le contenu du tableau a bien été modifié: son deuxième élément (donc d'indice 1) a été remplacé par un autre. On dit en informatique qu'un tableau est une variable **mutable**, c'est-à-dire que son contenu peut être modifié en mémoire (ce n'est pas toujours le cas, comme nous le verrons plus tard)."
   ]
  },
  {
   "cell_type": "markdown",
   "metadata": {},
   "source": [
    "### Ajouter un ou plusieurs éléments à la fin d'un tableau"
   ]
  },
  {
   "cell_type": "markdown",
   "metadata": {},
   "source": [
    "L'ajout d'élements n'est pas la même chose que la modification d'un élément vue au paragraphe précédent: le contenu d'une des cases mémoire était simplement remplacé par un autre, alors qu'ici nous voulons modifier la taille du tableau. Python est extrêmement souple sur ce point, et autorise tous les changements de taille, tant qu'il reste de la mémoire disponible.\n",
    "\n",
    "Pour ajouter un unique élément à un tableau, on peut utiliser la fonction `append(élément)` appliquée directement au tableau, comme suit:"
   ]
  },
  {
   "cell_type": "code",
   "execution_count": 15,
   "metadata": {},
   "outputs": [
    {
     "data": {
      "text/plain": [
       "['pascal', 'pierre', 'bérénice', 'isabelle', 'mathieu', 'joachim', 'anabelle']"
      ]
     },
     "execution_count": 15,
     "metadata": {},
     "output_type": "execute_result"
    }
   ],
   "source": [
    "prénoms"
   ]
  },
  {
   "cell_type": "code",
   "execution_count": 16,
   "metadata": {},
   "outputs": [],
   "source": [
    "prénoms.append('maximilien')"
   ]
  },
  {
   "cell_type": "code",
   "execution_count": 17,
   "metadata": {},
   "outputs": [
    {
     "data": {
      "text/plain": [
       "['pascal',\n",
       " 'pierre',\n",
       " 'bérénice',\n",
       " 'isabelle',\n",
       " 'mathieu',\n",
       " 'joachim',\n",
       " 'anabelle',\n",
       " 'maximilien']"
      ]
     },
     "execution_count": 17,
     "metadata": {},
     "output_type": "execute_result"
    }
   ],
   "source": [
    "prénoms"
   ]
  },
  {
   "cell_type": "markdown",
   "metadata": {},
   "source": [
    "Pour supprimer le dernier élément d'un tableau, il y a la fonction `pop()` (sans arguments): celle-ci supprime effectivement l'élément de plus grand indice, et renvoie sa valeur. Attention, `pop()` utilisé sur un tableau vide `[]` renverra une erreur puisqu'il n'y a pas d'élément à supprimer."
   ]
  },
  {
   "cell_type": "code",
   "execution_count": 18,
   "metadata": {},
   "outputs": [
    {
     "data": {
      "text/plain": [
       "'maximilien'"
      ]
     },
     "execution_count": 18,
     "metadata": {},
     "output_type": "execute_result"
    }
   ],
   "source": [
    "prénoms.pop()"
   ]
  },
  {
   "cell_type": "code",
   "execution_count": 19,
   "metadata": {},
   "outputs": [
    {
     "data": {
      "text/plain": [
       "['pascal', 'pierre', 'bérénice', 'isabelle', 'mathieu', 'joachim', 'anabelle']"
      ]
     },
     "execution_count": 19,
     "metadata": {},
     "output_type": "execute_result"
    }
   ],
   "source": [
    "prénoms"
   ]
  },
  {
   "cell_type": "markdown",
   "metadata": {},
   "source": [
    "Nous constatons que `pop()` a bien renvoyé la valeur du dernier élément du tableau, et l'a effacé de celui-ci."
   ]
  },
  {
   "cell_type": "markdown",
   "metadata": {},
   "source": [
    "### Concaténation de deux tableaux"
   ]
  },
  {
   "cell_type": "markdown",
   "metadata": {},
   "source": [
    "On a souvent besoin de prendre deux tableaux et de les **concaténer**, c'est-à-dire les mettre bout à bout. Il existe deux manière de procéder en python.\n",
    "\n",
    "Supposons que l'on ait deux tableaux:"
   ]
  },
  {
   "cell_type": "code",
   "execution_count": 20,
   "metadata": {},
   "outputs": [],
   "source": [
    "t1 = [1, 2, 3, 4]\n",
    "t2 = [5, 6, 7, 8]"
   ]
  },
  {
   "cell_type": "markdown",
   "metadata": {},
   "source": [
    "L'opération `+` entre deux tableaux ne réalise pas une addition (cela n'aurait aucun sens), mais crée un **nouveau tableau** contenant la concaténation des deux premiers. Il est important de remarquer qu'aucun des deux tableaux initiaux n'est modifié par cette opération."
   ]
  },
  {
   "cell_type": "code",
   "execution_count": 21,
   "metadata": {},
   "outputs": [
    {
     "data": {
      "text/plain": [
       "[1, 2, 3, 4, 5, 6, 7, 8]"
      ]
     },
     "execution_count": 21,
     "metadata": {},
     "output_type": "execute_result"
    }
   ],
   "source": [
    "t1 + t2"
   ]
  },
  {
   "cell_type": "code",
   "execution_count": 22,
   "metadata": {},
   "outputs": [
    {
     "data": {
      "text/plain": [
       "[1, 2, 3, 4]"
      ]
     },
     "execution_count": 22,
     "metadata": {},
     "output_type": "execute_result"
    }
   ],
   "source": [
    "t1"
   ]
  },
  {
   "cell_type": "code",
   "execution_count": 23,
   "metadata": {},
   "outputs": [
    {
     "data": {
      "text/plain": [
       "[5, 6, 7, 8]"
      ]
     },
     "execution_count": 23,
     "metadata": {},
     "output_type": "execute_result"
    }
   ],
   "source": [
    "t2"
   ]
  },
  {
   "cell_type": "markdown",
   "metadata": {},
   "source": [
    "Si on ne veut pas perdre immédiatement le résultat de `t1 + t2`, il est tout à fait possible de le stocker dans une nouvelle variable, voire même dans une variable existante. Par exemple, on peut vouloir remplacer `t1` par la concaténation de `t1` et `t2`, comme suit:"
   ]
  },
  {
   "cell_type": "code",
   "execution_count": 24,
   "metadata": {},
   "outputs": [],
   "source": [
    "t1 = t1 + t2"
   ]
  },
  {
   "cell_type": "code",
   "execution_count": 25,
   "metadata": {},
   "outputs": [
    {
     "data": {
      "text/plain": [
       "[1, 2, 3, 4, 5, 6, 7, 8]"
      ]
     },
     "execution_count": 25,
     "metadata": {},
     "output_type": "execute_result"
    }
   ],
   "source": [
    "t1"
   ]
  },
  {
   "cell_type": "code",
   "execution_count": 26,
   "metadata": {},
   "outputs": [
    {
     "data": {
      "text/plain": [
       "[5, 6, 7, 8]"
      ]
     },
     "execution_count": 26,
     "metadata": {},
     "output_type": "execute_result"
    }
   ],
   "source": [
    "t2"
   ]
  },
  {
   "cell_type": "markdown",
   "metadata": {},
   "source": [
    "### Ajout d'un tableau au bout d'un autre"
   ]
  },
  {
   "cell_type": "markdown",
   "metadata": {},
   "source": [
    "Il est possible de réaliser directement l'opération précédente à l'aide de la fonction `extend(tableau)`:"
   ]
  },
  {
   "cell_type": "code",
   "execution_count": 27,
   "metadata": {},
   "outputs": [],
   "source": [
    "t1 = [1, 2, 3, 4]\n",
    "t2 = [5, 6, 7, 8]"
   ]
  },
  {
   "cell_type": "code",
   "execution_count": 28,
   "metadata": {},
   "outputs": [],
   "source": [
    "t1.extend(t2)"
   ]
  },
  {
   "cell_type": "code",
   "execution_count": 29,
   "metadata": {},
   "outputs": [
    {
     "data": {
      "text/plain": [
       "[1, 2, 3, 4, 5, 6, 7, 8]"
      ]
     },
     "execution_count": 29,
     "metadata": {},
     "output_type": "execute_result"
    }
   ],
   "source": [
    "t1"
   ]
  },
  {
   "cell_type": "code",
   "execution_count": 30,
   "metadata": {},
   "outputs": [
    {
     "data": {
      "text/plain": [
       "[5, 6, 7, 8]"
      ]
     },
     "execution_count": 30,
     "metadata": {},
     "output_type": "execute_result"
    }
   ],
   "source": [
    "t2"
   ]
  },
  {
   "cell_type": "markdown",
   "metadata": {},
   "source": [
    "Le résultat semble être le même que pour la syntaxe `t1 = t1 + t2` précédente, mais ce n'est pas exactement le cas: `extend()` va *modifier* le tableau `t1` pour lui rajouter directement les éléments de `t2` (un peu comme si on avait utilisé `append` pour chacun des éléments de `t2` sur `t1`). En revanche, `t1 = t1 + t2` crée d'abord un nouveau tableau, qui est ensuite stocké dans `t1`. L'ancien tableau qui était dans `t1` n'étant plus référencé par aucune variable, il sera effacé de la mémoire par python dès que possible."
   ]
  },
  {
   "cell_type": "markdown",
   "metadata": {},
   "source": [
    "## Création de tableaux de taille arbitraire"
   ]
  },
  {
   "cell_type": "markdown",
   "metadata": {},
   "source": [
    "On peut vouloir créer un tableau contenant par exemple 100 éléments, initialement tous à zéro.  Il existe déjà un moyen de faire cela en l'état de nos connaissances: utiliser un tableau initialement vide, et lui rajouter 100 fois l'élément 0 à l'aide de `append`"
   ]
  },
  {
   "cell_type": "code",
   "execution_count": 31,
   "metadata": {},
   "outputs": [
    {
     "data": {
      "text/plain": [
       "'[0, 0, 0, 0, 0, 0, 0, 0, 0, 0, 0, 0, 0, 0, 0, 0, 0, 0, 0, 0, 0, 0, 0, 0, 0, 0, 0, 0, 0, 0, 0, 0, 0, 0, 0, 0, 0, 0, 0, 0, 0, 0, 0, 0, 0, 0, 0, 0, 0, 0, 0, 0, 0, 0, 0, 0, 0, 0, 0, 0, 0, 0, 0, 0, 0, 0, 0, 0, 0, 0, 0, 0, 0, 0, 0, 0, 0, 0, 0, 0, 0, 0, 0, 0, 0, 0, 0, 0, 0, 0, 0, 0, 0, 0, 0, 0, 0, 0, 0, 0]'"
      ]
     },
     "execution_count": 31,
     "metadata": {},
     "output_type": "execute_result"
    }
   ],
   "source": [
    "t = []\n",
    "for i in range(100):\n",
    "    t.append(0)\n",
    "repr(t)"
   ]
  },
  {
   "cell_type": "markdown",
   "metadata": {},
   "source": [
    "La fonction `repr` permet d'afficher une valeur telle que l'on aurait dû la taper pour la saisir en python (cela évite notamment que le tableau soit affiché sur 100 lignes dans la cellule. Essayez sans le `repr()` pour vous en rendre compte...)"
   ]
  },
  {
   "cell_type": "markdown",
   "metadata": {},
   "source": [
    "Il existe cependant une syntaxe spéciale en python qui permet de réaliser cela: l'opération `*` appliqué entre un tableau et un nombre (dans cet ordre)  va **dupliquer** le tableau autant de fois qu'indiqué par le nombre."
   ]
  },
  {
   "cell_type": "code",
   "execution_count": 32,
   "metadata": {},
   "outputs": [
    {
     "data": {
      "text/plain": [
       "'[0, 0, 0, 0, 0, 0, 0, 0, 0, 0, 0, 0, 0, 0, 0, 0, 0, 0, 0, 0, 0, 0, 0, 0, 0]'"
      ]
     },
     "execution_count": 32,
     "metadata": {},
     "output_type": "execute_result"
    }
   ],
   "source": [
    "t = [0] * 25\n",
    "repr(t)"
   ]
  },
  {
   "cell_type": "code",
   "execution_count": 33,
   "metadata": {},
   "outputs": [
    {
     "data": {
      "text/plain": [
       "'[0, 1, 0, 1, 0, 1, 0, 1, 0, 1, 0, 1, 0, 1, 0, 1, 0, 1, 0, 1, 0, 1, 0, 1, 0, 1, 0, 1, 0, 1, 0, 1, 0, 1, 0, 1, 0, 1, 0, 1, 0, 1, 0, 1, 0, 1, 0, 1, 0, 1]'"
      ]
     },
     "execution_count": 33,
     "metadata": {},
     "output_type": "execute_result"
    }
   ],
   "source": [
    "t = [0, 1] * 25\n",
    "repr(t)"
   ]
  },
  {
   "cell_type": "code",
   "execution_count": 34,
   "metadata": {},
   "outputs": [
    {
     "data": {
      "text/plain": [
       "'[0, 1, 0, 1, 0, 1, 0, 1, 0, 1, 0, 1, 0, 1, 0, 1, 0, 1, 0, 1, 0, 1, 0, 1, 0, 1, 0, 1, 0, 1, 0, 1, 0, 1, 0, 1, 0, 1, 0, 1, 0, 1, 0, 1, 0, 1, 0, 1, 0, 1]'"
      ]
     },
     "execution_count": 34,
     "metadata": {},
     "output_type": "execute_result"
    }
   ],
   "source": [
    "t = 25 * [0, 1]\n",
    "repr(t)"
   ]
  },
  {
   "cell_type": "markdown",
   "metadata": {},
   "source": [
    "On utilisera souvent cette syntaxe pour créer des tableaux vides."
   ]
  },
  {
   "cell_type": "markdown",
   "metadata": {},
   "source": [
    "---\n",
    "### Exercice 1"
   ]
  },
  {
   "cell_type": "markdown",
   "metadata": {},
   "source": [
    "Écrire une fonction `entiers_aléatoires(N, a, b)` qui prend pour argument un entier naturel `N` et renvoie un tableau contenant $N$ entiers aléatoires, tous compris entre $a$ et $b$ inclus. \n",
    "* Si $N$ est nul, la fonction renvoie un tableau vide.\n",
    "* On suppose que $a < b$ (aucune vérification ne sera effectuée).\n",
    "* On suppose que $N > 0$ (aucune vérification ne sera effectuée)."
   ]
  },
  {
   "cell_type": "code",
   "execution_count": 35,
   "metadata": {},
   "outputs": [],
   "source": [
    "from random import randint\n",
    "\n",
    "def entiers_aléatoires(N, a, b):\n",
    "    \"\"\"Renvoie un tableau contenant N entiers aléatoires compris entre a et b.\"\"\"\n",
    "    \n",
    "    pass # Remplacer cette ligne par votre code"
   ]
  },
  {
   "cell_type": "code",
   "execution_count": 36,
   "metadata": {
    "tags": [
     "raises-exception"
    ]
   },
   "outputs": [],
   "source": [
    "# Vous pouvez tester votre code ici\n",
    "entiers_aléatoires(10, 1, 1000)"
   ]
  },
  {
   "cell_type": "markdown",
   "metadata": {},
   "source": [
    "Et une procédure de test automatique (les paramètres $N$, $a$ et $b$ sont déterminés eux-aussi aléatoirement):"
   ]
  },
  {
   "cell_type": "code",
   "execution_count": 37,
   "metadata": {},
   "outputs": [
    {
     "name": "stdout",
     "output_type": "stream",
     "text": [
      "Pour (N, a, b)=(0, 0, 0) le résultat n'est pas un tableau\n",
      "Pour (N, a, b)=(212, 95, 231) le résultat n'est pas un tableau\n",
      "Pour (N, a, b)=(268, -67, 55) le résultat n'est pas un tableau\n",
      "Pour (N, a, b)=(554, -88, 0) le résultat n'est pas un tableau\n",
      "Pour (N, a, b)=(443, 13, 92) le résultat n'est pas un tableau\n",
      "Pour (N, a, b)=(517, -19, 11) le résultat n'est pas un tableau\n",
      "Pour (N, a, b)=(145, 77, 239) le résultat n'est pas un tableau\n",
      "Pour (N, a, b)=(361, 43, 238) le résultat n'est pas un tableau\n",
      "Pour (N, a, b)=(881, 15, 156) le résultat n'est pas un tableau\n",
      "Pour (N, a, b)=(675, -1, 72) le résultat n'est pas un tableau\n",
      "Pour (N, a, b)=(133, 54, 67) le résultat n'est pas un tableau\n",
      "----------\n",
      "Trop d'erreurs: on arrête le test...\n"
     ]
    }
   ],
   "source": [
    "testeur = testeur_entiers_aléatoires(entiers_aléatoires)\n",
    "testeur.nombre_tests = 100\n",
    "testeur.max_erreurs = 10\n",
    "testeur.lance_tests()"
   ]
  },
  {
   "cell_type": "markdown",
   "metadata": {},
   "source": [
    "### Exercice 2\n",
    "\n",
    "Écrire des fonctions `mininimum(tableau)` et `maximum(tableau)` prenant en paramètre un tableau de nombres et renvoyant respectivement le minimum et le maximum des nombres rencontrés. Il est bien entendu interdit d'utiliser les fonctions `min()` et `max()` de python qui réalisent justement cela.\n",
    "\n",
    "En cas de tableau vide, ces deux fonctions doivent déclencher une erreur, car il n'y a pas de bonne réponse possible."
   ]
  },
  {
   "cell_type": "code",
   "execution_count": 38,
   "metadata": {},
   "outputs": [],
   "source": [
    "def minimum(tableau):\n",
    "    assert len(tableau) > 0, \"Erreur: le tableau ne doit pas être vide\"\n",
    "    \n",
    "    pass # Remplacer cette ligne par votre code"
   ]
  },
  {
   "cell_type": "code",
   "execution_count": 39,
   "metadata": {},
   "outputs": [],
   "source": [
    "def maximum(tableau):\n",
    "    assert len(tableau) > 0, \"Erreur: le tableau ne doit pas être vide\"\n",
    "    \n",
    "    pass # Remplacer cette ligne par votre code"
   ]
  },
  {
   "cell_type": "code",
   "execution_count": 40,
   "metadata": {
    "tags": [
     "raises-exception"
    ]
   },
   "outputs": [
    {
     "name": "stdout",
     "output_type": "stream",
     "text": [
      "None\n"
     ]
    },
    {
     "ename": "TypeError",
     "evalue": "object of type 'NoneType' has no len()",
     "output_type": "error",
     "traceback": [
      "\u001b[0;31m---------------------------------------------------------------------------\u001b[0m",
      "\u001b[0;31mTypeError\u001b[0m                                 Traceback (most recent call last)",
      "\u001b[0;32m<ipython-input-40-818f9a5c2401>\u001b[0m in \u001b[0;36m<module>\u001b[0;34m\u001b[0m\n\u001b[1;32m      2\u001b[0m \u001b[0mt\u001b[0m\u001b[0;34m=\u001b[0m \u001b[0mentiers_aléatoires\u001b[0m\u001b[0;34m(\u001b[0m\u001b[0;36m10\u001b[0m\u001b[0;34m,\u001b[0m \u001b[0;36m1\u001b[0m\u001b[0;34m,\u001b[0m \u001b[0;36m1000\u001b[0m\u001b[0;34m)\u001b[0m\u001b[0;34m\u001b[0m\u001b[0;34m\u001b[0m\u001b[0m\n\u001b[1;32m      3\u001b[0m \u001b[0mprint\u001b[0m\u001b[0;34m(\u001b[0m\u001b[0mt\u001b[0m\u001b[0;34m)\u001b[0m\u001b[0;34m\u001b[0m\u001b[0;34m\u001b[0m\u001b[0m\n\u001b[0;32m----> 4\u001b[0;31m \u001b[0mprint\u001b[0m\u001b[0;34m(\u001b[0m\u001b[0mminimum\u001b[0m\u001b[0;34m(\u001b[0m\u001b[0mt\u001b[0m\u001b[0;34m)\u001b[0m\u001b[0;34m)\u001b[0m\u001b[0;34m\u001b[0m\u001b[0;34m\u001b[0m\u001b[0m\n\u001b[0m\u001b[1;32m      5\u001b[0m \u001b[0mprint\u001b[0m\u001b[0;34m(\u001b[0m\u001b[0mmaximum\u001b[0m\u001b[0;34m(\u001b[0m\u001b[0mt\u001b[0m\u001b[0;34m)\u001b[0m\u001b[0;34m)\u001b[0m\u001b[0;34m\u001b[0m\u001b[0;34m\u001b[0m\u001b[0m\n",
      "\u001b[0;32m<ipython-input-38-b0e2727eaebb>\u001b[0m in \u001b[0;36mminimum\u001b[0;34m(tableau)\u001b[0m\n\u001b[1;32m      1\u001b[0m \u001b[0;32mdef\u001b[0m \u001b[0mminimum\u001b[0m\u001b[0;34m(\u001b[0m\u001b[0mtableau\u001b[0m\u001b[0;34m)\u001b[0m\u001b[0;34m:\u001b[0m\u001b[0;34m\u001b[0m\u001b[0;34m\u001b[0m\u001b[0m\n\u001b[0;32m----> 2\u001b[0;31m     \u001b[0;32massert\u001b[0m \u001b[0mlen\u001b[0m\u001b[0;34m(\u001b[0m\u001b[0mtableau\u001b[0m\u001b[0;34m)\u001b[0m \u001b[0;34m>\u001b[0m \u001b[0;36m0\u001b[0m\u001b[0;34m,\u001b[0m \u001b[0;34m\"Erreur: le tableau ne doit pas être vide\"\u001b[0m\u001b[0;34m\u001b[0m\u001b[0;34m\u001b[0m\u001b[0m\n\u001b[0m\u001b[1;32m      3\u001b[0m \u001b[0;34m\u001b[0m\u001b[0m\n\u001b[1;32m      4\u001b[0m     \u001b[0;32mpass\u001b[0m \u001b[0;31m# Remplacer cette ligne par votre code\u001b[0m\u001b[0;34m\u001b[0m\u001b[0;34m\u001b[0m\u001b[0m\n",
      "\u001b[0;31mTypeError\u001b[0m: object of type 'NoneType' has no len()"
     ]
    }
   ],
   "source": [
    "# Vous pouvez tester votre code ici\n",
    "t= entiers_aléatoires(10, 1, 1000)\n",
    "print(t)\n",
    "print(minimum(t))\n",
    "print(maximum(t))"
   ]
  },
  {
   "cell_type": "code",
   "execution_count": 41,
   "metadata": {},
   "outputs": [
    {
     "name": "stdout",
     "output_type": "stream",
     "text": [
      "Pour tableau=[729, 396, 747, 346, 190, 11, 201], mauvais minimum: None au lieu de 11\n",
      "Pour tableau=[162, 22], mauvais minimum: None au lieu de 22\n",
      "Pour tableau=[993, 904, 22, 509, 964, 654, 873, 455, 988], mauvais minimum: None au lieu de 22\n",
      "Pour tableau=[864, 204, 695, 228], mauvais minimum: None au lieu de 204\n",
      "Pour tableau=[458, 480, 10, 134, 290, 78], mauvais minimum: None au lieu de 10\n",
      "Pour tableau=[979, 35, 699, 593, 490, 393, 360, 661, 211], mauvais minimum: None au lieu de 35\n",
      "Pour tableau=[811, 515, 964, 846, 631, 808, 18], mauvais minimum: None au lieu de 18\n",
      "Pour tableau=[308, 154, 407, 718], mauvais minimum: None au lieu de 154\n",
      "Pour tableau=[687, 408, 176, 186, 831], mauvais minimum: None au lieu de 176\n",
      "Pour tableau=[518, 485, 339], mauvais minimum: None au lieu de 339\n",
      "Pour tableau=[613, 337, 466, 566, 302, 480, 781, 963], mauvais minimum: None au lieu de 302\n",
      "----------\n",
      "Trop d'erreurs: on arrête le test...\n"
     ]
    }
   ],
   "source": [
    "# Et la procédure de tests automatisée.\n",
    "\n",
    "# Pour le minimum:\n",
    "testeur = testeur_minimum(minimum)\n",
    "# On peut changer les deux paramètres ci-dessous si besoin:\n",
    "# testeur.nombre_tests = 100\n",
    "# testeur.erreurs_max = 10\n",
    "testeur.max_taille_tableau = 10\n",
    "testeur.lance_tests()"
   ]
  },
  {
   "cell_type": "code",
   "execution_count": 42,
   "metadata": {},
   "outputs": [
    {
     "name": "stdout",
     "output_type": "stream",
     "text": [
      "Pour tableau=[769], mauvais maximum: None au lieu de 769\n",
      "Pour tableau=[16, 150, 805, 750, 963, 740, 699, 457], mauvais maximum: None au lieu de 963\n",
      "Pour tableau=[501], mauvais maximum: None au lieu de 501\n",
      "Pour tableau=[636, 14, 920, 556, 234, 821, 14], mauvais maximum: None au lieu de 920\n",
      "Pour tableau=[235, 183, 984, 497, 402, 85, 872, 181, 186, 229], mauvais maximum: None au lieu de 984\n",
      "Pour tableau=[478, 494, 94, 514, 534, 982, 564, 586], mauvais maximum: None au lieu de 982\n",
      "Pour tableau=[432, 711, 106, 452, 739, 803], mauvais maximum: None au lieu de 803\n",
      "Pour tableau=[855, 109, 433, 795, 507, 370, 455, 150, 744], mauvais maximum: None au lieu de 855\n",
      "Pour tableau=[402], mauvais maximum: None au lieu de 402\n",
      "Pour tableau=[261, 691, 154, 456, 613, 92, 335, 130], mauvais maximum: None au lieu de 691\n",
      "Pour tableau=[886, 25, 636, 601, 934, 870, 572], mauvais maximum: None au lieu de 934\n",
      "----------\n",
      "Trop d'erreurs: on arrête le test...\n"
     ]
    }
   ],
   "source": [
    "# Pour le maximum\n",
    "testeur = testeur_maximum(maximum)\n",
    "# On peut changer les deux paramètres ci-dessous si besoin:\n",
    "# testeur.nombre_tests = 100\n",
    "# testeur.erreurs_max = 10\n",
    "testeur.max_taille_tableau = 10\n",
    "testeur.lance_tests()"
   ]
  },
  {
   "cell_type": "markdown",
   "metadata": {},
   "source": [
    "---\n",
    "### Exercice 3\n",
    "\n",
    "Écrire une fonction `nombre_occurences(tableau, élément)` prenant pour paramètre un tableau et une valeur, et renvoyant le nombre de fois que cette valeur est contenue dans le tableau (ce nombre peut très bien être nul)."
   ]
  },
  {
   "cell_type": "code",
   "execution_count": 43,
   "metadata": {},
   "outputs": [],
   "source": [
    "def nombre_occurences(tableau, élément):\n",
    "    pass # Remplacer cette ligne par votre code."
   ]
  },
  {
   "cell_type": "code",
   "execution_count": 44,
   "metadata": {
    "tags": [
     "raises-exception"
    ]
   },
   "outputs": [],
   "source": [
    "# Vous pouvez tester votre code ici\n",
    "t = entiers_aléatoires(20, 1, 10)\n",
    "nombre_occurences(t, 5)"
   ]
  },
  {
   "cell_type": "code",
   "execution_count": 45,
   "metadata": {},
   "outputs": [
    {
     "name": "stdout",
     "output_type": "stream",
     "text": [
      "Pour tableau=[4, 4, 2, 2, 5, 4, 2, 5, 4, 5, 1] le résultat (None) n'est pas un entier naturel\n",
      "Pour tableau=[5, 4, 5, 5, 2, 1, 5, 4, 1, 2, 5, 2, 5, 1, 5, 1] le résultat (None) n'est pas un entier naturel\n",
      "Pour tableau=[3, 4, 1, 2, 4, 1, 1, 1, 4, 2, 5, 5, 1] le résultat (None) n'est pas un entier naturel\n",
      "Pour tableau=[1, 1, 4, 1, 5, 1, 4, 2, 2, 1, 4, 3] le résultat (None) n'est pas un entier naturel\n",
      "Pour tableau=[2, 5, 4, 1, 5, 3, 5, 5, 4, 3, 4, 4, 2, 1, 3, 3, 4, 3, 4] le résultat (None) n'est pas un entier naturel\n",
      "Pour tableau=[5, 2, 4, 5, 2, 5, 4, 3, 2, 2, 3, 1, 2] le résultat (None) n'est pas un entier naturel\n",
      "Pour tableau=[3, 5, 1, 1, 2, 2, 3, 3, 4, 2, 2, 2, 2, 1, 3, 3, 4, 1, 3, 3] le résultat (None) n'est pas un entier naturel\n",
      "Pour tableau=[3, 5, 4, 2, 2, 5, 4, 1, 3, 1, 1, 4, 2, 2] le résultat (None) n'est pas un entier naturel\n",
      "Pour tableau=[5, 3, 4, 3, 2, 5, 5, 5, 5, 2, 4, 1, 2, 1, 1, 2, 2, 4, 1, 5] le résultat (None) n'est pas un entier naturel\n",
      "Pour tableau=[4, 3, 1, 5, 5, 2, 1, 4, 5, 1, 4, 3] le résultat (None) n'est pas un entier naturel\n",
      "Pour tableau=[1, 4, 5, 4, 5, 4, 5, 2, 4, 5, 3] le résultat (None) n'est pas un entier naturel\n",
      "----------\n",
      "Trop d'erreurs: on arrête le test...\n"
     ]
    }
   ],
   "source": [
    "testeur = testeur_nombre_occurences(nombre_occurences)\n",
    "testeur.max_taille_tableau = 20\n",
    "testeur.lance_tests()"
   ]
  },
  {
   "cell_type": "markdown",
   "metadata": {},
   "source": [
    "---\n",
    "\n",
    "### Exercice 4\n",
    "\n",
    "Écrire un programme tirant 1000 entiers compris entre 1 et 10, et affichant ensuite le nombre d'occurences de chaque entier entre 1 et 10 dans ce tableau. Vous pouvez bien entendu réutiliser des fonctions déjà existantes pour cela."
   ]
  },
  {
   "cell_type": "code",
   "execution_count": 46,
   "metadata": {},
   "outputs": [],
   "source": [
    "# Écrire votre programme ici"
   ]
  },
  {
   "cell_type": "markdown",
   "metadata": {},
   "source": [
    "---\n",
    "\n",
    "### Exercice 5"
   ]
  },
  {
   "cell_type": "markdown",
   "metadata": {},
   "source": [
    "Écrire une fonction `somme(tableau)` calculant la somme des éléments (supposés être des nombres) de `tableau`.\n",
    "\n",
    "En déduire la fonction `moyenne(tableau)` calculant la moyenne des éléments de tableau."
   ]
  },
  {
   "cell_type": "code",
   "execution_count": 47,
   "metadata": {},
   "outputs": [],
   "source": [
    "def somme(tableau):\n",
    "    pass # Remplacer cette ligne par votre code"
   ]
  },
  {
   "cell_type": "code",
   "execution_count": 48,
   "metadata": {},
   "outputs": [],
   "source": [
    "def moyenne(tableau):\n",
    "    pass # Remplacer cette ligne par votre code"
   ]
  },
  {
   "cell_type": "code",
   "execution_count": 49,
   "metadata": {
    "tags": [
     "raises-exception"
    ]
   },
   "outputs": [
    {
     "name": "stdout",
     "output_type": "stream",
     "text": [
      "None\n",
      "None\n"
     ]
    }
   ],
   "source": [
    "# Tester votre code ici\n",
    "notes = [12, 8.5, 10, 14, 13, 10, 10.5, 6, 11, 12, 16]\n",
    "print(somme(notes))\n",
    "print(moyenne(notes))"
   ]
  },
  {
   "cell_type": "markdown",
   "metadata": {},
   "source": [
    "---\n",
    "\n",
    "### Exercice 6"
   ]
  },
  {
   "cell_type": "markdown",
   "metadata": {},
   "source": [
    "Écrire une fonction `échange(tableau, i, j)` qui ne renvoie aucune valeur (il n'y aura donc pas d'instruction `return` dans cette fonction), mais échangera physiquement les éléments d'indices `i` et `j` dans le paramètre `tableau`. On suppose que la contrainte $0 \\leqslant i, j < \\text{len}(\\text{tableau})$ est vérifiée."
   ]
  },
  {
   "cell_type": "code",
   "execution_count": 50,
   "metadata": {},
   "outputs": [],
   "source": [
    "def échange(tableau, i, j):\n",
    "    pass # Remplacer cette ligne par votre code"
   ]
  },
  {
   "cell_type": "code",
   "execution_count": 51,
   "metadata": {},
   "outputs": [
    {
     "data": {
      "text/plain": [
       "['Robin des bois', 'Dark Vador', 'Oui-Oui', 'Sauron']"
      ]
     },
     "execution_count": 51,
     "metadata": {},
     "output_type": "execute_result"
    }
   ],
   "source": [
    "# Tester votre code ici\n",
    "noms = [\"Robin des bois\", \"Dark Vador\", \"Oui-Oui\", \"Sauron\"]\n",
    "échange(noms, 2, 3)\n",
    "noms"
   ]
  },
  {
   "cell_type": "markdown",
   "metadata": {},
   "source": [
    "**Remarque importante:** Savoir échanger deux éléments d'un tableau (ou de la même façon, savoir échanger le contenu de deux variables) est un savoir faire important, il ne faut surtout pas l'oublier."
   ]
  },
  {
   "cell_type": "markdown",
   "metadata": {},
   "source": [
    "--- \n",
    "\n",
    "### Exercice 7\n",
    "\n",
    "Écrire une fonction `copie(tableau)` renvoyant une *copie* du tableau passé en paramètre. **Attention:** Il faudra s'assurer qu'il s'agit réellement d'une copie, c'est-à-dire d'un nouveau tableau contenant les mêmes éléments que le tableau initial.\n",
    "\n",
    "On peut tester que le tableau renvoyé est bien une copie en le modifiant: si le tableau initial est modifié à l'identique, alors il ne s'agissait pas d'une copie mais de deux variables pointant vers le même tableau en mémoire."
   ]
  },
  {
   "cell_type": "code",
   "execution_count": 52,
   "metadata": {},
   "outputs": [],
   "source": [
    "def copie(tableau):\n",
    "    pass # Remplacer cette ligne par votre code"
   ]
  },
  {
   "cell_type": "code",
   "execution_count": 53,
   "metadata": {
    "tags": [
     "raises-exception"
    ]
   },
   "outputs": [],
   "source": [
    "# Tester votre code ici\n",
    "nombres = [1, 2, 3, 4, 5, 6]\n",
    "duplicata = copie(nombres)\n",
    "duplicata"
   ]
  },
  {
   "cell_type": "code",
   "execution_count": 54,
   "metadata": {
    "tags": [
     "raises-exception"
    ]
   },
   "outputs": [
    {
     "ename": "AttributeError",
     "evalue": "'NoneType' object has no attribute 'append'",
     "output_type": "error",
     "traceback": [
      "\u001b[0;31m---------------------------------------------------------------------------\u001b[0m",
      "\u001b[0;31mAttributeError\u001b[0m                            Traceback (most recent call last)",
      "\u001b[0;32m<ipython-input-54-57ae1f23909b>\u001b[0m in \u001b[0;36m<module>\u001b[0;34m\u001b[0m\n\u001b[0;32m----> 1\u001b[0;31m \u001b[0mduplicata\u001b[0m\u001b[0;34m.\u001b[0m\u001b[0mappend\u001b[0m\u001b[0;34m(\u001b[0m\u001b[0;36m7\u001b[0m\u001b[0;34m)\u001b[0m\u001b[0;34m\u001b[0m\u001b[0;34m\u001b[0m\u001b[0m\n\u001b[0m\u001b[1;32m      2\u001b[0m \u001b[0mnombres\u001b[0m\u001b[0;34m,\u001b[0m \u001b[0mduplicata\u001b[0m\u001b[0;34m\u001b[0m\u001b[0;34m\u001b[0m\u001b[0m\n",
      "\u001b[0;31mAttributeError\u001b[0m: 'NoneType' object has no attribute 'append'"
     ]
    }
   ],
   "source": [
    "duplicata.append(7)\n",
    "nombres, duplicata"
   ]
  },
  {
   "cell_type": "markdown",
   "metadata": {},
   "source": [
    "---\n",
    "\n",
    "### Exercice 8\n",
    "\n",
    "Écrire une fonction `renverse(tableau)` renvoyant un nouveau tableau dans lequel les éléments sont placés dans l'ordre inverse."
   ]
  },
  {
   "cell_type": "code",
   "execution_count": 55,
   "metadata": {},
   "outputs": [],
   "source": [
    "def renverse(tableau):\n",
    "    pass # Remplacer cette ligne par votre code"
   ]
  },
  {
   "cell_type": "code",
   "execution_count": 56,
   "metadata": {
    "tags": [
     "raises-exception"
    ]
   },
   "outputs": [],
   "source": [
    "# Tester votre code ici\n",
    "noms = [\"Robin des bois\", \"Dark Vador\", \"Oui-Oui\", \"Sauron\"]\n",
    "renverse(noms)"
   ]
  },
  {
   "cell_type": "markdown",
   "metadata": {},
   "source": [
    "---\n",
    "\n",
    "### Exercice 9\n",
    "\n",
    "Écrire une fonction `mélange(tableau)` prenant en paramètre un tableau, et permutant aléatoirement les éléments de celui-ci. La fonction ne renvoie aucune valeur, elle modifie physiquement le tableau passé en paramètre.\n",
    "\n",
    "On pourra utiliser l'algorithme suivant pour réaliser le mélange (appelé **algorithme de Knuth**): on parcourt le tableau de gauche à droite. Chaque élément d'incide `i` sera échangé avec un de ces prédécésseurs choisi au hasard: on choisit aléatoirement un entier `j` vérifiant la contrainte $0 \\leqslant j \\leqslant i$, et on procède à l'échange. \n",
    "\n",
    "Cet algorithme garantit que la permutation est réellement aléatoire (c'est-à-dire équirépartie): chaque permutation possible a autant de chance d'aboutir qu'une autre."
   ]
  },
  {
   "cell_type": "code",
   "execution_count": 57,
   "metadata": {},
   "outputs": [],
   "source": [
    "def mélange(tableau):\n",
    "    pass # Remplacer cette ligne par votre code"
   ]
  },
  {
   "cell_type": "code",
   "execution_count": 58,
   "metadata": {
    "tags": [
     "raises-exception"
    ]
   },
   "outputs": [
    {
     "name": "stdout",
     "output_type": "stream",
     "text": [
      "['Robin des bois', 'Dark Vador', 'Oui-Oui', 'Sauron']\n",
      "['Robin des bois', 'Dark Vador', 'Oui-Oui', 'Sauron']\n",
      "['Robin des bois', 'Dark Vador', 'Oui-Oui', 'Sauron']\n",
      "['Robin des bois', 'Dark Vador', 'Oui-Oui', 'Sauron']\n",
      "['Robin des bois', 'Dark Vador', 'Oui-Oui', 'Sauron']\n",
      "['Robin des bois', 'Dark Vador', 'Oui-Oui', 'Sauron']\n",
      "['Robin des bois', 'Dark Vador', 'Oui-Oui', 'Sauron']\n",
      "['Robin des bois', 'Dark Vador', 'Oui-Oui', 'Sauron']\n",
      "['Robin des bois', 'Dark Vador', 'Oui-Oui', 'Sauron']\n",
      "['Robin des bois', 'Dark Vador', 'Oui-Oui', 'Sauron']\n"
     ]
    }
   ],
   "source": [
    "# Vous pouvez tester votre code ici\n",
    "for i in range(10):\n",
    "    mélange(noms)\n",
    "    print(noms)"
   ]
  },
  {
   "cell_type": "markdown",
   "metadata": {},
   "source": [
    "---\n",
    "\n",
    "### Exercice 10\n",
    "\n",
    "Écrire une fonction`cartes_poker()` ne prenant aucun paramètre, et renvoyant une liste des 52 cartes contenues dans un jeu standard de poker. Une carte sera un couple de chaînes de caractères de la forme `(\"roi\", \"trèfle\")` par exemple.\n",
    "\n",
    "Attention, ne trichez pas: il est possible d'énumérer à la main les 52 cartes, mais ce n'est évidemment pas le but. Utilisez plutôt un algorithme.\n",
    "\n",
    "Les cartes devront être rangées par couleurs, dans l'ordre suivant: d'abord les trèfles, puis les piques, puis les carreaux, puis les coeurs. À l'intérieur d'une couleur, les cartes seront rangées par ordre croissant, c'est-à-dire du 2 à l'As."
   ]
  },
  {
   "cell_type": "code",
   "execution_count": 59,
   "metadata": {},
   "outputs": [],
   "source": [
    "def cartes_poker():\n",
    "    couleurs = [\"Trèfle\", \"Pique\", \"Carreau\", \"Coeur\"]\n",
    "    rangs = [\"Deux\", \"Trois\", \"Quatre\", \"Cinq\", \"Six\", \"Sept\", \n",
    "                     \"Huit\", \"Neuf\", \"Dix\", \"Valet\", \"Dame\", \"Roi\", \"As\"]\n",
    "    \n",
    "    pass # Remplacer cette ligne par votre code"
   ]
  },
  {
   "cell_type": "code",
   "execution_count": 60,
   "metadata": {
    "tags": [
     "raises-exception"
    ]
   },
   "outputs": [],
   "source": [
    "# Tester votre code ici\n",
    "cartes_poker()"
   ]
  },
  {
   "cell_type": "markdown",
   "metadata": {},
   "source": [
    "Écrire à présent une fonction `tirage_main()` ne prenant aucun paramètre, et renvoyant une **main** de cinq cartes, c'est-à-dire cinq cartes choisies aléatoirement parmi les 52 cartes renvoyées par la fonction précédente.\n",
    "\n",
    "Pour cela, vous écrirez une fonction auxilliaire `choix(tableau, nombre)` choisissant `nombre` valeurs aléatoirement parmi les élements du tableau `tableau`, sans répétitions. Attention, il ne faut en aucun cas modifier le tableau passé en paramètre.\n",
    "\n",
    "La fonction renverra un nouveau tableau contenant les éléments choisis."
   ]
  },
  {
   "cell_type": "code",
   "execution_count": 61,
   "metadata": {},
   "outputs": [],
   "source": [
    "def choix(tableau, nombre):\n",
    "    pass  # Remplacer cette ligne par votre code"
   ]
  },
  {
   "cell_type": "code",
   "execution_count": 62,
   "metadata": {
    "tags": [
     "raises-exception"
    ]
   },
   "outputs": [
    {
     "name": "stdout",
     "output_type": "stream",
     "text": [
      "None\n",
      "None\n",
      "None\n",
      "None\n",
      "None\n",
      "None\n",
      "None\n",
      "None\n",
      "None\n",
      "None\n"
     ]
    }
   ],
   "source": [
    "# Tester votre code ici\n",
    "valeurs = [\"A1\", \"A2\", \"B1\", \"B2\", \"C1\", \"C2\", \"D1\", \"D2\"]\n",
    "for i in range(10):\n",
    "    print(choix(valeurs, 3))"
   ]
  },
  {
   "cell_type": "code",
   "execution_count": 63,
   "metadata": {},
   "outputs": [],
   "source": [
    "def tirage_main():\n",
    "    pass # Remplacer cette ligne par votre code"
   ]
  },
  {
   "cell_type": "code",
   "execution_count": 64,
   "metadata": {
    "tags": [
     "raises-exception"
    ]
   },
   "outputs": [
    {
     "name": "stdout",
     "output_type": "stream",
     "text": [
      "None\n",
      "None\n",
      "None\n",
      "None\n",
      "None\n",
      "None\n",
      "None\n",
      "None\n",
      "None\n",
      "None\n"
     ]
    }
   ],
   "source": [
    "# Tester votre code ici\n",
    "for i in range(10):\n",
    "    print(tirage_main())"
   ]
  },
  {
   "cell_type": "markdown",
   "metadata": {},
   "source": [
    "À présent, écrire une fonction `est_paire(main)` testant si une main donnée contient une paire d'éléments (c'est-à-dire deux éléments ayant le même rang mais des couleurs distinctes). La fonction renverra un booléen `True` ou `False` selon le cas."
   ]
  },
  {
   "cell_type": "markdown",
   "metadata": {},
   "source": [
    "Comme il s'agit du dernier exercice de la feuille, nous vous laissons le soin de créer la structure des cellules."
   ]
  },
  {
   "cell_type": "markdown",
   "metadata": {},
   "source": [
    "### Pour aller plus loin (très difficile)\n",
    "\n",
    "Au poker, il existe différents types de main, dont les forces ne sont pas les mêmes. Écrire une fonction `classification_main(main)` prenant en paramètre une main, et renvoyant le type de main dont il s'agit. \n",
    "\n",
    "Attention, il n'y a qu'une (et forcément une) réponse possible. La fonction devra renvoyer la main la plus forte correspondant au paramètre.\n",
    "\n",
    "Pour connaître les différents types de mains au poker, consulter par exemple la page \n",
    "https://fr.wikipedia.org/wiki/Main_au_poker"
   ]
  },
  {
   "cell_type": "code",
   "execution_count": null,
   "metadata": {},
   "outputs": [],
   "source": []
  }
 ],
 "metadata": {
  "kernelspec": {
   "display_name": "Python 3",
   "language": "python",
   "name": "python3"
  },
  "language_info": {
   "codemirror_mode": {
    "name": "ipython",
    "version": 3
   },
   "file_extension": ".py",
   "mimetype": "text/x-python",
   "name": "python",
   "nbconvert_exporter": "python",
   "pygments_lexer": "ipython3",
   "version": "3.7.4"
  }
 },
 "nbformat": 4,
 "nbformat_minor": 4
}

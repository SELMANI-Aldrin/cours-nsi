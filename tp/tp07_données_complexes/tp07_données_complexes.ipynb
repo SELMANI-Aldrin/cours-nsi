{
 "cells": [
  {
   "cell_type": "markdown",
   "metadata": {},
   "source": [
    "# Les structures de données complexes"
   ]
  },
  {
   "cell_type": "markdown",
   "metadata": {},
   "source": [
    "Jusqu'à présent, le seul type de donnée permettant d'agglomérer plusieurs valeurs pour les référencer par une unique variable est le tableau: un ensemble de valeurs d'un même type, rangées de manière séquentielle, et accessibles en lecture et en écriture par leur position (index).\n",
    "\n",
    "Pour de nombreux problèmes, il s'avère nécessaire de disposer d'autres manières d'agencer des données entre elles. Python en offre plusieurs, mais deux sont particulièrement indispensables: le *$n$-uplet* et le *dictionnaire*."
   ]
  },
  {
   "cell_type": "markdown",
   "metadata": {},
   "source": [
    "## Les $n$-uplets"
   ]
  },
  {
   "cell_type": "markdown",
   "metadata": {},
   "source": [
    "On a vu que les tableaux en python peuvent contenir des données hétérogènes (c'est-à-dire de types différents), mais les informaticiens découragent fortement cette pratique, source de nombreuses erreurs (notons d'ailleurs que beaucoup de langages de programmation très utilisés dans l'industrie *interdisent* explicitement les tableaux non-homogènes)."
   ]
  },
  {
   "cell_type": "markdown",
   "metadata": {},
   "source": [
    "Et pourtant, dans certaines situations un tel usage serait extrêmement utile. Imaginons que l'on souhaite stocker les données personnelles d'un élève du lycée. On pourrait utiliser par exemple la syntaxe suivante, autorisée en python:"
   ]
  },
  {
   "cell_type": "code",
   "execution_count": 1,
   "metadata": {},
   "outputs": [],
   "source": [
    "élève = ['Pierre', 'Durand', 16, 1, 4, 2003, '1ère7']"
   ]
  },
  {
   "cell_type": "markdown",
   "metadata": {},
   "source": [
    "Les données stockées sont respectivement le prénom, le nom, l'âge, le jour, le mois et l'année de naissance, ainsi que la classe.\n",
    "\n",
    "Si python tolère ce genre d'écriture, il propose néanmoins un type de données spécifiquement destiné à créer de tels *enregistrements*: il s'agit du $n$-uplet.\n",
    "\n",
    "On écrira de préférence:"
   ]
  },
  {
   "cell_type": "code",
   "execution_count": 2,
   "metadata": {},
   "outputs": [],
   "source": [
    "élève = ('Pierre', 'Durand', 16, 1, 4, 2003, '1ère7')"
   ]
  },
  {
   "cell_type": "markdown",
   "metadata": {},
   "source": [
    "On peut accéder à un élément de l'élève grâce à son indice, comme s'il s'agissait d'un tableau:"
   ]
  },
  {
   "cell_type": "code",
   "execution_count": 3,
   "metadata": {},
   "outputs": [
    {
     "data": {
      "text/plain": [
       "'Durand'"
      ]
     },
     "execution_count": 3,
     "metadata": {},
     "output_type": "execute_result"
    }
   ],
   "source": [
    "élève[1]"
   ]
  },
  {
   "cell_type": "markdown",
   "metadata": {},
   "source": [
    "### Que signifie le mot $n$-uplet ?"
   ]
  },
  {
   "cell_type": "markdown",
   "metadata": {},
   "source": [
    "La terminologie $n$-uplet est une généralisation des mots *triplets*, *quadruplets*, *quintuplets*, etc... de la langue française. Un triplet serait par exemple en mathématiques un $3$-uplet, un quadruplet un $4$-uplet et ainsi de suite. Un $n$-uplet est une généralisation lorsqu'on n'a plus $3$, $4$ ou $5$ composantes, mais $n$ composantes.\n",
    "\n",
    "En mathématiques, un $n$-uplet s'écrit $(x_1, x_2, \\ldots, x_n)$, où les $x_i$ sont des données dépendant du contexte.\n",
    "\n",
    "Enfin, en python, un $n$-uplet s'appelle un **tuple**."
   ]
  },
  {
   "cell_type": "markdown",
   "metadata": {},
   "source": [
    "### Un $n$-uplet est-il un tableau ?"
   ]
  },
  {
   "cell_type": "markdown",
   "metadata": {},
   "source": [
    "On pourrait penser *à tort* que les $n$-uplets (et donc les **tuples** en python) et les tableaux sont identiques, sauf que l'un est défini à l'aide de parenthèses alors que l'autre l'est à l'aide de crochets. Il n'en est rien.\n",
    "\n",
    "Voici les différences entre les deux types de données:"
   ]
  },
  {
   "cell_type": "markdown",
   "metadata": {},
   "source": [
    "* un $n$-uplet a explicitement pour vocation de stocker des données hétérogènes, contrairement aux tableaux;\n",
    "* un $n$-uplet **n'est pas modifiable** une fois qu'il a été créé: si on peut accéder aux données grâce à la notation ```élève[indice]```, il est impossible d'écrire ```élève[1] = 'Dupont'``` pour modifier le nom de famille d'un élève; En informatique, on dira qu'un $n$-uplet est **immuable** ou encore **immutable**, par opposition à des données **variables* ou encore **mutables** comme les tableaux;\n",
    "* en particulier, un $n$-uplet a une **taille fixe**: il n'est pas possible de supprimer ou de rajouter des éléments une fois le $n$-uplet créé."
   ]
  },
  {
   "cell_type": "markdown",
   "metadata": {},
   "source": [
    "### Utilisation d'un tuple en python"
   ]
  },
  {
   "cell_type": "markdown",
   "metadata": {},
   "source": [
    "On doit créer un tuple en explicitant ses composantes, comme on l'a vu pour l'exemple précédent:"
   ]
  },
  {
   "cell_type": "code",
   "execution_count": 4,
   "metadata": {},
   "outputs": [],
   "source": [
    "élève = ('Pierre', 'Durand', 16, 1, 4, 2003, '1ère7')"
   ]
  },
  {
   "cell_type": "markdown",
   "metadata": {},
   "source": [
    "Le nombre de composantes est accessible par la commande ```len()```, comme pour les tableaux:"
   ]
  },
  {
   "cell_type": "code",
   "execution_count": 5,
   "metadata": {},
   "outputs": [
    {
     "data": {
      "text/plain": [
       "7"
      ]
     },
     "execution_count": 5,
     "metadata": {},
     "output_type": "execute_result"
    }
   ],
   "source": [
    "len(élève)"
   ]
  },
  {
   "cell_type": "markdown",
   "metadata": {},
   "source": [
    "Les composantes sont accessibles grâce aux indices, numérotés comme pour les tableaux de $0$ à $n-1$, où $n$ est le nombre de composantes du tuple (c'est d'ailleurs le même $n$ que dans le nom mathématique $n$-uplet):"
   ]
  },
  {
   "cell_type": "code",
   "execution_count": 6,
   "metadata": {},
   "outputs": [
    {
     "data": {
      "text/plain": [
       "('Pierre', 'Durand')"
      ]
     },
     "execution_count": 6,
     "metadata": {},
     "output_type": "execute_result"
    }
   ],
   "source": [
    "élève[0], élève[1]"
   ]
  },
  {
   "cell_type": "markdown",
   "metadata": {},
   "source": [
    "Remarquez que python crée automatiquement un tuple lorsque l'on utilise la syntaxe ```valeur1, valeur2, ...```, notamment lorsque l'on renvoie plusieurs valeurs d'une fonction par la syntaxe ```return valeur1, valeur2, ...```"
   ]
  },
  {
   "cell_type": "markdown",
   "metadata": {},
   "source": [
    "Lorsque l'on veut récupérer toutes les composantes d'un tuple, on utilisera plutôt la possibilité qu'offre python d'affecter *simultanément* plusieurs variables:"
   ]
  },
  {
   "cell_type": "code",
   "execution_count": 7,
   "metadata": {},
   "outputs": [],
   "source": [
    "prénom, nom, âge, jour, mois, année, classe = élève"
   ]
  },
  {
   "cell_type": "markdown",
   "metadata": {},
   "source": [
    "On peut vérifier que les variables ont bien reçu les valeurs correspondant aux composantes appropriées:"
   ]
  },
  {
   "cell_type": "code",
   "execution_count": 8,
   "metadata": {},
   "outputs": [
    {
     "data": {
      "text/plain": [
       "('Pierre', 'Durand')"
      ]
     },
     "execution_count": 8,
     "metadata": {},
     "output_type": "execute_result"
    }
   ],
   "source": [
    "prénom, nom"
   ]
  },
  {
   "cell_type": "code",
   "execution_count": 9,
   "metadata": {},
   "outputs": [
    {
     "data": {
      "text/plain": [
       "(1, 4, 2003)"
      ]
     },
     "execution_count": 9,
     "metadata": {},
     "output_type": "execute_result"
    }
   ],
   "source": [
    "jour, mois, année"
   ]
  },
  {
   "cell_type": "markdown",
   "metadata": {},
   "source": [
    "**Attention:** il est indispensable que le nombre de variables soit égal au nombre de composantes, sous peine de déclencher une erreur:"
   ]
  },
  {
   "cell_type": "code",
   "execution_count": 10,
   "metadata": {
    "tags": [
     "raises-exception"
    ]
   },
   "outputs": [
    {
     "ename": "ValueError",
     "evalue": "too many values to unpack (expected 6)",
     "output_type": "error",
     "traceback": [
      "\u001b[0;31m---------------------------------------------------------------------------\u001b[0m",
      "\u001b[0;31mValueError\u001b[0m                                Traceback (most recent call last)",
      "\u001b[0;32m<ipython-input-10-370406824c18>\u001b[0m in \u001b[0;36m<module>\u001b[0;34m\u001b[0m\n\u001b[0;32m----> 1\u001b[0;31m \u001b[0mprénom\u001b[0m\u001b[0;34m,\u001b[0m \u001b[0mnom\u001b[0m\u001b[0;34m,\u001b[0m \u001b[0mâge\u001b[0m\u001b[0;34m,\u001b[0m \u001b[0mjour\u001b[0m\u001b[0;34m,\u001b[0m \u001b[0mmois\u001b[0m\u001b[0;34m,\u001b[0m \u001b[0mannée\u001b[0m \u001b[0;34m=\u001b[0m \u001b[0mélève\u001b[0m\u001b[0;34m\u001b[0m\u001b[0;34m\u001b[0m\u001b[0m\n\u001b[0m",
      "\u001b[0;31mValueError\u001b[0m: too many values to unpack (expected 6)"
     ]
    }
   ],
   "source": [
    "prénom, nom, âge, jour, mois, année = élève"
   ]
  },
  {
   "cell_type": "markdown",
   "metadata": {},
   "source": [
    "### À vous de jouer: exercices utilisant les tuples"
   ]
  },
  {
   "cell_type": "markdown",
   "metadata": {},
   "source": [
    "---\n",
    "#### Exercice 1: Création de tuples"
   ]
  },
  {
   "cell_type": "markdown",
   "metadata": {},
   "source": [
    "On stocke les dates de naissances de quelques personnes en utilisant 4 tableaux (un pour les prénoms, un pour les jours de naissance, un pour les mois de naissance, un pour l'année de naissance) afin de respecter la contrainte d'homogénéité des données dans un tableau:"
   ]
  },
  {
   "cell_type": "code",
   "execution_count": 11,
   "metadata": {},
   "outputs": [],
   "source": [
    "noms = [\"Arthur\", \"Mégane\", \"Zoé\", \"Tristan\"]\n",
    "jours = [1, 9, 28, 10]\n",
    "mois = [1, 12, 11, 3]\n",
    "années = [1942, 1906, 1973, 1938]"
   ]
  },
  {
   "cell_type": "markdown",
   "metadata": {},
   "source": [
    "L'objectif de l'exercice est d'écrire une fonction ```crée_tuples_élèves(noms, jours, mois, années)``` prenant pour paramètres des listes de prénoms et de jours/mois/années de naissance, et renvoyant une unique liste contenant des tuples pour chaque élève. Avec les données ci-dessus, le premier élément du tableau renvoyé devra par exemple être ```(\"Arthur\", 1, 1, 1942)```."
   ]
  },
  {
   "cell_type": "code",
   "execution_count": 12,
   "metadata": {},
   "outputs": [],
   "source": [
    "def crée_tuples_élèves(noms, jours, mois, années):\n",
    "    \"\"\"Écrire la documentation de la fonction ici\"\"\"\n",
    "    \n",
    "    pass # Écrire votre code ici\n"
   ]
  },
  {
   "cell_type": "markdown",
   "metadata": {},
   "source": [
    "Pensez à tester votre fonction, par exemple en affichant sa valeur de retour."
   ]
  },
  {
   "cell_type": "markdown",
   "metadata": {},
   "source": [
    "---\n",
    "#### Exercice 2: Réduction de tuples"
   ]
  },
  {
   "cell_type": "markdown",
   "metadata": {},
   "source": [
    "On a vu qu'il n'est possible de modifier un tuple déjà créé: ni en changeant la valeur d'une des composantes, ni en ajoutant en supprimant une composante. \n",
    "\n",
    "Et pourtant, voici ce que l'on demande de faire pour cet exercice:\n",
    "\n",
    "On considère un tableau de tuples de la forme (prénom, nom, jour, mois, année) décrivant un élève et sa date de naissance:"
   ]
  },
  {
   "cell_type": "code",
   "execution_count": 13,
   "metadata": {},
   "outputs": [],
   "source": [
    "élèves = [\n",
    "    (\"Sophie\", \"Jacquemin\", 3, 6, 2003),\n",
    "    (\"Zoé\", \"Ledoux\", 1, 2, 2004),\n",
    "    (\"Adrien\", \"Millet\", 8, 6, 2003),\n",
    "    (\"Gilles\", \"Hebert\", 11, 12, 2003),\n",
    "    (\"Andrée\", \"Millet\", 14, 1, 2005),\n",
    "    (\"Françoise\", \"Auger\", 30, 5, 2003),\n",
    "    (\"Margot\", \"Dias-Laurent\", 30, 6, 2003),\n",
    "    (\"Thimothée\", \"Lebreton\", 2, 10, 2004),\n",
    "    (\"Audrey\", \"Monnier\", 30, 12, 2006),\n",
    "    (\"Élisabeth\", \"Lebrun\", 27, 4, 2003)\n",
    "]"
   ]
  },
  {
   "cell_type": "markdown",
   "metadata": {},
   "source": [
    "Écrire une fonction ```réduit_tuples(tableau_élèves)``` prenant pour paramètre un tableau de tuples de la forme précédente, et renvoyant un autre tableau contenant des tuples de la forme (NOM, PRÉNOM) construit à partir des données du premier, dans le même ordre."
   ]
  },
  {
   "cell_type": "code",
   "execution_count": 14,
   "metadata": {},
   "outputs": [],
   "source": [
    "def réduit_tuples(tableau_élèves):\n",
    "    \"\"\"Écrire la documentation de la fonction ici\"\"\"\n",
    "    \n",
    "    pass # Écrire votre code ici"
   ]
  },
  {
   "cell_type": "markdown",
   "metadata": {},
   "source": [
    "Et comme à l'accoutumée on teste notre fonction:"
   ]
  },
  {
   "cell_type": "code",
   "execution_count": 15,
   "metadata": {
    "tags": [
     "raises-exception"
    ]
   },
   "outputs": [
    {
     "ename": "TypeError",
     "evalue": "'NoneType' object is not subscriptable",
     "output_type": "error",
     "traceback": [
      "\u001b[0;31m---------------------------------------------------------------------------\u001b[0m",
      "\u001b[0;31mTypeError\u001b[0m                                 Traceback (most recent call last)",
      "\u001b[0;32m<ipython-input-15-1742c86cdb53>\u001b[0m in \u001b[0;36m<module>\u001b[0;34m\u001b[0m\n\u001b[1;32m      1\u001b[0m \u001b[0mrésultats\u001b[0m \u001b[0;34m=\u001b[0m \u001b[0mréduit_tuples\u001b[0m\u001b[0;34m(\u001b[0m\u001b[0mélèves\u001b[0m\u001b[0;34m)\u001b[0m\u001b[0;34m\u001b[0m\u001b[0;34m\u001b[0m\u001b[0m\n\u001b[0;32m----> 2\u001b[0;31m \u001b[0;32massert\u001b[0m \u001b[0mrésultats\u001b[0m\u001b[0;34m[\u001b[0m\u001b[0;36m0\u001b[0m\u001b[0;34m]\u001b[0m \u001b[0;34m==\u001b[0m \u001b[0;34m(\u001b[0m\u001b[0;34m\"JACQUEMIN\"\u001b[0m\u001b[0;34m,\u001b[0m \u001b[0;34m\"SOPHIE\"\u001b[0m\u001b[0;34m)\u001b[0m\u001b[0;34m\u001b[0m\u001b[0;34m\u001b[0m\u001b[0m\n\u001b[0m\u001b[1;32m      3\u001b[0m \u001b[0;32massert\u001b[0m \u001b[0mrésultats\u001b[0m\u001b[0;34m[\u001b[0m\u001b[0;36m7\u001b[0m\u001b[0;34m]\u001b[0m \u001b[0;34m==\u001b[0m \u001b[0;34m(\u001b[0m\u001b[0;34m\"LEBRETON\"\u001b[0m\u001b[0;34m,\u001b[0m \u001b[0;34m\"THIMOTHÉE\"\u001b[0m\u001b[0;34m)\u001b[0m\u001b[0;34m\u001b[0m\u001b[0;34m\u001b[0m\u001b[0m\n\u001b[1;32m      4\u001b[0m \u001b[0mrésultats\u001b[0m\u001b[0;34m\u001b[0m\u001b[0;34m\u001b[0m\u001b[0m\n",
      "\u001b[0;31mTypeError\u001b[0m: 'NoneType' object is not subscriptable"
     ]
    }
   ],
   "source": [
    "résultats = réduit_tuples(élèves)\n",
    "assert résultats[0] == (\"JACQUEMIN\", \"SOPHIE\")\n",
    "assert résultats[7] == (\"LEBRETON\", \"THIMOTHÉE\")\n",
    "résultats"
   ]
  },
  {
   "cell_type": "markdown",
   "metadata": {},
   "source": [
    "---\n",
    "#### Exercice 3: Décomposition de tuples"
   ]
  },
  {
   "cell_type": "markdown",
   "metadata": {},
   "source": [
    "Réaliser la tâche inverse de celle proposée à l'exercice précédent: on dispose d'une liste d'élèves, où chaque élève est représenté par un tuple contenant le nom, le prénom et la date de naissance (sur 3 composantes).\n",
    "\n",
    "Écrire une fonction ```décompose_élèves(tableau_élèves)``` renvoyant les 5 tableaux correspondant aux 3 composantes de chaque tuple. On suppose que ```tableau_élèves``` contient uniquement des tuples au bon format (et peut être éventuellement vide)."
   ]
  },
  {
   "cell_type": "code",
   "execution_count": 16,
   "metadata": {},
   "outputs": [],
   "source": [
    "def décompose_élèves(tableau_élèves):\n",
    "    \"\"\"Écrire la documentation de la fonction ici\"\"\"\n",
    "    \n",
    "    pass # Écrire votre code ici\n"
   ]
  },
  {
   "cell_type": "markdown",
   "metadata": {},
   "source": [
    "On pourra tester le code sur le tableau suivant:"
   ]
  },
  {
   "cell_type": "code",
   "execution_count": 17,
   "metadata": {},
   "outputs": [],
   "source": [
    "élèves = [\n",
    "    (\"Sophie\", \"Jacquemin\", 3, 6, 2003),\n",
    "    (\"Zoé\", \"Ledoux\", 1, 2, 2004),\n",
    "    (\"Adrien\", \"Millet\", 8, 6, 2003),\n",
    "    (\"Gilles\", \"Hebert\", 11, 12, 2003),\n",
    "    (\"Andrée\", \"Millet\", 14, 1, 2005),\n",
    "    (\"Françoise\", \"Auger\", 30, 5, 2003),\n",
    "    (\"Margot\", \"Dias-Laurent\", 30, 6, 2003),\n",
    "    (\"Thimothée\", \"Lebreton\", 2, 10, 2004),\n",
    "    (\"Audrey\", \"Monnier\", 30, 12, 2006),\n",
    "    (\"Élisabeth\", \"Lebrun\", 27, 4, 2003)\n",
    "]"
   ]
  },
  {
   "cell_type": "code",
   "execution_count": 18,
   "metadata": {
    "tags": [
     "raises-exception"
    ]
   },
   "outputs": [
    {
     "ename": "TypeError",
     "evalue": "'NoneType' object is not iterable",
     "output_type": "error",
     "traceback": [
      "\u001b[0;31m---------------------------------------------------------------------------\u001b[0m",
      "\u001b[0;31mTypeError\u001b[0m                                 Traceback (most recent call last)",
      "\u001b[0;32m<ipython-input-18-7de8d13d8bd7>\u001b[0m in \u001b[0;36m<module>\u001b[0;34m\u001b[0m\n\u001b[0;32m----> 1\u001b[0;31m \u001b[0;32mfor\u001b[0m \u001b[0mtableau\u001b[0m \u001b[0;32min\u001b[0m \u001b[0mdécompose_élèves\u001b[0m\u001b[0;34m(\u001b[0m\u001b[0mélèves\u001b[0m\u001b[0;34m)\u001b[0m\u001b[0;34m:\u001b[0m\u001b[0;34m\u001b[0m\u001b[0;34m\u001b[0m\u001b[0m\n\u001b[0m\u001b[1;32m      2\u001b[0m     \u001b[0mprint\u001b[0m\u001b[0;34m(\u001b[0m\u001b[0mrepr\u001b[0m\u001b[0;34m(\u001b[0m\u001b[0mtableau\u001b[0m\u001b[0;34m)\u001b[0m\u001b[0;34m)\u001b[0m\u001b[0;34m\u001b[0m\u001b[0;34m\u001b[0m\u001b[0m\n",
      "\u001b[0;31mTypeError\u001b[0m: 'NoneType' object is not iterable"
     ]
    }
   ],
   "source": [
    "for tableau in décompose_élèves(élèves):\n",
    "    print(repr(tableau))"
   ]
  },
  {
   "cell_type": "markdown",
   "metadata": {},
   "source": [
    "## Les dictionnaires"
   ]
  },
  {
   "cell_type": "markdown",
   "metadata": {},
   "source": [
    "Un élève défini comme dans l'exemple précédent par un tuple est très pratique, mais il présente le désavantage de devoir mémoriser l'usage de chaque composante. On préfèrerait parfois pouvoir l'écrire explicitement dans le code.\n",
    "\n",
    "Python offre cette possibilité, en utilisant une sorte de *tuple nommé*:"
   ]
  },
  {
   "cell_type": "code",
   "execution_count": 19,
   "metadata": {},
   "outputs": [],
   "source": [
    "élève = {\"Prénom\": \"Sophie\", \"Nom\": \"Jacquemin\", \"Jour\": 3, \"Mois\": 6, \"Année\": 2003}"
   ]
  },
  {
   "cell_type": "markdown",
   "metadata": {},
   "source": [
    "Notons que cette variable est crée à l'aide d'accolades ```{``` et ```}``` et ses valeurs sont toutes de la forme ```\"clé\": valeur```"
   ]
  },
  {
   "cell_type": "markdown",
   "metadata": {},
   "source": [
    "En python un tel objet s'appelle un **dictionnaire**: il permet d'associer à des valeurs (appelées les **clés**) d'autres valeurs, un peu comme un dictionnaire associe à des noms leurs définitions."
   ]
  },
  {
   "cell_type": "markdown",
   "metadata": {},
   "source": [
    "### Accéder aux données d'un dictionnaire"
   ]
  },
  {
   "cell_type": "markdown",
   "metadata": {},
   "source": [
    "Pour accéder aux valeurs d'un dictionnaire, on doit connaître les clés correspondantes:"
   ]
  },
  {
   "cell_type": "code",
   "execution_count": 20,
   "metadata": {},
   "outputs": [
    {
     "data": {
      "text/plain": [
       "'Sophie'"
      ]
     },
     "execution_count": 20,
     "metadata": {},
     "output_type": "execute_result"
    }
   ],
   "source": [
    "élève[\"Prénom\"]"
   ]
  },
  {
   "cell_type": "code",
   "execution_count": 21,
   "metadata": {},
   "outputs": [
    {
     "data": {
      "text/plain": [
       "'Jacquemin'"
      ]
     },
     "execution_count": 21,
     "metadata": {},
     "output_type": "execute_result"
    }
   ],
   "source": [
    "élève[\"Nom\"]"
   ]
  },
  {
   "cell_type": "markdown",
   "metadata": {},
   "source": [
    "Notons que python réagit fort mal à l'utilisation d'une clé inexistante:"
   ]
  },
  {
   "cell_type": "code",
   "execution_count": 22,
   "metadata": {
    "tags": [
     "raises-exception"
    ]
   },
   "outputs": [
    {
     "ename": "KeyError",
     "evalue": "'Taille'",
     "output_type": "error",
     "traceback": [
      "\u001b[0;31m---------------------------------------------------------------------------\u001b[0m",
      "\u001b[0;31mKeyError\u001b[0m                                  Traceback (most recent call last)",
      "\u001b[0;32m<ipython-input-22-66fa39c0a019>\u001b[0m in \u001b[0;36m<module>\u001b[0;34m\u001b[0m\n\u001b[0;32m----> 1\u001b[0;31m \u001b[0mélève\u001b[0m\u001b[0;34m[\u001b[0m\u001b[0;34m\"Taille\"\u001b[0m\u001b[0;34m]\u001b[0m\u001b[0;34m\u001b[0m\u001b[0;34m\u001b[0m\u001b[0m\n\u001b[0m",
      "\u001b[0;31mKeyError\u001b[0m: 'Taille'"
     ]
    }
   ],
   "source": [
    "élève[\"Taille\"]"
   ]
  },
  {
   "cell_type": "markdown",
   "metadata": {},
   "source": [
    "Le nombre d'associations présentes dans le dictionnaire peut être trouvé grâce à ```len()```"
   ]
  },
  {
   "cell_type": "code",
   "execution_count": 23,
   "metadata": {},
   "outputs": [
    {
     "data": {
      "text/plain": [
       "5"
      ]
     },
     "execution_count": 23,
     "metadata": {},
     "output_type": "execute_result"
    }
   ],
   "source": [
    "len(élève)"
   ]
  },
  {
   "cell_type": "markdown",
   "metadata": {},
   "source": [
    "Il est possible de connaître l'ensemble des clés d'un dictionnaire:"
   ]
  },
  {
   "cell_type": "code",
   "execution_count": 24,
   "metadata": {},
   "outputs": [
    {
     "data": {
      "text/plain": [
       "dict_keys(['Prénom', 'Nom', 'Jour', 'Mois', 'Année'])"
      ]
     },
     "execution_count": 24,
     "metadata": {},
     "output_type": "execute_result"
    }
   ],
   "source": [
    "élève.keys()"
   ]
  },
  {
   "cell_type": "markdown",
   "metadata": {},
   "source": [
    "**Attention:** il n'y a aucune garantie que les clés soient données dans le même ordre que leur saisie: un dictionnaire n'est pas **ordonné**, il ne conserve pas d'ordre précis pour ses données et peut les réarranger comme bon lui semble (par exemple pour optimiser l'usage de la mémoire)."
   ]
  },
  {
   "cell_type": "markdown",
   "metadata": {},
   "source": [
    "On constate que ```keys()``` renvoie un objet d'un type un peu particulier. On peut le transformer un un tableau standard si le besoin s'en fait sentir:"
   ]
  },
  {
   "cell_type": "code",
   "execution_count": 25,
   "metadata": {},
   "outputs": [
    {
     "data": {
      "text/plain": [
       "['Prénom', 'Nom', 'Jour', 'Mois', 'Année']"
      ]
     },
     "execution_count": 25,
     "metadata": {},
     "output_type": "execute_result"
    }
   ],
   "source": [
    "list(élève.keys())"
   ]
  },
  {
   "cell_type": "markdown",
   "metadata": {},
   "source": [
    "Les valeurs d'un dictionnaire peuvent elles-aussi être accédées par la syntaxe:"
   ]
  },
  {
   "cell_type": "code",
   "execution_count": 26,
   "metadata": {},
   "outputs": [
    {
     "data": {
      "text/plain": [
       "dict_values(['Sophie', 'Jacquemin', 3, 6, 2003])"
      ]
     },
     "execution_count": 26,
     "metadata": {},
     "output_type": "execute_result"
    }
   ],
   "source": [
    "élève.values()"
   ]
  },
  {
   "cell_type": "markdown",
   "metadata": {},
   "source": [
    "Là encore, aucune garantie quand à l'ordre de ces valeurs. On peut obtenir un tableau standard:"
   ]
  },
  {
   "cell_type": "code",
   "execution_count": 27,
   "metadata": {},
   "outputs": [
    {
     "data": {
      "text/plain": [
       "['Sophie', 'Jacquemin', 3, 6, 2003]"
      ]
     },
     "execution_count": 27,
     "metadata": {},
     "output_type": "execute_result"
    }
   ],
   "source": [
    "list(élève.values())"
   ]
  },
  {
   "cell_type": "markdown",
   "metadata": {},
   "source": [
    "Enfin, on peut obtenir une liste de tuples ```(clé, valeur)``` pour toutes les entrées du dictionnaire:"
   ]
  },
  {
   "cell_type": "code",
   "execution_count": 28,
   "metadata": {},
   "outputs": [
    {
     "data": {
      "text/plain": [
       "dict_items([('Prénom', 'Sophie'), ('Nom', 'Jacquemin'), ('Jour', 3), ('Mois', 6), ('Année', 2003)])"
      ]
     },
     "execution_count": 28,
     "metadata": {},
     "output_type": "execute_result"
    }
   ],
   "source": [
    "élève.items()"
   ]
  },
  {
   "cell_type": "code",
   "execution_count": 29,
   "metadata": {},
   "outputs": [
    {
     "data": {
      "text/plain": [
       "[('Prénom', 'Sophie'),\n",
       " ('Nom', 'Jacquemin'),\n",
       " ('Jour', 3),\n",
       " ('Mois', 6),\n",
       " ('Année', 2003)]"
      ]
     },
     "execution_count": 29,
     "metadata": {},
     "output_type": "execute_result"
    }
   ],
   "source": [
    "list(élève.items())"
   ]
  },
  {
   "cell_type": "markdown",
   "metadata": {},
   "source": [
    "### Parcours d'un dictionnaire"
   ]
  },
  {
   "cell_type": "markdown",
   "metadata": {},
   "source": [
    "Il est possible d'accéder aisément à toutes les associations d'un dictionnaire à l'aide d'une boucle ```for``` adaptée:"
   ]
  },
  {
   "cell_type": "code",
   "execution_count": 30,
   "metadata": {},
   "outputs": [
    {
     "name": "stdout",
     "output_type": "stream",
     "text": [
      "Prénom : Sophie\n",
      "Nom : Jacquemin\n",
      "Jour : 3\n",
      "Mois : 6\n",
      "Année : 2003\n"
     ]
    }
   ],
   "source": [
    "for clé in élève:\n",
    "    valeur = élève[clé]\n",
    "    print(clé, \":\", valeur)"
   ]
  },
  {
   "cell_type": "markdown",
   "metadata": {},
   "source": [
    "Notons que cette boucle parcourt par défaut l'ensemble des clés du dictionnaire. Si on veut parcourir le dictionnaire sur les valeurs, voire sur les couples (clés, valeurs), on peut procéder comme suit:"
   ]
  },
  {
   "cell_type": "code",
   "execution_count": 31,
   "metadata": {},
   "outputs": [
    {
     "name": "stdout",
     "output_type": "stream",
     "text": [
      "Sophie\n",
      "Jacquemin\n",
      "3\n",
      "6\n",
      "2003\n"
     ]
    }
   ],
   "source": [
    "for valeur in élève.values():\n",
    "    print(valeur)"
   ]
  },
  {
   "cell_type": "markdown",
   "metadata": {},
   "source": [
    "Notons que pour cet exemple, il n'y a pas de moyen simple de retrouver la clé à partir d'une valeur: plusieurs clés pourraient d'ailleurs avoir la même valeur, ce qui rendrait cette tâche problématique."
   ]
  },
  {
   "cell_type": "code",
   "execution_count": 32,
   "metadata": {},
   "outputs": [
    {
     "name": "stdout",
     "output_type": "stream",
     "text": [
      "Prénom : Sophie\n",
      "Nom : Jacquemin\n",
      "Jour : 3\n",
      "Mois : 6\n",
      "Année : 2003\n"
     ]
    }
   ],
   "source": [
    "for clé, valeur in élève.items():\n",
    "    print(clé, \":\", valeur)"
   ]
  },
  {
   "cell_type": "markdown",
   "metadata": {},
   "source": [
    "### Création dynamique d'un dictionnaire"
   ]
  },
  {
   "cell_type": "markdown",
   "metadata": {},
   "source": [
    "Plutôt que de créer explicitement un dictionnaire comme pour le premier exemple précédent, on peut le créer dynamiquement en partant d'un dictionnaire vide et en rajoutant de nouveaux couples de clé/valeurs au fur et à mesure des besoins.\n",
    "\n",
    "Contrairement à un tuple, un dictionnaire est une donnée *variable*, qui peut être modifiée en temps réel, y compris le rajout ou la suppression de données."
   ]
  },
  {
   "cell_type": "code",
   "execution_count": 33,
   "metadata": {},
   "outputs": [
    {
     "data": {
      "text/plain": [
       "{'Nom': 'Dupont-Andrieux',\n",
       " 'Prénom': 'Jean-Eudes',\n",
       " 'Année': 2001,\n",
       " 'Mois': 9,\n",
       " 'Jour': 15}"
      ]
     },
     "execution_count": 33,
     "metadata": {},
     "output_type": "execute_result"
    }
   ],
   "source": [
    "élève = {}\n",
    "élève[\"Nom\"] = \"Dupont-Andrieux\"\n",
    "élève[\"Prénom\"] = \"Jean-Eudes\"\n",
    "élève[\"Année\"] = 2001\n",
    "élève[\"Mois\"] = 9\n",
    "élève[\"Jour\"] = 15\n",
    "\n",
    "élève"
   ]
  },
  {
   "cell_type": "markdown",
   "metadata": {},
   "source": [
    "Notons que l'ordre d'ajout des données n'a strictement aucune importance, puisque python ne garantit pas de conserver cet ordre à l'usage."
   ]
  },
  {
   "cell_type": "markdown",
   "metadata": {},
   "source": [
    "Il est bien entendu possible de supprimer une association d'un dictionnaire (à condition qu'elle existe). On utilise pour cela la syntaxe:\n"
   ]
  },
  {
   "cell_type": "code",
   "execution_count": 34,
   "metadata": {},
   "outputs": [],
   "source": [
    "del(élève[\"Prénom\"])"
   ]
  },
  {
   "cell_type": "code",
   "execution_count": 35,
   "metadata": {},
   "outputs": [
    {
     "data": {
      "text/plain": [
       "{'Nom': 'Dupont-Andrieux', 'Année': 2001, 'Mois': 9, 'Jour': 15}"
      ]
     },
     "execution_count": 35,
     "metadata": {},
     "output_type": "execute_result"
    }
   ],
   "source": [
    "élève"
   ]
  },
  {
   "cell_type": "markdown",
   "metadata": {},
   "source": [
    "... et notre élève n'a plus de prénom. Un message d'erreur est bien entendu déclenché en cas de clé inexistante."
   ]
  },
  {
   "cell_type": "markdown",
   "metadata": {},
   "source": [
    "### Les clés doivent-elles être des chaînes de caractères ?"
   ]
  },
  {
   "cell_type": "markdown",
   "metadata": {},
   "source": [
    "Dans les exemples précédent, les clés étaient toujours des chaînes de caractères. Mais python offre plus de liberté: les clés peuvent être de n'importe quel type, à condition de respecter quelques conditions:\n",
    "* les clés doivent être des valeurs **immuables**, comme par exemple des chaînes de caractères, des nomres, ou ... des tuples;\n",
    "* les clés doivent être uniques: à une clé donnée ne peut être associée qu'une unique valeur, l'inverse étant fausse (plusieurs clés peuvent très bien pointer vers des valeurs identiques)"
   ]
  },
  {
   "cell_type": "markdown",
   "metadata": {},
   "source": [
    "Voici un exemple de dictionnaire associant à des entiers leurs carrés. On utilise en outre pour le créer une syntaxe *par compréhension*, comme pour les tableaux:"
   ]
  },
  {
   "cell_type": "code",
   "execution_count": 36,
   "metadata": {},
   "outputs": [],
   "source": [
    "carrés = { n: n*n for n in range(1, 21)}"
   ]
  },
  {
   "cell_type": "code",
   "execution_count": 37,
   "metadata": {},
   "outputs": [
    {
     "data": {
      "text/plain": [
       "{1: 1,\n",
       " 2: 4,\n",
       " 3: 9,\n",
       " 4: 16,\n",
       " 5: 25,\n",
       " 6: 36,\n",
       " 7: 49,\n",
       " 8: 64,\n",
       " 9: 81,\n",
       " 10: 100,\n",
       " 11: 121,\n",
       " 12: 144,\n",
       " 13: 169,\n",
       " 14: 196,\n",
       " 15: 225,\n",
       " 16: 256,\n",
       " 17: 289,\n",
       " 18: 324,\n",
       " 19: 361,\n",
       " 20: 400}"
      ]
     },
     "execution_count": 37,
     "metadata": {},
     "output_type": "execute_result"
    }
   ],
   "source": [
    "carrés"
   ]
  },
  {
   "cell_type": "code",
   "execution_count": 38,
   "metadata": {},
   "outputs": [
    {
     "data": {
      "text/plain": [
       "169"
      ]
     },
     "execution_count": 38,
     "metadata": {},
     "output_type": "execute_result"
    }
   ],
   "source": [
    "carrés[13]"
   ]
  },
  {
   "cell_type": "markdown",
   "metadata": {},
   "source": [
    "**Attention:** il s'agit bien ici d'un dictionnaire, et non pas un appel à un hypothétique fonction carré. Seules les valeurs préalablement entrées dans le dictionnaire sont accessibles."
   ]
  },
  {
   "cell_type": "markdown",
   "metadata": {},
   "source": [
    "### Tester la présence d'une clé dans un dictionnaire"
   ]
  },
  {
   "cell_type": "markdown",
   "metadata": {},
   "source": [
    "On a déjà vu qu'accéder à une clé inexistance déclenche un message d'erreur. Il nous faut donc absolument disposer d'un moyen de savoir si une clé est présente dans un dictionnaire sans que cela ne stoppe notre programme. C'est possible:"
   ]
  },
  {
   "cell_type": "code",
   "execution_count": 39,
   "metadata": {},
   "outputs": [
    {
     "data": {
      "text/plain": [
       "True"
      ]
     },
     "execution_count": 39,
     "metadata": {},
     "output_type": "execute_result"
    }
   ],
   "source": [
    "12 in carrés"
   ]
  },
  {
   "cell_type": "code",
   "execution_count": 40,
   "metadata": {},
   "outputs": [
    {
     "data": {
      "text/plain": [
       "False"
      ]
     },
     "execution_count": 40,
     "metadata": {},
     "output_type": "execute_result"
    }
   ],
   "source": [
    "-2 in carrés"
   ]
  },
  {
   "cell_type": "markdown",
   "metadata": {},
   "source": [
    "On constate ici que 12 est une des clés stockée dans le dictionnaire des carrés, alors que -2 n'y est pas. Cette construction syntaxique ne déclenche pas de message d'erreur, et est à utiliser systématiquement avant d'accéder à un élément lorsque l'on n'est pas certain de sa présence dans le dictionnaire."
   ]
  },
  {
   "cell_type": "markdown",
   "metadata": {},
   "source": [
    "Si on veut à l'inverse s'assurer qu'une clé **n'est pas** stockée dans un dictionnaire, on peut écrire ceci:"
   ]
  },
  {
   "cell_type": "code",
   "execution_count": 41,
   "metadata": {},
   "outputs": [
    {
     "data": {
      "text/plain": [
       "False"
      ]
     },
     "execution_count": 41,
     "metadata": {},
     "output_type": "execute_result"
    }
   ],
   "source": [
    "12 not in carrés"
   ]
  },
  {
   "cell_type": "code",
   "execution_count": 42,
   "metadata": {},
   "outputs": [
    {
     "data": {
      "text/plain": [
       "True"
      ]
     },
     "execution_count": 42,
     "metadata": {},
     "output_type": "execute_result"
    }
   ],
   "source": [
    "-2 not in carrés"
   ]
  },
  {
   "cell_type": "markdown",
   "metadata": {},
   "source": [
    "### À vous de jouer: exercices sur les dictionnaires"
   ]
  },
  {
   "cell_type": "markdown",
   "metadata": {},
   "source": [
    "---\n",
    "#### Exercice 4 : création de tuples nommés (dictionnaires)"
   ]
  },
  {
   "cell_type": "markdown",
   "metadata": {},
   "source": [
    "On reprend la liste d'élèves précédente:"
   ]
  },
  {
   "cell_type": "code",
   "execution_count": 43,
   "metadata": {},
   "outputs": [],
   "source": [
    "élèves = [\n",
    "    (\"Sophie\", \"Jacquemin\", 3, 6, 2003),\n",
    "    (\"Zoé\", \"Ledoux\", 1, 2, 2004),\n",
    "    (\"Adrien\", \"Millet\", 8, 6, 2003),\n",
    "    (\"Gilles\", \"Hebert\", 11, 12, 2003),\n",
    "    (\"Andrée\", \"Millet\", 14, 1, 2005),\n",
    "    (\"Françoise\", \"Auger\", 30, 5, 2003),\n",
    "    (\"Margot\", \"Dias-Laurent\", 30, 6, 2003),\n",
    "    (\"Thimothée\", \"Lebreton\", 2, 10, 2004),\n",
    "    (\"Audrey\", \"Monnier\", 30, 12, 2006),\n",
    "    (\"Élisabeth\", \"Lebrun\", 27, 4, 2003)\n",
    "]"
   ]
  },
  {
   "cell_type": "markdown",
   "metadata": {},
   "source": [
    "Écrire une fonction ```élèves_tuples_nommés(tableau_élèves, liste_clés)``` prenant pour paramètre un tableau au format précédent et une liste de clés, et renvoyant un tableau similaire où chaque tuple a été remplacé par un tuple nommé, c'est-à-dire un dictionnaire. On utilisera la liste de clés pour créer chaque dictionnaire."
   ]
  },
  {
   "cell_type": "code",
   "execution_count": 44,
   "metadata": {},
   "outputs": [],
   "source": [
    "def élèves_tuples_nommés(tableau_élèves, liste_clés):\n",
    "    \"\"\"Écrire la documentation ici\"\"\"\n",
    "    \n",
    "    pass # Écrire votre code ici"
   ]
  },
  {
   "cell_type": "markdown",
   "metadata": {},
   "source": [
    "N'oubliez pas de tester votre code, en incluant la liste des clés correspondant aux tuples définissant les élèves:"
   ]
  },
  {
   "cell_type": "code",
   "execution_count": 45,
   "metadata": {},
   "outputs": [],
   "source": [
    "élèves_tuples_nommés(élèves, [\"prénom\", \"nom\", \"jour\", \"mois\", \"année\"])"
   ]
  },
  {
   "cell_type": "markdown",
   "metadata": {},
   "source": [
    "Assurez-vous que la cellule précédente affiche un tableau contenant les dictionnaires définissant chaque élève."
   ]
  },
  {
   "cell_type": "markdown",
   "metadata": {},
   "source": [
    "---\n",
    "#### Exercice 5: décompte du nombre d'occurences"
   ]
  },
  {
   "cell_type": "markdown",
   "metadata": {},
   "source": [
    "Les dictionnaires facilitent énormément l'écriture de certains algorithmes."
   ]
  },
  {
   "cell_type": "markdown",
   "metadata": {},
   "source": [
    "Écrivez une fonction ```décompte_années(tableau_élèves)``` prenant pour paramètre le résultat de l'exercice précédente (un tableau contenant des dictionnaires pour chaque élève), et renvoyant un dictionnaire associant à chaque année de naissance le nombre d'élèves nés cette année là. On n'incluera uniquement des années ayant connu au moins une naissance."
   ]
  },
  {
   "cell_type": "markdown",
   "metadata": {},
   "source": [
    "**Indication:** Il va falloir différencier le cas où une année est déjà stockée dans le dictionnaire ou non:\n",
    "* Si elle y est déjà, on incrémente le compteur associé de 1;\n",
    "* Si elle n'y est pas déjà, on la rajoute dans le dictionnaire, avec une valeur égale à 1."
   ]
  },
  {
   "cell_type": "code",
   "execution_count": 46,
   "metadata": {},
   "outputs": [],
   "source": [
    "def décompte_années(tableau_élèves):\n",
    "    \"\"\"Écrire la documentation de la fonction ici\"\"\"\n",
    "    \n",
    "    pass # Écrire votre code ici"
   ]
  },
  {
   "cell_type": "markdown",
   "metadata": {},
   "source": [
    "On s'assure que votre fonction donne les bons résultats:"
   ]
  },
  {
   "cell_type": "code",
   "execution_count": 47,
   "metadata": {
    "tags": [
     "raises-exception"
    ]
   },
   "outputs": [
    {
     "ename": "TypeError",
     "evalue": "'NoneType' object is not subscriptable",
     "output_type": "error",
     "traceback": [
      "\u001b[0;31m---------------------------------------------------------------------------\u001b[0m",
      "\u001b[0;31mTypeError\u001b[0m                                 Traceback (most recent call last)",
      "\u001b[0;32m<ipython-input-47-6184ac9deb00>\u001b[0m in \u001b[0;36m<module>\u001b[0;34m\u001b[0m\n\u001b[1;32m      2\u001b[0m \u001b[0mélèves_dict\u001b[0m \u001b[0;34m=\u001b[0m \u001b[0mélèves_tuples_nommés\u001b[0m\u001b[0;34m(\u001b[0m\u001b[0mélèves\u001b[0m\u001b[0;34m,\u001b[0m \u001b[0mclés\u001b[0m\u001b[0;34m)\u001b[0m\u001b[0;34m\u001b[0m\u001b[0;34m\u001b[0m\u001b[0m\n\u001b[1;32m      3\u001b[0m \u001b[0mrésultat\u001b[0m \u001b[0;34m=\u001b[0m \u001b[0mdécompte_années\u001b[0m\u001b[0;34m(\u001b[0m\u001b[0mélèves_dict\u001b[0m\u001b[0;34m)\u001b[0m\u001b[0;34m\u001b[0m\u001b[0;34m\u001b[0m\u001b[0m\n\u001b[0;32m----> 4\u001b[0;31m \u001b[0;32massert\u001b[0m \u001b[0mrésultat\u001b[0m\u001b[0;34m[\u001b[0m\u001b[0;36m2003\u001b[0m\u001b[0;34m]\u001b[0m \u001b[0;34m==\u001b[0m \u001b[0;36m6\u001b[0m\u001b[0;34m\u001b[0m\u001b[0;34m\u001b[0m\u001b[0m\n\u001b[0m\u001b[1;32m      5\u001b[0m \u001b[0;32massert\u001b[0m \u001b[0mrésultat\u001b[0m\u001b[0;34m[\u001b[0m\u001b[0;36m2004\u001b[0m\u001b[0;34m]\u001b[0m \u001b[0;34m==\u001b[0m \u001b[0;36m2\u001b[0m\u001b[0;34m\u001b[0m\u001b[0;34m\u001b[0m\u001b[0m\n\u001b[1;32m      6\u001b[0m \u001b[0;32massert\u001b[0m \u001b[0mrésultat\u001b[0m\u001b[0;34m[\u001b[0m\u001b[0;36m2005\u001b[0m\u001b[0;34m]\u001b[0m \u001b[0;34m==\u001b[0m \u001b[0;36m1\u001b[0m\u001b[0;34m\u001b[0m\u001b[0;34m\u001b[0m\u001b[0m\n",
      "\u001b[0;31mTypeError\u001b[0m: 'NoneType' object is not subscriptable"
     ]
    }
   ],
   "source": [
    "clés = [\"prénom\", \"nom\", \"jour\", \"mois\", \"année\"]\n",
    "élèves_dict = élèves_tuples_nommés(élèves, clés)\n",
    "résultat = décompte_années(élèves_dict)\n",
    "assert résultat[2003] == 6\n",
    "assert résultat[2004] == 2\n",
    "assert résultat[2005] == 1\n",
    "assert résultat[2006] == 1\n",
    "assert len(résultat) == 4"
   ]
  },
  {
   "cell_type": "markdown",
   "metadata": {},
   "source": [
    "---\n",
    "#### Exercice 6: encore des occurences !"
   ]
  },
  {
   "cell_type": "markdown",
   "metadata": {},
   "source": [
    "Écrire une fonction ```occurences(tableau)``` prenant en paramètre un tableau (de valeurs dont le type n'est pas spécifié) et renvoyant un dictionnaire où les clés sont les valeurs du tableau, et chaque clé est associée aux nombre d'occurences dans le tableau."
   ]
  },
  {
   "cell_type": "code",
   "execution_count": 48,
   "metadata": {},
   "outputs": [],
   "source": [
    "def occurences(tableau):\n",
    "    \"\"\"Écrire la documentation de la fonction ici\"\"\"\n",
    "    \n",
    "    pass # Écrire votre code ici"
   ]
  },
  {
   "cell_type": "markdown",
   "metadata": {},
   "source": [
    "Quelques tests que votre fonction doit passer sans encombre pour être validée:"
   ]
  },
  {
   "cell_type": "code",
   "execution_count": 49,
   "metadata": {
    "tags": [
     "raises-exception"
    ]
   },
   "outputs": [
    {
     "ename": "AssertionError",
     "evalue": "",
     "output_type": "error",
     "traceback": [
      "\u001b[0;31m---------------------------------------------------------------------------\u001b[0m",
      "\u001b[0;31mAssertionError\u001b[0m                            Traceback (most recent call last)",
      "\u001b[0;32m<ipython-input-49-ab5dff3bb8a2>\u001b[0m in \u001b[0;36m<module>\u001b[0;34m\u001b[0m\n\u001b[0;32m----> 1\u001b[0;31m \u001b[0;32massert\u001b[0m \u001b[0moccurences\u001b[0m\u001b[0;34m(\u001b[0m\u001b[0;34m[\u001b[0m\u001b[0;36m1\u001b[0m\u001b[0;34m,\u001b[0m \u001b[0;36m2\u001b[0m\u001b[0;34m,\u001b[0m \u001b[0;36m3\u001b[0m\u001b[0;34m,\u001b[0m \u001b[0;36m4\u001b[0m\u001b[0;34m]\u001b[0m\u001b[0;34m)\u001b[0m \u001b[0;34m==\u001b[0m \u001b[0;34m{\u001b[0m\u001b[0;36m1\u001b[0m\u001b[0;34m:\u001b[0m \u001b[0;36m1\u001b[0m\u001b[0;34m,\u001b[0m \u001b[0;36m2\u001b[0m\u001b[0;34m:\u001b[0m \u001b[0;36m1\u001b[0m\u001b[0;34m,\u001b[0m \u001b[0;36m3\u001b[0m\u001b[0;34m:\u001b[0m \u001b[0;36m1\u001b[0m\u001b[0;34m,\u001b[0m \u001b[0;36m4\u001b[0m\u001b[0;34m:\u001b[0m \u001b[0;36m1\u001b[0m\u001b[0;34m}\u001b[0m\u001b[0;34m\u001b[0m\u001b[0;34m\u001b[0m\u001b[0m\n\u001b[0m\u001b[1;32m      2\u001b[0m \u001b[0;32massert\u001b[0m \u001b[0moccurences\u001b[0m\u001b[0;34m(\u001b[0m\u001b[0;34m[\u001b[0m\u001b[0;36m1\u001b[0m\u001b[0;34m,\u001b[0m \u001b[0;36m2\u001b[0m\u001b[0;34m,\u001b[0m \u001b[0;36m2\u001b[0m\u001b[0;34m,\u001b[0m \u001b[0;36m3\u001b[0m\u001b[0;34m,\u001b[0m \u001b[0;36m3\u001b[0m\u001b[0;34m,\u001b[0m \u001b[0;36m3\u001b[0m\u001b[0;34m,\u001b[0m \u001b[0;36m4\u001b[0m\u001b[0;34m,\u001b[0m \u001b[0;36m4\u001b[0m\u001b[0;34m,\u001b[0m \u001b[0;36m4\u001b[0m\u001b[0;34m,\u001b[0m \u001b[0;36m4\u001b[0m\u001b[0;34m]\u001b[0m\u001b[0;34m)\u001b[0m \u001b[0;34m==\u001b[0m \u001b[0;34m{\u001b[0m\u001b[0;36m1\u001b[0m\u001b[0;34m:\u001b[0m \u001b[0;36m1\u001b[0m\u001b[0;34m,\u001b[0m \u001b[0;36m2\u001b[0m\u001b[0;34m:\u001b[0m \u001b[0;36m2\u001b[0m\u001b[0;34m,\u001b[0m \u001b[0;36m3\u001b[0m\u001b[0;34m:\u001b[0m \u001b[0;36m3\u001b[0m\u001b[0;34m,\u001b[0m \u001b[0;36m4\u001b[0m\u001b[0;34m:\u001b[0m \u001b[0;36m4\u001b[0m\u001b[0;34m}\u001b[0m\u001b[0;34m\u001b[0m\u001b[0;34m\u001b[0m\u001b[0m\n\u001b[1;32m      3\u001b[0m \u001b[0;32massert\u001b[0m \u001b[0moccurences\u001b[0m\u001b[0;34m(\u001b[0m\u001b[0;34m[\u001b[0m\u001b[0;36m1\u001b[0m\u001b[0;34m,\u001b[0m \u001b[0;36m3\u001b[0m\u001b[0;34m,\u001b[0m \u001b[0;36m4\u001b[0m\u001b[0;34m,\u001b[0m \u001b[0;36m4\u001b[0m\u001b[0;34m,\u001b[0m \u001b[0;36m2\u001b[0m\u001b[0;34m,\u001b[0m \u001b[0;36m3\u001b[0m\u001b[0;34m,\u001b[0m \u001b[0;36m4\u001b[0m\u001b[0;34m,\u001b[0m \u001b[0;36m2\u001b[0m\u001b[0;34m,\u001b[0m \u001b[0;36m4\u001b[0m\u001b[0;34m,\u001b[0m \u001b[0;36m3\u001b[0m\u001b[0;34m]\u001b[0m\u001b[0;34m)\u001b[0m \u001b[0;34m==\u001b[0m \u001b[0;34m{\u001b[0m\u001b[0;36m1\u001b[0m\u001b[0;34m:\u001b[0m \u001b[0;36m1\u001b[0m\u001b[0;34m,\u001b[0m \u001b[0;36m2\u001b[0m\u001b[0;34m:\u001b[0m \u001b[0;36m2\u001b[0m\u001b[0;34m,\u001b[0m \u001b[0;36m3\u001b[0m\u001b[0;34m:\u001b[0m \u001b[0;36m3\u001b[0m\u001b[0;34m,\u001b[0m \u001b[0;36m4\u001b[0m\u001b[0;34m:\u001b[0m \u001b[0;36m4\u001b[0m\u001b[0;34m}\u001b[0m\u001b[0;34m\u001b[0m\u001b[0;34m\u001b[0m\u001b[0m\n\u001b[1;32m      4\u001b[0m \u001b[0;32massert\u001b[0m \u001b[0moccurences\u001b[0m\u001b[0;34m(\u001b[0m\u001b[0;34m\"pascal\"\u001b[0m\u001b[0;34m)\u001b[0m \u001b[0;34m==\u001b[0m \u001b[0;34m{\u001b[0m\u001b[0;34m\"p\"\u001b[0m\u001b[0;34m:\u001b[0m \u001b[0;36m1\u001b[0m\u001b[0;34m,\u001b[0m \u001b[0;34m\"a\"\u001b[0m\u001b[0;34m:\u001b[0m \u001b[0;36m2\u001b[0m\u001b[0;34m,\u001b[0m \u001b[0;34m\"s\"\u001b[0m\u001b[0;34m:\u001b[0m \u001b[0;36m1\u001b[0m\u001b[0;34m,\u001b[0m \u001b[0;34m\"c\"\u001b[0m\u001b[0;34m:\u001b[0m \u001b[0;36m1\u001b[0m\u001b[0;34m,\u001b[0m \u001b[0;34m\"l\"\u001b[0m\u001b[0;34m:\u001b[0m \u001b[0;36m1\u001b[0m\u001b[0;34m}\u001b[0m\u001b[0;34m\u001b[0m\u001b[0;34m\u001b[0m\u001b[0m\n",
      "\u001b[0;31mAssertionError\u001b[0m: "
     ]
    }
   ],
   "source": [
    "assert occurences([1, 2, 3, 4]) == {1: 1, 2: 1, 3: 1, 4: 1}\n",
    "assert occurences([1, 2, 2, 3, 3, 3, 4, 4, 4, 4]) == {1: 1, 2: 2, 3: 3, 4: 4}\n",
    "assert occurences([1, 3, 4, 4, 2, 3, 4, 2, 4, 3]) == {1: 1, 2: 2, 3: 3, 4: 4}\n",
    "assert occurences(\"pascal\") == {\"p\": 1, \"a\": 2, \"s\": 1, \"c\": 1, \"l\": 1}"
   ]
  },
  {
   "cell_type": "markdown",
   "metadata": {},
   "source": [
    "---\n",
    "#### Exercice 7: comparaison de deux tableaux"
   ]
  },
  {
   "cell_type": "markdown",
   "metadata": {},
   "source": [
    "On revient ici vers l'exercice consistant à déterminer si deux tableaux sont identiques, mais sans utiliser d'algorithme de tri.\n",
    "\n",
    "On propose au contraire de créer pour chaque tableau un dictionnaire associant à une valeur donnée du tableau le nombre de fois où elle apparaît dans ce tableau: c'est ce que l'on a fait dans l'exercice précédent !\n",
    "\n",
    "Il ne reste ensuite qu'à comparer les dictionnaires en s'assurant que toutes les clés présentes dans un des dictionnaires le sont aussi dans l'autre, et avec le même nombre d'occurences."
   ]
  },
  {
   "cell_type": "markdown",
   "metadata": {},
   "source": [
    "**Attention:** il est possible de comparer deux dictionnaires avec la syntaxe ```dict1 == dict2``` qui fait exactement ce que l'on veut. Mais on demande ici de réaliser cette comparaison *à la main*, en utilisant un algorithme adéquat."
   ]
  },
  {
   "cell_type": "markdown",
   "metadata": {},
   "source": [
    "La fonction doit renvoyer ```True``` si les tableaux contiennent les mêmes éléments (avec les mêmes effectifs), ```False``` sinon. Les dictionnaires cités ci-dessus servent à déterminer l'égalité, mais ne doivent pas être visibles en dehors de la fonction: idéalement, l'utilisateur de la fonction ne devrait avoir aucune idée de l'algorithme utilisé, ce qui permet notamment de changer d'algorithme de manière totalement transparente sans qu'il y ait la moindre incidence sur le reste du code. D'où l'importance d'avoir un cahier des charges précis pour une fonction: valeurs attendues, valeurs renvoyées, contraintes diverses sur ces valeurs."
   ]
  },
  {
   "cell_type": "code",
   "execution_count": 50,
   "metadata": {},
   "outputs": [],
   "source": [
    "def tableaux_égaux(t1, t2):\n",
    "    \"\"\"Écrire la documentation de la fonction ici\"\"\"\n",
    "    \n",
    "    pass # Écrire votre code ici"
   ]
  },
  {
   "cell_type": "code",
   "execution_count": 51,
   "metadata": {
    "tags": [
     "raises-exception"
    ]
   },
   "outputs": [
    {
     "ename": "AssertionError",
     "evalue": "",
     "output_type": "error",
     "traceback": [
      "\u001b[0;31m---------------------------------------------------------------------------\u001b[0m",
      "\u001b[0;31mAssertionError\u001b[0m                            Traceback (most recent call last)",
      "\u001b[0;32m<ipython-input-51-477194809ed7>\u001b[0m in \u001b[0;36m<module>\u001b[0;34m\u001b[0m\n\u001b[1;32m      4\u001b[0m \u001b[0mt3\u001b[0m \u001b[0;34m=\u001b[0m \u001b[0;34m[\u001b[0m\u001b[0;36m0\u001b[0m\u001b[0;34m,\u001b[0m \u001b[0;36m0\u001b[0m\u001b[0;34m,\u001b[0m \u001b[0;36m1\u001b[0m\u001b[0;34m,\u001b[0m \u001b[0;36m1\u001b[0m\u001b[0;34m,\u001b[0m \u001b[0;36m1\u001b[0m\u001b[0;34m,\u001b[0m \u001b[0;36m1\u001b[0m\u001b[0;34m,\u001b[0m \u001b[0;36m2\u001b[0m\u001b[0;34m]\u001b[0m\u001b[0;34m\u001b[0m\u001b[0;34m\u001b[0m\u001b[0m\n\u001b[1;32m      5\u001b[0m \u001b[0;34m\u001b[0m\u001b[0m\n\u001b[0;32m----> 6\u001b[0;31m \u001b[0;32massert\u001b[0m \u001b[0mtableaux_égaux\u001b[0m\u001b[0;34m(\u001b[0m\u001b[0mt1\u001b[0m\u001b[0;34m,\u001b[0m \u001b[0mt2\u001b[0m\u001b[0;34m)\u001b[0m \u001b[0;34m==\u001b[0m \u001b[0;32mTrue\u001b[0m\u001b[0;34m\u001b[0m\u001b[0;34m\u001b[0m\u001b[0m\n\u001b[0m\u001b[1;32m      7\u001b[0m \u001b[0;32massert\u001b[0m \u001b[0mtableaux_égaux\u001b[0m\u001b[0;34m(\u001b[0m\u001b[0mt1\u001b[0m\u001b[0;34m,\u001b[0m \u001b[0mt3\u001b[0m\u001b[0;34m)\u001b[0m \u001b[0;34m==\u001b[0m \u001b[0;32mFalse\u001b[0m\u001b[0;34m\u001b[0m\u001b[0;34m\u001b[0m\u001b[0m\n",
      "\u001b[0;31mAssertionError\u001b[0m: "
     ]
    }
   ],
   "source": [
    "# N'oubliez pas de tester votre fonction\n",
    "t1 = [1, 1, 2, 1, 0, 1, 0, 0]\n",
    "t2 = [2, 0, 0, 1, 1, 1, 0, 1]\n",
    "t3 = [0, 0, 1, 1, 1, 1, 2]\n",
    "\n",
    "assert tableaux_égaux(t1, t2) == True\n",
    "assert tableaux_égaux(t1, t3) == False"
   ]
  },
  {
   "cell_type": "markdown",
   "metadata": {},
   "source": [
    "---\n",
    "#### Exercice 8: Fréquences des lettres dans un texte"
   ]
  },
  {
   "cell_type": "markdown",
   "metadata": {},
   "source": [
    "Le dernier test de l'exercice précédent montre que votre fonction occurence fonctionne en particulier aussi sur les chaînes de caractères: en effet, celles-ci ressemblent beaucoup à des tableaux de caractères (et, d'une certaine manière, peuvent souvent être considérées comme telles). En particulier, on peut accéder au $n$-ième caractère d'une chaîne ```S``` par la syntaxe ```S[n]```, comme s'il s'agissait d'un tableau. De ce fait, la fonction occurence ne fait aucune différence entre un tableau et une chaîne de caractères.\n",
    "\n",
    "**Remarque importante:** À la différence des tableaux cependant, les chaînes de caractères sont **immuables**: il n'est pas possible d'en modifier le contenu une fois la chaîne créée. Cela présente des avantages pour l'implémentation du langage python: celle-ci peut optimiser le stockage des chaînes de caractères en mémoire, par exemple. \n",
    "\n",
    "C'est notamment cet aspect immuable des chaînes de caractères qui fait que l'on peut les utiliser comme clés dans un dictionnaires, contrairement à des tableaux."
   ]
  },
  {
   "cell_type": "markdown",
   "metadata": {},
   "source": [
    "**But de l'exercice:** Dans cet exercice, votre tâche consiste à utiliser le résultat de la fonction ``occurences`` sur un texte (stocké dans une chaîne de caractères) et à afficher les fréquences des lettres. Quelques contraintes:\n",
    "* On ne calculera les fréquences que pour les lettres de l'alphabet: la somme de ces fréquences doit valoir 1 (cela signifie que l'on ignorera les caractères autre que les lettres de l'alphabet);\n",
    "* On ne distinguera pas les lettres majuscules des lettres minuscules: un ```\"A\"``` et un ```\"a\"``` seront comptabilisés comme une seule et même lettre;\n",
    "* Dans le même ordre d'idée, on considèrera qu'un ```\"é\"``` est la lettre ```\"e\"``` (on enlève les accents), de même pour tous les autres caractères accentués;\n",
    "* Le ```\"ç\"``` est considéré bien entendu comme un ```\"c\"```;\n",
    "* Enfin, les fréquences seront arrondies à trois chiffres après la virgule. On peut pour cela utiliser la fonction ```round```:\n",
    "\n",
    "```\n",
    ">>> round(0.123456789, 3)\n",
    "0.123\n",
    "```\n",
    "\n",
    "Comme il est difficile de saisir les lettres accentuées en majuscule sous windows (contrairement à linux qui fait cela très naturellement), on peut utiliser l'astuce suivante pour disposer de ces caractères:"
   ]
  },
  {
   "cell_type": "code",
   "execution_count": 52,
   "metadata": {},
   "outputs": [
    {
     "data": {
      "text/plain": [
       "'éèêëàâäôöîïùûüçÉÈÊËÀÂÄÔÖÎÏÙÛÜÇ'"
      ]
     },
     "execution_count": 52,
     "metadata": {},
     "output_type": "execute_result"
    }
   ],
   "source": [
    "accents = \"éèêëàâäôöîïùûüç\"\n",
    "accents = accents + accents.upper()\n",
    "accents"
   ]
  },
  {
   "cell_type": "markdown",
   "metadata": {},
   "source": [
    "Une astuce géniale pour se faciliter la vie: les dictionnaires permettent dans certains cas de s'épargner de nombreuses lignes de code. Ici, on imagine très bien qu'il y aurait un long enchaînement de ```if ... elif ... elif... ... ... ... else...``` afin de traîter ce problème d'accents.\n",
    "\n",
    "On peut avantageusement remplacer ce code très compliqué à lire par l'usage d'un simple dictionnaire:"
   ]
  },
  {
   "cell_type": "code",
   "execution_count": 53,
   "metadata": {},
   "outputs": [],
   "source": [
    "traduction_accents = [(\"éèêë\", \"e\"), (\"àâä\", \"a\"), (\"ôö\", \"o\"), (\"îï\", \"i\"), (\"üûù\", \"u\"), (\"ç\", \"c\")]\n",
    "dictionnaire_accents = {}\n",
    "for lettres, traduction in traduction_accents:\n",
    "    for l in lettres:\n",
    "        dictionnaire_accents[l] = traduction\n",
    "        dictionnaire_accents[l.upper()] = traduction"
   ]
  },
  {
   "cell_type": "markdown",
   "metadata": {},
   "source": [
    "On obtient avec ces quelques lignes le dictionnaire suivant:"
   ]
  },
  {
   "cell_type": "code",
   "execution_count": 54,
   "metadata": {},
   "outputs": [
    {
     "data": {
      "text/plain": [
       "{'é': 'e',\n",
       " 'É': 'e',\n",
       " 'è': 'e',\n",
       " 'È': 'e',\n",
       " 'ê': 'e',\n",
       " 'Ê': 'e',\n",
       " 'ë': 'e',\n",
       " 'Ë': 'e',\n",
       " 'à': 'a',\n",
       " 'À': 'a',\n",
       " 'â': 'a',\n",
       " 'Â': 'a',\n",
       " 'ä': 'a',\n",
       " 'Ä': 'a',\n",
       " 'ô': 'o',\n",
       " 'Ô': 'o',\n",
       " 'ö': 'o',\n",
       " 'Ö': 'o',\n",
       " 'î': 'i',\n",
       " 'Î': 'i',\n",
       " 'ï': 'i',\n",
       " 'Ï': 'i',\n",
       " 'ü': 'u',\n",
       " 'Ü': 'u',\n",
       " 'û': 'u',\n",
       " 'Û': 'u',\n",
       " 'ù': 'u',\n",
       " 'Ù': 'u',\n",
       " 'ç': 'c',\n",
       " 'Ç': 'c'}"
      ]
     },
     "execution_count": 54,
     "metadata": {},
     "output_type": "execute_result"
    }
   ],
   "source": [
    "dictionnaire_accents"
   ]
  },
  {
   "cell_type": "markdown",
   "metadata": {},
   "source": [
    "On est très heureux de s'être épargné la saisie de ce dictionnaire à la main. Si on veut connaître la traduction d'une lettre accentuée quelconque, il suffit d'interroger le contenu du dictionnaire:"
   ]
  },
  {
   "cell_type": "code",
   "execution_count": 55,
   "metadata": {},
   "outputs": [
    {
     "data": {
      "text/plain": [
       "'e'"
      ]
     },
     "execution_count": 55,
     "metadata": {},
     "output_type": "execute_result"
    }
   ],
   "source": [
    "dictionnaire_accents[\"é\"]"
   ]
  },
  {
   "cell_type": "markdown",
   "metadata": {},
   "source": [
    "**Indication:** Il y a plein de façons de réaliser la tâche demandée. Une idée relativement simple consiste à récupérer le dictionnaire fourni par ```occurences```, puis à créer un nouveau dictionnaire n'incluant que les lettres minuscules (attention, les lettres majuscules et les éventuels accents/cédilles doivent être rajoutées au décompte de la lettre minuscule correspondante).\n",
    "\n",
    "On peut partir du principe que dans ce nouveau dictionnaire, si une lettre n'apparaît pas dans le texte alors son effectif sera égal à zéro: autrement dit, toutes les lettres minuscules seront présentes dans le dictionnaire, avec l'effectif correspondant dans le texte.\n",
    "\n",
    "Le calcul des fréquences est ensuite relativement simple, puisqu'il n'y a plus de clé à ignorer."
   ]
  },
  {
   "cell_type": "code",
   "execution_count": 56,
   "metadata": {},
   "outputs": [],
   "source": [
    "def fréquences_lettres(texte):\n",
    "    \"\"\"Écrire la documentation de la fonction ici\"\"\"\n",
    "\n",
    "    pass # Écrire votre code ici"
   ]
  },
  {
   "cell_type": "markdown",
   "metadata": {},
   "source": [
    "Voici un exemple permettant de tester votre code:"
   ]
  },
  {
   "cell_type": "code",
   "execution_count": 57,
   "metadata": {},
   "outputs": [],
   "source": [
    "texte = \"\"\"\n",
    "Maître Corbeau, sur un arbre perché,\n",
    "           Tenait en son bec un fromage.\n",
    "       Maître Renard, par l'odeur alléché,\n",
    "           Lui tint à peu près ce langage :\n",
    "       Et bonjour, Monsieur du Corbeau,\n",
    "    Que vous êtes joli ! que vous me semblez beau !\n",
    "           Sans mentir, si votre ramage\n",
    "           Se rapporte à votre plumage,\n",
    "     Vous êtes le Phénix des hôtes de ces bois.\n",
    "À ces mots le Corbeau ne se sent pas de joie,\n",
    "           Et pour montrer sa belle voix,\n",
    "   Il ouvre un large bec, laisse tomber sa proie.\n",
    "   Le Renard s'en saisit, et dit : Mon bon Monsieur,\n",
    "              Apprenez que tout flatteur\n",
    "     Vit aux dépens de celui qui l'écoute.\n",
    "   Cette leçon vaut bien un fromage sans doute.\n",
    "           Le Corbeau honteux et confus\n",
    "   Jura, mais un peu tard, qu'on ne l'y prendrait plus.\"\"\""
   ]
  },
  {
   "cell_type": "code",
   "execution_count": 58,
   "metadata": {
    "tags": [
     "raises-exception"
    ]
   },
   "outputs": [
    {
     "ename": "AssertionError",
     "evalue": "",
     "output_type": "error",
     "traceback": [
      "\u001b[0;31m---------------------------------------------------------------------------\u001b[0m",
      "\u001b[0;31mAssertionError\u001b[0m                            Traceback (most recent call last)",
      "\u001b[0;32m<ipython-input-58-d3b3537cca6e>\u001b[0m in \u001b[0;36m<module>\u001b[0;34m\u001b[0m\n\u001b[1;32m      3\u001b[0m      \u001b[0;34m'i'\u001b[0m\u001b[0;34m:\u001b[0m \u001b[0;36m0.05\u001b[0m\u001b[0;34m,\u001b[0m \u001b[0;34m'j'\u001b[0m\u001b[0;34m:\u001b[0m \u001b[0;36m0.008\u001b[0m\u001b[0;34m,\u001b[0m \u001b[0;34m'k'\u001b[0m\u001b[0;34m:\u001b[0m \u001b[0;36m0.0\u001b[0m\u001b[0;34m,\u001b[0m \u001b[0;34m'l'\u001b[0m\u001b[0;34m:\u001b[0m \u001b[0;36m0.044\u001b[0m\u001b[0;34m,\u001b[0m \u001b[0;34m'm'\u001b[0m\u001b[0;34m:\u001b[0m \u001b[0;36m0.031\u001b[0m\u001b[0;34m,\u001b[0m \u001b[0;34m'n'\u001b[0m\u001b[0;34m:\u001b[0m \u001b[0;36m0.065\u001b[0m\u001b[0;34m,\u001b[0m \u001b[0;34m'o'\u001b[0m\u001b[0;34m:\u001b[0m \u001b[0;36m0.073\u001b[0m\u001b[0;34m,\u001b[0m \u001b[0;34m'p'\u001b[0m\u001b[0;34m:\u001b[0m \u001b[0;36m0.032\u001b[0m\u001b[0;34m,\u001b[0m\u001b[0;34m\u001b[0m\u001b[0;34m\u001b[0m\u001b[0m\n\u001b[1;32m      4\u001b[0m      \u001b[0;34m'q'\u001b[0m\u001b[0;34m:\u001b[0m \u001b[0;36m0.01\u001b[0m\u001b[0;34m,\u001b[0m \u001b[0;34m'r'\u001b[0m\u001b[0;34m:\u001b[0m \u001b[0;36m0.078\u001b[0m\u001b[0;34m,\u001b[0m \u001b[0;34m's'\u001b[0m\u001b[0;34m:\u001b[0m \u001b[0;36m0.071\u001b[0m\u001b[0;34m,\u001b[0m \u001b[0;34m't'\u001b[0m\u001b[0;34m:\u001b[0m \u001b[0;36m0.069\u001b[0m\u001b[0;34m,\u001b[0m \u001b[0;34m'u'\u001b[0m\u001b[0;34m:\u001b[0m \u001b[0;36m0.078\u001b[0m\u001b[0;34m,\u001b[0m \u001b[0;34m'v'\u001b[0m\u001b[0;34m:\u001b[0m \u001b[0;36m0.017\u001b[0m\u001b[0;34m,\u001b[0m \u001b[0;34m'w'\u001b[0m\u001b[0;34m:\u001b[0m \u001b[0;36m0.0\u001b[0m\u001b[0;34m,\u001b[0m \u001b[0;34m'x'\u001b[0m\u001b[0;34m:\u001b[0m \u001b[0;36m0.008\u001b[0m\u001b[0;34m,\u001b[0m\u001b[0;34m\u001b[0m\u001b[0;34m\u001b[0m\u001b[0m\n\u001b[0;32m----> 5\u001b[0;31m      'y': 0.002, 'z': 0.004}\n\u001b[0m",
      "\u001b[0;31mAssertionError\u001b[0m: "
     ]
    }
   ],
   "source": [
    "assert fréquences_lettres(texte) == {\n",
    "    'a': 0.076, 'b': 0.029, 'c': 0.031, 'd': 0.025, 'e': 0.172, 'f': 0.008, 'g': 0.013, 'h': 0.01,\n",
    "     'i': 0.05, 'j': 0.008, 'k': 0.0, 'l': 0.044, 'm': 0.031, 'n': 0.065, 'o': 0.073, 'p': 0.032,\n",
    "     'q': 0.01, 'r': 0.078, 's': 0.071, 't': 0.069, 'u': 0.078, 'v': 0.017, 'w': 0.0, 'x': 0.008,\n",
    "     'y': 0.002, 'z': 0.004}"
   ]
  },
  {
   "cell_type": "markdown",
   "metadata": {},
   "source": [
    "Comparez les résultats obtenus avec les fréquences usuelles des lettres de la langue française (bien connues des joueurs de scrabble par exemple). On peut les trouver sur wikipedia par exemple: https://fr.wikipedia.org/wiki/Fr%C3%A9quence_d%27apparition_des_lettres_en_fran%C3%A7ais"
   ]
  },
  {
   "cell_type": "markdown",
   "metadata": {},
   "source": [
    "---\n",
    "#### Exercice 9 : Les misérables"
   ]
  },
  {
   "cell_type": "markdown",
   "metadata": {},
   "source": [
    "On souhaite reprendre l'exercice précédent, mais sur un texte un peu plus long afin que le calcul des fréquences soit plus pertinent (c'est la loi des grands nombres: plus l'effectif total est important, plus les fréquences tendront à converger vers les fréquences théoriques de la langue française).\n",
    "\n",
    "On se propose ici de calculer la fréquence des lettres sur le texte intégral des *Misérables* de Victor Hugo. Celui-ci est stocké dans le fichier ```misérables.txt```. Voici la syntaxe permettant de lire les lignes d'un fichier sur le disque dur:"
   ]
  },
  {
   "cell_type": "code",
   "execution_count": 59,
   "metadata": {},
   "outputs": [
    {
     "data": {
      "text/plain": [
       "62243"
      ]
     },
     "execution_count": 59,
     "metadata": {},
     "output_type": "execute_result"
    }
   ],
   "source": [
    "with open(\"misérables.txt\", \"r\") as fichier:\n",
    "    misérables = []\n",
    "    for ligne in fichier:\n",
    "        misérables.append(ligne)\n",
    "        \n",
    "len(misérables)"
   ]
  },
  {
   "cell_type": "markdown",
   "metadata": {},
   "source": [
    "La première ligne sert à ouvrir le fichier en lecture seule (paramètre ```\"r\"```). La variable référençant le fichier ouvert est ```fichier```.\n",
    "\n",
    "La boucle ```for``` sert à parcourir l'ensemble des lignes du fichier. Celles-ci sont stockées dans le tableau ```misérables```.\n",
    "\n",
    "On constate que le fichier contient plus de 62000 lignes !"
   ]
  },
  {
   "cell_type": "markdown",
   "metadata": {},
   "source": [
    "**Attention:** N'essayez surtout pas d'afficher le contenu du tableau dans jupyter lab. Votre environnement n'y survivrait probablement pas, ni votre navigateur web."
   ]
  },
  {
   "cell_type": "code",
   "execution_count": 60,
   "metadata": {},
   "outputs": [
    {
     "data": {
      "text/plain": [
       "514576"
      ]
     },
     "execution_count": 60,
     "metadata": {},
     "output_type": "execute_result"
    }
   ],
   "source": [
    "from sys import getsizeof\n",
    "getsizeof(misérables)"
   ]
  },
  {
   "cell_type": "markdown",
   "metadata": {},
   "source": [
    "Le tableau occupe environ un demi méga-octet de mémoire, ce qui n'est finalement pas si énorme pour un ordinateur moderne."
   ]
  },
  {
   "cell_type": "markdown",
   "metadata": {},
   "source": [
    "**But de l'exercice**: Adaptez la fonction ```fréquences_lettres``` de l'exercice précédent pour qu'elle ne fonctionne pas avec un unique tableau, mais plutôt avec un tableau de lignes (en réalité, c'est plutôt la fonction ```occurences``` qui doit être modifiée à cet effet. On pourra par exemple utiliser une nouvelle fonction ```occurences_lignes``` à cet effet)."
   ]
  },
  {
   "cell_type": "code",
   "execution_count": 61,
   "metadata": {},
   "outputs": [],
   "source": [
    "def occurences_lignes(lignes):\n",
    "    \"\"\"Écrire la documentation de la fonction ici\"\"\"\n",
    "    \n",
    "    pass # Écrire votre code ici"
   ]
  },
  {
   "cell_type": "code",
   "execution_count": 62,
   "metadata": {},
   "outputs": [],
   "source": [
    "def fréquences_lignes(lignes):\n",
    "    \"\"\"Écrire la documentation de la fonction ici\"\"\"\n",
    "    \n",
    "    pass # Écrire votre code ici"
   ]
  },
  {
   "cell_type": "markdown",
   "metadata": {},
   "source": [
    "Et l'inévitable test de validation:"
   ]
  },
  {
   "cell_type": "code",
   "execution_count": 63,
   "metadata": {
    "tags": [
     "raises-exception"
    ]
   },
   "outputs": [
    {
     "ename": "AssertionError",
     "evalue": "",
     "output_type": "error",
     "traceback": [
      "\u001b[0;31m---------------------------------------------------------------------------\u001b[0m",
      "\u001b[0;31mAssertionError\u001b[0m                            Traceback (most recent call last)",
      "\u001b[0;32m<ipython-input-63-60e036b5a747>\u001b[0m in \u001b[0;36m<module>\u001b[0;34m\u001b[0m\n\u001b[1;32m      6\u001b[0m     \u001b[0;34m'q'\u001b[0m\u001b[0;34m:\u001b[0m \u001b[0;36m0.012\u001b[0m\u001b[0;34m,\u001b[0m \u001b[0;34m'r'\u001b[0m\u001b[0;34m:\u001b[0m \u001b[0;36m0.064\u001b[0m\u001b[0;34m,\u001b[0m \u001b[0;34m's'\u001b[0m\u001b[0;34m:\u001b[0m \u001b[0;36m0.075\u001b[0m\u001b[0;34m,\u001b[0m \u001b[0;34m't'\u001b[0m\u001b[0;34m:\u001b[0m \u001b[0;36m0.077\u001b[0m\u001b[0;34m,\u001b[0m\u001b[0;34m\u001b[0m\u001b[0;34m\u001b[0m\u001b[0m\n\u001b[1;32m      7\u001b[0m     \u001b[0;34m'u'\u001b[0m\u001b[0;34m:\u001b[0m \u001b[0;36m0.064\u001b[0m\u001b[0;34m,\u001b[0m \u001b[0;34m'v'\u001b[0m\u001b[0;34m:\u001b[0m \u001b[0;36m0.018\u001b[0m\u001b[0;34m,\u001b[0m \u001b[0;34m'w'\u001b[0m\u001b[0;34m:\u001b[0m \u001b[0;36m0.0\u001b[0m\u001b[0;34m,\u001b[0m \u001b[0;34m'x'\u001b[0m\u001b[0;34m:\u001b[0m \u001b[0;36m0.004\u001b[0m\u001b[0;34m,\u001b[0m\u001b[0;34m\u001b[0m\u001b[0;34m\u001b[0m\u001b[0m\n\u001b[0;32m----> 8\u001b[0;31m     'y': 0.003, 'z': 0.002}\n\u001b[0m",
      "\u001b[0;31mAssertionError\u001b[0m: "
     ]
    }
   ],
   "source": [
    "assert fréquences_lignes(misérables) == {\n",
    "    'a': 0.089, 'b': 0.011, 'c': 0.032, 'd': 0.035,\n",
    "    'e': 0.172, 'f': 0.011, 'g': 0.009, 'h': 0.01,\n",
    "    'i': 0.075, 'j': 0.005, 'k': 0.0, 'l': 0.06,\n",
    "    'm': 0.028, 'n': 0.067, 'o': 0.051, 'p': 0.026,\n",
    "    'q': 0.012, 'r': 0.064, 's': 0.075, 't': 0.077,\n",
    "    'u': 0.064, 'v': 0.018, 'w': 0.0, 'x': 0.004,\n",
    "    'y': 0.003, 'z': 0.002}"
   ]
  },
  {
   "cell_type": "markdown",
   "metadata": {},
   "source": [
    "---\n",
    "#### Exercice 10: Visualisation des résultats"
   ]
  },
  {
   "cell_type": "markdown",
   "metadata": {},
   "source": [
    "On aimerait représenter graphiquement les résultats de l'exercice précédent. Un diagramme à barres semble parfaitement approprié.\n",
    "\n",
    "On utilise pour cela la librarie ```matplotlib```. Voici un exemple:"
   ]
  },
  {
   "cell_type": "code",
   "execution_count": 65,
   "metadata": {},
   "outputs": [
    {
     "data": {
      "image/png": "[encoded data removed]",
      "text/plain": [
       "<Figure size 432x288 with 1 Axes>"
      ]
     },
     "metadata": {
      "needs_background": "light"
     },
     "output_type": "display_data"
    }
   ],
   "source": [
    "films = [\"Annie Hall\", \"Ben-Hur\", \"Casablanca\", \"Gandhi\", \"West Side Story\"]\n",
    "nbr_oscars = [5, 11, 3, 8, 19]\n",
    "\n",
    "from matplotlib import pyplot as plt\n",
    "plt.bar(range(len(films)), nbr_oscars)\n",
    "plt.title(\"Quelques films classiques\")\n",
    "plt.ylabel(\"Nombre de récompenses\")\n",
    "plt.xticks(range(len(films)), films)\n",
    "plt.show()\n",
    "\n",
    "# Évaluer DEUX fois cette cellule si le diagramme ne s'affiche pas dans jupyterlab"
   ]
  },
  {
   "cell_type": "markdown",
   "metadata": {},
   "source": [
    "**But de l'exercice:** Représenter graphiquement le diagramme des fréquences de lettres dans les *Misérables* de Victor Hugo. Pensez à inclure une légende et un titre adaptés."
   ]
  }
 ],
 "metadata": {
  "kernelspec": {
   "display_name": "Python 3",
   "language": "python",
   "name": "python3"
  },
  "language_info": {
   "codemirror_mode": {
    "name": "ipython",
    "version": 3
   },
   "file_extension": ".py",
   "mimetype": "text/x-python",
   "name": "python",
   "nbconvert_exporter": "python",
   "pygments_lexer": "ipython3",
   "version": "3.7.4"
  }
 },
 "nbformat": 4,
 "nbformat_minor": 4
}

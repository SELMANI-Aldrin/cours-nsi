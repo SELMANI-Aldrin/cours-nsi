{
 "cells": [
  {
   "cell_type": "markdown",
   "metadata": {},
   "source": [
    "# Les structures de données complexes"
   ]
  },
  {
   "cell_type": "markdown",
   "metadata": {},
   "source": [
    "## Les $n$-uplets"
   ]
  },
  {
   "cell_type": "markdown",
   "metadata": {},
   "source": [
    "---\n",
    "#### Exercice 1: Création de tuples"
   ]
  },
  {
   "cell_type": "code",
   "execution_count": 1,
   "metadata": {},
   "outputs": [],
   "source": [
    "noms = [\"Arthur\", \"Mégane\", \"Zoé\", \"Tristan\"]\n",
    "jours = [1, 9, 28, 10]\n",
    "mois = [1, 12, 11, 3]\n",
    "années = [1942, 1906, 1973, 1938]"
   ]
  },
  {
   "cell_type": "code",
   "execution_count": 2,
   "metadata": {},
   "outputs": [],
   "source": [
    "def crée_tuples_élèves(noms, jours, mois, années):\n",
    "    \"\"\"Renvoit un tableau de tuples (prénom, jour, moi, année) \n",
    "    à partir des tableaux fournis en paramètre. Ceux-ci sont supposés\n",
    "    être de longueurs égales.\n",
    "    \"\"\"\n",
    "    \n",
    "    # On doit parcourir simultanément les 4 tableaux. On aimerait\n",
    "    # pouvoir écrire:\n",
    "    #\n",
    "    # for n, j, m, a in noms, jours, mois, années:\n",
    "    #    ...\n",
    "    #\n",
    "    # MAIS cette syntaxe n'existe pas en python.\n",
    "    #\n",
    "    # SOLUTION: boucler sur les indices !\n",
    "    \n",
    "    tuples = []\n",
    "    for i in range(len(noms)):  # Tous les tableaux ont la même longueur: on en choisit un\n",
    "        élève = (noms[i], jours[i], mois[i], années[i])\n",
    "        tuples.append(élève)\n",
    "        \n",
    "    return tuples"
   ]
  },
  {
   "cell_type": "code",
   "execution_count": 3,
   "metadata": {},
   "outputs": [
    {
     "data": {
      "text/plain": [
       "[('Arthur', 1, 1, 1942),\n",
       " ('Mégane', 9, 12, 1906),\n",
       " ('Zoé', 28, 11, 1973),\n",
       " ('Tristan', 10, 3, 1938)]"
      ]
     },
     "execution_count": 3,
     "metadata": {},
     "output_type": "execute_result"
    }
   ],
   "source": [
    "tableau_élèves = crée_tuples_élèves(noms, jours, mois, années)\n",
    "tableau_élèves"
   ]
  },
  {
   "cell_type": "markdown",
   "metadata": {},
   "source": [
    "---\n",
    "### Exercice 2: Réduction de tuples"
   ]
  },
  {
   "cell_type": "code",
   "execution_count": 4,
   "metadata": {},
   "outputs": [],
   "source": [
    "élèves = [\n",
    "    (\"Sophie\", \"Jacquemin\", 3, 6, 2003),\n",
    "    (\"Zoé\", \"Ledoux\", 1, 2, 2004),\n",
    "    (\"Adrien\", \"Millet\", 8, 6, 2003),\n",
    "    (\"Gilles\", \"Hebert\", 11, 12, 2003),\n",
    "    (\"Andrée\", \"Millet\", 14, 1, 2005),\n",
    "    (\"Françoise\", \"Auger\", 30, 5, 2003),\n",
    "    (\"Margot\", \"Dias-Laurent\", 30, 6, 2003),\n",
    "    (\"Thimothée\", \"Lebreton\", 2, 10, 2004),\n",
    "    (\"Audrey\", \"Monnier\", 30, 12, 2006),\n",
    "    (\"Élisabeth\", \"Lebrun\", 27, 4, 2003)\n",
    "]"
   ]
  },
  {
   "cell_type": "code",
   "execution_count": 5,
   "metadata": {},
   "outputs": [],
   "source": [
    "def réduit_élèves(tableau_élèves):\n",
    "    \"\"\"Prend en paramètre un tableau de tuples de la forme\n",
    "    (prénom, nom, jour, mois, année) et renvoie un tableau\n",
    "    de tuples de la forme (NOM, PRÉNOM), dans le même ordre.\n",
    "    \n",
    "    Le tableau initial n'est pas modifié.\"\"\"\n",
    "    \n",
    "    résultat = []\n",
    "    for prénom, nom, _, _, _ in tableau_élèves:\n",
    "        résultat.append((nom.upper(), prénom.upper()))\n",
    "        \n",
    "    return résultat"
   ]
  },
  {
   "cell_type": "code",
   "execution_count": 6,
   "metadata": {},
   "outputs": [
    {
     "data": {
      "text/plain": [
       "[('JACQUEMIN', 'SOPHIE'),\n",
       " ('LEDOUX', 'ZOÉ'),\n",
       " ('MILLET', 'ADRIEN'),\n",
       " ('HEBERT', 'GILLES'),\n",
       " ('MILLET', 'ANDRÉE'),\n",
       " ('AUGER', 'FRANÇOISE'),\n",
       " ('DIAS-LAURENT', 'MARGOT'),\n",
       " ('LEBRETON', 'THIMOTHÉE'),\n",
       " ('MONNIER', 'AUDREY'),\n",
       " ('LEBRUN', 'ÉLISABETH')]"
      ]
     },
     "execution_count": 6,
     "metadata": {},
     "output_type": "execute_result"
    }
   ],
   "source": [
    "# On teste le code:\n",
    "réduit_élèves(élèves)"
   ]
  },
  {
   "cell_type": "markdown",
   "metadata": {},
   "source": [
    "---\n",
    "#### Exercice 3: Décomposition de tuples"
   ]
  },
  {
   "cell_type": "code",
   "execution_count": 7,
   "metadata": {},
   "outputs": [],
   "source": [
    "def décompose_élèves(tableau_élèves):\n",
    "    \"\"\"Décompose un tableau de tuple au format \n",
    "    (prénom, nom, jour, mois, année) en les 5 tableaux\n",
    "    prénoms, noms, jours, mois, années.\n",
    "    \n",
    "    Le tableau initial n'est pas modifié.\n",
    "    \"\"\"\n",
    "    \n",
    "    prénoms = []\n",
    "    noms = []\n",
    "    jours = []\n",
    "    mois = []\n",
    "    années = []\n",
    "    for p,  n, j, m, a in tableau_élèves:\n",
    "        prénoms.append(p)\n",
    "        noms.append(n)\n",
    "        jours.append(j)\n",
    "        mois.append(m)\n",
    "        années.append(a)\n",
    "        \n",
    "    return prénoms, noms, jours, mois, années\n"
   ]
  },
  {
   "cell_type": "code",
   "execution_count": 8,
   "metadata": {},
   "outputs": [],
   "source": [
    "élèves = [\n",
    "    (\"Sophie\", \"Jacquemin\", 3, 6, 2003),\n",
    "    (\"Zoé\", \"Ledoux\", 1, 2, 2004),\n",
    "    (\"Adrien\", \"Millet\", 8, 6, 2003),\n",
    "    (\"Gilles\", \"Hebert\", 11, 12, 2003),\n",
    "    (\"Andrée\", \"Millet\", 14, 1, 2005),\n",
    "    (\"Françoise\", \"Auger\", 30, 5, 2003),\n",
    "    (\"Margot\", \"Dias-Laurent\", 30, 6, 2003),\n",
    "    (\"Thimothée\", \"Lebreton\", 2, 10, 2004),\n",
    "    (\"Audrey\", \"Monnier\", 30, 12, 2006),\n",
    "    (\"Élisabeth\", \"Lebrun\", 27, 4, 2003)\n",
    "]"
   ]
  },
  {
   "cell_type": "code",
   "execution_count": 9,
   "metadata": {},
   "outputs": [
    {
     "data": {
      "text/plain": [
       "(['Sophie',\n",
       "  'Zoé',\n",
       "  'Adrien',\n",
       "  'Gilles',\n",
       "  'Andrée',\n",
       "  'Françoise',\n",
       "  'Margot',\n",
       "  'Thimothée',\n",
       "  'Audrey',\n",
       "  'Élisabeth'],\n",
       " ['Jacquemin',\n",
       "  'Ledoux',\n",
       "  'Millet',\n",
       "  'Hebert',\n",
       "  'Millet',\n",
       "  'Auger',\n",
       "  'Dias-Laurent',\n",
       "  'Lebreton',\n",
       "  'Monnier',\n",
       "  'Lebrun'],\n",
       " [3, 1, 8, 11, 14, 30, 30, 2, 30, 27],\n",
       " [6, 2, 6, 12, 1, 5, 6, 10, 12, 4],\n",
       " [2003, 2004, 2003, 2003, 2005, 2003, 2003, 2004, 2006, 2003])"
      ]
     },
     "execution_count": 9,
     "metadata": {},
     "output_type": "execute_result"
    }
   ],
   "source": [
    "# On teste le code:\n",
    "décompose_élèves(élèves)"
   ]
  },
  {
   "cell_type": "markdown",
   "metadata": {},
   "source": [
    "## Les dictionnaires"
   ]
  },
  {
   "cell_type": "markdown",
   "metadata": {},
   "source": [
    "---\n",
    "#### Exercice 4 : création de dictionnaires"
   ]
  },
  {
   "cell_type": "code",
   "execution_count": 10,
   "metadata": {},
   "outputs": [],
   "source": [
    "élèves = [\n",
    "    (\"Sophie\", \"Jacquemin\", 3, 6, 2003),\n",
    "    (\"Zoé\", \"Ledoux\", 1, 2, 2004),\n",
    "    (\"Adrien\", \"Millet\", 8, 6, 2003),\n",
    "    (\"Gilles\", \"Hebert\", 11, 12, 2003),\n",
    "    (\"Andrée\", \"Millet\", 14, 1, 2005),\n",
    "    (\"Françoise\", \"Auger\", 30, 5, 2003),\n",
    "    (\"Margot\", \"Dias-Laurent\", 30, 6, 2003),\n",
    "    (\"Thimothée\", \"Lebreton\", 2, 10, 2004),\n",
    "    (\"Audrey\", \"Monnier\", 30, 12, 2006),\n",
    "    (\"Élisabeth\", \"Lebrun\", 27, 4, 2003)\n",
    "]"
   ]
  },
  {
   "cell_type": "code",
   "execution_count": 11,
   "metadata": {},
   "outputs": [],
   "source": [
    "def élèves_tuples_nommés(tableau_élèves):\n",
    "    \"\"\"Transforme un tableau de tuples de la forme\n",
    "    (prénom, nom, jour, mois, année) en un tableau de\n",
    "    dictionnaires avec les clés correspondantes.\n",
    "    \n",
    "    Le tableau initial n'est pas modifié.\n",
    "    \"\"\"\n",
    "    \n",
    "    résultat = []\n",
    "    for p, n, j, m, a in tableau_élèves:\n",
    "        dico = {}\n",
    "        dico[\"prénom\"] = p\n",
    "        dico[\"nom\"] = n\n",
    "        dico[\"jour\"] = j\n",
    "        dico[\"mois\"] = m\n",
    "        dico[\"année\"] = a\n",
    "        résultat.append(dico)\n",
    "        \n",
    "    return résultat"
   ]
  },
  {
   "cell_type": "code",
   "execution_count": 12,
   "metadata": {},
   "outputs": [
    {
     "data": {
      "text/plain": [
       "[{'prénom': 'Sophie', 'nom': 'Jacquemin', 'jour': 3, 'mois': 6, 'année': 2003},\n",
       " {'prénom': 'Zoé', 'nom': 'Ledoux', 'jour': 1, 'mois': 2, 'année': 2004},\n",
       " {'prénom': 'Adrien', 'nom': 'Millet', 'jour': 8, 'mois': 6, 'année': 2003},\n",
       " {'prénom': 'Gilles', 'nom': 'Hebert', 'jour': 11, 'mois': 12, 'année': 2003},\n",
       " {'prénom': 'Andrée', 'nom': 'Millet', 'jour': 14, 'mois': 1, 'année': 2005},\n",
       " {'prénom': 'Françoise', 'nom': 'Auger', 'jour': 30, 'mois': 5, 'année': 2003},\n",
       " {'prénom': 'Margot',\n",
       "  'nom': 'Dias-Laurent',\n",
       "  'jour': 30,\n",
       "  'mois': 6,\n",
       "  'année': 2003},\n",
       " {'prénom': 'Thimothée',\n",
       "  'nom': 'Lebreton',\n",
       "  'jour': 2,\n",
       "  'mois': 10,\n",
       "  'année': 2004},\n",
       " {'prénom': 'Audrey', 'nom': 'Monnier', 'jour': 30, 'mois': 12, 'année': 2006},\n",
       " {'prénom': 'Élisabeth',\n",
       "  'nom': 'Lebrun',\n",
       "  'jour': 27,\n",
       "  'mois': 4,\n",
       "  'année': 2003}]"
      ]
     },
     "execution_count": 12,
     "metadata": {},
     "output_type": "execute_result"
    }
   ],
   "source": [
    "élèves_tuples_nommés(élèves)"
   ]
  },
  {
   "cell_type": "markdown",
   "metadata": {},
   "source": [
    "---\n",
    "#### Exercice 4 bis : création de tuples dictionnaires généralisée"
   ]
  },
  {
   "cell_type": "code",
   "execution_count": 13,
   "metadata": {},
   "outputs": [],
   "source": [
    "élèves = [\n",
    "    (\"Sophie\", \"Jacquemin\", 3, 6, 2003),\n",
    "    (\"Zoé\", \"Ledoux\", 1, 2, 2004),\n",
    "    (\"Adrien\", \"Millet\", 8, 6, 2003),\n",
    "    (\"Gilles\", \"Hebert\", 11, 12, 2003),\n",
    "    (\"Andrée\", \"Millet\", 14, 1, 2005),\n",
    "    (\"Françoise\", \"Auger\", 30, 5, 2003),\n",
    "    (\"Margot\", \"Dias-Laurent\", 30, 6, 2003),\n",
    "    (\"Thimothée\", \"Lebreton\", 2, 10, 2004),\n",
    "    (\"Audrey\", \"Monnier\", 30, 12, 2006),\n",
    "    (\"Élisabeth\", \"Lebrun\", 27, 4, 2003)\n",
    "]"
   ]
  },
  {
   "cell_type": "code",
   "execution_count": 14,
   "metadata": {},
   "outputs": [],
   "source": [
    "def élèves_tuples_nommés(tableau_élèves, liste_clés):\n",
    "    \"\"\"Transforme un tableau de tuples en un tableau de\n",
    "    dictionnaires, en utilisant la liste de clés fournie. \n",
    "    \n",
    "    On suppose que le nombre de clés est égal à la longueur\n",
    "    de tous les tuples dans le tableau.\n",
    "    \n",
    "    Le tableau initial n'est pas modifié.\n",
    "    \"\"\"\n",
    "    \n",
    "    résultat = []\n",
    "    for t in tableau_élèves:\n",
    "        dictionnaire = {}\n",
    "        for i in range(len(t)):\n",
    "            élément = t[i]\n",
    "            clé = liste_clés[i]\n",
    "            dictionnaire[clé] = élément\n",
    "        résultat.append(dictionnaire)\n",
    "        \n",
    "    return résultat"
   ]
  },
  {
   "cell_type": "code",
   "execution_count": 15,
   "metadata": {},
   "outputs": [
    {
     "data": {
      "text/plain": [
       "[{'firstname': 'Sophie',\n",
       "  'name': 'Jacquemin',\n",
       "  'day': 3,\n",
       "  'month': 6,\n",
       "  'year': 2003},\n",
       " {'firstname': 'Zoé', 'name': 'Ledoux', 'day': 1, 'month': 2, 'year': 2004},\n",
       " {'firstname': 'Adrien', 'name': 'Millet', 'day': 8, 'month': 6, 'year': 2003},\n",
       " {'firstname': 'Gilles',\n",
       "  'name': 'Hebert',\n",
       "  'day': 11,\n",
       "  'month': 12,\n",
       "  'year': 2003},\n",
       " {'firstname': 'Andrée',\n",
       "  'name': 'Millet',\n",
       "  'day': 14,\n",
       "  'month': 1,\n",
       "  'year': 2005},\n",
       " {'firstname': 'Françoise',\n",
       "  'name': 'Auger',\n",
       "  'day': 30,\n",
       "  'month': 5,\n",
       "  'year': 2003},\n",
       " {'firstname': 'Margot',\n",
       "  'name': 'Dias-Laurent',\n",
       "  'day': 30,\n",
       "  'month': 6,\n",
       "  'year': 2003},\n",
       " {'firstname': 'Thimothée',\n",
       "  'name': 'Lebreton',\n",
       "  'day': 2,\n",
       "  'month': 10,\n",
       "  'year': 2004},\n",
       " {'firstname': 'Audrey',\n",
       "  'name': 'Monnier',\n",
       "  'day': 30,\n",
       "  'month': 12,\n",
       "  'year': 2006},\n",
       " {'firstname': 'Élisabeth',\n",
       "  'name': 'Lebrun',\n",
       "  'day': 27,\n",
       "  'month': 4,\n",
       "  'year': 2003}]"
      ]
     },
     "execution_count": 15,
     "metadata": {},
     "output_type": "execute_result"
    }
   ],
   "source": [
    "# On utilise des clés en anglais, pour montrer l'intérêt de la généralisation: \n",
    "# les clés ne sont plus codées dans la fonction, mais sont données en paramètre.\n",
    "élèves_tuples_nommés(élèves, [\"firstname\", \"name\", \"day\", \"month\", \"year\"])"
   ]
  },
  {
   "cell_type": "markdown",
   "metadata": {},
   "source": [
    "---\n",
    "#### Exercice 5: décompte du nombre d'occurences"
   ]
  },
  {
   "cell_type": "code",
   "execution_count": 16,
   "metadata": {},
   "outputs": [],
   "source": [
    "def décompte_années(tableau_élèves):\n",
    "    \"\"\"Renvoie un dictionnaire associant à une année donnée\n",
    "    le nombre de fois où un élève est né cette année. Seules les\n",
    "    années ayant connu au moins une naissance sont prises\n",
    "    en compte.\n",
    "    \"\"\"\n",
    "    \n",
    "    comptes = {}\n",
    "    for élève in tableau_élèves:\n",
    "        année = élève[\"année\"]\n",
    "        if année in comptes:\n",
    "            comptes[année] = comptes[année] + 1\n",
    "        else:\n",
    "            comptes[année] = 1\n",
    "            \n",
    "    return comptes"
   ]
  },
  {
   "cell_type": "code",
   "execution_count": 17,
   "metadata": {
    "tags": [
     "raises-exception"
    ]
   },
   "outputs": [],
   "source": [
    "clés = [\"prénom\", \"nom\", \"jour\", \"mois\", \"année\"]\n",
    "élèves_dict = élèves_tuples_nommés(élèves, clés)\n",
    "résultat = décompte_années(élèves_dict)\n",
    "assert résultat[2003] == 6\n",
    "assert résultat[2004] == 2\n",
    "assert résultat[2005] == 1\n",
    "assert résultat[2006] == 1\n",
    "assert len(résultat) == 4"
   ]
  },
  {
   "cell_type": "markdown",
   "metadata": {},
   "source": [
    "---\n",
    "#### Exercice 6: encore des occurences !"
   ]
  },
  {
   "cell_type": "code",
   "execution_count": 18,
   "metadata": {},
   "outputs": [],
   "source": [
    "def occurences(tableau):\n",
    "    \"\"\"Renvoie un dictionnaire associant à chaque élément présent\n",
    "    dans le tableau donné en paramètre le nombre de fois où il apparaît\n",
    "    dans ce tableau.\n",
    "    \"\"\"\n",
    "    \n",
    "    compteurs = {}\n",
    "    for e in tableau:\n",
    "        if e in compteurs:\n",
    "            compteurs[e] += 1\n",
    "        else:\n",
    "            compteurs[e] = 1\n",
    "        \n",
    "    return compteurs"
   ]
  },
  {
   "cell_type": "code",
   "execution_count": 19,
   "metadata": {},
   "outputs": [],
   "source": [
    "assert occurences([1, 2, 3, 4]) == {1: 1, 2: 1, 3: 1, 4: 1}\n",
    "assert occurences([1, 2, 2, 3, 3, 3, 4, 4, 4, 4]) == {1: 1, 2: 2, 3: 3, 4: 4}\n",
    "assert occurences([1, 3, 4, 4, 2, 3, 4, 2, 4, 3]) == {1: 1, 2: 2, 3: 3, 4: 4}\n",
    "assert occurences(\"pascal\") == {\"p\": 1, \"a\": 2, \"s\": 1, \"c\": 1, \"l\": 1}"
   ]
  },
  {
   "cell_type": "markdown",
   "metadata": {},
   "source": [
    "---\n",
    "#### Exercice 7: comparaison de deux tableaux"
   ]
  },
  {
   "cell_type": "code",
   "execution_count": 20,
   "metadata": {},
   "outputs": [],
   "source": [
    "def tableaux_égaux(t1, t2):\n",
    "    \"\"\"Test l'égalité entre deux tableaux, sans tenir compte de l'ordre\n",
    "    mais en tenant compte des répétitions.\"\"\"\n",
    "    \n",
    "    d1 = occurences(t1)\n",
    "    d2 = occurences(t2)\n",
    "    \n",
    "    # On pourrait utiliser simplement:\n",
    "    #\n",
    "    # return d1 == d2\n",
    "    #\n",
    "    # ... mais on va réaliser cette comparaison algorithmiquement\n",
    "\n",
    "    # On boucle sur chaque élément présent dans le tableau t1:\n",
    "    for élément in d1:\n",
    "        if élément not in d2:\n",
    "            # cet élément n'est pas présent dans t2: les tableaux sont différents\n",
    "            return False\n",
    "        elif d2[élément] != d1[élément]:\n",
    "            # le nombre de répétitions de cet élément diffère entre les deux tableaux:\n",
    "            # ceux-ci ne sont donc pas égaux\n",
    "            return False\n",
    "    \n",
    "    # La boucle s'est exécutée sans encombre: tous les éléments de t1 sont donc dans t2,\n",
    "    # avec les mêmes répétitions.\n",
    "    \n",
    "    # Mais il se pourrait que t2 contiennent d'autres éléments: il faut donc refaire le test\n",
    "    # mais en intervertissant les rôles de t1 et t2:\n",
    "    for élément in d2:\n",
    "        if élément not in d1:\n",
    "            # cet élément n'est pas présent dans t2: les tableaux sont différents\n",
    "            return False\n",
    "        \n",
    "        # Remarquons que la seconde partie du test n'est pas utile ici: en effet, si élément est dans t1,\n",
    "        # c'est qu'il aura déjà été testé par la boucle précédente.\n",
    "        \n",
    "    # Aucune erreur détectée: les tableaux sont égaux.\n",
    "    \n",
    "    return True"
   ]
  },
  {
   "cell_type": "code",
   "execution_count": 21,
   "metadata": {
    "tags": [
     "raises-exception"
    ]
   },
   "outputs": [],
   "source": [
    "# N'oubliez pas de tester votre fonction\n",
    "t1 = [1, 1, 2, 1, 0, 1, 0, 0]\n",
    "t2 = [2, 0, 0, 1, 1, 1, 0, 1]\n",
    "t3 = [0, 0, 1, 1, 1, 1, 2]\n",
    "\n",
    "assert tableaux_égaux(t1, t2) == True\n",
    "assert tableaux_égaux(t1, t3) == False"
   ]
  },
  {
   "cell_type": "markdown",
   "metadata": {},
   "source": [
    "---\n",
    "#### Exercice 8: Fréquences des lettres dans un texte"
   ]
  },
  {
   "cell_type": "code",
   "execution_count": 22,
   "metadata": {},
   "outputs": [],
   "source": [
    "traduction_accents = [(\"éèêë\", \"e\"), (\"àâä\", \"a\"), (\"ôö\", \"o\"), (\"îï\", \"i\"), (\"üûù\", \"u\"), (\"ç\", \"c\")]\n",
    "dictionnaire_accents = {}\n",
    "for lettres, traduction in traduction_accents:\n",
    "    for l in lettres:\n",
    "        dictionnaire_accents[l] = traduction\n",
    "        dictionnaire_accents[l.upper()] = traduction"
   ]
  },
  {
   "cell_type": "code",
   "execution_count": 23,
   "metadata": {},
   "outputs": [],
   "source": [
    "def fréquences_lettres(texte):\n",
    "    \"\"\"Renvoie le dictionnaire des fréquences pour chaque lettre minuscule du texte passé en paramètre.\n",
    "    Les lettres majuscules/accentuées/cédilles sont comptées comme les minuscules correspondantes.\n",
    "    Les caractères non alphabétiques sont tout simplement ignorés.\n",
    "    \n",
    "    Les fréquences sont arrondies au millième.\"\"\"\n",
    "\n",
    "    lettres_minuscules = \"abcdefghijklmnopqrstuvwxyz\"\n",
    "    \n",
    "    compteurs = occurences(texte)\n",
    "    compteurs_lettres = {}\n",
    "    for l in lettres_minuscules:\n",
    "            if l in compteurs:\n",
    "                compteurs_lettres[l] = compteurs[l]\n",
    "            else:\n",
    "                compteurs_lettres[l] = 0\n",
    "                \n",
    "    for l in lettres_minuscules.upper():\n",
    "            if l in compteurs:\n",
    "                compteurs_lettres[l.lower()] = compteurs_lettres[l.lower()] + compteurs[l]\n",
    "\n",
    "    for l in dictionnaire_accents:\n",
    "        if l in compteurs:\n",
    "            compteurs_lettres[dictionnaire_accents[l]] = compteurs_lettres[dictionnaire_accents[l]] + compteurs[l]\n",
    "            \n",
    "    total = 0\n",
    "    for l in compteurs_lettres:\n",
    "        total = total +  compteurs_lettres[l]\n",
    "        \n",
    "    fréquences = {}\n",
    "    for l in compteurs_lettres:\n",
    "        fréquences[l] = round(compteurs_lettres[l] / total, 3)\n",
    "            \n",
    "    return fréquences\n"
   ]
  },
  {
   "cell_type": "code",
   "execution_count": 24,
   "metadata": {},
   "outputs": [],
   "source": [
    "texte = \"\"\"\n",
    "Maître Corbeau, sur un arbre perché,\n",
    "           Tenait en son bec un fromage.\n",
    "       Maître Renard, par l'odeur alléché,\n",
    "           Lui tint à peu près ce langage :\n",
    "       Et bonjour, Monsieur du Corbeau,\n",
    "    Que vous êtes joli ! que vous me semblez beau !\n",
    "           Sans mentir, si votre ramage\n",
    "           Se rapporte à votre plumage,\n",
    "     Vous êtes le Phénix des hôtes de ces bois.\n",
    "À ces mots le Corbeau ne se sent pas de joie,\n",
    "           Et pour montrer sa belle voix,\n",
    "   Il ouvre un large bec, laisse tomber sa proie.\n",
    "   Le Renard s'en saisit, et dit : Mon bon Monsieur,\n",
    "              Apprenez que tout flatteur\n",
    "     Vit aux dépens de celui qui l'écoute.\n",
    "   Cette leçon vaut bien un fromage sans doute.\n",
    "           Le Corbeau honteux et confus\n",
    "   Jura, mais un peu tard, qu'on ne l'y prendrait plus.\"\"\""
   ]
  },
  {
   "cell_type": "code",
   "execution_count": 25,
   "metadata": {
    "tags": [
     "raises-exception"
    ]
   },
   "outputs": [],
   "source": [
    "assert fréquences_lettres(texte) == {\n",
    "    'a': 0.076, 'b': 0.029, 'c': 0.031, 'd': 0.025, 'e': 0.172, 'f': 0.008, 'g': 0.013, 'h': 0.01,\n",
    "     'i': 0.05, 'j': 0.008, 'k': 0.0, 'l': 0.044, 'm': 0.031, 'n': 0.065, 'o': 0.073, 'p': 0.032,\n",
    "     'q': 0.01, 'r': 0.078, 's': 0.071, 't': 0.069, 'u': 0.078, 'v': 0.017, 'w': 0.0, 'x': 0.008,\n",
    "     'y': 0.002, 'z': 0.004}"
   ]
  },
  {
   "cell_type": "markdown",
   "metadata": {},
   "source": [
    "---\n",
    "#### Exercice 9 : Les misérables"
   ]
  },
  {
   "cell_type": "code",
   "execution_count": 26,
   "metadata": {},
   "outputs": [
    {
     "data": {
      "text/plain": [
       "62243"
      ]
     },
     "execution_count": 26,
     "metadata": {},
     "output_type": "execute_result"
    }
   ],
   "source": [
    "with open(\"misérables.txt\", \"r\") as fichier:\n",
    "    misérables = []\n",
    "    for ligne in fichier:\n",
    "        misérables.append(ligne)\n",
    "        \n",
    "len(misérables)"
   ]
  },
  {
   "cell_type": "code",
   "execution_count": 27,
   "metadata": {},
   "outputs": [
    {
     "data": {
      "text/plain": [
       "514576"
      ]
     },
     "execution_count": 27,
     "metadata": {},
     "output_type": "execute_result"
    }
   ],
   "source": [
    "from sys import getsizeof\n",
    "getsizeof(misérables)"
   ]
  },
  {
   "cell_type": "code",
   "execution_count": 28,
   "metadata": {},
   "outputs": [],
   "source": [
    "def occurences_lignes(lignes):\n",
    "    \"\"\"Écrire la documentation de la fonction ici\"\"\"\n",
    "    \n",
    "    compteurs = {}\n",
    "    for ligne in lignes:\n",
    "        for caractère in ligne:\n",
    "            if caractère in compteurs:\n",
    "                compteurs[caractère] = compteurs[caractère] + 1\n",
    "            else:\n",
    "                compteurs[caractère] = 1\n",
    "        \n",
    "    return compteurs    \n"
   ]
  },
  {
   "cell_type": "code",
   "execution_count": 29,
   "metadata": {},
   "outputs": [],
   "source": [
    "def fréquences_lignes(lignes):\n",
    "    \"\"\"Écrire la documentation de la fonction ici\"\"\"\n",
    "    lettres_minuscules = \"abcdefghijklmnopqrstuvwxyz\"\n",
    "    \n",
    "    \n",
    "    # Voici la seule ligne qui diffère de la fonction fréquences_lettre précédente:\n",
    "    compteurs = occurences_lignes(lignes)\n",
    "    \n",
    "    compteurs_lettres = {}\n",
    "    for l in lettres_minuscules:\n",
    "            if l in compteurs:\n",
    "                compteurs_lettres[l] = compteurs[l]\n",
    "            else:\n",
    "                compteurs_lettres[l] = 0\n",
    "                \n",
    "    for l in lettres_minuscules.upper():\n",
    "            if l in compteurs:\n",
    "                compteurs_lettres[l.lower()] += compteurs[l]\n",
    "\n",
    "    for l in dictionnaire_accents:\n",
    "        if l in compteurs:\n",
    "            compteurs_lettres[dictionnaire_accents[l]] += compteurs[l]\n",
    "            \n",
    "    total = 0\n",
    "    for l in compteurs_lettres:\n",
    "        total = total + compteurs_lettres[l]\n",
    "        \n",
    "    fréquences = {}\n",
    "    for l in compteurs_lettres:\n",
    "        fréquences[l] = round(compteurs_lettres[l] / total, 3)\n",
    "            \n",
    "    return fréquences\n"
   ]
  },
  {
   "cell_type": "code",
   "execution_count": 30,
   "metadata": {
    "tags": [
     "raises-exception"
    ]
   },
   "outputs": [],
   "source": [
    "assert fréquences_lignes(misérables) == {\n",
    "    'a': 0.089, 'b': 0.011, 'c': 0.032, 'd': 0.035,\n",
    "    'e': 0.172, 'f': 0.011, 'g': 0.009, 'h': 0.01,\n",
    "    'i': 0.075, 'j': 0.005, 'k': 0.0, 'l': 0.06,\n",
    "    'm': 0.028, 'n': 0.067, 'o': 0.051, 'p': 0.026,\n",
    "    'q': 0.012, 'r': 0.064, 's': 0.075, 't': 0.077,\n",
    "    'u': 0.064, 'v': 0.018, 'w': 0.0, 'x': 0.004,\n",
    "    'y': 0.003, 'z': 0.002}"
   ]
  },
  {
   "cell_type": "markdown",
   "metadata": {},
   "source": [
    "**Remarque:** On aurait pu utiliser la fonction de l'exercice précédent, à condition de mettre l'ensemble des *Misérables* dans une unique chaîne de caractère. C'est possible en python avec la fonction ```join``` qui s'utilise comme suit:"
   ]
  },
  {
   "cell_type": "code",
   "execution_count": 31,
   "metadata": {},
   "outputs": [
    {
     "data": {
      "text/plain": [
       "3076414"
      ]
     },
     "execution_count": 31,
     "metadata": {},
     "output_type": "execute_result"
    }
   ],
   "source": [
    "# La fonction join va concaténer toutes les chaînes de caractères du tableau misérables,\n",
    "# en utilisant la chaîne vide \"\" comme séparateur (on aurait pu mettre autre chose).\n",
    "chaîne = \"\".join(misérables)\n",
    "len(chaîne)"
   ]
  },
  {
   "cell_type": "markdown",
   "metadata": {},
   "source": [
    "On n'affiche pas cette chaîne pour épargner le navigateur, mais elle contient environ 3 millions de caractères.\n",
    "\n",
    "**Remarque importante:** Il est curieux d'avoir une chaîne d'environ 3 Mo alors que le tableau n'occupait qu'un demi mégaoctet environ. Cela vient du fait que ```getsizeof()``` donne la taille du tableau lui-même, mais pas des objets qu'il contient. Le tableau seul occupe environ 0,5 Mo, et les chaînes de caractères totalisent environ 3 Mo, pour un total de 3,5 Mo."
   ]
  },
  {
   "cell_type": "code",
   "execution_count": 32,
   "metadata": {},
   "outputs": [
    {
     "data": {
      "text/plain": [
       "{'a': 0.089,\n",
       " 'b': 0.011,\n",
       " 'c': 0.032,\n",
       " 'd': 0.035,\n",
       " 'e': 0.172,\n",
       " 'f': 0.011,\n",
       " 'g': 0.009,\n",
       " 'h': 0.01,\n",
       " 'i': 0.075,\n",
       " 'j': 0.005,\n",
       " 'k': 0.0,\n",
       " 'l': 0.06,\n",
       " 'm': 0.028,\n",
       " 'n': 0.067,\n",
       " 'o': 0.051,\n",
       " 'p': 0.026,\n",
       " 'q': 0.012,\n",
       " 'r': 0.064,\n",
       " 's': 0.075,\n",
       " 't': 0.077,\n",
       " 'u': 0.064,\n",
       " 'v': 0.018,\n",
       " 'w': 0.0,\n",
       " 'x': 0.004,\n",
       " 'y': 0.003,\n",
       " 'z': 0.002}"
      ]
     },
     "execution_count": 32,
     "metadata": {},
     "output_type": "execute_result"
    }
   ],
   "source": [
    "fréquences_lettres(chaîne)"
   ]
  },
  {
   "cell_type": "markdown",
   "metadata": {},
   "source": [
    "Le résultat est exactement le même, et ne nécessite pas de réécrire les fonctions. Le désavantage est que l'on consomme plus de mémoire puisqu'on est obligé de créer une chaîne de caractère de 3 Mo en plus du tableau déjà existant et des chaînes qu'il contient."
   ]
  },
  {
   "cell_type": "markdown",
   "metadata": {},
   "source": [
    "---\n",
    "#### Exercice 10: Visualisation des résultats."
   ]
  },
  {
   "cell_type": "code",
   "execution_count": 34,
   "metadata": {},
   "outputs": [
    {
     "data": {
      "image/png": "[encoded data removed]",
      "text/plain": [
       "<Figure size 432x288 with 1 Axes>"
      ]
     },
     "metadata": {
      "needs_background": "light"
     },
     "output_type": "display_data"
    }
   ],
   "source": [
    "stats = fréquences_lignes(misérables)\n",
    "lettres = \"abcdefghijklmnopqrstuvwxyz\"\n",
    "fréquences = [stats[l] for l in lettres]\n",
    "\n",
    "from matplotlib import pyplot as plt\n",
    "plt.bar(range(len(lettres)), fréquences)\n",
    "plt.title(\"Les misérables - Victor Hugo\")\n",
    "plt.ylabel(\"Fréquence d'apparition\")\n",
    "plt.xticks(range(len(lettres)), lettres)\n",
    "plt.show()\n",
    "\n",
    "# Évaluer DEUX fois cette cellule si le diagramme ne s'affiche pas dans jupyterlab"
   ]
  },
  {
   "cell_type": "code",
   "execution_count": null,
   "metadata": {},
   "outputs": [],
   "source": []
  }
 ],
 "metadata": {
  "kernelspec": {
   "display_name": "Python 3",
   "language": "python",
   "name": "python3"
  },
  "language_info": {
   "codemirror_mode": {
    "name": "ipython",
    "version": 3
   },
   "file_extension": ".py",
   "mimetype": "text/x-python",
   "name": "python",
   "nbconvert_exporter": "python",
   "pygments_lexer": "ipython3",
   "version": "3.7.4"
  }
 },
 "nbformat": 4,
 "nbformat_minor": 4
}

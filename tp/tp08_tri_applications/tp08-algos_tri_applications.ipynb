{
 "cells": [
  {
   "cell_type": "markdown",
   "metadata": {},
   "source": [
    "# TP n° 8 - Algorithmes de tri: applications"
   ]
  },
  {
   "cell_type": "markdown",
   "metadata": {},
   "source": [
    "## Tri par sélection: algorithme de base"
   ]
  },
  {
   "cell_type": "markdown",
   "metadata": {},
   "source": [
    "Voici l'algorithme du tri par sélection étudié en classe."
   ]
  },
  {
   "cell_type": "code",
   "execution_count": 1,
   "metadata": {},
   "outputs": [],
   "source": [
    "def tri_sélection(t):\n",
    "    for i in range(len(t)):\n",
    "        mini = t[i]\n",
    "        indice_mini = i\n",
    "        for j in range(i + 1, len(t)):\n",
    "            if t[j] < mini:\n",
    "                mini = t[j]\n",
    "                indice_mini = j\n",
    "        t[i], t[indice_mini] = t[indice_mini], t[i]"
   ]
  },
  {
   "cell_type": "markdown",
   "metadata": {},
   "source": [
    "On teste cet algorithme sur une liste de nombres aléatoires:"
   ]
  },
  {
   "cell_type": "code",
   "execution_count": 2,
   "metadata": {},
   "outputs": [
    {
     "name": "stdout",
     "output_type": "stream",
     "text": [
      "Liste non triée [2, 19, 18, 3, 11, 2, 5, 14, 19, 5, 14, 3, 4, 3, 4, 11, 9, 20, 12, 4]\n",
      "Liste triée [2, 2, 3, 3, 3, 4, 4, 4, 5, 5, 9, 11, 11, 12, 14, 14, 18, 19, 19, 20]\n"
     ]
    }
   ],
   "source": [
    "from random import randint\n",
    "N = 20\n",
    "# On tire une liste de N nombres compris entre 0 et N.\n",
    "t = [randint(0, N) for _ in range(N)]\n",
    "\n",
    "print(\"Liste non triée\", t)\n",
    "\n",
    "tri_sélection(t)\n",
    "print(\"Liste triée\", t)"
   ]
  },
  {
   "cell_type": "markdown",
   "metadata": {},
   "source": [
    "## Application 1 : ordre croissant / décroissant"
   ]
  },
  {
   "cell_type": "markdown",
   "metadata": {},
   "source": [
    "On aimerait trier la liste par ordre décroissant plutôt que croissant. Il y a plusieurs façons de réaliser cela:"
   ]
  },
  {
   "cell_type": "markdown",
   "metadata": {},
   "source": [
    "### Méthode 1: renversement de la liste triée\n",
    "\n",
    "Une première méthode consiste à trier dans l'ordre croissant, puis à inverser le tableau trié:"
   ]
  },
  {
   "cell_type": "code",
   "execution_count": 3,
   "metadata": {},
   "outputs": [],
   "source": [
    "def tri_sélection_décroissant_1(t):\n",
    "    # Tri selon l'ordre croissant\n",
    "    tri_sélection(t)\n",
    "    \n",
    "    # On renverse la liste. On pourrait utiliser t.reverse(), mais on va le faire à la main ici,\n",
    "    # puisque l'on a déjà étudié cet algorithme en classe.\n",
    "    \n",
    "    i = 0\n",
    "    j = len(t) - 1\n",
    "    # Tant que i est avant j on échange les éléments correspondants:\n",
    "    while i < j:\n",
    "        t[i], t[j] = t[j], t[i]\n",
    "        i = i + 1\n",
    "        j = j - 1"
   ]
  },
  {
   "cell_type": "markdown",
   "metadata": {},
   "source": [
    "Testons cette fonction:"
   ]
  },
  {
   "cell_type": "code",
   "execution_count": 4,
   "metadata": {},
   "outputs": [
    {
     "name": "stdout",
     "output_type": "stream",
     "text": [
      "Liste non triée [16, 10, 5, 1, 13, 8, 2, 6, 14, 1, 1, 1, 2, 16, 1, 20, 12, 18, 0, 16]\n",
      "Liste triée [20, 18, 16, 16, 16, 14, 13, 12, 10, 8, 6, 5, 2, 2, 1, 1, 1, 1, 1, 0]\n"
     ]
    }
   ],
   "source": [
    "from random import randint\n",
    "N = 20\n",
    "# On tire une liste de N nombres compris entre 0 et N.\n",
    "t = [randint(0, N) for _ in range(N)]\n",
    "\n",
    "print(\"Liste non triée\", t)\n",
    "\n",
    "tri_sélection_décroissant_1(t)\n",
    "print(\"Liste triée\", t)"
   ]
  },
  {
   "cell_type": "markdown",
   "metadata": {},
   "source": [
    "### Méthode 2: on change l'algorithme de tri\n",
    "\n",
    "Il suffit pour cela de chercher le maximum plutôt que le minimum dans la partie non triée du tableau (entre l'indice i et la fin du tableau):"
   ]
  },
  {
   "cell_type": "code",
   "execution_count": 5,
   "metadata": {},
   "outputs": [],
   "source": [
    "def tri_sélection_décroissant_2(t):\n",
    "    for i in range(len(t)):\n",
    "        maxi = t[i]\n",
    "        indice_maxi = i\n",
    "        for j in range(i + 1, len(t)):\n",
    "            # Seul le < est changé en >: c'est la seule modification entre les deux algorithmes.\n",
    "            if t[j] > maxi:\n",
    "                maxi = t[j]\n",
    "                indice_maxi = j\n",
    "        t[i], t[indice_maxi] = t[indice_maxi], t[i]"
   ]
  },
  {
   "cell_type": "markdown",
   "metadata": {},
   "source": [
    "Et le test:"
   ]
  },
  {
   "cell_type": "code",
   "execution_count": 6,
   "metadata": {},
   "outputs": [
    {
     "name": "stdout",
     "output_type": "stream",
     "text": [
      "Liste non triée [8, 6, 7, 3, 17, 16, 10, 8, 20, 17, 7, 0, 14, 6, 9, 4, 2, 2, 15, 9]\n",
      "Liste triée [20, 17, 17, 16, 15, 14, 10, 9, 9, 8, 8, 7, 7, 6, 6, 4, 3, 2, 2, 0]\n"
     ]
    }
   ],
   "source": [
    "from random import randint\n",
    "N = 20\n",
    "# On tire une liste de N nombres compris entre 0 et N.\n",
    "t = [randint(0, N) for _ in range(N)]\n",
    "\n",
    "print(\"Liste non triée\", t)\n",
    "\n",
    "tri_sélection_décroissant_2(t)\n",
    "print(\"Liste triée\", t)"
   ]
  },
  {
   "cell_type": "markdown",
   "metadata": {},
   "source": [
    "### Méthode 3: écriture d'une fonction pouvant trier dans les deux sens\n",
    "\n",
    "La meilleure méthode (et de loin !) consiste à ajouter un paramètre optionnel à la fonction de tri afin d'offrir la possibilité de trier dans un sens ou dans l'autre. À partir de maintenant, c'est la fonction de tri que l'on utilisera:"
   ]
  },
  {
   "cell_type": "code",
   "execution_count": 7,
   "metadata": {},
   "outputs": [],
   "source": [
    "def tri_sélection(t, croissant=True):\n",
    "    \"\"\"Trie le tableau t.\n",
    "    \n",
    "    Le paramètre optionnel croissant est un booléen indiquant s'il faut trier dans l'ordre\n",
    "    croissant ou non. Par défaut (si le paramètre n'est pas inclus), le tri se fera dans\n",
    "    l'ordre croissant.\n",
    "    \"\"\"\n",
    "    \n",
    "    for i in range(len(t)):\n",
    "        m = t[i]\n",
    "        indice_m = i\n",
    "        for j in range(i + 1, len(t)):\n",
    "            # Selon la valeur de croissant, il faut tester une inégalité ou l'autre: selon le cas,\n",
    "            # on recherchera donc le minimum (si croissant est True) ou le maximum sur\n",
    "            # la partie non triée\n",
    "            if (croissant is True and t[j] < m) or (croissant is False and t[j] > m):\n",
    "                m = t[j]\n",
    "                indice_m = j\n",
    "        t[i], t[indice_m] = t[indice_m], t[i]"
   ]
  },
  {
   "cell_type": "markdown",
   "metadata": {},
   "source": [
    "Et un triple test:"
   ]
  },
  {
   "cell_type": "code",
   "execution_count": 8,
   "metadata": {},
   "outputs": [
    {
     "name": "stdout",
     "output_type": "stream",
     "text": [
      "Liste non triée [2, 19, 13, 6, 2, 9, 13, 8, 8, 3, 19, 14, 3, 16, 13, 16, 5, 0, 15, 9]\n",
      "Liste triée [0, 2, 2, 3, 3, 5, 6, 8, 8, 9, 9, 13, 13, 13, 14, 15, 16, 16, 19, 19]\n"
     ]
    }
   ],
   "source": [
    "from random import randint\n",
    "N = 20\n",
    "# On tire une liste de N nombres compris entre 0 et N.\n",
    "t = [randint(0, N) for _ in range(N)]\n",
    "\n",
    "print(\"Liste non triée\", t)\n",
    "\n",
    "# Pas de paramètre optionnel: l'ordre doit être croissant par défaut.\n",
    "tri_sélection(t)\n",
    "print(\"Liste triée\", t)"
   ]
  },
  {
   "cell_type": "code",
   "execution_count": 9,
   "metadata": {},
   "outputs": [
    {
     "name": "stdout",
     "output_type": "stream",
     "text": [
      "Liste non triée [5, 4, 3, 4, 20, 12, 7, 17, 19, 18, 10, 4, 14, 12, 7, 13, 2, 5, 19, 4]\n",
      "Liste triée [2, 3, 4, 4, 4, 4, 5, 5, 7, 7, 10, 12, 12, 13, 14, 17, 18, 19, 19, 20]\n"
     ]
    }
   ],
   "source": [
    "from random import randint\n",
    "N = 20\n",
    "# On tire une liste de N nombres compris entre 0 et N.\n",
    "t = [randint(0, N) for _ in range(N)]\n",
    "\n",
    "print(\"Liste non triée\", t)\n",
    "\n",
    "# On peut explicitement demander un ordre croissant (plus lisible):\n",
    "tri_sélection(t, croissant=True)\n",
    "print(\"Liste triée\", t)"
   ]
  },
  {
   "cell_type": "code",
   "execution_count": 10,
   "metadata": {},
   "outputs": [
    {
     "name": "stdout",
     "output_type": "stream",
     "text": [
      "Liste non triée [16, 11, 14, 7, 4, 4, 13, 6, 9, 6, 20, 3, 3, 18, 17, 15, 19, 2, 1, 19]\n",
      "Liste triée [20, 19, 19, 18, 17, 16, 15, 14, 13, 11, 9, 7, 6, 6, 4, 4, 3, 3, 2, 1]\n"
     ]
    }
   ],
   "source": [
    "from random import randint\n",
    "N = 20\n",
    "# On tire une liste de N nombres compris entre 0 et N.\n",
    "t = [randint(0, N) for _ in range(N)]\n",
    "\n",
    "print(\"Liste non triée\", t)\n",
    "\n",
    "# On veut un tri dans l'ordre décroissant:\n",
    "tri_sélection(t, croissant=False)\n",
    "print(\"Liste triée\", t)"
   ]
  },
  {
   "cell_type": "markdown",
   "metadata": {},
   "source": [
    "### Méthode 4: modification de la liste avant le tri pour inverser l'ordre\n",
    "\n",
    "La technique proposée ici est très astucieuse, elle utilise le fait que les nombres négatifs sont triés dans l'ordre inverse: $$a > b \\Longleftrightarrow -a < -b$$\n",
    "\n",
    "L'astuce consiste alors à changer le signe de tous les nombres, trier le tableau dans l'ordre croissant, puis rechanger les signes. Cela ne nécessite aucune modification de la fonction de tri:"
   ]
  },
  {
   "cell_type": "code",
   "execution_count": 11,
   "metadata": {},
   "outputs": [
    {
     "name": "stdout",
     "output_type": "stream",
     "text": [
      "Liste non triée [0, 7, 2, 13, 19, 12, 7, 0, 8, 18, 0, 7, 0, 17, 12, 13, 14, 5, 1, 9]\n",
      "Avant tri: [0, -7, -2, -13, -19, -12, -7, 0, -8, -18, 0, -7, 0, -17, -12, -13, -14, -5, -1, -9]\n",
      "Après tri [-19, -18, -17, -14, -13, -13, -12, -12, -9, -8, -7, -7, -7, -5, -2, -1, 0, 0, 0, 0]\n",
      "Liste triée dans l'ordre décroissant [19, 18, 17, 14, 13, 13, 12, 12, 9, 8, 7, 7, 7, 5, 2, 1, 0, 0, 0, 0]\n"
     ]
    }
   ],
   "source": [
    "from random import randint\n",
    "N = 20\n",
    "# On tire une liste de N nombres compris entre 0 et N.\n",
    "t = [randint(0, N) for _ in range(N)]\n",
    "\n",
    "print(\"Liste non triée\", t)\n",
    "\n",
    "# On change les signes:\n",
    "t = [-n for n in t]\n",
    "print(\"Avant tri:\", t)\n",
    "tri_sélection(t)\n",
    "print(\"Après tri\", t)\n",
    "\n",
    "# On rechange les signes\n",
    "t = [-n for n in t]\n",
    "print(\"Liste triée dans l'ordre décroissant\", t)"
   ]
  },
  {
   "cell_type": "markdown",
   "metadata": {},
   "source": [
    "**Remarque très importante:** Cette technique sera très utile pour trier sur des données plus complexes, comme des tuples ou des dictionnaires."
   ]
  },
  {
   "cell_type": "markdown",
   "metadata": {},
   "source": [
    "## Application 2 : Tri sur une copie d'un tableau\n",
    "\n",
    "Il n'est pas toujours pratique que le tableau que l'on souhaite trier soit modifié en place: dans de nombreuses situations, on souhaite obtenir une *copie triée* du tableau, sans que le tableau initial ne soit modifié.\n",
    "\n",
    "On peut réutiliser la fonction de tri existante, à condition de copier le tableau au préalable:"
   ]
  },
  {
   "cell_type": "code",
   "execution_count": 12,
   "metadata": {},
   "outputs": [],
   "source": [
    "def copie_triée(t, croissant=True):\n",
    "    \"\"\"Copie le tableau t, puis le trie par ordre croissant ou décroissant, selon\n",
    "    la valeur du booléen 'croissant' passé en paramètre.\n",
    "    \"\"\"\n",
    "    \n",
    "    # On commence par créer une copie du tableau:\n",
    "    n = len(t)\n",
    "    copie = [0] * n\n",
    "    \n",
    "    for i in range(n):\n",
    "        copie[i] = t[i]\n",
    "        \n",
    "    # puis on la trie (le tableau 'copie' sera modifié en place)\n",
    "    tri_sélection(copie, croissant)\n",
    "    \n",
    "    # Enfin, on renvoie la copie\n",
    "    return copie"
   ]
  },
  {
   "cell_type": "markdown",
   "metadata": {},
   "source": [
    "Testons que le comportement de cette fonction répond bien au cahier des charges:"
   ]
  },
  {
   "cell_type": "code",
   "execution_count": 13,
   "metadata": {},
   "outputs": [
    {
     "name": "stdout",
     "output_type": "stream",
     "text": [
      "Liste initiale: t = [3, 4, 18, 15, 12, 6, 10, 16, 17, 12, 18, 18, 8, 4, 5, 10, 2, 4, 3, 16]\n",
      "Copie triée: copie = [18, 18, 18, 17, 16, 16, 15, 12, 12, 10, 10, 8, 6, 5, 4, 4, 4, 3, 3, 2]\n",
      "Liste initiale: t = [3, 4, 18, 15, 12, 6, 10, 16, 17, 12, 18, 18, 8, 4, 5, 10, 2, 4, 3, 16]\n"
     ]
    }
   ],
   "source": [
    "from random import randint\n",
    "N = 20\n",
    "# On tire une liste de N nombres compris entre 0 et N.\n",
    "t = [randint(0, N) for _ in range(N)]\n",
    "\n",
    "print(\"Liste initiale: t =\", t)\n",
    "copie = copie_triée(t, croissant=False)\n",
    "print(\"Copie triée: copie =\", copie)\n",
    "print(\"Liste initiale: t =\", t)\n"
   ]
  },
  {
   "cell_type": "markdown",
   "metadata": {},
   "source": [
    "## Application 3 : Tri sur des tuples"
   ]
  },
  {
   "cell_type": "markdown",
   "metadata": {},
   "source": [
    "### Ordre lexicographique\n",
    "\n",
    "Pour que l'algorithme de tri proposé en début de TP fonctionne, il suffit que les données soient comparables (c'est-à-dire, qu'il est possible d'utiliser un opérateur de comparaison comme```<``` entre deux telles valeurs). \n",
    "\n",
    "* Les nombres sont évidemment comparables, c'est une propriété mathématique des nombres.\n",
    "* Les chaînes de caractères sont comparables suivant l'ordre du dictionnaire, encore appelé **ordre lexicographique** en mathématiques: on compare les premières lettres. En cas d'égalité, on compare les secondes. En cas d'égalité, on compare les troisièmes, et ainsi de suite. Dès qu'une des comparaison n'est pas une égalité (ou bien si un des mots est plus court que l'autre), on connait l'ordre entre les deux mots. Si toutes les comparaisons ont donné une égalité, les deux mots sont égaux.\n",
    "* En python, les tuples sont automatiquement comparés suivant ce même ordre lexicographie. Plus précisément, si $t_1= (x_1, x_2, \\ldots, x_n)$ et $t_2 = (y_1, y_2, \\ldots, y_m)$ sont deux tuples, l'algorithme de comparaison procède comme suit:\n",
    "\n",
    "  - Si $x_1 < y_1$, alors $t_1 < t_2$;\n",
    "  - Sinon si $x_2 < y_2$, alors $t_1 < t_2$;\n",
    "  - On continue les tests jusqu'à ce qu'un des tuples ne contienne plus de composante (il était plus court au départ). Si on tombe sur une égalité, le tuple le plus court sera considéré comme inférieur à l'autre.\n",
    "  - Si tous les tests ont été égaux, alors $t_1 = t_2$.\n",
    "  \n",
    "  Ce algorithme est un excellent exercice d'application:\n"
   ]
  },
  {
   "cell_type": "markdown",
   "metadata": {},
   "source": [
    "---\n",
    "#### Exercice 1 : ordre lexicographique sur des tuples."
   ]
  },
  {
   "cell_type": "markdown",
   "metadata": {},
   "source": [
    "Écrire une fonction ```compare_tuples(t1, t2)``` Retournant 1 si ```t1 > t2```, -1 si ```t1 < t2``` et 0 en cas d'égalité."
   ]
  },
  {
   "cell_type": "code",
   "execution_count": 38,
   "metadata": {},
   "outputs": [],
   "source": [
    "def compare_tuples(t1, t2):\n",
    "    \"\"\"Écrire la documentation de la fonction ici\"\"\"\n",
    "    \n",
    "    pass"
   ]
  },
  {
   "cell_type": "markdown",
   "metadata": {},
   "source": [
    "Et voici une cellule de tests automatisés:"
   ]
  },
  {
   "cell_type": "code",
   "execution_count": 15,
   "metadata": {},
   "outputs": [
    {
     "name": "stdout",
     "output_type": "stream",
     "text": [
      "Tous les tests ont été passés avec succès !\n"
     ]
    }
   ],
   "source": [
    "from random import randint\n",
    "\n",
    "try:\n",
    "    # Quelques tests sur des longueurs différentes mais des valeurs égales:\n",
    "    for i in range(6):\n",
    "        for j in range(6):\n",
    "            t1 = tuple([1 for _ in range(i)])\n",
    "            t2 = tuple([1 for _ in range(j)])\n",
    "            comp = compare_tuples(t1, t2)\n",
    "            assert comp in [-1, 0, 1]\n",
    "            assert (comp == -1 and t1 < t2) or (comp == 0 and t1 == t2) or (comp == 1 and t1 > t2)\n",
    "            \n",
    "    # puis sur des tuples complètement aléatoires:\n",
    "    for _ in range(100):\n",
    "        t1 = tuple([randint(0, 5) for _ in range(randint(1, 5))])\n",
    "        t2 = tuple([randint(0, 5) for _ in range(randint(1, 5))])\n",
    "        comp = compare_tuples(t1, t2)\n",
    "        assert comp in [-1, 0, 1]\n",
    "        assert (comp == -1 and t1 < t2) or (comp == 0 and t1 == t2) or (comp == 1 and t1 > t2)\n",
    "except Exception as e:\n",
    "    raise e\n",
    "else:\n",
    "    print(\"Tous les tests ont été passés avec succès !\")"
   ]
  },
  {
   "cell_type": "markdown",
   "metadata": {},
   "source": [
    "### Tri par défaut sur des tuples\n",
    "\n",
    "Que se passe-t-il lorsqu'on utilise l'ordre lexicographique par défaut sur des tuples:"
   ]
  },
  {
   "cell_type": "code",
   "execution_count": 16,
   "metadata": {},
   "outputs": [],
   "source": [
    "t1 = [\n",
    "    ('Pascal', 'Blaise', 1623),\n",
    "    ('Emmanuel', 'Kant', 1724),\n",
    "    ('Friedrich', 'Nietzsche', 1844),\n",
    "    ('René', 'Descartes', 1596)\n",
    "]"
   ]
  },
  {
   "cell_type": "code",
   "execution_count": 17,
   "metadata": {},
   "outputs": [
    {
     "data": {
      "text/plain": [
       "[('Emmanuel', 'Kant', 1724),\n",
       " ('Friedrich', 'Nietzsche', 1844),\n",
       " ('Pascal', 'Blaise', 1623),\n",
       " ('René', 'Descartes', 1596)]"
      ]
     },
     "execution_count": 17,
     "metadata": {},
     "output_type": "execute_result"
    }
   ],
   "source": [
    "copie_triée(t1)"
   ]
  },
  {
   "cell_type": "markdown",
   "metadata": {},
   "source": [
    "On constate que l'ordre lexicographique (utilisé par python) trie d'abord suivant le prénom, puis suivant le nom. Cela est d'ailleurs beaucoup plus visible sur une liste avec beaucoup de doublons:"
   ]
  },
  {
   "cell_type": "code",
   "execution_count": 18,
   "metadata": {},
   "outputs": [],
   "source": [
    "def crée_liste_élèves(taille):\n",
    "    prénoms = [\n",
    "        \"Théo\", \"Quentin\", \"Maxime\", \"Jules\", \"Gaspard\", \n",
    "        \"Valentin\", \"Mickaël\", \"Julien\", \"Maxens\", \"Gabin\",\n",
    "        \"Perrine\", \"Zoé\", \"Séraphine\", \"Sophie\", \"Claire\",\n",
    "        \"Amandine\", \"Julia\", \"Julie\", \"Céline\", \"Célia\"\n",
    "    ]\n",
    "\n",
    "    noms = [\n",
    "        \"Legoff\", \"Dupont\", \"Dupuis\", \"Dubois\", \"Legrand\",\n",
    "        \"Ledouble\", \"Duchemin\", \"Valois\", \"Fresnet\", \"Galois\"\n",
    "    ]\n",
    "\n",
    "    classes = [\"1ère 1\", \"1ère 2\", \"1ère 3\"]\n",
    "\n",
    "    from random import choice\n",
    "    def élève_aléatoire():\n",
    "        return choice(prénoms), choice(noms), choice(classes)\n",
    "\n",
    "    liste_élèves = [élève_aléatoire() for _ in range(taille)]\n",
    "    return liste_élèves"
   ]
  },
  {
   "cell_type": "code",
   "execution_count": 19,
   "metadata": {},
   "outputs": [],
   "source": [
    "liste_élèves = crée_liste_élèves(20)"
   ]
  },
  {
   "cell_type": "code",
   "execution_count": 20,
   "metadata": {},
   "outputs": [
    {
     "data": {
      "text/plain": [
       "[('Amandine', 'Dubois', '1ère 2'),\n",
       " ('Céline', 'Legoff', '1ère 3'),\n",
       " ('Gabin', 'Dupont', '1ère 3'),\n",
       " ('Gabin', 'Ledouble', '1ère 3'),\n",
       " ('Gaspard', 'Duchemin', '1ère 2'),\n",
       " ('Jules', 'Dupuis', '1ère 2'),\n",
       " ('Jules', 'Fresnet', '1ère 2'),\n",
       " ('Julie', 'Dubois', '1ère 2'),\n",
       " ('Julien', 'Legoff', '1ère 2'),\n",
       " ('Julien', 'Legoff', '1ère 2'),\n",
       " ('Maxens', 'Dubois', '1ère 1'),\n",
       " ('Maxens', 'Valois', '1ère 1'),\n",
       " ('Maxime', 'Dubois', '1ère 1'),\n",
       " ('Perrine', 'Duchemin', '1ère 1'),\n",
       " ('Quentin', 'Dubois', '1ère 1'),\n",
       " ('Quentin', 'Ledouble', '1ère 3'),\n",
       " ('Séraphine', 'Galois', '1ère 3'),\n",
       " ('Théo', 'Legoff', '1ère 3'),\n",
       " ('Valentin', 'Dupuis', '1ère 3'),\n",
       " ('Valentin', 'Galois', '1ère 3')]"
      ]
     },
     "execution_count": 20,
     "metadata": {},
     "output_type": "execute_result"
    }
   ],
   "source": [
    "copie_triée(liste_élèves)"
   ]
  },
  {
   "cell_type": "markdown",
   "metadata": {},
   "source": [
    "Une question primordiale se pose: comment réaliser un tri plus *naturel*, d'abord sur le nom de famille, puis sur le prénom., et enfin sur la classe ?"
   ]
  },
  {
   "cell_type": "markdown",
   "metadata": {},
   "source": [
    "---\n",
    "#### Exercice 2: modification des tuples\n",
    "\n",
    "À partir de la ```liste_élèves``` précédente, créer une nouvelle liste pour laquelle l'ordre des composantes du tuple sera (nom, prénom, classe). Trier cette nouvelle liste."
   ]
  },
  {
   "cell_type": "code",
   "execution_count": 21,
   "metadata": {},
   "outputs": [],
   "source": [
    "# Écrire votre code ici"
   ]
  },
  {
   "cell_type": "markdown",
   "metadata": {},
   "source": [
    "---\n",
    "#### Exercice 4: \n",
    "\n",
    "L'exercice précédent donne bien le bon résultat, mais a un gros défaut: la liste triée n'est pas constituée des tuples originaux, mais de tuples modifiés.\n",
    "\n",
    "Il serait préférable d'utiliser les tuples modifiés pour trier la liste, mais de reconstruire les tuples dans le bon ordre pour donner le résultat.\n",
    "\n",
    "Réalisez cela pour ce nouvel exercice !"
   ]
  },
  {
   "cell_type": "code",
   "execution_count": 22,
   "metadata": {},
   "outputs": [],
   "source": [
    "# Écrire votre code ici"
   ]
  },
  {
   "cell_type": "markdown",
   "metadata": {},
   "source": [
    "Cet exercice ressemble à s'y méprendre à ce que nous avions fait avec les listes de nombres en passant par les nombres opposés: le principe est absolument identique:\n",
    "* On modifie le tuple afin que l'ordre lexicographique corresponde à ce que l'on souhaite obtenir\n",
    "* On effectue le tri\n",
    "* On reconstruit les tuples initiaux.   "
   ]
  },
  {
   "cell_type": "markdown",
   "metadata": {},
   "source": [
    "Cependant, il y a moyen de s'épargner ce double travail de modification de données, très coûteux et source potentielle de bugs: voir l'exercice suivant"
   ]
  },
  {
   "cell_type": "markdown",
   "metadata": {},
   "source": [
    "---\n",
    "#### Exercice 5 : Tri sans modifier les données initiales\n",
    "\n",
    "Comment faire pour trier la liste dans l'ordre (nom, prénom, classe) sans pour autant modifier les données ?\n",
    "\n",
    "Une idée très simple: on modifie légèrement l'algorithme de tri. Pour l'unique ligne de code pour laquelle une comparaison est effectuée, on utilise les tuples modifiés plutôt que les tuples initiaux.\n",
    "\n",
    "Cela change tout:\n",
    "* On n'est pas obligé de modifier la liste initiale\n",
    "* On crée simplement des tuples modifiés pour la comparaison\n",
    "* Ce sont les valeurs initiales qui sont échangées, pas les valeurs modifiées: il n'y a donc pas besoin de reconstruire les données à la fin."
   ]
  },
  {
   "cell_type": "markdown",
   "metadata": {},
   "source": [
    "Modifier la fonction suivante, afin qu'elle compare les tuples modifiés plutôt que les tuples initiaux. Bien évidemment, cette fonction ne fonctionnera que pour les listes d'élèves, pas dans le cas général (ce qui est un problème, mais nous le résoudrons à l'exercice suivant).\n",
    "\n",
    "Pour cela, écrire (puis utiliser) la fonction ```tuple_modifié(élève)```, qui renvoie le tuple au format (nom, prénom, classe) à partir du tuple (prénom, nom, classe)."
   ]
  },
  {
   "cell_type": "code",
   "execution_count": 23,
   "metadata": {},
   "outputs": [],
   "source": [
    "def tuple_modifié(élève):\n",
    "    pass"
   ]
  },
  {
   "cell_type": "code",
   "execution_count": 24,
   "metadata": {},
   "outputs": [],
   "source": [
    "def tri_liste_élèves(t, croissant=True):\n",
    "    \"\"\"Trie le tableau t de tuples sous la forme (prénom, nom, classe).\n",
    "    \n",
    "    L'ordre du tri doit se faire suivant les tuples modifiés (nom, prénom, classe).\n",
    "    \n",
    "    Le paramètre optionnel croissant est un booléen indiquant s'il faut trier dans l'ordre\n",
    "    croissant ou non. Par défaut (si le paramètre n'est pas inclus), le tri se fera dans\n",
    "    l'ordre croissant.\n",
    "    \"\"\"\n",
    "    \n",
    "    # Modifier le code ci-dessous\n",
    "    \n",
    "    for i in range(len(t)):\n",
    "        m = t[i]\n",
    "        indice_m = i\n",
    "        for j in range(i + 1, len(t)):\n",
    "            # Selon la valeur de croissant, il faut tester une inégalité ou l'autre: selon le cas,\n",
    "            # on recherchera donc le minimum (si croissant est True) ou le maximum sur\n",
    "            # la partie non triée\n",
    "            if (croissant is True and t[j] < m) or (croissant is False and t[j] > m):\n",
    "                m = t[j]\n",
    "                indice_m = j\n",
    "        t[i], t[indice_m] = t[indice_m], t[i]"
   ]
  },
  {
   "cell_type": "markdown",
   "metadata": {},
   "source": [
    "Testez le résultat sur une liste d'élèves:"
   ]
  },
  {
   "cell_type": "code",
   "execution_count": 25,
   "metadata": {},
   "outputs": [
    {
     "name": "stdout",
     "output_type": "stream",
     "text": [
      "Liste initiale:\n",
      "\n"
     ]
    },
    {
     "data": {
      "text/plain": [
       "[('Valentin', 'Duchemin', '1ère 1'),\n",
       " ('Amandine', 'Ledouble', '1ère 2'),\n",
       " ('Gaspard', 'Legoff', '1ère 2'),\n",
       " ('Théo', 'Dupuis', '1ère 1'),\n",
       " ('Julien', 'Dupont', '1ère 1'),\n",
       " ('Maxens', 'Dupont', '1ère 2'),\n",
       " ('Julien', 'Legoff', '1ère 3'),\n",
       " ('Julien', 'Legoff', '1ère 1'),\n",
       " ('Sophie', 'Fresnet', '1ère 2'),\n",
       " ('Maxens', 'Ledouble', '1ère 2'),\n",
       " ('Sophie', 'Duchemin', '1ère 2'),\n",
       " ('Théo', 'Dupuis', '1ère 2'),\n",
       " ('Maxens', 'Dubois', '1ère 1'),\n",
       " ('Amandine', 'Fresnet', '1ère 2'),\n",
       " ('Perrine', 'Legrand', '1ère 2'),\n",
       " ('Zoé', 'Legrand', '1ère 2'),\n",
       " ('Célia', 'Fresnet', '1ère 1'),\n",
       " ('Gabin', 'Dupuis', '1ère 3'),\n",
       " ('Julia', 'Duchemin', '1ère 3'),\n",
       " ('Quentin', 'Dubois', '1ère 1')]"
      ]
     },
     "execution_count": 25,
     "metadata": {},
     "output_type": "execute_result"
    }
   ],
   "source": [
    "liste_élèves = crée_liste_élèves(20)\n",
    "print(\"Liste initiale:\\n\")\n",
    "liste_élèves"
   ]
  },
  {
   "cell_type": "code",
   "execution_count": 26,
   "metadata": {},
   "outputs": [
    {
     "name": "stdout",
     "output_type": "stream",
     "text": [
      "\n",
      "\n",
      "Liste triée:\n",
      "\n"
     ]
    },
    {
     "data": {
      "text/plain": [
       "[('Amandine', 'Fresnet', '1ère 2'),\n",
       " ('Amandine', 'Ledouble', '1ère 2'),\n",
       " ('Célia', 'Fresnet', '1ère 1'),\n",
       " ('Gabin', 'Dupuis', '1ère 3'),\n",
       " ('Gaspard', 'Legoff', '1ère 2'),\n",
       " ('Julia', 'Duchemin', '1ère 3'),\n",
       " ('Julien', 'Dupont', '1ère 1'),\n",
       " ('Julien', 'Legoff', '1ère 1'),\n",
       " ('Julien', 'Legoff', '1ère 3'),\n",
       " ('Maxens', 'Dubois', '1ère 1'),\n",
       " ('Maxens', 'Dupont', '1ère 2'),\n",
       " ('Maxens', 'Ledouble', '1ère 2'),\n",
       " ('Perrine', 'Legrand', '1ère 2'),\n",
       " ('Quentin', 'Dubois', '1ère 1'),\n",
       " ('Sophie', 'Duchemin', '1ère 2'),\n",
       " ('Sophie', 'Fresnet', '1ère 2'),\n",
       " ('Théo', 'Dupuis', '1ère 1'),\n",
       " ('Théo', 'Dupuis', '1ère 2'),\n",
       " ('Valentin', 'Duchemin', '1ère 1'),\n",
       " ('Zoé', 'Legrand', '1ère 2')]"
      ]
     },
     "execution_count": 26,
     "metadata": {},
     "output_type": "execute_result"
    }
   ],
   "source": [
    "# On est obligé de modifier la liste en place, parce que la fonction copie_triée() n'utilise pas\n",
    "# la fonction trie_liste_élèves mais la fonction tri_sélection\n",
    "tri_liste_élèves(liste_élèves)\n",
    "print(\"\\n\\nListe triée:\\n\")\n",
    "liste_élèves"
   ]
  },
  {
   "cell_type": "markdown",
   "metadata": {},
   "source": [
    "---\n",
    "#### Exercice 6 (guidé): un algorithme de tri générique permettant des tris sur des données modifiées."
   ]
  },
  {
   "cell_type": "markdown",
   "metadata": {},
   "source": [
    "On va généraliser la méthode précédente, en écrivant une fois pour toute un algorithme de tri permettant d'effectuer un tri sur des données modifiées.\n",
    "\n",
    "Pour cela, il suffit d'ajouter un nouveau paramètre optionnel qui serait la fonction de modification de tuple elle-même (```tuple_modifié()``` pour l'exercice précédent). Si une telle fonction est incluse, on l'utilise. Sinon, on procède à la comparaison par l'ordre lexicographique par défaut. "
   ]
  },
  {
   "cell_type": "markdown",
   "metadata": {},
   "source": [
    "Voici la fonction initiale. Modifions là pour qu'elle réponde au nouveau cahier des charges."
   ]
  },
  {
   "cell_type": "code",
   "execution_count": 27,
   "metadata": {},
   "outputs": [],
   "source": [
    "def tri_sélection(t, croissant=True):\n",
    "    \"\"\"Trie le tableau t.\n",
    "    \n",
    "    Le paramètre optionnel croissant est un booléen indiquant s'il faut trier dans l'ordre\n",
    "    croissant ou non. Par défaut (si le paramètre n'est pas inclus), le tri se fera dans\n",
    "    l'ordre croissant.\n",
    "    \"\"\"\n",
    "    \n",
    "    for i in range(len(t)):\n",
    "        m = t[i]\n",
    "        indice_m = i\n",
    "        for j in range(i + 1, len(t)):\n",
    "            # Selon la valeur de croissant, il faut tester une inégalité ou l'autre: selon le cas,\n",
    "            # on recherchera donc le minimum (si croissant est True) ou le maximum sur\n",
    "            # la partie non triée\n",
    "            if (croissant is True and t[j] < m) or (croissant is False and t[j] > m):\n",
    "                m = t[j]\n",
    "                indice_m = j\n",
    "        t[i], t[indice_m] = t[indice_m], t[i]"
   ]
  },
  {
   "cell_type": "markdown",
   "metadata": {},
   "source": [
    "Il est aussi nécessaire de modifier la fonction copie_triée, parce qu'il y a un nouveau paramètre par défaut à include:"
   ]
  },
  {
   "cell_type": "code",
   "execution_count": 28,
   "metadata": {},
   "outputs": [],
   "source": [
    "def copie_triée(t, croissant=True):\n",
    "    \"\"\"Copie le tableau t, puis le trie par ordre croissant ou décroissant, selon\n",
    "    la valeur du booléen 'croissant' passé en paramètre.\n",
    "    \"\"\"\n",
    "    \n",
    "    # On commence par créer une copie du tableau:\n",
    "    n = len(t)\n",
    "    copie = [0] * n\n",
    "    \n",
    "    for i in range(n):\n",
    "        copie[i] = t[i]\n",
    "        \n",
    "    # puis on la trie (le tableau 'copie' sera modifié en place)\n",
    "    tri_sélection(copie, croissant)\n",
    "    \n",
    "    # Enfin, on renvoie la copie\n",
    "    return copie"
   ]
  },
  {
   "cell_type": "markdown",
   "metadata": {},
   "source": [
    "## Application 4 : Tri sur des dictionnaires"
   ]
  },
  {
   "cell_type": "code",
   "execution_count": 29,
   "metadata": {},
   "outputs": [],
   "source": [
    "t2 = [\n",
    "    {\"prénom\": \"Pascal\", \"nom\": \"Blaise\", \"naissance\": 1623},\n",
    "    {\"prénom\": \"Emmanuel\", \"nom\": \"Kant\", \"naissance\": 1724},\n",
    "    {\"prénom\": \"Friedrich\", \"nom\": \"Nietzsche\", \"naissance\": 1844},\n",
    "    {\"prénom\": \"René\", \"nom\": \"Descartes\", \"naissance\": 1596},\n",
    "]"
   ]
  },
  {
   "cell_type": "markdown",
   "metadata": {},
   "source": [
    "### Ordre lexicographique et dictionnaires"
   ]
  },
  {
   "cell_type": "markdown",
   "metadata": {},
   "source": [
    "Un problème de taille est que les dictionnaires *ne sont pas comparables*:"
   ]
  },
  {
   "cell_type": "code",
   "execution_count": 30,
   "metadata": {
    "tags": [
     "raises-exception"
    ]
   },
   "outputs": [
    {
     "ename": "TypeError",
     "evalue": "'<' not supported between instances of 'dict' and 'dict'",
     "output_type": "error",
     "traceback": [
      "\u001b[0;31m---------------------------------------------------------------------------\u001b[0m",
      "\u001b[0;31mTypeError\u001b[0m                                 Traceback (most recent call last)",
      "\u001b[0;32m<ipython-input-30-8e7f45e63864>\u001b[0m in \u001b[0;36m<module>\u001b[0;34m\u001b[0m\n\u001b[0;32m----> 1\u001b[0;31m \u001b[0mt2\u001b[0m\u001b[0;34m[\u001b[0m\u001b[0;36m0\u001b[0m\u001b[0;34m]\u001b[0m \u001b[0;34m<\u001b[0m \u001b[0mt2\u001b[0m\u001b[0;34m[\u001b[0m\u001b[0;36m1\u001b[0m\u001b[0;34m]\u001b[0m\u001b[0;34m\u001b[0m\u001b[0;34m\u001b[0m\u001b[0m\n\u001b[0m",
      "\u001b[0;31mTypeError\u001b[0m: '<' not supported between instances of 'dict' and 'dict'"
     ]
    }
   ],
   "source": [
    "t2[0] < t2[1]"
   ]
  },
  {
   "cell_type": "markdown",
   "metadata": {},
   "source": [
    "python est très explicite: l'opérateur plus petit n'est pas défini sur des dictionnaires. Et en y réfléchissant, comme pourrait-on comparer deux dictionnaires: même en supposant que les clés soient identiques d'un dictionnaire à l'autre, n'oublions pas qu'un dictionnaire ne conserve pas d'ordre entre ces clés: il est par conséquent impossible de parler d'ordre lexicographique, puisque le notion même de première clé, deuxième clé, etc..., n'a pas de sens."
   ]
  },
  {
   "cell_type": "markdown",
   "metadata": {},
   "source": [
    "Comment alors peut-on trier une liste de dictionnaires ?"
   ]
  },
  {
   "cell_type": "markdown",
   "metadata": {},
   "source": [
    "**Méthode:** L'idée est simple et élégante: on utilise notre fonction de tri améliorée, en créant des valeurs comparables à partir de chaque dictionnaire. Ici, il suffit de crée un tuple (nom, prénom, classe) à partir d'un dictionnaire, pour pouvoir trier le tableau."
   ]
  },
  {
   "cell_type": "markdown",
   "metadata": {},
   "source": [
    "Compléter la fonction suivante afin de réaliser cela. N'oubliez pas de tester le résultat obtenu dans la cellule suivante:"
   ]
  },
  {
   "cell_type": "code",
   "execution_count": 31,
   "metadata": {},
   "outputs": [],
   "source": [
    "def dictionnaire_vers_tuple(d):\n",
    "    pass"
   ]
  },
  {
   "cell_type": "code",
   "execution_count": 32,
   "metadata": {
    "tags": [
     "raises-exception"
    ]
   },
   "outputs": [
    {
     "ename": "TypeError",
     "evalue": "copie_triée() got an unexpected keyword argument 'clé_de_tri'",
     "output_type": "error",
     "traceback": [
      "\u001b[0;31m---------------------------------------------------------------------------\u001b[0m",
      "\u001b[0;31mTypeError\u001b[0m                                 Traceback (most recent call last)",
      "\u001b[0;32m<ipython-input-32-282d94ab3c73>\u001b[0m in \u001b[0;36m<module>\u001b[0;34m\u001b[0m\n\u001b[0;32m----> 1\u001b[0;31m \u001b[0mcopie_triée\u001b[0m\u001b[0;34m(\u001b[0m\u001b[0mt2\u001b[0m\u001b[0;34m,\u001b[0m \u001b[0mclé_de_tri\u001b[0m\u001b[0;34m=\u001b[0m\u001b[0mdictionnaire_vers_tuple\u001b[0m\u001b[0;34m)\u001b[0m\u001b[0;34m\u001b[0m\u001b[0;34m\u001b[0m\u001b[0m\n\u001b[0m",
      "\u001b[0;31mTypeError\u001b[0m: copie_triée() got an unexpected keyword argument 'clé_de_tri'"
     ]
    }
   ],
   "source": [
    "copie_triée(t2, clé_de_tri=dictionnaire_vers_tuple)"
   ]
  },
  {
   "cell_type": "markdown",
   "metadata": {},
   "source": [
    "## Application 5 : Tri sur des données volumineuses (big data)"
   ]
  },
  {
   "cell_type": "markdown",
   "metadata": {},
   "source": [
    "On va exploiter tout ce qui a été vu aujourd'hui sur un ensemble de données réelles.\n",
    "\n",
    "Sur le site https://data.gouv.fr, offrant un accès libre à de nombreuses données réelles, on a chargé des données sur les véhicules produits en 2014 (à l'url https://www.data.gouv.fr/fr/datasets/emissions-de-co2-et-de-polluants-des-vehicules-commercialises-en-france/). \n",
    "\n",
    "Ces données sont fournies sous la forme d'un fichier **csv** (https://fr.wikipedia.org/wiki/Comma-separated_values).\n",
    "\n",
    "Python dispose d'une librairie de lecture de fichiers csv, mais nous n'entrerons pas dans les détails aujourd'hui. Le fichier ```data.py``` contient tout ce qui est nécessaire au chargement et au pré-traitement de ce fichier."
   ]
  },
  {
   "cell_type": "code",
   "execution_count": 33,
   "metadata": {},
   "outputs": [],
   "source": [
    "from data import lecture_fichier"
   ]
  },
  {
   "cell_type": "code",
   "execution_count": 34,
   "metadata": {},
   "outputs": [],
   "source": [
    "voitures = lecture_fichier()"
   ]
  },
  {
   "cell_type": "code",
   "execution_count": 35,
   "metadata": {},
   "outputs": [
    {
     "data": {
      "text/plain": [
       "5525"
      ]
     },
     "execution_count": 35,
     "metadata": {},
     "output_type": "execute_result"
    }
   ],
   "source": [
    "len(voitures)"
   ]
  },
  {
   "cell_type": "markdown",
   "metadata": {},
   "source": [
    "On dispose d'une liste de 5525 véhicules. Chaque véhicule est un dictionnaire dont le format est immuable:"
   ]
  },
  {
   "cell_type": "code",
   "execution_count": 36,
   "metadata": {},
   "outputs": [
    {
     "data": {
      "text/plain": [
       "{'marque': 'Ford',\n",
       " 'modèle': 'Transit Kombi 280C 2200 Tdci S&S (125Ch)',\n",
       " 'puissance': 92,\n",
       " 'consommation moyenne': 7.199999809,\n",
       " 'co2': 189,\n",
       " 'nox': 0.25}"
      ]
     },
     "execution_count": 36,
     "metadata": {},
     "output_type": "execute_result"
    }
   ],
   "source": [
    "voitures[0]"
   ]
  },
  {
   "cell_type": "markdown",
   "metadata": {},
   "source": [
    "---\n",
    "#### Exercice 7: des tris complexes sur cette base de données de véhicules."
   ]
  },
  {
   "cell_type": "markdown",
   "metadata": {},
   "source": [
    "1. Trier l'ensemble de ces véhicules d'abord par rapport aux taux d'émission de $\\text{CO}_2$ (par ordre décroissant), puis par rapport à la marque et enfin au modèle (ordre  lexicographique croissant);\n",
    "\n",
    "  **Indication:** Une difficulté supplémentaire ici: une partie du tri se fait dans l'ordre décroissant, l'autre dans l'ordre croissant. On peut utiliser l'astuce qui consiste à utiliser les opposés des nombres (sur les émissions de dioxyde de carbone) pour s'en sortir ici.\n",
    "2. Afficher les 5 véhicules les plus polluants uniquement, **mais en n'affichant qu'un seul véhicule par marque**;\n",
    "3. À la suite de l'affichage précédent, et en vous inspirant de ce qui a déjà été fait, afficher les 5 véhicules les plus économes en terme de consommation moyenne (toujours un seul véhicule autorisé par marque).\n",
    "\n",
    "  **Indication:** Il sera certainement nécessaire d'effectuer un nouveau tri."
   ]
  },
  {
   "cell_type": "code",
   "execution_count": 37,
   "metadata": {},
   "outputs": [],
   "source": [
    "# Écrire votre code ici"
   ]
  }
 ],
 "metadata": {
  "kernelspec": {
   "display_name": "Python 3",
   "language": "python",
   "name": "python3"
  },
  "language_info": {
   "codemirror_mode": {
    "name": "ipython",
    "version": 3
   },
   "file_extension": ".py",
   "mimetype": "text/x-python",
   "name": "python",
   "nbconvert_exporter": "python",
   "pygments_lexer": "ipython3",
   "version": "3.7.4"
  }
 },
 "nbformat": 4,
 "nbformat_minor": 4
}

{
 "cells": [
  {
   "cell_type": "markdown",
   "metadata": {},
   "source": [
    "# TP n° 8 - Algorithmes de tri: applications"
   ]
  },
  {
   "cell_type": "markdown",
   "metadata": {},
   "source": [
    "## Tri par sélection: algorithme de base"
   ]
  },
  {
   "cell_type": "markdown",
   "metadata": {},
   "source": [
    "Voici l'algorithme du tri par sélection étudié en classe."
   ]
  },
  {
   "cell_type": "code",
   "execution_count": 1,
   "metadata": {},
   "outputs": [],
   "source": [
    "def tri_sélection(t):\n",
    "    for i in range(len(t)):\n",
    "        mini = t[i]\n",
    "        indice_mini = i\n",
    "        for j in range(i + 1, len(t)):\n",
    "            if t[j] < mini:\n",
    "                mini = t[j]\n",
    "                indice_mini = j\n",
    "        t[i], t[indice_mini] = t[indice_mini], t[i]"
   ]
  },
  {
   "cell_type": "markdown",
   "metadata": {},
   "source": [
    "On teste cet algorithme sur une liste de nombres aléatoires:"
   ]
  },
  {
   "cell_type": "code",
   "execution_count": 2,
   "metadata": {},
   "outputs": [
    {
     "name": "stdout",
     "output_type": "stream",
     "text": [
      "Liste non triée [1, 18, 4, 6, 7, 3, 17, 17, 14, 15, 18, 17, 1, 19, 13, 2, 17, 15, 14, 17]\n",
      "Liste triée [1, 1, 2, 3, 4, 6, 7, 13, 14, 14, 15, 15, 17, 17, 17, 17, 17, 18, 18, 19]\n"
     ]
    }
   ],
   "source": [
    "from random import randint\n",
    "N = 20\n",
    "# On tire une liste de N nombres compris entre 0 et N.\n",
    "t = [randint(0, N) for _ in range(N)]\n",
    "\n",
    "print(\"Liste non triée\", t)\n",
    "\n",
    "tri_sélection(t)\n",
    "print(\"Liste triée\", t)"
   ]
  },
  {
   "cell_type": "markdown",
   "metadata": {},
   "source": [
    "## Application 1 : ordre croissant / décroissant"
   ]
  },
  {
   "cell_type": "markdown",
   "metadata": {},
   "source": [
    "On aimerait trier la liste par ordre décroissant plutôt que croissant. Il y a plusieurs façons de réaliser cela:"
   ]
  },
  {
   "cell_type": "markdown",
   "metadata": {},
   "source": [
    "### Méthode 1: renversement de la liste triée\n",
    "\n",
    "Une première méthode consiste à trier dans l'ordre croissant, puis à inverser le tableau trié:"
   ]
  },
  {
   "cell_type": "code",
   "execution_count": 3,
   "metadata": {},
   "outputs": [],
   "source": [
    "def tri_sélection_décroissant_1(t):\n",
    "    # Tri selon l'ordre croissant\n",
    "    tri_sélection(t)\n",
    "    \n",
    "    # On renverse la liste. On pourrait utiliser t.reverse(), mais on va le faire à la main ici,\n",
    "    # puisque l'on a déjà étudié cet algorithme en classe.\n",
    "    \n",
    "    i = 0\n",
    "    j = len(t) - 1\n",
    "    # Tant que i est avant j on échange les éléments correspondants:\n",
    "    while i < j:\n",
    "        t[i], t[j] = t[j], t[i]\n",
    "        i = i + 1\n",
    "        j = j - 1"
   ]
  },
  {
   "cell_type": "markdown",
   "metadata": {},
   "source": [
    "Testons cette fonction:"
   ]
  },
  {
   "cell_type": "code",
   "execution_count": 4,
   "metadata": {},
   "outputs": [
    {
     "name": "stdout",
     "output_type": "stream",
     "text": [
      "Liste non triée [0, 12, 10, 11, 13, 7, 5, 20, 10, 10, 19, 8, 6, 4, 14, 8, 2, 3, 7, 3]\n",
      "Liste triée [20, 19, 14, 13, 12, 11, 10, 10, 10, 8, 8, 7, 7, 6, 5, 4, 3, 3, 2, 0]\n"
     ]
    }
   ],
   "source": [
    "from random import randint\n",
    "N = 20\n",
    "# On tire une liste de N nombres compris entre 0 et N.\n",
    "t = [randint(0, N) for _ in range(N)]\n",
    "\n",
    "print(\"Liste non triée\", t)\n",
    "\n",
    "tri_sélection_décroissant_1(t)\n",
    "print(\"Liste triée\", t)"
   ]
  },
  {
   "cell_type": "markdown",
   "metadata": {},
   "source": [
    "### Méthode 2: on change l'algorithme de tri\n",
    "\n",
    "Il suffit pour cela de chercher le maximum plutôt que le minimum dans la partie non triée du tableau (entre l'indice i et la fin du tableau):"
   ]
  },
  {
   "cell_type": "code",
   "execution_count": 5,
   "metadata": {},
   "outputs": [],
   "source": [
    "def tri_sélection_décroissant_2(t):\n",
    "    for i in range(len(t)):\n",
    "        maxi = t[i]\n",
    "        indice_maxi = i\n",
    "        for j in range(i + 1, len(t)):\n",
    "            # Seul le < est changé en >: c'est la seule modification entre les deux algorithmes.\n",
    "            if t[j] > maxi:\n",
    "                maxi = t[j]\n",
    "                indice_maxi = j\n",
    "        t[i], t[indice_maxi] = t[indice_maxi], t[i]"
   ]
  },
  {
   "cell_type": "markdown",
   "metadata": {},
   "source": [
    "Et le test:"
   ]
  },
  {
   "cell_type": "code",
   "execution_count": 6,
   "metadata": {},
   "outputs": [
    {
     "name": "stdout",
     "output_type": "stream",
     "text": [
      "Liste non triée [4, 3, 15, 7, 16, 1, 13, 12, 10, 18, 7, 15, 5, 6, 8, 18, 17, 1, 14, 3]\n",
      "Liste triée [18, 18, 17, 16, 15, 15, 14, 13, 12, 10, 8, 7, 7, 6, 5, 4, 3, 3, 1, 1]\n"
     ]
    }
   ],
   "source": [
    "from random import randint\n",
    "N = 20\n",
    "# On tire une liste de N nombres compris entre 0 et N.\n",
    "t = [randint(0, N) for _ in range(N)]\n",
    "\n",
    "print(\"Liste non triée\", t)\n",
    "\n",
    "tri_sélection_décroissant_2(t)\n",
    "print(\"Liste triée\", t)"
   ]
  },
  {
   "cell_type": "markdown",
   "metadata": {},
   "source": [
    "### Méthode 3: écriture d'une fonction pouvant trier dans les deux sens\n",
    "\n",
    "La meilleure méthode (et de loin !) consiste à ajouter un paramètre optionnel à la fonction de tri afin d'offrir la possibilité de trier dans un sens ou dans l'autre. À partir de maintenant, c'est la fonction de tri que l'on utilisera:"
   ]
  },
  {
   "cell_type": "code",
   "execution_count": 7,
   "metadata": {},
   "outputs": [],
   "source": [
    "def tri_sélection(t, croissant=True):\n",
    "    \"\"\"Trie le tableau t.\n",
    "    \n",
    "    Le paramètre optionnel croissant est un booléen indiquant s'il faut trier dans l'ordre\n",
    "    croissant ou non. Par défaut (si le paramètre n'est pas inclus), le tri se fera dans\n",
    "    l'ordre croissant.\n",
    "    \"\"\"\n",
    "    \n",
    "    for i in range(len(t)):\n",
    "        m = t[i]\n",
    "        indice_m = i\n",
    "        for j in range(i + 1, len(t)):\n",
    "            # Selon la valeur de croissant, il faut tester une inégalité ou l'autre: selon le cas,\n",
    "            # on recherchera donc le minimum (si croissant est True) ou le maximum sur\n",
    "            # la partie non triée\n",
    "            if (croissant is True and t[j] < m) or (croissant is False and t[j] > m):\n",
    "                m = t[j]\n",
    "                indice_m = j\n",
    "        t[i], t[indice_m] = t[indice_m], t[i]"
   ]
  },
  {
   "cell_type": "markdown",
   "metadata": {},
   "source": [
    "Et un triple test:"
   ]
  },
  {
   "cell_type": "code",
   "execution_count": 8,
   "metadata": {},
   "outputs": [
    {
     "name": "stdout",
     "output_type": "stream",
     "text": [
      "Liste non triée [9, 2, 18, 10, 19, 10, 14, 20, 17, 5, 14, 1, 5, 14, 1, 1, 13, 0, 5, 10]\n",
      "Liste triée [0, 1, 1, 1, 2, 5, 5, 5, 9, 10, 10, 10, 13, 14, 14, 14, 17, 18, 19, 20]\n"
     ]
    }
   ],
   "source": [
    "from random import randint\n",
    "N = 20\n",
    "# On tire une liste de N nombres compris entre 0 et N.\n",
    "t = [randint(0, N) for _ in range(N)]\n",
    "\n",
    "print(\"Liste non triée\", t)\n",
    "\n",
    "# Pas de paramètre optionnel: l'ordre doit être croissant par défaut.\n",
    "tri_sélection(t)\n",
    "print(\"Liste triée\", t)"
   ]
  },
  {
   "cell_type": "code",
   "execution_count": 9,
   "metadata": {},
   "outputs": [
    {
     "name": "stdout",
     "output_type": "stream",
     "text": [
      "Liste non triée [11, 12, 7, 16, 16, 18, 16, 1, 5, 3, 5, 9, 9, 1, 13, 6, 19, 12, 6, 16]\n",
      "Liste triée [1, 1, 3, 5, 5, 6, 6, 7, 9, 9, 11, 12, 12, 13, 16, 16, 16, 16, 18, 19]\n"
     ]
    }
   ],
   "source": [
    "from random import randint\n",
    "N = 20\n",
    "# On tire une liste de N nombres compris entre 0 et N.\n",
    "t = [randint(0, N) for _ in range(N)]\n",
    "\n",
    "print(\"Liste non triée\", t)\n",
    "\n",
    "# On peut explicitement demander un ordre croissant (plus lisible):\n",
    "tri_sélection(t, croissant=True)\n",
    "print(\"Liste triée\", t)"
   ]
  },
  {
   "cell_type": "code",
   "execution_count": 10,
   "metadata": {},
   "outputs": [
    {
     "name": "stdout",
     "output_type": "stream",
     "text": [
      "Liste non triée [13, 4, 3, 18, 19, 4, 3, 12, 4, 5, 7, 9, 0, 15, 5, 13, 7, 7, 10, 10]\n",
      "Liste triée [19, 18, 15, 13, 13, 12, 10, 10, 9, 7, 7, 7, 5, 5, 4, 4, 4, 3, 3, 0]\n"
     ]
    }
   ],
   "source": [
    "from random import randint\n",
    "N = 20\n",
    "# On tire une liste de N nombres compris entre 0 et N.\n",
    "t = [randint(0, N) for _ in range(N)]\n",
    "\n",
    "print(\"Liste non triée\", t)\n",
    "\n",
    "# On veut un tri dans l'ordre décroissant:\n",
    "tri_sélection(t, croissant=False)\n",
    "print(\"Liste triée\", t)"
   ]
  },
  {
   "cell_type": "markdown",
   "metadata": {},
   "source": [
    "### Méthode 4: modification de la liste avant le tri pour inverser l'ordre\n",
    "\n",
    "La technique proposée ici est très astucieuse, elle utilise le fait que les nombres négatifs sont triés dans l'ordre inverse: $$a > b \\Longleftrightarrow -a < -b$$\n",
    "\n",
    "L'astuce consiste alors à changer le signe de tous les nombres, trier le tableau dans l'ordre croissant, puis rechanger les signes. Cela ne nécessite aucune modification de la fonction de tri:"
   ]
  },
  {
   "cell_type": "code",
   "execution_count": 11,
   "metadata": {},
   "outputs": [
    {
     "name": "stdout",
     "output_type": "stream",
     "text": [
      "Liste non triée [6, 9, 13, 15, 17, 14, 15, 15, 1, 13, 9, 2, 15, 15, 2, 1, 15, 8, 12, 3]\n",
      "Avant tri: [-6, -9, -13, -15, -17, -14, -15, -15, -1, -13, -9, -2, -15, -15, -2, -1, -15, -8, -12, -3]\n",
      "Après tri [-17, -15, -15, -15, -15, -15, -15, -14, -13, -13, -12, -9, -9, -8, -6, -3, -2, -2, -1, -1]\n",
      "Liste triée dans l'ordre décroissant [17, 15, 15, 15, 15, 15, 15, 14, 13, 13, 12, 9, 9, 8, 6, 3, 2, 2, 1, 1]\n"
     ]
    }
   ],
   "source": [
    "from random import randint\n",
    "N = 20\n",
    "# On tire une liste de N nombres compris entre 0 et N.\n",
    "t = [randint(0, N) for _ in range(N)]\n",
    "\n",
    "print(\"Liste non triée\", t)\n",
    "\n",
    "# On change les signes:\n",
    "t = [-n for n in t]\n",
    "print(\"Avant tri:\", t)\n",
    "tri_sélection(t)\n",
    "print(\"Après tri\", t)\n",
    "\n",
    "# On rechange les signes\n",
    "t = [-n for n in t]\n",
    "print(\"Liste triée dans l'ordre décroissant\", t)"
   ]
  },
  {
   "cell_type": "markdown",
   "metadata": {},
   "source": [
    "**Remarque très importante:** Cette technique sera très utile pour trier sur des données plus complexes, comme des tuples ou des dictionnaires."
   ]
  },
  {
   "cell_type": "markdown",
   "metadata": {},
   "source": [
    "## Application 2 : Tri sur une copie d'un tableau\n",
    "\n",
    "Il n'est pas toujours pratique que le tableau que l'on souhaite trier soit modifié en place: dans de nombreuses situations, on souhaite obtenir une *copie triée* du tableau, sans que le tableau initial ne soit modifié.\n",
    "\n",
    "On peut réutiliser la fonction de tri existante, à condition de copier le tableau au préalable:"
   ]
  },
  {
   "cell_type": "code",
   "execution_count": 12,
   "metadata": {},
   "outputs": [],
   "source": [
    "def copie_triée(t, croissant=True):\n",
    "    \"\"\"Copie le tableau t, puis le trie par ordre croissant ou décroissant, selon\n",
    "    la valeur du booléen 'croissant' passé en paramètre.\n",
    "    \"\"\"\n",
    "    \n",
    "    # On commence par créer une copie du tableau:\n",
    "    n = len(t)\n",
    "    copie = [0] * n\n",
    "    \n",
    "    for i in range(n):\n",
    "        copie[i] = t[i]\n",
    "        \n",
    "    # puis on la trie (le tableau 'copie' sera modifié en place)\n",
    "    tri_sélection(copie, croissant)\n",
    "    \n",
    "    # Enfin, on renvoie la copie\n",
    "    return copie"
   ]
  },
  {
   "cell_type": "markdown",
   "metadata": {},
   "source": [
    "Testons que le comportement de cette fonction répond bien au cahier des charges:"
   ]
  },
  {
   "cell_type": "code",
   "execution_count": 13,
   "metadata": {},
   "outputs": [
    {
     "name": "stdout",
     "output_type": "stream",
     "text": [
      "Liste initiale: t = [11, 12, 14, 6, 8, 14, 15, 14, 16, 16, 17, 17, 5, 16, 2, 9, 15, 13, 9, 14]\n",
      "Copie triée: copie = [17, 17, 16, 16, 16, 15, 15, 14, 14, 14, 14, 13, 12, 11, 9, 9, 8, 6, 5, 2]\n",
      "Liste initiale: t = [11, 12, 14, 6, 8, 14, 15, 14, 16, 16, 17, 17, 5, 16, 2, 9, 15, 13, 9, 14]\n"
     ]
    }
   ],
   "source": [
    "from random import randint\n",
    "N = 20\n",
    "# On tire une liste de N nombres compris entre 0 et N.\n",
    "t = [randint(0, N) for _ in range(N)]\n",
    "\n",
    "print(\"Liste initiale: t =\", t)\n",
    "copie = copie_triée(t, croissant=False)\n",
    "print(\"Copie triée: copie =\", copie)\n",
    "print(\"Liste initiale: t =\", t)\n"
   ]
  },
  {
   "cell_type": "markdown",
   "metadata": {},
   "source": [
    "## Application 3 : Tri sur des tuples"
   ]
  },
  {
   "cell_type": "markdown",
   "metadata": {},
   "source": [
    "### Ordre lexicographique\n",
    "\n",
    "Pour que l'algorithme de tri proposé en début de TP fonctionne, il suffit que les données soient comparables (c'est-à-dire, qu'il est possible d'utiliser un opérateur de comparaison comme```<``` entre deux telles valeurs). \n",
    "\n",
    "* Les nombres sont évidemment comparables, c'est une propriété mathématique des nombres.\n",
    "* Les chaînes de caractères sont comparables suivant l'ordre du dictionnaire, encore appelé **ordre lexicographique** en mathématiques: on compare les premières lettres. En cas d'égalité, on compare les secondes. En cas d'égalité, on compare les troisièmes, et ainsi de suite. Dès qu'une des comparaison n'est pas une égalité (ou bien si un des mots est plus court que l'autre), on connait l'ordre entre les deux mots. Si toutes les comparaisons ont donné une égalité, les deux mots sont égaux.\n",
    "* En python, les tuples sont automatiquement comparés suivant ce même ordre lexicographie. Plus précisément, si $t_1= (x_1, x_2, \\ldots, x_n)$ et $t_2 = (y_1, y_2, \\ldots, y_m)$ sont deux tuples, l'algorithme de comparaison procède comme suit:\n",
    "\n",
    "  - Si $x_1 < y_1$, alors $t_1 < t_2$;\n",
    "  - Sinon si $x_2 < y_2$, alors $t_1 < t_2$;\n",
    "  - On continue les tests jusqu'à ce qu'un des tuples ne contienne plus de composante (il était plus court au départ). Si on tombe sur une égalité, le tuple le plus court sera considéré comme inférieur à l'autre.\n",
    "  - Si tous les tests ont été égaux, alors $t_1 = t_2$.\n",
    "  \n",
    "  Ce algorithme est un excellent exercice d'application:\n"
   ]
  },
  {
   "cell_type": "markdown",
   "metadata": {},
   "source": [
    "---\n",
    "#### Exercice 1 : ordre lexicographique sur des tuples."
   ]
  },
  {
   "cell_type": "markdown",
   "metadata": {},
   "source": [
    "Écrire une fonction ```compare_tuples(t1, t2)``` Retournant 1 si ```t1 > t2```, -1 si ```t1 < t2``` et 0 en cas d'égalité."
   ]
  },
  {
   "cell_type": "code",
   "execution_count": 14,
   "metadata": {},
   "outputs": [],
   "source": [
    "def compare_tuples(t1, t2):\n",
    "    \"\"\"Écrire la documentation de la fonction ici\"\"\"\n",
    "    \n",
    "    n1 = len(t1)\n",
    "    n2 = len(t2)\n",
    "    \n",
    "    i = 0\n",
    "    while i < n1 and i < n2:\n",
    "        if t1[i] < t2[i]:\n",
    "            return -1\n",
    "        elif t1[i] > t2[i]:\n",
    "            return 1\n",
    "        # Il y a égalité pour l'indice i: on continue la comparaison au rang suivant.\n",
    "        i = i + 1\n",
    "        \n",
    "    # On est sorti de la boucle: tous les tests effectués ont été des égalités. Il reste à examiner le\n",
    "    # cas où les longueurs ne seraient pas les mêmes.\n",
    "    \n",
    "    if n1 < n2:\n",
    "        return -1\n",
    "    elif n1 > n2:\n",
    "        return 1\n",
    "    else:\n",
    "        return 0\n",
    "    \n",
    "    pass"
   ]
  },
  {
   "cell_type": "markdown",
   "metadata": {},
   "source": [
    "Et voici une cellule de tests automatisés:"
   ]
  },
  {
   "cell_type": "code",
   "execution_count": 15,
   "metadata": {},
   "outputs": [
    {
     "name": "stdout",
     "output_type": "stream",
     "text": [
      "Tous les tests ont été passés avec succès !\n"
     ]
    }
   ],
   "source": [
    "from random import randint\n",
    "\n",
    "try:\n",
    "    # Quelques tests sur des longueurs différentes mais des valeurs égales:\n",
    "    for i in range(6):\n",
    "        for j in range(6):\n",
    "            t1 = tuple([1 for _ in range(i)])\n",
    "            t2 = tuple([1 for _ in range(j)])\n",
    "            comp = compare_tuples(t1, t2)\n",
    "            assert comp in [-1, 0, 1]\n",
    "            assert (comp == -1 and t1 < t2) or (comp == 0 and t1 == t2) or (comp == 1 and t1 > t2)\n",
    "            \n",
    "    # puis sur des tuples complètement aléatoires:\n",
    "    for _ in range(100):\n",
    "        t1 = tuple([randint(0, 5) for _ in range(randint(1, 5))])\n",
    "        t2 = tuple([randint(0, 5) for _ in range(randint(1, 5))])\n",
    "        comp = compare_tuples(t1, t2)\n",
    "        assert comp in [-1, 0, 1]\n",
    "        assert (comp == -1 and t1 < t2) or (comp == 0 and t1 == t2) or (comp == 1 and t1 > t2)\n",
    "except Exception as e:\n",
    "    raise e\n",
    "else:\n",
    "    print(\"Tous les tests ont été passés avec succès !\")"
   ]
  },
  {
   "cell_type": "markdown",
   "metadata": {},
   "source": [
    "### Tri par défaut sur des tuples\n",
    "\n",
    "Que se passe-t-il lorsqu'on utilise l'ordre lexicographique par défaut sur des tuples:"
   ]
  },
  {
   "cell_type": "code",
   "execution_count": 16,
   "metadata": {},
   "outputs": [],
   "source": [
    "t1 = [\n",
    "    ('Pascal', 'Blaise', 1623),\n",
    "    ('Emmanuel', 'Kant', 1724),\n",
    "    ('Friedrich', 'Nietzsche', 1844),\n",
    "    ('René', 'Descartes', 1596)\n",
    "]"
   ]
  },
  {
   "cell_type": "code",
   "execution_count": 17,
   "metadata": {},
   "outputs": [
    {
     "data": {
      "text/plain": [
       "[('Emmanuel', 'Kant', 1724),\n",
       " ('Friedrich', 'Nietzsche', 1844),\n",
       " ('Pascal', 'Blaise', 1623),\n",
       " ('René', 'Descartes', 1596)]"
      ]
     },
     "execution_count": 17,
     "metadata": {},
     "output_type": "execute_result"
    }
   ],
   "source": [
    "copie_triée(t1)"
   ]
  },
  {
   "cell_type": "markdown",
   "metadata": {},
   "source": [
    "On constate que l'ordre lexicographique (utilisé par python) trie d'abord suivant le prénom, puis suivant le nom. Cela est d'ailleurs beaucoup plus visible sur une liste avec beaucoup de doublons:"
   ]
  },
  {
   "cell_type": "code",
   "execution_count": 18,
   "metadata": {},
   "outputs": [],
   "source": [
    "def crée_liste_élèves(taille):\n",
    "    prénoms = [\n",
    "        \"Théo\", \"Quentin\", \"Maxime\", \"Jules\", \"Gaspard\", \n",
    "        \"Valentin\", \"Mickaël\", \"Julien\", \"Maxens\", \"Gabin\",\n",
    "        \"Perrine\", \"Zoé\", \"Séraphine\", \"Sophie\", \"Claire\",\n",
    "        \"Amandine\", \"Julia\", \"Julie\", \"Céline\", \"Célia\"\n",
    "    ]\n",
    "\n",
    "    noms = [\n",
    "        \"Legoff\", \"Dupont\", \"Dupuis\", \"Dubois\", \"Legrand\",\n",
    "        \"Ledouble\", \"Duchemin\", \"Valois\", \"Fresnet\", \"Galois\"\n",
    "    ]\n",
    "\n",
    "    classes = [\"1ère 1\", \"1ère 2\", \"1ère 3\"]\n",
    "\n",
    "    from random import choice\n",
    "    def élève_aléatoire():\n",
    "        return choice(prénoms), choice(noms), choice(classes)\n",
    "\n",
    "    liste_élèves = [élève_aléatoire() for _ in range(taille)]\n",
    "    return liste_élèves"
   ]
  },
  {
   "cell_type": "code",
   "execution_count": 19,
   "metadata": {},
   "outputs": [],
   "source": [
    "liste_élèves = crée_liste_élèves(20)"
   ]
  },
  {
   "cell_type": "code",
   "execution_count": 20,
   "metadata": {},
   "outputs": [
    {
     "data": {
      "text/plain": [
       "[('Amandine', 'Dupuis', '1ère 2'),\n",
       " ('Amandine', 'Legoff', '1ère 1'),\n",
       " ('Claire', 'Dupuis', '1ère 1'),\n",
       " ('Célia', 'Legoff', '1ère 3'),\n",
       " ('Céline', 'Dubois', '1ère 2'),\n",
       " ('Gabin', 'Legrand', '1ère 3'),\n",
       " ('Gaspard', 'Valois', '1ère 3'),\n",
       " ('Jules', 'Duchemin', '1ère 3'),\n",
       " ('Jules', 'Fresnet', '1ère 2'),\n",
       " ('Julien', 'Duchemin', '1ère 3'),\n",
       " ('Julien', 'Ledouble', '1ère 1'),\n",
       " ('Julien', 'Legoff', '1ère 2'),\n",
       " ('Maxens', 'Duchemin', '1ère 3'),\n",
       " ('Maxens', 'Galois', '1ère 2'),\n",
       " ('Quentin', 'Valois', '1ère 1'),\n",
       " ('Sophie', 'Legoff', '1ère 3'),\n",
       " ('Séraphine', 'Dubois', '1ère 2'),\n",
       " ('Séraphine', 'Ledouble', '1ère 1'),\n",
       " ('Théo', 'Duchemin', '1ère 2'),\n",
       " ('Zoé', 'Dupuis', '1ère 1')]"
      ]
     },
     "execution_count": 20,
     "metadata": {},
     "output_type": "execute_result"
    }
   ],
   "source": [
    "copie_triée(liste_élèves)"
   ]
  },
  {
   "cell_type": "markdown",
   "metadata": {},
   "source": [
    "Une question primordiale se pose: comment réaliser un tri plus *naturel*, d'abord sur le nom de famille, puis sur le prénom., et enfin sur la classe ?"
   ]
  },
  {
   "cell_type": "markdown",
   "metadata": {},
   "source": [
    "---\n",
    "#### Exercice 2: modification des tuples\n",
    "\n",
    "À partir de la ```liste_élèves``` précédente, créer une nouvelle liste pour laquelle l'ordre des composantes du tuple sera (nom, prénom, classe). Trier cette nouvelle liste."
   ]
  },
  {
   "cell_type": "code",
   "execution_count": 21,
   "metadata": {},
   "outputs": [
    {
     "name": "stdout",
     "output_type": "stream",
     "text": [
      "Liste initiale:\n",
      "\n",
      " [('Julia', 'Dubois', '1ère 3'), ('Perrine', 'Fresnet', '1ère 3'), ('Julie', 'Valois', '1ère 1'), ('Gabin', 'Ledouble', '1ère 3'), ('Valentin', 'Valois', '1ère 1'), ('Quentin', 'Duchemin', '1ère 3'), ('Zoé', 'Valois', '1ère 1'), ('Julien', 'Valois', '1ère 1'), ('Céline', 'Legoff', '1ère 2'), ('Maxens', 'Dupuis', '1ère 3')]\n",
      "\n",
      "\n",
      "Liste modifiée:\n",
      "\n",
      " [('Dubois', 'Julia', '1ère 3'), ('Fresnet', 'Perrine', '1ère 3'), ('Valois', 'Julie', '1ère 1'), ('Ledouble', 'Gabin', '1ère 3'), ('Valois', 'Valentin', '1ère 1'), ('Duchemin', 'Quentin', '1ère 3'), ('Valois', 'Zoé', '1ère 1'), ('Valois', 'Julien', '1ère 1'), ('Legoff', 'Céline', '1ère 2'), ('Dupuis', 'Maxens', '1ère 3')]\n",
      "\n",
      "\n",
      "Liste triée:\n",
      "\n",
      " [('Dubois', 'Julia', '1ère 3'), ('Duchemin', 'Quentin', '1ère 3'), ('Dupuis', 'Maxens', '1ère 3'), ('Fresnet', 'Perrine', '1ère 3'), ('Ledouble', 'Gabin', '1ère 3'), ('Legoff', 'Céline', '1ère 2'), ('Valois', 'Julie', '1ère 1'), ('Valois', 'Julien', '1ère 1'), ('Valois', 'Valentin', '1ère 1'), ('Valois', 'Zoé', '1ère 1')]\n"
     ]
    }
   ],
   "source": [
    "N = 10\n",
    "liste_élèves = crée_liste_élèves(N)\n",
    "print(\"Liste initiale:\\n\\n\", liste_élèves)\n",
    "\n",
    "# On modifie les tuples:\n",
    "for i in range(N):\n",
    "    prénom, nom, classe = liste_élèves[i]\n",
    "    liste_élèves[i] = (nom, prénom, classe)\n",
    "    \n",
    "print(\"\\n\\nListe modifiée:\\n\\n\", liste_élèves)\n",
    "\n",
    "# On trie la liste:\n",
    "tri_sélection(liste_élèves)\n",
    "\n",
    "print(\"\\n\\nListe triée:\\n\\n\", liste_élèves)\n"
   ]
  },
  {
   "cell_type": "markdown",
   "metadata": {},
   "source": [
    "---\n",
    "#### Exercice 4: \n",
    "\n",
    "L'exercice précédent donne bien le bon résultat, mais a un gros défaut: la liste triée n'est pas constituée des tuples originaux, mais de tuples modifiés.\n",
    "\n",
    "Il serait préférable d'utiliser les tuples modifiés pour trier la liste, mais de reconstruire les tuples dans le bon ordre pour donner le résultat.\n",
    "\n",
    "Réalisez cela pour ce nouvel exercice !"
   ]
  },
  {
   "cell_type": "code",
   "execution_count": 22,
   "metadata": {},
   "outputs": [
    {
     "name": "stdout",
     "output_type": "stream",
     "text": [
      "Liste initiale:\n",
      "\n",
      " [('Amandine', 'Legoff', '1ère 3'), ('Céline', 'Galois', '1ère 3'), ('Célia', 'Galois', '1ère 2'), ('Claire', 'Ledouble', '1ère 2'), ('Julia', 'Galois', '1ère 3'), ('Claire', 'Duchemin', '1ère 1'), ('Julia', 'Duchemin', '1ère 2'), ('Céline', 'Duchemin', '1ère 2'), ('Quentin', 'Ledouble', '1ère 2'), ('Julia', 'Legrand', '1ère 2')]\n",
      "\n",
      "\n",
      "Liste triée (valeurs modifiées):\n",
      "\n",
      " [('Legoff', 'Amandine', '1ère 3'), ('Galois', 'Céline', '1ère 3'), ('Galois', 'Célia', '1ère 2'), ('Ledouble', 'Claire', '1ère 2'), ('Galois', 'Julia', '1ère 3'), ('Duchemin', 'Claire', '1ère 1'), ('Duchemin', 'Julia', '1ère 2'), ('Duchemin', 'Céline', '1ère 2'), ('Ledouble', 'Quentin', '1ère 2'), ('Legrand', 'Julia', '1ère 2')]\n",
      "\n",
      "\n",
      "Liste triée:\n",
      "\n",
      " [('Duchemin', 'Claire', '1ère 1'), ('Duchemin', 'Céline', '1ère 2'), ('Duchemin', 'Julia', '1ère 2'), ('Galois', 'Célia', '1ère 2'), ('Galois', 'Céline', '1ère 3'), ('Galois', 'Julia', '1ère 3'), ('Ledouble', 'Claire', '1ère 2'), ('Ledouble', 'Quentin', '1ère 2'), ('Legoff', 'Amandine', '1ère 3'), ('Legrand', 'Julia', '1ère 2')]\n",
      "\n",
      "\n",
      "Liste triée (valeurs initiales):\n",
      "\n",
      " [('Claire', 'Duchemin', '1ère 1'), ('Céline', 'Duchemin', '1ère 2'), ('Julia', 'Duchemin', '1ère 2'), ('Célia', 'Galois', '1ère 2'), ('Céline', 'Galois', '1ère 3'), ('Julia', 'Galois', '1ère 3'), ('Claire', 'Ledouble', '1ère 2'), ('Quentin', 'Ledouble', '1ère 2'), ('Amandine', 'Legoff', '1ère 3'), ('Julia', 'Legrand', '1ère 2')]\n"
     ]
    }
   ],
   "source": [
    "# On utilise des fonctions pour rendre le code plus lisible:\n",
    "\n",
    "def tuple_modifié(t):\n",
    "    prénom, nom, classe = t\n",
    "    return (nom, prénom, classe)\n",
    "\n",
    "def tuple_initial(t):\n",
    "    nom, prénom, classe = t\n",
    "    return (prénom, nom, classe)\n",
    "\n",
    "N = 10\n",
    "liste_élèves = crée_liste_élèves(N)\n",
    "print(\"Liste initiale:\\n\\n\", liste_élèves)\n",
    "\n",
    "# On modifie les tuples:\n",
    "liste_élèves = [tuple_modifié(t) for t in liste_élèves]\n",
    "    \n",
    "print(\"\\n\\nListe triée (valeurs modifiées):\\n\\n\", liste_élèves)\n",
    "\n",
    "# On trie la liste:\n",
    "tri_sélection(liste_élèves)\n",
    "\n",
    "print(\"\\n\\nListe triée:\\n\\n\", liste_élèves)\n",
    "\n",
    "# On recrée les valeurs initiales:\n",
    "liste_élèves = [tuple_initial(t) for t in liste_élèves]\n",
    "    \n",
    "print(\"\\n\\nListe triée (valeurs initiales):\\n\\n\", liste_élèves)\n"
   ]
  },
  {
   "cell_type": "markdown",
   "metadata": {},
   "source": [
    "Cet exercice ressemble à s'y méprendre à ce que nous avions fait avec les listes de nombres en passant par les nombres opposés: le principe est absolument identique:\n",
    "* On modifie le tuple afin que l'ordre lexicographique corresponde à ce que l'on souhaite obtenir\n",
    "* On effectue le tri\n",
    "* On reconstruit les tuples initiaux.   "
   ]
  },
  {
   "cell_type": "markdown",
   "metadata": {},
   "source": [
    "Cependant, il y a moyen de s'épargner ce double travail de modification de données, très coûteux et source potentielle de bugs: voir l'exercice suivant"
   ]
  },
  {
   "cell_type": "markdown",
   "metadata": {},
   "source": [
    "---\n",
    "#### Exercice 5 : Tri sans modifier les données initiales\n",
    "\n",
    "Comment faire pour trier la liste dans l'ordre (nom, prénom, classe) sans pour autant modifier les données ?\n",
    "\n",
    "Une idée très simple: on modifie légèrement l'algorithme de tri. Pour l'unique ligne de code pour laquelle une comparaison est effectuée, on utilise les tuples modifiés plutôt que les tuples initiaux.\n",
    "\n",
    "Cela change tout:\n",
    "* On n'est pas obligé de modifier la liste initiale\n",
    "* On crée simplement des tuples modifiés pour la comparaison\n",
    "* Ce sont les valeurs initiales qui sont échangées, pas les valeurs modifiées: il n'y a donc pas besoin de reconstruire les données à la fin."
   ]
  },
  {
   "cell_type": "markdown",
   "metadata": {},
   "source": [
    "Modifier la fonction suivante, afin qu'elle compare les tuples modifiés plutôt que les tuples initiaux. Bien évidemment, cette fonction ne fonctionnera que pour les listes d'élèves, pas dans le cas général (ce qui est un problème, mais nous le résoudrons à l'exercice suivant).\n",
    "\n",
    "Pour cela, écrire (puis utiliser) la fonction ```tuple_modifié(élève)```, qui renvoie le tuple au format (nom, prénom, classe) à partir du tuple (prénom, nom, classe)."
   ]
  },
  {
   "cell_type": "code",
   "execution_count": 23,
   "metadata": {},
   "outputs": [],
   "source": [
    "def tuple_modifié(élève):\n",
    "    prénom, nom, classe = élève\n",
    "    return (nom, prénom, classe)"
   ]
  },
  {
   "cell_type": "code",
   "execution_count": 24,
   "metadata": {},
   "outputs": [],
   "source": [
    "def tri_liste_élèves(t, croissant=True):\n",
    "    \"\"\"Trie le tableau t de tuples sous la forme (prénom, nom, classe).\n",
    "    \n",
    "    L'ordre du tri doit se faire suivant les tuples modifiés (nom, prénom, classe).\n",
    "    \n",
    "    Le paramètre optionnel croissant est un booléen indiquant s'il faut trier dans l'ordre\n",
    "    croissant ou non. Par défaut (si le paramètre n'est pas inclus), le tri se fera dans\n",
    "    l'ordre croissant.\n",
    "    \"\"\"\n",
    "    \n",
    "    # Modifier le code ci-dessous\n",
    "    \n",
    "    for i in range(len(t)):\n",
    "        m = tuple_modifié(t[i])\n",
    "        indice_m = i\n",
    "        for j in range(i + 1, len(t)):\n",
    "            # Selon la valeur de croissant, il faut tester une inégalité ou l'autre: selon le cas,\n",
    "            # on recherchera donc le minimum (si croissant est True) ou le maximum sur\n",
    "            # la partie non triée\n",
    "            tj_modifié = tuple_modifié(t[j])\n",
    "            if (croissant is True and tj_modifié < m) or (croissant is False and tj_modifié > m):\n",
    "                m = tj_modifié\n",
    "                indice_m = j\n",
    "        t[i], t[indice_m] = t[indice_m], t[i]"
   ]
  },
  {
   "cell_type": "markdown",
   "metadata": {},
   "source": [
    "Testez le résultat sur une liste d'élèves:"
   ]
  },
  {
   "cell_type": "code",
   "execution_count": 25,
   "metadata": {},
   "outputs": [
    {
     "name": "stdout",
     "output_type": "stream",
     "text": [
      "Liste initiale:\n",
      "\n"
     ]
    },
    {
     "data": {
      "text/plain": [
       "[('Célia', 'Dupuis', '1ère 3'),\n",
       " ('Céline', 'Galois', '1ère 3'),\n",
       " ('Sophie', 'Fresnet', '1ère 2'),\n",
       " ('Maxime', 'Galois', '1ère 3'),\n",
       " ('Sophie', 'Galois', '1ère 1'),\n",
       " ('Gaspard', 'Duchemin', '1ère 1'),\n",
       " ('Gabin', 'Legrand', '1ère 3'),\n",
       " ('Claire', 'Valois', '1ère 2'),\n",
       " ('Claire', 'Duchemin', '1ère 3'),\n",
       " ('Maxens', 'Dubois', '1ère 1')]"
      ]
     },
     "execution_count": 25,
     "metadata": {},
     "output_type": "execute_result"
    }
   ],
   "source": [
    "liste_élèves = crée_liste_élèves(10)\n",
    "print(\"Liste initiale:\\n\")\n",
    "liste_élèves"
   ]
  },
  {
   "cell_type": "code",
   "execution_count": 26,
   "metadata": {},
   "outputs": [
    {
     "name": "stdout",
     "output_type": "stream",
     "text": [
      "\n",
      "\n",
      "Liste triée:\n",
      "\n"
     ]
    },
    {
     "data": {
      "text/plain": [
       "[('Maxens', 'Dubois', '1ère 1'),\n",
       " ('Claire', 'Duchemin', '1ère 3'),\n",
       " ('Gaspard', 'Duchemin', '1ère 1'),\n",
       " ('Célia', 'Dupuis', '1ère 3'),\n",
       " ('Sophie', 'Fresnet', '1ère 2'),\n",
       " ('Céline', 'Galois', '1ère 3'),\n",
       " ('Maxime', 'Galois', '1ère 3'),\n",
       " ('Sophie', 'Galois', '1ère 1'),\n",
       " ('Gabin', 'Legrand', '1ère 3'),\n",
       " ('Claire', 'Valois', '1ère 2')]"
      ]
     },
     "execution_count": 26,
     "metadata": {},
     "output_type": "execute_result"
    }
   ],
   "source": [
    "# On est obligé de modifier la liste en place, parce que la fonction copie_triée() n'utilise pas\n",
    "# la fonction trie_liste_élèves mais la fonction tri_sélection\n",
    "tri_liste_élèves(liste_élèves)\n",
    "print(\"\\n\\nListe triée:\\n\")\n",
    "liste_élèves"
   ]
  },
  {
   "cell_type": "markdown",
   "metadata": {},
   "source": [
    "---\n",
    "#### Exercice 6 (guidé): un algorithme de tri générique permettant des tris sur des données modifiées."
   ]
  },
  {
   "cell_type": "markdown",
   "metadata": {},
   "source": [
    "On va généraliser la méthode précédente, en écrivant une fois pour toute un algorithme de tri permettant d'effectuer un tri sur des données modifiées.\n",
    "\n",
    "Pour cela, il suffit d'ajouter un nouveau paramètre optionnel qui serait la fonction de modification de tuple elle-même (```tuple_modifié()``` pour l'exercice précédent). Si une telle fonction est incluse, on l'utilise. Sinon, on procède à la comparaison par l'ordre lexicographique par défaut. "
   ]
  },
  {
   "cell_type": "markdown",
   "metadata": {},
   "source": [
    "Voici la fonction initiale. Modifions là pour qu'elle réponde au nouveau cahier des charges."
   ]
  },
  {
   "cell_type": "code",
   "execution_count": 27,
   "metadata": {},
   "outputs": [],
   "source": [
    "def tri_sélection(t, croissant=True, clé_de_tri=None):\n",
    "    \"\"\"Trie le tableau t.\n",
    "    \n",
    "    Le paramètre optionnel croissant est un booléen indiquant s'il faut trier dans l'ordre\n",
    "    croissant ou non. Par défaut (si le paramètre n'est pas inclus), le tri se fera dans\n",
    "    l'ordre croissant.\n",
    "    \n",
    "    Le paramètre optionnel clé_de_tri doit être None (s'il n'y en a pas) ou bien une fonction\n",
    "    renvoyant une valeur qui servira à la comparaison des données. En cas d'absence \n",
    "    (c'est-à-dire si clé_de_tri == None), l'ordre lexicographique standard sera utilisé\n",
    "    \"\"\"\n",
    "    \n",
    "    for i in range(len(t)):\n",
    "        if clé_de_tri is None:\n",
    "            m = t[i]\n",
    "        else:\n",
    "            m = clé_de_tri(t[i])\n",
    "        indice_m = i\n",
    "        for j in range(i + 1, len(t)):\n",
    "            # Selon la valeur de croissant, il faut tester une inégalité ou l'autre: selon le cas,\n",
    "            # on recherchera donc le minimum (si croissant est True) ou le maximum sur\n",
    "            # la partie non triée\n",
    "            if clé_de_tri is None:\n",
    "                valeur = t[j]\n",
    "            else:\n",
    "                valeur = clé_de_tri(t[j])\n",
    "            if (croissant is True and valeur < m) or (croissant is False and valeur > m):\n",
    "                m = valeur\n",
    "                indice_m = j\n",
    "        t[i], t[indice_m] = t[indice_m], t[i]"
   ]
  },
  {
   "cell_type": "markdown",
   "metadata": {},
   "source": [
    "Il est aussi nécessaire de modifier la fonction copie_triée, parce qu'il y a un nouveau paramètre par défaut à include:"
   ]
  },
  {
   "cell_type": "code",
   "execution_count": 28,
   "metadata": {},
   "outputs": [],
   "source": [
    "def copie_triée(t, croissant=True, clé_de_tri=None):\n",
    "    \"\"\"Copie le tableau t, puis le trie par ordre croissant ou décroissant, selon\n",
    "    la valeur du booléen 'croissant' passé en paramètre. Une fonction clé_de_tri \n",
    "    optionnelle permettant de calculer les valeurs à comparer peut être incluse.\n",
    "    \"\"\"\n",
    "    \n",
    "    # On commence par créer une copie du tableau:\n",
    "    n = len(t)\n",
    "    copie = [0] * n\n",
    "    \n",
    "    for i in range(n):\n",
    "        copie[i] = t[i]\n",
    "        \n",
    "    # puis on la trie (le tableau 'copie' sera modifié en place)\n",
    "    tri_sélection(copie, croissant, clé_de_tri)\n",
    "    \n",
    "    # Enfin, on renvoie la copie\n",
    "    return copie"
   ]
  },
  {
   "cell_type": "markdown",
   "metadata": {},
   "source": [
    "On teste cette fonction:"
   ]
  },
  {
   "cell_type": "code",
   "execution_count": 29,
   "metadata": {},
   "outputs": [
    {
     "name": "stdout",
     "output_type": "stream",
     "text": [
      "Liste initiale:\n",
      "\n"
     ]
    },
    {
     "data": {
      "text/plain": [
       "[('Mickaël', 'Legoff', '1ère 1'),\n",
       " ('Amandine', 'Galois', '1ère 2'),\n",
       " ('Gaspard', 'Galois', '1ère 1'),\n",
       " ('Mickaël', 'Galois', '1ère 1'),\n",
       " ('Julie', 'Galois', '1ère 1'),\n",
       " ('Sophie', 'Dubois', '1ère 1'),\n",
       " ('Valentin', 'Legrand', '1ère 2'),\n",
       " ('Séraphine', 'Galois', '1ère 2'),\n",
       " ('Gaspard', 'Legoff', '1ère 1'),\n",
       " ('Maxime', 'Legrand', '1ère 1')]"
      ]
     },
     "execution_count": 29,
     "metadata": {},
     "output_type": "execute_result"
    }
   ],
   "source": [
    "liste_élèves = crée_liste_élèves(10)\n",
    "print(\"Liste initiale:\\n\")\n",
    "liste_élèves"
   ]
  },
  {
   "cell_type": "code",
   "execution_count": 30,
   "metadata": {},
   "outputs": [
    {
     "name": "stdout",
     "output_type": "stream",
     "text": [
      "\n",
      "\n",
      "Liste triée:\n",
      "\n"
     ]
    },
    {
     "data": {
      "text/plain": [
       "[('Valentin', 'Legrand', '1ère 2'),\n",
       " ('Maxime', 'Legrand', '1ère 1'),\n",
       " ('Mickaël', 'Legoff', '1ère 1'),\n",
       " ('Gaspard', 'Legoff', '1ère 1'),\n",
       " ('Séraphine', 'Galois', '1ère 2'),\n",
       " ('Mickaël', 'Galois', '1ère 1'),\n",
       " ('Julie', 'Galois', '1ère 1'),\n",
       " ('Gaspard', 'Galois', '1ère 1'),\n",
       " ('Amandine', 'Galois', '1ère 2'),\n",
       " ('Sophie', 'Dubois', '1ère 1')]"
      ]
     },
     "execution_count": 30,
     "metadata": {},
     "output_type": "execute_result"
    }
   ],
   "source": [
    "print(\"\\n\\nListe triée:\\n\")\n",
    "copie_triée(liste_élèves, croissant=False, clé_de_tri=tuple_modifié)"
   ]
  },
  {
   "cell_type": "markdown",
   "metadata": {},
   "source": [
    "## Application 4 : Tri sur des dictionnaires"
   ]
  },
  {
   "cell_type": "code",
   "execution_count": 31,
   "metadata": {},
   "outputs": [],
   "source": [
    "t2 = [\n",
    "    {\"prénom\": \"Pascal\", \"nom\": \"Blaise\", \"naissance\": 1623},\n",
    "    {\"prénom\": \"Emmanuel\", \"nom\": \"Kant\", \"naissance\": 1724},\n",
    "    {\"prénom\": \"Friedrich\", \"nom\": \"Nietzsche\", \"naissance\": 1844},\n",
    "    {\"prénom\": \"René\", \"nom\": \"Descartes\", \"naissance\": 1596},\n",
    "]"
   ]
  },
  {
   "cell_type": "markdown",
   "metadata": {},
   "source": [
    "### Ordre lexicographique et dictionnaires"
   ]
  },
  {
   "cell_type": "markdown",
   "metadata": {},
   "source": [
    "Un problème de taille est que les dictionnaires *ne sont pas comparables*:"
   ]
  },
  {
   "cell_type": "code",
   "execution_count": 32,
   "metadata": {
    "tags": [
     "raises-exception"
    ]
   },
   "outputs": [
    {
     "ename": "TypeError",
     "evalue": "'<' not supported between instances of 'dict' and 'dict'",
     "output_type": "error",
     "traceback": [
      "\u001b[0;31m---------------------------------------------------------------------------\u001b[0m",
      "\u001b[0;31mTypeError\u001b[0m                                 Traceback (most recent call last)",
      "\u001b[0;32m<ipython-input-32-8e7f45e63864>\u001b[0m in \u001b[0;36m<module>\u001b[0;34m\u001b[0m\n\u001b[0;32m----> 1\u001b[0;31m \u001b[0mt2\u001b[0m\u001b[0;34m[\u001b[0m\u001b[0;36m0\u001b[0m\u001b[0;34m]\u001b[0m \u001b[0;34m<\u001b[0m \u001b[0mt2\u001b[0m\u001b[0;34m[\u001b[0m\u001b[0;36m1\u001b[0m\u001b[0;34m]\u001b[0m\u001b[0;34m\u001b[0m\u001b[0;34m\u001b[0m\u001b[0m\n\u001b[0m",
      "\u001b[0;31mTypeError\u001b[0m: '<' not supported between instances of 'dict' and 'dict'"
     ]
    }
   ],
   "source": [
    "t2[0] < t2[1]"
   ]
  },
  {
   "cell_type": "markdown",
   "metadata": {},
   "source": [
    "python est très explicite: l'opérateur plus petit n'est pas défini sur des dictionnaires. Et en y réfléchissant, comme pourrait-on comparer deux dictionnaires: même en supposant que les clés soient identiques d'un dictionnaire à l'autre, n'oublions pas qu'un dictionnaire ne conserve pas d'ordre entre ces clés: il est par conséquent impossible de parler d'ordre lexicographique, puisque le notion même de première clé, deuxième clé, etc..., n'a pas de sens."
   ]
  },
  {
   "cell_type": "markdown",
   "metadata": {},
   "source": [
    "Comment alors peut-on trier une liste de dictionnaires ?"
   ]
  },
  {
   "cell_type": "markdown",
   "metadata": {},
   "source": [
    "**Méthode:** L'idée est simple et élégante: on utilise notre fonction de tri améliorée, en créant des valeurs comparables à partir de chaque dictionnaire. Ici, il suffit de crée un tuple (nom, prénom, classe) à partir d'un dictionnaire, pour pouvoir trier le tableau."
   ]
  },
  {
   "cell_type": "markdown",
   "metadata": {},
   "source": [
    "Compléter la fonction suivante afin de réaliser cela. N'oubliez pas de tester le résultat obtenu dans la cellule suivante:"
   ]
  },
  {
   "cell_type": "code",
   "execution_count": 33,
   "metadata": {},
   "outputs": [],
   "source": [
    "def dictionnaire_vers_tuple(d):\n",
    "    return (d[\"nom\"], d[\"prénom\"], d[\"naissance\"])"
   ]
  },
  {
   "cell_type": "code",
   "execution_count": 34,
   "metadata": {
    "tags": [
     "raises-exception"
    ]
   },
   "outputs": [
    {
     "data": {
      "text/plain": [
       "[{'prénom': 'Pascal', 'nom': 'Blaise', 'naissance': 1623},\n",
       " {'prénom': 'René', 'nom': 'Descartes', 'naissance': 1596},\n",
       " {'prénom': 'Emmanuel', 'nom': 'Kant', 'naissance': 1724},\n",
       " {'prénom': 'Friedrich', 'nom': 'Nietzsche', 'naissance': 1844}]"
      ]
     },
     "execution_count": 34,
     "metadata": {},
     "output_type": "execute_result"
    }
   ],
   "source": [
    "copie_triée(t2, clé_de_tri=dictionnaire_vers_tuple)"
   ]
  },
  {
   "cell_type": "markdown",
   "metadata": {},
   "source": [
    "## Application 5 : Tri sur des données volumineuses (big data)"
   ]
  },
  {
   "cell_type": "markdown",
   "metadata": {},
   "source": [
    "On va exploiter tout ce qui a été vu aujourd'hui sur un ensemble de données réelles.\n",
    "\n",
    "Sur le site https://data.gouv.fr, offrant un accès libre à de nombreuses données réelles, on a chargé des données sur les véhicules produits en 2014 (à l'url https://www.data.gouv.fr/fr/datasets/emissions-de-co2-et-de-polluants-des-vehicules-commercialises-en-france/). \n",
    "\n",
    "Ces données sont fournies sous la forme d'un fichier **csv** (https://fr.wikipedia.org/wiki/Comma-separated_values).\n",
    "\n",
    "Python dispose d'une librairie de lecture de fichiers csv, mais nous n'entrerons pas dans les détails aujourd'hui. Le fichier ```data.py``` contient tout ce qui est nécessaire au chargement et au pré-traitement de ce fichier."
   ]
  },
  {
   "cell_type": "code",
   "execution_count": 35,
   "metadata": {},
   "outputs": [],
   "source": [
    "from data import lecture_fichier"
   ]
  },
  {
   "cell_type": "code",
   "execution_count": 36,
   "metadata": {},
   "outputs": [],
   "source": [
    "voitures = lecture_fichier()"
   ]
  },
  {
   "cell_type": "code",
   "execution_count": 37,
   "metadata": {},
   "outputs": [
    {
     "data": {
      "text/plain": [
       "5525"
      ]
     },
     "execution_count": 37,
     "metadata": {},
     "output_type": "execute_result"
    }
   ],
   "source": [
    "len(voitures)"
   ]
  },
  {
   "cell_type": "markdown",
   "metadata": {},
   "source": [
    "On dispose d'une liste de 5525 véhicules. Chaque véhicule est un dictionnaire dont le format est immuable:"
   ]
  },
  {
   "cell_type": "code",
   "execution_count": 38,
   "metadata": {},
   "outputs": [
    {
     "data": {
      "text/plain": [
       "{'marque': 'Volkswagen',\n",
       " 'modèle': 'Crafter Combi 35 L3H2 Tdi (109Ch) Bluemotion',\n",
       " 'puissance': 80,\n",
       " 'consommation moyenne': 8.0,\n",
       " 'co2': 209,\n",
       " 'nox': 0.214000002}"
      ]
     },
     "execution_count": 38,
     "metadata": {},
     "output_type": "execute_result"
    }
   ],
   "source": [
    "voitures[0]"
   ]
  },
  {
   "cell_type": "markdown",
   "metadata": {},
   "source": [
    "---\n",
    "#### Exercice 7: des tris complexes sur cette base de données de véhicules."
   ]
  },
  {
   "cell_type": "markdown",
   "metadata": {},
   "source": [
    "1. Trier l'ensemble de ces véhicules d'abord par rapport aux taux d'émission de $\\text{CO}_2$ (par ordre décroissant), puis par rapport à la marque et enfin au modèle (ordre  lexicographique croissant);\n",
    "\n",
    "  **Indication:** Une difficulté supplémentaire ici: une partie du tri se fait dans l'ordre décroissant, l'autre dans l'ordre croissant. On peut utiliser l'astuce qui consiste à utiliser les opposés des nombres (sur les émissions de dioxyde de carbone) pour s'en sortir ici.\n",
    "2. Afficher les 5 véhicules les plus polluants uniquement, **mais en n'affichant qu'un seul véhicule par marque**;\n",
    "3. À la suite de l'affichage précédent, et en vous inspirant de ce qui a déjà été fait, afficher les 5 véhicules les plus économes en terme de consommation moyenne (toujours un seul véhicule autorisé par marque).\n",
    "\n",
    "  **Indication:** Il sera certainement nécessaire d'effectuer un nouveau tri."
   ]
  },
  {
   "cell_type": "code",
   "execution_count": 39,
   "metadata": {},
   "outputs": [],
   "source": [
    "def clé1(véhicule):\n",
    "    return (-véhicule[\"co2\"], véhicule[\"marque\"], véhicule[\"modèle\"])"
   ]
  },
  {
   "cell_type": "code",
   "execution_count": 40,
   "metadata": {},
   "outputs": [
    {
     "data": {
      "text/plain": [
       "[{'marque': 'Aston Martin',\n",
       "  'modèle': 'One-77',\n",
       "  'puissance': 559,\n",
       "  'consommation moyenne': 24.5,\n",
       "  'co2': 572,\n",
       "  'nox': 0.048999999},\n",
       " {'marque': 'Aston Martin',\n",
       "  'modèle': 'One-77',\n",
       "  'puissance': 559,\n",
       "  'consommation moyenne': 23.89999962,\n",
       "  'co2': 555,\n",
       "  'nox': 0.056000002},\n",
       " {'marque': 'Lamborghini',\n",
       "  'modèle': 'Veneno',\n",
       "  'puissance': 545,\n",
       "  'consommation moyenne': 17.20000076,\n",
       "  'co2': 398,\n",
       "  'nox': 0.002},\n",
       " {'marque': 'Mercedes',\n",
       "  'modèle': 'G 65 Break Long Bva7',\n",
       "  'puissance': 450,\n",
       "  'consommation moyenne': 17.0,\n",
       "  'co2': 397,\n",
       "  'nox': 0.037999999},\n",
       " {'marque': 'Bentley',\n",
       "  'modèle': 'Mulsanne',\n",
       "  'puissance': 377,\n",
       "  'consommation moyenne': 16.89999962,\n",
       "  'co2': 393,\n",
       "  'nox': 0.045000002}]"
      ]
     },
     "execution_count": 40,
     "metadata": {},
     "output_type": "execute_result"
    }
   ],
   "source": [
    "tri1 = copie_triée(voitures, clé_de_tri=clé1)\n",
    "tri1[:5]"
   ]
  },
  {
   "cell_type": "markdown",
   "metadata": {},
   "source": [
    "Il y a plusieurs Aston-Martin par exemple pami les 5 premiers véhicules: il faut donc ruser pour le premier affichage."
   ]
  },
  {
   "cell_type": "code",
   "execution_count": 41,
   "metadata": {},
   "outputs": [
    {
     "name": "stdout",
     "output_type": "stream",
     "text": [
      "Palmarès des marques les plus polluantes:\n",
      "\n",
      "1: Aston Martin / One-77 émet 572 g/km de CO2\n",
      "2: Lamborghini / Veneno émet 398 g/km de CO2\n",
      "3: Mercedes / G 65 Break Long Bva7 émet 397 g/km de CO2\n",
      "4: Bentley / Mulsanne émet 393 g/km de CO2\n",
      "5: Ferrari / F12Berlinetta émet 380 g/km de CO2\n"
     ]
    }
   ],
   "source": [
    "print(\"Palmarès des marques les plus polluantes:\\n\")\n",
    "n = 0\n",
    "i = 0\n",
    "# On utilise un dictionnaire contenant les marques déjà citées en clé \n",
    "# (la valeur peut être n'importe quoi, par exemple 1)\n",
    "déjà_vu = {}\n",
    "while n < 5:\n",
    "    v = tri1[i]\n",
    "    if v[\"marque\"] not in déjà_vu:\n",
    "        n = n + 1\n",
    "        déjà_vu[v[\"marque\"]] = 1\n",
    "        print(\"{}: {} / {} émet {} g/km de CO2\".format(n, v[\"marque\"], v[\"modèle\"], v[\"co2\"]))\n",
    "    i = i + 1"
   ]
  },
  {
   "cell_type": "code",
   "execution_count": 42,
   "metadata": {},
   "outputs": [],
   "source": [
    "def clé2(véhicule):\n",
    "    return (véhicule[\"consommation moyenne\"], véhicule[\"marque\"], véhicule[\"modèle\"])"
   ]
  },
  {
   "cell_type": "code",
   "execution_count": 43,
   "metadata": {},
   "outputs": [
    {
     "data": {
      "text/plain": [
       "[{'marque': 'Audi',\n",
       "  'modèle': 'A3 1.6 Tdi Ultra (110Ch)',\n",
       "  'puissance': 81,\n",
       "  'consommation moyenne': 3.200000048,\n",
       "  'co2': 85,\n",
       "  'nox': 0.098999999},\n",
       " {'marque': 'Hyundai',\n",
       "  'modèle': 'Nouvelle I20 1.1 Crdi (75Ch) Pack Evidence Blue Drive',\n",
       "  'puissance': 55,\n",
       "  'consommation moyenne': 3.200000048,\n",
       "  'co2': 84,\n",
       "  'nox': 0.135000005},\n",
       " {'marque': 'Kia',\n",
       "  'modèle': 'Rio 1.1 Diesel Crdi (75Ch) Isg Bvm 6 3P',\n",
       "  'puissance': 55,\n",
       "  'consommation moyenne': 3.200000048,\n",
       "  'co2': 85,\n",
       "  'nox': 0.114},\n",
       " {'marque': 'Kia',\n",
       "  'modèle': 'Rio 1.1 Diesel Crdi (75Ch) Isg Bvm 6 5P',\n",
       "  'puissance': 55,\n",
       "  'consommation moyenne': 3.200000048,\n",
       "  'co2': 85,\n",
       "  'nox': 0.114},\n",
       " {'marque': 'Renault',\n",
       "  'modèle': 'Nouvelle Clio Estate Nouvelle Energydci (90Ch) Eco2 83G',\n",
       "  'puissance': 66,\n",
       "  'consommation moyenne': 3.200000048,\n",
       "  'co2': 83,\n",
       "  'nox': 0.151999995}]"
      ]
     },
     "execution_count": 43,
     "metadata": {},
     "output_type": "execute_result"
    }
   ],
   "source": [
    "tri2 = copie_triée(voitures, clé_de_tri=clé2)\n",
    "tri2[:5]"
   ]
  },
  {
   "cell_type": "markdown",
   "metadata": {},
   "source": [
    "Il y a plusieurs Kia par exemple pami les 5 premiers véhicules: il faut donc ruser pour le premier affichage."
   ]
  },
  {
   "cell_type": "code",
   "execution_count": 44,
   "metadata": {},
   "outputs": [
    {
     "name": "stdout",
     "output_type": "stream",
     "text": [
      "Palmarès des marques les plus économes:\n",
      "\n",
      "1: Audi / A3 1.6 Tdi Ultra (110Ch) consomme 3.200000048 L/100km\n",
      "2: Hyundai / Nouvelle I20 1.1 Crdi (75Ch) Pack Evidence Blue Drive consomme 3.200000048 L/100km\n",
      "3: Kia / Rio 1.1 Diesel Crdi (75Ch) Isg Bvm 6 3P consomme 3.200000048 L/100km\n",
      "4: Renault / Nouvelle Clio Estate Nouvelle Energydci (90Ch) Eco2 83G consomme 3.200000048 L/100km\n",
      "5: Skoda / Octavia Berline Greenline 1.6 Tdi (110Ch) Fap consomme 3.200000048 L/100km\n"
     ]
    }
   ],
   "source": [
    "print(\"Palmarès des marques les plus économes:\\n\")\n",
    "n = 0\n",
    "i = 0\n",
    "# On utilise un dictionnaire contenant les marques déjà citées en clé \n",
    "# (la valeur peut être n'importe quoi, par exemple 1)\n",
    "déjà_vu = {}\n",
    "while n < 5:\n",
    "    v = tri2[i]\n",
    "    if v[\"marque\"] not in déjà_vu:\n",
    "        n = n + 1\n",
    "        déjà_vu[v[\"marque\"]] = 1\n",
    "        print(\"{}: {} / {} consomme {} L/100km\".format(n, v[\"marque\"], v[\"modèle\"], v[\"consommation moyenne\"]))\n",
    "    i = i + 1"
   ]
  },
  {
   "cell_type": "markdown",
   "metadata": {},
   "source": [
    "---\n",
    "#### Exercice 8: graphiques sur la base de données de véhicules"
   ]
  },
  {
   "cell_type": "markdown",
   "metadata": {},
   "source": [
    "On aimerait représenter sur un même graphique la consommation moyenne ainsi que la pollution moyenne par marque de véhicules. \n",
    "\n",
    "Pour cela, on va utiliser un nuage de point: il y aura un point exactement par marque. En abscisse, on utilisera la moyenne de la consommation moyenne de tous les véhicules de cette marque. En ordonnée, la moyenne des émissions de dioxyde de carbone."
   ]
  },
  {
   "cell_type": "markdown",
   "metadata": {},
   "source": [
    "\n",
    "**Étape 1:** pour réaliser le graphique, on a besoin de trois tableaux: les marques, les consommations moyennes et les émissions moyennes de dioxyde de carbone. On crée ces tableaux à partir de la base des véhicules.\n",
    "\n",
    "Pour créer ces tableaux, le plus simple est de passer par deux dictionnaires intermédiaires, dont les clés seront les marques, et les valeurs des tableaux de consommations moyennes ou bien d'émissions de CO2."
   ]
  },
  {
   "cell_type": "code",
   "execution_count": 48,
   "metadata": {},
   "outputs": [],
   "source": [
    "dico_conso = {}\n",
    "dico_co2 = {}\n",
    "\n",
    "for v in voitures:\n",
    "    marque = v[\"marque\"]\n",
    "    conso = v[\"consommation moyenne\"]\n",
    "    co2 = v[\"co2\"]\n",
    "    \n",
    "    if marque in dico_conso:\n",
    "        # Les deux dictionnaires sont toujours mis à jour en parallèle, il suffit\n",
    "        # donc de tester sur un seul d'entre eux.\n",
    "        dico_conso[marque].append(conso)\n",
    "        dico_co2[marque].append(co2)\n",
    "    else:\n",
    "        dico_conso[marque] = [conso]\n",
    "        dico_co2[marque] = [co2]"
   ]
  },
  {
   "cell_type": "markdown",
   "metadata": {},
   "source": [
    "**Étape 2:** À présent, on utilise ces deux dictionnaires pour créer les trois tableaux en parallèle:"
   ]
  },
  {
   "cell_type": "code",
   "execution_count": 52,
   "metadata": {},
   "outputs": [],
   "source": [
    "tableau_marques = []\n",
    "tableau_conso = []\n",
    "tableau_co2 = []\n",
    "\n",
    "def moyenne(t):\n",
    "    s = 0\n",
    "    for x in t:\n",
    "        s = s + x\n",
    "    return s / len(t)\n",
    "\n",
    "for marque in dico_conso:\n",
    "    tableau_marques.append(marque)\n",
    "    tableau_conso.append(moyenne(dico_conso[marque]))\n",
    "    tableau_co2.append(moyenne(dico_co2[marque]))"
   ]
  },
  {
   "cell_type": "markdown",
   "metadata": {},
   "source": [
    "**Étape 3:** On utilise les trois tableaux pour créer le graphique:"
   ]
  },
  {
   "cell_type": "code",
   "execution_count": 106,
   "metadata": {},
   "outputs": [
    {
     "data": {
      "image/png": "[encoded data removed]",
      "text/plain": [
       "<Figure size 1152x1152 with 1 Axes>"
      ]
     },
     "metadata": {
      "needs_background": "light"
     },
     "output_type": "display_data"
    }
   ],
   "source": [
    "from matplotlib import pyplot as plt\n",
    "\n",
    "plt.scatter(tableau_conso, tableau_co2)\n",
    "plt.rcParams[\"figure.figsize\"] = (16, 16)\n",
    "for marque, conso, co2 in zip(tableau_marques, tableau_conso, tableau_co2):\n",
    "    plt.annotate(\n",
    "        marque,\n",
    "        xy=(conso, co2),\n",
    "        xytext=(5, -5),\n",
    "        textcoords = 'offset points')\n",
    "    \n",
    "plt.title(\"Consommation moyenne vs Émissions de CO2\")\n",
    "plt.xlabel(\"Consommation moyenne en L/100 km\")\n",
    "plt.ylabel(\"Émissions de CO2 en g/km\")\n",
    "plt.show()"
   ]
  },
  {
   "cell_type": "markdown",
   "metadata": {},
   "source": [
    "---\n",
    "#### Exercice 9: Comparaisons entre les émissions de NOX et de CO2"
   ]
  },
  {
   "cell_type": "markdown",
   "metadata": {},
   "source": [
    "Le graphique a normalement mis en évidence ce qui semble être une relation linéaire entre la consommation moyenne et le taux d'émissions de CO2 (ce qui semble assez logique en y réfléchissant un peu).\n",
    "\n",
    "Y a-t-il une relation similaire entre les émissions de monoxyde d'azote (NOX) et les émissions de dioxyde de carbone (CO2) ? Pour le voir, représenter sur un même nuage de points les moyennes de ces deux valeurs, par marques, en vous inspirant de l'exercice précédent."
   ]
  },
  {
   "cell_type": "code",
   "execution_count": 101,
   "metadata": {},
   "outputs": [],
   "source": [
    "dico_nox = {}\n",
    "dico_co2 = {}\n",
    "\n",
    "for v in voitures:\n",
    "    marque = v[\"marque\"]\n",
    "    nox = v[\"nox\"]\n",
    "    co2 = v[\"co2\"]\n",
    "    \n",
    "    if marque in dico_nox:\n",
    "        # Les deux dictionnaires sont toujours mis à jour en parallèle, il suffit\n",
    "        # donc de tester sur un seul d'entre eux.\n",
    "        dico_nox[marque].append(nox)\n",
    "        dico_co2[marque].append(co2)\n",
    "    else:\n",
    "        dico_nox[marque] = [nox]\n",
    "        dico_co2[marque] = [co2]"
   ]
  },
  {
   "cell_type": "markdown",
   "metadata": {},
   "source": [
    "**Étape 2:** À présent, on utilise ces deux dictionnaires pour créer les trois tableaux en parallèle:"
   ]
  },
  {
   "cell_type": "code",
   "execution_count": 103,
   "metadata": {},
   "outputs": [],
   "source": [
    "tableau_marques = []\n",
    "tableau_nox = []\n",
    "tableau_co2 = []\n",
    "\n",
    "def moyenne(t):\n",
    "    s = 0\n",
    "    for x in t:\n",
    "        s = s + x\n",
    "    return s / len(t)\n",
    "\n",
    "for marque in dico_nox:\n",
    "    tableau_marques.append(marque)\n",
    "    tableau_nox.append(moyenne(dico_nox[marque]))\n",
    "    tableau_co2.append(moyenne(dico_co2[marque]))"
   ]
  },
  {
   "cell_type": "markdown",
   "metadata": {},
   "source": [
    "**Étape 3:** On utilise les trois tableaux pour créer le graphique:"
   ]
  },
  {
   "cell_type": "code",
   "execution_count": 105,
   "metadata": {},
   "outputs": [
    {
     "data": {
      "image/png": "[encoded data removed]",
      "text/plain": [
       "<Figure size 1152x1152 with 1 Axes>"
      ]
     },
     "metadata": {
      "needs_background": "light"
     },
     "output_type": "display_data"
    }
   ],
   "source": [
    "from matplotlib import pyplot as plt\n",
    "\n",
    "plt.scatter(tableau_nox, tableau_co2)\n",
    "plt.rcParams[\"figure.figsize\"] = (16, 16)\n",
    "for marque, nox, co2 in zip(tableau_marques, tableau_nox, tableau_co2):\n",
    "    plt.annotate(\n",
    "        marque,\n",
    "        xy=(nox, co2),\n",
    "        xytext=(5, -5),\n",
    "        textcoords = 'offset points')\n",
    "    \n",
    "plt.title(\"Émissions de NOX vs Émissions de CO2\")\n",
    "plt.xlabel(\"Émissions de NOX en g/km\")\n",
    "plt.ylabel(\"Émissions de CO2 en g/km\")\n",
    "plt.show()"
   ]
  },
  {
   "cell_type": "markdown",
   "metadata": {},
   "source": [
    "---\n",
    "#### Exercice 10: Étude plus fine des émissions de NOX"
   ]
  },
  {
   "cell_type": "markdown",
   "metadata": {},
   "source": [
    "Représenter toutes les émissions de NOX ou de CO2 uniquement par leur valeurs moyennes n'est pas nécessairement très représentatif (on sait qu'il faut accorder une importance toute relative à la moyenne d'une série, en absence d'autres informations).\n",
    "\n",
    "On se propose ici de représenter l'ensemble des émissions de NOX sur un même graphique, à l'aide de boîtes à moustaches. On placera sur un même graphique une boîte à moustache par marque, verticalement.\n",
    "\n",
    "Chercher sur le web la documentation de matplotlib concernant les boîtes à moustaches (```boxplot``` en anglais).\n",
    "\n",
    "**Bonus:** Retirer toutes les marques présentant moins de 30 modèles, afin de limiter la taille du graphique en ne gardant pas les échantillons les plus petits."
   ]
  },
  {
   "cell_type": "code",
   "execution_count": 109,
   "metadata": {},
   "outputs": [],
   "source": [
    "dico_nox = {}\n",
    "for v in voitures:\n",
    "    m = v[\"marque\"]\n",
    "    if m in dico_nox:\n",
    "        dico_nox[m].append(v[\"nox\"])\n",
    "    else:\n",
    "        dico_nox[m] = [v[\"nox\"]]\n",
    "\n",
    "effacer = []\n",
    "for m, t in dico_nox.items():\n",
    "    if len(t) < 30:\n",
    "        effacer.append(m)\n",
    "for m in effacer:\n",
    "    del(dico_nox[m])\n",
    "        \n",
    "marques = list(dico_nox.keys())\n",
    "tri_sélection(marques)\n",
    "\n",
    "nox = [dico_nox[m] for m in marques]\n"
   ]
  },
  {
   "cell_type": "code",
   "execution_count": 111,
   "metadata": {},
   "outputs": [
    {
     "data": {
      "image/png": "[encoded data removed]",
      "text/plain": [
       "<Figure size 2304x576 with 1 Axes>"
      ]
     },
     "metadata": {
      "needs_background": "light"
     },
     "output_type": "display_data"
    }
   ],
   "source": [
    "from matplotlib import pyplot as plt\n",
    "\n",
    "plt.boxplot(nox,  # les données\n",
    "            vert=True, # alignement vertical des boîtes à moustaches\n",
    "            showfliers=False,\n",
    "            labels=marques)\n",
    "plt.rcParams[\"figure.figsize\"] = (32, 8)\n",
    "plt.title(\"Émissions de monoxyde d'azote (NOX)\")\n",
    "plt.xlabel(\"Marques\")\n",
    "plt.ylabel(\"Émissions de NOX en g/km\")\n",
    "#plt.ylim(0, 0.4)\n",
    "\n",
    "plt.show()"
   ]
  },
  {
   "cell_type": "code",
   "execution_count": null,
   "metadata": {},
   "outputs": [],
   "source": []
  }
 ],
 "metadata": {
  "kernelspec": {
   "display_name": "Python 3",
   "language": "python",
   "name": "python3"
  },
  "language_info": {
   "codemirror_mode": {
    "name": "ipython",
    "version": 3
   },
   "file_extension": ".py",
   "mimetype": "text/x-python",
   "name": "python",
   "nbconvert_exporter": "python",
   "pygments_lexer": "ipython3",
   "version": "3.7.4"
  }
 },
 "nbformat": 4,
 "nbformat_minor": 4
}

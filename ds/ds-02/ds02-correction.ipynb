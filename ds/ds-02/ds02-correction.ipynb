{
 "cells": [
  {
   "cell_type": "markdown",
   "metadata": {},
   "source": [
    "# DS n° 2\n",
    "\n",
    "## Correction"
   ]
  },
  {
   "cell_type": "markdown",
   "metadata": {},
   "source": [
    "---\n",
    "### Exercice 1"
   ]
  },
  {
   "cell_type": "markdown",
   "metadata": {},
   "source": [
    "#### Question 1\n",
    "\n",
    "Un nombre est pair si et seulement si son bit de poids faible est zéro.\n",
    "\n",
    "Remarquons qu'il s'agit de la même règle que pour les nombres écrits en base 10: un nombre est pair si et seulement si son chiffre des unités (chiffre de poids faible) est pair. Dans le cas du binaire, 0 est le seul chiffre satisfaisant à ce critère."
   ]
  },
  {
   "cell_type": "markdown",
   "metadata": {},
   "source": [
    "#### Question 2\n",
    "\n",
    "Malheureusement il faut réaliser la conversion décimal $\\rightarrow$ hexadécimal à la main, en utilisant par exemple l'algorithme qui donne les chiffres hexadécimaux en partant de la droite (chiffre de poids faible), que l'on rappelle ici:"
   ]
  },
  {
   "cell_type": "code",
   "execution_count": 1,
   "metadata": {},
   "outputs": [
    {
     "name": "stdout",
     "output_type": "stream",
     "text": [
      "13\n",
      "3\n",
      "5\n"
     ]
    }
   ],
   "source": [
    "N = 1341\n",
    "while N > 0:\n",
    "    valeur_chiffre = N % 16\n",
    "    print(valeur_chiffre)\n",
    "    N = N // 16"
   ]
  },
  {
   "cell_type": "markdown",
   "metadata": {},
   "source": [
    "La représentation hexadécimale de 1341 est alors ```53D```, puisque ```D``` a pour valeur 13."
   ]
  },
  {
   "cell_type": "markdown",
   "metadata": {},
   "source": [
    "#### Question 3\n",
    "\n",
    "Il suffit de se souvenir que la conversion héxadécimal $\\rightarrow$ binaire est beaucoup plus simple, car il suffit de connaître les motifs sur 4 bits pour chaque chiffre hexadécimal:\n",
    "$$5\\text{E}_{16} = \\underbrace{0101}_{5}\\,\\underbrace{1110}_{\\text{E}} = 1011110_{2}$$"
   ]
  },
  {
   "cell_type": "code",
   "execution_count": 2,
   "metadata": {},
   "outputs": [
    {
     "data": {
      "text/plain": [
       "'0b1011110'"
      ]
     },
     "execution_count": 2,
     "metadata": {},
     "output_type": "execute_result"
    }
   ],
   "source": [
    "bin(0x5e)"
   ]
  },
  {
   "cell_type": "markdown",
   "metadata": {},
   "source": [
    "#### Question 4\n",
    "\n",
    "Le nombre proposé comporte 20 bits, soit exactement 2 octets et un demi octet. Il faut donc au minimum 3 octets pour représenter ce nombre."
   ]
  },
  {
   "cell_type": "markdown",
   "metadata": {},
   "source": [
    "#### Question 5\n",
    "\n",
    "La représentation binaire de $102$ sur un octet est $01100110$, puisque $102 = 64 + 32 + 4 + 2$.\n",
    "\n",
    "Le complément à deux s'obtient en inversant les bits puis en rajoutant 1. \n",
    "\n",
    "* L'inversion des bits nous donne $10011001$;\n",
    "* L'ajout de 1 nous donne alors $10011010$, qui est la représentation sur un octet signé de $-102$."
   ]
  },
  {
   "cell_type": "markdown",
   "metadata": {},
   "source": [
    "**Complément:** Comment obtenir la représentation sur un octet signé à l'aide de python ?\n",
    "\n",
    "On sait que python ne donne pas cette représentation par défaut:"
   ]
  },
  {
   "cell_type": "code",
   "execution_count": 3,
   "metadata": {},
   "outputs": [
    {
     "data": {
      "text/plain": [
       "'-0b1100110'"
      ]
     },
     "execution_count": 3,
     "metadata": {},
     "output_type": "execute_result"
    }
   ],
   "source": [
    "bin(-102)"
   ]
  },
  {
   "cell_type": "markdown",
   "metadata": {},
   "source": [
    "Il faut alors ruser, en se souvenant de la manière dont est construite la représentation en complément à 2:"
   ]
  },
  {
   "cell_type": "code",
   "execution_count": 4,
   "metadata": {},
   "outputs": [
    {
     "data": {
      "text/plain": [
       "'0b10011010'"
      ]
     },
     "execution_count": 4,
     "metadata": {},
     "output_type": "execute_result"
    }
   ],
   "source": [
    "bin(256 - 102)"
   ]
  },
  {
   "cell_type": "markdown",
   "metadata": {},
   "source": [
    "---\n",
    "### Exercice 2"
   ]
  },
  {
   "cell_type": "code",
   "execution_count": 5,
   "metadata": {},
   "outputs": [],
   "source": [
    "def puissance(n):\n",
    "    p = 1\n",
    "    while n > 0:\n",
    "        p = p * 2\n",
    "        n = n - 1\n",
    "    return p"
   ]
  },
  {
   "cell_type": "code",
   "execution_count": 6,
   "metadata": {},
   "outputs": [
    {
     "data": {
      "text/plain": [
       "128"
      ]
     },
     "execution_count": 6,
     "metadata": {},
     "output_type": "execute_result"
    }
   ],
   "source": [
    "puissance(7)"
   ]
  },
  {
   "cell_type": "markdown",
   "metadata": {},
   "source": [
    "En effet, le nombre $p$ est multiplié par deux tant que $n$ est non nul. On finit donc par calculer $2^n$, soit ici $2^7 = 128$.\n",
    "\n",
    "**Note pour ceux suivant la spécialité mathématiques:** Il s'agit ici du cas d'école d'une suite géométrique de raison $q = 2$, où on transforme la définition par récurrence $p_{n+1} = 2\\times p_n$ en le terme général $$p_n = p_0\\times q^n = 1\\times 2^7 = 128$$"
   ]
  },
  {
   "cell_type": "markdown",
   "metadata": {},
   "source": [
    "---\n",
    "### Exercice 3"
   ]
  },
  {
   "cell_type": "code",
   "execution_count": 7,
   "metadata": {},
   "outputs": [],
   "source": [
    "def over_the_top(a, b, c):\n",
    "    \"\"\"Renvoie True si la somme des 3 paramètre a, b et c est strictement\n",
    "    supérieure à 1000, False sinon.\n",
    "    \"\"\"\n",
    "    \n",
    "    if a + b + c > 1000:\n",
    "        return True\n",
    "    else:\n",
    "        return False"
   ]
  },
  {
   "cell_type": "markdown",
   "metadata": {},
   "source": [
    "---\n",
    "### Exercice 4"
   ]
  },
  {
   "cell_type": "code",
   "execution_count": 8,
   "metadata": {},
   "outputs": [],
   "source": [
    "def moyenne(t):\n",
    "    \"\"\"Calcule la moyenne des nombres contenus dans le tableau t. \n",
    "    \n",
    "    On convient qu'un tableau vide donne une moyenne nulle.\n",
    "    \"\"\"\n",
    "    \n",
    "    if len(t) == 0:\n",
    "        moyenne = 0.0\n",
    "    else:\n",
    "        # On commence par calculer la somme des valeurs du tableau:\n",
    "        somme = 0\n",
    "        for valeur in t:\n",
    "            somme = somme + valeur\n",
    "            \n",
    "        # Puis on calcule la moyenne. Remarquons que len(t) > 0 puisqu'on est dans\n",
    "        # le 'else' de la condition len(t) == 0.\n",
    "        moyenne = somme / len(t)\n",
    "        \n",
    "    return moyenne\n",
    "        "
   ]
  },
  {
   "cell_type": "markdown",
   "metadata": {},
   "source": [
    "---\n",
    "### Exercice 5"
   ]
  },
  {
   "cell_type": "code",
   "execution_count": 9,
   "metadata": {},
   "outputs": [],
   "source": [
    "def prix(poids):\n",
    "    \"\"\"Retourne le prix (en euros) d'un envoi de colis en fonction du poids donné en paramètre.\n",
    "    \"\"\"\n",
    "    \n",
    "    if poids < 50:\n",
    "        prix = 7.5\n",
    "    elif poids < 150: # 50 <= poids < 150\n",
    "        prix = 9.0\n",
    "    else: # 150 <= poids\n",
    "        prix = 0.01*poids + 10\n",
    "        \n",
    "    return prix"
   ]
  },
  {
   "cell_type": "markdown",
   "metadata": {},
   "source": [
    "---\n",
    "### Exercice 6"
   ]
  },
  {
   "cell_type": "code",
   "execution_count": 10,
   "metadata": {},
   "outputs": [],
   "source": [
    "def shift(t):\n",
    "    \"\"\"Renvoie une copie du tableau t ayant subi une permutation circulaire \n",
    "    d'une unitée vers la droite.\n",
    "    \"\"\"\n",
    "    \n",
    "    longueur = len(t)\n",
    "    dernier_indice = longueur - 1\n",
    "    \n",
    "    copie = [None] * longueur\n",
    "    \n",
    "    # Le premier élément de la copie doit être traîté à part:\n",
    "    copie[0] = t[dernier_indice]\n",
    "    \n",
    "    # Pour les autres, on prend l'élément d'indice précédent dans t:\n",
    "    for i in range(1, longueur):\n",
    "        copie[i] = t[i - 1]\n",
    "    \n",
    "    return copie"
   ]
  },
  {
   "cell_type": "markdown",
   "metadata": {},
   "source": [
    "Et un petit test:"
   ]
  },
  {
   "cell_type": "code",
   "execution_count": 11,
   "metadata": {},
   "outputs": [
    {
     "data": {
      "text/plain": [
       "[0, 1, 4, 9, 16, 25, 36, 49, 64, 81]"
      ]
     },
     "execution_count": 11,
     "metadata": {},
     "output_type": "execute_result"
    }
   ],
   "source": [
    "t = [x*x for x in range(10)]\n",
    "t"
   ]
  },
  {
   "cell_type": "code",
   "execution_count": 12,
   "metadata": {},
   "outputs": [
    {
     "data": {
      "text/plain": [
       "[81, 0, 1, 4, 9, 16, 25, 36, 49, 64]"
      ]
     },
     "execution_count": 12,
     "metadata": {},
     "output_type": "execute_result"
    }
   ],
   "source": [
    "shift(t)"
   ]
  },
  {
   "cell_type": "markdown",
   "metadata": {},
   "source": [
    "On s'assure que c'est bien une copie qui a été retournée:"
   ]
  },
  {
   "cell_type": "code",
   "execution_count": 13,
   "metadata": {},
   "outputs": [
    {
     "data": {
      "text/plain": [
       "[0, 1, 4, 9, 16, 25, 36, 49, 64, 81]"
      ]
     },
     "execution_count": 13,
     "metadata": {},
     "output_type": "execute_result"
    }
   ],
   "source": [
    "t"
   ]
  }
 ],
 "metadata": {
  "kernelspec": {
   "display_name": "Python 3",
   "language": "python",
   "name": "python3"
  },
  "language_info": {
   "codemirror_mode": {
    "name": "ipython",
    "version": 3
   },
   "file_extension": ".py",
   "mimetype": "text/x-python",
   "name": "python",
   "nbconvert_exporter": "python",
   "pygments_lexer": "ipython3",
   "version": "3.7.4"
  }
 },
 "nbformat": 4,
 "nbformat_minor": 4
}

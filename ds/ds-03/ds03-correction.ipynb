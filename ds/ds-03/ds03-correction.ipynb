{
 "cells": [
  {
   "cell_type": "markdown",
   "metadata": {},
   "source": [
    "# DS n° 3\n",
    "\n",
    "## Correction"
   ]
  },
  {
   "cell_type": "markdown",
   "metadata": {},
   "source": [
    "---\n",
    "### Exercice 1"
   ]
  },
  {
   "cell_type": "markdown",
   "metadata": {},
   "source": [
    "#### Question 1: réponse (d)\n",
    "\n",
    "En effet, on rappelle qu'en python un tuple est *immuable*: il est donc impossible d'en modifier une composante à l'aide d'une syntaxe du type ```t[1] = 4```, qui est réservée aux tableaux ou aux dictionnaires qui, eux, sont modifiables."
   ]
  },
  {
   "cell_type": "code",
   "execution_count": 1,
   "metadata": {
    "tags": [
     "raises-exception"
    ]
   },
   "outputs": [
    {
     "ename": "TypeError",
     "evalue": "'tuple' object does not support item assignment",
     "output_type": "error",
     "traceback": [
      "\u001b[0;31m---------------------------------------------------------------------------\u001b[0m",
      "\u001b[0;31mTypeError\u001b[0m                                 Traceback (most recent call last)",
      "\u001b[0;32m<ipython-input-1-00fa9e5a2f8b>\u001b[0m in \u001b[0;36m<module>\u001b[0;34m\u001b[0m\n\u001b[1;32m      1\u001b[0m \u001b[0mt\u001b[0m \u001b[0;34m=\u001b[0m \u001b[0;34m(\u001b[0m\u001b[0;36m3\u001b[0m\u001b[0;34m,\u001b[0m \u001b[0;36m5\u001b[0m\u001b[0;34m,\u001b[0m \u001b[0;36m1\u001b[0m\u001b[0;34m)\u001b[0m\u001b[0;34m\u001b[0m\u001b[0;34m\u001b[0m\u001b[0m\n\u001b[0;32m----> 2\u001b[0;31m \u001b[0mt\u001b[0m\u001b[0;34m[\u001b[0m\u001b[0;36m1\u001b[0m\u001b[0;34m]\u001b[0m \u001b[0;34m=\u001b[0m \u001b[0;36m4\u001b[0m\u001b[0;34m\u001b[0m\u001b[0;34m\u001b[0m\u001b[0m\n\u001b[0m",
      "\u001b[0;31mTypeError\u001b[0m: 'tuple' object does not support item assignment"
     ]
    }
   ],
   "source": [
    "t = (3, 5, 1)\n",
    "t[1] = 4"
   ]
  },
  {
   "cell_type": "markdown",
   "metadata": {},
   "source": [
    "#### Question 2: réponse (b)\n",
    "\n",
    "L'instruction ```L[1] = 25``` remplace la *seconde* valeur du tableau (d'indice 1 puisque l'on part de 0) par 25.\n",
    "\n",
    "La réponse (d) aurait pu être tentante, mais il n'y a pas d'insertion d'élément dans le cas présent."
   ]
  },
  {
   "cell_type": "code",
   "execution_count": 2,
   "metadata": {},
   "outputs": [
    {
     "data": {
      "text/plain": [
       "[15, 25, 12, 23]"
      ]
     },
     "execution_count": 2,
     "metadata": {},
     "output_type": "execute_result"
    }
   ],
   "source": [
    "L = [15, 17, 12, 23]\n",
    "L[1] = 25\n",
    "L"
   ]
  },
  {
   "cell_type": "markdown",
   "metadata": {},
   "source": [
    "Remarquons qu'il est possible d'insérer un élément en python, en utilisant la méthode ```L.insert(position, valeur)``` comme suit:"
   ]
  },
  {
   "cell_type": "code",
   "execution_count": 3,
   "metadata": {},
   "outputs": [
    {
     "data": {
      "text/plain": [
       "[15, 25, 17, 12, 23]"
      ]
     },
     "execution_count": 3,
     "metadata": {},
     "output_type": "execute_result"
    }
   ],
   "source": [
    "L = [15, 17, 12, 23]\n",
    "L.insert(1, 25)\n",
    "L"
   ]
  },
  {
   "cell_type": "markdown",
   "metadata": {},
   "source": [
    "#### Question 3: réponse (c)"
   ]
  },
  {
   "cell_type": "code",
   "execution_count": 4,
   "metadata": {},
   "outputs": [],
   "source": [
    "L = [[1, 2, 3], [4, 5, 6], [7, 8, 9]]"
   ]
  },
  {
   "cell_type": "code",
   "execution_count": 5,
   "metadata": {},
   "outputs": [
    {
     "data": {
      "text/plain": [
       "6"
      ]
     },
     "execution_count": 5,
     "metadata": {},
     "output_type": "execute_result"
    }
   ],
   "source": [
    "L[1][2]"
   ]
  },
  {
   "cell_type": "markdown",
   "metadata": {},
   "source": [
    "Décomposons la dernière ligne afin d'en comprendre le mécanisme:"
   ]
  },
  {
   "cell_type": "code",
   "execution_count": 6,
   "metadata": {},
   "outputs": [
    {
     "data": {
      "text/plain": [
       "[4, 5, 6]"
      ]
     },
     "execution_count": 6,
     "metadata": {},
     "output_type": "execute_result"
    }
   ],
   "source": [
    "L[1]"
   ]
  },
  {
   "cell_type": "markdown",
   "metadata": {},
   "source": [
    "En effet, ```L``` est un tableau de tableaux (les valeurs sont elles-mêmes des tableaux). La syntaxe ```L[1]``` renvoie donc le *deuxième* élément (les indices démarrent à 0) du tableau."
   ]
  },
  {
   "cell_type": "code",
   "execution_count": 7,
   "metadata": {},
   "outputs": [
    {
     "data": {
      "text/plain": [
       "6"
      ]
     },
     "execution_count": 7,
     "metadata": {},
     "output_type": "execute_result"
    }
   ],
   "source": [
    "[4, 5, 6][2]"
   ]
  },
  {
   "cell_type": "markdown",
   "metadata": {},
   "source": [
    "La deuxième paire de crochets récupère le *troisième* élément de ce sous-tableau, à savoir 6."
   ]
  },
  {
   "cell_type": "markdown",
   "metadata": {},
   "source": [
    "#### Question 4: réponse (a)\n",
    "\n",
    "La syntaxe ```for valeur in dictionnaire:``` parcourt toujours les *clés* du dictionnaire."
   ]
  },
  {
   "cell_type": "code",
   "execution_count": 8,
   "metadata": {},
   "outputs": [],
   "source": [
    "d = {'if': 'si', 'yes': 'oui', 'no': 'non'}"
   ]
  },
  {
   "cell_type": "code",
   "execution_count": 9,
   "metadata": {},
   "outputs": [
    {
     "name": "stdout",
     "output_type": "stream",
     "text": [
      "if\n",
      "yes\n",
      "no\n"
     ]
    }
   ],
   "source": [
    "for a in d:\n",
    "    print(a)"
   ]
  },
  {
   "cell_type": "markdown",
   "metadata": {},
   "source": [
    "Si on veut une boucle sur les valeurs:"
   ]
  },
  {
   "cell_type": "code",
   "execution_count": 10,
   "metadata": {},
   "outputs": [
    {
     "name": "stdout",
     "output_type": "stream",
     "text": [
      "si\n",
      "oui\n",
      "non\n"
     ]
    }
   ],
   "source": [
    "for a in d.values():\n",
    "    print(a)"
   ]
  },
  {
   "cell_type": "markdown",
   "metadata": {},
   "source": [
    "Et enfin si on veut une boucle sur les couples ```(clé, valeur)```:"
   ]
  },
  {
   "cell_type": "code",
   "execution_count": 11,
   "metadata": {},
   "outputs": [
    {
     "name": "stdout",
     "output_type": "stream",
     "text": [
      "('if', 'si')\n",
      "('yes', 'oui')\n",
      "('no', 'non')\n"
     ]
    }
   ],
   "source": [
    "for a in d.items():\n",
    "    print(a)"
   ]
  },
  {
   "cell_type": "markdown",
   "metadata": {},
   "source": [
    "Remarquons que, dans ce dernier cas, il est souvent utile de déréférencer directement les deux composantes du tuple dans la syntaxe même de la boucle:"
   ]
  },
  {
   "cell_type": "code",
   "execution_count": 12,
   "metadata": {},
   "outputs": [
    {
     "name": "stdout",
     "output_type": "stream",
     "text": [
      "if se traduit en si\n",
      "yes se traduit en oui\n",
      "no se traduit en non\n"
     ]
    }
   ],
   "source": [
    "for a, b in d.items():\n",
    "    print(a, 'se traduit en', b)"
   ]
  },
  {
   "cell_type": "markdown",
   "metadata": {},
   "source": [
    "#### Question 5: réponse (a)"
   ]
  },
  {
   "cell_type": "code",
   "execution_count": 13,
   "metadata": {},
   "outputs": [
    {
     "data": {
      "text/plain": [
       "[[0, 1], [1, 2]]"
      ]
     },
     "execution_count": 13,
     "metadata": {},
     "output_type": "execute_result"
    }
   ],
   "source": [
    "L = [[i, i + 1] for i in range(2)]\n",
    "L"
   ]
  },
  {
   "cell_type": "markdown",
   "metadata": {},
   "source": [
    "Cette création de tableau par compréhension crée en fait un tableau contenant des tableaux de longueur 2, ce qui exclut d'emblée les deux dernières réponses. En se souvenant que ```range(2)``` crée l'intervalle des entiers entre 0 et 1, on obtient alors la première réponse."
   ]
  },
  {
   "cell_type": "markdown",
   "metadata": {},
   "source": [
    "---\n",
    "### Exercice 2"
   ]
  },
  {
   "cell_type": "code",
   "execution_count": 14,
   "metadata": {},
   "outputs": [],
   "source": [
    "from random import randint"
   ]
  },
  {
   "cell_type": "markdown",
   "metadata": {},
   "source": [
    "#### Version 1\n",
    "\n",
    "On crée d'emblée un tableau à la bonne taille, que l'on remplit ensuite élément par élément:"
   ]
  },
  {
   "cell_type": "code",
   "execution_count": 15,
   "metadata": {},
   "outputs": [
    {
     "data": {
      "text/plain": [
       "'[85, 73, 44, 97, 27, 16, 42, 31, 12, 65, 12, 51, 76, 87, 9, 75, 20, 45, 72, 70, 50, 36, 22, 64, 44]'"
      ]
     },
     "execution_count": 15,
     "metadata": {},
     "output_type": "execute_result"
    }
   ],
   "source": [
    "t = [None] * 25\n",
    "for i in range(25):\n",
    "    t[i] = randint(1, 100)\n",
    "# On veut que le tableau soit affiché en ligne, plutôt qu'en colonne dans jupyter lab\n",
    "repr(t)"
   ]
  },
  {
   "cell_type": "markdown",
   "metadata": {},
   "source": [
    "#### Version 2\n",
    "\n",
    "On crée un tableau vide, que l'on remplit ensuite à l'aide d'```append```:"
   ]
  },
  {
   "cell_type": "code",
   "execution_count": 16,
   "metadata": {},
   "outputs": [
    {
     "data": {
      "text/plain": [
       "'[26, 33, 75, 89, 46, 97, 100, 2, 2, 4, 93, 95, 7, 16, 93, 13, 27, 58, 75, 78, 34, 16, 24, 68, 62]'"
      ]
     },
     "execution_count": 16,
     "metadata": {},
     "output_type": "execute_result"
    }
   ],
   "source": [
    "t = []\n",
    "for _ in range(25):\n",
    "    t.append(randint(1, 100))\n",
    "repr(t)"
   ]
  },
  {
   "cell_type": "markdown",
   "metadata": {},
   "source": [
    "#### Version 3\n",
    "\n",
    "On utilise une compréhension de liste."
   ]
  },
  {
   "cell_type": "code",
   "execution_count": 17,
   "metadata": {},
   "outputs": [
    {
     "data": {
      "text/plain": [
       "'[11, 9, 13, 94, 47, 3, 99, 19, 8, 81, 58, 57, 72, 65, 17, 21, 85, 5, 23, 68, 87, 18, 68, 7, 77]'"
      ]
     },
     "execution_count": 17,
     "metadata": {},
     "output_type": "execute_result"
    }
   ],
   "source": [
    "t = [randint(1, 100) for _ in range(25)]\n",
    "repr(t)"
   ]
  },
  {
   "cell_type": "markdown",
   "metadata": {},
   "source": [
    "---\n",
    "### Exercice 3"
   ]
  },
  {
   "cell_type": "code",
   "execution_count": 18,
   "metadata": {},
   "outputs": [],
   "source": [
    "def multiplie(t, n):\n",
    "    \"\"\"Renvoie une copie du tableau t dans laquelle chaque élément (qui doit être un nombre)\n",
    "    a été multiplié par n.\n",
    "    \"\"\"\n",
    "    \n",
    "    longueur = len(t)\n",
    "    copie = [None] * longueur\n",
    "    \n",
    "    for i in range(longueur):\n",
    "        copie[i] = t[i] * n\n",
    "        \n",
    "    return copie"
   ]
  },
  {
   "cell_type": "code",
   "execution_count": 19,
   "metadata": {},
   "outputs": [
    {
     "data": {
      "text/plain": [
       "[-0.0, -1.5, -6.0, -13.5, -24.0, -37.5, -54.0, -73.5, -96.0, -121.5]"
      ]
     },
     "execution_count": 19,
     "metadata": {},
     "output_type": "execute_result"
    }
   ],
   "source": [
    "t = [x*x for x in range(10)]\n",
    "multiplie(t, -1.5)"
   ]
  },
  {
   "cell_type": "markdown",
   "metadata": {},
   "source": [
    "On s'assure que le tableau renvoyé est bien une copie, et non pas une modification de l'original:"
   ]
  },
  {
   "cell_type": "code",
   "execution_count": 20,
   "metadata": {},
   "outputs": [
    {
     "data": {
      "text/plain": [
       "[0, 1, 4, 9, 16, 25, 36, 49, 64, 81]"
      ]
     },
     "execution_count": 20,
     "metadata": {},
     "output_type": "execute_result"
    }
   ],
   "source": [
    "t"
   ]
  },
  {
   "cell_type": "markdown",
   "metadata": {},
   "source": [
    "---\n",
    "### Exercice 4"
   ]
  },
  {
   "cell_type": "markdown",
   "metadata": {},
   "source": [
    "#### Question 1"
   ]
  },
  {
   "cell_type": "code",
   "execution_count": 21,
   "metadata": {},
   "outputs": [],
   "source": [
    "def mystère(t):\n",
    "    m = t[0]\n",
    "    for élément in t:\n",
    "        if élément < m:\n",
    "            m = élément\n",
    "    return m"
   ]
  },
  {
   "cell_type": "markdown",
   "metadata": {},
   "source": [
    "On reconnaît là l'algorithme de recherche du minimum dans un tableau (on parcourt tous les éléments du tableau. ```m``` contient la plus petite valeur vue jusque là, et est réduite si on croise une valeur inférieure)."
   ]
  },
  {
   "cell_type": "markdown",
   "metadata": {},
   "source": [
    "#### Question 2"
   ]
  },
  {
   "cell_type": "markdown",
   "metadata": {},
   "source": [
    "**Remarque très importante:** il ne suffit pas de changer les noms de variables pour changer l'effet d'une fonction. En effet, la fonction suivante est strictement identique à la première, bien que les noms des variables (y compris de la fonction) soient changés."
   ]
  },
  {
   "cell_type": "code",
   "execution_count": 22,
   "metadata": {},
   "outputs": [],
   "source": [
    "def maximum(t):\n",
    "    maxi = t[0]\n",
    "    for élément in t:\n",
    "        if élément < maxi:\n",
    "            maxi = élément\n",
    "    return maxi"
   ]
  },
  {
   "cell_type": "code",
   "execution_count": 23,
   "metadata": {},
   "outputs": [
    {
     "data": {
      "text/plain": [
       "[2, -1, 0, 2, 0, 0, 0, 2, 0, 0, -2, 2, -1, -2, -1, -2, 0, -1, 1, -1]"
      ]
     },
     "execution_count": 23,
     "metadata": {},
     "output_type": "execute_result"
    }
   ],
   "source": [
    "t = [randint(-2, 2) for _ in range(20)]\n",
    "t"
   ]
  },
  {
   "cell_type": "code",
   "execution_count": 24,
   "metadata": {},
   "outputs": [
    {
     "data": {
      "text/plain": [
       "-2"
      ]
     },
     "execution_count": 24,
     "metadata": {},
     "output_type": "execute_result"
    }
   ],
   "source": [
    "mystère(t)"
   ]
  },
  {
   "cell_type": "code",
   "execution_count": 25,
   "metadata": {},
   "outputs": [
    {
     "data": {
      "text/plain": [
       "-2"
      ]
     },
     "execution_count": 25,
     "metadata": {},
     "output_type": "execute_result"
    }
   ],
   "source": [
    "maximum(t)"
   ]
  },
  {
   "cell_type": "markdown",
   "metadata": {},
   "source": [
    "C'est une erreur courante chez les débutants: il ne faut pas attribuer une quelconque valeur aux noms des variables ou des fonctions, ceux-ci n'ont de signification que pour les humains, certainement pas par python.\n",
    "\n",
    "D'ailleurs, on pourrait écrire la chose suivante:"
   ]
  },
  {
   "cell_type": "code",
   "execution_count": 26,
   "metadata": {},
   "outputs": [],
   "source": [
    "def cerise(gâteau):\n",
    "    chocolat = gâteau[0]\n",
    "    for crême in gâteau:\n",
    "        if crême < chocolat:\n",
    "            chocolat = crême\n",
    "    return chocolat"
   ]
  },
  {
   "cell_type": "code",
   "execution_count": 27,
   "metadata": {},
   "outputs": [
    {
     "data": {
      "text/plain": [
       "-2"
      ]
     },
     "execution_count": 27,
     "metadata": {},
     "output_type": "execute_result"
    }
   ],
   "source": [
    "cerise(t)"
   ]
  },
  {
   "cell_type": "markdown",
   "metadata": {},
   "source": [
    "Là encore, la fonction est strictement identique d'un point de vue *sémantique* (c'est-à-dire pour ce qui est de son effet sur une valeur donnée), bien que les noms des variables soient ici des plus fantaisistes."
   ]
  },
  {
   "cell_type": "markdown",
   "metadata": {},
   "source": [
    "Voici donc la fonction demandée qui calcule le maximum ainsi que le nombre d'occurences de ce maximum."
   ]
  },
  {
   "cell_type": "markdown",
   "metadata": {},
   "source": [
    "##### Version 1:\n",
    "\n",
    "On calcule d'abord le maximum, puis on compte le nombre d'occurences dans un second temps\n"
   ]
  },
  {
   "cell_type": "code",
   "execution_count": 28,
   "metadata": {},
   "outputs": [],
   "source": [
    "def maximum(t):\n",
    "    maxi = t[0]\n",
    "    for élément in t:\n",
    "        if élément > maxi:\n",
    "            maxi = élément\n",
    "            \n",
    "    compteur = 0\n",
    "    for élément in t:\n",
    "        if élément == maxi:\n",
    "            compteur = compteur + 1\n",
    "            \n",
    "    return maxi, compteur"
   ]
  },
  {
   "cell_type": "code",
   "execution_count": 29,
   "metadata": {},
   "outputs": [
    {
     "data": {
      "text/plain": [
       "(2, 4)"
      ]
     },
     "execution_count": 29,
     "metadata": {},
     "output_type": "execute_result"
    }
   ],
   "source": [
    "maximum(t)"
   ]
  },
  {
   "cell_type": "markdown",
   "metadata": {},
   "source": [
    "##### Version 2:\n",
    "\n",
    "On calcule le maximum et son effectif dans une même boucle"
   ]
  },
  {
   "cell_type": "code",
   "execution_count": 30,
   "metadata": {},
   "outputs": [],
   "source": [
    "def maximum(t):\n",
    "    maxi = t[0]\n",
    "    compteur = 1 # Techniquement, le maximum actuel a été vu une seule fois (pour l'instant)\n",
    "    for élément in t:\n",
    "        if élément > maxi:\n",
    "            # L'ancien maximum n'est plus valable: il faut réinitialiser le compteur à 1.\n",
    "            maxi = élément\n",
    "            compteur = 1\n",
    "        elif élément == maxi:\n",
    "            # On a déjà vu ce maximum (même temporaire)\n",
    "            compteur = compteur + 1\n",
    "            \n",
    "    return maxi, compteur"
   ]
  },
  {
   "cell_type": "code",
   "execution_count": 31,
   "metadata": {},
   "outputs": [
    {
     "data": {
      "text/plain": [
       "(2, 5)"
      ]
     },
     "execution_count": 31,
     "metadata": {},
     "output_type": "execute_result"
    }
   ],
   "source": [
    "maximum(t)"
   ]
  },
  {
   "cell_type": "markdown",
   "metadata": {},
   "source": [
    "### Exercice 5:"
   ]
  },
  {
   "cell_type": "code",
   "execution_count": 32,
   "metadata": {},
   "outputs": [],
   "source": [
    "dico = {\n",
    "    'oui':'yes', 'chien':'dog', 'distance':'distance', 'chocolat':'chocolate', \n",
    "    'oiseau':'bird', 'feu':'fire', 'suite':'sequence', 'python':'python'\n",
    "}"
   ]
  },
  {
   "cell_type": "markdown",
   "metadata": {},
   "source": [
    "#### Question 1"
   ]
  },
  {
   "cell_type": "code",
   "execution_count": 33,
   "metadata": {},
   "outputs": [],
   "source": [
    "def traduction(mot, dico):\n",
    "    if mot in dico:\n",
    "        return dico[mot]\n",
    "    else:\n",
    "        return '?'"
   ]
  },
  {
   "cell_type": "code",
   "execution_count": 34,
   "metadata": {},
   "outputs": [
    {
     "data": {
      "text/plain": [
       "'bird'"
      ]
     },
     "execution_count": 34,
     "metadata": {},
     "output_type": "execute_result"
    }
   ],
   "source": [
    "traduction('oiseau', dico)"
   ]
  },
  {
   "cell_type": "code",
   "execution_count": 35,
   "metadata": {},
   "outputs": [
    {
     "data": {
      "text/plain": [
       "'?'"
      ]
     },
     "execution_count": 35,
     "metadata": {},
     "output_type": "execute_result"
    }
   ],
   "source": [
    "traduction('pimprenelle', dico)"
   ]
  },
  {
   "cell_type": "markdown",
   "metadata": {},
   "source": [
    "#### Question 2"
   ]
  },
  {
   "cell_type": "code",
   "execution_count": 36,
   "metadata": {},
   "outputs": [],
   "source": [
    "def identiques(dico):\n",
    "    mots_identiques = []\n",
    "    \n",
    "    for mot in dico:\n",
    "        if mot == dico[mot]:\n",
    "            mots_identiques.append(mot)\n",
    "            \n",
    "    return mots_identiques"
   ]
  },
  {
   "cell_type": "code",
   "execution_count": 37,
   "metadata": {},
   "outputs": [
    {
     "data": {
      "text/plain": [
       "['distance', 'python']"
      ]
     },
     "execution_count": 37,
     "metadata": {},
     "output_type": "execute_result"
    }
   ],
   "source": [
    "identiques(dico)"
   ]
  },
  {
   "cell_type": "markdown",
   "metadata": {},
   "source": [
    "#### Question 3"
   ]
  },
  {
   "cell_type": "code",
   "execution_count": 38,
   "metadata": {},
   "outputs": [],
   "source": [
    "def inverse(dico):\n",
    "    dico_inversé = {}\n",
    "    \n",
    "    for mot in dico:\n",
    "        dico_inversé[dico[mot]] = mot\n",
    "        \n",
    "    return dico_inversé"
   ]
  },
  {
   "cell_type": "code",
   "execution_count": 39,
   "metadata": {},
   "outputs": [
    {
     "data": {
      "text/plain": [
       "{'yes': 'oui',\n",
       " 'dog': 'chien',\n",
       " 'distance': 'distance',\n",
       " 'chocolate': 'chocolat',\n",
       " 'bird': 'oiseau',\n",
       " 'fire': 'feu',\n",
       " 'sequence': 'suite',\n",
       " 'python': 'python'}"
      ]
     },
     "execution_count": 39,
     "metadata": {},
     "output_type": "execute_result"
    }
   ],
   "source": [
    "inverse(dico)"
   ]
  },
  {
   "cell_type": "markdown",
   "metadata": {},
   "source": [
    "### Exercice 6"
   ]
  },
  {
   "cell_type": "code",
   "execution_count": 40,
   "metadata": {},
   "outputs": [],
   "source": [
    "résultats = [\n",
    "    ('Théo', 12.5),\n",
    "    ('Magdalène', 16),\n",
    "    ('Antonin', 4.5),\n",
    "    ('Valériane', 10.35),\n",
    "    ('Max', 14)\n",
    "]"
   ]
  },
  {
   "cell_type": "markdown",
   "metadata": {},
   "source": [
    "#### Question 1"
   ]
  },
  {
   "cell_type": "code",
   "execution_count": 41,
   "metadata": {},
   "outputs": [],
   "source": [
    "def mentions(L):\n",
    "    table_mentions = []\n",
    "    \n",
    "    for élève, note in L:\n",
    "        if note < 12:\n",
    "            mention = ''\n",
    "        elif note < 14:\n",
    "            mention = 'Assez bien'\n",
    "        elif note < 16:\n",
    "            mention = 'Bien'\n",
    "        else:\n",
    "            mention = 'Très bien'\n",
    "            \n",
    "        table_mentions.append((élève, mention))\n",
    "        \n",
    "    return table_mentions"
   ]
  },
  {
   "cell_type": "code",
   "execution_count": 42,
   "metadata": {},
   "outputs": [
    {
     "data": {
      "text/plain": [
       "[('Théo', 'Assez bien'),\n",
       " ('Magdalène', 'Très bien'),\n",
       " ('Antonin', ''),\n",
       " ('Valériane', ''),\n",
       " ('Max', 'Bien')]"
      ]
     },
     "execution_count": 42,
     "metadata": {},
     "output_type": "execute_result"
    }
   ],
   "source": [
    "mentions(résultats)"
   ]
  },
  {
   "cell_type": "markdown",
   "metadata": {},
   "source": [
    "#### Question 2"
   ]
  },
  {
   "cell_type": "code",
   "execution_count": 43,
   "metadata": {},
   "outputs": [],
   "source": [
    "def major(L):\n",
    "    meilleur_élève, note_maxi = L[0]\n",
    "    \n",
    "    # On recherche la note maximale comme pour l'exercice 4, mais on doit aussi garder en \n",
    "    # mémoire le nom de l'élève qui a obtenu la meilleure note vue jusqu'à présent\n",
    "    for élève, note in L:\n",
    "        if note > note_maxi:\n",
    "            note_maxi = note\n",
    "            meilleur_élève = élève\n",
    "    \n",
    "    return meilleur_élève"
   ]
  },
  {
   "cell_type": "code",
   "execution_count": 44,
   "metadata": {},
   "outputs": [
    {
     "data": {
      "text/plain": [
       "'Magdalène'"
      ]
     },
     "execution_count": 44,
     "metadata": {},
     "output_type": "execute_result"
    }
   ],
   "source": [
    "major(résultats)"
   ]
  },
  {
   "cell_type": "markdown",
   "metadata": {},
   "source": [
    "#### Question 3 (bonus)"
   ]
  },
  {
   "cell_type": "markdown",
   "metadata": {},
   "source": [
    "La fonction demandée ressemble à s'y méprendre à la fin de l'exercice 4, mais en utilisant un tableau plutôt qu'un compteur:"
   ]
  },
  {
   "cell_type": "code",
   "execution_count": 45,
   "metadata": {},
   "outputs": [],
   "source": [
    "def majors(L):\n",
    "    élève, note_maxi = L[0]\n",
    "    \n",
    "    # La liste des meilleurs élèves rencontrés jusqu'à présent:\n",
    "    meilleurs_élèves = [élève]\n",
    "    \n",
    "    for élève, note in L:\n",
    "        if note > note_maxi:\n",
    "            # La meilleure note vue jusqu'à présent vient de changer: on doit réinitialiser\n",
    "            # la liste des meilleurs élèves vus jusqu'à présent\n",
    "        \n",
    "            note_maxi = note\n",
    "            meilleurs_élèves = [élève]\n",
    "        elif note == note_maxi:\n",
    "            # Un élève ayant lui aussi la meilleure note (ex aequo): on le rajoute à la liste\n",
    "            meilleurs_élèves.append(élève)\n",
    "    \n",
    "    return meilleurs_élèves"
   ]
  },
  {
   "cell_type": "code",
   "execution_count": 46,
   "metadata": {},
   "outputs": [
    {
     "data": {
      "text/plain": [
       "['Magdalène']"
      ]
     },
     "execution_count": 46,
     "metadata": {},
     "output_type": "execute_result"
    }
   ],
   "source": [
    "majors(résultats)"
   ]
  },
  {
   "cell_type": "code",
   "execution_count": 47,
   "metadata": {},
   "outputs": [],
   "source": [
    "résultats.append(('Bastien', 16))"
   ]
  },
  {
   "cell_type": "code",
   "execution_count": 48,
   "metadata": {},
   "outputs": [
    {
     "data": {
      "text/plain": [
       "['Magdalène', 'Bastien']"
      ]
     },
     "execution_count": 48,
     "metadata": {},
     "output_type": "execute_result"
    }
   ],
   "source": [
    "majors(résultats)"
   ]
  }
 ],
 "metadata": {
  "kernelspec": {
   "display_name": "Python 3",
   "language": "python",
   "name": "python3"
  },
  "language_info": {
   "codemirror_mode": {
    "name": "ipython",
    "version": 3
   },
   "file_extension": ".py",
   "mimetype": "text/x-python",
   "name": "python",
   "nbconvert_exporter": "python",
   "pygments_lexer": "ipython3",
   "version": "3.7.4"
  }
 },
 "nbformat": 4,
 "nbformat_minor": 4
}

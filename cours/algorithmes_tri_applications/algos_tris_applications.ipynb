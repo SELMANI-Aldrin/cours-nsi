{
 "cells": [
  {
   "cell_type": "markdown",
   "metadata": {},
   "source": [
    "# Algorithmes de tri: applications"
   ]
  },
  {
   "cell_type": "markdown",
   "metadata": {},
   "source": [
    "## Tri par sélection: algorithme de base"
   ]
  },
  {
   "cell_type": "code",
   "execution_count": 56,
   "metadata": {},
   "outputs": [],
   "source": [
    "def tri_sélection(t):\n",
    "    for i in range(len(t)):\n",
    "        mini = t[i]\n",
    "        indice_mini = i\n",
    "        for j in range(i + 1, len(t)):\n",
    "            if t[j] < mini:\n",
    "                mini = t[j]\n",
    "                indice_mini = j\n",
    "        t[i], t[indice_mini] = t[indice_mini], t[i]"
   ]
  },
  {
   "cell_type": "markdown",
   "metadata": {},
   "source": [
    "## Application 1 : ordre croissant / décroissant"
   ]
  },
  {
   "cell_type": "markdown",
   "metadata": {},
   "source": [
    "## Application 2 : Tri sur des tuples"
   ]
  },
  {
   "cell_type": "code",
   "execution_count": 59,
   "metadata": {},
   "outputs": [],
   "source": [
    "t1 = [\n",
    "    ('Pascal', 'Blaise', 1623),\n",
    "    ('Emmanuel', 'Kant', 1724),\n",
    "    ('Friedrich', 'Nietzsche', 1844),\n",
    "    ('René', 'Descartes', 1596)\n",
    "]"
   ]
  },
  {
   "cell_type": "code",
   "execution_count": 64,
   "metadata": {},
   "outputs": [
    {
     "data": {
      "text/plain": [
       "[('Jules', 'Duchemin', '1ère 1'),\n",
       " ('Perrine', 'Duchemin', '1ère 2'),\n",
       " ('Séraphine', 'Galois', '1ère 2'),\n",
       " ('Amandine', 'Galois', '1ère 1'),\n",
       " ('Perrine', 'Dupont', '1ère 2'),\n",
       " ('Gaspard', 'Valois', '1ère 2'),\n",
       " ('Jules', 'Dubois', '1ère 1'),\n",
       " ('Julien', 'Ledouble', '1ère 2'),\n",
       " ('Célia', 'Valois', '1ère 1'),\n",
       " ('Zoé', 'Legrand', '1ère 3'),\n",
       " ('Mickaël', 'Galois', '1ère 2'),\n",
       " ('Amandine', 'Fresnet', '1ère 3'),\n",
       " ('Julia', 'Dupuis', '1ère 2'),\n",
       " ('Perrine', 'Valois', '1ère 3'),\n",
       " ('Théo', 'Dupuis', '1ère 2'),\n",
       " ('Sophie', 'Valois', '1ère 2'),\n",
       " ('Mickaël', 'Dubois', '1ère 3'),\n",
       " ('Gabin', 'Fresnet', '1ère 3'),\n",
       " ('Julia', 'Fresnet', '1ère 1'),\n",
       " ('Maxens', 'Valois', '1ère 3'),\n",
       " ('Sophie', 'Fresnet', '1ère 2'),\n",
       " ('Julien', 'Valois', '1ère 2'),\n",
       " ('Julie', 'Duchemin', '1ère 3'),\n",
       " ('Célia', 'Dupuis', '1ère 2'),\n",
       " ('Jules', 'Duchemin', '1ère 3'),\n",
       " ('Julie', 'Duchemin', '1ère 2'),\n",
       " ('Célia', 'Ledouble', '1ère 2'),\n",
       " ('Séraphine', 'Duchemin', '1ère 3'),\n",
       " ('Valentin', 'Valois', '1ère 2'),\n",
       " ('Claire', 'Ledouble', '1ère 1'),\n",
       " ('Gabin', 'Dubois', '1ère 1'),\n",
       " ('Célia', 'Ledouble', '1ère 2'),\n",
       " ('Sophie', 'Legoff', '1ère 1'),\n",
       " ('Mickaël', 'Fresnet', '1ère 1'),\n",
       " ('Célia', 'Fresnet', '1ère 3'),\n",
       " ('Julia', 'Valois', '1ère 3'),\n",
       " ('Maxime', 'Valois', '1ère 3'),\n",
       " ('Julie', 'Duchemin', '1ère 1'),\n",
       " ('Maxime', 'Valois', '1ère 3'),\n",
       " ('Jules', 'Fresnet', '1ère 1'),\n",
       " ('Gabin', 'Dupuis', '1ère 1'),\n",
       " ('Théo', 'Valois', '1ère 2'),\n",
       " ('Amandine', 'Valois', '1ère 1'),\n",
       " ('Théo', 'Dupuis', '1ère 2'),\n",
       " ('Amandine', 'Dubois', '1ère 3'),\n",
       " ('Zoé', 'Fresnet', '1ère 2'),\n",
       " ('Gabin', 'Dupuis', '1ère 1'),\n",
       " ('Julie', 'Legrand', '1ère 2'),\n",
       " ('Sophie', 'Dupuis', '1ère 2'),\n",
       " ('Julia', 'Legrand', '1ère 1')]"
      ]
     },
     "execution_count": 64,
     "metadata": {},
     "output_type": "execute_result"
    }
   ],
   "source": [
    "prénoms = [\n",
    "    \"Théo\", \"Quentin\", \"Maxime\", \"Jules\", \"Gaspard\", \n",
    "    \"Valentin\", \"Mickaël\", \"Julien\", \"Maxens\", \"Gabin\",\n",
    "    \"Perrine\", \"Zoé\", \"Séraphine\", \"Sophie\", \"Claire\",\n",
    "    \"Amandine\", \"Julia\", \"Julie\", \"Céline\", \"Célia\"\n",
    "]\n",
    "\n",
    "noms = [\n",
    "    \"Legoff\", \"Dupont\", \"Dupuis\", \"Dubois\", \"Legrand\",\n",
    "    \"Ledouble\", \"Duchemin\", \"Valois\", \"Fresnet\", \"Galois\"\n",
    "]\n",
    "\n",
    "classes = [\"1ère 1\", \"1ère 2\", \"1ère 3\"]\n",
    "\n",
    "from random import choice\n",
    "def élève_aléatoire():\n",
    "    return choice(prénoms), choice(noms), choice(classes)\n",
    "\n",
    "N = 50\n",
    "liste_élèves = [élève_aléatoire() for _ in range(N)]\n",
    "liste_élèves"
   ]
  },
  {
   "cell_type": "markdown",
   "metadata": {},
   "source": [
    "## Application 3 : Tri sur des dictionnaires"
   ]
  },
  {
   "cell_type": "code",
   "execution_count": 44,
   "metadata": {},
   "outputs": [],
   "source": [
    "t2 = [\n",
    "    {\"prénom\": \"Pascal\", \"nom\": \"Blaise\", \"naissance\": 1623},\n",
    "    {\"prénom\": \"Emmanuel\", \"nom\": \"Kant\", \"naissance\": 1724},\n",
    "    {\"prénom\": \"Friedrich\", \"nom\": \"Nietzsche\", \"naissance\": 1844},\n",
    "    {\"prénom\": \"René\", \"nom\": \"Descartes\", \"naissance\": 1596},\n",
    "]"
   ]
  },
  {
   "cell_type": "code",
   "execution_count": 51,
   "metadata": {},
   "outputs": [],
   "source": [
    "from data import lecture_fichier"
   ]
  },
  {
   "cell_type": "markdown",
   "metadata": {},
   "source": [
    "## Application 4 : Tri sur des données volumineuses (big data)"
   ]
  },
  {
   "cell_type": "code",
   "execution_count": 46,
   "metadata": {},
   "outputs": [],
   "source": [
    "voitures = lecture_fichier()"
   ]
  },
  {
   "cell_type": "code",
   "execution_count": 65,
   "metadata": {},
   "outputs": [
    {
     "data": {
      "text/plain": [
       "5525"
      ]
     },
     "execution_count": 65,
     "metadata": {},
     "output_type": "execute_result"
    }
   ],
   "source": [
    "len(voitures)"
   ]
  },
  {
   "cell_type": "code",
   "execution_count": 66,
   "metadata": {},
   "outputs": [
    {
     "data": {
      "text/plain": [
       "{'marque': 'Skoda',\n",
       " 'modèle': 'Fabia Combi 1.2L (60Ch) Bvm5',\n",
       " 'puissance': 44,\n",
       " 'consommation moyenne': 5.5,\n",
       " 'co2': 128,\n",
       " 'nox': 0.017000001}"
      ]
     },
     "execution_count": 66,
     "metadata": {},
     "output_type": "execute_result"
    }
   ],
   "source": [
    "voitures[0]"
   ]
  },
  {
   "cell_type": "code",
   "execution_count": null,
   "metadata": {},
   "outputs": [],
   "source": []
  }
 ],
 "metadata": {
  "kernelspec": {
   "display_name": "Python 3",
   "language": "python",
   "name": "python3"
  },
  "language_info": {
   "codemirror_mode": {
    "name": "ipython",
    "version": 3
   },
   "file_extension": ".py",
   "mimetype": "text/x-python",
   "name": "python",
   "nbconvert_exporter": "python",
   "pygments_lexer": "ipython3",
   "version": "3.7.4"
  }
 },
 "nbformat": 4,
 "nbformat_minor": 4
}

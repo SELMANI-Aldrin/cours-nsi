{
 "cells": [
  {
   "cell_type": "markdown",
   "metadata": {},
   "source": [
    "# Un second algorithme de tri: Le tri par insertion"
   ]
  },
  {
   "cell_type": "markdown",
   "metadata": {},
   "source": [
    "## Initialisation du notebook"
   ]
  },
  {
   "cell_type": "code",
   "execution_count": 11,
   "metadata": {},
   "outputs": [],
   "source": [
    "from IPython.display import HTML, display\n",
    "from IPython.core.magic import register_line_cell_magic\n",
    "import urllib.parse\n",
    "\n",
    "@register_line_cell_magic\n",
    "def tutor(line, cell):\n",
    "    code = urllib.parse.urlencode({\"code\": cell})\n",
    "    display(HTML(\"\"\"\n",
    "    <iframe width=\"800\" height=\"500\" frameborder=\"0\"\n",
    "            src=\"http://pythontutor.com/iframe-embed.html#%s&py=3\">\n",
    "    </iframe>\n",
    "    \"\"\" % code))"
   ]
  },
  {
   "cell_type": "markdown",
   "metadata": {},
   "source": [
    "## Exécution de tous les doctests"
   ]
  },
  {
   "cell_type": "code",
   "execution_count": 28,
   "metadata": {},
   "outputs": [
    {
     "data": {
      "text/plain": [
       "TestResults(failed=0, attempted=36)"
      ]
     },
     "execution_count": 28,
     "metadata": {},
     "output_type": "execute_result"
    }
   ],
   "source": [
    "import doctest\n",
    "doctest.testmod(verbose=False)"
   ]
  },
  {
   "cell_type": "markdown",
   "metadata": {},
   "source": [
    "## Insertion d'un élément dans un tableau"
   ]
  },
  {
   "cell_type": "markdown",
   "metadata": {},
   "source": [
    "### Insertion à une position donnée"
   ]
  },
  {
   "cell_type": "markdown",
   "metadata": {},
   "source": [
    "On dispose d'un tableau d'éléments quelconques. On aimerait insérer un élément à un indice donné, en décallant toutes les valeurs à partir de cet indice d'une unité vers la droite."
   ]
  },
  {
   "cell_type": "markdown",
   "metadata": {},
   "source": [
    "Une telle fonction d'insertion existe déjà en python (```t.insert(position)```), mais nous allons en étudier l'algorithme ici. \n",
    "\n",
    "Afin de rajouter un élément dans un tableau, on suppose que seule la fonction ```append(valeur)``` est utilisable: celle-ci place évidemment la valeur au *bout* du tableau."
   ]
  },
  {
   "cell_type": "markdown",
   "metadata": {},
   "source": [
    "#### Commençons par un exemple\n",
    "\n",
    "On considère le tableau ```t = [5, 0, 4, 5, 2, 2, 3]```.\n",
    "\n",
    "Insérer la valeur 8 à la position d'indice 2 du tableau, en n'utilisant que les 2 ingrédients suivants:\n",
    "- ```append``` pour ajouter un élément à la fin du tableau\n",
    "- l'échange de deux éléments du tableau\n",
    "Attention, toutes les valeurs à partir de l'indice 2 doivent être décalées d'une unité vers la droite."
   ]
  },
  {
   "cell_type": "code",
   "execution_count": 15,
   "metadata": {
    "hide_input": false
   },
   "outputs": [
    {
     "data": {
      "text/html": [
       "\n",
       "    <iframe width=\"800\" height=\"500\" frameborder=\"0\"\n",
       "            src=\"http://pythontutor.com/iframe-embed.html#code=t+%3D+%5B5%2C+0%2C+4%2C+5%2C+2%2C+2%2C+3%5D%0A%0At.append%288%29%0Aj+%3D+len%28t%29+-+1%0A%0Awhile+j+%3E+2%3A%0A++++%23+On+%C3%A9change+les+valeurs+d%27indices+j+et+j+-+1%0A++++temp+%3D+t%5Bj%5D%0A++++t%5Bj%5D+%3D+t%5Bj+-+1%5D%0A++++t%5Bj+-+1%5D+%3D+temp%0A++++%0A++++j+%3D+j+-+1%0A&py=3\">\n",
       "    </iframe>\n",
       "    "
      ],
      "text/plain": [
       "<IPython.core.display.HTML object>"
      ]
     },
     "metadata": {},
     "output_type": "display_data"
    }
   ],
   "source": [
    "%%tutor\n",
    "t = [5, 0, 4, 5, 2, 2, 3]\n",
    "\n",
    "t.append(8)\n",
    "j = len(t) - 1\n",
    "\n",
    "while j > 2:\n",
    "    # On échange les valeurs d'indices j et j - 1\n",
    "    temp = t[j]\n",
    "    t[j] = t[j - 1]\n",
    "    t[j - 1] = temp\n",
    "    \n",
    "    j = j - 1"
   ]
  },
  {
   "cell_type": "markdown",
   "metadata": {},
   "source": [
    "#### Écriture à l'aide de fonctions"
   ]
  },
  {
   "cell_type": "markdown",
   "metadata": {},
   "source": [
    "Afin de documenter nos fonctions, nous allons non seulement utiliser des **docstrings** (ce que nous faisions depuis longtemps déjà), mais nous allons aussi inclure des **doctests**, qui sont des copies de portions de session interactive utilisant la fonction, et qui pourront être validées automatiquement par le module ```doctest```. Ces petits bouts de code servent à documenter la façon dont la fonction doit être utilisée, mais aussi quel est le résultat attendu."
   ]
  },
  {
   "cell_type": "code",
   "execution_count": 5,
   "metadata": {},
   "outputs": [],
   "source": [
    "def échange(tableau, i, j):\n",
    "    \"\"\"Échange en place les deux valeurs d'indices i et j dans le tableau.\n",
    "    \n",
    "    >>> t = [1, 2, 3, 4, 5]\n",
    "    >>> échange(t, 1, 3)\n",
    "    >>> t\n",
    "    [1, 4, 3, 2, 5]\n",
    "    \n",
    "    # Un échange sur le même indice ne produit aucun effet\n",
    "    >>> échange(t, 4, 4)\n",
    "    >>> t\n",
    "    [1, 4, 3, 2, 5]\n",
    "    \n",
    "    \"\"\"\n",
    "    \n",
    "    temp = tableau[i]\n",
    "    tableau[i] = tableau[j]\n",
    "    tableau[j] = temp"
   ]
  },
  {
   "cell_type": "code",
   "execution_count": 16,
   "metadata": {},
   "outputs": [],
   "source": [
    "def insère(tableau, indice, valeur):\n",
    "    \"\"\"Insère 'valeur' à la position donnée par 'indice'. Toutes les anciennes valeurs\n",
    "    à partir de cet indice sont décalées vers la droite d'une unité.\n",
    "    \n",
    "    Déclenche une erreur si l'indice fourni est en dehors du domaine du tableau,\n",
    "    excepté s'il s'agit de la dernière position (c'est-à-dire si indice est égal à la longueur\n",
    "    du tableau). Dans ce dernier cas, on obtiendra le même effet qu'avec append.\n",
    "    \n",
    "    >>> t=[4, 2, 7, 4, 9, 8, 1]\n",
    "    >>> insère(t, 2, 0)\n",
    "    >>> t\n",
    "    [4, 2, 0, 7, 4, 9, 8, 1]\n",
    "    \n",
    "    >>> t = []\n",
    "    >>> insère(t, 0, 5)\n",
    "    >>> t\n",
    "    [5]\n",
    "    \n",
    "    >>> insère(t, 1, 3)\n",
    "    >>> t\n",
    "    [5, 3]\n",
    "    \n",
    "    \n",
    "    >>> insère(t, 0, 2)\n",
    "    >>> t\n",
    "    [2, 5, 3]\n",
    "    \n",
    "    \"\"\"\n",
    "    \n",
    "    i = len(tableau)\n",
    "    tableau.append(valeur)\n",
    "    while i > indice:\n",
    "        échange(tableau, i, i - 1)\n",
    "        i = i - 1"
   ]
  },
  {
   "cell_type": "markdown",
   "metadata": {},
   "source": [
    "### Insertion dans un tableau déjà trié"
   ]
  },
  {
   "cell_type": "markdown",
   "metadata": {},
   "source": [
    "On suppose cette fois que le tableau est déjà trié dans l'ordre croissant. On souhaite insérer un nouvel élément, mais cette fois on ne précise pas la position: celle-ci doit être déterminée automatiquement afin que le tableau final soit encore trié dans l'ordre croissant. Aux cas d'égalités près, il y a une unique position possible pour insérer un élément donné (et en cas d'égalité, toutes les positions possibles aboutiront au même tableau final)."
   ]
  },
  {
   "cell_type": "markdown",
   "metadata": {},
   "source": [
    "####  Sur un exemple"
   ]
  },
  {
   "cell_type": "markdown",
   "metadata": {},
   "source": [
    "On considère le tableau ```t = [1, 2, 2, 4, 4, 4, 6, 9]```. Insérer dans ce tableau la valeur 3, en respectant les contraintes suivantes:\n",
    "- utilisation de ```append``` pour ajouter un élément à la fin du tableau;\n",
    "- échange de deux éléments du tableau;\n",
    "- le tableau final doit être trié dans l'ordre croissant."
   ]
  },
  {
   "cell_type": "code",
   "execution_count": 9,
   "metadata": {},
   "outputs": [
    {
     "data": {
      "text/html": [
       "\n",
       "    <iframe width=\"800\" height=\"500\" frameborder=\"0\"\n",
       "            src=\"http://pythontutor.com/iframe-embed.html#code=t+%3D+%5B1%2C+2%2C+2%2C+4%2C+4%2C+4%2C+6%2C+9%5D%0At.append%283%29%0Ai+%3D+len%28t%29+-+1%0Awhile+t%5Bi+-+1%5D+%3E+t%5Bi%5D%3A%0A++++temp+%3D+t%5Bi%5D%0A++++t%5Bi%5D+%3D+t%5Bi+-+1%5D%0A++++t%5Bi+-+1%5D+%3D+temp%0A++++%0A++++i+%3D+i+-+1%0A&py=3\">\n",
       "    </iframe>\n",
       "    "
      ],
      "text/plain": [
       "<IPython.core.display.HTML object>"
      ]
     },
     "metadata": {},
     "output_type": "display_data"
    }
   ],
   "source": [
    "%%tutor\n",
    "t = [1, 2, 2, 4, 4, 4, 6, 9]\n",
    "t.append(3)\n",
    "i = len(t) - 1\n",
    "while t[i - 1] > t[i]:\n",
    "    temp = t[i]\n",
    "    t[i] = t[i - 1]\n",
    "    t[i - 1] = temp\n",
    "    \n",
    "    i = i - 1"
   ]
  },
  {
   "cell_type": "markdown",
   "metadata": {},
   "source": [
    "#### À l'aide d'une fonction générale"
   ]
  },
  {
   "cell_type": "code",
   "execution_count": 10,
   "metadata": {},
   "outputs": [],
   "source": [
    "def insère_déjà_trié(tableau, valeur):\n",
    "    \"\"\"Insère 'valeur' dans 'tableau'.\n",
    "    \n",
    "    Contraintes:\n",
    "    - tableau est supposé trié dans l'ordre croissant au départ\n",
    "    - tableau doit encore être trié dans l'ordre croissant à l'arrivée.\n",
    "    \n",
    "    >>> t = [1, 2, 3, 4, 5]\n",
    "    \n",
    "    >>> insère_déjà_trié(t, 6)\n",
    "    >>> t\n",
    "    [1, 2, 3, 4, 5, 6]\n",
    "    \n",
    "    >>> insère_déjà_trié(t, 0)\n",
    "    >>> t\n",
    "    [0, 1, 2, 3, 4, 5, 6]\n",
    "    \n",
    "    >>> insère_déjà_trié(t, 2.5)\n",
    "    >>> t\n",
    "    [0, 1, 2, 2.5, 3, 4, 5, 6]\n",
    "    \n",
    "    >>> insère_déjà_trié(t, 4)\n",
    "    >>> insère_déjà_trié(t, 4)\n",
    "    >>> t\n",
    "    [0, 1, 2, 2.5, 3, 4, 4, 4, 5, 6]\n",
    "    \n",
    "    \"\"\"\n",
    "    \n",
    "    i = len(tableau)\n",
    "    tableau.append(valeur)\n",
    "    while i > 0 and tableau[i-1] > tableau[i]:\n",
    "        échange(tableau, i, i - 1)\n",
    "        i = i - 1"
   ]
  },
  {
   "cell_type": "markdown",
   "metadata": {},
   "source": [
    "## Algorithme de tri par insertion"
   ]
  },
  {
   "cell_type": "code",
   "execution_count": 12,
   "metadata": {},
   "outputs": [
    {
     "data": {
      "image/jpeg": "[encoded data removed]",
      "text/html": [
       "\n",
       "        <iframe\n",
       "            width=\"400\"\n",
       "            height=\"300\"\n",
       "            src=\"https://www.youtube.com/embed/ROalU379l3U\"\n",
       "            frameborder=\"0\"\n",
       "            allowfullscreen\n",
       "        ></iframe>\n",
       "        "
      ],
      "text/plain": [
       "<IPython.lib.display.YouTubeVideo at 0x7f83fc6062d0>"
      ]
     },
     "execution_count": 12,
     "metadata": {},
     "output_type": "execute_result"
    }
   ],
   "source": [
    "from IPython.lib.display import YouTubeVideo\n",
    "YouTubeVideo('ROalU379l3U')"
   ]
  },
  {
   "cell_type": "markdown",
   "metadata": {},
   "source": [
    "### Description informelle de l'algorithme"
   ]
  },
  {
   "cell_type": "markdown",
   "metadata": {},
   "source": [
    "Cet algorithme respecte les contraintes suivantes:\n",
    "- Tout comme pour l'algorithme de tri par sélection, à tout moment le début du tableau est définitivement trié, la fin restant à trier.\n",
    "- cet algorithme fonctionne en prenant le premier élément non trié (donc à droite de la partie triée), et en l'insérant dans la partie gauche (déjà triée) en réutilisant l'algorithme vu à la section précédente.\n",
    "- lorsque le dernier élément a été inséré, le tableau dans sa totalité sera alors trié."
   ]
  },
  {
   "cell_type": "markdown",
   "metadata": {},
   "source": [
    "### Sur un exemple"
   ]
  },
  {
   "cell_type": "markdown",
   "metadata": {},
   "source": [
    "On reprend le tableau de la vidéo: ```t = [3, 0, 1, 8, 7, 2, 5, 4, 9, 6]```. "
   ]
  },
  {
   "cell_type": "code",
   "execution_count": 13,
   "metadata": {},
   "outputs": [
    {
     "data": {
      "text/html": [
       "\n",
       "    <iframe width=\"800\" height=\"500\" frameborder=\"0\"\n",
       "            src=\"http://pythontutor.com/iframe-embed.html#code=t+%3D+%5B3%2C+0%2C+1%2C+8%2C+7%2C+2%2C+5%2C+4%2C+9%2C+6%5D%0Afor+i+in+range%281%2C+len%28t%29+%29%3A%0A++++j+%3D+i%0A++++while+j+%3E+0+and+t%5Bj-1%5D+%3E+t%5Bj%5D%3A%0A++++++++temp+%3D+t%5Bj%5D%0A++++++++t%5Bj%5D+%3D+t%5Bj+-+1%5D%0A++++++++t%5Bj+-+1%5D+%3D+temp%0A++++++++%0A++++++++j+%3D+j+-+1%0A&py=3\">\n",
       "    </iframe>\n",
       "    "
      ],
      "text/plain": [
       "<IPython.core.display.HTML object>"
      ]
     },
     "metadata": {},
     "output_type": "display_data"
    }
   ],
   "source": [
    "%%tutor\n",
    "t = [3, 0, 1, 8, 7, 2, 5, 4, 9, 6]\n",
    "for i in range(1, len(t) ):\n",
    "    j = i\n",
    "    while j > 0 and t[j-1] > t[j]:\n",
    "        temp = t[j]\n",
    "        t[j] = t[j - 1]\n",
    "        t[j - 1] = temp\n",
    "        \n",
    "        j = j - 1"
   ]
  },
  {
   "cell_type": "markdown",
   "metadata": {},
   "source": [
    "### À l'aide d'une fonction"
   ]
  },
  {
   "cell_type": "code",
   "execution_count": 19,
   "metadata": {},
   "outputs": [],
   "source": [
    "def tri_insertion(t):\n",
    "    \"\"\"Trie le tableau 't' dans l'ordre croissant.\n",
    "    \n",
    "    >>> t = [3, 0, 1, 8, 7, 2, 5, 4, 9, 6]\n",
    "    >>> tri_insertion(t)\n",
    "    >>> t\n",
    "    [0, 1, 2, 3, 4, 5, 6, 7, 8, 9]\n",
    "    \"\"\"\n",
    "    \n",
    "    # On démarre à 1 car le premier élément est déjà trié avec lui-même.\n",
    "    for i in range(1, len(t) ):\n",
    "        \n",
    "        # On va insérer l'élément d'indice i dans la partie plus à gauche du \n",
    "        # tableau (qui est déjà triée).\n",
    "        j = i\n",
    "        while j > 0 and t[j-1] > t[j]:\n",
    "            # On échange les éléments d'indices j-1 et j tant qu'ils sont dans \n",
    "            # le mauvais ordre\n",
    "            temp = t[j]\n",
    "            t[j] = t[j - 1]\n",
    "            t[j - 1] = temp\n",
    "\n",
    "            j = j - 1    "
   ]
  },
  {
   "cell_type": "markdown",
   "metadata": {},
   "source": [
    "### Généralisation de la fonction : ordre du tri et calcul de la clé de tri"
   ]
  },
  {
   "cell_type": "code",
   "execution_count": 24,
   "metadata": {},
   "outputs": [],
   "source": [
    "def tri_insertion(t, croissant=True, clé_de_tri=None):\n",
    "    \"\"\"Trie le tableau 't' dans l'ordre croissant.\n",
    "    \n",
    "    Le paramètre optionel 'croissant' est un booléen précisant si l'ordre\n",
    "    doit se faire selon l'ordre croissant.\n",
    "    \n",
    "    Le paramètre optionel 'clé_de_tri' est une fonction permettant de calculer\n",
    "    pour chaque valeur une clé de tri qui servira pour les comparaisons.\n",
    "    \n",
    "    >>> t = [3, 0, 1, 8, 7, 2, 5, 4, 9, 6]\n",
    "    >>> tri_insertion(t)\n",
    "    >>> t\n",
    "    [0, 1, 2, 3, 4, 5, 6, 7, 8, 9]\n",
    "\n",
    "    >>> t = [3, 0, 1, 8, 7, 2, 5, 4, 9, 6]\n",
    "    >>> tri_insertion(t, croissant=False)\n",
    "    >>> t\n",
    "    [9, 8, 7, 6, 5, 4, 3, 2, 1, 0]\n",
    "\n",
    "    \"\"\"\n",
    "    \n",
    "    # On démarre à 1 car le premier élément est déjà trié avec lui-même.\n",
    "    for i in range(1, len(t) ):\n",
    "        \n",
    "        # On va insérer l'élément d'indice i dans la partie plus à gauche du \n",
    "        # tableau (qui est déjà triée).\n",
    "        j = i\n",
    "        inséré = False\n",
    "        while j > 0 and inséré is False:\n",
    "            if clé_de_tri is True:\n",
    "                avant = clé_de_tri(t[j - 1])\n",
    "                élément = clé_de_tri(t[j])\n",
    "            else:\n",
    "                avant = t[j - 1]\n",
    "                élément = t[j]\n",
    "            \n",
    "            if (croissant is True and avant > élément) or (croissant is False and avant < élément):\n",
    "                # On échange les éléments d'indices j-1 et j tant qu'ils sont dans \n",
    "                # le mauvais ordre\n",
    "                temp = t[j]\n",
    "                t[j] = t[j - 1]\n",
    "                t[j - 1] = temp\n",
    "            else:\n",
    "                inséré = True\n",
    "\n",
    "            j = j - 1\n"
   ]
  },
  {
   "cell_type": "code",
   "execution_count": 27,
   "metadata": {},
   "outputs": [],
   "source": [
    "def copie_triée(t, croissant=True, clé_de_tri=None):\n",
    "    \"\"\"Rentourne une copie triée du tableau 't'.\n",
    "    \n",
    "    Le paramètre optionel 'croissant' est un booléen précisant si l'ordre\n",
    "    doit se faire selon l'ordre croissant.\n",
    "    \n",
    "    Le paramètre optionel 'clé_de_tri' est une fonction permettant de calculer\n",
    "    pour chaque valeur une clé de tri qui servira pour les comparaisons.\n",
    "    \n",
    "    >>> t = [3, 0, 1, 8, 7, 2, 5, 4, 9, 6]\n",
    "    >>> copie_triée(t)\n",
    "    [0, 1, 2, 3, 4, 5, 6, 7, 8, 9]\n",
    "    >>> t\n",
    "    [3, 0, 1, 8, 7, 2, 5, 4, 9, 6]\n",
    "\n",
    "    >>> copie_triée(t, croissant=False)\n",
    "    [9, 8, 7, 6, 5, 4, 3, 2, 1, 0]\n",
    "    >>> t\n",
    "    [3, 0, 1, 8, 7, 2, 5, 4, 9, 6]\n",
    "\n",
    "    \"\"\"\n",
    "    copie = [élément for élément in t]\n",
    "    \n",
    "    tri_insertion(copie, croissant, clé_de_tri)\n",
    "    \n",
    "    return copie"
   ]
  },
  {
   "cell_type": "code",
   "execution_count": null,
   "metadata": {},
   "outputs": [],
   "source": []
  }
 ],
 "metadata": {
  "hide_input": false,
  "kernelspec": {
   "display_name": "Python 3",
   "language": "python",
   "name": "python3"
  },
  "language_info": {
   "codemirror_mode": {
    "name": "ipython",
    "version": 3
   },
   "file_extension": ".py",
   "mimetype": "text/x-python",
   "name": "python",
   "nbconvert_exporter": "python",
   "pygments_lexer": "ipython3",
   "version": "3.7.4"
  },
  "toc": {
   "base_numbering": 1,
   "nav_menu": {},
   "number_sections": true,
   "sideBar": true,
   "skip_h1_title": false,
   "title_cell": "Table of Contents",
   "title_sidebar": "Contents",
   "toc_cell": false,
   "toc_position": {
    "height": "calc(100% - 180px)",
    "left": "10px",
    "top": "150px",
    "width": "189px"
   },
   "toc_section_display": true,
   "toc_window_display": true
  },
  "varInspector": {
   "cols": {
    "lenName": 16,
    "lenType": 16,
    "lenVar": 40
   },
   "kernels_config": {
    "python": {
     "delete_cmd_postfix": "",
     "delete_cmd_prefix": "del ",
     "library": "var_list.py",
     "varRefreshCmd": "print(var_dic_list())"
    },
    "r": {
     "delete_cmd_postfix": ") ",
     "delete_cmd_prefix": "rm(",
     "library": "var_list.r",
     "varRefreshCmd": "cat(var_dic_list()) "
    }
   },
   "types_to_exclude": [
    "module",
    "function",
    "builtin_function_or_method",
    "instance",
    "_Feature"
   ],
   "window_display": false
  }
 },
 "nbformat": 4,
 "nbformat_minor": 4
}
